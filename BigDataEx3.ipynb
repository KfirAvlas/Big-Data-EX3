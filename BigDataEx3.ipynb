{
 "cells": [
  {
   "cell_type": "markdown",
   "metadata": {},
   "source": [
    "<h2>Big Data - Ex3</h2>\n",
    "<h2>Avlas Kfir</h2>\n",
    "\n",
    "<h3>Part1 - Term frequency–inverse document frequency (tf-idf)</h3>\n",
    "\n",
    "BBC Datasets\n",
    "\n",
    "News article datasets, originating from BBC News\n",
    "* Consists of 2225 documents from the BBC news website corresponding to stories in five topical areas from 2004-2005.\n",
    "* Class Labels: 5 (business, entertainment, politics, sport, tech)"
   ]
  },
  {
   "cell_type": "code",
   "execution_count": 2,
   "metadata": {},
   "outputs": [],
   "source": [
    "import pandas as pd\n",
    "import math\n",
    "import collections\n",
    "from collections import Counter\n",
    "import operator\n",
    "import random\n",
    "from textblob import TextBlob\n",
    "\n",
    "pd.set_option(\"display.max_colwidth\", 1000)"
   ]
  },
  {
   "cell_type": "code",
   "execution_count": 3,
   "metadata": {},
   "outputs": [],
   "source": [
    "# Read data\n",
    "\n",
    "path = \"/home/spark-vm/PycharmProjects/BigDataCource/\"\n",
    "folder_name = \"BBC_News\""
   ]
  },
  {
   "cell_type": "code",
   "execution_count": 4,
   "metadata": {},
   "outputs": [],
   "source": [
    "# Read text files\n",
    "\n",
    "def read_directory(p_category: str):\n",
    "    return sc.wholeTextFiles(path + \"/\" + folder_name + \"/\" + p_category)"
   ]
  },
  {
   "cell_type": "code",
   "execution_count": 5,
   "metadata": {},
   "outputs": [],
   "source": [
    "# Since the dataset is divided into folders, \n",
    "# Set the file name with folder prefix in order to get uniqueness\n",
    "\n",
    "def set_file_name(t):\n",
    "    file_name = t[0]\n",
    "    text = t[1]\n",
    "    \n",
    "    new_file_name = file_name[file_name.index(folder_name) + len(folder_name) + 1:]\n",
    "    new_file_name = new_file_name.replace(\"/\", \"_\")\n",
    "    \n",
    "    return (new_file_name, text)"
   ]
  },
  {
   "cell_type": "code",
   "execution_count": 6,
   "metadata": {},
   "outputs": [],
   "source": [
    "def get_data():\n",
    "    d1 = read_directory(\"bsns\").map(set_file_name)\n",
    "    d2 = read_directory(\"entrtmnt\").map(set_file_name)\n",
    "    d3 = read_directory(\"pltcs\").map(set_file_name)\n",
    "    d4 = read_directory(\"sprt\").map(set_file_name)\n",
    "    d5 = read_directory(\"tech\").map(set_file_name)\n",
    "    \n",
    "    return d1.union(d2).union(d3).union(d4).union(d5)"
   ]
  },
  {
   "cell_type": "code",
   "execution_count": 7,
   "metadata": {},
   "outputs": [],
   "source": [
    "main_data = get_data()"
   ]
  },
  {
   "cell_type": "code",
   "execution_count": 8,
   "metadata": {},
   "outputs": [
    {
     "data": {
      "text/plain": [
       "[('bsns_382.txt',\n",
       "  'Ban on forced retirement under 65\\n\\nEmployers will no longer be able to force workers to retire before 65, unless they can justify it.\\n\\nThe government has announced that firms will be barred from 2006 from imposing arbitrary retirement ages. Under new European age discrimination rules, a default retirement age of 65 will be introduced. Workers will be permitted to request staying on beyond this compulsory retirement age, although employers will have the right to refuse. Trade and Industry Secretary Patricia Hewitt said people would not be forced to work longer than they wanted, saying the default age was not a statutory, compulsory retirement age. She said employers would be free to continue employing people for as long as they were competent.\\n\\nUnder age discrimination proposals from the Department of Trade and Industry last year workers were to be allowed to work on till 70 if they wished.\\n\\nBusiness leaders had opposed the plan as they said it would be too costly and cumbersome. The British Chambers of Commerce welcomed the latest proposal. \"This move today is the best of both worlds,\" it said. \"Employers have the ability to define the end point of the employer-employee relationship and employees have flexibility with a right to request to work past the age of 65.\" But Age Concern said imposing a retirement age of 65 was \"cowardly\" and a \"complete u-turn\". \"This makes a mockery of the Government\\'s so-called commitment to outlawing ageism, leaving the incoming age discrimination law to unravel,\" said Gordon Lishman, director general of Age Concern England . \"It is now inevitable that older people will mount legal challenges to the decision using European law.\" The decision will have no impact on the age at which workers can collect their state pension, the government has said.\\n')]"
      ]
     },
     "execution_count": 8,
     "metadata": {},
     "output_type": "execute_result"
    }
   ],
   "source": [
    "main_data.take(1)"
   ]
  },
  {
   "cell_type": "code",
   "execution_count": 9,
   "metadata": {},
   "outputs": [],
   "source": [
    "num_of_documents = main_data.count()"
   ]
  },
  {
   "cell_type": "code",
   "execution_count": 10,
   "metadata": {},
   "outputs": [
    {
     "data": {
      "text/plain": [
       "2225"
      ]
     },
     "execution_count": 10,
     "metadata": {},
     "output_type": "execute_result"
    }
   ],
   "source": [
    "num_of_documents"
   ]
  },
  {
   "cell_type": "markdown",
   "metadata": {},
   "source": [
    "<h3>Document vector representation</h3>\n",
    "\n",
    "Break text into individual linguistic units\n",
    "\n",
    "Clean and arrange :\n",
    "* Lower case\n",
    "* Remove English stop words\n",
    "* Remove English possession ('s)\n",
    "* Remove symbols and numbers\n",
    "* Remove empty strings\n",
    "* Remove one letter words\n",
    "* Singularize words\n",
    "* Sort by words"
   ]
  },
  {
   "cell_type": "code",
   "execution_count": 11,
   "metadata": {},
   "outputs": [],
   "source": [
    "def text_to_vec(t):\n",
    "    \n",
    "    file_name = t[0]\n",
    "    text = t[1]\n",
    "    words= [] \n",
    "    \n",
    "    for txt in text.split(\"\\n\"):       # Text to sentences\n",
    "        for word in txt.split(' '):    # Sentence to words\n",
    "            words.append(word.lower()) # Word to lower case\n",
    "    \n",
    "    return (file_name, words)"
   ]
  },
  {
   "cell_type": "code",
   "execution_count": 12,
   "metadata": {},
   "outputs": [],
   "source": [
    "data = main_data.map(text_to_vec)"
   ]
  },
  {
   "cell_type": "code",
   "execution_count": 13,
   "metadata": {},
   "outputs": [
    {
     "data": {
      "text/plain": [
       "[('bsns_382.txt',\n",
       "  ['ban',\n",
       "   'on',\n",
       "   'forced',\n",
       "   'retirement',\n",
       "   'under',\n",
       "   '65',\n",
       "   '',\n",
       "   'employers',\n",
       "   'will',\n",
       "   'no',\n",
       "   'longer',\n",
       "   'be',\n",
       "   'able',\n",
       "   'to',\n",
       "   'force',\n",
       "   'workers',\n",
       "   'to',\n",
       "   'retire',\n",
       "   'before',\n",
       "   '65,',\n",
       "   'unless',\n",
       "   'they',\n",
       "   'can',\n",
       "   'justify',\n",
       "   'it.',\n",
       "   '',\n",
       "   'the',\n",
       "   'government',\n",
       "   'has',\n",
       "   'announced',\n",
       "   'that',\n",
       "   'firms',\n",
       "   'will',\n",
       "   'be',\n",
       "   'barred',\n",
       "   'from',\n",
       "   '2006',\n",
       "   'from',\n",
       "   'imposing',\n",
       "   'arbitrary',\n",
       "   'retirement',\n",
       "   'ages.',\n",
       "   'under',\n",
       "   'new',\n",
       "   'european',\n",
       "   'age',\n",
       "   'discrimination',\n",
       "   'rules,',\n",
       "   'a',\n",
       "   'default',\n",
       "   'retirement',\n",
       "   'age',\n",
       "   'of',\n",
       "   '65',\n",
       "   'will',\n",
       "   'be',\n",
       "   'introduced.',\n",
       "   'workers',\n",
       "   'will',\n",
       "   'be',\n",
       "   'permitted',\n",
       "   'to',\n",
       "   'request',\n",
       "   'staying',\n",
       "   'on',\n",
       "   'beyond',\n",
       "   'this',\n",
       "   'compulsory',\n",
       "   'retirement',\n",
       "   'age,',\n",
       "   'although',\n",
       "   'employers',\n",
       "   'will',\n",
       "   'have',\n",
       "   'the',\n",
       "   'right',\n",
       "   'to',\n",
       "   'refuse.',\n",
       "   'trade',\n",
       "   'and',\n",
       "   'industry',\n",
       "   'secretary',\n",
       "   'patricia',\n",
       "   'hewitt',\n",
       "   'said',\n",
       "   'people',\n",
       "   'would',\n",
       "   'not',\n",
       "   'be',\n",
       "   'forced',\n",
       "   'to',\n",
       "   'work',\n",
       "   'longer',\n",
       "   'than',\n",
       "   'they',\n",
       "   'wanted,',\n",
       "   'saying',\n",
       "   'the',\n",
       "   'default',\n",
       "   'age',\n",
       "   'was',\n",
       "   'not',\n",
       "   'a',\n",
       "   'statutory,',\n",
       "   'compulsory',\n",
       "   'retirement',\n",
       "   'age.',\n",
       "   'she',\n",
       "   'said',\n",
       "   'employers',\n",
       "   'would',\n",
       "   'be',\n",
       "   'free',\n",
       "   'to',\n",
       "   'continue',\n",
       "   'employing',\n",
       "   'people',\n",
       "   'for',\n",
       "   'as',\n",
       "   'long',\n",
       "   'as',\n",
       "   'they',\n",
       "   'were',\n",
       "   'competent.',\n",
       "   '',\n",
       "   'under',\n",
       "   'age',\n",
       "   'discrimination',\n",
       "   'proposals',\n",
       "   'from',\n",
       "   'the',\n",
       "   'department',\n",
       "   'of',\n",
       "   'trade',\n",
       "   'and',\n",
       "   'industry',\n",
       "   'last',\n",
       "   'year',\n",
       "   'workers',\n",
       "   'were',\n",
       "   'to',\n",
       "   'be',\n",
       "   'allowed',\n",
       "   'to',\n",
       "   'work',\n",
       "   'on',\n",
       "   'till',\n",
       "   '70',\n",
       "   'if',\n",
       "   'they',\n",
       "   'wished.',\n",
       "   '',\n",
       "   'business',\n",
       "   'leaders',\n",
       "   'had',\n",
       "   'opposed',\n",
       "   'the',\n",
       "   'plan',\n",
       "   'as',\n",
       "   'they',\n",
       "   'said',\n",
       "   'it',\n",
       "   'would',\n",
       "   'be',\n",
       "   'too',\n",
       "   'costly',\n",
       "   'and',\n",
       "   'cumbersome.',\n",
       "   'the',\n",
       "   'british',\n",
       "   'chambers',\n",
       "   'of',\n",
       "   'commerce',\n",
       "   'welcomed',\n",
       "   'the',\n",
       "   'latest',\n",
       "   'proposal.',\n",
       "   '\"this',\n",
       "   'move',\n",
       "   'today',\n",
       "   'is',\n",
       "   'the',\n",
       "   'best',\n",
       "   'of',\n",
       "   'both',\n",
       "   'worlds,\"',\n",
       "   'it',\n",
       "   'said.',\n",
       "   '\"employers',\n",
       "   'have',\n",
       "   'the',\n",
       "   'ability',\n",
       "   'to',\n",
       "   'define',\n",
       "   'the',\n",
       "   'end',\n",
       "   'point',\n",
       "   'of',\n",
       "   'the',\n",
       "   'employer-employee',\n",
       "   'relationship',\n",
       "   'and',\n",
       "   'employees',\n",
       "   'have',\n",
       "   'flexibility',\n",
       "   'with',\n",
       "   'a',\n",
       "   'right',\n",
       "   'to',\n",
       "   'request',\n",
       "   'to',\n",
       "   'work',\n",
       "   'past',\n",
       "   'the',\n",
       "   'age',\n",
       "   'of',\n",
       "   '65.\"',\n",
       "   'but',\n",
       "   'age',\n",
       "   'concern',\n",
       "   'said',\n",
       "   'imposing',\n",
       "   'a',\n",
       "   'retirement',\n",
       "   'age',\n",
       "   'of',\n",
       "   '65',\n",
       "   'was',\n",
       "   '\"cowardly\"',\n",
       "   'and',\n",
       "   'a',\n",
       "   '\"complete',\n",
       "   'u-turn\".',\n",
       "   '\"this',\n",
       "   'makes',\n",
       "   'a',\n",
       "   'mockery',\n",
       "   'of',\n",
       "   'the',\n",
       "   \"government's\",\n",
       "   'so-called',\n",
       "   'commitment',\n",
       "   'to',\n",
       "   'outlawing',\n",
       "   'ageism,',\n",
       "   'leaving',\n",
       "   'the',\n",
       "   'incoming',\n",
       "   'age',\n",
       "   'discrimination',\n",
       "   'law',\n",
       "   'to',\n",
       "   'unravel,\"',\n",
       "   'said',\n",
       "   'gordon',\n",
       "   'lishman,',\n",
       "   'director',\n",
       "   'general',\n",
       "   'of',\n",
       "   'age',\n",
       "   'concern',\n",
       "   'england',\n",
       "   '.',\n",
       "   '\"it',\n",
       "   'is',\n",
       "   'now',\n",
       "   'inevitable',\n",
       "   'that',\n",
       "   'older',\n",
       "   'people',\n",
       "   'will',\n",
       "   'mount',\n",
       "   'legal',\n",
       "   'challenges',\n",
       "   'to',\n",
       "   'the',\n",
       "   'decision',\n",
       "   'using',\n",
       "   'european',\n",
       "   'law.\"',\n",
       "   'the',\n",
       "   'decision',\n",
       "   'will',\n",
       "   'have',\n",
       "   'no',\n",
       "   'impact',\n",
       "   'on',\n",
       "   'the',\n",
       "   'age',\n",
       "   'at',\n",
       "   'which',\n",
       "   'workers',\n",
       "   'can',\n",
       "   'collect',\n",
       "   'their',\n",
       "   'state',\n",
       "   'pension,',\n",
       "   'the',\n",
       "   'government',\n",
       "   'has',\n",
       "   'said.',\n",
       "   ''])]"
      ]
     },
     "execution_count": 13,
     "metadata": {},
     "output_type": "execute_result"
    }
   ],
   "source": [
    "data.take(1)"
   ]
  },
  {
   "cell_type": "code",
   "execution_count": 14,
   "metadata": {},
   "outputs": [],
   "source": [
    "# Broadcast stop words to all workers in order to improve efficiency\n",
    "\n",
    "from stop_words import get_stop_words\n",
    "\n",
    "stop_words = get_stop_words('en')\n",
    "\n",
    "broadcast_sw = sc.broadcast(stop_words)"
   ]
  },
  {
   "cell_type": "code",
   "execution_count": 15,
   "metadata": {},
   "outputs": [
    {
     "data": {
      "text/plain": [
       "['a',\n",
       " 'about',\n",
       " 'above',\n",
       " 'after',\n",
       " 'again',\n",
       " 'against',\n",
       " 'all',\n",
       " 'am',\n",
       " 'an',\n",
       " 'and',\n",
       " 'any',\n",
       " 'are',\n",
       " \"aren't\",\n",
       " 'as',\n",
       " 'at',\n",
       " 'be',\n",
       " 'because',\n",
       " 'been',\n",
       " 'before',\n",
       " 'being',\n",
       " 'below',\n",
       " 'between',\n",
       " 'both',\n",
       " 'but',\n",
       " 'by',\n",
       " \"can't\",\n",
       " 'cannot',\n",
       " 'could',\n",
       " \"couldn't\",\n",
       " 'did',\n",
       " \"didn't\",\n",
       " 'do',\n",
       " 'does',\n",
       " \"doesn't\",\n",
       " 'doing',\n",
       " \"don't\",\n",
       " 'down',\n",
       " 'during',\n",
       " 'each',\n",
       " 'few',\n",
       " 'for',\n",
       " 'from',\n",
       " 'further',\n",
       " 'had',\n",
       " \"hadn't\",\n",
       " 'has',\n",
       " \"hasn't\",\n",
       " 'have',\n",
       " \"haven't\",\n",
       " 'having',\n",
       " 'he',\n",
       " \"he'd\",\n",
       " \"he'll\",\n",
       " \"he's\",\n",
       " 'her',\n",
       " 'here',\n",
       " \"here's\",\n",
       " 'hers',\n",
       " 'herself',\n",
       " 'him',\n",
       " 'himself',\n",
       " 'his',\n",
       " 'how',\n",
       " \"how's\",\n",
       " 'i',\n",
       " \"i'd\",\n",
       " \"i'll\",\n",
       " \"i'm\",\n",
       " \"i've\",\n",
       " 'if',\n",
       " 'in',\n",
       " 'into',\n",
       " 'is',\n",
       " \"isn't\",\n",
       " 'it',\n",
       " \"it's\",\n",
       " 'its',\n",
       " 'itself',\n",
       " \"let's\",\n",
       " 'me',\n",
       " 'more',\n",
       " 'most',\n",
       " \"mustn't\",\n",
       " 'my',\n",
       " 'myself',\n",
       " 'no',\n",
       " 'nor',\n",
       " 'not',\n",
       " 'of',\n",
       " 'off',\n",
       " 'on',\n",
       " 'once',\n",
       " 'only',\n",
       " 'or',\n",
       " 'other',\n",
       " 'ought',\n",
       " 'our',\n",
       " 'ours',\n",
       " 'ourselves',\n",
       " 'out',\n",
       " 'over',\n",
       " 'own',\n",
       " 'same',\n",
       " \"shan't\",\n",
       " 'she',\n",
       " \"she'd\",\n",
       " \"she'll\",\n",
       " \"she's\",\n",
       " 'should',\n",
       " \"shouldn't\",\n",
       " 'so',\n",
       " 'some',\n",
       " 'such',\n",
       " 'than',\n",
       " 'that',\n",
       " \"that's\",\n",
       " 'the',\n",
       " 'their',\n",
       " 'theirs',\n",
       " 'them',\n",
       " 'themselves',\n",
       " 'then',\n",
       " 'there',\n",
       " \"there's\",\n",
       " 'these',\n",
       " 'they',\n",
       " \"they'd\",\n",
       " \"they'll\",\n",
       " \"they're\",\n",
       " \"they've\",\n",
       " 'this',\n",
       " 'those',\n",
       " 'through',\n",
       " 'to',\n",
       " 'too',\n",
       " 'under',\n",
       " 'until',\n",
       " 'up',\n",
       " 'very',\n",
       " 'was',\n",
       " \"wasn't\",\n",
       " 'we',\n",
       " \"we'd\",\n",
       " \"we'll\",\n",
       " \"we're\",\n",
       " \"we've\",\n",
       " 'were',\n",
       " \"weren't\",\n",
       " 'what',\n",
       " \"what's\",\n",
       " 'when',\n",
       " \"when's\",\n",
       " 'where',\n",
       " \"where's\",\n",
       " 'which',\n",
       " 'while',\n",
       " 'who',\n",
       " \"who's\",\n",
       " 'whom',\n",
       " 'why',\n",
       " \"why's\",\n",
       " 'with',\n",
       " \"won't\",\n",
       " 'would',\n",
       " \"wouldn't\",\n",
       " 'you',\n",
       " \"you'd\",\n",
       " \"you'll\",\n",
       " \"you're\",\n",
       " \"you've\",\n",
       " 'your',\n",
       " 'yours',\n",
       " 'yourself',\n",
       " 'yourselves']"
      ]
     },
     "execution_count": 15,
     "metadata": {},
     "output_type": "execute_result"
    }
   ],
   "source": [
    "broadcast_sw.value"
   ]
  },
  {
   "cell_type": "code",
   "execution_count": 16,
   "metadata": {},
   "outputs": [],
   "source": [
    "def remove_stop_words(d):\n",
    "    \n",
    "    file_name = d[0]\n",
    "    words = d[1]\n",
    "    w = []\n",
    "    \n",
    "    for word in words:\n",
    "        if word not in broadcast_sw.value:\n",
    "            w.append(word)\n",
    "    \n",
    "    return (file_name , w)"
   ]
  },
  {
   "cell_type": "code",
   "execution_count": 17,
   "metadata": {},
   "outputs": [],
   "source": [
    "data1 = data.map(remove_stop_words)"
   ]
  },
  {
   "cell_type": "code",
   "execution_count": 18,
   "metadata": {},
   "outputs": [
    {
     "data": {
      "text/plain": [
       "[('bsns_382.txt',\n",
       "  ['ban',\n",
       "   'forced',\n",
       "   'retirement',\n",
       "   '65',\n",
       "   '',\n",
       "   'employers',\n",
       "   'will',\n",
       "   'longer',\n",
       "   'able',\n",
       "   'force',\n",
       "   'workers',\n",
       "   'retire',\n",
       "   '65,',\n",
       "   'unless',\n",
       "   'can',\n",
       "   'justify',\n",
       "   'it.',\n",
       "   '',\n",
       "   'government',\n",
       "   'announced',\n",
       "   'firms',\n",
       "   'will',\n",
       "   'barred',\n",
       "   '2006',\n",
       "   'imposing',\n",
       "   'arbitrary',\n",
       "   'retirement',\n",
       "   'ages.',\n",
       "   'new',\n",
       "   'european',\n",
       "   'age',\n",
       "   'discrimination',\n",
       "   'rules,',\n",
       "   'default',\n",
       "   'retirement',\n",
       "   'age',\n",
       "   '65',\n",
       "   'will',\n",
       "   'introduced.',\n",
       "   'workers',\n",
       "   'will',\n",
       "   'permitted',\n",
       "   'request',\n",
       "   'staying',\n",
       "   'beyond',\n",
       "   'compulsory',\n",
       "   'retirement',\n",
       "   'age,',\n",
       "   'although',\n",
       "   'employers',\n",
       "   'will',\n",
       "   'right',\n",
       "   'refuse.',\n",
       "   'trade',\n",
       "   'industry',\n",
       "   'secretary',\n",
       "   'patricia',\n",
       "   'hewitt',\n",
       "   'said',\n",
       "   'people',\n",
       "   'forced',\n",
       "   'work',\n",
       "   'longer',\n",
       "   'wanted,',\n",
       "   'saying',\n",
       "   'default',\n",
       "   'age',\n",
       "   'statutory,',\n",
       "   'compulsory',\n",
       "   'retirement',\n",
       "   'age.',\n",
       "   'said',\n",
       "   'employers',\n",
       "   'free',\n",
       "   'continue',\n",
       "   'employing',\n",
       "   'people',\n",
       "   'long',\n",
       "   'competent.',\n",
       "   '',\n",
       "   'age',\n",
       "   'discrimination',\n",
       "   'proposals',\n",
       "   'department',\n",
       "   'trade',\n",
       "   'industry',\n",
       "   'last',\n",
       "   'year',\n",
       "   'workers',\n",
       "   'allowed',\n",
       "   'work',\n",
       "   'till',\n",
       "   '70',\n",
       "   'wished.',\n",
       "   '',\n",
       "   'business',\n",
       "   'leaders',\n",
       "   'opposed',\n",
       "   'plan',\n",
       "   'said',\n",
       "   'costly',\n",
       "   'cumbersome.',\n",
       "   'british',\n",
       "   'chambers',\n",
       "   'commerce',\n",
       "   'welcomed',\n",
       "   'latest',\n",
       "   'proposal.',\n",
       "   '\"this',\n",
       "   'move',\n",
       "   'today',\n",
       "   'best',\n",
       "   'worlds,\"',\n",
       "   'said.',\n",
       "   '\"employers',\n",
       "   'ability',\n",
       "   'define',\n",
       "   'end',\n",
       "   'point',\n",
       "   'employer-employee',\n",
       "   'relationship',\n",
       "   'employees',\n",
       "   'flexibility',\n",
       "   'right',\n",
       "   'request',\n",
       "   'work',\n",
       "   'past',\n",
       "   'age',\n",
       "   '65.\"',\n",
       "   'age',\n",
       "   'concern',\n",
       "   'said',\n",
       "   'imposing',\n",
       "   'retirement',\n",
       "   'age',\n",
       "   '65',\n",
       "   '\"cowardly\"',\n",
       "   '\"complete',\n",
       "   'u-turn\".',\n",
       "   '\"this',\n",
       "   'makes',\n",
       "   'mockery',\n",
       "   \"government's\",\n",
       "   'so-called',\n",
       "   'commitment',\n",
       "   'outlawing',\n",
       "   'ageism,',\n",
       "   'leaving',\n",
       "   'incoming',\n",
       "   'age',\n",
       "   'discrimination',\n",
       "   'law',\n",
       "   'unravel,\"',\n",
       "   'said',\n",
       "   'gordon',\n",
       "   'lishman,',\n",
       "   'director',\n",
       "   'general',\n",
       "   'age',\n",
       "   'concern',\n",
       "   'england',\n",
       "   '.',\n",
       "   '\"it',\n",
       "   'now',\n",
       "   'inevitable',\n",
       "   'older',\n",
       "   'people',\n",
       "   'will',\n",
       "   'mount',\n",
       "   'legal',\n",
       "   'challenges',\n",
       "   'decision',\n",
       "   'using',\n",
       "   'european',\n",
       "   'law.\"',\n",
       "   'decision',\n",
       "   'will',\n",
       "   'impact',\n",
       "   'age',\n",
       "   'workers',\n",
       "   'can',\n",
       "   'collect',\n",
       "   'state',\n",
       "   'pension,',\n",
       "   'government',\n",
       "   'said.',\n",
       "   ''])]"
      ]
     },
     "execution_count": 18,
     "metadata": {},
     "output_type": "execute_result"
    }
   ],
   "source": [
    "data1.take(1)"
   ]
  },
  {
   "cell_type": "code",
   "execution_count": 19,
   "metadata": {},
   "outputs": [],
   "source": [
    "import re \n",
    "\n",
    "def remove_symbols(t):\n",
    "    file_name = t[0]\n",
    "    words = t[1]\n",
    "    w = []\n",
    "    \n",
    "    for i in range(len(words)):\n",
    "        words[i] = words[i].replace(\"'s\", \"\")  # Remove english possession ('s)\n",
    "        word = re.sub(\"[^a-zA-Z\\s]\", ' ', words[i]).replace(' ','')\n",
    "        if word and len(word)>2:\n",
    "            w.append(word)\n",
    "    \n",
    "    return (file_name , w)"
   ]
  },
  {
   "cell_type": "code",
   "execution_count": 20,
   "metadata": {},
   "outputs": [],
   "source": [
    "data2 = data1.map(remove_symbols)"
   ]
  },
  {
   "cell_type": "code",
   "execution_count": 21,
   "metadata": {},
   "outputs": [],
   "source": [
    "def singularize(t):\n",
    "    file_name = t[0]\n",
    "    words = t[1]\n",
    "    \n",
    "    for i in range(len(words)):\n",
    "        blob = TextBlob(words[i])\n",
    "        singulars = [bw.singularize() for bw in blob.words]\n",
    "        if len(singulars) > 0:\n",
    "            words[i] = str(singulars[0])\n",
    "    \n",
    "    return (file_name, words)"
   ]
  },
  {
   "cell_type": "code",
   "execution_count": 22,
   "metadata": {},
   "outputs": [],
   "source": [
    "data3 = data2.map(singularize)"
   ]
  },
  {
   "cell_type": "code",
   "execution_count": 23,
   "metadata": {},
   "outputs": [],
   "source": [
    "documents = data3"
   ]
  },
  {
   "cell_type": "code",
   "execution_count": 24,
   "metadata": {},
   "outputs": [
    {
     "data": {
      "text/plain": [
       "[('bsns_382.txt',\n",
       "  ['ban',\n",
       "   'forced',\n",
       "   'retirement',\n",
       "   'employer',\n",
       "   'will',\n",
       "   'longer',\n",
       "   'able',\n",
       "   'force',\n",
       "   'worker',\n",
       "   'retire',\n",
       "   'unles',\n",
       "   'can',\n",
       "   'justify',\n",
       "   'government',\n",
       "   'announced',\n",
       "   'firm',\n",
       "   'will',\n",
       "   'barred',\n",
       "   'imposing',\n",
       "   'arbitrary',\n",
       "   'retirement',\n",
       "   'age',\n",
       "   'new',\n",
       "   'european',\n",
       "   'age',\n",
       "   'discrimination',\n",
       "   'rule',\n",
       "   'default',\n",
       "   'retirement',\n",
       "   'age',\n",
       "   'will',\n",
       "   'introduced',\n",
       "   'worker',\n",
       "   'will',\n",
       "   'permitted',\n",
       "   'request',\n",
       "   'staying',\n",
       "   'beyond',\n",
       "   'compulsory',\n",
       "   'retirement',\n",
       "   'age',\n",
       "   'although',\n",
       "   'employer',\n",
       "   'will',\n",
       "   'right',\n",
       "   'refuse',\n",
       "   'trade',\n",
       "   'industry',\n",
       "   'secretary',\n",
       "   'patricium',\n",
       "   'hewitt',\n",
       "   'said',\n",
       "   'person',\n",
       "   'forced',\n",
       "   'work',\n",
       "   'longer',\n",
       "   'wanted',\n",
       "   'saying',\n",
       "   'default',\n",
       "   'age',\n",
       "   'statutory',\n",
       "   'compulsory',\n",
       "   'retirement',\n",
       "   'age',\n",
       "   'said',\n",
       "   'employer',\n",
       "   'free',\n",
       "   'continue',\n",
       "   'employing',\n",
       "   'person',\n",
       "   'long',\n",
       "   'competent',\n",
       "   'age',\n",
       "   'discrimination',\n",
       "   'proposal',\n",
       "   'department',\n",
       "   'trade',\n",
       "   'industry',\n",
       "   'last',\n",
       "   'year',\n",
       "   'worker',\n",
       "   'allowed',\n",
       "   'work',\n",
       "   'till',\n",
       "   'wished',\n",
       "   'busines',\n",
       "   'leader',\n",
       "   'opposed',\n",
       "   'plan',\n",
       "   'said',\n",
       "   'costly',\n",
       "   'cumbersome',\n",
       "   'british',\n",
       "   'chamber',\n",
       "   'commerce',\n",
       "   'welcomed',\n",
       "   'latest',\n",
       "   'proposal',\n",
       "   'thi',\n",
       "   'move',\n",
       "   'today',\n",
       "   'best',\n",
       "   'world',\n",
       "   'said',\n",
       "   'employer',\n",
       "   'ability',\n",
       "   'define',\n",
       "   'end',\n",
       "   'point',\n",
       "   'employeremployee',\n",
       "   'relationship',\n",
       "   'employee',\n",
       "   'flexibility',\n",
       "   'right',\n",
       "   'request',\n",
       "   'work',\n",
       "   'past',\n",
       "   'age',\n",
       "   'age',\n",
       "   'concern',\n",
       "   'said',\n",
       "   'imposing',\n",
       "   'retirement',\n",
       "   'age',\n",
       "   'cowardly',\n",
       "   'complete',\n",
       "   'uturn',\n",
       "   'thi',\n",
       "   'make',\n",
       "   'mockery',\n",
       "   'government',\n",
       "   'socalled',\n",
       "   'commitment',\n",
       "   'outlawing',\n",
       "   'ageism',\n",
       "   'leaving',\n",
       "   'incoming',\n",
       "   'age',\n",
       "   'discrimination',\n",
       "   'law',\n",
       "   'unravel',\n",
       "   'said',\n",
       "   'gordon',\n",
       "   'lishman',\n",
       "   'director',\n",
       "   'general',\n",
       "   'age',\n",
       "   'concern',\n",
       "   'england',\n",
       "   'now',\n",
       "   'inevitable',\n",
       "   'older',\n",
       "   'person',\n",
       "   'will',\n",
       "   'mount',\n",
       "   'legal',\n",
       "   'challenge',\n",
       "   'decision',\n",
       "   'using',\n",
       "   'european',\n",
       "   'law',\n",
       "   'decision',\n",
       "   'will',\n",
       "   'impact',\n",
       "   'age',\n",
       "   'worker',\n",
       "   'can',\n",
       "   'collect',\n",
       "   'state',\n",
       "   'pension',\n",
       "   'government',\n",
       "   'said'])]"
      ]
     },
     "execution_count": 24,
     "metadata": {},
     "output_type": "execute_result"
    }
   ],
   "source": [
    "documents.take(1)"
   ]
  },
  {
   "cell_type": "markdown",
   "metadata": {},
   "source": [
    "Building an inverted index\n",
    "\n",
    "To gain the speed benefits of indexing at retrieval time, we have to build the index in advance.\n",
    "Index the documents that each term occurs in by creating an inverted index, consisting of a dictionary and postings. \n"
   ]
  },
  {
   "cell_type": "code",
   "execution_count": 25,
   "metadata": {},
   "outputs": [],
   "source": [
    "def invert(d):\n",
    "    \n",
    "    doc   = d[0]    \n",
    "    terms = d[1] \n",
    "    \n",
    "    return [(t,[doc]) for t in terms]"
   ]
  },
  {
   "cell_type": "code",
   "execution_count": 26,
   "metadata": {},
   "outputs": [],
   "source": [
    "# Invert from doc with [terms] to term with [docs]\n",
    "\n",
    "terms = documents.flatMap(invert).reduceByKey(lambda x,y: x+y)"
   ]
  },
  {
   "cell_type": "code",
   "execution_count": 28,
   "metadata": {},
   "outputs": [
    {
     "data": {
      "text/plain": [
       "[('retirement',\n",
       "  ['bsns_382.txt',\n",
       "   'bsns_382.txt',\n",
       "   'bsns_382.txt',\n",
       "   'bsns_382.txt',\n",
       "   'bsns_382.txt',\n",
       "   'bsns_382.txt',\n",
       "   'bsns_238.txt',\n",
       "   'bsns_326.txt',\n",
       "   'bsns_326.txt',\n",
       "   'bsns_249.txt',\n",
       "   'bsns_249.txt',\n",
       "   'bsns_368.txt',\n",
       "   'bsns_449.txt',\n",
       "   'bsns_090.txt',\n",
       "   'bsns_133.txt',\n",
       "   'bsns_255.txt',\n",
       "   'bsns_255.txt',\n",
       "   'bsns_255.txt',\n",
       "   'bsns_255.txt',\n",
       "   'bsns_041.txt',\n",
       "   'bsns_041.txt',\n",
       "   'bsns_452.txt',\n",
       "   'entrtmnt_048.txt',\n",
       "   'entrtmnt_177.txt',\n",
       "   'entrtmnt_044.txt',\n",
       "   'entrtmnt_269.txt',\n",
       "   'entrtmnt_269.txt',\n",
       "   'pltcs_380.txt',\n",
       "   'pltcs_042.txt',\n",
       "   'pltcs_042.txt',\n",
       "   'pltcs_132.txt',\n",
       "   'pltcs_132.txt',\n",
       "   'pltcs_132.txt',\n",
       "   'pltcs_132.txt',\n",
       "   'pltcs_132.txt',\n",
       "   'pltcs_357.txt',\n",
       "   'pltcs_406.txt',\n",
       "   'pltcs_294.txt',\n",
       "   'pltcs_089.txt',\n",
       "   'pltcs_089.txt',\n",
       "   'pltcs_156.txt',\n",
       "   'pltcs_159.txt',\n",
       "   'pltcs_317.txt',\n",
       "   'sprt_437.txt',\n",
       "   'sprt_241.txt',\n",
       "   'sprt_462.txt',\n",
       "   'sprt_347.txt',\n",
       "   'sprt_347.txt',\n",
       "   'sprt_413.txt',\n",
       "   'sprt_367.txt',\n",
       "   'sprt_431.txt',\n",
       "   'sprt_361.txt',\n",
       "   'sprt_115.txt',\n",
       "   'sprt_062.txt',\n",
       "   'sprt_375.txt',\n",
       "   'sprt_415.txt',\n",
       "   'sprt_460.txt',\n",
       "   'sprt_460.txt'])]"
      ]
     },
     "execution_count": 28,
     "metadata": {},
     "output_type": "execute_result"
    }
   ],
   "source": [
    "terms.take(1)"
   ]
  },
  {
   "cell_type": "code",
   "execution_count": 29,
   "metadata": {},
   "outputs": [],
   "source": [
    "# Build an Inverted Index structure:\n",
    "\n",
    "# Posting_list = Dict{doc_name:tf of term in doc}\n",
    "\n",
    "# Inverted Index = tuple(term,  tuple(df of term in corpus, posting_list) \n",
    "\n",
    "def inverted_index(t):\n",
    "    \n",
    "    term = t[0]\n",
    "    docs = dict(Counter(t[1]))\n",
    "                \n",
    "    dft = len(docs)\n",
    "                \n",
    "    return (term, (dft, docs))"
   ]
  },
  {
   "cell_type": "code",
   "execution_count": 30,
   "metadata": {},
   "outputs": [],
   "source": [
    "inverted_index = terms.map(inverted_index)"
   ]
  },
  {
   "cell_type": "code",
   "execution_count": 31,
   "metadata": {},
   "outputs": [
    {
     "data": {
      "text/plain": [
       "[('retirement',\n",
       "  (38,\n",
       "   {'bsns_382.txt': 6,\n",
       "    'bsns_238.txt': 1,\n",
       "    'bsns_326.txt': 2,\n",
       "    'bsns_249.txt': 2,\n",
       "    'bsns_368.txt': 1,\n",
       "    'bsns_449.txt': 1,\n",
       "    'bsns_090.txt': 1,\n",
       "    'bsns_133.txt': 1,\n",
       "    'bsns_255.txt': 4,\n",
       "    'bsns_041.txt': 2,\n",
       "    'bsns_452.txt': 1,\n",
       "    'entrtmnt_048.txt': 1,\n",
       "    'entrtmnt_177.txt': 1,\n",
       "    'entrtmnt_044.txt': 1,\n",
       "    'entrtmnt_269.txt': 2,\n",
       "    'pltcs_380.txt': 1,\n",
       "    'pltcs_042.txt': 2,\n",
       "    'pltcs_132.txt': 5,\n",
       "    'pltcs_357.txt': 1,\n",
       "    'pltcs_406.txt': 1,\n",
       "    'pltcs_294.txt': 1,\n",
       "    'pltcs_089.txt': 2,\n",
       "    'pltcs_156.txt': 1,\n",
       "    'pltcs_159.txt': 1,\n",
       "    'pltcs_317.txt': 1,\n",
       "    'sprt_437.txt': 1,\n",
       "    'sprt_241.txt': 1,\n",
       "    'sprt_462.txt': 1,\n",
       "    'sprt_347.txt': 2,\n",
       "    'sprt_413.txt': 1,\n",
       "    'sprt_367.txt': 1,\n",
       "    'sprt_431.txt': 1,\n",
       "    'sprt_361.txt': 1,\n",
       "    'sprt_115.txt': 1,\n",
       "    'sprt_062.txt': 1,\n",
       "    'sprt_375.txt': 1,\n",
       "    'sprt_415.txt': 1,\n",
       "    'sprt_460.txt': 2}))]"
      ]
     },
     "execution_count": 31,
     "metadata": {},
     "output_type": "execute_result"
    }
   ],
   "source": [
    "inverted_index.take(1)"
   ]
  },
  {
   "cell_type": "code",
   "execution_count": 32,
   "metadata": {},
   "outputs": [],
   "source": [
    "inverted_indexMap = inverted_index.collectAsMap()"
   ]
  },
  {
   "cell_type": "code",
   "execution_count": 33,
   "metadata": {},
   "outputs": [
    {
     "data": {
      "text/plain": [
       "(38,\n",
       " {'bsns_382.txt': 6,\n",
       "  'bsns_238.txt': 1,\n",
       "  'bsns_326.txt': 2,\n",
       "  'bsns_249.txt': 2,\n",
       "  'bsns_368.txt': 1,\n",
       "  'bsns_449.txt': 1,\n",
       "  'bsns_090.txt': 1,\n",
       "  'bsns_133.txt': 1,\n",
       "  'bsns_255.txt': 4,\n",
       "  'bsns_041.txt': 2,\n",
       "  'bsns_452.txt': 1,\n",
       "  'entrtmnt_048.txt': 1,\n",
       "  'entrtmnt_177.txt': 1,\n",
       "  'entrtmnt_044.txt': 1,\n",
       "  'entrtmnt_269.txt': 2,\n",
       "  'pltcs_380.txt': 1,\n",
       "  'pltcs_042.txt': 2,\n",
       "  'pltcs_132.txt': 5,\n",
       "  'pltcs_357.txt': 1,\n",
       "  'pltcs_406.txt': 1,\n",
       "  'pltcs_294.txt': 1,\n",
       "  'pltcs_089.txt': 2,\n",
       "  'pltcs_156.txt': 1,\n",
       "  'pltcs_159.txt': 1,\n",
       "  'pltcs_317.txt': 1,\n",
       "  'sprt_437.txt': 1,\n",
       "  'sprt_241.txt': 1,\n",
       "  'sprt_462.txt': 1,\n",
       "  'sprt_347.txt': 2,\n",
       "  'sprt_413.txt': 1,\n",
       "  'sprt_367.txt': 1,\n",
       "  'sprt_431.txt': 1,\n",
       "  'sprt_361.txt': 1,\n",
       "  'sprt_115.txt': 1,\n",
       "  'sprt_062.txt': 1,\n",
       "  'sprt_375.txt': 1,\n",
       "  'sprt_415.txt': 1,\n",
       "  'sprt_460.txt': 2})"
      ]
     },
     "execution_count": 33,
     "metadata": {},
     "output_type": "execute_result"
    }
   ],
   "source": [
    "inverted_indexMap[\"retirement\"]"
   ]
  },
  {
   "cell_type": "code",
   "execution_count": 34,
   "metadata": {},
   "outputs": [],
   "source": [
    "vocabulary = list(inverted_indexMap.keys())"
   ]
  },
  {
   "cell_type": "markdown",
   "metadata": {},
   "source": [
    "<h3>Inverted index</h3>"
   ]
  },
  {
   "cell_type": "code",
   "execution_count": 38,
   "metadata": {},
   "outputs": [],
   "source": [
    "inv_ind = inverted_index.map(lambda t:(t[0], list(t[1][1].keys())))"
   ]
  },
  {
   "cell_type": "code",
   "execution_count": 39,
   "metadata": {},
   "outputs": [
    {
     "data": {
      "text/html": [
       "<div>\n",
       "<style scoped>\n",
       "    .dataframe tbody tr th:only-of-type {\n",
       "        vertical-align: middle;\n",
       "    }\n",
       "\n",
       "    .dataframe tbody tr th {\n",
       "        vertical-align: top;\n",
       "    }\n",
       "\n",
       "    .dataframe thead th {\n",
       "        text-align: right;\n",
       "    }\n",
       "</style>\n",
       "<table border=\"1\" class=\"dataframe\">\n",
       "  <thead>\n",
       "    <tr style=\"text-align: right;\">\n",
       "      <th></th>\n",
       "      <th>Term</th>\n",
       "      <th>Docs</th>\n",
       "    </tr>\n",
       "  </thead>\n",
       "  <tbody>\n",
       "    <tr>\n",
       "      <th>0</th>\n",
       "      <td>retirement</td>\n",
       "      <td>[bsns_382.txt, bsns_238.txt, bsns_326.txt, bsns_249.txt, bsns_368.txt, bsns_449.txt, bsns_090.txt, bsns_133.txt, bsns_255.txt, bsns_041.txt, bsns_452.txt, entrtmnt_048.txt, entrtmnt_177.txt, entrtmnt_044.txt, entrtmnt_269.txt, pltcs_380.txt, pltcs_042.txt, pltcs_132.txt, pltcs_357.txt, pltcs_406.txt, pltcs_294.txt, pltcs_089.txt, pltcs_156.txt, pltcs_159.txt, pltcs_317.txt, sprt_437.txt, sprt_241.txt, sprt_462.txt, sprt_347.txt, sprt_413.txt, sprt_367.txt, sprt_431.txt, sprt_361.txt, sprt_115.txt, sprt_062.txt, sprt_375.txt, sprt_415.txt, sprt_460.txt]</td>\n",
       "    </tr>\n",
       "    <tr>\n",
       "      <th>1</th>\n",
       "      <td>retire</td>\n",
       "      <td>[bsns_382.txt, bsns_238.txt, bsns_041.txt, bsns_227.txt, entrtmnt_016.txt, entrtmnt_117.txt, pltcs_045.txt, sprt_057.txt, sprt_484.txt, sprt_185.txt, sprt_413.txt, sprt_367.txt, sprt_028.txt, sprt_500.txt, sprt_031.txt, sprt_144.txt, sprt_068.txt, sprt_459.txt, sprt_156.txt, sprt_480.txt, sprt_421.txt]</td>\n",
       "    </tr>\n",
       "    <tr>\n",
       "      <th>2</th>\n",
       "      <td>government</td>\n",
       "      <td>[bsns_382.txt, bsns_272.txt, bsns_002.txt, bsns_491.txt, bsns_110.txt, bsns_246.txt, bsns_322.txt, bsns_245.txt, bsns_433.txt, bsns_437.txt, bsns_339.txt, bsns_016.txt, bsns_195.txt, bsns_411.txt, bsns_303.txt, bsns_409.txt, bsns_248.txt, bsns_286.txt, bsns_023.txt, bsns_478.txt, bsns_241.txt, bsns_200.txt, bsns_187.txt, bsns_428.txt, bsns_083.txt, bsns_178.txt, bsns_104.txt, bsns_328.txt, bsns_308.txt, bsns_022.txt, bsns_489.txt, bsns_266.txt, bsns_345.txt, bsns_347.txt, bsns_501.txt, bsns_045.txt, bsns_161.txt, bsns_493.txt, bsns_277.txt, bsns_502.txt, bsns_388.txt, bsns_096.txt, bsns_093.txt, bsns_029.txt, bsns_498.txt, bsns_326.txt, bsns_487.txt, bsns_432.txt, bsns_380.txt, bsns_139.txt, bsns_146.txt, bsns_260.txt, bsns_199.txt, bsns_048.txt, bsns_163.txt, bsns_164.txt, bsns_445.txt, bsns_426.txt, bsns_344.txt, bsns_072.txt, bsns_183.txt, bsns_273.txt, bsns_341.txt, bsns_497.txt, bsns_025.txt, bsns_033.txt, bsns_231.txt, bsns_340.txt, bsns_120.txt, bsns_174.txt, bsns_389.txt, b...</td>\n",
       "    </tr>\n",
       "    <tr>\n",
       "      <th>3</th>\n",
       "      <td>announced</td>\n",
       "      <td>[bsns_382.txt, bsns_036.txt, bsns_433.txt, bsns_437.txt, bsns_217.txt, bsns_187.txt, bsns_425.txt, bsns_502.txt, bsns_096.txt, bsns_487.txt, bsns_084.txt, bsns_149.txt, bsns_040.txt, bsns_122.txt, bsns_201.txt, bsns_445.txt, bsns_404.txt, bsns_497.txt, bsns_120.txt, bsns_325.txt, bsns_335.txt, bsns_216.txt, bsns_414.txt, bsns_424.txt, bsns_422.txt, bsns_278.txt, bsns_304.txt, bsns_211.txt, bsns_504.txt, bsns_499.txt, bsns_314.txt, bsns_090.txt, bsns_094.txt, bsns_473.txt, bsns_455.txt, bsns_044.txt, bsns_014.txt, bsns_467.txt, bsns_103.txt, bsns_307.txt, bsns_221.txt, bsns_130.txt, bsns_068.txt, bsns_011.txt, bsns_051.txt, bsns_218.txt, bsns_049.txt, bsns_111.txt, bsns_393.txt, bsns_109.txt, bsns_206.txt, bsns_198.txt, bsns_263.txt, bsns_021.txt, bsns_223.txt, bsns_054.txt, bsns_159.txt, bsns_254.txt, bsns_460.txt, entrtmnt_272.txt, entrtmnt_246.txt, entrtmnt_027.txt, entrtmnt_362.txt, entrtmnt_143.txt, entrtmnt_187.txt, entrtmnt_185.txt, entrtmnt_034.txt, entrtmnt_367.txt, entrtmn...</td>\n",
       "    </tr>\n",
       "    <tr>\n",
       "      <th>4</th>\n",
       "      <td>imposing</td>\n",
       "      <td>[bsns_382.txt, bsns_036.txt, bsns_314.txt, pltcs_290.txt, pltcs_334.txt, sprt_023.txt, sprt_048.txt, tech_275.txt]</td>\n",
       "    </tr>\n",
       "    <tr>\n",
       "      <th>...</th>\n",
       "      <td>...</td>\n",
       "      <td>...</td>\n",
       "    </tr>\n",
       "    <tr>\n",
       "      <th>26741</th>\n",
       "      <td>willpower</td>\n",
       "      <td>[tech_401.txt]</td>\n",
       "    </tr>\n",
       "    <tr>\n",
       "      <th>26742</th>\n",
       "      <td>hr</td>\n",
       "      <td>[tech_401.txt]</td>\n",
       "    </tr>\n",
       "    <tr>\n",
       "      <th>26743</th>\n",
       "      <td>siliconbased</td>\n",
       "      <td>[tech_329.txt]</td>\n",
       "    </tr>\n",
       "    <tr>\n",
       "      <th>26744</th>\n",
       "      <td>citizenbased</td>\n",
       "      <td>[tech_010.txt]</td>\n",
       "    </tr>\n",
       "    <tr>\n",
       "      <th>26745</th>\n",
       "      <td>unfeasible</td>\n",
       "      <td>[tech_152.txt]</td>\n",
       "    </tr>\n",
       "  </tbody>\n",
       "</table>\n",
       "<p>26746 rows × 2 columns</p>\n",
       "</div>"
      ],
      "text/plain": [
       "               Term  \\\n",
       "0        retirement   \n",
       "1            retire   \n",
       "2        government   \n",
       "3         announced   \n",
       "4          imposing   \n",
       "...             ...   \n",
       "26741     willpower   \n",
       "26742            hr   \n",
       "26743  siliconbased   \n",
       "26744  citizenbased   \n",
       "26745    unfeasible   \n",
       "\n",
       "                                                                                                                                                                                                                                                                                                                                                                                                                                                                                                                                                                                                                                                                                                                                                                                                                                                                                                                                                                                                                                          Docs  \n",
       "0                                                                                                                                                                                                                                                                                                                                                                                                                                                               [bsns_382.txt, bsns_238.txt, bsns_326.txt, bsns_249.txt, bsns_368.txt, bsns_449.txt, bsns_090.txt, bsns_133.txt, bsns_255.txt, bsns_041.txt, bsns_452.txt, entrtmnt_048.txt, entrtmnt_177.txt, entrtmnt_044.txt, entrtmnt_269.txt, pltcs_380.txt, pltcs_042.txt, pltcs_132.txt, pltcs_357.txt, pltcs_406.txt, pltcs_294.txt, pltcs_089.txt, pltcs_156.txt, pltcs_159.txt, pltcs_317.txt, sprt_437.txt, sprt_241.txt, sprt_462.txt, sprt_347.txt, sprt_413.txt, sprt_367.txt, sprt_431.txt, sprt_361.txt, sprt_115.txt, sprt_062.txt, sprt_375.txt, sprt_415.txt, sprt_460.txt]  \n",
       "1                                                                                                                                                                                                                                                                                                                                                                                                                                                                                                                                                                                                                                                                                                                              [bsns_382.txt, bsns_238.txt, bsns_041.txt, bsns_227.txt, entrtmnt_016.txt, entrtmnt_117.txt, pltcs_045.txt, sprt_057.txt, sprt_484.txt, sprt_185.txt, sprt_413.txt, sprt_367.txt, sprt_028.txt, sprt_500.txt, sprt_031.txt, sprt_144.txt, sprt_068.txt, sprt_459.txt, sprt_156.txt, sprt_480.txt, sprt_421.txt]  \n",
       "2      [bsns_382.txt, bsns_272.txt, bsns_002.txt, bsns_491.txt, bsns_110.txt, bsns_246.txt, bsns_322.txt, bsns_245.txt, bsns_433.txt, bsns_437.txt, bsns_339.txt, bsns_016.txt, bsns_195.txt, bsns_411.txt, bsns_303.txt, bsns_409.txt, bsns_248.txt, bsns_286.txt, bsns_023.txt, bsns_478.txt, bsns_241.txt, bsns_200.txt, bsns_187.txt, bsns_428.txt, bsns_083.txt, bsns_178.txt, bsns_104.txt, bsns_328.txt, bsns_308.txt, bsns_022.txt, bsns_489.txt, bsns_266.txt, bsns_345.txt, bsns_347.txt, bsns_501.txt, bsns_045.txt, bsns_161.txt, bsns_493.txt, bsns_277.txt, bsns_502.txt, bsns_388.txt, bsns_096.txt, bsns_093.txt, bsns_029.txt, bsns_498.txt, bsns_326.txt, bsns_487.txt, bsns_432.txt, bsns_380.txt, bsns_139.txt, bsns_146.txt, bsns_260.txt, bsns_199.txt, bsns_048.txt, bsns_163.txt, bsns_164.txt, bsns_445.txt, bsns_426.txt, bsns_344.txt, bsns_072.txt, bsns_183.txt, bsns_273.txt, bsns_341.txt, bsns_497.txt, bsns_025.txt, bsns_033.txt, bsns_231.txt, bsns_340.txt, bsns_120.txt, bsns_174.txt, bsns_389.txt, b...  \n",
       "3      [bsns_382.txt, bsns_036.txt, bsns_433.txt, bsns_437.txt, bsns_217.txt, bsns_187.txt, bsns_425.txt, bsns_502.txt, bsns_096.txt, bsns_487.txt, bsns_084.txt, bsns_149.txt, bsns_040.txt, bsns_122.txt, bsns_201.txt, bsns_445.txt, bsns_404.txt, bsns_497.txt, bsns_120.txt, bsns_325.txt, bsns_335.txt, bsns_216.txt, bsns_414.txt, bsns_424.txt, bsns_422.txt, bsns_278.txt, bsns_304.txt, bsns_211.txt, bsns_504.txt, bsns_499.txt, bsns_314.txt, bsns_090.txt, bsns_094.txt, bsns_473.txt, bsns_455.txt, bsns_044.txt, bsns_014.txt, bsns_467.txt, bsns_103.txt, bsns_307.txt, bsns_221.txt, bsns_130.txt, bsns_068.txt, bsns_011.txt, bsns_051.txt, bsns_218.txt, bsns_049.txt, bsns_111.txt, bsns_393.txt, bsns_109.txt, bsns_206.txt, bsns_198.txt, bsns_263.txt, bsns_021.txt, bsns_223.txt, bsns_054.txt, bsns_159.txt, bsns_254.txt, bsns_460.txt, entrtmnt_272.txt, entrtmnt_246.txt, entrtmnt_027.txt, entrtmnt_362.txt, entrtmnt_143.txt, entrtmnt_187.txt, entrtmnt_185.txt, entrtmnt_034.txt, entrtmnt_367.txt, entrtmn...  \n",
       "4                                                                                                                                                                                                                                                                                                                                                                                                                                                                                                                                                                                                                                                                                                                                                                                                                                                                                                                           [bsns_382.txt, bsns_036.txt, bsns_314.txt, pltcs_290.txt, pltcs_334.txt, sprt_023.txt, sprt_048.txt, tech_275.txt]  \n",
       "...                                                                                                                                                                                                                                                                                                                                                                                                                                                                                                                                                                                                                                                                                                                                                                                                                                                                                                                                                                                                                                        ...  \n",
       "26741                                                                                                                                                                                                                                                                                                                                                                                                                                                                                                                                                                                                                                                                                                                                                                                                                                                                                                                                                                                                                           [tech_401.txt]  \n",
       "26742                                                                                                                                                                                                                                                                                                                                                                                                                                                                                                                                                                                                                                                                                                                                                                                                                                                                                                                                                                                                                           [tech_401.txt]  \n",
       "26743                                                                                                                                                                                                                                                                                                                                                                                                                                                                                                                                                                                                                                                                                                                                                                                                                                                                                                                                                                                                                           [tech_329.txt]  \n",
       "26744                                                                                                                                                                                                                                                                                                                                                                                                                                                                                                                                                                                                                                                                                                                                                                                                                                                                                                                                                                                                                           [tech_010.txt]  \n",
       "26745                                                                                                                                                                                                                                                                                                                                                                                                                                                                                                                                                                                                                                                                                                                                                                                                                                                                                                                                                                                                                           [tech_152.txt]  \n",
       "\n",
       "[26746 rows x 2 columns]"
      ]
     },
     "execution_count": 39,
     "metadata": {},
     "output_type": "execute_result"
    }
   ],
   "source": [
    "cols = [\"Term\", \"Docs\"]\n",
    "inv_ind = inv_ind.toDF(cols)\n",
    "inv_ind.toPandas()"
   ]
  },
  {
   "cell_type": "code",
   "execution_count": 40,
   "metadata": {},
   "outputs": [],
   "source": [
    "def tf(d):\n",
    "    \n",
    "    doc   = d[0]\n",
    "    terms = Counter(d[1])\n",
    "   \n",
    "    return(doc, list(terms.keys()), list(terms.values()))"
   ]
  },
  {
   "cell_type": "code",
   "execution_count": 41,
   "metadata": {},
   "outputs": [],
   "source": [
    "tf = documents.map(tf)"
   ]
  },
  {
   "cell_type": "markdown",
   "metadata": {},
   "source": [
    "<h3>Term frequency</h3>\n",
    "\n",
    "The number of times a term occurs in a document"
   ]
  },
  {
   "cell_type": "code",
   "execution_count": 42,
   "metadata": {},
   "outputs": [
    {
     "data": {
      "text/html": [
       "<div>\n",
       "<style scoped>\n",
       "    .dataframe tbody tr th:only-of-type {\n",
       "        vertical-align: middle;\n",
       "    }\n",
       "\n",
       "    .dataframe tbody tr th {\n",
       "        vertical-align: top;\n",
       "    }\n",
       "\n",
       "    .dataframe thead th {\n",
       "        text-align: right;\n",
       "    }\n",
       "</style>\n",
       "<table border=\"1\" class=\"dataframe\">\n",
       "  <thead>\n",
       "    <tr style=\"text-align: right;\">\n",
       "      <th></th>\n",
       "      <th>Doc</th>\n",
       "      <th>Terms</th>\n",
       "      <th>TF(t,d)</th>\n",
       "    </tr>\n",
       "  </thead>\n",
       "  <tbody>\n",
       "    <tr>\n",
       "      <th>0</th>\n",
       "      <td>bsns_382.txt</td>\n",
       "      <td>[ban, forced, retirement, employer, will, longer, able, force, worker, retire, unles, can, justify, government, announced, firm, barred, imposing, arbitrary, age, new, european, discrimination, rule, default, introduced, permitted, request, staying, beyond, compulsory, although, right, refuse, trade, industry, secretary, patricium, hewitt, said, person, work, wanted, saying, statutory, free, continue, employing, long, competent, proposal, department, last, year, allowed, till, wished, busines, leader, opposed, plan, costly, cumbersome, british, chamber, commerce, welcomed, latest, thi, move, today, best, world, ability, define, end, point, employeremployee, relationship, employee, flexibility, past, concern, cowardly, complete, uturn, make, mockery, socalled, commitment, outlawing, ageism, leaving, incoming, law, unravel, gordon, lishman, director, general, ...]</td>\n",
       "      <td>[1, 2, 6, 4, 7, 2, 1, 1, 4, 1, 1, 2, 1, 3, 1, 1, 1, 2, 1, 13, 1, 2, 3, 1, 2, 1, 1, 2, 1, 1, 2, 1, 2, 1, 2, 2, 1, 1, 1, 7, 3, 3, 1, 1, 1, 1, 1, 1, 1, 1, 2, 1, 1, 1, 1, 1, 1, 1, 1, 1, 1, 1, 1, 1, 1, 1, 1, 1, 2, 1, 1, 1, 1, 1, 1, 1, 1, 1, 1, 1, 1, 1, 2, 1, 1, 1, 1, 1, 1, 1, 1, 1, 1, 1, 2, 1, 1, 1, 1, 1, ...]</td>\n",
       "    </tr>\n",
       "    <tr>\n",
       "      <th>1</th>\n",
       "      <td>bsns_050.txt</td>\n",
       "      <td>[bad, weather, hit, nestle, sale, combination, rising, raw, material, cost, sluggish, european, economy, swiss, food, drink, giant, revenue, dipped, franc, ice, cream, mineral, water, dampened, wet, summer, however, profit, margin, helped, strong, performance, america, china, raise, dividend, paying, back, debt, said, strength, dollar, disposal, business, challenging, trading, condition, europe, dented, poor, acros, continent, contrast, prolonged, heat, wave, severely, affected, demand, bottled, also, fell, although, chocolate, coffee, frozen, good, petcare, product, performed, better, elsewhere, enjoyed, exceptional, year, north, outperforming, market, term, growth, added, strongly, africa, asium, despite, impact, high, oil, price, political, instability, total, earning, interest, remained, broadly, flat, past, company, ...]</td>\n",
       "      <td>[2, 2, 2, 12, 6, 1, 1, 1, 1, 1, 1, 1, 1, 4, 1, 1, 1, 1, 1, 3, 2, 2, 2, 3, 1, 1, 2, 1, 2, 2, 1, 1, 1, 2, 1, 1, 2, 1, 2, 1, 2, 1, 1, 1, 1, 1, 2, 1, 1, 1, 1, 1, 1, 1, 1, 1, 1, 1, 1, 1, 1, 1, 1, 2, 1, 1, 1, 1, 1, 1, 2, 1, 1, 1, 1, 2, 1, 1, 1, 1, 2, 1, 1, 1, 1, 2, 1, 1, 1, 1, 1, 1, 1, 2, 1, 1, 1, 1, 1, 1, ...]</td>\n",
       "    </tr>\n",
       "    <tr>\n",
       "      <th>2</th>\n",
       "      <td>bsns_057.txt</td>\n",
       "      <td>[economy, tronger, forecast, probably, grew, faster, rate, third, quarter, reported, according, bank, england, deputy, governor, rachel, lomax, private, sector, busines, survey, suggest, stronger, official, estimate, said, collectively, show, rapid, slowdown, house, price, growth, pointed, out, mean, despite, strong, economic, base, will, stay, hold, datum, come, office, national, statistic, on, though, reliable, take, longer, publish, now, boe, calling, delivery, can, make, effective, policy, decision, recent, work, shown, add, value, even, preliminary, available, speech, north, wale, club, due, second, friday, the, mpc, judge, overall, little, higher, currently, indicate, successful, monetary, depend, good, information, cited, late, example, time, weak, figure, published, substantially, revised, ...]</td>\n",
       "      <td>[4, 1, 1, 2, 1, 2, 4, 3, 3, 1, 1, 4, 2, 1, 1, 2, 7, 2, 2, 2, 3, 1, 1, 3, 3, 8, 1, 1, 1, 3, 2, 3, 4, 1, 1, 1, 1, 1, 5, 1, 2, 1, 1, 5, 2, 1, 2, 2, 5, 1, 1, 1, 1, 2, 1, 1, 1, 2, 2, 2, 1, 4, 3, 1, 1, 1, 1, 1, 1, 1, 2, 1, 1, 1, 1, 1, 1, 1, 3, 5, 1, 1, 1, 1, 1, 1, 1, 2, 1, 1, 1, 1, 1, 1, 1, 1, 1, 1, 1, 1, ...]</td>\n",
       "    </tr>\n",
       "    <tr>\n",
       "      <th>3</th>\n",
       "      <td>bsns_272.txt</td>\n",
       "      <td>[market, signal, brazilian, recovery, stock, risen, record, high, investor, display, growing, confidence, durability, country, economic, main, bovespa, index, sao, paolo, exchange, closed, point, friday, topping, previou, close, reached, day, buoyancy, reflect, optimism, economy, grow, much, brazil, recovering, last, year, recession, worst, decade, output, declined, president, luiz, inacio, lula, silva, elected, first, workingclas, strongly, criticised, pursuing, hardline, policy, praised, handling, foreign, investment, unemployment, fallen, inflation, brought, control, analyst, believe, will, rise, mark, time, long, there, space, gain, end, somewhere, said, paschoal, tadeu, buonomo, head, equity, trading, broker, tov, currency, real, also, rose, highest, level, dollar, two, although, interest, rate, still, stand, ...]</td>\n",
       "      <td>[5, 1, 3, 3, 3, 2, 2, 1, 3, 1, 1, 1, 1, 1, 5, 1, 1, 1, 1, 1, 1, 1, 2, 2, 1, 2, 1, 1, 1, 1, 1, 1, 2, 1, 1, 4, 1, 2, 4, 1, 1, 3, 1, 1, 4, 1, 1, 1, 4, 1, 3, 1, 1, 1, 1, 1, 5, 1, 1, 1, 1, 1, 2, 3, 1, 2, 1, 1, 1, 2, 1, 2, 1, 1, 1, 1, 1, 1, 1, 1, 1, 1, 1, 1, 1, 1, 1, 1, 1, 1, 1, 1, 1, 1, 1, 1, 1, 1, 1, 1, ...]</td>\n",
       "    </tr>\n",
       "    <tr>\n",
       "      <th>4</th>\n",
       "      <td>bsns_065.txt</td>\n",
       "      <td>[aiming, fuel, development, aid, european, union, finance, minister, meet, thursday, discus, proposal, including, tax, jet, boost, poorer, nation, policy, maker, ask, report, money, can, raised, said, world, richest, country, want, increase, amount, give, annual, gros, national, income, airline, reacted, strongly, proposed, levy, profit, pressure, industry, lowcost, firm, driving, price, demand, dipping, september, terrorist, attack, outbreak, killer, sar, viru, thing, picked, company, teetering, brink, bankruptcy, present, used, enjoy, either, low, rate, untaxed, member, state, course, applaud, humanitarian, initiative, target, ulrich, schultestrathau, secretary, general, association, my, midst, fundamental, crisisonly, confronted, measure, designed, cost, continued, sought, allay, fear, stressing, meeting, first, step, also, ...]</td>\n",
       "      <td>[1, 5, 4, 3, 3, 1, 2, 3, 1, 2, 1, 2, 1, 3, 2, 1, 1, 2, 1, 1, 1, 1, 1, 1, 1, 4, 3, 2, 2, 1, 2, 1, 1, 1, 1, 1, 1, 8, 1, 1, 1, 2, 1, 1, 2, 1, 1, 1, 1, 1, 1, 1, 1, 1, 1, 1, 1, 1, 1, 1, 1, 1, 1, 1, 1, 1, 1, 1, 1, 1, 1, 1, 1, 1, 1, 1, 1, 1, 1, 1, 1, 1, 1, 1, 1, 1, 1, 1, 1, 1, 1, 1, 1, 1, 1, 1, 3, 1, 1, 1, ...]</td>\n",
       "    </tr>\n",
       "    <tr>\n",
       "      <th>...</th>\n",
       "      <td>...</td>\n",
       "      <td>...</td>\n",
       "      <td>...</td>\n",
       "    </tr>\n",
       "    <tr>\n",
       "      <th>2220</th>\n",
       "      <td>tech_376.txt</td>\n",
       "      <td>[tmobile, bet, pocket, office, launched, latest, thirdgeneration, device, also, builtin, wifi, highspeed, wireles, net, acces, unlike, user, check, network, available, transfer, datum, select, fastest, one, itself, mda, released, summer, upgrade, company, existing, smartphone, gwifi, iius, reflect, push, mobile, firm, like, mini, laptop, display, can, swivelled, angled, used, small, computer, conventional, clamshell, phone, microsoft, two, camera, qwerty, keyboard, design, similar, allinone, model, year, motorola, mpx, five, european, worker, already, meaning, spend, significant, time, travelling, rene, obermann, chief, executive, told, pres, conference, gsm, trade, show, canne, added, what, need, said, seeing, increasing, take, call, sold, europe, response, demand, adding, phoneshaped, blackberry, range, ...]</td>\n",
       "      <td>[6, 1, 3, 7, 1, 2, 1, 6, 3, 1, 8, 3, 2, 2, 4, 1, 2, 1, 2, 2, 1, 2, 1, 1, 2, 1, 3, 2, 2, 1, 2, 1, 1, 1, 1, 2, 1, 7, 1, 2, 1, 1, 1, 2, 1, 1, 1, 1, 1, 1, 1, 2, 1, 1, 1, 1, 1, 1, 2, 1, 1, 1, 1, 1, 1, 1, 1, 2, 1, 1, 1, 1, 1, 1, 2, 1, 1, 1, 1, 1, 2, 1, 1, 2, 2, 1, 2, 5, 1, 1, 1, 1, 1, 1, 1, 1, 1, 1, 1, 1, ...]</td>\n",
       "    </tr>\n",
       "    <tr>\n",
       "      <th>2221</th>\n",
       "      <td>tech_317.txt</td>\n",
       "      <td>[sony, psp, console, hit, march, gamer, will, able, buy, playstation, portable, news, europe, debut, handheld, sale, first, million, sold, come, spiderman, umd, disc, format, machine, billed, walkman, century, unit, japan, play, game, movie, music, also, offer, support, wireles, gaming, entering, market, dominated, nintendo, many, year, launched, last, said, wanted, launch, roughly, time, now, fear, put, back, release, core, device, entertainment, kaz, hirai, president, computer, america]</td>\n",
       "      <td>[6, 2, 3, 1, 3, 2, 6, 1, 1, 1, 1, 1, 3, 1, 2, 1, 1, 2, 3, 1, 1, 1, 1, 1, 2, 1, 1, 1, 2, 2, 1, 1, 1, 1, 1, 1, 1, 1, 3, 1, 1, 1, 2, 1, 2, 1, 1, 3, 1, 2, 1, 1, 1, 1, 1, 1, 1, 1, 2, 2, 1, 1, 1, 1, 1]</td>\n",
       "    </tr>\n",
       "    <tr>\n",
       "      <th>2222</th>\n",
       "      <td>tech_179.txt</td>\n",
       "      <td>[seaman, sail, biometric, future, luxury, cruise, liner, crystal, harmony, currently, gulf, mexico, unlikely, setting, test, technology, holidaymaker, enjoy, balmy, breeze, ship, crew, testing, prototype, version, world, first, internationally, issued, card, seafarer, equivalent, passport, along, owner, picture, name, personal, detail, new, identity, document, incorporate, barcode, representing, unique, feature, holder, fingerprint, due, february, next, year, line, revised, convention, june, way, caribbean, designed, ensure, machine, reader, produced, different, company, country, working, interoperable, standard, result, current, involve, wide, range, occupation, nationality, will, published, international, labmy, organisation, ilo, end, november, operate, exploring, use, yet, committed, authenticorp, consultancy, technical, specification, want, sure, land, port, say, can, ...]</td>\n",
       "      <td>[1, 1, 4, 1, 1, 2, 1, 3, 2, 2, 1, 1, 1, 1, 3, 3, 1, 1, 1, 1, 3, 1, 1, 1, 1, 2, 2, 1, 3, 6, 9, 1, 1, 1, 1, 1, 1, 1, 1, 3, 2, 2, 1, 1, 1, 1, 1, 1, 1, 1, 1, 1, 1, 1, 1, 3, 1, 1, 1, 1, 1, 1, 1, 1, 2, 1, 4, 2, 1, 1, 1, 1, 1, 1, 1, 1, 1, 3, 1, 2, 1, 1, 2, 1, 1, 1, 1, 1, 1, 1, 2, 1, 1, 1, 1, 1, 1, 1, 2, 1, ...]</td>\n",
       "    </tr>\n",
       "    <tr>\n",
       "      <th>2223</th>\n",
       "      <td>tech_010.txt</td>\n",
       "      <td>[google, toolbar, spark, concern, search, engine, firm, released, trial, tool, concerning, net, user, direct, person, preselected, commercial, website, autolink, feature, come, latest, provide, link, webpage, amazoncom, find, book, isbn, number, site, also, map, service, addres, car, carfax, licence, plate, said, available, add, useful, concerned, dominant, position, market, place, mean, giving, competitive, edge, like, amazon, work, creating, based, information, contained, even, specified, whether, publisher, page, given, permission, click, unique, directly, online, library, list, directing, not, paid, advertising, may, rival, dan, gillmor, founder, grassroot, medium, support, citizenbased, bad, idea, unfortunate, move, company, looking, continue, hypergrowth, statement, still, betum, stage, welcomed, feedback, the, ...]</td>\n",
       "      <td>[13, 3, 1, 2, 2, 2, 3, 1, 2, 3, 1, 2, 12, 2, 3, 1, 2, 5, 8, 7, 1, 1, 1, 7, 3, 2, 2, 3, 3, 3, 3, 2, 1, 5, 1, 1, 1, 1, 1, 8, 1, 1, 1, 1, 1, 1, 2, 1, 2, 1, 1, 1, 2, 2, 2, 1, 1, 1, 1, 1, 1, 2, 1, 5, 1, 1, 3, 1, 1, 1, 1, 1, 2, 1, 3, 1, 1, 1, 1, 1, 1, 1, 2, 1, 1, 1, 1, 1, 1, 5, 1, 1, 1, 1, 1, 1, 1, 1, 1, 1, ...]</td>\n",
       "    </tr>\n",
       "    <tr>\n",
       "      <th>2224</th>\n",
       "      <td>tech_152.txt</td>\n",
       "      <td>[new, year, texting, break, record, mobile, phone, essential, recent, festivity, party, mood, auld, lang, syne, number, text, message, sent, anything, midnight, december, january, highest, ever, daily, total, recorded, datum, association, mda, represent, increase, last, figure, wishing, happy, friend, family, vium, become, staple, ingredient, largest, quite, overtaken, oldfashioned, call, heading, way, said, mike, short, chairman, case, eve, useful, unable, speak, hear, noisy, background, also, lot, internationally, different, time, zone, made, traditional, unfeasible, british, love, affair, show, sign, abating, annual, set, exceed, according, predict, see, thought, might, slow, mm, took, seen, that, firm, seeing, value, marketing, restaurant, using, tell, customer, special, offer, ...]</td>\n",
       "      <td>[4, 6, 5, 1, 1, 3, 2, 1, 1, 1, 4, 1, 1, 1, 1, 1, 9, 6, 4, 1, 2, 1, 2, 1, 1, 1, 2, 1, 1, 1, 4, 1, 1, 1, 1, 1, 1, 1, 1, 2, 1, 1, 1, 1, 1, 1, 1, 2, 1, 1, 4, 1, 2, 1, 1, 1, 1, 1, 1, 1, 1, 1, 1, 1, 1, 1, 1, 1, 1, 1, 1, 1, 1, 1, 1, 2, 1, 1, 2, 1, 1, 1, 1, 1, 1, 1, 1, 1, 1, 1, 1, 1, 1, 1, 1, 1, 1, 1, 1, 2, ...]</td>\n",
       "    </tr>\n",
       "  </tbody>\n",
       "</table>\n",
       "<p>2225 rows × 3 columns</p>\n",
       "</div>"
      ],
      "text/plain": [
       "               Doc  \\\n",
       "0     bsns_382.txt   \n",
       "1     bsns_050.txt   \n",
       "2     bsns_057.txt   \n",
       "3     bsns_272.txt   \n",
       "4     bsns_065.txt   \n",
       "...            ...   \n",
       "2220  tech_376.txt   \n",
       "2221  tech_317.txt   \n",
       "2222  tech_179.txt   \n",
       "2223  tech_010.txt   \n",
       "2224  tech_152.txt   \n",
       "\n",
       "                                                                                                                                                                                                                                                                                                                                                                                                                                                                                                                                                                                                                                                                                                                                                                                                                                                                                                                           Terms  \\\n",
       "0                     [ban, forced, retirement, employer, will, longer, able, force, worker, retire, unles, can, justify, government, announced, firm, barred, imposing, arbitrary, age, new, european, discrimination, rule, default, introduced, permitted, request, staying, beyond, compulsory, although, right, refuse, trade, industry, secretary, patricium, hewitt, said, person, work, wanted, saying, statutory, free, continue, employing, long, competent, proposal, department, last, year, allowed, till, wished, busines, leader, opposed, plan, costly, cumbersome, british, chamber, commerce, welcomed, latest, thi, move, today, best, world, ability, define, end, point, employeremployee, relationship, employee, flexibility, past, concern, cowardly, complete, uturn, make, mockery, socalled, commitment, outlawing, ageism, leaving, incoming, law, unravel, gordon, lishman, director, general, ...]   \n",
       "1                                                          [bad, weather, hit, nestle, sale, combination, rising, raw, material, cost, sluggish, european, economy, swiss, food, drink, giant, revenue, dipped, franc, ice, cream, mineral, water, dampened, wet, summer, however, profit, margin, helped, strong, performance, america, china, raise, dividend, paying, back, debt, said, strength, dollar, disposal, business, challenging, trading, condition, europe, dented, poor, acros, continent, contrast, prolonged, heat, wave, severely, affected, demand, bottled, also, fell, although, chocolate, coffee, frozen, good, petcare, product, performed, better, elsewhere, enjoyed, exceptional, year, north, outperforming, market, term, growth, added, strongly, africa, asium, despite, impact, high, oil, price, political, instability, total, earning, interest, remained, broadly, flat, past, company, ...]   \n",
       "2                                                                                  [economy, tronger, forecast, probably, grew, faster, rate, third, quarter, reported, according, bank, england, deputy, governor, rachel, lomax, private, sector, busines, survey, suggest, stronger, official, estimate, said, collectively, show, rapid, slowdown, house, price, growth, pointed, out, mean, despite, strong, economic, base, will, stay, hold, datum, come, office, national, statistic, on, though, reliable, take, longer, publish, now, boe, calling, delivery, can, make, effective, policy, decision, recent, work, shown, add, value, even, preliminary, available, speech, north, wale, club, due, second, friday, the, mpc, judge, overall, little, higher, currently, indicate, successful, monetary, depend, good, information, cited, late, example, time, weak, figure, published, substantially, revised, ...]   \n",
       "3                                                                 [market, signal, brazilian, recovery, stock, risen, record, high, investor, display, growing, confidence, durability, country, economic, main, bovespa, index, sao, paolo, exchange, closed, point, friday, topping, previou, close, reached, day, buoyancy, reflect, optimism, economy, grow, much, brazil, recovering, last, year, recession, worst, decade, output, declined, president, luiz, inacio, lula, silva, elected, first, workingclas, strongly, criticised, pursuing, hardline, policy, praised, handling, foreign, investment, unemployment, fallen, inflation, brought, control, analyst, believe, will, rise, mark, time, long, there, space, gain, end, somewhere, said, paschoal, tadeu, buonomo, head, equity, trading, broker, tov, currency, real, also, rose, highest, level, dollar, two, although, interest, rate, still, stand, ...]   \n",
       "4                                                    [aiming, fuel, development, aid, european, union, finance, minister, meet, thursday, discus, proposal, including, tax, jet, boost, poorer, nation, policy, maker, ask, report, money, can, raised, said, world, richest, country, want, increase, amount, give, annual, gros, national, income, airline, reacted, strongly, proposed, levy, profit, pressure, industry, lowcost, firm, driving, price, demand, dipping, september, terrorist, attack, outbreak, killer, sar, viru, thing, picked, company, teetering, brink, bankruptcy, present, used, enjoy, either, low, rate, untaxed, member, state, course, applaud, humanitarian, initiative, target, ulrich, schultestrathau, secretary, general, association, my, midst, fundamental, crisisonly, confronted, measure, designed, cost, continued, sought, allay, fear, stressing, meeting, first, step, also, ...]   \n",
       "...                                                                                                                                                                                                                                                                                                                                                                                                                                                                                                                                                                                                                                                                                                                                                                                                                                                                                                                          ...   \n",
       "2220                                                                       [tmobile, bet, pocket, office, launched, latest, thirdgeneration, device, also, builtin, wifi, highspeed, wireles, net, acces, unlike, user, check, network, available, transfer, datum, select, fastest, one, itself, mda, released, summer, upgrade, company, existing, smartphone, gwifi, iius, reflect, push, mobile, firm, like, mini, laptop, display, can, swivelled, angled, used, small, computer, conventional, clamshell, phone, microsoft, two, camera, qwerty, keyboard, design, similar, allinone, model, year, motorola, mpx, five, european, worker, already, meaning, spend, significant, time, travelling, rene, obermann, chief, executive, told, pres, conference, gsm, trade, show, canne, added, what, need, said, seeing, increasing, take, call, sold, europe, response, demand, adding, phoneshaped, blackberry, range, ...]   \n",
       "2221                                                                                                                                                                                                                                                                                                                                                                                                               [sony, psp, console, hit, march, gamer, will, able, buy, playstation, portable, news, europe, debut, handheld, sale, first, million, sold, come, spiderman, umd, disc, format, machine, billed, walkman, century, unit, japan, play, game, movie, music, also, offer, support, wireles, gaming, entering, market, dominated, nintendo, many, year, launched, last, said, wanted, launch, roughly, time, now, fear, put, back, release, core, device, entertainment, kaz, hirai, president, computer, america]   \n",
       "2222  [seaman, sail, biometric, future, luxury, cruise, liner, crystal, harmony, currently, gulf, mexico, unlikely, setting, test, technology, holidaymaker, enjoy, balmy, breeze, ship, crew, testing, prototype, version, world, first, internationally, issued, card, seafarer, equivalent, passport, along, owner, picture, name, personal, detail, new, identity, document, incorporate, barcode, representing, unique, feature, holder, fingerprint, due, february, next, year, line, revised, convention, june, way, caribbean, designed, ensure, machine, reader, produced, different, company, country, working, interoperable, standard, result, current, involve, wide, range, occupation, nationality, will, published, international, labmy, organisation, ilo, end, november, operate, exploring, use, yet, committed, authenticorp, consultancy, technical, specification, want, sure, land, port, say, can, ...]   \n",
       "2223                                                           [google, toolbar, spark, concern, search, engine, firm, released, trial, tool, concerning, net, user, direct, person, preselected, commercial, website, autolink, feature, come, latest, provide, link, webpage, amazoncom, find, book, isbn, number, site, also, map, service, addres, car, carfax, licence, plate, said, available, add, useful, concerned, dominant, position, market, place, mean, giving, competitive, edge, like, amazon, work, creating, based, information, contained, even, specified, whether, publisher, page, given, permission, click, unique, directly, online, library, list, directing, not, paid, advertising, may, rival, dan, gillmor, founder, grassroot, medium, support, citizenbased, bad, idea, unfortunate, move, company, looking, continue, hypergrowth, statement, still, betum, stage, welcomed, feedback, the, ...]   \n",
       "2224                                                                                               [new, year, texting, break, record, mobile, phone, essential, recent, festivity, party, mood, auld, lang, syne, number, text, message, sent, anything, midnight, december, january, highest, ever, daily, total, recorded, datum, association, mda, represent, increase, last, figure, wishing, happy, friend, family, vium, become, staple, ingredient, largest, quite, overtaken, oldfashioned, call, heading, way, said, mike, short, chairman, case, eve, useful, unable, speak, hear, noisy, background, also, lot, internationally, different, time, zone, made, traditional, unfeasible, british, love, affair, show, sign, abating, annual, set, exceed, according, predict, see, thought, might, slow, mm, took, seen, that, firm, seeing, value, marketing, restaurant, using, tell, customer, special, offer, ...]   \n",
       "\n",
       "                                                                                                                                                                                                                                                                                                                  TF(t,d)  \n",
       "0      [1, 2, 6, 4, 7, 2, 1, 1, 4, 1, 1, 2, 1, 3, 1, 1, 1, 2, 1, 13, 1, 2, 3, 1, 2, 1, 1, 2, 1, 1, 2, 1, 2, 1, 2, 2, 1, 1, 1, 7, 3, 3, 1, 1, 1, 1, 1, 1, 1, 1, 2, 1, 1, 1, 1, 1, 1, 1, 1, 1, 1, 1, 1, 1, 1, 1, 1, 1, 2, 1, 1, 1, 1, 1, 1, 1, 1, 1, 1, 1, 1, 1, 2, 1, 1, 1, 1, 1, 1, 1, 1, 1, 1, 1, 2, 1, 1, 1, 1, 1, ...]  \n",
       "1      [2, 2, 2, 12, 6, 1, 1, 1, 1, 1, 1, 1, 1, 4, 1, 1, 1, 1, 1, 3, 2, 2, 2, 3, 1, 1, 2, 1, 2, 2, 1, 1, 1, 2, 1, 1, 2, 1, 2, 1, 2, 1, 1, 1, 1, 1, 2, 1, 1, 1, 1, 1, 1, 1, 1, 1, 1, 1, 1, 1, 1, 1, 1, 2, 1, 1, 1, 1, 1, 1, 2, 1, 1, 1, 1, 2, 1, 1, 1, 1, 2, 1, 1, 1, 1, 2, 1, 1, 1, 1, 1, 1, 1, 2, 1, 1, 1, 1, 1, 1, ...]  \n",
       "2       [4, 1, 1, 2, 1, 2, 4, 3, 3, 1, 1, 4, 2, 1, 1, 2, 7, 2, 2, 2, 3, 1, 1, 3, 3, 8, 1, 1, 1, 3, 2, 3, 4, 1, 1, 1, 1, 1, 5, 1, 2, 1, 1, 5, 2, 1, 2, 2, 5, 1, 1, 1, 1, 2, 1, 1, 1, 2, 2, 2, 1, 4, 3, 1, 1, 1, 1, 1, 1, 1, 2, 1, 1, 1, 1, 1, 1, 1, 3, 5, 1, 1, 1, 1, 1, 1, 1, 2, 1, 1, 1, 1, 1, 1, 1, 1, 1, 1, 1, 1, ...]  \n",
       "3       [5, 1, 3, 3, 3, 2, 2, 1, 3, 1, 1, 1, 1, 1, 5, 1, 1, 1, 1, 1, 1, 1, 2, 2, 1, 2, 1, 1, 1, 1, 1, 1, 2, 1, 1, 4, 1, 2, 4, 1, 1, 3, 1, 1, 4, 1, 1, 1, 4, 1, 3, 1, 1, 1, 1, 1, 5, 1, 1, 1, 1, 1, 2, 3, 1, 2, 1, 1, 1, 2, 1, 2, 1, 1, 1, 1, 1, 1, 1, 1, 1, 1, 1, 1, 1, 1, 1, 1, 1, 1, 1, 1, 1, 1, 1, 1, 1, 1, 1, 1, ...]  \n",
       "4       [1, 5, 4, 3, 3, 1, 2, 3, 1, 2, 1, 2, 1, 3, 2, 1, 1, 2, 1, 1, 1, 1, 1, 1, 1, 4, 3, 2, 2, 1, 2, 1, 1, 1, 1, 1, 1, 8, 1, 1, 1, 2, 1, 1, 2, 1, 1, 1, 1, 1, 1, 1, 1, 1, 1, 1, 1, 1, 1, 1, 1, 1, 1, 1, 1, 1, 1, 1, 1, 1, 1, 1, 1, 1, 1, 1, 1, 1, 1, 1, 1, 1, 1, 1, 1, 1, 1, 1, 1, 1, 1, 1, 1, 1, 1, 1, 3, 1, 1, 1, ...]  \n",
       "...                                                                                                                                                                                                                                                                                                                   ...  \n",
       "2220    [6, 1, 3, 7, 1, 2, 1, 6, 3, 1, 8, 3, 2, 2, 4, 1, 2, 1, 2, 2, 1, 2, 1, 1, 2, 1, 3, 2, 2, 1, 2, 1, 1, 1, 1, 2, 1, 7, 1, 2, 1, 1, 1, 2, 1, 1, 1, 1, 1, 1, 1, 2, 1, 1, 1, 1, 1, 1, 2, 1, 1, 1, 1, 1, 1, 1, 1, 2, 1, 1, 1, 1, 1, 1, 2, 1, 1, 1, 1, 1, 2, 1, 1, 2, 2, 1, 2, 5, 1, 1, 1, 1, 1, 1, 1, 1, 1, 1, 1, 1, ...]  \n",
       "2221                                                                                                                  [6, 2, 3, 1, 3, 2, 6, 1, 1, 1, 1, 1, 3, 1, 2, 1, 1, 2, 3, 1, 1, 1, 1, 1, 2, 1, 1, 1, 2, 2, 1, 1, 1, 1, 1, 1, 1, 1, 3, 1, 1, 1, 2, 1, 2, 1, 1, 3, 1, 2, 1, 1, 1, 1, 1, 1, 1, 1, 2, 2, 1, 1, 1, 1, 1]  \n",
       "2222    [1, 1, 4, 1, 1, 2, 1, 3, 2, 2, 1, 1, 1, 1, 3, 3, 1, 1, 1, 1, 3, 1, 1, 1, 1, 2, 2, 1, 3, 6, 9, 1, 1, 1, 1, 1, 1, 1, 1, 3, 2, 2, 1, 1, 1, 1, 1, 1, 1, 1, 1, 1, 1, 1, 1, 3, 1, 1, 1, 1, 1, 1, 1, 1, 2, 1, 4, 2, 1, 1, 1, 1, 1, 1, 1, 1, 1, 3, 1, 2, 1, 1, 2, 1, 1, 1, 1, 1, 1, 1, 2, 1, 1, 1, 1, 1, 1, 1, 2, 1, ...]  \n",
       "2223  [13, 3, 1, 2, 2, 2, 3, 1, 2, 3, 1, 2, 12, 2, 3, 1, 2, 5, 8, 7, 1, 1, 1, 7, 3, 2, 2, 3, 3, 3, 3, 2, 1, 5, 1, 1, 1, 1, 1, 8, 1, 1, 1, 1, 1, 1, 2, 1, 2, 1, 1, 1, 2, 2, 2, 1, 1, 1, 1, 1, 1, 2, 1, 5, 1, 1, 3, 1, 1, 1, 1, 1, 2, 1, 3, 1, 1, 1, 1, 1, 1, 1, 2, 1, 1, 1, 1, 1, 1, 5, 1, 1, 1, 1, 1, 1, 1, 1, 1, 1, ...]  \n",
       "2224    [4, 6, 5, 1, 1, 3, 2, 1, 1, 1, 4, 1, 1, 1, 1, 1, 9, 6, 4, 1, 2, 1, 2, 1, 1, 1, 2, 1, 1, 1, 4, 1, 1, 1, 1, 1, 1, 1, 1, 2, 1, 1, 1, 1, 1, 1, 1, 2, 1, 1, 4, 1, 2, 1, 1, 1, 1, 1, 1, 1, 1, 1, 1, 1, 1, 1, 1, 1, 1, 1, 1, 1, 1, 1, 1, 2, 1, 1, 2, 1, 1, 1, 1, 1, 1, 1, 1, 1, 1, 1, 1, 1, 1, 1, 1, 1, 1, 1, 1, 2, ...]  \n",
       "\n",
       "[2225 rows x 3 columns]"
      ]
     },
     "execution_count": 42,
     "metadata": {},
     "output_type": "execute_result"
    }
   ],
   "source": [
    "cols = [\"Doc\", \"Terms\", \"TF(t,d)\"]\n",
    "tf.toDF(cols).toPandas()"
   ]
  },
  {
   "cell_type": "code",
   "execution_count": 43,
   "metadata": {},
   "outputs": [],
   "source": [
    "def log_tf(d):\n",
    "    \n",
    "    doc   = d[0]\n",
    "    terms = d[1]\n",
    "    tf    = d[2]\n",
    "    \n",
    "    return(doc, terms, [1 + math.log(t, 10) for t in tf])"
   ]
  },
  {
   "cell_type": "code",
   "execution_count": 44,
   "metadata": {},
   "outputs": [],
   "source": [
    "log_tf = tf.map(log_tf)"
   ]
  },
  {
   "cell_type": "markdown",
   "metadata": {},
   "source": [
    "<h3>Term frequency - Log normalization</h3>"
   ]
  },
  {
   "cell_type": "code",
   "execution_count": 45,
   "metadata": {},
   "outputs": [
    {
     "data": {
      "text/html": [
       "<div>\n",
       "<style scoped>\n",
       "    .dataframe tbody tr th:only-of-type {\n",
       "        vertical-align: middle;\n",
       "    }\n",
       "\n",
       "    .dataframe tbody tr th {\n",
       "        vertical-align: top;\n",
       "    }\n",
       "\n",
       "    .dataframe thead th {\n",
       "        text-align: right;\n",
       "    }\n",
       "</style>\n",
       "<table border=\"1\" class=\"dataframe\">\n",
       "  <thead>\n",
       "    <tr style=\"text-align: right;\">\n",
       "      <th></th>\n",
       "      <th>Doc</th>\n",
       "      <th>Terms</th>\n",
       "      <th>Log-TF(t,d)</th>\n",
       "    </tr>\n",
       "  </thead>\n",
       "  <tbody>\n",
       "    <tr>\n",
       "      <th>0</th>\n",
       "      <td>bsns_382.txt</td>\n",
       "      <td>[ban, forced, retirement, employer, will, longer, able, force, worker, retire, unles, can, justify, government, announced, firm, barred, imposing, arbitrary, age, new, european, discrimination, rule, default, introduced, permitted, request, staying, beyond, compulsory, although, right, refuse, trade, industry, secretary, patricium, hewitt, said, person, work, wanted, saying, statutory, free, continue, employing, long, competent, proposal, department, last, year, allowed, till, wished, busines, leader, opposed, plan, costly, cumbersome, british, chamber, commerce, welcomed, latest, thi, move, today, best, world, ability, define, end, point, employeremployee, relationship, employee, flexibility, past, concern, cowardly, complete, uturn, make, mockery, socalled, commitment, outlawing, ageism, leaving, incoming, law, unravel, gordon, lishman, director, general, ...]</td>\n",
       "      <td>[1.0, 1.3010299956639813, 1.7781512503836434, 1.6020599913279623, 1.8450980400142567, 1.3010299956639813, 1.0, 1.0, 1.6020599913279623, 1.0, 1.0, 1.3010299956639813, 1.0, 1.4771212547196624, 1.0, 1.0, 1.0, 1.3010299956639813, 1.0, 2.113943352306837, 1.0, 1.3010299956639813, 1.4771212547196624, 1.0, 1.3010299956639813, 1.0, 1.0, 1.3010299956639813, 1.0, 1.0, 1.3010299956639813, 1.0, 1.3010299956639813, 1.0, 1.3010299956639813, 1.3010299956639813, 1.0, 1.0, 1.0, 1.8450980400142567, 1.4771212547196624, 1.4771212547196624, 1.0, 1.0, 1.0, 1.0, 1.0, 1.0, 1.0, 1.0, 1.3010299956639813, 1.0, 1.0, 1.0, 1.0, 1.0, 1.0, 1.0, 1.0, 1.0, 1.0, 1.0, 1.0, 1.0, 1.0, 1.0, 1.0, 1.0, 1.3010299956639813, 1.0, 1.0, 1.0, 1.0, 1.0, 1.0, 1.0, 1.0, 1.0, 1.0, 1.0, 1.0, 1.0, 1.3010299956639813, 1.0, 1.0, 1.0, 1.0, 1.0, 1.0, 1.0, 1.0, 1.0, 1.0, 1.0, 1.3010299956639813, 1.0, 1.0, 1.0, 1.0, 1.0, ...]</td>\n",
       "    </tr>\n",
       "    <tr>\n",
       "      <th>1</th>\n",
       "      <td>bsns_050.txt</td>\n",
       "      <td>[bad, weather, hit, nestle, sale, combination, rising, raw, material, cost, sluggish, european, economy, swiss, food, drink, giant, revenue, dipped, franc, ice, cream, mineral, water, dampened, wet, summer, however, profit, margin, helped, strong, performance, america, china, raise, dividend, paying, back, debt, said, strength, dollar, disposal, business, challenging, trading, condition, europe, dented, poor, acros, continent, contrast, prolonged, heat, wave, severely, affected, demand, bottled, also, fell, although, chocolate, coffee, frozen, good, petcare, product, performed, better, elsewhere, enjoyed, exceptional, year, north, outperforming, market, term, growth, added, strongly, africa, asium, despite, impact, high, oil, price, political, instability, total, earning, interest, remained, broadly, flat, past, company, ...]</td>\n",
       "      <td>[1.3010299956639813, 1.3010299956639813, 1.3010299956639813, 2.0791812460476247, 1.7781512503836434, 1.0, 1.0, 1.0, 1.0, 1.0, 1.0, 1.0, 1.0, 1.6020599913279623, 1.0, 1.0, 1.0, 1.0, 1.0, 1.4771212547196624, 1.3010299956639813, 1.3010299956639813, 1.3010299956639813, 1.4771212547196624, 1.0, 1.0, 1.3010299956639813, 1.0, 1.3010299956639813, 1.3010299956639813, 1.0, 1.0, 1.0, 1.3010299956639813, 1.0, 1.0, 1.3010299956639813, 1.0, 1.3010299956639813, 1.0, 1.3010299956639813, 1.0, 1.0, 1.0, 1.0, 1.0, 1.3010299956639813, 1.0, 1.0, 1.0, 1.0, 1.0, 1.0, 1.0, 1.0, 1.0, 1.0, 1.0, 1.0, 1.0, 1.0, 1.0, 1.0, 1.3010299956639813, 1.0, 1.0, 1.0, 1.0, 1.0, 1.0, 1.3010299956639813, 1.0, 1.0, 1.0, 1.0, 1.3010299956639813, 1.0, 1.0, 1.0, 1.0, 1.3010299956639813, 1.0, 1.0, 1.0, 1.0, 1.3010299956639813, 1.0, 1.0, 1.0, 1.0, 1.0, 1.0, 1.0, 1.3010299956639813, 1.0, 1.0, 1.0, 1.0, 1.0, 1.0, ...]</td>\n",
       "    </tr>\n",
       "    <tr>\n",
       "      <th>2</th>\n",
       "      <td>bsns_057.txt</td>\n",
       "      <td>[economy, tronger, forecast, probably, grew, faster, rate, third, quarter, reported, according, bank, england, deputy, governor, rachel, lomax, private, sector, busines, survey, suggest, stronger, official, estimate, said, collectively, show, rapid, slowdown, house, price, growth, pointed, out, mean, despite, strong, economic, base, will, stay, hold, datum, come, office, national, statistic, on, though, reliable, take, longer, publish, now, boe, calling, delivery, can, make, effective, policy, decision, recent, work, shown, add, value, even, preliminary, available, speech, north, wale, club, due, second, friday, the, mpc, judge, overall, little, higher, currently, indicate, successful, monetary, depend, good, information, cited, late, example, time, weak, figure, published, substantially, revised, ...]</td>\n",
       "      <td>[1.6020599913279623, 1.0, 1.0, 1.3010299956639813, 1.0, 1.3010299956639813, 1.6020599913279623, 1.4771212547196624, 1.4771212547196624, 1.0, 1.0, 1.6020599913279623, 1.3010299956639813, 1.0, 1.0, 1.3010299956639813, 1.8450980400142567, 1.3010299956639813, 1.3010299956639813, 1.3010299956639813, 1.4771212547196624, 1.0, 1.0, 1.4771212547196624, 1.4771212547196624, 1.9030899869919433, 1.0, 1.0, 1.0, 1.4771212547196624, 1.3010299956639813, 1.4771212547196624, 1.6020599913279623, 1.0, 1.0, 1.0, 1.0, 1.0, 1.6989700043360187, 1.0, 1.3010299956639813, 1.0, 1.0, 1.6989700043360187, 1.3010299956639813, 1.0, 1.3010299956639813, 1.3010299956639813, 1.6989700043360187, 1.0, 1.0, 1.0, 1.0, 1.3010299956639813, 1.0, 1.0, 1.0, 1.3010299956639813, 1.3010299956639813, 1.3010299956639813, 1.0, 1.6020599913279623, 1.4771212547196624, 1.0, 1.0, 1.0, 1.0, 1.0, 1.0, 1.0, 1.3010299956639813, 1.0, 1.0, 1.0, 1.0, 1.0, 1.0, 1.0, 1.4771212547196624, 1.6989700043360187, 1.0, 1.0, 1.0, 1.0, 1.0, 1.0, 1.0, 1.301...</td>\n",
       "    </tr>\n",
       "    <tr>\n",
       "      <th>3</th>\n",
       "      <td>bsns_272.txt</td>\n",
       "      <td>[market, signal, brazilian, recovery, stock, risen, record, high, investor, display, growing, confidence, durability, country, economic, main, bovespa, index, sao, paolo, exchange, closed, point, friday, topping, previou, close, reached, day, buoyancy, reflect, optimism, economy, grow, much, brazil, recovering, last, year, recession, worst, decade, output, declined, president, luiz, inacio, lula, silva, elected, first, workingclas, strongly, criticised, pursuing, hardline, policy, praised, handling, foreign, investment, unemployment, fallen, inflation, brought, control, analyst, believe, will, rise, mark, time, long, there, space, gain, end, somewhere, said, paschoal, tadeu, buonomo, head, equity, trading, broker, tov, currency, real, also, rose, highest, level, dollar, two, although, interest, rate, still, stand, ...]</td>\n",
       "      <td>[1.6989700043360187, 1.0, 1.4771212547196624, 1.4771212547196624, 1.4771212547196624, 1.3010299956639813, 1.3010299956639813, 1.0, 1.4771212547196624, 1.0, 1.0, 1.0, 1.0, 1.0, 1.6989700043360187, 1.0, 1.0, 1.0, 1.0, 1.0, 1.0, 1.0, 1.3010299956639813, 1.3010299956639813, 1.0, 1.3010299956639813, 1.0, 1.0, 1.0, 1.0, 1.0, 1.0, 1.3010299956639813, 1.0, 1.0, 1.6020599913279623, 1.0, 1.3010299956639813, 1.6020599913279623, 1.0, 1.0, 1.4771212547196624, 1.0, 1.0, 1.6020599913279623, 1.0, 1.0, 1.0, 1.6020599913279623, 1.0, 1.4771212547196624, 1.0, 1.0, 1.0, 1.0, 1.0, 1.6989700043360187, 1.0, 1.0, 1.0, 1.0, 1.0, 1.3010299956639813, 1.4771212547196624, 1.0, 1.3010299956639813, 1.0, 1.0, 1.0, 1.3010299956639813, 1.0, 1.3010299956639813, 1.0, 1.0, 1.0, 1.0, 1.0, 1.0, 1.0, 1.0, 1.0, 1.0, 1.0, 1.0, 1.0, 1.0, 1.0, 1.0, 1.0, 1.0, 1.0, 1.0, 1.0, 1.0, 1.0, 1.0, 1.0, 1.0, 1.0, 1.0, ...]</td>\n",
       "    </tr>\n",
       "    <tr>\n",
       "      <th>4</th>\n",
       "      <td>bsns_065.txt</td>\n",
       "      <td>[aiming, fuel, development, aid, european, union, finance, minister, meet, thursday, discus, proposal, including, tax, jet, boost, poorer, nation, policy, maker, ask, report, money, can, raised, said, world, richest, country, want, increase, amount, give, annual, gros, national, income, airline, reacted, strongly, proposed, levy, profit, pressure, industry, lowcost, firm, driving, price, demand, dipping, september, terrorist, attack, outbreak, killer, sar, viru, thing, picked, company, teetering, brink, bankruptcy, present, used, enjoy, either, low, rate, untaxed, member, state, course, applaud, humanitarian, initiative, target, ulrich, schultestrathau, secretary, general, association, my, midst, fundamental, crisisonly, confronted, measure, designed, cost, continued, sought, allay, fear, stressing, meeting, first, step, also, ...]</td>\n",
       "      <td>[1.0, 1.6989700043360187, 1.6020599913279623, 1.4771212547196624, 1.4771212547196624, 1.0, 1.3010299956639813, 1.4771212547196624, 1.0, 1.3010299956639813, 1.0, 1.3010299956639813, 1.0, 1.4771212547196624, 1.3010299956639813, 1.0, 1.0, 1.3010299956639813, 1.0, 1.0, 1.0, 1.0, 1.0, 1.0, 1.0, 1.6020599913279623, 1.4771212547196624, 1.3010299956639813, 1.3010299956639813, 1.0, 1.3010299956639813, 1.0, 1.0, 1.0, 1.0, 1.0, 1.0, 1.9030899869919433, 1.0, 1.0, 1.0, 1.3010299956639813, 1.0, 1.0, 1.3010299956639813, 1.0, 1.0, 1.0, 1.0, 1.0, 1.0, 1.0, 1.0, 1.0, 1.0, 1.0, 1.0, 1.0, 1.0, 1.0, 1.0, 1.0, 1.0, 1.0, 1.0, 1.0, 1.0, 1.0, 1.0, 1.0, 1.0, 1.0, 1.0, 1.0, 1.0, 1.0, 1.0, 1.0, 1.0, 1.0, 1.0, 1.0, 1.0, 1.0, 1.0, 1.0, 1.0, 1.0, 1.0, 1.0, 1.0, 1.0, 1.0, 1.0, 1.0, 1.0, 1.4771212547196624, 1.0, 1.0, 1.0, ...]</td>\n",
       "    </tr>\n",
       "    <tr>\n",
       "      <th>...</th>\n",
       "      <td>...</td>\n",
       "      <td>...</td>\n",
       "      <td>...</td>\n",
       "    </tr>\n",
       "    <tr>\n",
       "      <th>2220</th>\n",
       "      <td>tech_376.txt</td>\n",
       "      <td>[tmobile, bet, pocket, office, launched, latest, thirdgeneration, device, also, builtin, wifi, highspeed, wireles, net, acces, unlike, user, check, network, available, transfer, datum, select, fastest, one, itself, mda, released, summer, upgrade, company, existing, smartphone, gwifi, iius, reflect, push, mobile, firm, like, mini, laptop, display, can, swivelled, angled, used, small, computer, conventional, clamshell, phone, microsoft, two, camera, qwerty, keyboard, design, similar, allinone, model, year, motorola, mpx, five, european, worker, already, meaning, spend, significant, time, travelling, rene, obermann, chief, executive, told, pres, conference, gsm, trade, show, canne, added, what, need, said, seeing, increasing, take, call, sold, europe, response, demand, adding, phoneshaped, blackberry, range, ...]</td>\n",
       "      <td>[1.7781512503836434, 1.0, 1.4771212547196624, 1.8450980400142567, 1.0, 1.3010299956639813, 1.0, 1.7781512503836434, 1.4771212547196624, 1.0, 1.9030899869919433, 1.4771212547196624, 1.3010299956639813, 1.3010299956639813, 1.6020599913279623, 1.0, 1.3010299956639813, 1.0, 1.3010299956639813, 1.3010299956639813, 1.0, 1.3010299956639813, 1.0, 1.0, 1.3010299956639813, 1.0, 1.4771212547196624, 1.3010299956639813, 1.3010299956639813, 1.0, 1.3010299956639813, 1.0, 1.0, 1.0, 1.0, 1.3010299956639813, 1.0, 1.8450980400142567, 1.0, 1.3010299956639813, 1.0, 1.0, 1.0, 1.3010299956639813, 1.0, 1.0, 1.0, 1.0, 1.0, 1.0, 1.0, 1.3010299956639813, 1.0, 1.0, 1.0, 1.0, 1.0, 1.0, 1.3010299956639813, 1.0, 1.0, 1.0, 1.0, 1.0, 1.0, 1.0, 1.0, 1.3010299956639813, 1.0, 1.0, 1.0, 1.0, 1.0, 1.0, 1.3010299956639813, 1.0, 1.0, 1.0, 1.0, 1.0, 1.3010299956639813, 1.0, 1.0, 1.3010299956639813, 1.3010299956639813, 1.0, 1.3010299956639813, 1.6989700043360187, 1.0, 1.0, 1.0, 1.0, 1.0, 1.0, 1.0, 1.0, 1.0, 1.0, 1.0, 1.0, ...</td>\n",
       "    </tr>\n",
       "    <tr>\n",
       "      <th>2221</th>\n",
       "      <td>tech_317.txt</td>\n",
       "      <td>[sony, psp, console, hit, march, gamer, will, able, buy, playstation, portable, news, europe, debut, handheld, sale, first, million, sold, come, spiderman, umd, disc, format, machine, billed, walkman, century, unit, japan, play, game, movie, music, also, offer, support, wireles, gaming, entering, market, dominated, nintendo, many, year, launched, last, said, wanted, launch, roughly, time, now, fear, put, back, release, core, device, entertainment, kaz, hirai, president, computer, america]</td>\n",
       "      <td>[1.7781512503836434, 1.3010299956639813, 1.4771212547196624, 1.0, 1.4771212547196624, 1.3010299956639813, 1.7781512503836434, 1.0, 1.0, 1.0, 1.0, 1.0, 1.4771212547196624, 1.0, 1.3010299956639813, 1.0, 1.0, 1.3010299956639813, 1.4771212547196624, 1.0, 1.0, 1.0, 1.0, 1.0, 1.3010299956639813, 1.0, 1.0, 1.0, 1.3010299956639813, 1.3010299956639813, 1.0, 1.0, 1.0, 1.0, 1.0, 1.0, 1.0, 1.0, 1.4771212547196624, 1.0, 1.0, 1.0, 1.3010299956639813, 1.0, 1.3010299956639813, 1.0, 1.0, 1.4771212547196624, 1.0, 1.3010299956639813, 1.0, 1.0, 1.0, 1.0, 1.0, 1.0, 1.0, 1.0, 1.3010299956639813, 1.3010299956639813, 1.0, 1.0, 1.0, 1.0, 1.0]</td>\n",
       "    </tr>\n",
       "    <tr>\n",
       "      <th>2222</th>\n",
       "      <td>tech_179.txt</td>\n",
       "      <td>[seaman, sail, biometric, future, luxury, cruise, liner, crystal, harmony, currently, gulf, mexico, unlikely, setting, test, technology, holidaymaker, enjoy, balmy, breeze, ship, crew, testing, prototype, version, world, first, internationally, issued, card, seafarer, equivalent, passport, along, owner, picture, name, personal, detail, new, identity, document, incorporate, barcode, representing, unique, feature, holder, fingerprint, due, february, next, year, line, revised, convention, june, way, caribbean, designed, ensure, machine, reader, produced, different, company, country, working, interoperable, standard, result, current, involve, wide, range, occupation, nationality, will, published, international, labmy, organisation, ilo, end, november, operate, exploring, use, yet, committed, authenticorp, consultancy, technical, specification, want, sure, land, port, say, can, ...]</td>\n",
       "      <td>[1.0, 1.0, 1.6020599913279623, 1.0, 1.0, 1.3010299956639813, 1.0, 1.4771212547196624, 1.3010299956639813, 1.3010299956639813, 1.0, 1.0, 1.0, 1.0, 1.4771212547196624, 1.4771212547196624, 1.0, 1.0, 1.0, 1.0, 1.4771212547196624, 1.0, 1.0, 1.0, 1.0, 1.3010299956639813, 1.3010299956639813, 1.0, 1.4771212547196624, 1.7781512503836434, 1.9542425094393248, 1.0, 1.0, 1.0, 1.0, 1.0, 1.0, 1.0, 1.0, 1.4771212547196624, 1.3010299956639813, 1.3010299956639813, 1.0, 1.0, 1.0, 1.0, 1.0, 1.0, 1.0, 1.0, 1.0, 1.0, 1.0, 1.0, 1.0, 1.4771212547196624, 1.0, 1.0, 1.0, 1.0, 1.0, 1.0, 1.0, 1.0, 1.3010299956639813, 1.0, 1.6020599913279623, 1.3010299956639813, 1.0, 1.0, 1.0, 1.0, 1.0, 1.0, 1.0, 1.0, 1.0, 1.4771212547196624, 1.0, 1.3010299956639813, 1.0, 1.0, 1.3010299956639813, 1.0, 1.0, 1.0, 1.0, 1.0, 1.0, 1.0, 1.3010299956639813, 1.0, 1.0, 1.0, 1.0, 1.0, 1.0, 1.0, 1.3010299956639813, 1.0, ...]</td>\n",
       "    </tr>\n",
       "    <tr>\n",
       "      <th>2223</th>\n",
       "      <td>tech_010.txt</td>\n",
       "      <td>[google, toolbar, spark, concern, search, engine, firm, released, trial, tool, concerning, net, user, direct, person, preselected, commercial, website, autolink, feature, come, latest, provide, link, webpage, amazoncom, find, book, isbn, number, site, also, map, service, addres, car, carfax, licence, plate, said, available, add, useful, concerned, dominant, position, market, place, mean, giving, competitive, edge, like, amazon, work, creating, based, information, contained, even, specified, whether, publisher, page, given, permission, click, unique, directly, online, library, list, directing, not, paid, advertising, may, rival, dan, gillmor, founder, grassroot, medium, support, citizenbased, bad, idea, unfortunate, move, company, looking, continue, hypergrowth, statement, still, betum, stage, welcomed, feedback, the, ...]</td>\n",
       "      <td>[2.113943352306837, 1.4771212547196624, 1.0, 1.3010299956639813, 1.3010299956639813, 1.3010299956639813, 1.4771212547196624, 1.0, 1.3010299956639813, 1.4771212547196624, 1.0, 1.3010299956639813, 2.0791812460476247, 1.3010299956639813, 1.4771212547196624, 1.0, 1.3010299956639813, 1.6989700043360187, 1.9030899869919433, 1.8450980400142567, 1.0, 1.0, 1.0, 1.8450980400142567, 1.4771212547196624, 1.3010299956639813, 1.3010299956639813, 1.4771212547196624, 1.4771212547196624, 1.4771212547196624, 1.4771212547196624, 1.3010299956639813, 1.0, 1.6989700043360187, 1.0, 1.0, 1.0, 1.0, 1.0, 1.9030899869919433, 1.0, 1.0, 1.0, 1.0, 1.0, 1.0, 1.3010299956639813, 1.0, 1.3010299956639813, 1.0, 1.0, 1.0, 1.3010299956639813, 1.3010299956639813, 1.3010299956639813, 1.0, 1.0, 1.0, 1.0, 1.0, 1.0, 1.3010299956639813, 1.0, 1.6989700043360187, 1.0, 1.0, 1.4771212547196624, 1.0, 1.0, 1.0, 1.0, 1.0, 1.3010299956639813, 1.0, 1.4771212547196624, 1.0, 1.0, 1.0, 1.0, 1.0, 1.0, 1.0, 1.3010299956639813, 1.0, 1.0, 1...</td>\n",
       "    </tr>\n",
       "    <tr>\n",
       "      <th>2224</th>\n",
       "      <td>tech_152.txt</td>\n",
       "      <td>[new, year, texting, break, record, mobile, phone, essential, recent, festivity, party, mood, auld, lang, syne, number, text, message, sent, anything, midnight, december, january, highest, ever, daily, total, recorded, datum, association, mda, represent, increase, last, figure, wishing, happy, friend, family, vium, become, staple, ingredient, largest, quite, overtaken, oldfashioned, call, heading, way, said, mike, short, chairman, case, eve, useful, unable, speak, hear, noisy, background, also, lot, internationally, different, time, zone, made, traditional, unfeasible, british, love, affair, show, sign, abating, annual, set, exceed, according, predict, see, thought, might, slow, mm, took, seen, that, firm, seeing, value, marketing, restaurant, using, tell, customer, special, offer, ...]</td>\n",
       "      <td>[1.6020599913279623, 1.7781512503836434, 1.6989700043360187, 1.0, 1.0, 1.4771212547196624, 1.3010299956639813, 1.0, 1.0, 1.0, 1.6020599913279623, 1.0, 1.0, 1.0, 1.0, 1.0, 1.9542425094393248, 1.7781512503836434, 1.6020599913279623, 1.0, 1.3010299956639813, 1.0, 1.3010299956639813, 1.0, 1.0, 1.0, 1.3010299956639813, 1.0, 1.0, 1.0, 1.6020599913279623, 1.0, 1.0, 1.0, 1.0, 1.0, 1.0, 1.0, 1.0, 1.3010299956639813, 1.0, 1.0, 1.0, 1.0, 1.0, 1.0, 1.0, 1.3010299956639813, 1.0, 1.0, 1.6020599913279623, 1.0, 1.3010299956639813, 1.0, 1.0, 1.0, 1.0, 1.0, 1.0, 1.0, 1.0, 1.0, 1.0, 1.0, 1.0, 1.0, 1.0, 1.0, 1.0, 1.0, 1.0, 1.0, 1.0, 1.0, 1.0, 1.3010299956639813, 1.0, 1.0, 1.3010299956639813, 1.0, 1.0, 1.0, 1.0, 1.0, 1.0, 1.0, 1.0, 1.0, 1.0, 1.0, 1.0, 1.0, 1.0, 1.0, 1.0, 1.0, 1.0, 1.0, 1.0, 1.3010299956639813, ...]</td>\n",
       "    </tr>\n",
       "  </tbody>\n",
       "</table>\n",
       "<p>2225 rows × 3 columns</p>\n",
       "</div>"
      ],
      "text/plain": [
       "               Doc  \\\n",
       "0     bsns_382.txt   \n",
       "1     bsns_050.txt   \n",
       "2     bsns_057.txt   \n",
       "3     bsns_272.txt   \n",
       "4     bsns_065.txt   \n",
       "...            ...   \n",
       "2220  tech_376.txt   \n",
       "2221  tech_317.txt   \n",
       "2222  tech_179.txt   \n",
       "2223  tech_010.txt   \n",
       "2224  tech_152.txt   \n",
       "\n",
       "                                                                                                                                                                                                                                                                                                                                                                                                                                                                                                                                                                                                                                                                                                                                                                                                                                                                                                                           Terms  \\\n",
       "0                     [ban, forced, retirement, employer, will, longer, able, force, worker, retire, unles, can, justify, government, announced, firm, barred, imposing, arbitrary, age, new, european, discrimination, rule, default, introduced, permitted, request, staying, beyond, compulsory, although, right, refuse, trade, industry, secretary, patricium, hewitt, said, person, work, wanted, saying, statutory, free, continue, employing, long, competent, proposal, department, last, year, allowed, till, wished, busines, leader, opposed, plan, costly, cumbersome, british, chamber, commerce, welcomed, latest, thi, move, today, best, world, ability, define, end, point, employeremployee, relationship, employee, flexibility, past, concern, cowardly, complete, uturn, make, mockery, socalled, commitment, outlawing, ageism, leaving, incoming, law, unravel, gordon, lishman, director, general, ...]   \n",
       "1                                                          [bad, weather, hit, nestle, sale, combination, rising, raw, material, cost, sluggish, european, economy, swiss, food, drink, giant, revenue, dipped, franc, ice, cream, mineral, water, dampened, wet, summer, however, profit, margin, helped, strong, performance, america, china, raise, dividend, paying, back, debt, said, strength, dollar, disposal, business, challenging, trading, condition, europe, dented, poor, acros, continent, contrast, prolonged, heat, wave, severely, affected, demand, bottled, also, fell, although, chocolate, coffee, frozen, good, petcare, product, performed, better, elsewhere, enjoyed, exceptional, year, north, outperforming, market, term, growth, added, strongly, africa, asium, despite, impact, high, oil, price, political, instability, total, earning, interest, remained, broadly, flat, past, company, ...]   \n",
       "2                                                                                  [economy, tronger, forecast, probably, grew, faster, rate, third, quarter, reported, according, bank, england, deputy, governor, rachel, lomax, private, sector, busines, survey, suggest, stronger, official, estimate, said, collectively, show, rapid, slowdown, house, price, growth, pointed, out, mean, despite, strong, economic, base, will, stay, hold, datum, come, office, national, statistic, on, though, reliable, take, longer, publish, now, boe, calling, delivery, can, make, effective, policy, decision, recent, work, shown, add, value, even, preliminary, available, speech, north, wale, club, due, second, friday, the, mpc, judge, overall, little, higher, currently, indicate, successful, monetary, depend, good, information, cited, late, example, time, weak, figure, published, substantially, revised, ...]   \n",
       "3                                                                 [market, signal, brazilian, recovery, stock, risen, record, high, investor, display, growing, confidence, durability, country, economic, main, bovespa, index, sao, paolo, exchange, closed, point, friday, topping, previou, close, reached, day, buoyancy, reflect, optimism, economy, grow, much, brazil, recovering, last, year, recession, worst, decade, output, declined, president, luiz, inacio, lula, silva, elected, first, workingclas, strongly, criticised, pursuing, hardline, policy, praised, handling, foreign, investment, unemployment, fallen, inflation, brought, control, analyst, believe, will, rise, mark, time, long, there, space, gain, end, somewhere, said, paschoal, tadeu, buonomo, head, equity, trading, broker, tov, currency, real, also, rose, highest, level, dollar, two, although, interest, rate, still, stand, ...]   \n",
       "4                                                    [aiming, fuel, development, aid, european, union, finance, minister, meet, thursday, discus, proposal, including, tax, jet, boost, poorer, nation, policy, maker, ask, report, money, can, raised, said, world, richest, country, want, increase, amount, give, annual, gros, national, income, airline, reacted, strongly, proposed, levy, profit, pressure, industry, lowcost, firm, driving, price, demand, dipping, september, terrorist, attack, outbreak, killer, sar, viru, thing, picked, company, teetering, brink, bankruptcy, present, used, enjoy, either, low, rate, untaxed, member, state, course, applaud, humanitarian, initiative, target, ulrich, schultestrathau, secretary, general, association, my, midst, fundamental, crisisonly, confronted, measure, designed, cost, continued, sought, allay, fear, stressing, meeting, first, step, also, ...]   \n",
       "...                                                                                                                                                                                                                                                                                                                                                                                                                                                                                                                                                                                                                                                                                                                                                                                                                                                                                                                          ...   \n",
       "2220                                                                       [tmobile, bet, pocket, office, launched, latest, thirdgeneration, device, also, builtin, wifi, highspeed, wireles, net, acces, unlike, user, check, network, available, transfer, datum, select, fastest, one, itself, mda, released, summer, upgrade, company, existing, smartphone, gwifi, iius, reflect, push, mobile, firm, like, mini, laptop, display, can, swivelled, angled, used, small, computer, conventional, clamshell, phone, microsoft, two, camera, qwerty, keyboard, design, similar, allinone, model, year, motorola, mpx, five, european, worker, already, meaning, spend, significant, time, travelling, rene, obermann, chief, executive, told, pres, conference, gsm, trade, show, canne, added, what, need, said, seeing, increasing, take, call, sold, europe, response, demand, adding, phoneshaped, blackberry, range, ...]   \n",
       "2221                                                                                                                                                                                                                                                                                                                                                                                                               [sony, psp, console, hit, march, gamer, will, able, buy, playstation, portable, news, europe, debut, handheld, sale, first, million, sold, come, spiderman, umd, disc, format, machine, billed, walkman, century, unit, japan, play, game, movie, music, also, offer, support, wireles, gaming, entering, market, dominated, nintendo, many, year, launched, last, said, wanted, launch, roughly, time, now, fear, put, back, release, core, device, entertainment, kaz, hirai, president, computer, america]   \n",
       "2222  [seaman, sail, biometric, future, luxury, cruise, liner, crystal, harmony, currently, gulf, mexico, unlikely, setting, test, technology, holidaymaker, enjoy, balmy, breeze, ship, crew, testing, prototype, version, world, first, internationally, issued, card, seafarer, equivalent, passport, along, owner, picture, name, personal, detail, new, identity, document, incorporate, barcode, representing, unique, feature, holder, fingerprint, due, february, next, year, line, revised, convention, june, way, caribbean, designed, ensure, machine, reader, produced, different, company, country, working, interoperable, standard, result, current, involve, wide, range, occupation, nationality, will, published, international, labmy, organisation, ilo, end, november, operate, exploring, use, yet, committed, authenticorp, consultancy, technical, specification, want, sure, land, port, say, can, ...]   \n",
       "2223                                                           [google, toolbar, spark, concern, search, engine, firm, released, trial, tool, concerning, net, user, direct, person, preselected, commercial, website, autolink, feature, come, latest, provide, link, webpage, amazoncom, find, book, isbn, number, site, also, map, service, addres, car, carfax, licence, plate, said, available, add, useful, concerned, dominant, position, market, place, mean, giving, competitive, edge, like, amazon, work, creating, based, information, contained, even, specified, whether, publisher, page, given, permission, click, unique, directly, online, library, list, directing, not, paid, advertising, may, rival, dan, gillmor, founder, grassroot, medium, support, citizenbased, bad, idea, unfortunate, move, company, looking, continue, hypergrowth, statement, still, betum, stage, welcomed, feedback, the, ...]   \n",
       "2224                                                                                               [new, year, texting, break, record, mobile, phone, essential, recent, festivity, party, mood, auld, lang, syne, number, text, message, sent, anything, midnight, december, january, highest, ever, daily, total, recorded, datum, association, mda, represent, increase, last, figure, wishing, happy, friend, family, vium, become, staple, ingredient, largest, quite, overtaken, oldfashioned, call, heading, way, said, mike, short, chairman, case, eve, useful, unable, speak, hear, noisy, background, also, lot, internationally, different, time, zone, made, traditional, unfeasible, british, love, affair, show, sign, abating, annual, set, exceed, according, predict, see, thought, might, slow, mm, took, seen, that, firm, seeing, value, marketing, restaurant, using, tell, customer, special, offer, ...]   \n",
       "\n",
       "                                                                                                                                                                                                                                                                                                                                                                                                                                                                                                                                                                                                                                                                                                                                                                                                                                                                                                                                                                                                                                  Log-TF(t,d)  \n",
       "0                                                                                                                             [1.0, 1.3010299956639813, 1.7781512503836434, 1.6020599913279623, 1.8450980400142567, 1.3010299956639813, 1.0, 1.0, 1.6020599913279623, 1.0, 1.0, 1.3010299956639813, 1.0, 1.4771212547196624, 1.0, 1.0, 1.0, 1.3010299956639813, 1.0, 2.113943352306837, 1.0, 1.3010299956639813, 1.4771212547196624, 1.0, 1.3010299956639813, 1.0, 1.0, 1.3010299956639813, 1.0, 1.0, 1.3010299956639813, 1.0, 1.3010299956639813, 1.0, 1.3010299956639813, 1.3010299956639813, 1.0, 1.0, 1.0, 1.8450980400142567, 1.4771212547196624, 1.4771212547196624, 1.0, 1.0, 1.0, 1.0, 1.0, 1.0, 1.0, 1.0, 1.3010299956639813, 1.0, 1.0, 1.0, 1.0, 1.0, 1.0, 1.0, 1.0, 1.0, 1.0, 1.0, 1.0, 1.0, 1.0, 1.0, 1.0, 1.0, 1.3010299956639813, 1.0, 1.0, 1.0, 1.0, 1.0, 1.0, 1.0, 1.0, 1.0, 1.0, 1.0, 1.0, 1.0, 1.3010299956639813, 1.0, 1.0, 1.0, 1.0, 1.0, 1.0, 1.0, 1.0, 1.0, 1.0, 1.0, 1.3010299956639813, 1.0, 1.0, 1.0, 1.0, 1.0, ...]  \n",
       "1                                                                                                                            [1.3010299956639813, 1.3010299956639813, 1.3010299956639813, 2.0791812460476247, 1.7781512503836434, 1.0, 1.0, 1.0, 1.0, 1.0, 1.0, 1.0, 1.0, 1.6020599913279623, 1.0, 1.0, 1.0, 1.0, 1.0, 1.4771212547196624, 1.3010299956639813, 1.3010299956639813, 1.3010299956639813, 1.4771212547196624, 1.0, 1.0, 1.3010299956639813, 1.0, 1.3010299956639813, 1.3010299956639813, 1.0, 1.0, 1.0, 1.3010299956639813, 1.0, 1.0, 1.3010299956639813, 1.0, 1.3010299956639813, 1.0, 1.3010299956639813, 1.0, 1.0, 1.0, 1.0, 1.0, 1.3010299956639813, 1.0, 1.0, 1.0, 1.0, 1.0, 1.0, 1.0, 1.0, 1.0, 1.0, 1.0, 1.0, 1.0, 1.0, 1.0, 1.0, 1.3010299956639813, 1.0, 1.0, 1.0, 1.0, 1.0, 1.0, 1.3010299956639813, 1.0, 1.0, 1.0, 1.0, 1.3010299956639813, 1.0, 1.0, 1.0, 1.0, 1.3010299956639813, 1.0, 1.0, 1.0, 1.0, 1.3010299956639813, 1.0, 1.0, 1.0, 1.0, 1.0, 1.0, 1.0, 1.3010299956639813, 1.0, 1.0, 1.0, 1.0, 1.0, 1.0, ...]  \n",
       "2     [1.6020599913279623, 1.0, 1.0, 1.3010299956639813, 1.0, 1.3010299956639813, 1.6020599913279623, 1.4771212547196624, 1.4771212547196624, 1.0, 1.0, 1.6020599913279623, 1.3010299956639813, 1.0, 1.0, 1.3010299956639813, 1.8450980400142567, 1.3010299956639813, 1.3010299956639813, 1.3010299956639813, 1.4771212547196624, 1.0, 1.0, 1.4771212547196624, 1.4771212547196624, 1.9030899869919433, 1.0, 1.0, 1.0, 1.4771212547196624, 1.3010299956639813, 1.4771212547196624, 1.6020599913279623, 1.0, 1.0, 1.0, 1.0, 1.0, 1.6989700043360187, 1.0, 1.3010299956639813, 1.0, 1.0, 1.6989700043360187, 1.3010299956639813, 1.0, 1.3010299956639813, 1.3010299956639813, 1.6989700043360187, 1.0, 1.0, 1.0, 1.0, 1.3010299956639813, 1.0, 1.0, 1.0, 1.3010299956639813, 1.3010299956639813, 1.3010299956639813, 1.0, 1.6020599913279623, 1.4771212547196624, 1.0, 1.0, 1.0, 1.0, 1.0, 1.0, 1.0, 1.3010299956639813, 1.0, 1.0, 1.0, 1.0, 1.0, 1.0, 1.0, 1.4771212547196624, 1.6989700043360187, 1.0, 1.0, 1.0, 1.0, 1.0, 1.0, 1.0, 1.301...  \n",
       "3                                                                                                                            [1.6989700043360187, 1.0, 1.4771212547196624, 1.4771212547196624, 1.4771212547196624, 1.3010299956639813, 1.3010299956639813, 1.0, 1.4771212547196624, 1.0, 1.0, 1.0, 1.0, 1.0, 1.6989700043360187, 1.0, 1.0, 1.0, 1.0, 1.0, 1.0, 1.0, 1.3010299956639813, 1.3010299956639813, 1.0, 1.3010299956639813, 1.0, 1.0, 1.0, 1.0, 1.0, 1.0, 1.3010299956639813, 1.0, 1.0, 1.6020599913279623, 1.0, 1.3010299956639813, 1.6020599913279623, 1.0, 1.0, 1.4771212547196624, 1.0, 1.0, 1.6020599913279623, 1.0, 1.0, 1.0, 1.6020599913279623, 1.0, 1.4771212547196624, 1.0, 1.0, 1.0, 1.0, 1.0, 1.6989700043360187, 1.0, 1.0, 1.0, 1.0, 1.0, 1.3010299956639813, 1.4771212547196624, 1.0, 1.3010299956639813, 1.0, 1.0, 1.0, 1.3010299956639813, 1.0, 1.3010299956639813, 1.0, 1.0, 1.0, 1.0, 1.0, 1.0, 1.0, 1.0, 1.0, 1.0, 1.0, 1.0, 1.0, 1.0, 1.0, 1.0, 1.0, 1.0, 1.0, 1.0, 1.0, 1.0, 1.0, 1.0, 1.0, 1.0, 1.0, 1.0, ...]  \n",
       "4                                                                                                                                                                                                       [1.0, 1.6989700043360187, 1.6020599913279623, 1.4771212547196624, 1.4771212547196624, 1.0, 1.3010299956639813, 1.4771212547196624, 1.0, 1.3010299956639813, 1.0, 1.3010299956639813, 1.0, 1.4771212547196624, 1.3010299956639813, 1.0, 1.0, 1.3010299956639813, 1.0, 1.0, 1.0, 1.0, 1.0, 1.0, 1.0, 1.6020599913279623, 1.4771212547196624, 1.3010299956639813, 1.3010299956639813, 1.0, 1.3010299956639813, 1.0, 1.0, 1.0, 1.0, 1.0, 1.0, 1.9030899869919433, 1.0, 1.0, 1.0, 1.3010299956639813, 1.0, 1.0, 1.3010299956639813, 1.0, 1.0, 1.0, 1.0, 1.0, 1.0, 1.0, 1.0, 1.0, 1.0, 1.0, 1.0, 1.0, 1.0, 1.0, 1.0, 1.0, 1.0, 1.0, 1.0, 1.0, 1.0, 1.0, 1.0, 1.0, 1.0, 1.0, 1.0, 1.0, 1.0, 1.0, 1.0, 1.0, 1.0, 1.0, 1.0, 1.0, 1.0, 1.0, 1.0, 1.0, 1.0, 1.0, 1.0, 1.0, 1.0, 1.0, 1.0, 1.0, 1.0, 1.0, 1.4771212547196624, 1.0, 1.0, 1.0, ...]  \n",
       "...                                                                                                                                                                                                                                                                                                                                                                                                                                                                                                                                                                                                                                                                                                                                                                                                                                                                                                                                                                                                                                       ...  \n",
       "2220  [1.7781512503836434, 1.0, 1.4771212547196624, 1.8450980400142567, 1.0, 1.3010299956639813, 1.0, 1.7781512503836434, 1.4771212547196624, 1.0, 1.9030899869919433, 1.4771212547196624, 1.3010299956639813, 1.3010299956639813, 1.6020599913279623, 1.0, 1.3010299956639813, 1.0, 1.3010299956639813, 1.3010299956639813, 1.0, 1.3010299956639813, 1.0, 1.0, 1.3010299956639813, 1.0, 1.4771212547196624, 1.3010299956639813, 1.3010299956639813, 1.0, 1.3010299956639813, 1.0, 1.0, 1.0, 1.0, 1.3010299956639813, 1.0, 1.8450980400142567, 1.0, 1.3010299956639813, 1.0, 1.0, 1.0, 1.3010299956639813, 1.0, 1.0, 1.0, 1.0, 1.0, 1.0, 1.0, 1.3010299956639813, 1.0, 1.0, 1.0, 1.0, 1.0, 1.0, 1.3010299956639813, 1.0, 1.0, 1.0, 1.0, 1.0, 1.0, 1.0, 1.0, 1.3010299956639813, 1.0, 1.0, 1.0, 1.0, 1.0, 1.0, 1.3010299956639813, 1.0, 1.0, 1.0, 1.0, 1.0, 1.3010299956639813, 1.0, 1.0, 1.3010299956639813, 1.3010299956639813, 1.0, 1.3010299956639813, 1.6989700043360187, 1.0, 1.0, 1.0, 1.0, 1.0, 1.0, 1.0, 1.0, 1.0, 1.0, 1.0, 1.0, ...  \n",
       "2221                                                                                                                                                                                                                                                                                                                                                                                        [1.7781512503836434, 1.3010299956639813, 1.4771212547196624, 1.0, 1.4771212547196624, 1.3010299956639813, 1.7781512503836434, 1.0, 1.0, 1.0, 1.0, 1.0, 1.4771212547196624, 1.0, 1.3010299956639813, 1.0, 1.0, 1.3010299956639813, 1.4771212547196624, 1.0, 1.0, 1.0, 1.0, 1.0, 1.3010299956639813, 1.0, 1.0, 1.0, 1.3010299956639813, 1.3010299956639813, 1.0, 1.0, 1.0, 1.0, 1.0, 1.0, 1.0, 1.0, 1.4771212547196624, 1.0, 1.0, 1.0, 1.3010299956639813, 1.0, 1.3010299956639813, 1.0, 1.0, 1.4771212547196624, 1.0, 1.3010299956639813, 1.0, 1.0, 1.0, 1.0, 1.0, 1.0, 1.0, 1.0, 1.3010299956639813, 1.3010299956639813, 1.0, 1.0, 1.0, 1.0, 1.0]  \n",
       "2222                                                                                                                         [1.0, 1.0, 1.6020599913279623, 1.0, 1.0, 1.3010299956639813, 1.0, 1.4771212547196624, 1.3010299956639813, 1.3010299956639813, 1.0, 1.0, 1.0, 1.0, 1.4771212547196624, 1.4771212547196624, 1.0, 1.0, 1.0, 1.0, 1.4771212547196624, 1.0, 1.0, 1.0, 1.0, 1.3010299956639813, 1.3010299956639813, 1.0, 1.4771212547196624, 1.7781512503836434, 1.9542425094393248, 1.0, 1.0, 1.0, 1.0, 1.0, 1.0, 1.0, 1.0, 1.4771212547196624, 1.3010299956639813, 1.3010299956639813, 1.0, 1.0, 1.0, 1.0, 1.0, 1.0, 1.0, 1.0, 1.0, 1.0, 1.0, 1.0, 1.0, 1.4771212547196624, 1.0, 1.0, 1.0, 1.0, 1.0, 1.0, 1.0, 1.0, 1.3010299956639813, 1.0, 1.6020599913279623, 1.3010299956639813, 1.0, 1.0, 1.0, 1.0, 1.0, 1.0, 1.0, 1.0, 1.0, 1.4771212547196624, 1.0, 1.3010299956639813, 1.0, 1.0, 1.3010299956639813, 1.0, 1.0, 1.0, 1.0, 1.0, 1.0, 1.0, 1.3010299956639813, 1.0, 1.0, 1.0, 1.0, 1.0, 1.0, 1.0, 1.3010299956639813, 1.0, ...]  \n",
       "2223  [2.113943352306837, 1.4771212547196624, 1.0, 1.3010299956639813, 1.3010299956639813, 1.3010299956639813, 1.4771212547196624, 1.0, 1.3010299956639813, 1.4771212547196624, 1.0, 1.3010299956639813, 2.0791812460476247, 1.3010299956639813, 1.4771212547196624, 1.0, 1.3010299956639813, 1.6989700043360187, 1.9030899869919433, 1.8450980400142567, 1.0, 1.0, 1.0, 1.8450980400142567, 1.4771212547196624, 1.3010299956639813, 1.3010299956639813, 1.4771212547196624, 1.4771212547196624, 1.4771212547196624, 1.4771212547196624, 1.3010299956639813, 1.0, 1.6989700043360187, 1.0, 1.0, 1.0, 1.0, 1.0, 1.9030899869919433, 1.0, 1.0, 1.0, 1.0, 1.0, 1.0, 1.3010299956639813, 1.0, 1.3010299956639813, 1.0, 1.0, 1.0, 1.3010299956639813, 1.3010299956639813, 1.3010299956639813, 1.0, 1.0, 1.0, 1.0, 1.0, 1.0, 1.3010299956639813, 1.0, 1.6989700043360187, 1.0, 1.0, 1.4771212547196624, 1.0, 1.0, 1.0, 1.0, 1.0, 1.3010299956639813, 1.0, 1.4771212547196624, 1.0, 1.0, 1.0, 1.0, 1.0, 1.0, 1.0, 1.3010299956639813, 1.0, 1.0, 1...  \n",
       "2224                                                                                                                                                                                                    [1.6020599913279623, 1.7781512503836434, 1.6989700043360187, 1.0, 1.0, 1.4771212547196624, 1.3010299956639813, 1.0, 1.0, 1.0, 1.6020599913279623, 1.0, 1.0, 1.0, 1.0, 1.0, 1.9542425094393248, 1.7781512503836434, 1.6020599913279623, 1.0, 1.3010299956639813, 1.0, 1.3010299956639813, 1.0, 1.0, 1.0, 1.3010299956639813, 1.0, 1.0, 1.0, 1.6020599913279623, 1.0, 1.0, 1.0, 1.0, 1.0, 1.0, 1.0, 1.0, 1.3010299956639813, 1.0, 1.0, 1.0, 1.0, 1.0, 1.0, 1.0, 1.3010299956639813, 1.0, 1.0, 1.6020599913279623, 1.0, 1.3010299956639813, 1.0, 1.0, 1.0, 1.0, 1.0, 1.0, 1.0, 1.0, 1.0, 1.0, 1.0, 1.0, 1.0, 1.0, 1.0, 1.0, 1.0, 1.0, 1.0, 1.0, 1.0, 1.0, 1.3010299956639813, 1.0, 1.0, 1.3010299956639813, 1.0, 1.0, 1.0, 1.0, 1.0, 1.0, 1.0, 1.0, 1.0, 1.0, 1.0, 1.0, 1.0, 1.0, 1.0, 1.0, 1.0, 1.0, 1.0, 1.0, 1.3010299956639813, ...]  \n",
       "\n",
       "[2225 rows x 3 columns]"
      ]
     },
     "execution_count": 45,
     "metadata": {},
     "output_type": "execute_result"
    }
   ],
   "source": [
    "cols = [\"Doc\", \"Terms\", \"Log-TF(t,d)\"]\n",
    "log_tf.toDF(cols).toPandas()"
   ]
  },
  {
   "cell_type": "code",
   "execution_count": 46,
   "metadata": {},
   "outputs": [],
   "source": [
    "def df(t):\n",
    "    \n",
    "    term = t[0]\n",
    "    dft  = t[1][0]\n",
    "   \n",
    "    return (term, dft)"
   ]
  },
  {
   "cell_type": "code",
   "execution_count": 47,
   "metadata": {},
   "outputs": [],
   "source": [
    "df = inverted_index.map(df)"
   ]
  },
  {
   "cell_type": "code",
   "execution_count": 48,
   "metadata": {},
   "outputs": [
    {
     "data": {
      "text/plain": [
       "[('retirement', 38)]"
      ]
     },
     "execution_count": 48,
     "metadata": {},
     "output_type": "execute_result"
    }
   ],
   "source": [
    "df.take(1)"
   ]
  },
  {
   "cell_type": "code",
   "execution_count": 49,
   "metadata": {},
   "outputs": [],
   "source": [
    "def idf(t):\n",
    "    \n",
    "    term = t[0]\n",
    "    dft  = t[1]\n",
    "    \n",
    "    a = num_of_documents / dft\n",
    "    idft = math.log(a, 10)\n",
    "    \n",
    "    return(term, idft)"
   ]
  },
  {
   "cell_type": "code",
   "execution_count": 50,
   "metadata": {},
   "outputs": [],
   "source": [
    "idf = df.map(idf)"
   ]
  },
  {
   "cell_type": "code",
   "execution_count": 51,
   "metadata": {},
   "outputs": [
    {
     "data": {
      "text/plain": [
       "[('retirement', 1.7675464187001402)]"
      ]
     },
     "execution_count": 51,
     "metadata": {},
     "output_type": "execute_result"
    }
   ],
   "source": [
    "idf.take(1)"
   ]
  },
  {
   "cell_type": "code",
   "execution_count": 52,
   "metadata": {},
   "outputs": [],
   "source": [
    "idfMap = idf.collectAsMap()"
   ]
  },
  {
   "cell_type": "code",
   "execution_count": 53,
   "metadata": {},
   "outputs": [],
   "source": [
    "idft = df.join(idf)\n",
    "\n",
    "idft = idft.map(lambda t:(t[0], t[1][0], t[1][1]))"
   ]
  },
  {
   "cell_type": "markdown",
   "metadata": {},
   "source": [
    "<h3>Inverse document frequency</h3>\n",
    "\n",
    "A measure of how much information the word provides, i.e., if it's common or rare across all documents"
   ]
  },
  {
   "cell_type": "code",
   "execution_count": 54,
   "metadata": {},
   "outputs": [
    {
     "data": {
      "text/html": [
       "<div>\n",
       "<style scoped>\n",
       "    .dataframe tbody tr th:only-of-type {\n",
       "        vertical-align: middle;\n",
       "    }\n",
       "\n",
       "    .dataframe tbody tr th {\n",
       "        vertical-align: top;\n",
       "    }\n",
       "\n",
       "    .dataframe thead th {\n",
       "        text-align: right;\n",
       "    }\n",
       "</style>\n",
       "<table border=\"1\" class=\"dataframe\">\n",
       "  <thead>\n",
       "    <tr style=\"text-align: right;\">\n",
       "      <th></th>\n",
       "      <th>Term</th>\n",
       "      <th>DF(t)</th>\n",
       "      <th>IDF(t)</th>\n",
       "    </tr>\n",
       "  </thead>\n",
       "  <tbody>\n",
       "    <tr>\n",
       "      <th>0</th>\n",
       "      <td>retirement</td>\n",
       "      <td>38</td>\n",
       "      <td>1.767546</td>\n",
       "    </tr>\n",
       "    <tr>\n",
       "      <th>1</th>\n",
       "      <td>default</td>\n",
       "      <td>12</td>\n",
       "      <td>2.268149</td>\n",
       "    </tr>\n",
       "    <tr>\n",
       "      <th>2</th>\n",
       "      <td>introduced</td>\n",
       "      <td>67</td>\n",
       "      <td>1.521255</td>\n",
       "    </tr>\n",
       "    <tr>\n",
       "      <th>3</th>\n",
       "      <td>beyond</td>\n",
       "      <td>83</td>\n",
       "      <td>1.428252</td>\n",
       "    </tr>\n",
       "    <tr>\n",
       "      <th>4</th>\n",
       "      <td>right</td>\n",
       "      <td>406</td>\n",
       "      <td>0.738804</td>\n",
       "    </tr>\n",
       "    <tr>\n",
       "      <th>...</th>\n",
       "      <td>...</td>\n",
       "      <td>...</td>\n",
       "      <td>...</td>\n",
       "    </tr>\n",
       "    <tr>\n",
       "      <th>26741</th>\n",
       "      <td>marginalised</td>\n",
       "      <td>1</td>\n",
       "      <td>3.347330</td>\n",
       "    </tr>\n",
       "    <tr>\n",
       "      <th>26742</th>\n",
       "      <td>sorround</td>\n",
       "      <td>1</td>\n",
       "      <td>3.347330</td>\n",
       "    </tr>\n",
       "    <tr>\n",
       "      <th>26743</th>\n",
       "      <td>sanity</td>\n",
       "      <td>1</td>\n",
       "      <td>3.347330</td>\n",
       "    </tr>\n",
       "    <tr>\n",
       "      <th>26744</th>\n",
       "      <td>succesfull</td>\n",
       "      <td>1</td>\n",
       "      <td>3.347330</td>\n",
       "    </tr>\n",
       "    <tr>\n",
       "      <th>26745</th>\n",
       "      <td>unfeasible</td>\n",
       "      <td>1</td>\n",
       "      <td>3.347330</td>\n",
       "    </tr>\n",
       "  </tbody>\n",
       "</table>\n",
       "<p>26746 rows × 3 columns</p>\n",
       "</div>"
      ],
      "text/plain": [
       "               Term  DF(t)    IDF(t)\n",
       "0        retirement     38  1.767546\n",
       "1           default     12  2.268149\n",
       "2        introduced     67  1.521255\n",
       "3            beyond     83  1.428252\n",
       "4             right    406  0.738804\n",
       "...             ...    ...       ...\n",
       "26741  marginalised      1  3.347330\n",
       "26742      sorround      1  3.347330\n",
       "26743        sanity      1  3.347330\n",
       "26744    succesfull      1  3.347330\n",
       "26745    unfeasible      1  3.347330\n",
       "\n",
       "[26746 rows x 3 columns]"
      ]
     },
     "execution_count": 54,
     "metadata": {},
     "output_type": "execute_result"
    }
   ],
   "source": [
    "cols = [\"Term\", \"DF(t)\", \"IDF(t)\"]\n",
    "idft.toDF(cols).toPandas()"
   ]
  },
  {
   "cell_type": "code",
   "execution_count": 55,
   "metadata": {},
   "outputs": [],
   "source": [
    "def tf_idf(d):\n",
    "    \n",
    "    doc   = d[0]\n",
    "    terms = d[1]\n",
    "    log_tf    = d[2]\n",
    "    wtd = []\n",
    "    \n",
    "    for i in range(len(terms)):\n",
    "        wtd.append(log_tf[i] * idfMap[terms[i]])\n",
    "    \n",
    "    return (doc, terms, wtd)"
   ]
  },
  {
   "cell_type": "code",
   "execution_count": 56,
   "metadata": {},
   "outputs": [],
   "source": [
    "wtd = log_tf.map(tf_idf)"
   ]
  },
  {
   "cell_type": "markdown",
   "metadata": {},
   "source": [
    "<h3>Term frequency–Inverse document frequency</h3>\n",
    "\n",
    "It is the logarithmically scaled inverse fraction of the documents that contain the word (obtained by dividing the total number of documents by the number of documents containing the term, and then taking the logarithm of that quotient)\n",
    "\n",
    "\n",
    "A high weight in tf–idf is reached by a high term frequency (in the given document) and a low document frequency of the term in the whole collection of documents; the weights hence tend to filter out common terms. Since the ratio inside the idf's log function is always greater than or equal to 1, the value of idf (and tf–idf) is greater than or equal to 0. As a term appears in more documents, the ratio inside the logarithm approaches 1, bringing the idf and tf–idf closer to 0. "
   ]
  },
  {
   "cell_type": "code",
   "execution_count": 57,
   "metadata": {},
   "outputs": [
    {
     "data": {
      "text/html": [
       "<div>\n",
       "<style scoped>\n",
       "    .dataframe tbody tr th:only-of-type {\n",
       "        vertical-align: middle;\n",
       "    }\n",
       "\n",
       "    .dataframe tbody tr th {\n",
       "        vertical-align: top;\n",
       "    }\n",
       "\n",
       "    .dataframe thead th {\n",
       "        text-align: right;\n",
       "    }\n",
       "</style>\n",
       "<table border=\"1\" class=\"dataframe\">\n",
       "  <thead>\n",
       "    <tr style=\"text-align: right;\">\n",
       "      <th></th>\n",
       "      <th>Doc</th>\n",
       "      <th>Terms</th>\n",
       "      <th>W(td)= td-idf</th>\n",
       "    </tr>\n",
       "  </thead>\n",
       "  <tbody>\n",
       "    <tr>\n",
       "      <th>0</th>\n",
       "      <td>bsns_382.txt</td>\n",
       "      <td>[ban, forced, retirement, employer, will, longer, able, force, worker, retire, unles, can, justify, government, announced, firm, barred, imposing, arbitrary, age, new, european, discrimination, rule, default, introduced, permitted, request, staying, beyond, compulsory, although, right, refuse, trade, industry, secretary, patricium, hewitt, said, person, work, wanted, saying, statutory, free, continue, employing, long, competent, proposal, department, last, year, allowed, till, wished, busines, leader, opposed, plan, costly, cumbersome, british, chamber, commerce, welcomed, latest, thi, move, today, best, world, ability, define, end, point, employeremployee, relationship, employee, flexibility, past, concern, cowardly, complete, uturn, make, mockery, socalled, commitment, outlawing, ageism, leaving, incoming, law, unravel, gordon, lishman, director, general, ...]</td>\n",
       "      <td>[1.466516423036159, 1.6546279011328127, 3.142964874522785, 3.095751305731075, 0.33214104409515793, 1.7417276825556467, 0.9407898348829952, 1.2234783743498645, 2.3225110538940306, 2.0251107205830308, 1.5344166586740946, 0.6084407411965552, 2.305937330158725, 0.9865724156112016, 1.0292666803541888, 0.6808120347620694, 2.305937330158725, 3.180029593453413, 2.648360010980931, 2.794684163591902, 0.35699116052934887, 1.163136005999963, 3.406149042428964, 1.1042919666306559, 2.9509295834477345, 1.5212552126161238, 2.305937330158725, 2.3460979142677947, 2.5022319753026934, 1.4282519229408763, 2.8248467496440672, 0.9208187539523751, 0.9612061411594071, 1.870208760597288, 1.4699636289881597, 1.2086942367537974, 1.0731721660532705, 2.305937330158725, 1.9323566673461323, 0.1316071997804136, 0.6341276798040393, 1.0252957148000152, 1.1220207335910874, 0.9373968919856557, 2.5022319753026934, 1.1654864273721777, 0.9459294745354062, 2.4442400283250065, 0.9424962986970122, 2.5691787649333064, 1.6313...</td>\n",
       "    </tr>\n",
       "    <tr>\n",
       "      <th>1</th>\n",
       "      <td>bsns_050.txt</td>\n",
       "      <td>[bad, weather, hit, nestle, sale, combination, rising, raw, material, cost, sluggish, european, economy, swiss, food, drink, giant, revenue, dipped, franc, ice, cream, mineral, water, dampened, wet, summer, however, profit, margin, helped, strong, performance, america, china, raise, dividend, paying, back, debt, said, strength, dollar, disposal, business, challenging, trading, condition, europe, dented, poor, acros, continent, contrast, prolonged, heat, wave, severely, affected, demand, bottled, also, fell, although, chocolate, coffee, frozen, good, petcare, product, performed, better, elsewhere, enjoyed, exceptional, year, north, outperforming, market, term, growth, added, strongly, africa, asium, despite, impact, high, oil, price, political, instability, total, earning, interest, remained, broadly, flat, past, company, ...]</td>\n",
       "      <td>[1.764331902689513, 2.472180748071463, 1.0581327815390975, 6.959705792179311, 1.4879303031392312, 1.915966251157963, 1.4608392901444682, 2.0920575102136443, 1.496071666597875, 0.8879375275577194, 2.0685764143641214, 0.8940116752699125, 1.0441339578964615, 3.0441895121681943, 1.6845721836353762, 1.9323566673461323, 1.1351424109129926, 1.3387298435550328, 2.305937330158725, 4.055096702378891, 3.0000936346578184, 3.3425786374011723, 3.963327701360288, 2.6455648095290365, 2.745270023988988, 2.648360010980931, 1.61786500936053, 0.7271939603431928, 1.6838601168906793, 2.3793445706987026, 1.2504200023088938, 0.9856021792993573, 1.0484769389072437, 1.6990636389938378, 1.383542187971395, 1.33029667601817, 2.7541258004682, 1.6149362554939817, 0.7587006937754538, 1.3516948207194002, 0.09279990051820618, 1.6149362554939817, 1.2469594701993874, 2.5691787649333064, 1.514821102610714, 1.9323566673461323, 1.923050219097158, 1.496071666597875, 0.9493900066449127, 2.745270023988988, 1.32202415005217...</td>\n",
       "    </tr>\n",
       "    <tr>\n",
       "      <th>2</th>\n",
       "      <td>bsns_057.txt</td>\n",
       "      <td>[economy, tronger, forecast, probably, grew, faster, rate, third, quarter, reported, according, bank, england, deputy, governor, rachel, lomax, private, sector, busines, survey, suggest, stronger, official, estimate, said, collectively, show, rapid, slowdown, house, price, growth, pointed, out, mean, despite, strong, economic, base, will, stay, hold, datum, come, office, national, statistic, on, though, reliable, take, longer, publish, now, boe, calling, delivery, can, make, effective, policy, decision, recent, work, shown, add, value, even, preliminary, available, speech, north, wale, club, due, second, friday, the, mpc, judge, overall, little, higher, currently, indicate, successful, monetary, depend, good, information, cited, late, example, time, weak, figure, published, substantially, revised, ...]</td>\n",
       "      <td>[1.672765239532836, 3.3473300153169503, 1.3387298435550328, 1.8251464727975055, 1.6149362554939817, 2.0907126929472755, 1.7534177880356803, 1.2602435488044281, 1.7976510230947502, 1.1981109026615704, 0.8248857818106304, 1.773129186037007, 1.2466000149324075, 1.4899975188856818, 2.1712387562612694, 3.445595813603182, 5.620722195557085, 1.7417276825556467, 1.7094314555295034, 1.2086942367537974, 2.1333176427557947, 1.2469594701993874, 1.6483600109809315, 1.5359608694027456, 2.296832450845004, 0.13574365084481807, 3.046300019652969, 0.7652666524052416, 1.870208760597288, 2.7842731466297317, 1.439954976535679, 1.447540563751785, 1.5820254829376426, 1.6752321573812328, 1.1889675232217005, 0.8864321725604024, 0.8789826849047929, 0.9856021792993573, 1.7739522749747356, 1.8288160754390625, 0.23420189701985406, 1.334492790611778, 1.0872586273318754, 1.9849968170463637, 0.8572619259505784, 0.9707530582604385, 1.223995794798541, 2.1445658179392013, 3.988043286301106, 1.1405041392851005, 2.444...</td>\n",
       "    </tr>\n",
       "    <tr>\n",
       "      <th>3</th>\n",
       "      <td>bsns_272.txt</td>\n",
       "      <td>[market, signal, brazilian, recovery, stock, risen, record, high, investor, display, growing, confidence, durability, country, economic, main, bovespa, index, sao, paolo, exchange, closed, point, friday, topping, previou, close, reached, day, buoyancy, reflect, optimism, economy, grow, much, brazil, recovering, last, year, recession, worst, decade, output, declined, president, luiz, inacio, lula, silva, elected, first, workingclas, strongly, criticised, pursuing, hardline, policy, praised, handling, foreign, investment, unemployment, fallen, inflation, brought, control, analyst, believe, will, rise, mark, time, long, there, space, gain, end, somewhere, said, paschoal, tadeu, buonomo, head, equity, trading, broker, tov, currency, real, also, rose, highest, level, dollar, two, although, interest, rate, still, stand, ...]</td>\n",
       "      <td>[1.2792181680764514, 1.7138615597373636, 2.932975182460763, 2.2282092360358354, 1.9527899712947712, 2.179527286453867, 1.1172976274155557, 0.9208187539523751, 1.9837866096825059, 1.496071666597875, 1.2267560841111003, 1.4128315640733826, 3.3473300153169503, 0.704865495074829, 1.7739522749747356, 1.0944769843370572, 3.3473300153169503, 1.7240807249190497, 2.8702087605972877, 2.4442400283250065, 1.3473300153169503, 1.514821102610714, 1.163136005999963, 1.483830095388847, 2.1712387562612694, 1.487350543835994, 1.1194433107032769, 1.3059373301587254, 0.6679021187048315, 3.3473300153169503, 1.576478003674806, 2.004907334494744, 1.3584495987146488, 1.4608392901444682, 0.6931534734389898, 3.244348863455414, 2.2333866630101133, 0.5064183366386545, 0.3569802839683096, 2.1432100326610253, 1.666088777941363, 2.109701272470198, 1.6149362554939817, 1.779128291249955, 1.6489469690023921, 2.745270023988988, 2.745270023988988, 2.648360010980931, 4.008725736653983, 1.8032619709666744, 0.67161598755...</td>\n",
       "    </tr>\n",
       "    <tr>\n",
       "      <th>4</th>\n",
       "      <td>bsns_065.txt</td>\n",
       "      <td>[aiming, fuel, development, aid, european, union, finance, minister, meet, thursday, discus, proposal, including, tax, jet, boost, poorer, nation, policy, maker, ask, report, money, can, raised, said, world, richest, country, want, increase, amount, give, annual, gros, national, income, airline, reacted, strongly, proposed, levy, profit, pressure, industry, lowcost, firm, driving, price, demand, dipping, september, terrorist, attack, outbreak, killer, sar, viru, thing, picked, company, teetering, brink, bankruptcy, present, used, enjoy, either, low, rate, untaxed, member, state, course, applaud, humanitarian, initiative, target, ulrich, schultestrathau, secretary, general, association, my, midst, fundamental, crisisonly, confronted, measure, designed, cost, continued, sought, allay, fear, stressing, meeting, first, step, also, ...]</td>\n",
       "      <td>[1.870208760597288, 2.8306348582832297, 1.8491063202896116, 2.057759164616243, 1.3205636475087206, 1.1654864273721777, 1.7094314555295034, 1.1738118339191153, 1.2137911069467329, 1.535231892683835, 1.5991419883107498, 1.6313723493442194, 0.8171303171138682, 1.867885772672169, 2.7541258004682, 1.2333866630101136, 2.1712387562612694, 1.3023011551380423, 1.089651440447766, 1.383542187971395, 1.4442400283250068, 0.8367850051103382, 0.9064209332517326, 0.4676608096848968, 1.4282519229408763, 0.11427177568151213, 0.7718749596313131, 2.721829573442057, 0.9170511520008947, 0.6509736265836181, 1.344566095629818, 1.2435262943609935, 0.9159662511579629, 1.2367403050177015, 1.9323566673461323, 0.9407898348829952, 1.4388449964383005, 3.2810807643592548, 2.1432100326610253, 1.8032619709666744, 1.541150041333063, 3.0539467596497447, 1.2942515718335306, 1.2106094481605434, 1.2086942367537974, 2.0251107205830308, 0.6808120347620694, 1.6941175015416063, 0.9799740942909313, 1.0506648250554191, 2.7452...</td>\n",
       "    </tr>\n",
       "    <tr>\n",
       "      <th>...</th>\n",
       "      <td>...</td>\n",
       "      <td>...</td>\n",
       "      <td>...</td>\n",
       "    </tr>\n",
       "    <tr>\n",
       "      <th>2220</th>\n",
       "      <td>tech_376.txt</td>\n",
       "      <td>[tmobile, bet, pocket, office, launched, latest, thirdgeneration, device, also, builtin, wifi, highspeed, wireles, net, acces, unlike, user, check, network, available, transfer, datum, select, fastest, one, itself, mda, released, summer, upgrade, company, existing, smartphone, gwifi, iius, reflect, push, mobile, firm, like, mini, laptop, display, can, swivelled, angled, used, small, computer, conventional, clamshell, phone, microsoft, two, camera, qwerty, keyboard, design, similar, allinone, model, year, motorola, mpx, five, european, worker, already, meaning, spend, significant, time, travelling, rene, obermann, chief, executive, told, pres, conference, gsm, trade, show, canne, added, what, need, said, seeing, increasing, take, call, sold, europe, response, demand, adding, phoneshaped, blackberry, range, ...]</td>\n",
       "      <td>[4.1003053469280575, 1.9493900066449126, 2.7625251110411706, 1.7911345651341806, 1.240120045669082, 1.355645473118632, 2.648360010980931, 2.3013750507667883, 0.3622484628877394, 2.116881093938676, 4.189085446797277, 2.7842731466297317, 2.0907126929472755, 1.3843333676339842, 1.9096458618203795, 1.9493900066449126, 1.3902499677467854, 1.791027514549663, 1.4631559544943262, 1.476854325948132, 1.6571339352884367, 1.5200623870249788, 1.915966251157963, 1.9001719839747309, 0.4286403299961675, 1.842180036997044, 3.7949885608573983, 1.5163328015504534, 1.61786500936053, 1.884932017417994, 0.8053066461208405, 1.4722687519252502, 2.4442400283250065, 3.046300019652969, 2.4442400283250065, 2.051045170285395, 1.5991419883107498, 2.307147495454762, 0.6808120347620694, 0.7948428258218125, 2.004907334494744, 2.004907334494744, 1.496071666597875, 0.6084407411965552, 3.046300019652969, 2.4442400283250065, 0.7971016622618563, 1.2169962468219442, 1.0969100130080565, 2.201201979638712, 2.8702087605972...</td>\n",
       "    </tr>\n",
       "    <tr>\n",
       "      <th>2221</th>\n",
       "      <td>tech_317.txt</td>\n",
       "      <td>[sony, psp, console, hit, march, gamer, will, able, buy, playstation, portable, news, europe, debut, handheld, sale, first, million, sold, come, spiderman, umd, disc, format, machine, billed, walkman, century, unit, japan, play, game, movie, music, also, offer, support, wireles, gaming, entering, market, dominated, nintendo, many, year, launched, last, said, wanted, launch, roughly, time, now, fear, put, back, release, core, device, entertainment, kaz, hirai, president, computer, america]</td>\n",
       "      <td>[2.6076880113298944, 2.7541258004682, 2.422124111146102, 0.8133039092608153, 1.6238832204011506, 2.216795526750943, 0.3200897730382774, 0.9407898348829952, 1.1741437469046763, 1.842180036997044, 1.6571339352884367, 0.7791282912499553, 1.402364157833642, 1.3099035173763265, 2.414670457251095, 0.8367850051103382, 0.45467898143964997, 0.9810337947826376, 1.734352684649081, 0.6589101933142397, 2.201201979638712, 2.745270023988988, 1.9856021792993575, 1.6845721836353762, 1.923050219097158, 2.116881093938676, 2.3930875058776255, 1.6149362554939817, 1.8187618834210868, 1.7529167639857637, 0.7767870754350528, 0.6989700043360187, 1.1741437469046763, 0.9744180123468438, 0.24523948980511368, 0.976262153045214, 1.0088735217123455, 1.6069673258227064, 2.2567252911006026, 1.915966251157963, 0.7529374649415237, 1.5549383258186964, 2.5592805294942975, 0.6255194001044037, 0.2899030372254889, 1.240120045669082, 0.3892441667958652, 0.10536014230890611, 1.1220207335910874, 1.5875496087203267, 2.233386...</td>\n",
       "    </tr>\n",
       "    <tr>\n",
       "      <th>2222</th>\n",
       "      <td>tech_179.txt</td>\n",
       "      <td>[seaman, sail, biometric, future, luxury, cruise, liner, crystal, harmony, currently, gulf, mexico, unlikely, setting, test, technology, holidaymaker, enjoy, balmy, breeze, ship, crew, testing, prototype, version, world, first, internationally, issued, card, seafarer, equivalent, passport, along, owner, picture, name, personal, detail, new, identity, document, incorporate, barcode, representing, unique, feature, holder, fingerprint, due, february, next, year, line, revised, convention, june, way, caribbean, designed, ensure, machine, reader, produced, different, company, country, working, interoperable, standard, result, current, involve, wide, range, occupation, nationality, will, published, international, labmy, organisation, ilo, end, november, operate, exploring, use, yet, committed, authenticorp, consultancy, technical, specification, want, sure, land, port, say, can, ...]</td>\n",
       "      <td>[2.8702087605972877, 2.648360010980931, 4.242831616225432, 0.9032852193988742, 2.0685764143641214, 3.2554788559783385, 2.8702087605972877, 3.251442230055339, 3.5716786474068507, 1.2947167439744076, 2.3930875058776255, 2.0920575102136443, 1.4840071551964944, 1.639759839219014, 1.774320975335677, 1.425884309493951, 3.046300019652969, 1.6571339352884367, 3.046300019652969, 2.745270023988988, 3.2071829159446055, 2.268148769269325, 1.8288160754390625, 2.1712387562612694, 1.1919939778518884, 0.6798578465874507, 0.5915509932509312, 2.2333866630101133, 2.2764654827651536, 2.3082394628628546, 5.953208994911683, 1.9671187736053444, 2.1712387562612694, 1.3788470667630153, 1.466516423036159, 1.2828720260900317, 1.0969100130080565, 1.0944769843370572, 1.334492790611778, 0.5273192309649403, 2.514053986538604, 2.1010805094829412, 2.268148769269325, 3.046300019652969, 1.9323566673461323, 1.9856021792993575, 1.3099035173763265, 1.779128291249955, 2.648360010980931, 0.9459294745354062, 1.08965144044...</td>\n",
       "    </tr>\n",
       "    <tr>\n",
       "      <th>2223</th>\n",
       "      <td>tech_010.txt</td>\n",
       "      <td>[google, toolbar, spark, concern, search, engine, firm, released, trial, tool, concerning, net, user, direct, person, preselected, commercial, website, autolink, feature, come, latest, provide, link, webpage, amazoncom, find, book, isbn, number, site, also, map, service, addres, car, carfax, licence, plate, said, available, add, useful, concerned, dominant, position, market, place, mean, giving, competitive, edge, like, amazon, work, creating, based, information, contained, even, specified, whether, publisher, page, given, permission, click, unique, directly, online, library, list, directing, not, paid, advertising, may, rival, dan, gillmor, founder, grassroot, medium, support, citizenbased, bad, idea, unfortunate, move, company, looking, continue, hypergrowth, statement, still, betum, stage, welcomed, feedback, the, ...]</td>\n",
       "      <td>[3.760976424188865, 4.055096702378891, 2.1712387562612694, 1.446487189726891, 2.0415486417371915, 2.2706486517428695, 1.0056419270159944, 1.1654864273721777, 1.649899587783754, 2.2865681421089192, 2.5022319753026934, 1.3843333676339842, 2.221764040714697, 1.9876955167452652, 0.6341276798040393, 2.8702087605972877, 1.8581985931108411, 1.6617866151000498, 6.370270235307276, 2.416900412518841, 0.6589101933142397, 1.0419786458703266, 1.1683530680237808, 2.6953917110213763, 3.3503307559539635, 3.3425786374011723, 1.3283440202566286, 1.8894510170898038, 4.944412312185761, 0.9000730373055893, 1.9174688153450359, 0.319063932357784, 2.1432100326610253, 1.3277148110198143, 1.5479894658633686, 1.4179110896026574, 3.3473300153169503, 1.915966251157963, 2.745270023988988, 0.13574365084481807, 1.1351424109129926, 1.3387298435550328, 1.7240807249190497, 1.3261407162470122, 2.268148769269325, 1.1569983171466587, 0.9795942267481196, 0.7874233902808377, 1.1532748456226738, 1.3930875058776255, 1.6397...</td>\n",
       "    </tr>\n",
       "    <tr>\n",
       "      <th>2224</th>\n",
       "      <td>tech_152.txt</td>\n",
       "      <td>[new, year, texting, break, record, mobile, phone, essential, recent, festivity, party, mood, auld, lang, syne, number, text, message, sent, anything, midnight, december, january, highest, ever, daily, total, recorded, datum, association, mda, represent, increase, last, figure, wishing, happy, friend, family, vium, become, staple, ingredient, largest, quite, overtaken, oldfashioned, call, heading, way, said, mike, short, chairman, case, eve, useful, unable, speak, hear, noisy, background, also, lot, internationally, different, time, zone, made, traditional, unfeasible, british, love, affair, show, sign, abating, annual, set, exceed, according, predict, see, thought, might, slow, mm, took, seen, that, firm, seeing, value, marketing, restaurant, using, tell, customer, special, offer, ...]</td>\n",
       "      <td>[0.5719212555418078, 0.39621795796448006, 4.876398590437253, 1.2717830539244197, 0.858779298816506, 1.8470219627370763, 1.5390887687371744, 1.7675464187001402, 0.9563949082135712, 2.745270023988988, 1.4936913144031128, 2.004907334494744, 3.3473300153169503, 3.3473300153169503, 3.3473300153169503, 0.6093426889835195, 3.140403859402767, 2.205121009832299, 2.049265671576831, 1.2574249038775525, 2.905703040492041, 1.0169162419677595, 1.2701463447433239, 1.4608392901444682, 1.0944769843370572, 1.5212552126161238, 1.4908930642043883, 1.7562654082904512, 1.1683530680237808, 1.2469594701993874, 4.115978509869038, 1.576478003674806, 1.0334627949477968, 0.3892441667958652, 0.9079973214866877, 2.745270023988988, 1.3179462376317406, 1.4078107626983318, 1.124613544169367, 1.7472945270720697, 0.9095794524965622, 2.5691787649333064, 2.648360010980931, 1.3179462376317406, 1.2469594701993874, 2.3473300153169503, 2.4442400283250065, 1.3902499677467854, 2.0251107205830308, 0.5801741492347698, 0.11427...</td>\n",
       "    </tr>\n",
       "  </tbody>\n",
       "</table>\n",
       "<p>2225 rows × 3 columns</p>\n",
       "</div>"
      ],
      "text/plain": [
       "               Doc  \\\n",
       "0     bsns_382.txt   \n",
       "1     bsns_050.txt   \n",
       "2     bsns_057.txt   \n",
       "3     bsns_272.txt   \n",
       "4     bsns_065.txt   \n",
       "...            ...   \n",
       "2220  tech_376.txt   \n",
       "2221  tech_317.txt   \n",
       "2222  tech_179.txt   \n",
       "2223  tech_010.txt   \n",
       "2224  tech_152.txt   \n",
       "\n",
       "                                                                                                                                                                                                                                                                                                                                                                                                                                                                                                                                                                                                                                                                                                                                                                                                                                                                                                                           Terms  \\\n",
       "0                     [ban, forced, retirement, employer, will, longer, able, force, worker, retire, unles, can, justify, government, announced, firm, barred, imposing, arbitrary, age, new, european, discrimination, rule, default, introduced, permitted, request, staying, beyond, compulsory, although, right, refuse, trade, industry, secretary, patricium, hewitt, said, person, work, wanted, saying, statutory, free, continue, employing, long, competent, proposal, department, last, year, allowed, till, wished, busines, leader, opposed, plan, costly, cumbersome, british, chamber, commerce, welcomed, latest, thi, move, today, best, world, ability, define, end, point, employeremployee, relationship, employee, flexibility, past, concern, cowardly, complete, uturn, make, mockery, socalled, commitment, outlawing, ageism, leaving, incoming, law, unravel, gordon, lishman, director, general, ...]   \n",
       "1                                                          [bad, weather, hit, nestle, sale, combination, rising, raw, material, cost, sluggish, european, economy, swiss, food, drink, giant, revenue, dipped, franc, ice, cream, mineral, water, dampened, wet, summer, however, profit, margin, helped, strong, performance, america, china, raise, dividend, paying, back, debt, said, strength, dollar, disposal, business, challenging, trading, condition, europe, dented, poor, acros, continent, contrast, prolonged, heat, wave, severely, affected, demand, bottled, also, fell, although, chocolate, coffee, frozen, good, petcare, product, performed, better, elsewhere, enjoyed, exceptional, year, north, outperforming, market, term, growth, added, strongly, africa, asium, despite, impact, high, oil, price, political, instability, total, earning, interest, remained, broadly, flat, past, company, ...]   \n",
       "2                                                                                  [economy, tronger, forecast, probably, grew, faster, rate, third, quarter, reported, according, bank, england, deputy, governor, rachel, lomax, private, sector, busines, survey, suggest, stronger, official, estimate, said, collectively, show, rapid, slowdown, house, price, growth, pointed, out, mean, despite, strong, economic, base, will, stay, hold, datum, come, office, national, statistic, on, though, reliable, take, longer, publish, now, boe, calling, delivery, can, make, effective, policy, decision, recent, work, shown, add, value, even, preliminary, available, speech, north, wale, club, due, second, friday, the, mpc, judge, overall, little, higher, currently, indicate, successful, monetary, depend, good, information, cited, late, example, time, weak, figure, published, substantially, revised, ...]   \n",
       "3                                                                 [market, signal, brazilian, recovery, stock, risen, record, high, investor, display, growing, confidence, durability, country, economic, main, bovespa, index, sao, paolo, exchange, closed, point, friday, topping, previou, close, reached, day, buoyancy, reflect, optimism, economy, grow, much, brazil, recovering, last, year, recession, worst, decade, output, declined, president, luiz, inacio, lula, silva, elected, first, workingclas, strongly, criticised, pursuing, hardline, policy, praised, handling, foreign, investment, unemployment, fallen, inflation, brought, control, analyst, believe, will, rise, mark, time, long, there, space, gain, end, somewhere, said, paschoal, tadeu, buonomo, head, equity, trading, broker, tov, currency, real, also, rose, highest, level, dollar, two, although, interest, rate, still, stand, ...]   \n",
       "4                                                    [aiming, fuel, development, aid, european, union, finance, minister, meet, thursday, discus, proposal, including, tax, jet, boost, poorer, nation, policy, maker, ask, report, money, can, raised, said, world, richest, country, want, increase, amount, give, annual, gros, national, income, airline, reacted, strongly, proposed, levy, profit, pressure, industry, lowcost, firm, driving, price, demand, dipping, september, terrorist, attack, outbreak, killer, sar, viru, thing, picked, company, teetering, brink, bankruptcy, present, used, enjoy, either, low, rate, untaxed, member, state, course, applaud, humanitarian, initiative, target, ulrich, schultestrathau, secretary, general, association, my, midst, fundamental, crisisonly, confronted, measure, designed, cost, continued, sought, allay, fear, stressing, meeting, first, step, also, ...]   \n",
       "...                                                                                                                                                                                                                                                                                                                                                                                                                                                                                                                                                                                                                                                                                                                                                                                                                                                                                                                          ...   \n",
       "2220                                                                       [tmobile, bet, pocket, office, launched, latest, thirdgeneration, device, also, builtin, wifi, highspeed, wireles, net, acces, unlike, user, check, network, available, transfer, datum, select, fastest, one, itself, mda, released, summer, upgrade, company, existing, smartphone, gwifi, iius, reflect, push, mobile, firm, like, mini, laptop, display, can, swivelled, angled, used, small, computer, conventional, clamshell, phone, microsoft, two, camera, qwerty, keyboard, design, similar, allinone, model, year, motorola, mpx, five, european, worker, already, meaning, spend, significant, time, travelling, rene, obermann, chief, executive, told, pres, conference, gsm, trade, show, canne, added, what, need, said, seeing, increasing, take, call, sold, europe, response, demand, adding, phoneshaped, blackberry, range, ...]   \n",
       "2221                                                                                                                                                                                                                                                                                                                                                                                                               [sony, psp, console, hit, march, gamer, will, able, buy, playstation, portable, news, europe, debut, handheld, sale, first, million, sold, come, spiderman, umd, disc, format, machine, billed, walkman, century, unit, japan, play, game, movie, music, also, offer, support, wireles, gaming, entering, market, dominated, nintendo, many, year, launched, last, said, wanted, launch, roughly, time, now, fear, put, back, release, core, device, entertainment, kaz, hirai, president, computer, america]   \n",
       "2222  [seaman, sail, biometric, future, luxury, cruise, liner, crystal, harmony, currently, gulf, mexico, unlikely, setting, test, technology, holidaymaker, enjoy, balmy, breeze, ship, crew, testing, prototype, version, world, first, internationally, issued, card, seafarer, equivalent, passport, along, owner, picture, name, personal, detail, new, identity, document, incorporate, barcode, representing, unique, feature, holder, fingerprint, due, february, next, year, line, revised, convention, june, way, caribbean, designed, ensure, machine, reader, produced, different, company, country, working, interoperable, standard, result, current, involve, wide, range, occupation, nationality, will, published, international, labmy, organisation, ilo, end, november, operate, exploring, use, yet, committed, authenticorp, consultancy, technical, specification, want, sure, land, port, say, can, ...]   \n",
       "2223                                                           [google, toolbar, spark, concern, search, engine, firm, released, trial, tool, concerning, net, user, direct, person, preselected, commercial, website, autolink, feature, come, latest, provide, link, webpage, amazoncom, find, book, isbn, number, site, also, map, service, addres, car, carfax, licence, plate, said, available, add, useful, concerned, dominant, position, market, place, mean, giving, competitive, edge, like, amazon, work, creating, based, information, contained, even, specified, whether, publisher, page, given, permission, click, unique, directly, online, library, list, directing, not, paid, advertising, may, rival, dan, gillmor, founder, grassroot, medium, support, citizenbased, bad, idea, unfortunate, move, company, looking, continue, hypergrowth, statement, still, betum, stage, welcomed, feedback, the, ...]   \n",
       "2224                                                                                               [new, year, texting, break, record, mobile, phone, essential, recent, festivity, party, mood, auld, lang, syne, number, text, message, sent, anything, midnight, december, january, highest, ever, daily, total, recorded, datum, association, mda, represent, increase, last, figure, wishing, happy, friend, family, vium, become, staple, ingredient, largest, quite, overtaken, oldfashioned, call, heading, way, said, mike, short, chairman, case, eve, useful, unable, speak, hear, noisy, background, also, lot, internationally, different, time, zone, made, traditional, unfeasible, british, love, affair, show, sign, abating, annual, set, exceed, according, predict, see, thought, might, slow, mm, took, seen, that, firm, seeing, value, marketing, restaurant, using, tell, customer, special, offer, ...]   \n",
       "\n",
       "                                                                                                                                                                                                                                                                                                                                                                                                                                                                                                                                                                                                                                                                                                                                                                                                                                                                                                                                                                                                                                W(td)= td-idf  \n",
       "0     [1.466516423036159, 1.6546279011328127, 3.142964874522785, 3.095751305731075, 0.33214104409515793, 1.7417276825556467, 0.9407898348829952, 1.2234783743498645, 2.3225110538940306, 2.0251107205830308, 1.5344166586740946, 0.6084407411965552, 2.305937330158725, 0.9865724156112016, 1.0292666803541888, 0.6808120347620694, 2.305937330158725, 3.180029593453413, 2.648360010980931, 2.794684163591902, 0.35699116052934887, 1.163136005999963, 3.406149042428964, 1.1042919666306559, 2.9509295834477345, 1.5212552126161238, 2.305937330158725, 2.3460979142677947, 2.5022319753026934, 1.4282519229408763, 2.8248467496440672, 0.9208187539523751, 0.9612061411594071, 1.870208760597288, 1.4699636289881597, 1.2086942367537974, 1.0731721660532705, 2.305937330158725, 1.9323566673461323, 0.1316071997804136, 0.6341276798040393, 1.0252957148000152, 1.1220207335910874, 0.9373968919856557, 2.5022319753026934, 1.1654864273721777, 0.9459294745354062, 2.4442400283250065, 0.9424962986970122, 2.5691787649333064, 1.6313...  \n",
       "1     [1.764331902689513, 2.472180748071463, 1.0581327815390975, 6.959705792179311, 1.4879303031392312, 1.915966251157963, 1.4608392901444682, 2.0920575102136443, 1.496071666597875, 0.8879375275577194, 2.0685764143641214, 0.8940116752699125, 1.0441339578964615, 3.0441895121681943, 1.6845721836353762, 1.9323566673461323, 1.1351424109129926, 1.3387298435550328, 2.305937330158725, 4.055096702378891, 3.0000936346578184, 3.3425786374011723, 3.963327701360288, 2.6455648095290365, 2.745270023988988, 2.648360010980931, 1.61786500936053, 0.7271939603431928, 1.6838601168906793, 2.3793445706987026, 1.2504200023088938, 0.9856021792993573, 1.0484769389072437, 1.6990636389938378, 1.383542187971395, 1.33029667601817, 2.7541258004682, 1.6149362554939817, 0.7587006937754538, 1.3516948207194002, 0.09279990051820618, 1.6149362554939817, 1.2469594701993874, 2.5691787649333064, 1.514821102610714, 1.9323566673461323, 1.923050219097158, 1.496071666597875, 0.9493900066449127, 2.745270023988988, 1.32202415005217...  \n",
       "2     [1.672765239532836, 3.3473300153169503, 1.3387298435550328, 1.8251464727975055, 1.6149362554939817, 2.0907126929472755, 1.7534177880356803, 1.2602435488044281, 1.7976510230947502, 1.1981109026615704, 0.8248857818106304, 1.773129186037007, 1.2466000149324075, 1.4899975188856818, 2.1712387562612694, 3.445595813603182, 5.620722195557085, 1.7417276825556467, 1.7094314555295034, 1.2086942367537974, 2.1333176427557947, 1.2469594701993874, 1.6483600109809315, 1.5359608694027456, 2.296832450845004, 0.13574365084481807, 3.046300019652969, 0.7652666524052416, 1.870208760597288, 2.7842731466297317, 1.439954976535679, 1.447540563751785, 1.5820254829376426, 1.6752321573812328, 1.1889675232217005, 0.8864321725604024, 0.8789826849047929, 0.9856021792993573, 1.7739522749747356, 1.8288160754390625, 0.23420189701985406, 1.334492790611778, 1.0872586273318754, 1.9849968170463637, 0.8572619259505784, 0.9707530582604385, 1.223995794798541, 2.1445658179392013, 3.988043286301106, 1.1405041392851005, 2.444...  \n",
       "3     [1.2792181680764514, 1.7138615597373636, 2.932975182460763, 2.2282092360358354, 1.9527899712947712, 2.179527286453867, 1.1172976274155557, 0.9208187539523751, 1.9837866096825059, 1.496071666597875, 1.2267560841111003, 1.4128315640733826, 3.3473300153169503, 0.704865495074829, 1.7739522749747356, 1.0944769843370572, 3.3473300153169503, 1.7240807249190497, 2.8702087605972877, 2.4442400283250065, 1.3473300153169503, 1.514821102610714, 1.163136005999963, 1.483830095388847, 2.1712387562612694, 1.487350543835994, 1.1194433107032769, 1.3059373301587254, 0.6679021187048315, 3.3473300153169503, 1.576478003674806, 2.004907334494744, 1.3584495987146488, 1.4608392901444682, 0.6931534734389898, 3.244348863455414, 2.2333866630101133, 0.5064183366386545, 0.3569802839683096, 2.1432100326610253, 1.666088777941363, 2.109701272470198, 1.6149362554939817, 1.779128291249955, 1.6489469690023921, 2.745270023988988, 2.745270023988988, 2.648360010980931, 4.008725736653983, 1.8032619709666744, 0.67161598755...  \n",
       "4     [1.870208760597288, 2.8306348582832297, 1.8491063202896116, 2.057759164616243, 1.3205636475087206, 1.1654864273721777, 1.7094314555295034, 1.1738118339191153, 1.2137911069467329, 1.535231892683835, 1.5991419883107498, 1.6313723493442194, 0.8171303171138682, 1.867885772672169, 2.7541258004682, 1.2333866630101136, 2.1712387562612694, 1.3023011551380423, 1.089651440447766, 1.383542187971395, 1.4442400283250068, 0.8367850051103382, 0.9064209332517326, 0.4676608096848968, 1.4282519229408763, 0.11427177568151213, 0.7718749596313131, 2.721829573442057, 0.9170511520008947, 0.6509736265836181, 1.344566095629818, 1.2435262943609935, 0.9159662511579629, 1.2367403050177015, 1.9323566673461323, 0.9407898348829952, 1.4388449964383005, 3.2810807643592548, 2.1432100326610253, 1.8032619709666744, 1.541150041333063, 3.0539467596497447, 1.2942515718335306, 1.2106094481605434, 1.2086942367537974, 2.0251107205830308, 0.6808120347620694, 1.6941175015416063, 0.9799740942909313, 1.0506648250554191, 2.7452...  \n",
       "...                                                                                                                                                                                                                                                                                                                                                                                                                                                                                                                                                                                                                                                                                                                                                                                                                                                                                                                                                                                                                                       ...  \n",
       "2220  [4.1003053469280575, 1.9493900066449126, 2.7625251110411706, 1.7911345651341806, 1.240120045669082, 1.355645473118632, 2.648360010980931, 2.3013750507667883, 0.3622484628877394, 2.116881093938676, 4.189085446797277, 2.7842731466297317, 2.0907126929472755, 1.3843333676339842, 1.9096458618203795, 1.9493900066449126, 1.3902499677467854, 1.791027514549663, 1.4631559544943262, 1.476854325948132, 1.6571339352884367, 1.5200623870249788, 1.915966251157963, 1.9001719839747309, 0.4286403299961675, 1.842180036997044, 3.7949885608573983, 1.5163328015504534, 1.61786500936053, 1.884932017417994, 0.8053066461208405, 1.4722687519252502, 2.4442400283250065, 3.046300019652969, 2.4442400283250065, 2.051045170285395, 1.5991419883107498, 2.307147495454762, 0.6808120347620694, 0.7948428258218125, 2.004907334494744, 2.004907334494744, 1.496071666597875, 0.6084407411965552, 3.046300019652969, 2.4442400283250065, 0.7971016622618563, 1.2169962468219442, 1.0969100130080565, 2.201201979638712, 2.8702087605972...  \n",
       "2221  [2.6076880113298944, 2.7541258004682, 2.422124111146102, 0.8133039092608153, 1.6238832204011506, 2.216795526750943, 0.3200897730382774, 0.9407898348829952, 1.1741437469046763, 1.842180036997044, 1.6571339352884367, 0.7791282912499553, 1.402364157833642, 1.3099035173763265, 2.414670457251095, 0.8367850051103382, 0.45467898143964997, 0.9810337947826376, 1.734352684649081, 0.6589101933142397, 2.201201979638712, 2.745270023988988, 1.9856021792993575, 1.6845721836353762, 1.923050219097158, 2.116881093938676, 2.3930875058776255, 1.6149362554939817, 1.8187618834210868, 1.7529167639857637, 0.7767870754350528, 0.6989700043360187, 1.1741437469046763, 0.9744180123468438, 0.24523948980511368, 0.976262153045214, 1.0088735217123455, 1.6069673258227064, 2.2567252911006026, 1.915966251157963, 0.7529374649415237, 1.5549383258186964, 2.5592805294942975, 0.6255194001044037, 0.2899030372254889, 1.240120045669082, 0.3892441667958652, 0.10536014230890611, 1.1220207335910874, 1.5875496087203267, 2.233386...  \n",
       "2222  [2.8702087605972877, 2.648360010980931, 4.242831616225432, 0.9032852193988742, 2.0685764143641214, 3.2554788559783385, 2.8702087605972877, 3.251442230055339, 3.5716786474068507, 1.2947167439744076, 2.3930875058776255, 2.0920575102136443, 1.4840071551964944, 1.639759839219014, 1.774320975335677, 1.425884309493951, 3.046300019652969, 1.6571339352884367, 3.046300019652969, 2.745270023988988, 3.2071829159446055, 2.268148769269325, 1.8288160754390625, 2.1712387562612694, 1.1919939778518884, 0.6798578465874507, 0.5915509932509312, 2.2333866630101133, 2.2764654827651536, 2.3082394628628546, 5.953208994911683, 1.9671187736053444, 2.1712387562612694, 1.3788470667630153, 1.466516423036159, 1.2828720260900317, 1.0969100130080565, 1.0944769843370572, 1.334492790611778, 0.5273192309649403, 2.514053986538604, 2.1010805094829412, 2.268148769269325, 3.046300019652969, 1.9323566673461323, 1.9856021792993575, 1.3099035173763265, 1.779128291249955, 2.648360010980931, 0.9459294745354062, 1.08965144044...  \n",
       "2223  [3.760976424188865, 4.055096702378891, 2.1712387562612694, 1.446487189726891, 2.0415486417371915, 2.2706486517428695, 1.0056419270159944, 1.1654864273721777, 1.649899587783754, 2.2865681421089192, 2.5022319753026934, 1.3843333676339842, 2.221764040714697, 1.9876955167452652, 0.6341276798040393, 2.8702087605972877, 1.8581985931108411, 1.6617866151000498, 6.370270235307276, 2.416900412518841, 0.6589101933142397, 1.0419786458703266, 1.1683530680237808, 2.6953917110213763, 3.3503307559539635, 3.3425786374011723, 1.3283440202566286, 1.8894510170898038, 4.944412312185761, 0.9000730373055893, 1.9174688153450359, 0.319063932357784, 2.1432100326610253, 1.3277148110198143, 1.5479894658633686, 1.4179110896026574, 3.3473300153169503, 1.915966251157963, 2.745270023988988, 0.13574365084481807, 1.1351424109129926, 1.3387298435550328, 1.7240807249190497, 1.3261407162470122, 2.268148769269325, 1.1569983171466587, 0.9795942267481196, 0.7874233902808377, 1.1532748456226738, 1.3930875058776255, 1.6397...  \n",
       "2224  [0.5719212555418078, 0.39621795796448006, 4.876398590437253, 1.2717830539244197, 0.858779298816506, 1.8470219627370763, 1.5390887687371744, 1.7675464187001402, 0.9563949082135712, 2.745270023988988, 1.4936913144031128, 2.004907334494744, 3.3473300153169503, 3.3473300153169503, 3.3473300153169503, 0.6093426889835195, 3.140403859402767, 2.205121009832299, 2.049265671576831, 1.2574249038775525, 2.905703040492041, 1.0169162419677595, 1.2701463447433239, 1.4608392901444682, 1.0944769843370572, 1.5212552126161238, 1.4908930642043883, 1.7562654082904512, 1.1683530680237808, 1.2469594701993874, 4.115978509869038, 1.576478003674806, 1.0334627949477968, 0.3892441667958652, 0.9079973214866877, 2.745270023988988, 1.3179462376317406, 1.4078107626983318, 1.124613544169367, 1.7472945270720697, 0.9095794524965622, 2.5691787649333064, 2.648360010980931, 1.3179462376317406, 1.2469594701993874, 2.3473300153169503, 2.4442400283250065, 1.3902499677467854, 2.0251107205830308, 0.5801741492347698, 0.11427...  \n",
       "\n",
       "[2225 rows x 3 columns]"
      ]
     },
     "execution_count": 57,
     "metadata": {},
     "output_type": "execute_result"
    }
   ],
   "source": [
    "cols = [\"Doc\", \"Terms\", \"W(td)= td-idf\"]\n",
    "wtd.toDF(cols).toPandas()"
   ]
  },
  {
   "cell_type": "markdown",
   "metadata": {},
   "source": [
    "<h3>The vector space model for scoring</h3>\n",
    "\n",
    "The representation of a set of documents as vectors in a common vector space is known as the vector space model and is fundamental to a host of information retrieval operations ranging from scoring documents on a query, document classification and document clustering"
   ]
  },
  {
   "cell_type": "code",
   "execution_count": 58,
   "metadata": {},
   "outputs": [],
   "source": [
    "# Save document as vector of tf-idf weights\n",
    "\n",
    "# Format = {document: [[term in doc][tf-idf weights]]}\n",
    "\n",
    "vecs = wtd.map(lambda d:(d[0], [d[1],d[2]]))"
   ]
  },
  {
   "cell_type": "code",
   "execution_count": 59,
   "metadata": {},
   "outputs": [],
   "source": [
    "vecsMap = vecs.collectAsMap()"
   ]
  },
  {
   "cell_type": "markdown",
   "metadata": {},
   "source": [
    "<h3>Computing vector scores</h3>\n",
    "\n",
    "We have a collection of documents each represented by a vector, a free text query / other document represented by a vector, and a positive integer K. We seek the K documents of the collection with the highest vector space scores on the given query / document. "
   ]
  },
  {
   "cell_type": "code",
   "execution_count": 60,
   "metadata": {},
   "outputs": [],
   "source": [
    "# Get the norm of a document vector\n",
    "\n",
    "def get_length(doc_name:str):\n",
    "    \n",
    "    s= 0\n",
    "    \n",
    "    for w in vecsMap[doc_name][1]:\n",
    "        s += math.pow(w, 2)\n",
    "    \n",
    "    return math.sqrt(s)"
   ]
  },
  {
   "cell_type": "code",
   "execution_count": 61,
   "metadata": {},
   "outputs": [],
   "source": [
    "def initialize_length():\n",
    "    \n",
    "    length = {}\n",
    "    \n",
    "    for doc in vecsMap:\n",
    "        length[doc] = get_length(doc)\n",
    "        \n",
    "    return length"
   ]
  },
  {
   "cell_type": "markdown",
   "metadata": {},
   "source": [
    "<h3>Cosine Score - Algorithm for computing vector space scores</h3>\n",
    "\n",
    "The array Length holds the lengths (normalization factors) for each of the N documents, whereas the array Scores holds the scores for each of the documents. When the scores are finally computed, all that remains is to pick off the K documents with the highest scores.\n",
    "\n",
    "The outermost loop beginning repeats the updating of Scores, iterating over each query term t in turn. Than I calculate the weight in the query vector for term t. Next, update the score of each document by adding in the contribution from term t. This process of adding in contributions one query term at a time is known as term-at-a-time scoring or accumulation, and the N elements of the array Scores are therefore known as accumulators . For this purpose, and in order to improve efficiency, I stored the document frequency DF of term t at the head of the posting group, Second, I stored the term frequency TF for each postings entry. \n",
    "Finally, extracts the top K scores.\n"
   ]
  },
  {
   "cell_type": "code",
   "execution_count": 62,
   "metadata": {},
   "outputs": [],
   "source": [
    "# Cosine Score Algorithm\n",
    "\n",
    "# parameters:\n",
    "    # p_doc   = document name / null for a query\n",
    "    # p_terms = terms of a document structured as Dict {term:num of appearances} \n",
    "    #           terms of a query structured as an array [term]\n",
    "    # K       = top K closest documents \n",
    "    \n",
    "def cosine_score(p_doc, p_terms, K): \n",
    "    \n",
    "    N = num_of_documents\n",
    "    scores = {}\n",
    "    length = {}\n",
    "    \n",
    "    tf     = 0\n",
    "    log_tf = 0\n",
    "    dft    = 0\n",
    "    idf    = 0\n",
    "    wtd    = 0\n",
    "    \n",
    "    _tf     = 0\n",
    "    _log_tf = 0\n",
    "    _wtd    = 0\n",
    "    \n",
    "    inner_prod = 0\n",
    "    \n",
    "    length = initialize_length()\n",
    "    \n",
    "    for term in p_terms:\n",
    "        \n",
    "        if p_doc != \"\":\n",
    "            tf = p_terms[term]\n",
    "            log_tf = 1 + math.log(tf, 10)\n",
    "        else:\n",
    "            tf = 0\n",
    "            log_tf = 0\n",
    "            \n",
    "        if term in inverted_indexMap:\n",
    "            \n",
    "            posting_list = inverted_indexMap[term] \n",
    "            \n",
    "            dft = posting_list[0]\n",
    "            idf = math.log(N/dft, 10)\n",
    "            wtd = tf * idf            \n",
    "            \n",
    "            for doc in posting_list[1]:\n",
    "                 \n",
    "                if doc != p_doc: \n",
    "                    \n",
    "                    _tf     = posting_list[1][doc]\n",
    "                    _log_tf = 1 + math.log(_tf, 10)\n",
    "                    _wtd    = _log_tf * idf\n",
    "                    \n",
    "                    if p_doc != \"\":\n",
    "                        inner_prod = wtd * _wtd\n",
    "                    else:\n",
    "                        inner_prod = _wtd\n",
    "                        \n",
    "                    if doc in scores:\n",
    "                        scores[doc] += inner_prod\n",
    "                    else:\n",
    "                        scores[doc] = inner_prod\n",
    "                    \n",
    "    for doc in scores:\n",
    "             \n",
    "            scores[doc] = scores[doc] / length[doc]\n",
    "             \n",
    "    topK = sorted(scores.items(), key = operator.itemgetter(1), reverse = True)[0:K]\n",
    "    \n",
    "    return topK"
   ]
  },
  {
   "cell_type": "code",
   "execution_count": 63,
   "metadata": {},
   "outputs": [],
   "source": [
    "def f_topK(d):\n",
    "    \n",
    "    doc   = d[0]\n",
    "    terms = d[1]\n",
    "    \n",
    "    top = cosine_score(doc, terms, K)\n",
    "    \n",
    "    return (doc, top)"
   ]
  },
  {
   "cell_type": "code",
   "execution_count": 64,
   "metadata": {},
   "outputs": [],
   "source": [
    "documents_with_cnt = documents.map(lambda d:(d[0], dict(Counter(d[1]))))"
   ]
  },
  {
   "cell_type": "markdown",
   "metadata": {},
   "source": [
    "<h3>Match top K documents</h3>\n",
    "\n",
    "Lets find for each document related top K similar documents"
   ]
  },
  {
   "cell_type": "code",
   "execution_count": 65,
   "metadata": {},
   "outputs": [],
   "source": [
    "K = 5\n",
    "topK = documents_with_cnt.map(f_topK)"
   ]
  },
  {
   "cell_type": "code",
   "execution_count": 66,
   "metadata": {},
   "outputs": [
    {
     "data": {
      "text/plain": [
       "[('bsns_382.txt',\n",
       "  [('pltcs_132.txt', 7.1809458633425045),\n",
       "   ('pltcs_043.txt', 4.7911429032547455),\n",
       "   ('pltcs_294.txt', 4.4083155656569195),\n",
       "   ('pltcs_042.txt', 4.359888954236427),\n",
       "   ('bsns_255.txt', 4.26921065875429)]),\n",
       " ('bsns_050.txt',\n",
       "  [('bsns_111.txt', 3.893711870692363),\n",
       "   ('bsns_247.txt', 3.3369617630584676),\n",
       "   ('bsns_173.txt', 3.2951470011356525),\n",
       "   ('bsns_201.txt', 3.1244263984803484),\n",
       "   ('bsns_372.txt', 2.9898641569323248)]),\n",
       " ('bsns_057.txt',\n",
       "  [('bsns_119.txt', 7.970453154660758),\n",
       "   ('bsns_151.txt', 7.8523907127239525),\n",
       "   ('bsns_438.txt', 7.588939406719513),\n",
       "   ('bsns_290.txt', 7.568344201069349),\n",
       "   ('bsns_507.txt', 6.719453813519126)]),\n",
       " ('bsns_272.txt',\n",
       "  [('bsns_305.txt', 7.279201209171136),\n",
       "   ('bsns_490.txt', 7.119063379073892),\n",
       "   ('bsns_303.txt', 6.164799115313264),\n",
       "   ('bsns_330.txt', 4.45477454202674),\n",
       "   ('bsns_031.txt', 4.290688502538909)]),\n",
       " ('bsns_065.txt',\n",
       "  [('bsns_075.txt', 15.150630251804516),\n",
       "   ('bsns_109.txt', 5.885876659848677),\n",
       "   ('bsns_466.txt', 4.859177960972404),\n",
       "   ('bsns_343.txt', 4.531161037790846),\n",
       "   ('bsns_047.txt', 4.317022295250452)])]"
      ]
     },
     "execution_count": 66,
     "metadata": {},
     "output_type": "execute_result"
    }
   ],
   "source": [
    "topK.take(5)"
   ]
  },
  {
   "cell_type": "code",
   "execution_count": 67,
   "metadata": {},
   "outputs": [],
   "source": [
    "similarity_example = main_data.filter(lambda d:(d[0] == \"bsns_382.txt\" or d[0] == \"pltcs_132.txt\"))"
   ]
  },
  {
   "cell_type": "code",
   "execution_count": 68,
   "metadata": {},
   "outputs": [],
   "source": [
    "cols = [\"Similar documents\", \"Text\"]\n",
    "se = similarity_example.toDF(cols)"
   ]
  },
  {
   "cell_type": "markdown",
   "metadata": {},
   "source": [
    "<h3>Documents similarity example</h3>\n",
    "\n",
    "bsns_382.txt and pltcs_132.txt with score of 7.3\n",
    "and actually the documents are about the same subject - Ritirement age of workers\n",
    "\n",
    "bsns_382.txt is about a new law which says that employers will no longer be able to force workers to retire before the age of 65<br>\n",
    "pltcs_132.txt is about a review of how the market will be influenced by raising the retirement age <br>"
   ]
  },
  {
   "cell_type": "code",
   "execution_count": 69,
   "metadata": {},
   "outputs": [
    {
     "data": {
      "text/html": [
       "<div>\n",
       "<style scoped>\n",
       "    .dataframe tbody tr th:only-of-type {\n",
       "        vertical-align: middle;\n",
       "    }\n",
       "\n",
       "    .dataframe tbody tr th {\n",
       "        vertical-align: top;\n",
       "    }\n",
       "\n",
       "    .dataframe thead th {\n",
       "        text-align: right;\n",
       "    }\n",
       "</style>\n",
       "<table border=\"1\" class=\"dataframe\">\n",
       "  <thead>\n",
       "    <tr style=\"text-align: right;\">\n",
       "      <th></th>\n",
       "      <th>Similar documents</th>\n",
       "      <th>Text</th>\n",
       "    </tr>\n",
       "  </thead>\n",
       "  <tbody>\n",
       "    <tr>\n",
       "      <th>0</th>\n",
       "      <td>bsns_382.txt</td>\n",
       "      <td>Ban on forced retirement under 65\\n\\nEmployers will no longer be able to force workers to retire before 65, unless they can justify it.\\n\\nThe government has announced that firms will be barred from 2006 from imposing arbitrary retirement ages. Under new European age discrimination rules, a default retirement age of 65 will be introduced. Workers will be permitted to request staying on beyond this compulsory retirement age, although employers will have the right to refuse. Trade and Industry Secretary Patricia Hewitt said people would not be forced to work longer than they wanted, saying the default age was not a statutory, compulsory retirement age. She said employers would be free to continue employing people for as long as they were competent.\\n\\nUnder age discrimination proposals from the Department of Trade and Industry last year workers were to be allowed to work on till 70 if they wished.\\n\\nBusiness leaders had opposed the plan as they said it would be too costly and cumber...</td>\n",
       "    </tr>\n",
       "    <tr>\n",
       "      <th>1</th>\n",
       "      <td>pltcs_132.txt</td>\n",
       "      <td>Retirement age could be scrapped\\n\\nThe \"myth that ageing is a barrier\" to contributing to society needs to be \"exploded\", the work and pensions minister has said.\\n\\nThis was why the government was considering scrapping the retirement age entirely, Alan Johnson said. It was also committed to \"stamping out\" age discrimination and would outlaw it, he told a conference on ageing. All three parties have been wooing older voters with both the Tories and Lib Dems pledging higher pensions.\\n\\nMr Johnson told Age Concern's Age Agenda in London the government was \"seriously considering\" introducing pensions based on residency rather than national insurance contributions. This idea has been adopted by the Lib Dems as policy, while the Tories have pledged to boost pensions by restoring the link between earnings and pensions. Mr Johnson's speech comes after he last week unveiled plans to find a consensus on how to reform the country's pension system. This would be based on a series of princip...</td>\n",
       "    </tr>\n",
       "  </tbody>\n",
       "</table>\n",
       "</div>"
      ],
      "text/plain": [
       "  Similar documents  \\\n",
       "0      bsns_382.txt   \n",
       "1     pltcs_132.txt   \n",
       "\n",
       "                                                                                                                                                                                                                                                                                                                                                                                                                                                                                                                                                                                                                                                                                                                                                                                                                                                                                                                                                                                                                                      Text  \n",
       "0  Ban on forced retirement under 65\\n\\nEmployers will no longer be able to force workers to retire before 65, unless they can justify it.\\n\\nThe government has announced that firms will be barred from 2006 from imposing arbitrary retirement ages. Under new European age discrimination rules, a default retirement age of 65 will be introduced. Workers will be permitted to request staying on beyond this compulsory retirement age, although employers will have the right to refuse. Trade and Industry Secretary Patricia Hewitt said people would not be forced to work longer than they wanted, saying the default age was not a statutory, compulsory retirement age. She said employers would be free to continue employing people for as long as they were competent.\\n\\nUnder age discrimination proposals from the Department of Trade and Industry last year workers were to be allowed to work on till 70 if they wished.\\n\\nBusiness leaders had opposed the plan as they said it would be too costly and cumber...  \n",
       "1  Retirement age could be scrapped\\n\\nThe \"myth that ageing is a barrier\" to contributing to society needs to be \"exploded\", the work and pensions minister has said.\\n\\nThis was why the government was considering scrapping the retirement age entirely, Alan Johnson said. It was also committed to \"stamping out\" age discrimination and would outlaw it, he told a conference on ageing. All three parties have been wooing older voters with both the Tories and Lib Dems pledging higher pensions.\\n\\nMr Johnson told Age Concern's Age Agenda in London the government was \"seriously considering\" introducing pensions based on residency rather than national insurance contributions. This idea has been adopted by the Lib Dems as policy, while the Tories have pledged to boost pensions by restoring the link between earnings and pensions. Mr Johnson's speech comes after he last week unveiled plans to find a consensus on how to reform the country's pension system. This would be based on a series of princip...  "
      ]
     },
     "execution_count": 69,
     "metadata": {},
     "output_type": "execute_result"
    }
   ],
   "source": [
    "se.toPandas()"
   ]
  },
  {
   "cell_type": "code",
   "execution_count": 70,
   "metadata": {},
   "outputs": [],
   "source": [
    "K = 1\n",
    "top1 = documents_with_cnt.map(f_topK)"
   ]
  },
  {
   "cell_type": "code",
   "execution_count": 71,
   "metadata": {},
   "outputs": [
    {
     "data": {
      "text/plain": [
       "[('bsns_382.txt', [('pltcs_132.txt', 7.1809458633425045)]),\n",
       " ('bsns_050.txt', [('bsns_111.txt', 3.893711870692363)]),\n",
       " ('bsns_057.txt', [('bsns_119.txt', 7.970453154660758)]),\n",
       " ('bsns_272.txt', [('bsns_305.txt', 7.279201209171136)]),\n",
       " ('bsns_065.txt', [('bsns_075.txt', 15.150630251804516)])]"
      ]
     },
     "execution_count": 71,
     "metadata": {},
     "output_type": "execute_result"
    }
   ],
   "source": [
    "top1.take(5)"
   ]
  },
  {
   "cell_type": "code",
   "execution_count": 72,
   "metadata": {},
   "outputs": [],
   "source": [
    "def f_order_key(t):\n",
    "    doc = t[0]\n",
    "    top = t[1][0]\n",
    "    score = top[1]\n",
    "    \n",
    "    return -1*score"
   ]
  },
  {
   "cell_type": "code",
   "execution_count": 73,
   "metadata": {},
   "outputs": [],
   "source": [
    "top_top = top1.takeOrdered(5, f_order_key)"
   ]
  },
  {
   "cell_type": "markdown",
   "metadata": {},
   "source": [
    "<h3>Top documents similarity</h3>"
   ]
  },
  {
   "cell_type": "code",
   "execution_count": 74,
   "metadata": {},
   "outputs": [
    {
     "data": {
      "text/plain": [
       "[('pltcs_293.txt', [('pltcs_111.txt', 77.47816690797887)]),\n",
       " ('tech_379.txt', [('tech_009.txt', 66.5629040538705)]),\n",
       " ('tech_009.txt', [('tech_379.txt', 56.55818387168409)]),\n",
       " ('sprt_121.txt', [('sprt_112.txt', 55.20634774238921)]),\n",
       " ('sprt_112.txt', [('sprt_121.txt', 54.98052900023596)])]"
      ]
     },
     "execution_count": 74,
     "metadata": {},
     "output_type": "execute_result"
    }
   ],
   "source": [
    "top_top"
   ]
  },
  {
   "cell_type": "code",
   "execution_count": 75,
   "metadata": {},
   "outputs": [],
   "source": [
    "highest_similarity = main_data.filter(lambda d:(d[0] == \"pltcs_293.txt\" or d[0] == \"pltcs_111.txt\"))\n",
    "cols = [\"Highest similar documents\", \"Text\"]\n",
    "hs = highest_similarity.toDF(cols)"
   ]
  },
  {
   "cell_type": "markdown",
   "metadata": {},
   "source": [
    "Highest similarity in the corpus was given between documents pltcs_293.txt and pltcs_111.txt with score of 77.5\n",
    "and actually, excpect of minor changes, the docuemtns are almost the same\n"
   ]
  },
  {
   "cell_type": "code",
   "execution_count": 76,
   "metadata": {},
   "outputs": [
    {
     "data": {
      "text/html": [
       "<div>\n",
       "<style scoped>\n",
       "    .dataframe tbody tr th:only-of-type {\n",
       "        vertical-align: middle;\n",
       "    }\n",
       "\n",
       "    .dataframe tbody tr th {\n",
       "        vertical-align: top;\n",
       "    }\n",
       "\n",
       "    .dataframe thead th {\n",
       "        text-align: right;\n",
       "    }\n",
       "</style>\n",
       "<table border=\"1\" class=\"dataframe\">\n",
       "  <thead>\n",
       "    <tr style=\"text-align: right;\">\n",
       "      <th></th>\n",
       "      <th>Highest similar documents</th>\n",
       "      <th>Text</th>\n",
       "    </tr>\n",
       "  </thead>\n",
       "  <tbody>\n",
       "    <tr>\n",
       "      <th>0</th>\n",
       "      <td>pltcs_293.txt</td>\n",
       "      <td>Kilroy launches 'Veritas' party\\n\\nEx-BBC chat show host and East Midlands MEP Robert Kilroy-Silk said he wanted to \"change the face of British politics\" as he launched his new party. Mr Kilroy-Silk, who recently quit the UK Independence Party, said \"our country\" was being \"stolen from us\" by mass immigration. He told a London news conference that Veritas - Latin for \"truth\" - would avoid the old parties' \"lies and spin\". UKIP leader Roger Knapman says he is glad to see the back of Mr Kilroy-Silk.\\n\\nMr Kilroy-Silk promised a \"firm but fair\" policy on immigration and said they hoped to contest most seats at the forthcoming general election. He said Veritas would also announce detailed policies on crime, tax, pensions, health and defence over the next few weeks. Labour campaign spokesman Fraser Kemp said Veritas was joining \"an already crowded field on the right of British politics\". On Thursday Mr Kilroy-Silk is due to announce which constituency he will run in at the next general ...</td>\n",
       "    </tr>\n",
       "    <tr>\n",
       "      <th>1</th>\n",
       "      <td>pltcs_111.txt</td>\n",
       "      <td>Kilroy launches 'Veritas' party\\n\\nEx-BBC chat show host and East Midlands MEP Robert Kilroy-Silk has said he wants to \"change the face of British politics\" as he launched his new party.\\n\\nMr Kilroy-Silk, who recently quit the UK Independence Party,said \"our country\" was being \"stolen from us\" by mass immigration. He told a London news conference that Veritas - Latin for \"truth\" - would avoid the old parties' \"lies and spin\". UKIP leader Roger Knapman says he was glad to see the back of Mr Kilroy-Silk.\\n\\nMr Kilroy-Silk promised a \"firm but fair\" policy on immigration and said they hoped to contest most seats at the forthcoming general election. He said Veritas would also announce detailed policies on crime, tax, pensions, health and defence over the next few weeks. And he announced the party would be holding a leadership election. On Thursday he is due to announce which constituency he will run in at the next general election - that will come amid speculation he has his sights se...</td>\n",
       "    </tr>\n",
       "  </tbody>\n",
       "</table>\n",
       "</div>"
      ],
      "text/plain": [
       "  Highest similar documents  \\\n",
       "0             pltcs_293.txt   \n",
       "1             pltcs_111.txt   \n",
       "\n",
       "                                                                                                                                                                                                                                                                                                                                                                                                                                                                                                                                                                                                                                                                                                                                                                                                                                                                                                                                                                                                                                      Text  \n",
       "0  Kilroy launches 'Veritas' party\\n\\nEx-BBC chat show host and East Midlands MEP Robert Kilroy-Silk said he wanted to \"change the face of British politics\" as he launched his new party. Mr Kilroy-Silk, who recently quit the UK Independence Party, said \"our country\" was being \"stolen from us\" by mass immigration. He told a London news conference that Veritas - Latin for \"truth\" - would avoid the old parties' \"lies and spin\". UKIP leader Roger Knapman says he is glad to see the back of Mr Kilroy-Silk.\\n\\nMr Kilroy-Silk promised a \"firm but fair\" policy on immigration and said they hoped to contest most seats at the forthcoming general election. He said Veritas would also announce detailed policies on crime, tax, pensions, health and defence over the next few weeks. Labour campaign spokesman Fraser Kemp said Veritas was joining \"an already crowded field on the right of British politics\". On Thursday Mr Kilroy-Silk is due to announce which constituency he will run in at the next general ...  \n",
       "1  Kilroy launches 'Veritas' party\\n\\nEx-BBC chat show host and East Midlands MEP Robert Kilroy-Silk has said he wants to \"change the face of British politics\" as he launched his new party.\\n\\nMr Kilroy-Silk, who recently quit the UK Independence Party,said \"our country\" was being \"stolen from us\" by mass immigration. He told a London news conference that Veritas - Latin for \"truth\" - would avoid the old parties' \"lies and spin\". UKIP leader Roger Knapman says he was glad to see the back of Mr Kilroy-Silk.\\n\\nMr Kilroy-Silk promised a \"firm but fair\" policy on immigration and said they hoped to contest most seats at the forthcoming general election. He said Veritas would also announce detailed policies on crime, tax, pensions, health and defence over the next few weeks. And he announced the party would be holding a leadership election. On Thursday he is due to announce which constituency he will run in at the next general election - that will come amid speculation he has his sights se...  "
      ]
     },
     "execution_count": 76,
     "metadata": {},
     "output_type": "execute_result"
    }
   ],
   "source": [
    "hs.toPandas()"
   ]
  },
  {
   "cell_type": "markdown",
   "metadata": {},
   "source": [
    "<h3>Query vector representation</h3>\n",
    "\n",
    "Break text into individual linguistic units\n",
    "\n",
    "In order to get precise results, we have to represent the query as a vector exactly \n",
    "as we did for document vectors, and actually I used the same functions to achieve that goal\n",
    "\n",
    "clean and arrange the given query \n",
    "\n",
    "* Lower case\n",
    "* Remove English stop words\n",
    "* Remove English possession ('s)\n",
    "* Remove symbols and numbers\n",
    "* Remove empty strings\n",
    "* Remove one letter words\n",
    "* Singularize words"
   ]
  },
  {
   "cell_type": "code",
   "execution_count": 77,
   "metadata": {},
   "outputs": [],
   "source": [
    "def query_to_vec(q):\n",
    "    vec = text_to_vec((\"query\", q))\n",
    "    vec = remove_stop_words(vec)\n",
    "    vec = remove_symbols(vec)\n",
    "    vec = singularize(vec)\n",
    "    \n",
    "    return list(dict(Counter(vec[1])))"
   ]
  },
  {
   "cell_type": "code",
   "execution_count": 78,
   "metadata": {},
   "outputs": [
    {
     "data": {
      "text/plain": [
       "['show', 'money', 'keep', 'enemy', 'close']"
      ]
     },
     "execution_count": 78,
     "metadata": {},
     "output_type": "execute_result"
    }
   ],
   "source": [
    "# Test query to vector function\n",
    "\n",
    "test_q_to_vec = \"Show me the money! Keep your enemies close\"\n",
    "q_vec = query_to_vec(test_q_to_vec)\n",
    "q_vec"
   ]
  },
  {
   "cell_type": "markdown",
   "metadata": {},
   "source": [
    "<h3>Match top K documents for a given query</h3>\n",
    "<h4>Examples</h4>\n",
    "\n",
    "\n",
    "As I catalog the collection of documents to different categories, \n",
    "We can check queries related to specific category and expect to get ducuments from that category "
   ]
  },
  {
   "cell_type": "code",
   "execution_count": 79,
   "metadata": {},
   "outputs": [
    {
     "data": {
      "text/plain": [
       "[('sprt_001.txt', 0.2646074098370145),\n",
       " ('sprt_074.txt', 0.2358641978259906),\n",
       " ('sprt_039.txt', 0.21683083840242692),\n",
       " ('sprt_073.txt', 0.21643685833903073),\n",
       " ('sprt_020.txt', 0.21070485208181305),\n",
       " ('sprt_012.txt', 0.21070485208181305),\n",
       " ('sprt_028.txt', 0.20512342841706438),\n",
       " ('sprt_071.txt', 0.20295697691947373),\n",
       " ('sprt_085.txt', 0.19291667023280837),\n",
       " ('entrtmnt_189.txt', 0.18351060425646176)]"
      ]
     },
     "execution_count": 79,
     "metadata": {},
     "output_type": "execute_result"
    }
   ],
   "source": [
    "K =10\n",
    "\n",
    "\n",
    "# Sports\n",
    "q1  = \"Medal, Season, Jumpping Sport\"\n",
    "cs_q1 = cosine_score(\"\",query_to_vec(q1), K)\n",
    "cs_q1"
   ]
  },
  {
   "cell_type": "code",
   "execution_count": 80,
   "metadata": {},
   "outputs": [
    {
     "data": {
      "text/plain": [
       "[('entrtmnt_332.txt', 0.20758210457321843),\n",
       " ('entrtmnt_139.txt', 0.20293153812552533),\n",
       " ('entrtmnt_095.txt', 0.20042568452344672),\n",
       " ('entrtmnt_172.txt', 0.19140659166400892),\n",
       " ('entrtmnt_323.txt', 0.1817630926673015),\n",
       " ('entrtmnt_235.txt', 0.1806562297166499),\n",
       " ('entrtmnt_105.txt', 0.1806562297166499),\n",
       " ('entrtmnt_264.txt', 0.18017753615465304),\n",
       " ('entrtmnt_097.txt', 0.1785207977781076),\n",
       " ('entrtmnt_195.txt', 0.17249808980171674)]"
      ]
     },
     "execution_count": 80,
     "metadata": {},
     "output_type": "execute_result"
    }
   ],
   "source": [
    "# Entertainment\n",
    "\n",
    "q2  = \"Best Song or a movie or a show\"\n",
    "cs_q2 = cosine_score(\"\",query_to_vec(q2), K)\n",
    "cs_q2"
   ]
  },
  {
   "cell_type": "code",
   "execution_count": 81,
   "metadata": {},
   "outputs": [
    {
     "data": {
      "text/plain": [
       "[('pltcs_401.txt', 0.2674146445588363),\n",
       " ('bsns_423.txt', 0.25740686783277433),\n",
       " ('pltcs_326.txt', 0.25391468952660445),\n",
       " ('pltcs_341.txt', 0.25016727048684145),\n",
       " ('pltcs_223.txt', 0.25016727048684145),\n",
       " ('pltcs_077.txt', 0.21706174156583033),\n",
       " ('pltcs_354.txt', 0.20211370854203436),\n",
       " ('bsns_106.txt', 0.186061919003983),\n",
       " ('pltcs_409.txt', 0.18438735613544305),\n",
       " ('pltcs_319.txt', 0.18270569107697013)]"
      ]
     },
     "execution_count": 81,
     "metadata": {},
     "output_type": "execute_result"
    }
   ],
   "source": [
    "# Politics\n",
    "\n",
    "q3  = \"Parliament, Prime minister, Citizen\"\n",
    "cs_q3 = cosine_score(\"\",query_to_vec(q3), K)\n",
    "cs_q3"
   ]
  },
  {
   "cell_type": "code",
   "execution_count": 82,
   "metadata": {},
   "outputs": [
    {
     "data": {
      "text/plain": [
       "[('bsns_206.txt', 0.3044557654751768),\n",
       " ('bsns_274.txt', 0.24095370863245907),\n",
       " ('bsns_267.txt', 0.23889150934670228),\n",
       " ('bsns_233.txt', 0.23751212969137966),\n",
       " ('bsns_365.txt', 0.23399301527366223),\n",
       " ('bsns_255.txt', 0.21671108708463716),\n",
       " ('bsns_238.txt', 0.21591889018789515),\n",
       " ('bsns_276.txt', 0.21054438313058688),\n",
       " ('bsns_281.txt', 0.1990690186479696),\n",
       " ('bsns_171.txt', 0.19474590869462713)]"
      ]
     },
     "execution_count": 82,
     "metadata": {},
     "output_type": "execute_result"
    }
   ],
   "source": [
    "#Business\n",
    "\n",
    "q4  = \"Stock market , my pension my money\"\n",
    "cs_q4 = cosine_score(\"\",query_to_vec(q4), K)\n",
    "cs_q4"
   ]
  },
  {
   "cell_type": "code",
   "execution_count": 83,
   "metadata": {},
   "outputs": [
    {
     "data": {
      "text/plain": [
       "[('tech_284.txt', 0.2213261110923545),\n",
       " ('tech_259.txt', 0.2203069624297773),\n",
       " ('tech_036.txt', 0.20363795173593072),\n",
       " ('tech_003.txt', 0.20363795173593072),\n",
       " ('tech_398.txt', 0.20203512100919785),\n",
       " ('tech_227.txt', 0.20203512100919785),\n",
       " ('tech_278.txt', 0.1936746689859994),\n",
       " ('tech_369.txt', 0.1807253288790651),\n",
       " ('tech_357.txt', 0.16048989996797505),\n",
       " ('tech_040.txt', 0.15797461539464341)]"
      ]
     },
     "execution_count": 83,
     "metadata": {},
     "output_type": "execute_result"
    }
   ],
   "source": [
    "# Technology\n",
    "\n",
    "q5  = \"online software website\"\n",
    "cs_q5 = cosine_score(\"\",query_to_vec(q5), K)\n",
    "cs_q5"
   ]
  },
  {
   "cell_type": "markdown",
   "metadata": {},
   "source": [
    "Lets check what we can get when searching only one word:"
   ]
  },
  {
   "cell_type": "code",
   "execution_count": 84,
   "metadata": {},
   "outputs": [
    {
     "data": {
      "text/plain": [
       "[('bsns_255.txt', 0.18712012211101378),\n",
       " ('sprt_460.txt', 0.17298794417222538),\n",
       " ('bsns_382.txt', 0.16242504134351057),\n",
       " ('pltcs_132.txt', 0.1480887943495272),\n",
       " ('entrtmnt_269.txt', 0.1336243533540087),\n",
       " ('sprt_347.txt', 0.12919289146764054),\n",
       " ('bsns_041.txt', 0.11033156627127216),\n",
       " ('sprt_241.txt', 0.10845034038045735),\n",
       " ('sprt_462.txt', 0.1032913063926923),\n",
       " ('pltcs_357.txt', 0.09896525038310693)]"
      ]
     },
     "execution_count": 84,
     "metadata": {},
     "output_type": "execute_result"
    }
   ],
   "source": [
    "q6  = \"Retirement\"\n",
    "cs_q6 = cosine_score(\"\",query_to_vec(q6), K)\n",
    "cs_q6"
   ]
  },
  {
   "cell_type": "markdown",
   "metadata": {},
   "source": [
    "The term \"retirement\" can be related to pension or to a sportsman who retired from the match.\n",
    "\n",
    "Lets look in the results :\n",
    "\n",
    "<b>Pension</b>:\n",
    "\n",
    " bsns_255.txt is about the UK state pension system<br>\n",
    " bsns_382.txt is about a new law which says that employers will no longer be able to force workers to retire before the age of 65<br>\n",
    " pltcs_132.txt is about a review of how the market will be influenced by raising the retirement age <br>\n",
    "            \n",
    "<b>Sports</b>\n",
    "\n",
    " sprt_460.txt is about Lindsay Devenport- American professional tennis player who retired from the match because   of a back injury<br>\n",
    " sprt_347.txt is mention Martin Osborne Johnson - an English retired rugby player<br>\n",
    "\n",
    " <b>Document frequency:</b>\n",
    " \n",
    " We can also notice that the term \"retirement\" is a rare term (dft = 38) , so even a document with tf = 2 like sprt_347.txt will be returned in the results set and it is actually very relevant\n",
    " \n",
    " <h3>More query examples</h3>"
   ]
  },
  {
   "cell_type": "code",
   "execution_count": 85,
   "metadata": {},
   "outputs": [
    {
     "data": {
      "text/plain": [
       "[('entrtmnt_160.txt', 0.17967111975677402),\n",
       " ('entrtmnt_112.txt', 0.17475636085142598),\n",
       " ('entrtmnt_159.txt', 0.13203273034832375),\n",
       " ('entrtmnt_143.txt', 0.1266481863515194),\n",
       " ('entrtmnt_123.txt', 0.1259874929662363),\n",
       " ('tech_279.txt', 0.1188480403992821),\n",
       " ('tech_302.txt', 0.1188480403992821),\n",
       " ('entrtmnt_130.txt', 0.11577645067189055),\n",
       " ('entrtmnt_127.txt', 0.11543236475089988),\n",
       " ('entrtmnt_103.txt', 0.11543236475089988)]"
      ]
     },
     "execution_count": 85,
     "metadata": {},
     "output_type": "execute_result"
    }
   ],
   "source": [
    "q7  = \"A new song\"\n",
    "cs_q7 = cosine_score(\"\",query_to_vec(q7), K)\n",
    "cs_q7"
   ]
  },
  {
   "cell_type": "markdown",
   "metadata": {},
   "source": [
    "When searching for a new song we get the expected results:\n",
    "\n",
    "entrtmnt_160.txt - the new singel \"Band Aid\" in iTunes<br>\n",
    "entrtmnt_112.txt - the re-release of hit song of Elvis<br>\n",
    "entrtmnt_159.txt - the new video of former Westlife"
   ]
  },
  {
   "cell_type": "code",
   "execution_count": 86,
   "metadata": {},
   "outputs": [
    {
     "data": {
      "text/plain": [
       "[('tech_036.txt', 0.17482801114068425),\n",
       " ('tech_003.txt', 0.17482801114068425),\n",
       " ('tech_008.txt', 0.14547626288495188),\n",
       " ('tech_252.txt', 0.14547626288495188),\n",
       " ('tech_177.txt', 0.14428821106926562),\n",
       " ('tech_292.txt', 0.14428821106926562),\n",
       " ('tech_117.txt', 0.1331734366292737),\n",
       " ('tech_272.txt', 0.1322531292700624),\n",
       " ('tech_290.txt', 0.11487596186395439),\n",
       " ('tech_116.txt', 0.114778012636701)]"
      ]
     },
     "execution_count": 86,
     "metadata": {},
     "output_type": "execute_result"
    }
   ],
   "source": [
    "q8  = \"Antivirus\"\n",
    "cs_q8 = cosine_score(\"\",query_to_vec(q8), K)\n",
    "cs_q8"
   ]
  },
  {
   "cell_type": "markdown",
   "metadata": {},
   "source": [
    "When quering for the term \"antivirus\" we gets a usefull information about viruses and tools for example :\n",
    "\n",
    "tech_036.txt- Microsoft spyware tool<br>\n",
    "tech_003.txt - Windows virus disguising itself as an electronic Christmas card<br>\n",
    "tech_177.txt - Tools to clean up PCs harbouring viruses abd spyware"
   ]
  },
  {
   "cell_type": "code",
   "execution_count": 87,
   "metadata": {},
   "outputs": [
    {
     "data": {
      "text/plain": [
       "[('entrtmnt_290.txt', 0.17653183044330767)]"
      ]
     },
     "execution_count": 87,
     "metadata": {},
     "output_type": "execute_result"
    }
   ],
   "source": [
    "q9  = \"Python\"\n",
    "cs_q9 = cosine_score(\"\",query_to_vec(q9), K)\n",
    "cs_q9"
   ]
  },
  {
   "cell_type": "markdown",
   "metadata": {},
   "source": [
    "When searching for results about the language \"Python\" we did'nt find much - as expected in BBC news dataset.\n",
    "\n",
    "The only document related is \"entrtmnt_290.txt\" with respct to \"Monty Python\"- British comedy troupe who created comedy tv shows\n",
    "\n",
    "<b>Document frequency and term frequency:</b>\n",
    "\n",
    "We should notice that although the term appears in the document only ones, it is the only document the term is exists in so the connection between the document and query is very strong, and we are getting it in the result set \n"
   ]
  },
  {
   "cell_type": "code",
   "execution_count": 88,
   "metadata": {},
   "outputs": [
    {
     "data": {
      "text/plain": [
       "[('sprt_151.txt', 0.36401547606179513),\n",
       " ('sprt_275.txt', 0.3603633275774207),\n",
       " ('sprt_237.txt', 0.33862164314951626),\n",
       " ('sprt_211.txt', 0.33620936445452204),\n",
       " ('sprt_183.txt', 0.3307759544486267),\n",
       " ('sprt_245.txt', 0.30721179631047085),\n",
       " ('sprt_120.txt', 0.30542369806026),\n",
       " ('sprt_238.txt', 0.2974009500997684),\n",
       " ('sprt_239.txt', 0.2933989336606566),\n",
       " ('sprt_167.txt', 0.2644620471066777)]"
      ]
     },
     "execution_count": 88,
     "metadata": {},
     "output_type": "execute_result"
    }
   ],
   "source": [
    "q10  = \"Barcelona Real Madrid\"\n",
    "cs_q10 = cosine_score(\"\",query_to_vec(q10), K)\n",
    "cs_q10"
   ]
  },
  {
   "cell_type": "markdown",
   "metadata": {},
   "source": [
    "News and game results in the soccer spanish league\n",
    "and actually all results are sports documents"
   ]
  },
  {
   "cell_type": "markdown",
   "metadata": {},
   "source": [
    "<h3>Part2</h3>\n",
    "<h3>K-means algorithm</h3>\n",
    "\n"
   ]
  },
  {
   "cell_type": "code",
   "execution_count": 89,
   "metadata": {},
   "outputs": [],
   "source": [
    "K = 5"
   ]
  },
  {
   "cell_type": "markdown",
   "metadata": {},
   "source": [
    "I will use the weights rdd vector : vecs = tuple(doc_name, [[terms], [tf-idf weights]])\n",
    "\n",
    "vecs is the tf-idf weights vectors I used in the inverted index for Cosine Score algorithm and it is not the completed terms vector.\n",
    "actually it contains ,for each document, terms and weights.\n",
    "in order to run the K-means algorithm, I will transfer vecs to be a full vocabulary terms vector. "
   ]
  },
  {
   "cell_type": "code",
   "execution_count": 90,
   "metadata": {},
   "outputs": [
    {
     "data": {
      "text/plain": [
       "PythonRDD[76] at collectAsMap at <ipython-input-59-1b8b9c4fe9e9>:1"
      ]
     },
     "execution_count": 90,
     "metadata": {},
     "output_type": "execute_result"
    }
   ],
   "source": [
    "vecs"
   ]
  },
  {
   "cell_type": "code",
   "execution_count": 91,
   "metadata": {},
   "outputs": [
    {
     "data": {
      "text/plain": [
       "[('bsns_382.txt',\n",
       "  [['ban',\n",
       "    'forced',\n",
       "    'retirement',\n",
       "    'employer',\n",
       "    'will',\n",
       "    'longer',\n",
       "    'able',\n",
       "    'force',\n",
       "    'worker',\n",
       "    'retire',\n",
       "    'unles',\n",
       "    'can',\n",
       "    'justify',\n",
       "    'government',\n",
       "    'announced',\n",
       "    'firm',\n",
       "    'barred',\n",
       "    'imposing',\n",
       "    'arbitrary',\n",
       "    'age',\n",
       "    'new',\n",
       "    'european',\n",
       "    'discrimination',\n",
       "    'rule',\n",
       "    'default',\n",
       "    'introduced',\n",
       "    'permitted',\n",
       "    'request',\n",
       "    'staying',\n",
       "    'beyond',\n",
       "    'compulsory',\n",
       "    'although',\n",
       "    'right',\n",
       "    'refuse',\n",
       "    'trade',\n",
       "    'industry',\n",
       "    'secretary',\n",
       "    'patricium',\n",
       "    'hewitt',\n",
       "    'said',\n",
       "    'person',\n",
       "    'work',\n",
       "    'wanted',\n",
       "    'saying',\n",
       "    'statutory',\n",
       "    'free',\n",
       "    'continue',\n",
       "    'employing',\n",
       "    'long',\n",
       "    'competent',\n",
       "    'proposal',\n",
       "    'department',\n",
       "    'last',\n",
       "    'year',\n",
       "    'allowed',\n",
       "    'till',\n",
       "    'wished',\n",
       "    'busines',\n",
       "    'leader',\n",
       "    'opposed',\n",
       "    'plan',\n",
       "    'costly',\n",
       "    'cumbersome',\n",
       "    'british',\n",
       "    'chamber',\n",
       "    'commerce',\n",
       "    'welcomed',\n",
       "    'latest',\n",
       "    'thi',\n",
       "    'move',\n",
       "    'today',\n",
       "    'best',\n",
       "    'world',\n",
       "    'ability',\n",
       "    'define',\n",
       "    'end',\n",
       "    'point',\n",
       "    'employeremployee',\n",
       "    'relationship',\n",
       "    'employee',\n",
       "    'flexibility',\n",
       "    'past',\n",
       "    'concern',\n",
       "    'cowardly',\n",
       "    'complete',\n",
       "    'uturn',\n",
       "    'make',\n",
       "    'mockery',\n",
       "    'socalled',\n",
       "    'commitment',\n",
       "    'outlawing',\n",
       "    'ageism',\n",
       "    'leaving',\n",
       "    'incoming',\n",
       "    'law',\n",
       "    'unravel',\n",
       "    'gordon',\n",
       "    'lishman',\n",
       "    'director',\n",
       "    'general',\n",
       "    'england',\n",
       "    'now',\n",
       "    'inevitable',\n",
       "    'older',\n",
       "    'mount',\n",
       "    'legal',\n",
       "    'challenge',\n",
       "    'decision',\n",
       "    'using',\n",
       "    'impact',\n",
       "    'collect',\n",
       "    'state',\n",
       "    'pension'],\n",
       "   [1.466516423036159,\n",
       "    1.6546279011328127,\n",
       "    3.142964874522785,\n",
       "    3.095751305731075,\n",
       "    0.33214104409515793,\n",
       "    1.7417276825556467,\n",
       "    0.9407898348829952,\n",
       "    1.2234783743498645,\n",
       "    2.3225110538940306,\n",
       "    2.0251107205830308,\n",
       "    1.5344166586740946,\n",
       "    0.6084407411965552,\n",
       "    2.305937330158725,\n",
       "    0.9865724156112016,\n",
       "    1.0292666803541888,\n",
       "    0.6808120347620694,\n",
       "    2.305937330158725,\n",
       "    3.180029593453413,\n",
       "    2.648360010980931,\n",
       "    2.794684163591902,\n",
       "    0.35699116052934887,\n",
       "    1.163136005999963,\n",
       "    3.406149042428964,\n",
       "    1.1042919666306559,\n",
       "    2.9509295834477345,\n",
       "    1.5212552126161238,\n",
       "    2.305937330158725,\n",
       "    2.3460979142677947,\n",
       "    2.5022319753026934,\n",
       "    1.4282519229408763,\n",
       "    2.8248467496440672,\n",
       "    0.9208187539523751,\n",
       "    0.9612061411594071,\n",
       "    1.870208760597288,\n",
       "    1.4699636289881597,\n",
       "    1.2086942367537974,\n",
       "    1.0731721660532705,\n",
       "    2.305937330158725,\n",
       "    1.9323566673461323,\n",
       "    0.1316071997804136,\n",
       "    0.6341276798040393,\n",
       "    1.0252957148000152,\n",
       "    1.1220207335910874,\n",
       "    0.9373968919856557,\n",
       "    2.5022319753026934,\n",
       "    1.1654864273721777,\n",
       "    0.9459294745354062,\n",
       "    2.4442400283250065,\n",
       "    0.9424962986970122,\n",
       "    2.5691787649333064,\n",
       "    1.6313723493442194,\n",
       "    1.3261407162470122,\n",
       "    0.3892441667958652,\n",
       "    0.22282579048266812,\n",
       "    1.3650587822773816,\n",
       "    2.3473300153169503,\n",
       "    2.5022319753026934,\n",
       "    0.9290287239972048,\n",
       "    0.951130668221214,\n",
       "    1.779128291249955,\n",
       "    0.7641312413483276,\n",
       "    2.116881093938676,\n",
       "    2.8702087605972877,\n",
       "    0.8658873868146453,\n",
       "    1.8032619709666744,\n",
       "    1.9493900066449126,\n",
       "    1.666088777941363,\n",
       "    1.0419786458703266,\n",
       "    1.1435828387303972,\n",
       "    0.8248857818106304,\n",
       "    1.124613544169367,\n",
       "    0.791027514549663,\n",
       "    0.5225535528414047,\n",
       "    1.3605582810507055,\n",
       "    2.305937330158725,\n",
       "    0.720989647941908,\n",
       "    0.8940116752699125,\n",
       "    3.3473300153169503,\n",
       "    1.5479894658633686,\n",
       "    1.6845721836353762,\n",
       "    2.0251107205830308,\n",
       "    0.9599401889782208,\n",
       "    1.446487189726891,\n",
       "    3.3473300153169503,\n",
       "    1.6230541457161611,\n",
       "    2.648360010980931,\n",
       "    0.5003746902971263,\n",
       "    3.046300019652969,\n",
       "    1.4899975188856818,\n",
       "    1.5691787649333067,\n",
       "    3.046300019652969,\n",
       "    2.8702087605972877,\n",
       "    1.583902021754013,\n",
       "    2.5691787649333064,\n",
       "    1.347315639488166,\n",
       "    3.046300019652969,\n",
       "    1.2828720260900317,\n",
       "    2.745270023988988,\n",
       "    0.835446654338076,\n",
       "    0.9357103093537202,\n",
       "    0.9581639309524179,\n",
       "    0.4585890546340578,\n",
       "    2.268148769269325,\n",
       "    1.7038773388307629,\n",
       "    2.3930875058776255,\n",
       "    1.1351424109129926,\n",
       "    1.204315215062855,\n",
       "    1.1493780705368775,\n",
       "    0.9893951683164967,\n",
       "    1.334492790611778,\n",
       "    2.004907334494744,\n",
       "    0.9159662511579629,\n",
       "    1.639759839219014]])]"
      ]
     },
     "execution_count": 91,
     "metadata": {},
     "output_type": "execute_result"
    }
   ],
   "source": [
    "vecs.take(1)"
   ]
  },
  {
   "cell_type": "code",
   "execution_count": 92,
   "metadata": {},
   "outputs": [
    {
     "data": {
      "text/plain": [
       "26746"
      ]
     },
     "execution_count": 92,
     "metadata": {},
     "output_type": "execute_result"
    }
   ],
   "source": [
    "vocabulary.sort()\n",
    "voc_ln = len(vocabulary)\n",
    "voc_ln"
   ]
  },
  {
   "cell_type": "code",
   "execution_count": 93,
   "metadata": {},
   "outputs": [],
   "source": [
    "# convert to : tuple(doc, Dict{term index:weight})\n",
    "def rebuild_vec(v):\n",
    "    doc   = v[0]\n",
    "    terms = v[1][0]\n",
    "    wtd   = v[1][1]\n",
    "    d = {}\n",
    "    \n",
    "    for i in range(len(terms)):\n",
    "        ind = vocabulary.index(terms[i])\n",
    "        d[ind] = wtd[i]\n",
    "        \n",
    "    return (doc, dict(sorted(d.items())))"
   ]
  },
  {
   "cell_type": "code",
   "execution_count": 94,
   "metadata": {},
   "outputs": [],
   "source": [
    "rvecs = vecs.map(rebuild_vec)"
   ]
  },
  {
   "cell_type": "code",
   "execution_count": 95,
   "metadata": {},
   "outputs": [
    {
     "data": {
      "text/plain": [
       "[('bsns_382.txt',\n",
       "  {51: 1.3605582810507055,\n",
       "   54: 0.9407898348829952,\n",
       "   440: 2.794684163591902,\n",
       "   443: 2.8702087605972877,\n",
       "   687: 1.3650587822773816,\n",
       "   737: 0.9208187539523751,\n",
       "   978: 1.0292666803541888,\n",
       "   1214: 2.648360010980931,\n",
       "   1853: 1.466516423036159,\n",
       "   1952: 2.305937330158725,\n",
       "   2290: 0.791027514549663,\n",
       "   2343: 1.4282519229408763,\n",
       "   3006: 0.8658873868146453,\n",
       "   3268: 0.9290287239972048,\n",
       "   3432: 0.6084407411965552,\n",
       "   3852: 1.204315215062855,\n",
       "   3858: 1.8032619709666744,\n",
       "   4483: 2.004907334494744,\n",
       "   4579: 1.9493900066449126,\n",
       "   4593: 1.5691787649333067,\n",
       "   4643: 2.5691787649333064,\n",
       "   4662: 1.6230541457161611,\n",
       "   4702: 2.8248467496440672,\n",
       "   4729: 1.446487189726891,\n",
       "   4983: 0.9459294745354062,\n",
       "   5198: 2.116881093938676,\n",
       "   5289: 3.3473300153169503,\n",
       "   5541: 2.8702087605972877,\n",
       "   5874: 1.1493780705368775,\n",
       "   5929: 2.9509295834477345,\n",
       "   5961: 2.305937330158725,\n",
       "   6108: 1.3261407162470122,\n",
       "   6442: 0.835446654338076,\n",
       "   6527: 3.406149042428964,\n",
       "   7523: 1.6845721836353762,\n",
       "   7524: 3.095751305731075,\n",
       "   7525: 3.3473300153169503,\n",
       "   7526: 2.4442400283250065,\n",
       "   7567: 0.720989647941908,\n",
       "   7625: 0.9581639309524179,\n",
       "   7881: 1.163136005999963,\n",
       "   8731: 0.6808120347620694,\n",
       "   8867: 2.0251107205830308,\n",
       "   9011: 1.2234783743498645,\n",
       "   9012: 1.6546279011328127,\n",
       "   9216: 1.1654864273721777,\n",
       "   9604: 0.9357103093537202,\n",
       "   9948: 1.2828720260900317,\n",
       "   9976: 0.9865724156112016,\n",
       "   10810: 1.9323566673461323,\n",
       "   11530: 1.334492790611778,\n",
       "   11577: 3.180029593453413,\n",
       "   11666: 2.5691787649333064,\n",
       "   11770: 1.2086942367537974,\n",
       "   11783: 2.268148769269325,\n",
       "   12130: 1.5212552126161238,\n",
       "   12715: 2.305937330158725,\n",
       "   13284: 0.3892441667958652,\n",
       "   13299: 1.0419786458703266,\n",
       "   13343: 1.347315639488166,\n",
       "   13374: 0.951130668221214,\n",
       "   13413: 1.583902021754013,\n",
       "   13447: 1.1351424109129926,\n",
       "   13742: 2.745270023988988,\n",
       "   13880: 0.9424962986970122,\n",
       "   13887: 1.7417276825556467,\n",
       "   14238: 0.5003746902971263,\n",
       "   15260: 3.046300019652969,\n",
       "   15486: 2.3930875058776255,\n",
       "   15503: 0.8248857818106304,\n",
       "   15966: 0.35699116052934887,\n",
       "   16332: 0.4585890546340578,\n",
       "   16558: 1.7038773388307629,\n",
       "   16723: 1.779128291249955,\n",
       "   16884: 3.046300019652969,\n",
       "   17326: 0.9599401889782208,\n",
       "   17350: 2.305937330158725,\n",
       "   17500: 1.639759839219014,\n",
       "   17568: 2.305937330158725,\n",
       "   17592: 0.6341276798040393,\n",
       "   17857: 0.7641312413483276,\n",
       "   17984: 0.8940116752699125,\n",
       "   18639: 1.6313723493442194,\n",
       "   19479: 1.870208760597288,\n",
       "   19592: 1.5479894658633686,\n",
       "   19796: 2.3460979142677947,\n",
       "   19953: 2.0251107205830308,\n",
       "   19956: 3.142964874522785,\n",
       "   20142: 0.9612061411594071,\n",
       "   20468: 1.1042919666306559,\n",
       "   20583: 0.1316071997804136,\n",
       "   20759: 0.9373968919856557,\n",
       "   21052: 1.0731721660532705,\n",
       "   22083: 1.4899975188856818,\n",
       "   22625: 0.9159662511579629,\n",
       "   22653: 2.5022319753026934,\n",
       "   22661: 2.5022319753026934,\n",
       "   23857: 1.1435828387303972,\n",
       "   24036: 2.3473300153169503,\n",
       "   24116: 1.124613544169367,\n",
       "   24309: 1.4699636289881597,\n",
       "   25054: 1.5344166586740946,\n",
       "   25102: 3.046300019652969,\n",
       "   25297: 0.9893951683164967,\n",
       "   25317: 2.648360010980931,\n",
       "   25786: 1.1220207335910874,\n",
       "   25977: 1.666088777941363,\n",
       "   26192: 0.33214104409515793,\n",
       "   26281: 2.5022319753026934,\n",
       "   26390: 1.0252957148000152,\n",
       "   26393: 2.3225110538940306,\n",
       "   26411: 0.5225535528414047,\n",
       "   26580: 0.22282579048266812})]"
      ]
     },
     "execution_count": 95,
     "metadata": {},
     "output_type": "execute_result"
    }
   ],
   "source": [
    "rvecs.take(1)"
   ]
  },
  {
   "cell_type": "code",
   "execution_count": 97,
   "metadata": {},
   "outputs": [],
   "source": [
    "import numpy as np\n",
    "\n",
    "# v  = tuple (doc, Dict{term index:weight})\n",
    "def np_vec(v):\n",
    "    doc = v[0]\n",
    "    wtd = v[1]\n",
    "    arr = []\n",
    "    \n",
    "    for i in range(voc_ln):\n",
    "        if i in wtd:\n",
    "            arr.append(wtd[i])\n",
    "        else:\n",
    "            arr.append(float(0))\n",
    "    \n",
    "    return(doc, np.array(arr))"
   ]
  },
  {
   "cell_type": "code",
   "execution_count": 98,
   "metadata": {},
   "outputs": [
    {
     "data": {
      "text/plain": [
       "[('bsns_382.txt', array([0., 0., 0., ..., 0., 0., 0.]))]"
      ]
     },
     "execution_count": 98,
     "metadata": {},
     "output_type": "execute_result"
    }
   ],
   "source": [
    "npvecs = rvecs.map(np_vec)\n",
    "npvecs.take(1)"
   ]
  },
  {
   "cell_type": "markdown",
   "metadata": {},
   "source": [
    "<b>K-means</b> \n",
    "\n",
    "Is the most important flat clustering algorithm. Its objective is to minimize the average squared Euclidean distance of documents from their cluster centers.\n",
    "\n",
    "A measure of how well the centroids represent the members of their clusters is the residual sum of squares or RSS , the squared distance of each vector from its centroid summed over all vectors\n",
    "\n",
    "RSS is the objective function in K-means and our goal is to minimize it. Since N is fixed, minimizing RSS is equivalent to minimizing the average squared distance, a measure of how well centroids represent their documents. \n",
    "\n",
    "The first step of K-means is to select as initial cluster centers K randomly selected documents, the seeds . \n",
    "The algorithm then moves the cluster centers around in space in order to minimize residual sum of squares. \n",
    "this is done iteratively by repeating two steps until a stopping criterion is met: reassigning documents to the cluster with the closest centroid; and recomputing each centroid based on the current members of its cluster."
   ]
  },
  {
   "cell_type": "code",
   "execution_count": 212,
   "metadata": {},
   "outputs": [],
   "source": [
    "# Select as initial cluster centers ,K randomly selected documents - the seeds\n",
    "\n",
    "#seeds = npvecs.map(lambda x:(x[1])).take(5)"
   ]
  },
  {
   "cell_type": "markdown",
   "metadata": {},
   "source": [
    "<b>Seeds Selection</b>\n",
    "\n",
    "When I used randonally seeds, the algorithm was stopped after few iterations when there was no change between centoids and new centroids.I got only 2 main categories with no significant results .\n",
    "Instead, I choose the seeds to be K documents contains terms with strong category relation.  "
   ]
  },
  {
   "cell_type": "code",
   "execution_count": 230,
   "metadata": {},
   "outputs": [],
   "source": [
    "seeds = npvecs.filter(lambda x:(x[0] == cs_q1[0][0] or x[0] == cs_q2[0][0] or x[0] == cs_q3[0][0] or \n",
    "                               x[0] == cs_q4[0][0] or x[0] == cs_q5[0][0]))"
   ]
  },
  {
   "cell_type": "code",
   "execution_count": 231,
   "metadata": {},
   "outputs": [
    {
     "data": {
      "text/plain": [
       "[('bsns_206.txt', array([0., 0., 0., ..., 0., 0., 0.])),\n",
       " ('entrtmnt_332.txt', array([0., 0., 0., ..., 0., 0., 0.])),\n",
       " ('pltcs_401.txt', array([0., 0., 0., ..., 0., 0., 0.])),\n",
       " ('sprt_001.txt',\n",
       "  array([2.17123876, 0.        , 0.        , ..., 0.        , 0.        ,\n",
       "         0.        ])),\n",
       " ('tech_284.txt', array([0., 0., 0., ..., 0., 0., 0.]))]"
      ]
     },
     "execution_count": 231,
     "metadata": {},
     "output_type": "execute_result"
    }
   ],
   "source": [
    "seeds.take(5)"
   ]
  },
  {
   "cell_type": "code",
   "execution_count": 234,
   "metadata": {},
   "outputs": [],
   "source": [
    "seeds = seeds.map(lambda x:(x[1])).take(5)"
   ]
  },
  {
   "cell_type": "code",
   "execution_count": 235,
   "metadata": {},
   "outputs": [
    {
     "data": {
      "text/plain": [
       "[array([0., 0., 0., ..., 0., 0., 0.]),\n",
       " array([0., 0., 0., ..., 0., 0., 0.]),\n",
       " array([0., 0., 0., ..., 0., 0., 0.]),\n",
       " array([2.17123876, 0.        , 0.        , ..., 0.        , 0.        ,\n",
       "        0.        ]),\n",
       " array([0., 0., 0., ..., 0., 0., 0.])]"
      ]
     },
     "execution_count": 235,
     "metadata": {},
     "output_type": "execute_result"
    }
   ],
   "source": [
    "seeds"
   ]
  },
  {
   "cell_type": "code",
   "execution_count": 236,
   "metadata": {},
   "outputs": [],
   "source": [
    "centroids = seeds"
   ]
  },
  {
   "cell_type": "markdown",
   "metadata": {},
   "source": [
    "\n",
    "Step 1 - Reassigning documents to the cluster with the closest centroid\n"
   ]
  },
  {
   "cell_type": "code",
   "execution_count": 270,
   "metadata": {},
   "outputs": [],
   "source": [
    "# d = (doc, vec)\n",
    "# return value : (v1, 1, doc)\n",
    "#               v1 = document vector, \n",
    "#               1 = Count for later use (centroids vector avarage)\n",
    "#               doc = document index(name)\n",
    "\n",
    "def get_closest_centroid(d, centroids):\n",
    "    \n",
    "    doc = d[0]\n",
    "    v1 = d[1]\n",
    "    \n",
    "    distance     = 0 \n",
    "    min_distance = 0\n",
    "    centroid = 0\n",
    "    \n",
    "    min_distance = np.linalg.norm(v1 - centroids[0])\n",
    "\n",
    "    for i in range(1, K):\n",
    "        \n",
    "        distance = np.linalg.norm(v1 - centroids[i])\n",
    "        \n",
    "        if min_distance > distance:\n",
    "            min_distance = distance\n",
    "            centroid     = i\n",
    "    \n",
    "    return(centroid, (v1, 1, doc))"
   ]
  },
  {
   "cell_type": "code",
   "execution_count": 271,
   "metadata": {},
   "outputs": [],
   "source": [
    "closest_centroids = npvecs.map(lambda v: get_closest_centroid(v, centroids)) "
   ]
  },
  {
   "cell_type": "code",
   "execution_count": 272,
   "metadata": {},
   "outputs": [
    {
     "data": {
      "text/plain": [
       "[(4, (array([0., 0., 0., ..., 0., 0., 0.]), 1, 'bsns_382.txt')),\n",
       " (4, (array([0., 0., 0., ..., 0., 0., 0.]), 1, 'bsns_050.txt')),\n",
       " (4, (array([0., 0., 0., ..., 0., 0., 0.]), 1, 'bsns_057.txt')),\n",
       " (2, (array([0., 0., 0., ..., 0., 0., 0.]), 1, 'bsns_272.txt')),\n",
       " (4, (array([0., 0., 0., ..., 0., 0., 0.]), 1, 'bsns_065.txt')),\n",
       " (4, (array([0., 0., 0., ..., 0., 0., 0.]), 1, 'bsns_002.txt')),\n",
       " (4, (array([0., 0., 0., ..., 0., 0., 0.]), 1, 'bsns_064.txt')),\n",
       " (4, (array([0., 0., 0., ..., 0., 0., 0.]), 1, 'bsns_491.txt')),\n",
       " (4, (array([0., 0., 0., ..., 0., 0., 0.]), 1, 'bsns_110.txt')),\n",
       " (4, (array([0., 0., 0., ..., 0., 0., 0.]), 1, 'bsns_036.txt'))]"
      ]
     },
     "execution_count": 272,
     "metadata": {},
     "output_type": "execute_result"
    }
   ],
   "source": [
    "closest_centroids.take(10)"
   ]
  },
  {
   "cell_type": "code",
   "execution_count": 273,
   "metadata": {},
   "outputs": [],
   "source": [
    "# tuple (sum,count)\n",
    "def sum_vecs(v1,v2):\n",
    "    \n",
    "    return (v1[0] + v2[0], v1[1] + v2[1])"
   ]
  },
  {
   "cell_type": "code",
   "execution_count": 274,
   "metadata": {},
   "outputs": [],
   "source": [
    "sum_closest_centroids = closest_centroids.reduceByKey(sum_vecs)"
   ]
  },
  {
   "cell_type": "code",
   "execution_count": 275,
   "metadata": {},
   "outputs": [],
   "source": [
    "new_centroids = sum_closest_centroids.map(lambda x:(x[1][0] / x[1][1]))"
   ]
  },
  {
   "cell_type": "markdown",
   "metadata": {},
   "source": [
    "\n",
    "Step 2 - Recomputing each centroid based on the current members of its cluster.\n"
   ]
  },
  {
   "cell_type": "code",
   "execution_count": 276,
   "metadata": {},
   "outputs": [
    {
     "data": {
      "text/plain": [
       "[array([0., 0., 0., ..., 0., 0., 0.]),\n",
       " array([0., 0., 0., ..., 0., 0., 0.]),\n",
       " array([0., 0., 0., ..., 0., 0., 0.]),\n",
       " array([0.37601571, 0.05695892, 0.        , ..., 0.        , 0.09551968,\n",
       "        0.        ]),\n",
       " array([0.00357896, 0.00167379, 0.00271671, ..., 0.00183919, 0.        ,\n",
       "        0.00334758])]"
      ]
     },
     "execution_count": 276,
     "metadata": {},
     "output_type": "execute_result"
    }
   ],
   "source": [
    "new_centroids.take(5)"
   ]
  },
  {
   "cell_type": "code",
   "execution_count": 277,
   "metadata": {},
   "outputs": [],
   "source": [
    "centroids = new_centroids.take(5)"
   ]
  },
  {
   "cell_type": "markdown",
   "metadata": {},
   "source": [
    "Move the cluster centers around in space in order to minimize residual sum of squares RSS\n",
    "iteratively by repeating two steps until a stopping criterion is met\n",
    "\n",
    "Apply one of the following termination conditions.\n",
    "\n",
    "* A fixed number of iterations has been completed. This condition limits the runtime of the clustering algorithm, but in some cases the quality of the clustering will be poor because of an insufficient number of iterations.\n",
    "* Centroids do not change between iterations."
   ]
  },
  {
   "cell_type": "code",
   "execution_count": 278,
   "metadata": {},
   "outputs": [
    {
     "name": "stdout",
     "output_type": "stream",
     "text": [
      "0 2\n",
      "1 40\n",
      "2 314\n",
      "3 92\n",
      "4 1777\n",
      "--------\n",
      "0 2\n",
      "1 40\n",
      "2 314\n",
      "3 133\n",
      "4 1736\n",
      "--------\n",
      "0 2\n",
      "1 40\n",
      "2 313\n",
      "3 185\n",
      "4 1685\n",
      "--------\n",
      "0 2\n",
      "1 40\n",
      "2 313\n",
      "3 204\n",
      "4 1666\n",
      "--------\n",
      "0 2\n",
      "1 40\n",
      "2 313\n",
      "3 216\n",
      "4 1654\n",
      "--------\n",
      "0 2\n",
      "1 40\n",
      "2 313\n",
      "3 221\n",
      "4 1649\n",
      "--------\n",
      "0 2\n",
      "1 40\n",
      "2 313\n",
      "3 232\n",
      "4 1638\n",
      "--------\n",
      "0 2\n",
      "1 40\n",
      "2 313\n",
      "3 243\n",
      "4 1627\n",
      "--------\n",
      "0 2\n",
      "1 40\n",
      "2 314\n",
      "3 256\n",
      "4 1613\n",
      "--------\n",
      "0 2\n",
      "1 40\n",
      "2 314\n",
      "3 267\n",
      "4 1602\n",
      "--------\n",
      "0 2\n",
      "1 40\n",
      "2 314\n",
      "3 275\n",
      "4 1594\n",
      "--------\n",
      "0 2\n",
      "1 40\n",
      "2 315\n",
      "3 285\n",
      "4 1583\n",
      "--------\n",
      "0 2\n",
      "1 40\n",
      "2 315\n",
      "3 297\n",
      "4 1571\n",
      "--------\n",
      "0 2\n",
      "1 40\n",
      "2 315\n",
      "3 312\n",
      "4 1556\n",
      "--------\n",
      "0 2\n",
      "1 40\n",
      "2 315\n",
      "3 333\n",
      "4 1535\n",
      "--------\n",
      "0 2\n",
      "1 40\n",
      "2 314\n",
      "3 350\n",
      "4 1519\n",
      "--------\n",
      "0 2\n",
      "1 40\n",
      "2 314\n",
      "3 367\n",
      "4 1502\n",
      "--------\n",
      "0 2\n",
      "1 40\n",
      "2 314\n",
      "3 379\n",
      "4 1490\n",
      "--------\n",
      "0 2\n",
      "1 40\n",
      "2 314\n",
      "3 393\n",
      "4 1476\n",
      "--------\n",
      "0 2\n",
      "1 40\n",
      "2 314\n",
      "3 406\n",
      "4 1463\n",
      "--------\n"
     ]
    }
   ],
   "source": [
    "num_of_itr = 20\n",
    "loop = True\n",
    "\n",
    "while num_of_itr > 0 and loop == True:\n",
    "    loop = False\n",
    "    \n",
    "    closest_centroids = npvecs.map(lambda v: get_closest_centroid(v, centroids)) \n",
    "    sum_closest_centroids = closest_centroids.reduceByKey(sum_vecs)\n",
    "    \n",
    "    prnt = sum_closest_centroids.take(K)\n",
    "    for i in range(K):\n",
    "        print(prnt[i][0], prnt[i][1][1])\n",
    "    \n",
    "    print(\"--------\")\n",
    "    \n",
    "    new_centroids = sum_closest_centroids.map(lambda x:(x[1][0] / x[1][1])).take(K) \n",
    "    \n",
    "    for i in range(K):\n",
    "        if not np.array_equal(centroids[i], new_centroids[i]):\n",
    "            loop = True\n",
    "    \n",
    "    centroids = new_centroids\n",
    "    \n",
    "    num_of_itr = num_of_itr - 1"
   ]
  },
  {
   "cell_type": "markdown",
   "metadata": {},
   "source": [
    "And after 5 more iterations ..\n",
    "\n",
    "\n",
    "0: 2\n",
    "\n",
    "1: 41\n",
    "\n",
    "2: 314\n",
    "\n",
    "3: 445\n",
    "\n",
    "4: 1423\n",
    "\n",
    "<b>K-means results :</b>\n"
   ]
  },
  {
   "cell_type": "code",
   "execution_count": 280,
   "metadata": {},
   "outputs": [],
   "source": [
    "test_results = closest_centroids.map(lambda x:(x[0],[x[1][2]])).reduceByKey(lambda x,y:x+y)"
   ]
  },
  {
   "cell_type": "code",
   "execution_count": 283,
   "metadata": {},
   "outputs": [
    {
     "data": {
      "text/html": [
       "<div>\n",
       "<style scoped>\n",
       "    .dataframe tbody tr th:only-of-type {\n",
       "        vertical-align: middle;\n",
       "    }\n",
       "\n",
       "    .dataframe tbody tr th {\n",
       "        vertical-align: top;\n",
       "    }\n",
       "\n",
       "    .dataframe thead th {\n",
       "        text-align: right;\n",
       "    }\n",
       "</style>\n",
       "<table border=\"1\" class=\"dataframe\">\n",
       "  <thead>\n",
       "    <tr style=\"text-align: right;\">\n",
       "      <th></th>\n",
       "      <th>centroid</th>\n",
       "      <th>docs</th>\n",
       "    </tr>\n",
       "  </thead>\n",
       "  <tbody>\n",
       "    <tr>\n",
       "      <th>0</th>\n",
       "      <td>0</td>\n",
       "      <td>[bsns_281.txt, bsns_206.txt]</td>\n",
       "    </tr>\n",
       "    <tr>\n",
       "      <th>1</th>\n",
       "      <td>1</td>\n",
       "      <td>[entrtmnt_064.txt, entrtmnt_081.txt, entrtmnt_377.txt, entrtmnt_095.txt, entrtmnt_328.txt, entrtmnt_034.txt, entrtmnt_367.txt, entrtmnt_326.txt, entrtmnt_084.txt, entrtmnt_264.txt, entrtmnt_253.txt, entrtmnt_363.txt, entrtmnt_201.txt, entrtmnt_097.txt, entrtmnt_325.txt, entrtmnt_078.txt, entrtmnt_357.txt, entrtmnt_069.txt, entrtmnt_082.txt, entrtmnt_092.txt, entrtmnt_368.txt, entrtmnt_035.txt, entrtmnt_063.txt, entrtmnt_314.txt, entrtmnt_372.txt, entrtmnt_062.txt, entrtmnt_275.txt, entrtmnt_038.txt, entrtmnt_091.txt, entrtmnt_039.txt, entrtmnt_354.txt, entrtmnt_051.txt, entrtmnt_353.txt, entrtmnt_030.txt, entrtmnt_370.txt, entrtmnt_075.txt, entrtmnt_352.txt, entrtmnt_323.txt, entrtmnt_373.txt, entrtmnt_086.txt, entrtmnt_355.txt]</td>\n",
       "    </tr>\n",
       "    <tr>\n",
       "      <th>2</th>\n",
       "      <td>2</td>\n",
       "      <td>[bsns_245.txt, bsns_241.txt, bsns_277.txt, bsns_487.txt, bsns_146.txt, bsns_284.txt, bsns_249.txt, bsns_106.txt, bsns_504.txt, bsns_287.txt, bsns_154.txt, bsns_159.txt, entrtmnt_131.txt, entrtmnt_256.txt, pltcs_382.txt, pltcs_050.txt, pltcs_272.txt, pltcs_065.txt, pltcs_002.txt, pltcs_110.txt, pltcs_036.txt, pltcs_099.txt, pltcs_285.txt, pltcs_402.txt, pltcs_246.txt, pltcs_322.txt, pltcs_027.txt, pltcs_362.txt, pltcs_270.txt, pltcs_399.txt, pltcs_073.txt, pltcs_116.txt, pltcs_245.txt, pltcs_339.txt, pltcs_081.txt, pltcs_184.txt, pltcs_315.txt, pltcs_411.txt, pltcs_303.txt, pltcs_297.txt, pltcs_409.txt, pltcs_383.txt, pltcs_143.txt, pltcs_165.txt, pltcs_194.txt, pltcs_095.txt, pltcs_398.txt, pltcs_217.txt, pltcs_241.txt, pltcs_200.txt, pltcs_342.txt, pltcs_112.txt, pltcs_083.txt, pltcs_104.txt, pltcs_328.txt, pltcs_319.txt, pltcs_238.txt, pltcs_022.txt, pltcs_244.txt, pltcs_266.txt, pltcs_345.txt, pltcs_347.txt, pltcs_067.txt, pltcs_118.txt, pltcs_290.txt, pltcs_034.txt, pltcs_410.t...</td>\n",
       "    </tr>\n",
       "    <tr>\n",
       "      <th>3</th>\n",
       "      <td>3</td>\n",
       "      <td>[sprt_382.txt, sprt_057.txt, sprt_272.txt, sprt_065.txt, sprt_002.txt, sprt_064.txt, sprt_491.txt, sprt_110.txt, sprt_099.txt, sprt_285.txt, sprt_458.txt, sprt_402.txt, sprt_246.txt, sprt_322.txt, sprt_362.txt, sprt_418.txt, sprt_270.txt, sprt_399.txt, sprt_073.txt, sprt_245.txt, sprt_433.txt, sprt_437.txt, sprt_339.txt, sprt_483.txt, sprt_184.txt, sprt_195.txt, sprt_315.txt, sprt_411.txt, sprt_303.txt, sprt_463.txt, sprt_297.txt, sprt_509.txt, sprt_409.txt, sprt_123.txt, sprt_377.txt, sprt_248.txt, sprt_381.txt, sprt_383.txt, sprt_286.txt, sprt_165.txt, sprt_194.txt, sprt_095.txt, sprt_398.txt, sprt_478.txt, sprt_114.txt, sprt_488.txt, sprt_392.txt, sprt_484.txt, sprt_217.txt, sprt_241.txt, sprt_200.txt, sprt_342.txt, sprt_138.txt, sprt_187.txt, sprt_428.txt, sprt_083.txt, sprt_178.txt, sprt_481.txt, sprt_104.txt, sprt_328.txt, sprt_462.txt, sprt_308.txt, sprt_319.txt, sprt_238.txt, sprt_435.txt, sprt_022.txt, sprt_150.txt, sprt_185.txt, sprt_489.txt, sprt_244.txt, sprt_266.txt, s...</td>\n",
       "    </tr>\n",
       "    <tr>\n",
       "      <th>4</th>\n",
       "      <td>4</td>\n",
       "      <td>[bsns_382.txt, bsns_050.txt, bsns_057.txt, bsns_272.txt, bsns_065.txt, bsns_002.txt, bsns_064.txt, bsns_491.txt, bsns_110.txt, bsns_036.txt, bsns_099.txt, bsns_285.txt, bsns_131.txt, bsns_458.txt, bsns_402.txt, bsns_246.txt, bsns_322.txt, bsns_027.txt, bsns_362.txt, bsns_418.txt, bsns_270.txt, bsns_399.txt, bsns_073.txt, bsns_116.txt, bsns_433.txt, bsns_437.txt, bsns_339.txt, bsns_098.txt, bsns_016.txt, bsns_483.txt, bsns_081.txt, bsns_184.txt, bsns_195.txt, bsns_017.txt, bsns_315.txt, bsns_411.txt, bsns_303.txt, bsns_463.txt, bsns_297.txt, bsns_509.txt, bsns_409.txt, bsns_123.txt, bsns_377.txt, bsns_248.txt, bsns_381.txt, bsns_383.txt, bsns_286.txt, bsns_143.txt, bsns_023.txt, bsns_165.txt, bsns_194.txt, bsns_095.txt, bsns_398.txt, bsns_478.txt, bsns_114.txt, bsns_488.txt, bsns_392.txt, bsns_484.txt, bsns_217.txt, bsns_200.txt, bsns_342.txt, bsns_112.txt, bsns_138.txt, bsns_187.txt, bsns_428.txt, bsns_083.txt, bsns_178.txt, bsns_481.txt, bsns_104.txt, bsns_328.txt, bsns_462.txt, b...</td>\n",
       "    </tr>\n",
       "  </tbody>\n",
       "</table>\n",
       "</div>"
      ],
      "text/plain": [
       "   centroid  \\\n",
       "0         0   \n",
       "1         1   \n",
       "2         2   \n",
       "3         3   \n",
       "4         4   \n",
       "\n",
       "                                                                                                                                                                                                                                                                                                                                                                                                                                                                                                                                                                                                                                                                                                                                                                                                                                                                                                                                                                                                                                      docs  \n",
       "0                                                                                                                                                                                                                                                                                                                                                                                                                                                                                                                                                                                                                                                                                                                                                                                                                                                                                                                                                                                                             [bsns_281.txt, bsns_206.txt]  \n",
       "1                                                                                                                                                                                                                                                                       [entrtmnt_064.txt, entrtmnt_081.txt, entrtmnt_377.txt, entrtmnt_095.txt, entrtmnt_328.txt, entrtmnt_034.txt, entrtmnt_367.txt, entrtmnt_326.txt, entrtmnt_084.txt, entrtmnt_264.txt, entrtmnt_253.txt, entrtmnt_363.txt, entrtmnt_201.txt, entrtmnt_097.txt, entrtmnt_325.txt, entrtmnt_078.txt, entrtmnt_357.txt, entrtmnt_069.txt, entrtmnt_082.txt, entrtmnt_092.txt, entrtmnt_368.txt, entrtmnt_035.txt, entrtmnt_063.txt, entrtmnt_314.txt, entrtmnt_372.txt, entrtmnt_062.txt, entrtmnt_275.txt, entrtmnt_038.txt, entrtmnt_091.txt, entrtmnt_039.txt, entrtmnt_354.txt, entrtmnt_051.txt, entrtmnt_353.txt, entrtmnt_030.txt, entrtmnt_370.txt, entrtmnt_075.txt, entrtmnt_352.txt, entrtmnt_323.txt, entrtmnt_373.txt, entrtmnt_086.txt, entrtmnt_355.txt]  \n",
       "2  [bsns_245.txt, bsns_241.txt, bsns_277.txt, bsns_487.txt, bsns_146.txt, bsns_284.txt, bsns_249.txt, bsns_106.txt, bsns_504.txt, bsns_287.txt, bsns_154.txt, bsns_159.txt, entrtmnt_131.txt, entrtmnt_256.txt, pltcs_382.txt, pltcs_050.txt, pltcs_272.txt, pltcs_065.txt, pltcs_002.txt, pltcs_110.txt, pltcs_036.txt, pltcs_099.txt, pltcs_285.txt, pltcs_402.txt, pltcs_246.txt, pltcs_322.txt, pltcs_027.txt, pltcs_362.txt, pltcs_270.txt, pltcs_399.txt, pltcs_073.txt, pltcs_116.txt, pltcs_245.txt, pltcs_339.txt, pltcs_081.txt, pltcs_184.txt, pltcs_315.txt, pltcs_411.txt, pltcs_303.txt, pltcs_297.txt, pltcs_409.txt, pltcs_383.txt, pltcs_143.txt, pltcs_165.txt, pltcs_194.txt, pltcs_095.txt, pltcs_398.txt, pltcs_217.txt, pltcs_241.txt, pltcs_200.txt, pltcs_342.txt, pltcs_112.txt, pltcs_083.txt, pltcs_104.txt, pltcs_328.txt, pltcs_319.txt, pltcs_238.txt, pltcs_022.txt, pltcs_244.txt, pltcs_266.txt, pltcs_345.txt, pltcs_347.txt, pltcs_067.txt, pltcs_118.txt, pltcs_290.txt, pltcs_034.txt, pltcs_410.t...  \n",
       "3  [sprt_382.txt, sprt_057.txt, sprt_272.txt, sprt_065.txt, sprt_002.txt, sprt_064.txt, sprt_491.txt, sprt_110.txt, sprt_099.txt, sprt_285.txt, sprt_458.txt, sprt_402.txt, sprt_246.txt, sprt_322.txt, sprt_362.txt, sprt_418.txt, sprt_270.txt, sprt_399.txt, sprt_073.txt, sprt_245.txt, sprt_433.txt, sprt_437.txt, sprt_339.txt, sprt_483.txt, sprt_184.txt, sprt_195.txt, sprt_315.txt, sprt_411.txt, sprt_303.txt, sprt_463.txt, sprt_297.txt, sprt_509.txt, sprt_409.txt, sprt_123.txt, sprt_377.txt, sprt_248.txt, sprt_381.txt, sprt_383.txt, sprt_286.txt, sprt_165.txt, sprt_194.txt, sprt_095.txt, sprt_398.txt, sprt_478.txt, sprt_114.txt, sprt_488.txt, sprt_392.txt, sprt_484.txt, sprt_217.txt, sprt_241.txt, sprt_200.txt, sprt_342.txt, sprt_138.txt, sprt_187.txt, sprt_428.txt, sprt_083.txt, sprt_178.txt, sprt_481.txt, sprt_104.txt, sprt_328.txt, sprt_462.txt, sprt_308.txt, sprt_319.txt, sprt_238.txt, sprt_435.txt, sprt_022.txt, sprt_150.txt, sprt_185.txt, sprt_489.txt, sprt_244.txt, sprt_266.txt, s...  \n",
       "4  [bsns_382.txt, bsns_050.txt, bsns_057.txt, bsns_272.txt, bsns_065.txt, bsns_002.txt, bsns_064.txt, bsns_491.txt, bsns_110.txt, bsns_036.txt, bsns_099.txt, bsns_285.txt, bsns_131.txt, bsns_458.txt, bsns_402.txt, bsns_246.txt, bsns_322.txt, bsns_027.txt, bsns_362.txt, bsns_418.txt, bsns_270.txt, bsns_399.txt, bsns_073.txt, bsns_116.txt, bsns_433.txt, bsns_437.txt, bsns_339.txt, bsns_098.txt, bsns_016.txt, bsns_483.txt, bsns_081.txt, bsns_184.txt, bsns_195.txt, bsns_017.txt, bsns_315.txt, bsns_411.txt, bsns_303.txt, bsns_463.txt, bsns_297.txt, bsns_509.txt, bsns_409.txt, bsns_123.txt, bsns_377.txt, bsns_248.txt, bsns_381.txt, bsns_383.txt, bsns_286.txt, bsns_143.txt, bsns_023.txt, bsns_165.txt, bsns_194.txt, bsns_095.txt, bsns_398.txt, bsns_478.txt, bsns_114.txt, bsns_488.txt, bsns_392.txt, bsns_484.txt, bsns_217.txt, bsns_200.txt, bsns_342.txt, bsns_112.txt, bsns_138.txt, bsns_187.txt, bsns_428.txt, bsns_083.txt, bsns_178.txt, bsns_481.txt, bsns_104.txt, bsns_328.txt, bsns_462.txt, b...  "
      ]
     },
     "execution_count": 283,
     "metadata": {},
     "output_type": "execute_result"
    }
   ],
   "source": [
    "cols = [\"centroid\", \"docs\"]\n",
    "DF = test_results.toDF(cols)\n",
    "DF.toPandas()"
   ]
  },
  {
   "cell_type": "markdown",
   "metadata": {},
   "source": [
    "Results:\n",
    "\n",
    "<b>Centroid 0:</b>\n",
    "\n",
    "We can see that centroid 0 contains only 2 documents. \n",
    "Documents that are far from any other documents and therefore do not fit well into any cluster. Frequently, if an outlier is chosen as an initial seed, like in this case, then no other vector is assigned to it during subsequent iterations.\n",
    "\n",
    "<b>Centroid 1:</b>\n",
    "\n",
    "Contains only entertainment ducuments\n",
    "\n",
    "<b>Centroid 2:</b>\n",
    "\n",
    "Except of few politics documents, contains only business ducuments\n",
    "\n",
    "<b>Centroid 3:</b>\n",
    "\n",
    "Contains only sport ducuments\n",
    "\n",
    "<b>Centroid 4:</b>\n",
    "\n",
    "Contains all tech documents and more documents from others categories (Inconclusive)"
   ]
  },
  {
   "cell_type": "code",
   "execution_count": 286,
   "metadata": {},
   "outputs": [
    {
     "data": {
      "text/html": [
       "<div>\n",
       "<style scoped>\n",
       "    .dataframe tbody tr th:only-of-type {\n",
       "        vertical-align: middle;\n",
       "    }\n",
       "\n",
       "    .dataframe tbody tr th {\n",
       "        vertical-align: top;\n",
       "    }\n",
       "\n",
       "    .dataframe thead th {\n",
       "        text-align: right;\n",
       "    }\n",
       "</style>\n",
       "<table border=\"1\" class=\"dataframe\">\n",
       "  <thead>\n",
       "    <tr style=\"text-align: right;\">\n",
       "      <th></th>\n",
       "      <th>Centroid 0 documents</th>\n",
       "      <th>Text</th>\n",
       "    </tr>\n",
       "  </thead>\n",
       "  <tbody>\n",
       "    <tr>\n",
       "      <th>0</th>\n",
       "      <td>bsns_281.txt</td>\n",
       "      <td>Axa Sun Life cuts bonus payments\\n\\nLife insurer Axa Sun Life has lowered annual bonus payouts for up to 50,000 with-profits investors.\\n\\nRegular annual bonus rates on former Axa Equity &amp; Law with-profits policies are to be cut from 2% to 1% for 2004. Axa blamed a poor stock market performance for the cut, adding that recent gains have not yet offset the market falls seen in 2001 and 2002. The cut will hit an estimated 3% of Axa's policyholders. The rest will know their fate in March.\\n\\nThe cuts on Axa's policies will mean a policyholder who had invested £50 a month into an endowment policy for the past 25 years would see a final maturity payout of £46,998. This equated to a annual investment growth rate of 8% Axa said. With-profits policies are designed to smooth out the peaks and troughs of stock market volatility. However, heavy stock market falls throughout 2001 and 2002 forced most firms to trim bonus rates on their policies. \"The stock market has grown over the past 18 mont...</td>\n",
       "    </tr>\n",
       "    <tr>\n",
       "      <th>1</th>\n",
       "      <td>bsns_206.txt</td>\n",
       "      <td>Standard Life cuts policy bonuses\\n\\nStandard Life, Europe's largest mutual life insurer, has cut bonuses for with-profit policyholders.\\n\\nAnnual bonus rates on its with-profits life policies were cut from 2.5% to 2%, while bonuses on pension policies were reduced from 3.25% to 2.5%. It is the sixth time in three years Standard Life has made cuts to bonus rates, despite an 8.7% rise in the value of the with-profits fund in 2004. The insurer blamed the cuts on poor share returns and low interest rates.\\n\\nWith-profits policies are designed to smooth out the peaks and troughs of stock market volatility. Profits made in good years are kept in reserve to pay investors an annual bonus even when the stock market performs badly. Slumping share prices throughout 2001 and 2002 forced most firms to trim bonus rates on their policies. Standard Life came in for criticism for sticking with stock market investments during 2001 and 2002. The insurer argued that shares outperformed other investme...</td>\n",
       "    </tr>\n",
       "  </tbody>\n",
       "</table>\n",
       "</div>"
      ],
      "text/plain": [
       "  Centroid 0 documents  \\\n",
       "0         bsns_281.txt   \n",
       "1         bsns_206.txt   \n",
       "\n",
       "                                                                                                                                                                                                                                                                                                                                                                                                                                                                                                                                                                                                                                                                                                                                                                                                                                                                                                                                                                                                                                      Text  \n",
       "0  Axa Sun Life cuts bonus payments\\n\\nLife insurer Axa Sun Life has lowered annual bonus payouts for up to 50,000 with-profits investors.\\n\\nRegular annual bonus rates on former Axa Equity & Law with-profits policies are to be cut from 2% to 1% for 2004. Axa blamed a poor stock market performance for the cut, adding that recent gains have not yet offset the market falls seen in 2001 and 2002. The cut will hit an estimated 3% of Axa's policyholders. The rest will know their fate in March.\\n\\nThe cuts on Axa's policies will mean a policyholder who had invested £50 a month into an endowment policy for the past 25 years would see a final maturity payout of £46,998. This equated to a annual investment growth rate of 8% Axa said. With-profits policies are designed to smooth out the peaks and troughs of stock market volatility. However, heavy stock market falls throughout 2001 and 2002 forced most firms to trim bonus rates on their policies. \"The stock market has grown over the past 18 mont...  \n",
       "1  Standard Life cuts policy bonuses\\n\\nStandard Life, Europe's largest mutual life insurer, has cut bonuses for with-profit policyholders.\\n\\nAnnual bonus rates on its with-profits life policies were cut from 2.5% to 2%, while bonuses on pension policies were reduced from 3.25% to 2.5%. It is the sixth time in three years Standard Life has made cuts to bonus rates, despite an 8.7% rise in the value of the with-profits fund in 2004. The insurer blamed the cuts on poor share returns and low interest rates.\\n\\nWith-profits policies are designed to smooth out the peaks and troughs of stock market volatility. Profits made in good years are kept in reserve to pay investors an annual bonus even when the stock market performs badly. Slumping share prices throughout 2001 and 2002 forced most firms to trim bonus rates on their policies. Standard Life came in for criticism for sticking with stock market investments during 2001 and 2002. The insurer argued that shares outperformed other investme...  "
      ]
     },
     "execution_count": 286,
     "metadata": {},
     "output_type": "execute_result"
    }
   ],
   "source": [
    "# Centroid 0 documents\n",
    "\n",
    "res = main_data.filter(lambda d:(d[0] == \"bsns_281.txt\" or d[0] == \"bsns_206.txt\"))\n",
    "cols = [\"Centroid 0 documents\", \"Text\"]\n",
    "res = res.toDF(cols)\n",
    "res.toPandas()"
   ]
  },
  {
   "cell_type": "markdown",
   "metadata": {},
   "source": [
    "<b>K-means Results and Time complexity</b>\n",
    "\n",
    "The convergence of K-means is unfortunately no guarantee that a global minimum in the objective function will be reached. This is a particular problem if a document set contains many outliers , documents that are far from any other documents and therefore do not fit well into any cluster. Frequently, if an outlier is chosen as an initial seed, then no other vector is assigned to it during subsequent iterations. Thus, we end up with a singleton cluster (a cluster with only one document) even though there is probably a clustering with lower RSS\n",
    "Another type of suboptimal clustering that frequently occurs is one with empty clusters. \n",
    "\n",
    "What is the time complexity of K-means? \n",
    "\n",
    "Most of the time is spent on computing vector distances. One such operation costs Theta(M). The reassignment step computes KN distances, so its overall complexity is Theta(KNM). \n",
    "In the recomputation step, each vector gets added to a centroid once, so the complexity of this step is Theta(NM). For a fixed number of iterations I, the overall complexity is therefore Theta(IKNM). Thus, K-means is linear in all relevant factors: iterations, number of clusters, number of vectors and dimensionality of the space.\n"
   ]
  },
  {
   "cell_type": "markdown",
   "metadata": {},
   "source": [
    "<h2>The End !!!! </h2>"
   ]
  },
  {
   "cell_type": "markdown",
   "metadata": {},
   "source": []
  },
  {
   "cell_type": "markdown",
   "metadata": {},
   "source": [
    "<b>Atempt to work with \"CombineByKey\" function:</b>\n",
    "\n",
    "During the development, I have tried to use the \"CombineByKey\" RDD function instead of \"ReduceByKey\" in order to calculates the new centroids .\n",
    "\n",
    "Unfortunately, It did not end well as I got multiple vectors in the centroids array.\n",
    "Here is the code and explanations I added during the development <u>but it is not a part of the final solution.</u>"
   ]
  },
  {
   "cell_type": "markdown",
   "metadata": {},
   "source": [
    "Spark combineByKey is a generic function to combine the elements for each key using a custom set of aggregation functions\n",
    "\n",
    "Internally spark combineByKey function efficiently combines the values of a PairRDD partition by applying aggregation function. The main objective of combineByKey transformation is transforming any PairRDD[(K,V)] to the RDD[(K,C)] where C is the result of any aggregation of all values under key K.\n",
    "\n",
    "Spark combineByKey function uses following three functions as an argument,\n",
    "\n",
    "    createCombiner\n",
    "    mergeValue\n",
    "    mergeCombiners\n",
    "    \n",
    "CreateCombiner function of combineByKey\n",
    "\n",
    "    This function is a first argument of combineByKey function\n",
    "    It is a first aggregation step for each key\n",
    "    It will be executed when any new key is found in a partition\n",
    "    Execution of this lambda function is local to a partition of a node, on each individual values\n",
    "    \n"
   ]
  },
  {
   "cell_type": "code",
   "execution_count": null,
   "metadata": {},
   "outputs": [],
   "source": [
    "# Do not use\n",
    "\n",
    "# tpl = (vec,doc)\n",
    "\n",
    "def createCombiner(tpl):\n",
    "    return (tpl[0], 1)"
   ]
  },
  {
   "cell_type": "markdown",
   "metadata": {},
   "source": [
    "MergeValue function of combineByKey\n",
    "\n",
    "    Second function executes when next subsequent value is given to combiner\n",
    "    It also executes locally on each partition of a node and combines all values\n",
    "    Arguments of this function are a accumulator and a new value\n",
    "    It combines a new value in existing accumulator"
   ]
  },
  {
   "cell_type": "code",
   "execution_count": 266,
   "metadata": {},
   "outputs": [],
   "source": [
    "# Do not use\n",
    "\n",
    "# accumulator = (sum,count)\n",
    "# element = (vec,doc)\n",
    "\n",
    "def mergeValue(accumulator, element): \n",
    "    return (accumulator[0] + element[0], accumulator[1] + 1)"
   ]
  },
  {
   "cell_type": "markdown",
   "metadata": {},
   "source": [
    "MergeCombiner function of combineByKey\n",
    "\n",
    "    Final function is used to combine how to merge two accumulators (i.e. combiners) of a single key across the partitions to generate final expected result\n",
    "    Arguments are two accumulators (i.e. combiners)\n",
    "    Merge results of a single key from different partitions"
   ]
  },
  {
   "cell_type": "code",
   "execution_count": 267,
   "metadata": {},
   "outputs": [],
   "source": [
    "# Do not use\n",
    "\n",
    "# accumulators = (sum,count)\n",
    "\n",
    "def mergeCombiner(accumulator1, accumulator2): \n",
    "    return (accumulator1[0], accumulator2[0], accumulator1[1] + accumulator2[1])"
   ]
  },
  {
   "cell_type": "code",
   "execution_count": 268,
   "metadata": {},
   "outputs": [],
   "source": [
    "# Do not use\n",
    "sum_closest_centroids = closest_centroids.combineByKey(createCombiner, mergeValue, mergeCombiner)"
   ]
  },
  {
   "cell_type": "code",
   "execution_count": 269,
   "metadata": {},
   "outputs": [
    {
     "data": {
      "text/plain": [
       "[(0, (array([0., 0., 0., ..., 0., 0., 0.]), 2)),\n",
       " (1, (array([0., 0., 0., ..., 0., 0., 0.]), 36)),\n",
       " (2,\n",
       "  (array([0., 0., 0., ..., 0., 0., 0.]),\n",
       "   array([0., 0., 0., ..., 0., 0., 0.]),\n",
       "   array([5., 5., 5., ..., 5., 5., 5.]))),\n",
       " (3,\n",
       "  (array([0., 0., 0., ..., 0., 0., 0.]),\n",
       "   array([29.70524121,  4.49975451,  0.        , ...,  0.        ,\n",
       "           7.54605453,  0.        ]),\n",
       "   array([75., 75., 75., ..., 75., 75., 75.]))),\n",
       " (4,\n",
       "  (array([0., 0., 0., ..., 0., 0., 0.]),\n",
       "   array([4.34247751, 3.04630002, 4.94441231, ..., 0.        , 0.        ,\n",
       "          0.        ]),\n",
       "   array([396., 396., 396., ..., 396., 396., 396.])))]"
      ]
     },
     "execution_count": 269,
     "metadata": {},
     "output_type": "execute_result"
    }
   ],
   "source": [
    "# Do not use - Unexpected results\n",
    "sum_closest_centroids.take(10)"
   ]
  },
  {
   "cell_type": "code",
   "execution_count": null,
   "metadata": {},
   "outputs": [],
   "source": []
  },
  {
   "cell_type": "code",
   "execution_count": null,
   "metadata": {},
   "outputs": [],
   "source": []
  },
  {
   "cell_type": "code",
   "execution_count": 148,
   "metadata": {},
   "outputs": [],
   "source": []
  },
  {
   "cell_type": "code",
   "execution_count": 205,
   "metadata": {},
   "outputs": [],
   "source": []
  },
  {
   "cell_type": "code",
   "execution_count": null,
   "metadata": {},
   "outputs": [],
   "source": []
  },
  {
   "cell_type": "code",
   "execution_count": null,
   "metadata": {},
   "outputs": [],
   "source": []
  },
  {
   "cell_type": "code",
   "execution_count": null,
   "metadata": {},
   "outputs": [],
   "source": []
  },
  {
   "cell_type": "code",
   "execution_count": null,
   "metadata": {},
   "outputs": [],
   "source": []
  },
  {
   "cell_type": "code",
   "execution_count": null,
   "metadata": {},
   "outputs": [],
   "source": []
  },
  {
   "cell_type": "code",
   "execution_count": null,
   "metadata": {},
   "outputs": [],
   "source": []
  },
  {
   "cell_type": "code",
   "execution_count": null,
   "metadata": {},
   "outputs": [],
   "source": []
  },
  {
   "cell_type": "code",
   "execution_count": null,
   "metadata": {},
   "outputs": [],
   "source": []
  },
  {
   "cell_type": "code",
   "execution_count": null,
   "metadata": {},
   "outputs": [],
   "source": []
  },
  {
   "cell_type": "code",
   "execution_count": null,
   "metadata": {},
   "outputs": [],
   "source": []
  },
  {
   "cell_type": "code",
   "execution_count": null,
   "metadata": {},
   "outputs": [],
   "source": []
  },
  {
   "cell_type": "code",
   "execution_count": null,
   "metadata": {},
   "outputs": [],
   "source": []
  },
  {
   "cell_type": "code",
   "execution_count": null,
   "metadata": {},
   "outputs": [],
   "source": []
  },
  {
   "cell_type": "code",
   "execution_count": null,
   "metadata": {},
   "outputs": [],
   "source": []
  },
  {
   "cell_type": "code",
   "execution_count": null,
   "metadata": {},
   "outputs": [],
   "source": []
  },
  {
   "cell_type": "code",
   "execution_count": null,
   "metadata": {},
   "outputs": [],
   "source": []
  },
  {
   "cell_type": "code",
   "execution_count": null,
   "metadata": {},
   "outputs": [],
   "source": []
  },
  {
   "cell_type": "code",
   "execution_count": null,
   "metadata": {},
   "outputs": [],
   "source": []
  },
  {
   "cell_type": "code",
   "execution_count": null,
   "metadata": {},
   "outputs": [],
   "source": []
  },
  {
   "cell_type": "code",
   "execution_count": null,
   "metadata": {},
   "outputs": [],
   "source": []
  },
  {
   "cell_type": "code",
   "execution_count": null,
   "metadata": {},
   "outputs": [],
   "source": []
  },
  {
   "cell_type": "code",
   "execution_count": null,
   "metadata": {},
   "outputs": [],
   "source": []
  },
  {
   "cell_type": "code",
   "execution_count": null,
   "metadata": {},
   "outputs": [],
   "source": []
  },
  {
   "cell_type": "code",
   "execution_count": null,
   "metadata": {},
   "outputs": [],
   "source": []
  },
  {
   "cell_type": "code",
   "execution_count": null,
   "metadata": {},
   "outputs": [],
   "source": []
  },
  {
   "cell_type": "code",
   "execution_count": null,
   "metadata": {},
   "outputs": [],
   "source": []
  },
  {
   "cell_type": "code",
   "execution_count": null,
   "metadata": {},
   "outputs": [],
   "source": []
  },
  {
   "cell_type": "code",
   "execution_count": null,
   "metadata": {},
   "outputs": [],
   "source": []
  },
  {
   "cell_type": "code",
   "execution_count": null,
   "metadata": {},
   "outputs": [],
   "source": []
  },
  {
   "cell_type": "code",
   "execution_count": null,
   "metadata": {},
   "outputs": [],
   "source": []
  },
  {
   "cell_type": "code",
   "execution_count": null,
   "metadata": {},
   "outputs": [],
   "source": []
  },
  {
   "cell_type": "code",
   "execution_count": null,
   "metadata": {},
   "outputs": [],
   "source": []
  },
  {
   "cell_type": "code",
   "execution_count": null,
   "metadata": {},
   "outputs": [],
   "source": []
  },
  {
   "cell_type": "code",
   "execution_count": null,
   "metadata": {},
   "outputs": [],
   "source": []
  },
  {
   "cell_type": "code",
   "execution_count": null,
   "metadata": {},
   "outputs": [],
   "source": []
  },
  {
   "cell_type": "code",
   "execution_count": null,
   "metadata": {},
   "outputs": [],
   "source": []
  },
  {
   "cell_type": "code",
   "execution_count": null,
   "metadata": {},
   "outputs": [],
   "source": []
  },
  {
   "cell_type": "code",
   "execution_count": null,
   "metadata": {},
   "outputs": [],
   "source": []
  },
  {
   "cell_type": "code",
   "execution_count": null,
   "metadata": {},
   "outputs": [],
   "source": []
  },
  {
   "cell_type": "code",
   "execution_count": null,
   "metadata": {},
   "outputs": [],
   "source": []
  },
  {
   "cell_type": "code",
   "execution_count": null,
   "metadata": {},
   "outputs": [],
   "source": []
  },
  {
   "cell_type": "code",
   "execution_count": null,
   "metadata": {},
   "outputs": [],
   "source": []
  },
  {
   "cell_type": "code",
   "execution_count": null,
   "metadata": {},
   "outputs": [],
   "source": []
  },
  {
   "cell_type": "code",
   "execution_count": null,
   "metadata": {},
   "outputs": [],
   "source": []
  },
  {
   "cell_type": "code",
   "execution_count": null,
   "metadata": {},
   "outputs": [],
   "source": []
  },
  {
   "cell_type": "code",
   "execution_count": null,
   "metadata": {},
   "outputs": [],
   "source": []
  },
  {
   "cell_type": "code",
   "execution_count": null,
   "metadata": {},
   "outputs": [],
   "source": []
  },
  {
   "cell_type": "code",
   "execution_count": null,
   "metadata": {},
   "outputs": [],
   "source": []
  },
  {
   "cell_type": "code",
   "execution_count": null,
   "metadata": {},
   "outputs": [],
   "source": []
  },
  {
   "cell_type": "code",
   "execution_count": null,
   "metadata": {},
   "outputs": [],
   "source": []
  },
  {
   "cell_type": "code",
   "execution_count": null,
   "metadata": {},
   "outputs": [],
   "source": []
  },
  {
   "cell_type": "code",
   "execution_count": null,
   "metadata": {},
   "outputs": [],
   "source": []
  },
  {
   "cell_type": "code",
   "execution_count": null,
   "metadata": {},
   "outputs": [],
   "source": []
  },
  {
   "cell_type": "code",
   "execution_count": null,
   "metadata": {},
   "outputs": [],
   "source": []
  },
  {
   "cell_type": "code",
   "execution_count": null,
   "metadata": {},
   "outputs": [],
   "source": []
  },
  {
   "cell_type": "code",
   "execution_count": null,
   "metadata": {},
   "outputs": [],
   "source": []
  },
  {
   "cell_type": "code",
   "execution_count": null,
   "metadata": {},
   "outputs": [],
   "source": []
  },
  {
   "cell_type": "code",
   "execution_count": null,
   "metadata": {},
   "outputs": [],
   "source": []
  },
  {
   "cell_type": "code",
   "execution_count": null,
   "metadata": {},
   "outputs": [],
   "source": []
  },
  {
   "cell_type": "code",
   "execution_count": null,
   "metadata": {},
   "outputs": [],
   "source": []
  },
  {
   "cell_type": "code",
   "execution_count": null,
   "metadata": {},
   "outputs": [],
   "source": []
  },
  {
   "cell_type": "code",
   "execution_count": null,
   "metadata": {},
   "outputs": [],
   "source": []
  },
  {
   "cell_type": "code",
   "execution_count": null,
   "metadata": {},
   "outputs": [],
   "source": []
  },
  {
   "cell_type": "code",
   "execution_count": null,
   "metadata": {},
   "outputs": [],
   "source": []
  },
  {
   "cell_type": "code",
   "execution_count": null,
   "metadata": {},
   "outputs": [],
   "source": []
  },
  {
   "cell_type": "code",
   "execution_count": null,
   "metadata": {},
   "outputs": [],
   "source": []
  },
  {
   "cell_type": "code",
   "execution_count": null,
   "metadata": {},
   "outputs": [],
   "source": []
  },
  {
   "cell_type": "code",
   "execution_count": null,
   "metadata": {},
   "outputs": [],
   "source": []
  },
  {
   "cell_type": "code",
   "execution_count": null,
   "metadata": {},
   "outputs": [],
   "source": []
  },
  {
   "cell_type": "code",
   "execution_count": null,
   "metadata": {},
   "outputs": [],
   "source": []
  },
  {
   "cell_type": "code",
   "execution_count": null,
   "metadata": {},
   "outputs": [],
   "source": []
  },
  {
   "cell_type": "code",
   "execution_count": null,
   "metadata": {},
   "outputs": [],
   "source": []
  },
  {
   "cell_type": "code",
   "execution_count": null,
   "metadata": {},
   "outputs": [],
   "source": []
  },
  {
   "cell_type": "code",
   "execution_count": null,
   "metadata": {},
   "outputs": [],
   "source": []
  },
  {
   "cell_type": "code",
   "execution_count": null,
   "metadata": {},
   "outputs": [],
   "source": []
  },
  {
   "cell_type": "code",
   "execution_count": null,
   "metadata": {},
   "outputs": [],
   "source": []
  },
  {
   "cell_type": "code",
   "execution_count": null,
   "metadata": {},
   "outputs": [],
   "source": []
  },
  {
   "cell_type": "code",
   "execution_count": null,
   "metadata": {},
   "outputs": [],
   "source": []
  },
  {
   "cell_type": "code",
   "execution_count": null,
   "metadata": {},
   "outputs": [],
   "source": []
  },
  {
   "cell_type": "code",
   "execution_count": null,
   "metadata": {},
   "outputs": [],
   "source": []
  },
  {
   "cell_type": "code",
   "execution_count": 133,
   "metadata": {},
   "outputs": [],
   "source": []
  },
  {
   "cell_type": "code",
   "execution_count": null,
   "metadata": {},
   "outputs": [],
   "source": []
  },
  {
   "cell_type": "code",
   "execution_count": null,
   "metadata": {},
   "outputs": [],
   "source": []
  },
  {
   "cell_type": "code",
   "execution_count": null,
   "metadata": {},
   "outputs": [],
   "source": []
  },
  {
   "cell_type": "code",
   "execution_count": null,
   "metadata": {},
   "outputs": [],
   "source": []
  },
  {
   "cell_type": "code",
   "execution_count": null,
   "metadata": {},
   "outputs": [],
   "source": []
  },
  {
   "cell_type": "code",
   "execution_count": null,
   "metadata": {},
   "outputs": [],
   "source": []
  },
  {
   "cell_type": "code",
   "execution_count": null,
   "metadata": {},
   "outputs": [],
   "source": []
  },
  {
   "cell_type": "code",
   "execution_count": null,
   "metadata": {},
   "outputs": [],
   "source": []
  },
  {
   "cell_type": "code",
   "execution_count": null,
   "metadata": {},
   "outputs": [],
   "source": []
  },
  {
   "cell_type": "code",
   "execution_count": null,
   "metadata": {},
   "outputs": [],
   "source": []
  },
  {
   "cell_type": "code",
   "execution_count": 375,
   "metadata": {},
   "outputs": [],
   "source": []
  },
  {
   "cell_type": "code",
   "execution_count": null,
   "metadata": {},
   "outputs": [],
   "source": []
  },
  {
   "cell_type": "code",
   "execution_count": null,
   "metadata": {},
   "outputs": [],
   "source": []
  },
  {
   "cell_type": "code",
   "execution_count": null,
   "metadata": {},
   "outputs": [],
   "source": []
  },
  {
   "cell_type": "code",
   "execution_count": null,
   "metadata": {},
   "outputs": [],
   "source": []
  },
  {
   "cell_type": "code",
   "execution_count": null,
   "metadata": {},
   "outputs": [],
   "source": []
  },
  {
   "cell_type": "code",
   "execution_count": null,
   "metadata": {},
   "outputs": [],
   "source": []
  },
  {
   "cell_type": "code",
   "execution_count": null,
   "metadata": {},
   "outputs": [],
   "source": []
  },
  {
   "cell_type": "code",
   "execution_count": null,
   "metadata": {},
   "outputs": [],
   "source": []
  },
  {
   "cell_type": "code",
   "execution_count": null,
   "metadata": {},
   "outputs": [],
   "source": []
  },
  {
   "cell_type": "code",
   "execution_count": null,
   "metadata": {},
   "outputs": [],
   "source": []
  },
  {
   "cell_type": "code",
   "execution_count": null,
   "metadata": {},
   "outputs": [],
   "source": []
  },
  {
   "cell_type": "code",
   "execution_count": null,
   "metadata": {},
   "outputs": [],
   "source": []
  },
  {
   "cell_type": "code",
   "execution_count": null,
   "metadata": {},
   "outputs": [],
   "source": []
  },
  {
   "cell_type": "code",
   "execution_count": null,
   "metadata": {},
   "outputs": [],
   "source": []
  },
  {
   "cell_type": "code",
   "execution_count": null,
   "metadata": {},
   "outputs": [],
   "source": []
  },
  {
   "cell_type": "code",
   "execution_count": null,
   "metadata": {},
   "outputs": [],
   "source": []
  },
  {
   "cell_type": "code",
   "execution_count": null,
   "metadata": {},
   "outputs": [],
   "source": []
  },
  {
   "cell_type": "code",
   "execution_count": null,
   "metadata": {},
   "outputs": [],
   "source": []
  },
  {
   "cell_type": "code",
   "execution_count": null,
   "metadata": {},
   "outputs": [],
   "source": []
  },
  {
   "cell_type": "code",
   "execution_count": null,
   "metadata": {},
   "outputs": [],
   "source": []
  },
  {
   "cell_type": "code",
   "execution_count": null,
   "metadata": {},
   "outputs": [],
   "source": []
  },
  {
   "cell_type": "code",
   "execution_count": null,
   "metadata": {},
   "outputs": [],
   "source": []
  },
  {
   "cell_type": "code",
   "execution_count": null,
   "metadata": {},
   "outputs": [],
   "source": []
  },
  {
   "cell_type": "code",
   "execution_count": null,
   "metadata": {},
   "outputs": [],
   "source": []
  },
  {
   "cell_type": "code",
   "execution_count": null,
   "metadata": {},
   "outputs": [],
   "source": []
  },
  {
   "cell_type": "code",
   "execution_count": null,
   "metadata": {},
   "outputs": [],
   "source": []
  },
  {
   "cell_type": "code",
   "execution_count": null,
   "metadata": {},
   "outputs": [],
   "source": []
  },
  {
   "cell_type": "code",
   "execution_count": null,
   "metadata": {},
   "outputs": [],
   "source": []
  },
  {
   "cell_type": "code",
   "execution_count": null,
   "metadata": {},
   "outputs": [],
   "source": []
  },
  {
   "cell_type": "code",
   "execution_count": null,
   "metadata": {},
   "outputs": [],
   "source": []
  },
  {
   "cell_type": "code",
   "execution_count": null,
   "metadata": {},
   "outputs": [],
   "source": []
  },
  {
   "cell_type": "code",
   "execution_count": null,
   "metadata": {},
   "outputs": [],
   "source": []
  },
  {
   "cell_type": "code",
   "execution_count": null,
   "metadata": {},
   "outputs": [],
   "source": []
  },
  {
   "cell_type": "code",
   "execution_count": null,
   "metadata": {},
   "outputs": [],
   "source": []
  },
  {
   "cell_type": "code",
   "execution_count": null,
   "metadata": {},
   "outputs": [],
   "source": []
  },
  {
   "cell_type": "code",
   "execution_count": null,
   "metadata": {},
   "outputs": [],
   "source": []
  },
  {
   "cell_type": "code",
   "execution_count": null,
   "metadata": {},
   "outputs": [],
   "source": []
  },
  {
   "cell_type": "code",
   "execution_count": null,
   "metadata": {},
   "outputs": [],
   "source": []
  },
  {
   "cell_type": "code",
   "execution_count": null,
   "metadata": {},
   "outputs": [],
   "source": []
  },
  {
   "cell_type": "code",
   "execution_count": null,
   "metadata": {},
   "outputs": [],
   "source": []
  },
  {
   "cell_type": "code",
   "execution_count": null,
   "metadata": {},
   "outputs": [],
   "source": []
  },
  {
   "cell_type": "code",
   "execution_count": null,
   "metadata": {},
   "outputs": [],
   "source": []
  },
  {
   "cell_type": "code",
   "execution_count": null,
   "metadata": {},
   "outputs": [],
   "source": []
  },
  {
   "cell_type": "code",
   "execution_count": null,
   "metadata": {},
   "outputs": [],
   "source": []
  },
  {
   "cell_type": "code",
   "execution_count": null,
   "metadata": {},
   "outputs": [],
   "source": []
  },
  {
   "cell_type": "code",
   "execution_count": null,
   "metadata": {},
   "outputs": [],
   "source": []
  },
  {
   "cell_type": "code",
   "execution_count": 144,
   "metadata": {},
   "outputs": [],
   "source": []
  },
  {
   "cell_type": "code",
   "execution_count": null,
   "metadata": {},
   "outputs": [],
   "source": []
  },
  {
   "cell_type": "code",
   "execution_count": 150,
   "metadata": {},
   "outputs": [],
   "source": []
  },
  {
   "cell_type": "code",
   "execution_count": null,
   "metadata": {},
   "outputs": [],
   "source": []
  },
  {
   "cell_type": "code",
   "execution_count": null,
   "metadata": {},
   "outputs": [],
   "source": []
  },
  {
   "cell_type": "code",
   "execution_count": null,
   "metadata": {},
   "outputs": [],
   "source": []
  },
  {
   "cell_type": "code",
   "execution_count": null,
   "metadata": {},
   "outputs": [],
   "source": []
  },
  {
   "cell_type": "code",
   "execution_count": null,
   "metadata": {},
   "outputs": [],
   "source": []
  },
  {
   "cell_type": "code",
   "execution_count": null,
   "metadata": {},
   "outputs": [],
   "source": []
  },
  {
   "cell_type": "code",
   "execution_count": null,
   "metadata": {},
   "outputs": [],
   "source": []
  },
  {
   "cell_type": "code",
   "execution_count": null,
   "metadata": {},
   "outputs": [],
   "source": []
  },
  {
   "cell_type": "code",
   "execution_count": null,
   "metadata": {},
   "outputs": [],
   "source": []
  },
  {
   "cell_type": "code",
   "execution_count": null,
   "metadata": {},
   "outputs": [],
   "source": []
  },
  {
   "cell_type": "code",
   "execution_count": 202,
   "metadata": {},
   "outputs": [],
   "source": []
  },
  {
   "cell_type": "code",
   "execution_count": null,
   "metadata": {},
   "outputs": [],
   "source": []
  },
  {
   "cell_type": "code",
   "execution_count": null,
   "metadata": {},
   "outputs": [],
   "source": []
  },
  {
   "cell_type": "code",
   "execution_count": null,
   "metadata": {},
   "outputs": [],
   "source": []
  },
  {
   "cell_type": "code",
   "execution_count": null,
   "metadata": {},
   "outputs": [],
   "source": []
  },
  {
   "cell_type": "code",
   "execution_count": null,
   "metadata": {},
   "outputs": [],
   "source": []
  },
  {
   "cell_type": "code",
   "execution_count": null,
   "metadata": {},
   "outputs": [],
   "source": []
  },
  {
   "cell_type": "code",
   "execution_count": null,
   "metadata": {},
   "outputs": [],
   "source": []
  },
  {
   "cell_type": "code",
   "execution_count": null,
   "metadata": {},
   "outputs": [],
   "source": []
  },
  {
   "cell_type": "code",
   "execution_count": null,
   "metadata": {},
   "outputs": [],
   "source": []
  },
  {
   "cell_type": "code",
   "execution_count": null,
   "metadata": {},
   "outputs": [],
   "source": []
  },
  {
   "cell_type": "code",
   "execution_count": null,
   "metadata": {},
   "outputs": [],
   "source": []
  },
  {
   "cell_type": "code",
   "execution_count": 229,
   "metadata": {},
   "outputs": [],
   "source": []
  },
  {
   "cell_type": "code",
   "execution_count": null,
   "metadata": {},
   "outputs": [],
   "source": []
  },
  {
   "cell_type": "code",
   "execution_count": null,
   "metadata": {},
   "outputs": [],
   "source": []
  },
  {
   "cell_type": "code",
   "execution_count": null,
   "metadata": {},
   "outputs": [],
   "source": []
  },
  {
   "cell_type": "code",
   "execution_count": null,
   "metadata": {},
   "outputs": [],
   "source": []
  },
  {
   "cell_type": "code",
   "execution_count": null,
   "metadata": {},
   "outputs": [],
   "source": []
  },
  {
   "cell_type": "code",
   "execution_count": null,
   "metadata": {},
   "outputs": [],
   "source": []
  },
  {
   "cell_type": "code",
   "execution_count": null,
   "metadata": {},
   "outputs": [],
   "source": []
  },
  {
   "cell_type": "code",
   "execution_count": null,
   "metadata": {},
   "outputs": [],
   "source": []
  },
  {
   "cell_type": "code",
   "execution_count": null,
   "metadata": {},
   "outputs": [],
   "source": []
  },
  {
   "cell_type": "code",
   "execution_count": null,
   "metadata": {},
   "outputs": [],
   "source": []
  },
  {
   "cell_type": "code",
   "execution_count": null,
   "metadata": {},
   "outputs": [],
   "source": []
  },
  {
   "cell_type": "code",
   "execution_count": null,
   "metadata": {},
   "outputs": [],
   "source": []
  },
  {
   "cell_type": "code",
   "execution_count": null,
   "metadata": {},
   "outputs": [],
   "source": []
  },
  {
   "cell_type": "code",
   "execution_count": null,
   "metadata": {},
   "outputs": [],
   "source": []
  },
  {
   "cell_type": "code",
   "execution_count": null,
   "metadata": {},
   "outputs": [],
   "source": []
  },
  {
   "cell_type": "code",
   "execution_count": null,
   "metadata": {},
   "outputs": [],
   "source": []
  },
  {
   "cell_type": "code",
   "execution_count": null,
   "metadata": {},
   "outputs": [],
   "source": []
  },
  {
   "cell_type": "code",
   "execution_count": null,
   "metadata": {},
   "outputs": [],
   "source": []
  },
  {
   "cell_type": "code",
   "execution_count": null,
   "metadata": {},
   "outputs": [],
   "source": []
  },
  {
   "cell_type": "code",
   "execution_count": null,
   "metadata": {},
   "outputs": [],
   "source": []
  },
  {
   "cell_type": "code",
   "execution_count": null,
   "metadata": {},
   "outputs": [],
   "source": []
  },
  {
   "cell_type": "code",
   "execution_count": null,
   "metadata": {},
   "outputs": [],
   "source": []
  },
  {
   "cell_type": "code",
   "execution_count": null,
   "metadata": {},
   "outputs": [],
   "source": []
  },
  {
   "cell_type": "code",
   "execution_count": null,
   "metadata": {},
   "outputs": [],
   "source": []
  },
  {
   "cell_type": "code",
   "execution_count": null,
   "metadata": {},
   "outputs": [],
   "source": []
  },
  {
   "cell_type": "code",
   "execution_count": null,
   "metadata": {},
   "outputs": [],
   "source": []
  },
  {
   "cell_type": "code",
   "execution_count": null,
   "metadata": {},
   "outputs": [],
   "source": []
  },
  {
   "cell_type": "code",
   "execution_count": null,
   "metadata": {},
   "outputs": [],
   "source": []
  },
  {
   "cell_type": "code",
   "execution_count": null,
   "metadata": {},
   "outputs": [],
   "source": []
  },
  {
   "cell_type": "code",
   "execution_count": null,
   "metadata": {},
   "outputs": [],
   "source": []
  },
  {
   "cell_type": "code",
   "execution_count": null,
   "metadata": {},
   "outputs": [],
   "source": []
  },
  {
   "cell_type": "code",
   "execution_count": null,
   "metadata": {},
   "outputs": [],
   "source": []
  },
  {
   "cell_type": "code",
   "execution_count": null,
   "metadata": {},
   "outputs": [],
   "source": []
  },
  {
   "cell_type": "code",
   "execution_count": null,
   "metadata": {},
   "outputs": [],
   "source": []
  },
  {
   "cell_type": "code",
   "execution_count": null,
   "metadata": {},
   "outputs": [],
   "source": []
  },
  {
   "cell_type": "code",
   "execution_count": null,
   "metadata": {},
   "outputs": [],
   "source": []
  },
  {
   "cell_type": "code",
   "execution_count": null,
   "metadata": {},
   "outputs": [],
   "source": []
  },
  {
   "cell_type": "code",
   "execution_count": null,
   "metadata": {},
   "outputs": [],
   "source": []
  },
  {
   "cell_type": "code",
   "execution_count": null,
   "metadata": {},
   "outputs": [],
   "source": []
  },
  {
   "cell_type": "code",
   "execution_count": null,
   "metadata": {},
   "outputs": [],
   "source": []
  },
  {
   "cell_type": "code",
   "execution_count": null,
   "metadata": {},
   "outputs": [],
   "source": []
  },
  {
   "cell_type": "code",
   "execution_count": null,
   "metadata": {},
   "outputs": [],
   "source": []
  },
  {
   "cell_type": "code",
   "execution_count": null,
   "metadata": {},
   "outputs": [],
   "source": []
  },
  {
   "cell_type": "code",
   "execution_count": null,
   "metadata": {},
   "outputs": [],
   "source": []
  },
  {
   "cell_type": "code",
   "execution_count": null,
   "metadata": {},
   "outputs": [],
   "source": []
  },
  {
   "cell_type": "code",
   "execution_count": null,
   "metadata": {},
   "outputs": [],
   "source": []
  },
  {
   "cell_type": "code",
   "execution_count": null,
   "metadata": {},
   "outputs": [],
   "source": []
  },
  {
   "cell_type": "code",
   "execution_count": null,
   "metadata": {},
   "outputs": [],
   "source": []
  },
  {
   "cell_type": "code",
   "execution_count": null,
   "metadata": {},
   "outputs": [],
   "source": []
  },
  {
   "cell_type": "code",
   "execution_count": null,
   "metadata": {},
   "outputs": [],
   "source": []
  },
  {
   "cell_type": "code",
   "execution_count": null,
   "metadata": {},
   "outputs": [],
   "source": []
  },
  {
   "cell_type": "code",
   "execution_count": null,
   "metadata": {},
   "outputs": [],
   "source": []
  },
  {
   "cell_type": "code",
   "execution_count": null,
   "metadata": {},
   "outputs": [],
   "source": []
  },
  {
   "cell_type": "code",
   "execution_count": null,
   "metadata": {},
   "outputs": [],
   "source": []
  },
  {
   "cell_type": "code",
   "execution_count": null,
   "metadata": {},
   "outputs": [],
   "source": []
  },
  {
   "cell_type": "code",
   "execution_count": null,
   "metadata": {},
   "outputs": [],
   "source": []
  },
  {
   "cell_type": "code",
   "execution_count": null,
   "metadata": {},
   "outputs": [],
   "source": []
  },
  {
   "cell_type": "code",
   "execution_count": null,
   "metadata": {},
   "outputs": [],
   "source": []
  },
  {
   "cell_type": "code",
   "execution_count": null,
   "metadata": {},
   "outputs": [],
   "source": []
  },
  {
   "cell_type": "code",
   "execution_count": null,
   "metadata": {},
   "outputs": [],
   "source": []
  },
  {
   "cell_type": "code",
   "execution_count": null,
   "metadata": {},
   "outputs": [],
   "source": []
  },
  {
   "cell_type": "code",
   "execution_count": null,
   "metadata": {},
   "outputs": [],
   "source": []
  },
  {
   "cell_type": "code",
   "execution_count": null,
   "metadata": {},
   "outputs": [],
   "source": []
  },
  {
   "cell_type": "code",
   "execution_count": null,
   "metadata": {},
   "outputs": [],
   "source": []
  },
  {
   "cell_type": "code",
   "execution_count": null,
   "metadata": {},
   "outputs": [],
   "source": []
  },
  {
   "cell_type": "code",
   "execution_count": null,
   "metadata": {},
   "outputs": [],
   "source": []
  },
  {
   "cell_type": "code",
   "execution_count": null,
   "metadata": {},
   "outputs": [],
   "source": []
  },
  {
   "cell_type": "code",
   "execution_count": null,
   "metadata": {},
   "outputs": [],
   "source": []
  },
  {
   "cell_type": "code",
   "execution_count": null,
   "metadata": {},
   "outputs": [],
   "source": []
  },
  {
   "cell_type": "code",
   "execution_count": null,
   "metadata": {},
   "outputs": [],
   "source": []
  },
  {
   "cell_type": "code",
   "execution_count": null,
   "metadata": {},
   "outputs": [],
   "source": []
  },
  {
   "cell_type": "code",
   "execution_count": null,
   "metadata": {},
   "outputs": [],
   "source": []
  },
  {
   "cell_type": "code",
   "execution_count": null,
   "metadata": {},
   "outputs": [],
   "source": []
  },
  {
   "cell_type": "code",
   "execution_count": null,
   "metadata": {},
   "outputs": [],
   "source": []
  },
  {
   "cell_type": "code",
   "execution_count": null,
   "metadata": {},
   "outputs": [],
   "source": []
  },
  {
   "cell_type": "code",
   "execution_count": null,
   "metadata": {},
   "outputs": [],
   "source": []
  },
  {
   "cell_type": "code",
   "execution_count": null,
   "metadata": {},
   "outputs": [],
   "source": []
  },
  {
   "cell_type": "code",
   "execution_count": null,
   "metadata": {},
   "outputs": [],
   "source": []
  },
  {
   "cell_type": "code",
   "execution_count": null,
   "metadata": {},
   "outputs": [],
   "source": []
  },
  {
   "cell_type": "code",
   "execution_count": null,
   "metadata": {},
   "outputs": [],
   "source": []
  },
  {
   "cell_type": "code",
   "execution_count": null,
   "metadata": {},
   "outputs": [],
   "source": []
  },
  {
   "cell_type": "code",
   "execution_count": null,
   "metadata": {},
   "outputs": [],
   "source": []
  },
  {
   "cell_type": "code",
   "execution_count": null,
   "metadata": {},
   "outputs": [],
   "source": []
  },
  {
   "cell_type": "code",
   "execution_count": null,
   "metadata": {},
   "outputs": [],
   "source": []
  },
  {
   "cell_type": "code",
   "execution_count": null,
   "metadata": {},
   "outputs": [],
   "source": []
  },
  {
   "cell_type": "code",
   "execution_count": null,
   "metadata": {},
   "outputs": [],
   "source": []
  },
  {
   "cell_type": "code",
   "execution_count": null,
   "metadata": {},
   "outputs": [],
   "source": []
  },
  {
   "cell_type": "code",
   "execution_count": null,
   "metadata": {},
   "outputs": [],
   "source": []
  },
  {
   "cell_type": "code",
   "execution_count": null,
   "metadata": {},
   "outputs": [],
   "source": []
  },
  {
   "cell_type": "code",
   "execution_count": null,
   "metadata": {},
   "outputs": [],
   "source": []
  },
  {
   "cell_type": "code",
   "execution_count": null,
   "metadata": {},
   "outputs": [],
   "source": []
  },
  {
   "cell_type": "code",
   "execution_count": null,
   "metadata": {},
   "outputs": [],
   "source": []
  },
  {
   "cell_type": "code",
   "execution_count": null,
   "metadata": {},
   "outputs": [],
   "source": []
  },
  {
   "cell_type": "code",
   "execution_count": null,
   "metadata": {},
   "outputs": [],
   "source": []
  },
  {
   "cell_type": "code",
   "execution_count": null,
   "metadata": {},
   "outputs": [],
   "source": []
  },
  {
   "cell_type": "code",
   "execution_count": null,
   "metadata": {},
   "outputs": [],
   "source": []
  },
  {
   "cell_type": "code",
   "execution_count": null,
   "metadata": {},
   "outputs": [],
   "source": []
  },
  {
   "cell_type": "code",
   "execution_count": null,
   "metadata": {},
   "outputs": [],
   "source": []
  },
  {
   "cell_type": "code",
   "execution_count": null,
   "metadata": {},
   "outputs": [],
   "source": []
  },
  {
   "cell_type": "code",
   "execution_count": null,
   "metadata": {},
   "outputs": [],
   "source": []
  },
  {
   "cell_type": "code",
   "execution_count": null,
   "metadata": {},
   "outputs": [],
   "source": []
  },
  {
   "cell_type": "code",
   "execution_count": null,
   "metadata": {},
   "outputs": [],
   "source": []
  },
  {
   "cell_type": "code",
   "execution_count": null,
   "metadata": {},
   "outputs": [],
   "source": []
  },
  {
   "cell_type": "code",
   "execution_count": null,
   "metadata": {},
   "outputs": [],
   "source": []
  },
  {
   "cell_type": "code",
   "execution_count": null,
   "metadata": {},
   "outputs": [],
   "source": []
  },
  {
   "cell_type": "code",
   "execution_count": null,
   "metadata": {},
   "outputs": [],
   "source": []
  },
  {
   "cell_type": "code",
   "execution_count": null,
   "metadata": {},
   "outputs": [],
   "source": []
  },
  {
   "cell_type": "code",
   "execution_count": null,
   "metadata": {},
   "outputs": [],
   "source": []
  },
  {
   "cell_type": "code",
   "execution_count": null,
   "metadata": {},
   "outputs": [],
   "source": []
  },
  {
   "cell_type": "code",
   "execution_count": null,
   "metadata": {},
   "outputs": [],
   "source": []
  },
  {
   "cell_type": "code",
   "execution_count": null,
   "metadata": {},
   "outputs": [],
   "source": []
  },
  {
   "cell_type": "code",
   "execution_count": null,
   "metadata": {},
   "outputs": [],
   "source": []
  },
  {
   "cell_type": "code",
   "execution_count": null,
   "metadata": {},
   "outputs": [],
   "source": []
  },
  {
   "cell_type": "code",
   "execution_count": null,
   "metadata": {},
   "outputs": [],
   "source": []
  },
  {
   "cell_type": "code",
   "execution_count": null,
   "metadata": {},
   "outputs": [],
   "source": []
  },
  {
   "cell_type": "code",
   "execution_count": null,
   "metadata": {},
   "outputs": [],
   "source": []
  },
  {
   "cell_type": "code",
   "execution_count": null,
   "metadata": {},
   "outputs": [],
   "source": []
  },
  {
   "cell_type": "code",
   "execution_count": null,
   "metadata": {},
   "outputs": [],
   "source": []
  },
  {
   "cell_type": "code",
   "execution_count": null,
   "metadata": {},
   "outputs": [],
   "source": []
  },
  {
   "cell_type": "code",
   "execution_count": null,
   "metadata": {},
   "outputs": [],
   "source": []
  },
  {
   "cell_type": "code",
   "execution_count": null,
   "metadata": {},
   "outputs": [],
   "source": []
  },
  {
   "cell_type": "code",
   "execution_count": null,
   "metadata": {},
   "outputs": [],
   "source": []
  },
  {
   "cell_type": "code",
   "execution_count": null,
   "metadata": {},
   "outputs": [],
   "source": []
  },
  {
   "cell_type": "code",
   "execution_count": null,
   "metadata": {},
   "outputs": [],
   "source": []
  },
  {
   "cell_type": "code",
   "execution_count": null,
   "metadata": {},
   "outputs": [],
   "source": []
  },
  {
   "cell_type": "code",
   "execution_count": null,
   "metadata": {},
   "outputs": [],
   "source": []
  },
  {
   "cell_type": "code",
   "execution_count": null,
   "metadata": {},
   "outputs": [],
   "source": []
  },
  {
   "cell_type": "code",
   "execution_count": null,
   "metadata": {},
   "outputs": [],
   "source": []
  },
  {
   "cell_type": "code",
   "execution_count": null,
   "metadata": {},
   "outputs": [],
   "source": []
  },
  {
   "cell_type": "code",
   "execution_count": null,
   "metadata": {},
   "outputs": [],
   "source": []
  },
  {
   "cell_type": "code",
   "execution_count": null,
   "metadata": {},
   "outputs": [],
   "source": []
  },
  {
   "cell_type": "code",
   "execution_count": null,
   "metadata": {},
   "outputs": [],
   "source": []
  },
  {
   "cell_type": "code",
   "execution_count": null,
   "metadata": {},
   "outputs": [],
   "source": []
  },
  {
   "cell_type": "code",
   "execution_count": null,
   "metadata": {},
   "outputs": [],
   "source": []
  },
  {
   "cell_type": "code",
   "execution_count": null,
   "metadata": {},
   "outputs": [],
   "source": []
  },
  {
   "cell_type": "code",
   "execution_count": null,
   "metadata": {},
   "outputs": [],
   "source": []
  },
  {
   "cell_type": "code",
   "execution_count": null,
   "metadata": {},
   "outputs": [],
   "source": []
  },
  {
   "cell_type": "code",
   "execution_count": null,
   "metadata": {},
   "outputs": [],
   "source": []
  },
  {
   "cell_type": "code",
   "execution_count": null,
   "metadata": {},
   "outputs": [],
   "source": []
  },
  {
   "cell_type": "code",
   "execution_count": null,
   "metadata": {},
   "outputs": [],
   "source": []
  },
  {
   "cell_type": "code",
   "execution_count": null,
   "metadata": {},
   "outputs": [],
   "source": []
  },
  {
   "cell_type": "code",
   "execution_count": null,
   "metadata": {},
   "outputs": [],
   "source": []
  },
  {
   "cell_type": "code",
   "execution_count": null,
   "metadata": {},
   "outputs": [],
   "source": []
  },
  {
   "cell_type": "code",
   "execution_count": null,
   "metadata": {},
   "outputs": [],
   "source": []
  },
  {
   "cell_type": "code",
   "execution_count": null,
   "metadata": {},
   "outputs": [],
   "source": []
  },
  {
   "cell_type": "code",
   "execution_count": null,
   "metadata": {},
   "outputs": [],
   "source": []
  },
  {
   "cell_type": "code",
   "execution_count": null,
   "metadata": {},
   "outputs": [],
   "source": []
  },
  {
   "cell_type": "code",
   "execution_count": null,
   "metadata": {},
   "outputs": [],
   "source": []
  },
  {
   "cell_type": "code",
   "execution_count": null,
   "metadata": {},
   "outputs": [],
   "source": []
  },
  {
   "cell_type": "code",
   "execution_count": null,
   "metadata": {},
   "outputs": [],
   "source": []
  },
  {
   "cell_type": "code",
   "execution_count": null,
   "metadata": {},
   "outputs": [],
   "source": []
  },
  {
   "cell_type": "code",
   "execution_count": null,
   "metadata": {},
   "outputs": [],
   "source": []
  },
  {
   "cell_type": "code",
   "execution_count": null,
   "metadata": {},
   "outputs": [],
   "source": []
  },
  {
   "cell_type": "code",
   "execution_count": null,
   "metadata": {},
   "outputs": [],
   "source": []
  },
  {
   "cell_type": "code",
   "execution_count": null,
   "metadata": {},
   "outputs": [],
   "source": []
  },
  {
   "cell_type": "code",
   "execution_count": null,
   "metadata": {},
   "outputs": [],
   "source": []
  },
  {
   "cell_type": "code",
   "execution_count": null,
   "metadata": {},
   "outputs": [],
   "source": []
  },
  {
   "cell_type": "code",
   "execution_count": null,
   "metadata": {},
   "outputs": [],
   "source": []
  },
  {
   "cell_type": "code",
   "execution_count": null,
   "metadata": {},
   "outputs": [],
   "source": []
  },
  {
   "cell_type": "code",
   "execution_count": null,
   "metadata": {},
   "outputs": [],
   "source": []
  },
  {
   "cell_type": "code",
   "execution_count": null,
   "metadata": {},
   "outputs": [],
   "source": []
  },
  {
   "cell_type": "code",
   "execution_count": null,
   "metadata": {},
   "outputs": [],
   "source": []
  },
  {
   "cell_type": "code",
   "execution_count": null,
   "metadata": {},
   "outputs": [],
   "source": []
  },
  {
   "cell_type": "code",
   "execution_count": null,
   "metadata": {},
   "outputs": [],
   "source": []
  },
  {
   "cell_type": "code",
   "execution_count": null,
   "metadata": {},
   "outputs": [],
   "source": []
  },
  {
   "cell_type": "code",
   "execution_count": null,
   "metadata": {},
   "outputs": [],
   "source": []
  },
  {
   "cell_type": "code",
   "execution_count": null,
   "metadata": {},
   "outputs": [],
   "source": []
  },
  {
   "cell_type": "code",
   "execution_count": null,
   "metadata": {},
   "outputs": [],
   "source": []
  },
  {
   "cell_type": "code",
   "execution_count": null,
   "metadata": {},
   "outputs": [],
   "source": []
  },
  {
   "cell_type": "code",
   "execution_count": null,
   "metadata": {},
   "outputs": [],
   "source": []
  },
  {
   "cell_type": "code",
   "execution_count": null,
   "metadata": {},
   "outputs": [],
   "source": []
  },
  {
   "cell_type": "code",
   "execution_count": null,
   "metadata": {},
   "outputs": [],
   "source": []
  },
  {
   "cell_type": "code",
   "execution_count": null,
   "metadata": {},
   "outputs": [],
   "source": []
  },
  {
   "cell_type": "code",
   "execution_count": null,
   "metadata": {},
   "outputs": [],
   "source": []
  },
  {
   "cell_type": "code",
   "execution_count": null,
   "metadata": {},
   "outputs": [],
   "source": []
  },
  {
   "cell_type": "code",
   "execution_count": null,
   "metadata": {},
   "outputs": [],
   "source": []
  },
  {
   "cell_type": "code",
   "execution_count": null,
   "metadata": {},
   "outputs": [],
   "source": []
  },
  {
   "cell_type": "code",
   "execution_count": null,
   "metadata": {},
   "outputs": [],
   "source": []
  },
  {
   "cell_type": "code",
   "execution_count": null,
   "metadata": {},
   "outputs": [],
   "source": []
  },
  {
   "cell_type": "code",
   "execution_count": null,
   "metadata": {},
   "outputs": [],
   "source": []
  },
  {
   "cell_type": "code",
   "execution_count": null,
   "metadata": {},
   "outputs": [],
   "source": []
  },
  {
   "cell_type": "code",
   "execution_count": null,
   "metadata": {},
   "outputs": [],
   "source": []
  },
  {
   "cell_type": "code",
   "execution_count": null,
   "metadata": {},
   "outputs": [],
   "source": []
  },
  {
   "cell_type": "code",
   "execution_count": null,
   "metadata": {},
   "outputs": [],
   "source": []
  },
  {
   "cell_type": "code",
   "execution_count": null,
   "metadata": {},
   "outputs": [],
   "source": []
  },
  {
   "cell_type": "code",
   "execution_count": null,
   "metadata": {},
   "outputs": [],
   "source": []
  },
  {
   "cell_type": "code",
   "execution_count": null,
   "metadata": {},
   "outputs": [],
   "source": []
  },
  {
   "cell_type": "code",
   "execution_count": null,
   "metadata": {},
   "outputs": [],
   "source": []
  },
  {
   "cell_type": "code",
   "execution_count": null,
   "metadata": {},
   "outputs": [],
   "source": []
  },
  {
   "cell_type": "code",
   "execution_count": null,
   "metadata": {},
   "outputs": [],
   "source": []
  },
  {
   "cell_type": "code",
   "execution_count": null,
   "metadata": {},
   "outputs": [],
   "source": []
  },
  {
   "cell_type": "code",
   "execution_count": null,
   "metadata": {},
   "outputs": [],
   "source": []
  },
  {
   "cell_type": "code",
   "execution_count": null,
   "metadata": {},
   "outputs": [],
   "source": []
  },
  {
   "cell_type": "code",
   "execution_count": null,
   "metadata": {},
   "outputs": [],
   "source": []
  },
  {
   "cell_type": "code",
   "execution_count": null,
   "metadata": {},
   "outputs": [],
   "source": []
  },
  {
   "cell_type": "code",
   "execution_count": null,
   "metadata": {},
   "outputs": [],
   "source": []
  },
  {
   "cell_type": "code",
   "execution_count": null,
   "metadata": {},
   "outputs": [],
   "source": []
  },
  {
   "cell_type": "code",
   "execution_count": null,
   "metadata": {},
   "outputs": [],
   "source": []
  },
  {
   "cell_type": "code",
   "execution_count": null,
   "metadata": {},
   "outputs": [],
   "source": []
  },
  {
   "cell_type": "code",
   "execution_count": null,
   "metadata": {},
   "outputs": [],
   "source": []
  },
  {
   "cell_type": "code",
   "execution_count": null,
   "metadata": {},
   "outputs": [],
   "source": []
  },
  {
   "cell_type": "code",
   "execution_count": null,
   "metadata": {},
   "outputs": [],
   "source": []
  },
  {
   "cell_type": "code",
   "execution_count": null,
   "metadata": {},
   "outputs": [],
   "source": []
  },
  {
   "cell_type": "code",
   "execution_count": null,
   "metadata": {},
   "outputs": [],
   "source": []
  },
  {
   "cell_type": "code",
   "execution_count": null,
   "metadata": {},
   "outputs": [],
   "source": []
  },
  {
   "cell_type": "code",
   "execution_count": null,
   "metadata": {},
   "outputs": [],
   "source": []
  },
  {
   "cell_type": "code",
   "execution_count": null,
   "metadata": {},
   "outputs": [],
   "source": []
  },
  {
   "cell_type": "code",
   "execution_count": null,
   "metadata": {},
   "outputs": [],
   "source": []
  },
  {
   "cell_type": "code",
   "execution_count": null,
   "metadata": {},
   "outputs": [],
   "source": []
  },
  {
   "cell_type": "code",
   "execution_count": null,
   "metadata": {},
   "outputs": [],
   "source": []
  },
  {
   "cell_type": "code",
   "execution_count": null,
   "metadata": {},
   "outputs": [],
   "source": []
  },
  {
   "cell_type": "code",
   "execution_count": null,
   "metadata": {},
   "outputs": [],
   "source": []
  },
  {
   "cell_type": "code",
   "execution_count": null,
   "metadata": {},
   "outputs": [],
   "source": []
  },
  {
   "cell_type": "code",
   "execution_count": null,
   "metadata": {},
   "outputs": [],
   "source": []
  },
  {
   "cell_type": "code",
   "execution_count": null,
   "metadata": {},
   "outputs": [],
   "source": []
  },
  {
   "cell_type": "code",
   "execution_count": null,
   "metadata": {},
   "outputs": [],
   "source": []
  },
  {
   "cell_type": "code",
   "execution_count": null,
   "metadata": {},
   "outputs": [],
   "source": []
  },
  {
   "cell_type": "code",
   "execution_count": null,
   "metadata": {},
   "outputs": [],
   "source": []
  },
  {
   "cell_type": "code",
   "execution_count": null,
   "metadata": {},
   "outputs": [],
   "source": []
  },
  {
   "cell_type": "code",
   "execution_count": null,
   "metadata": {},
   "outputs": [],
   "source": []
  },
  {
   "cell_type": "code",
   "execution_count": null,
   "metadata": {},
   "outputs": [],
   "source": []
  },
  {
   "cell_type": "code",
   "execution_count": null,
   "metadata": {},
   "outputs": [],
   "source": []
  },
  {
   "cell_type": "code",
   "execution_count": null,
   "metadata": {},
   "outputs": [],
   "source": []
  },
  {
   "cell_type": "code",
   "execution_count": null,
   "metadata": {},
   "outputs": [],
   "source": []
  },
  {
   "cell_type": "code",
   "execution_count": null,
   "metadata": {},
   "outputs": [],
   "source": []
  },
  {
   "cell_type": "code",
   "execution_count": null,
   "metadata": {},
   "outputs": [],
   "source": []
  },
  {
   "cell_type": "code",
   "execution_count": null,
   "metadata": {},
   "outputs": [],
   "source": []
  },
  {
   "cell_type": "code",
   "execution_count": null,
   "metadata": {},
   "outputs": [],
   "source": []
  },
  {
   "cell_type": "code",
   "execution_count": null,
   "metadata": {},
   "outputs": [],
   "source": []
  },
  {
   "cell_type": "code",
   "execution_count": null,
   "metadata": {},
   "outputs": [],
   "source": []
  },
  {
   "cell_type": "code",
   "execution_count": null,
   "metadata": {},
   "outputs": [],
   "source": []
  },
  {
   "cell_type": "code",
   "execution_count": null,
   "metadata": {},
   "outputs": [],
   "source": []
  },
  {
   "cell_type": "code",
   "execution_count": null,
   "metadata": {},
   "outputs": [],
   "source": []
  },
  {
   "cell_type": "code",
   "execution_count": 933,
   "metadata": {},
   "outputs": [],
   "source": []
  },
  {
   "cell_type": "code",
   "execution_count": null,
   "metadata": {},
   "outputs": [],
   "source": []
  },
  {
   "cell_type": "code",
   "execution_count": null,
   "metadata": {},
   "outputs": [],
   "source": []
  },
  {
   "cell_type": "code",
   "execution_count": null,
   "metadata": {},
   "outputs": [],
   "source": []
  },
  {
   "cell_type": "code",
   "execution_count": null,
   "metadata": {},
   "outputs": [],
   "source": []
  },
  {
   "cell_type": "code",
   "execution_count": null,
   "metadata": {},
   "outputs": [],
   "source": []
  },
  {
   "cell_type": "code",
   "execution_count": null,
   "metadata": {},
   "outputs": [],
   "source": []
  },
  {
   "cell_type": "code",
   "execution_count": null,
   "metadata": {},
   "outputs": [],
   "source": []
  },
  {
   "cell_type": "code",
   "execution_count": null,
   "metadata": {},
   "outputs": [],
   "source": []
  },
  {
   "cell_type": "code",
   "execution_count": null,
   "metadata": {},
   "outputs": [],
   "source": []
  },
  {
   "cell_type": "code",
   "execution_count": null,
   "metadata": {},
   "outputs": [],
   "source": []
  },
  {
   "cell_type": "code",
   "execution_count": null,
   "metadata": {},
   "outputs": [],
   "source": []
  },
  {
   "cell_type": "code",
   "execution_count": null,
   "metadata": {},
   "outputs": [],
   "source": []
  },
  {
   "cell_type": "code",
   "execution_count": null,
   "metadata": {},
   "outputs": [],
   "source": []
  },
  {
   "cell_type": "code",
   "execution_count": null,
   "metadata": {},
   "outputs": [],
   "source": []
  },
  {
   "cell_type": "code",
   "execution_count": null,
   "metadata": {},
   "outputs": [],
   "source": []
  },
  {
   "cell_type": "code",
   "execution_count": null,
   "metadata": {},
   "outputs": [],
   "source": []
  },
  {
   "cell_type": "code",
   "execution_count": null,
   "metadata": {},
   "outputs": [],
   "source": []
  },
  {
   "cell_type": "code",
   "execution_count": 855,
   "metadata": {},
   "outputs": [],
   "source": []
  },
  {
   "cell_type": "code",
   "execution_count": null,
   "metadata": {},
   "outputs": [],
   "source": []
  },
  {
   "cell_type": "code",
   "execution_count": 854,
   "metadata": {},
   "outputs": [],
   "source": []
  },
  {
   "cell_type": "code",
   "execution_count": 856,
   "metadata": {},
   "outputs": [],
   "source": []
  },
  {
   "cell_type": "code",
   "execution_count": null,
   "metadata": {},
   "outputs": [],
   "source": []
  },
  {
   "cell_type": "code",
   "execution_count": null,
   "metadata": {},
   "outputs": [],
   "source": []
  },
  {
   "cell_type": "code",
   "execution_count": null,
   "metadata": {},
   "outputs": [],
   "source": []
  },
  {
   "cell_type": "code",
   "execution_count": null,
   "metadata": {},
   "outputs": [],
   "source": []
  },
  {
   "cell_type": "code",
   "execution_count": null,
   "metadata": {},
   "outputs": [],
   "source": []
  },
  {
   "cell_type": "code",
   "execution_count": null,
   "metadata": {},
   "outputs": [],
   "source": []
  },
  {
   "cell_type": "code",
   "execution_count": null,
   "metadata": {},
   "outputs": [],
   "source": []
  },
  {
   "cell_type": "code",
   "execution_count": null,
   "metadata": {},
   "outputs": [],
   "source": []
  },
  {
   "cell_type": "code",
   "execution_count": 888,
   "metadata": {},
   "outputs": [],
   "source": []
  },
  {
   "cell_type": "code",
   "execution_count": null,
   "metadata": {},
   "outputs": [],
   "source": []
  },
  {
   "cell_type": "code",
   "execution_count": null,
   "metadata": {},
   "outputs": [],
   "source": []
  },
  {
   "cell_type": "code",
   "execution_count": null,
   "metadata": {},
   "outputs": [],
   "source": []
  },
  {
   "cell_type": "code",
   "execution_count": null,
   "metadata": {},
   "outputs": [],
   "source": []
  },
  {
   "cell_type": "code",
   "execution_count": null,
   "metadata": {},
   "outputs": [],
   "source": []
  },
  {
   "cell_type": "code",
   "execution_count": null,
   "metadata": {},
   "outputs": [],
   "source": []
  },
  {
   "cell_type": "code",
   "execution_count": null,
   "metadata": {},
   "outputs": [],
   "source": []
  },
  {
   "cell_type": "code",
   "execution_count": null,
   "metadata": {},
   "outputs": [],
   "source": []
  },
  {
   "cell_type": "code",
   "execution_count": null,
   "metadata": {},
   "outputs": [],
   "source": []
  },
  {
   "cell_type": "code",
   "execution_count": null,
   "metadata": {},
   "outputs": [],
   "source": []
  },
  {
   "cell_type": "code",
   "execution_count": null,
   "metadata": {},
   "outputs": [],
   "source": []
  },
  {
   "cell_type": "code",
   "execution_count": null,
   "metadata": {},
   "outputs": [],
   "source": []
  },
  {
   "cell_type": "code",
   "execution_count": null,
   "metadata": {},
   "outputs": [],
   "source": []
  },
  {
   "cell_type": "code",
   "execution_count": null,
   "metadata": {},
   "outputs": [],
   "source": []
  },
  {
   "cell_type": "code",
   "execution_count": null,
   "metadata": {},
   "outputs": [],
   "source": []
  },
  {
   "cell_type": "code",
   "execution_count": null,
   "metadata": {},
   "outputs": [],
   "source": []
  },
  {
   "cell_type": "code",
   "execution_count": null,
   "metadata": {},
   "outputs": [],
   "source": []
  },
  {
   "cell_type": "code",
   "execution_count": null,
   "metadata": {},
   "outputs": [],
   "source": []
  },
  {
   "cell_type": "code",
   "execution_count": null,
   "metadata": {},
   "outputs": [],
   "source": []
  },
  {
   "cell_type": "code",
   "execution_count": null,
   "metadata": {},
   "outputs": [],
   "source": []
  },
  {
   "cell_type": "code",
   "execution_count": null,
   "metadata": {},
   "outputs": [],
   "source": []
  },
  {
   "cell_type": "code",
   "execution_count": null,
   "metadata": {},
   "outputs": [],
   "source": []
  },
  {
   "cell_type": "code",
   "execution_count": null,
   "metadata": {},
   "outputs": [],
   "source": []
  },
  {
   "cell_type": "code",
   "execution_count": null,
   "metadata": {},
   "outputs": [],
   "source": []
  },
  {
   "cell_type": "code",
   "execution_count": null,
   "metadata": {},
   "outputs": [],
   "source": []
  },
  {
   "cell_type": "code",
   "execution_count": null,
   "metadata": {},
   "outputs": [],
   "source": []
  },
  {
   "cell_type": "code",
   "execution_count": null,
   "metadata": {},
   "outputs": [],
   "source": []
  },
  {
   "cell_type": "code",
   "execution_count": null,
   "metadata": {},
   "outputs": [],
   "source": []
  },
  {
   "cell_type": "code",
   "execution_count": null,
   "metadata": {},
   "outputs": [],
   "source": []
  },
  {
   "cell_type": "code",
   "execution_count": null,
   "metadata": {},
   "outputs": [],
   "source": []
  },
  {
   "cell_type": "code",
   "execution_count": null,
   "metadata": {},
   "outputs": [],
   "source": []
  },
  {
   "cell_type": "code",
   "execution_count": null,
   "metadata": {},
   "outputs": [],
   "source": []
  },
  {
   "cell_type": "code",
   "execution_count": null,
   "metadata": {},
   "outputs": [],
   "source": []
  },
  {
   "cell_type": "code",
   "execution_count": null,
   "metadata": {},
   "outputs": [],
   "source": []
  },
  {
   "cell_type": "code",
   "execution_count": null,
   "metadata": {},
   "outputs": [],
   "source": []
  },
  {
   "cell_type": "code",
   "execution_count": null,
   "metadata": {},
   "outputs": [],
   "source": []
  },
  {
   "cell_type": "code",
   "execution_count": null,
   "metadata": {},
   "outputs": [],
   "source": []
  },
  {
   "cell_type": "code",
   "execution_count": null,
   "metadata": {},
   "outputs": [],
   "source": []
  },
  {
   "cell_type": "code",
   "execution_count": null,
   "metadata": {},
   "outputs": [],
   "source": []
  },
  {
   "cell_type": "code",
   "execution_count": null,
   "metadata": {},
   "outputs": [],
   "source": []
  },
  {
   "cell_type": "code",
   "execution_count": null,
   "metadata": {},
   "outputs": [],
   "source": []
  },
  {
   "cell_type": "code",
   "execution_count": null,
   "metadata": {},
   "outputs": [],
   "source": []
  },
  {
   "cell_type": "code",
   "execution_count": null,
   "metadata": {},
   "outputs": [],
   "source": []
  },
  {
   "cell_type": "code",
   "execution_count": null,
   "metadata": {},
   "outputs": [],
   "source": []
  },
  {
   "cell_type": "code",
   "execution_count": null,
   "metadata": {},
   "outputs": [],
   "source": []
  },
  {
   "cell_type": "code",
   "execution_count": null,
   "metadata": {},
   "outputs": [],
   "source": []
  },
  {
   "cell_type": "code",
   "execution_count": null,
   "metadata": {},
   "outputs": [],
   "source": []
  },
  {
   "cell_type": "code",
   "execution_count": null,
   "metadata": {},
   "outputs": [],
   "source": []
  },
  {
   "cell_type": "code",
   "execution_count": null,
   "metadata": {},
   "outputs": [],
   "source": []
  },
  {
   "cell_type": "code",
   "execution_count": null,
   "metadata": {},
   "outputs": [],
   "source": []
  },
  {
   "cell_type": "code",
   "execution_count": null,
   "metadata": {},
   "outputs": [],
   "source": []
  },
  {
   "cell_type": "code",
   "execution_count": null,
   "metadata": {},
   "outputs": [],
   "source": []
  },
  {
   "cell_type": "code",
   "execution_count": null,
   "metadata": {},
   "outputs": [],
   "source": []
  },
  {
   "cell_type": "code",
   "execution_count": null,
   "metadata": {},
   "outputs": [],
   "source": []
  },
  {
   "cell_type": "code",
   "execution_count": null,
   "metadata": {},
   "outputs": [],
   "source": []
  },
  {
   "cell_type": "code",
   "execution_count": null,
   "metadata": {},
   "outputs": [],
   "source": []
  },
  {
   "cell_type": "code",
   "execution_count": null,
   "metadata": {},
   "outputs": [],
   "source": []
  },
  {
   "cell_type": "code",
   "execution_count": null,
   "metadata": {},
   "outputs": [],
   "source": []
  },
  {
   "cell_type": "code",
   "execution_count": null,
   "metadata": {},
   "outputs": [],
   "source": []
  },
  {
   "cell_type": "code",
   "execution_count": null,
   "metadata": {},
   "outputs": [],
   "source": []
  },
  {
   "cell_type": "code",
   "execution_count": null,
   "metadata": {},
   "outputs": [],
   "source": []
  },
  {
   "cell_type": "code",
   "execution_count": null,
   "metadata": {},
   "outputs": [],
   "source": []
  },
  {
   "cell_type": "code",
   "execution_count": null,
   "metadata": {},
   "outputs": [],
   "source": []
  },
  {
   "cell_type": "code",
   "execution_count": null,
   "metadata": {},
   "outputs": [],
   "source": []
  },
  {
   "cell_type": "code",
   "execution_count": null,
   "metadata": {},
   "outputs": [],
   "source": []
  },
  {
   "cell_type": "code",
   "execution_count": null,
   "metadata": {},
   "outputs": [],
   "source": []
  },
  {
   "cell_type": "code",
   "execution_count": null,
   "metadata": {},
   "outputs": [],
   "source": []
  },
  {
   "cell_type": "code",
   "execution_count": null,
   "metadata": {},
   "outputs": [],
   "source": []
  },
  {
   "cell_type": "code",
   "execution_count": null,
   "metadata": {},
   "outputs": [],
   "source": []
  },
  {
   "cell_type": "code",
   "execution_count": null,
   "metadata": {},
   "outputs": [],
   "source": []
  },
  {
   "cell_type": "code",
   "execution_count": null,
   "metadata": {},
   "outputs": [],
   "source": []
  },
  {
   "cell_type": "code",
   "execution_count": null,
   "metadata": {},
   "outputs": [],
   "source": []
  },
  {
   "cell_type": "code",
   "execution_count": null,
   "metadata": {},
   "outputs": [],
   "source": []
  },
  {
   "cell_type": "code",
   "execution_count": null,
   "metadata": {},
   "outputs": [],
   "source": []
  },
  {
   "cell_type": "code",
   "execution_count": null,
   "metadata": {},
   "outputs": [],
   "source": []
  },
  {
   "cell_type": "code",
   "execution_count": null,
   "metadata": {},
   "outputs": [],
   "source": []
  },
  {
   "cell_type": "code",
   "execution_count": null,
   "metadata": {},
   "outputs": [],
   "source": []
  },
  {
   "cell_type": "code",
   "execution_count": null,
   "metadata": {},
   "outputs": [],
   "source": []
  },
  {
   "cell_type": "code",
   "execution_count": null,
   "metadata": {},
   "outputs": [],
   "source": []
  },
  {
   "cell_type": "code",
   "execution_count": null,
   "metadata": {},
   "outputs": [],
   "source": []
  },
  {
   "cell_type": "code",
   "execution_count": null,
   "metadata": {},
   "outputs": [],
   "source": []
  },
  {
   "cell_type": "code",
   "execution_count": null,
   "metadata": {},
   "outputs": [],
   "source": []
  },
  {
   "cell_type": "code",
   "execution_count": null,
   "metadata": {},
   "outputs": [],
   "source": []
  },
  {
   "cell_type": "code",
   "execution_count": null,
   "metadata": {},
   "outputs": [],
   "source": []
  },
  {
   "cell_type": "code",
   "execution_count": null,
   "metadata": {},
   "outputs": [],
   "source": []
  },
  {
   "cell_type": "code",
   "execution_count": null,
   "metadata": {},
   "outputs": [],
   "source": []
  },
  {
   "cell_type": "code",
   "execution_count": null,
   "metadata": {},
   "outputs": [],
   "source": []
  },
  {
   "cell_type": "code",
   "execution_count": null,
   "metadata": {},
   "outputs": [],
   "source": []
  },
  {
   "cell_type": "code",
   "execution_count": null,
   "metadata": {},
   "outputs": [],
   "source": []
  },
  {
   "cell_type": "code",
   "execution_count": null,
   "metadata": {},
   "outputs": [],
   "source": []
  },
  {
   "cell_type": "code",
   "execution_count": null,
   "metadata": {},
   "outputs": [],
   "source": []
  },
  {
   "cell_type": "code",
   "execution_count": null,
   "metadata": {},
   "outputs": [],
   "source": []
  },
  {
   "cell_type": "code",
   "execution_count": null,
   "metadata": {},
   "outputs": [],
   "source": []
  },
  {
   "cell_type": "code",
   "execution_count": null,
   "metadata": {},
   "outputs": [],
   "source": []
  },
  {
   "cell_type": "code",
   "execution_count": null,
   "metadata": {},
   "outputs": [],
   "source": []
  },
  {
   "cell_type": "code",
   "execution_count": 562,
   "metadata": {},
   "outputs": [],
   "source": []
  },
  {
   "cell_type": "code",
   "execution_count": 565,
   "metadata": {},
   "outputs": [],
   "source": []
  },
  {
   "cell_type": "code",
   "execution_count": 570,
   "metadata": {},
   "outputs": [],
   "source": []
  },
  {
   "cell_type": "code",
   "execution_count": 572,
   "metadata": {},
   "outputs": [],
   "source": []
  },
  {
   "cell_type": "code",
   "execution_count": null,
   "metadata": {},
   "outputs": [],
   "source": []
  },
  {
   "cell_type": "code",
   "execution_count": 576,
   "metadata": {},
   "outputs": [],
   "source": []
  },
  {
   "cell_type": "code",
   "execution_count": null,
   "metadata": {},
   "outputs": [],
   "source": []
  },
  {
   "cell_type": "code",
   "execution_count": null,
   "metadata": {},
   "outputs": [],
   "source": []
  },
  {
   "cell_type": "code",
   "execution_count": 487,
   "metadata": {},
   "outputs": [],
   "source": []
  },
  {
   "cell_type": "code",
   "execution_count": null,
   "metadata": {},
   "outputs": [],
   "source": []
  },
  {
   "cell_type": "code",
   "execution_count": null,
   "metadata": {},
   "outputs": [],
   "source": []
  },
  {
   "cell_type": "code",
   "execution_count": null,
   "metadata": {},
   "outputs": [],
   "source": []
  },
  {
   "cell_type": "code",
   "execution_count": null,
   "metadata": {},
   "outputs": [],
   "source": []
  },
  {
   "cell_type": "code",
   "execution_count": null,
   "metadata": {},
   "outputs": [],
   "source": []
  },
  {
   "cell_type": "code",
   "execution_count": null,
   "metadata": {},
   "outputs": [],
   "source": []
  },
  {
   "cell_type": "code",
   "execution_count": null,
   "metadata": {},
   "outputs": [],
   "source": []
  },
  {
   "cell_type": "code",
   "execution_count": null,
   "metadata": {},
   "outputs": [],
   "source": []
  },
  {
   "cell_type": "code",
   "execution_count": null,
   "metadata": {},
   "outputs": [],
   "source": []
  },
  {
   "cell_type": "code",
   "execution_count": null,
   "metadata": {},
   "outputs": [],
   "source": []
  },
  {
   "cell_type": "code",
   "execution_count": null,
   "metadata": {},
   "outputs": [],
   "source": []
  },
  {
   "cell_type": "code",
   "execution_count": null,
   "metadata": {},
   "outputs": [],
   "source": []
  },
  {
   "cell_type": "code",
   "execution_count": null,
   "metadata": {},
   "outputs": [],
   "source": []
  },
  {
   "cell_type": "code",
   "execution_count": null,
   "metadata": {},
   "outputs": [],
   "source": []
  },
  {
   "cell_type": "code",
   "execution_count": null,
   "metadata": {},
   "outputs": [],
   "source": []
  },
  {
   "cell_type": "code",
   "execution_count": null,
   "metadata": {},
   "outputs": [],
   "source": []
  },
  {
   "cell_type": "code",
   "execution_count": null,
   "metadata": {},
   "outputs": [],
   "source": []
  },
  {
   "cell_type": "code",
   "execution_count": null,
   "metadata": {},
   "outputs": [],
   "source": []
  },
  {
   "cell_type": "code",
   "execution_count": null,
   "metadata": {},
   "outputs": [],
   "source": [
    "    "
   ]
  },
  {
   "cell_type": "code",
   "execution_count": null,
   "metadata": {},
   "outputs": [],
   "source": []
  },
  {
   "cell_type": "code",
   "execution_count": null,
   "metadata": {},
   "outputs": [],
   "source": []
  },
  {
   "cell_type": "code",
   "execution_count": null,
   "metadata": {},
   "outputs": [],
   "source": []
  },
  {
   "cell_type": "code",
   "execution_count": null,
   "metadata": {},
   "outputs": [],
   "source": []
  },
  {
   "cell_type": "code",
   "execution_count": 457,
   "metadata": {},
   "outputs": [],
   "source": []
  },
  {
   "cell_type": "code",
   "execution_count": 472,
   "metadata": {},
   "outputs": [],
   "source": []
  },
  {
   "cell_type": "code",
   "execution_count": null,
   "metadata": {},
   "outputs": [],
   "source": []
  },
  {
   "cell_type": "code",
   "execution_count": null,
   "metadata": {},
   "outputs": [],
   "source": []
  },
  {
   "cell_type": "code",
   "execution_count": null,
   "metadata": {},
   "outputs": [],
   "source": []
  },
  {
   "cell_type": "code",
   "execution_count": null,
   "metadata": {},
   "outputs": [],
   "source": []
  },
  {
   "cell_type": "code",
   "execution_count": null,
   "metadata": {},
   "outputs": [],
   "source": []
  },
  {
   "cell_type": "code",
   "execution_count": null,
   "metadata": {},
   "outputs": [],
   "source": []
  },
  {
   "cell_type": "code",
   "execution_count": null,
   "metadata": {},
   "outputs": [],
   "source": []
  },
  {
   "cell_type": "code",
   "execution_count": null,
   "metadata": {},
   "outputs": [],
   "source": []
  },
  {
   "cell_type": "code",
   "execution_count": null,
   "metadata": {},
   "outputs": [],
   "source": []
  },
  {
   "cell_type": "code",
   "execution_count": null,
   "metadata": {},
   "outputs": [],
   "source": []
  },
  {
   "cell_type": "code",
   "execution_count": null,
   "metadata": {},
   "outputs": [],
   "source": []
  },
  {
   "cell_type": "code",
   "execution_count": null,
   "metadata": {},
   "outputs": [],
   "source": []
  },
  {
   "cell_type": "code",
   "execution_count": null,
   "metadata": {},
   "outputs": [],
   "source": []
  },
  {
   "cell_type": "code",
   "execution_count": null,
   "metadata": {},
   "outputs": [],
   "source": []
  },
  {
   "cell_type": "code",
   "execution_count": null,
   "metadata": {},
   "outputs": [],
   "source": []
  },
  {
   "cell_type": "code",
   "execution_count": null,
   "metadata": {},
   "outputs": [],
   "source": []
  },
  {
   "cell_type": "code",
   "execution_count": null,
   "metadata": {},
   "outputs": [],
   "source": []
  },
  {
   "cell_type": "code",
   "execution_count": null,
   "metadata": {},
   "outputs": [],
   "source": []
  },
  {
   "cell_type": "code",
   "execution_count": null,
   "metadata": {},
   "outputs": [],
   "source": []
  },
  {
   "cell_type": "code",
   "execution_count": null,
   "metadata": {},
   "outputs": [],
   "source": []
  },
  {
   "cell_type": "code",
   "execution_count": null,
   "metadata": {},
   "outputs": [],
   "source": []
  },
  {
   "cell_type": "code",
   "execution_count": null,
   "metadata": {},
   "outputs": [],
   "source": []
  },
  {
   "cell_type": "code",
   "execution_count": null,
   "metadata": {},
   "outputs": [],
   "source": []
  },
  {
   "cell_type": "code",
   "execution_count": null,
   "metadata": {},
   "outputs": [],
   "source": []
  },
  {
   "cell_type": "code",
   "execution_count": null,
   "metadata": {},
   "outputs": [],
   "source": []
  },
  {
   "cell_type": "code",
   "execution_count": null,
   "metadata": {},
   "outputs": [],
   "source": []
  },
  {
   "cell_type": "code",
   "execution_count": null,
   "metadata": {},
   "outputs": [],
   "source": []
  },
  {
   "cell_type": "code",
   "execution_count": null,
   "metadata": {},
   "outputs": [],
   "source": []
  },
  {
   "cell_type": "code",
   "execution_count": null,
   "metadata": {},
   "outputs": [],
   "source": []
  },
  {
   "cell_type": "code",
   "execution_count": null,
   "metadata": {},
   "outputs": [],
   "source": []
  },
  {
   "cell_type": "code",
   "execution_count": null,
   "metadata": {},
   "outputs": [],
   "source": []
  },
  {
   "cell_type": "code",
   "execution_count": null,
   "metadata": {},
   "outputs": [],
   "source": []
  },
  {
   "cell_type": "code",
   "execution_count": null,
   "metadata": {},
   "outputs": [],
   "source": []
  },
  {
   "cell_type": "code",
   "execution_count": 441,
   "metadata": {},
   "outputs": [],
   "source": []
  },
  {
   "cell_type": "code",
   "execution_count": null,
   "metadata": {},
   "outputs": [],
   "source": []
  },
  {
   "cell_type": "code",
   "execution_count": null,
   "metadata": {},
   "outputs": [],
   "source": []
  },
  {
   "cell_type": "code",
   "execution_count": null,
   "metadata": {},
   "outputs": [],
   "source": []
  },
  {
   "cell_type": "code",
   "execution_count": null,
   "metadata": {},
   "outputs": [],
   "source": []
  },
  {
   "cell_type": "code",
   "execution_count": 431,
   "metadata": {},
   "outputs": [],
   "source": []
  },
  {
   "cell_type": "code",
   "execution_count": null,
   "metadata": {},
   "outputs": [],
   "source": []
  },
  {
   "cell_type": "code",
   "execution_count": null,
   "metadata": {},
   "outputs": [],
   "source": []
  },
  {
   "cell_type": "code",
   "execution_count": null,
   "metadata": {},
   "outputs": [],
   "source": []
  },
  {
   "cell_type": "code",
   "execution_count": null,
   "metadata": {},
   "outputs": [],
   "source": []
  },
  {
   "cell_type": "code",
   "execution_count": null,
   "metadata": {},
   "outputs": [],
   "source": []
  },
  {
   "cell_type": "code",
   "execution_count": null,
   "metadata": {},
   "outputs": [],
   "source": []
  },
  {
   "cell_type": "code",
   "execution_count": null,
   "metadata": {},
   "outputs": [],
   "source": []
  },
  {
   "cell_type": "code",
   "execution_count": null,
   "metadata": {},
   "outputs": [],
   "source": []
  },
  {
   "cell_type": "code",
   "execution_count": null,
   "metadata": {},
   "outputs": [],
   "source": []
  },
  {
   "cell_type": "code",
   "execution_count": null,
   "metadata": {},
   "outputs": [],
   "source": []
  },
  {
   "cell_type": "code",
   "execution_count": null,
   "metadata": {},
   "outputs": [],
   "source": []
  },
  {
   "cell_type": "code",
   "execution_count": null,
   "metadata": {},
   "outputs": [],
   "source": []
  },
  {
   "cell_type": "code",
   "execution_count": null,
   "metadata": {},
   "outputs": [],
   "source": []
  },
  {
   "cell_type": "code",
   "execution_count": null,
   "metadata": {},
   "outputs": [],
   "source": []
  },
  {
   "cell_type": "code",
   "execution_count": null,
   "metadata": {},
   "outputs": [],
   "source": []
  },
  {
   "cell_type": "code",
   "execution_count": null,
   "metadata": {},
   "outputs": [],
   "source": []
  },
  {
   "cell_type": "code",
   "execution_count": null,
   "metadata": {},
   "outputs": [],
   "source": []
  },
  {
   "cell_type": "code",
   "execution_count": null,
   "metadata": {},
   "outputs": [],
   "source": []
  },
  {
   "cell_type": "code",
   "execution_count": null,
   "metadata": {},
   "outputs": [],
   "source": []
  },
  {
   "cell_type": "code",
   "execution_count": null,
   "metadata": {},
   "outputs": [],
   "source": []
  },
  {
   "cell_type": "code",
   "execution_count": null,
   "metadata": {},
   "outputs": [],
   "source": []
  },
  {
   "cell_type": "code",
   "execution_count": null,
   "metadata": {},
   "outputs": [],
   "source": []
  },
  {
   "cell_type": "code",
   "execution_count": null,
   "metadata": {},
   "outputs": [],
   "source": []
  },
  {
   "cell_type": "code",
   "execution_count": null,
   "metadata": {},
   "outputs": [],
   "source": []
  },
  {
   "cell_type": "code",
   "execution_count": null,
   "metadata": {},
   "outputs": [],
   "source": []
  },
  {
   "cell_type": "code",
   "execution_count": null,
   "metadata": {},
   "outputs": [],
   "source": []
  },
  {
   "cell_type": "code",
   "execution_count": null,
   "metadata": {},
   "outputs": [],
   "source": []
  },
  {
   "cell_type": "code",
   "execution_count": null,
   "metadata": {},
   "outputs": [],
   "source": []
  },
  {
   "cell_type": "code",
   "execution_count": null,
   "metadata": {},
   "outputs": [],
   "source": []
  },
  {
   "cell_type": "code",
   "execution_count": null,
   "metadata": {},
   "outputs": [],
   "source": []
  },
  {
   "cell_type": "code",
   "execution_count": null,
   "metadata": {},
   "outputs": [],
   "source": []
  },
  {
   "cell_type": "code",
   "execution_count": null,
   "metadata": {},
   "outputs": [],
   "source": []
  },
  {
   "cell_type": "code",
   "execution_count": null,
   "metadata": {},
   "outputs": [],
   "source": []
  },
  {
   "cell_type": "code",
   "execution_count": null,
   "metadata": {},
   "outputs": [],
   "source": []
  },
  {
   "cell_type": "code",
   "execution_count": null,
   "metadata": {},
   "outputs": [],
   "source": []
  },
  {
   "cell_type": "code",
   "execution_count": null,
   "metadata": {},
   "outputs": [],
   "source": []
  },
  {
   "cell_type": "code",
   "execution_count": null,
   "metadata": {},
   "outputs": [],
   "source": []
  },
  {
   "cell_type": "code",
   "execution_count": null,
   "metadata": {},
   "outputs": [],
   "source": []
  },
  {
   "cell_type": "code",
   "execution_count": null,
   "metadata": {},
   "outputs": [],
   "source": []
  },
  {
   "cell_type": "code",
   "execution_count": null,
   "metadata": {},
   "outputs": [],
   "source": []
  },
  {
   "cell_type": "code",
   "execution_count": null,
   "metadata": {},
   "outputs": [],
   "source": []
  },
  {
   "cell_type": "code",
   "execution_count": null,
   "metadata": {},
   "outputs": [],
   "source": []
  },
  {
   "cell_type": "code",
   "execution_count": null,
   "metadata": {},
   "outputs": [],
   "source": []
  },
  {
   "cell_type": "code",
   "execution_count": null,
   "metadata": {},
   "outputs": [],
   "source": []
  },
  {
   "cell_type": "code",
   "execution_count": null,
   "metadata": {},
   "outputs": [],
   "source": []
  },
  {
   "cell_type": "code",
   "execution_count": null,
   "metadata": {},
   "outputs": [],
   "source": []
  },
  {
   "cell_type": "code",
   "execution_count": null,
   "metadata": {},
   "outputs": [],
   "source": []
  },
  {
   "cell_type": "code",
   "execution_count": null,
   "metadata": {},
   "outputs": [],
   "source": []
  },
  {
   "cell_type": "code",
   "execution_count": null,
   "metadata": {},
   "outputs": [],
   "source": []
  },
  {
   "cell_type": "code",
   "execution_count": null,
   "metadata": {},
   "outputs": [],
   "source": []
  },
  {
   "cell_type": "code",
   "execution_count": null,
   "metadata": {},
   "outputs": [],
   "source": []
  },
  {
   "cell_type": "code",
   "execution_count": null,
   "metadata": {},
   "outputs": [],
   "source": []
  },
  {
   "cell_type": "code",
   "execution_count": null,
   "metadata": {},
   "outputs": [],
   "source": []
  },
  {
   "cell_type": "code",
   "execution_count": null,
   "metadata": {},
   "outputs": [],
   "source": []
  },
  {
   "cell_type": "code",
   "execution_count": null,
   "metadata": {},
   "outputs": [],
   "source": []
  },
  {
   "cell_type": "code",
   "execution_count": null,
   "metadata": {},
   "outputs": [],
   "source": []
  },
  {
   "cell_type": "code",
   "execution_count": null,
   "metadata": {},
   "outputs": [],
   "source": []
  },
  {
   "cell_type": "code",
   "execution_count": null,
   "metadata": {},
   "outputs": [],
   "source": []
  },
  {
   "cell_type": "code",
   "execution_count": null,
   "metadata": {},
   "outputs": [],
   "source": []
  },
  {
   "cell_type": "code",
   "execution_count": null,
   "metadata": {},
   "outputs": [],
   "source": []
  },
  {
   "cell_type": "code",
   "execution_count": null,
   "metadata": {},
   "outputs": [],
   "source": []
  },
  {
   "cell_type": "code",
   "execution_count": null,
   "metadata": {},
   "outputs": [],
   "source": []
  },
  {
   "cell_type": "code",
   "execution_count": null,
   "metadata": {},
   "outputs": [],
   "source": []
  },
  {
   "cell_type": "code",
   "execution_count": null,
   "metadata": {},
   "outputs": [],
   "source": []
  },
  {
   "cell_type": "code",
   "execution_count": null,
   "metadata": {},
   "outputs": [],
   "source": []
  },
  {
   "cell_type": "code",
   "execution_count": null,
   "metadata": {},
   "outputs": [],
   "source": []
  },
  {
   "cell_type": "code",
   "execution_count": null,
   "metadata": {},
   "outputs": [],
   "source": []
  },
  {
   "cell_type": "code",
   "execution_count": null,
   "metadata": {},
   "outputs": [],
   "source": []
  },
  {
   "cell_type": "code",
   "execution_count": null,
   "metadata": {},
   "outputs": [],
   "source": []
  },
  {
   "cell_type": "code",
   "execution_count": null,
   "metadata": {},
   "outputs": [],
   "source": []
  },
  {
   "cell_type": "code",
   "execution_count": null,
   "metadata": {},
   "outputs": [],
   "source": []
  },
  {
   "cell_type": "code",
   "execution_count": null,
   "metadata": {},
   "outputs": [],
   "source": []
  },
  {
   "cell_type": "code",
   "execution_count": null,
   "metadata": {},
   "outputs": [],
   "source": []
  },
  {
   "cell_type": "code",
   "execution_count": null,
   "metadata": {},
   "outputs": [],
   "source": []
  },
  {
   "cell_type": "code",
   "execution_count": null,
   "metadata": {},
   "outputs": [],
   "source": []
  },
  {
   "cell_type": "code",
   "execution_count": null,
   "metadata": {},
   "outputs": [],
   "source": []
  },
  {
   "cell_type": "code",
   "execution_count": null,
   "metadata": {},
   "outputs": [],
   "source": []
  },
  {
   "cell_type": "code",
   "execution_count": null,
   "metadata": {},
   "outputs": [],
   "source": []
  },
  {
   "cell_type": "code",
   "execution_count": null,
   "metadata": {},
   "outputs": [],
   "source": []
  },
  {
   "cell_type": "code",
   "execution_count": null,
   "metadata": {},
   "outputs": [],
   "source": []
  },
  {
   "cell_type": "code",
   "execution_count": null,
   "metadata": {},
   "outputs": [],
   "source": []
  },
  {
   "cell_type": "code",
   "execution_count": null,
   "metadata": {},
   "outputs": [],
   "source": []
  },
  {
   "cell_type": "code",
   "execution_count": null,
   "metadata": {},
   "outputs": [],
   "source": []
  },
  {
   "cell_type": "code",
   "execution_count": null,
   "metadata": {},
   "outputs": [],
   "source": []
  },
  {
   "cell_type": "code",
   "execution_count": null,
   "metadata": {},
   "outputs": [],
   "source": []
  },
  {
   "cell_type": "code",
   "execution_count": null,
   "metadata": {},
   "outputs": [],
   "source": []
  },
  {
   "cell_type": "code",
   "execution_count": null,
   "metadata": {},
   "outputs": [],
   "source": []
  },
  {
   "cell_type": "code",
   "execution_count": null,
   "metadata": {},
   "outputs": [],
   "source": []
  },
  {
   "cell_type": "code",
   "execution_count": null,
   "metadata": {},
   "outputs": [],
   "source": []
  },
  {
   "cell_type": "code",
   "execution_count": null,
   "metadata": {},
   "outputs": [],
   "source": []
  },
  {
   "cell_type": "code",
   "execution_count": null,
   "metadata": {},
   "outputs": [],
   "source": []
  },
  {
   "cell_type": "code",
   "execution_count": null,
   "metadata": {},
   "outputs": [],
   "source": []
  },
  {
   "cell_type": "code",
   "execution_count": 276,
   "metadata": {},
   "outputs": [],
   "source": []
  },
  {
   "cell_type": "code",
   "execution_count": null,
   "metadata": {},
   "outputs": [],
   "source": []
  },
  {
   "cell_type": "code",
   "execution_count": null,
   "metadata": {},
   "outputs": [],
   "source": []
  },
  {
   "cell_type": "code",
   "execution_count": null,
   "metadata": {},
   "outputs": [],
   "source": []
  },
  {
   "cell_type": "code",
   "execution_count": null,
   "metadata": {},
   "outputs": [],
   "source": []
  },
  {
   "cell_type": "code",
   "execution_count": null,
   "metadata": {},
   "outputs": [],
   "source": []
  },
  {
   "cell_type": "code",
   "execution_count": null,
   "metadata": {},
   "outputs": [],
   "source": []
  },
  {
   "cell_type": "code",
   "execution_count": null,
   "metadata": {},
   "outputs": [],
   "source": []
  },
  {
   "cell_type": "code",
   "execution_count": null,
   "metadata": {},
   "outputs": [],
   "source": []
  },
  {
   "cell_type": "code",
   "execution_count": null,
   "metadata": {},
   "outputs": [],
   "source": []
  },
  {
   "cell_type": "code",
   "execution_count": null,
   "metadata": {},
   "outputs": [],
   "source": []
  },
  {
   "cell_type": "code",
   "execution_count": null,
   "metadata": {},
   "outputs": [],
   "source": []
  },
  {
   "cell_type": "code",
   "execution_count": null,
   "metadata": {},
   "outputs": [],
   "source": []
  },
  {
   "cell_type": "code",
   "execution_count": null,
   "metadata": {},
   "outputs": [],
   "source": []
  },
  {
   "cell_type": "code",
   "execution_count": null,
   "metadata": {},
   "outputs": [],
   "source": []
  },
  {
   "cell_type": "code",
   "execution_count": null,
   "metadata": {},
   "outputs": [],
   "source": []
  },
  {
   "cell_type": "code",
   "execution_count": null,
   "metadata": {},
   "outputs": [],
   "source": []
  },
  {
   "cell_type": "code",
   "execution_count": null,
   "metadata": {},
   "outputs": [],
   "source": []
  },
  {
   "cell_type": "code",
   "execution_count": null,
   "metadata": {},
   "outputs": [],
   "source": []
  },
  {
   "cell_type": "code",
   "execution_count": null,
   "metadata": {},
   "outputs": [],
   "source": []
  },
  {
   "cell_type": "code",
   "execution_count": null,
   "metadata": {},
   "outputs": [],
   "source": []
  },
  {
   "cell_type": "code",
   "execution_count": null,
   "metadata": {},
   "outputs": [],
   "source": []
  },
  {
   "cell_type": "code",
   "execution_count": null,
   "metadata": {},
   "outputs": [],
   "source": []
  },
  {
   "cell_type": "code",
   "execution_count": null,
   "metadata": {},
   "outputs": [],
   "source": []
  },
  {
   "cell_type": "code",
   "execution_count": null,
   "metadata": {},
   "outputs": [],
   "source": []
  },
  {
   "cell_type": "code",
   "execution_count": null,
   "metadata": {},
   "outputs": [],
   "source": []
  },
  {
   "cell_type": "code",
   "execution_count": null,
   "metadata": {},
   "outputs": [],
   "source": []
  },
  {
   "cell_type": "code",
   "execution_count": null,
   "metadata": {},
   "outputs": [],
   "source": []
  },
  {
   "cell_type": "code",
   "execution_count": null,
   "metadata": {},
   "outputs": [],
   "source": []
  },
  {
   "cell_type": "code",
   "execution_count": null,
   "metadata": {},
   "outputs": [],
   "source": []
  },
  {
   "cell_type": "code",
   "execution_count": null,
   "metadata": {},
   "outputs": [],
   "source": []
  },
  {
   "cell_type": "code",
   "execution_count": null,
   "metadata": {},
   "outputs": [],
   "source": []
  },
  {
   "cell_type": "code",
   "execution_count": null,
   "metadata": {},
   "outputs": [],
   "source": []
  },
  {
   "cell_type": "code",
   "execution_count": null,
   "metadata": {},
   "outputs": [],
   "source": []
  },
  {
   "cell_type": "code",
   "execution_count": null,
   "metadata": {},
   "outputs": [],
   "source": []
  },
  {
   "cell_type": "code",
   "execution_count": null,
   "metadata": {},
   "outputs": [],
   "source": []
  },
  {
   "cell_type": "code",
   "execution_count": null,
   "metadata": {},
   "outputs": [],
   "source": []
  },
  {
   "cell_type": "code",
   "execution_count": null,
   "metadata": {},
   "outputs": [],
   "source": []
  },
  {
   "cell_type": "code",
   "execution_count": null,
   "metadata": {},
   "outputs": [],
   "source": []
  },
  {
   "cell_type": "code",
   "execution_count": null,
   "metadata": {},
   "outputs": [],
   "source": []
  },
  {
   "cell_type": "code",
   "execution_count": null,
   "metadata": {},
   "outputs": [],
   "source": []
  },
  {
   "cell_type": "code",
   "execution_count": null,
   "metadata": {},
   "outputs": [],
   "source": []
  },
  {
   "cell_type": "code",
   "execution_count": null,
   "metadata": {},
   "outputs": [],
   "source": []
  },
  {
   "cell_type": "code",
   "execution_count": null,
   "metadata": {},
   "outputs": [],
   "source": []
  },
  {
   "cell_type": "code",
   "execution_count": null,
   "metadata": {},
   "outputs": [],
   "source": []
  },
  {
   "cell_type": "code",
   "execution_count": null,
   "metadata": {},
   "outputs": [],
   "source": []
  },
  {
   "cell_type": "code",
   "execution_count": null,
   "metadata": {},
   "outputs": [],
   "source": []
  },
  {
   "cell_type": "code",
   "execution_count": 234,
   "metadata": {},
   "outputs": [],
   "source": []
  },
  {
   "cell_type": "code",
   "execution_count": null,
   "metadata": {},
   "outputs": [],
   "source": []
  },
  {
   "cell_type": "code",
   "execution_count": null,
   "metadata": {},
   "outputs": [],
   "source": []
  },
  {
   "cell_type": "code",
   "execution_count": null,
   "metadata": {},
   "outputs": [],
   "source": []
  },
  {
   "cell_type": "code",
   "execution_count": null,
   "metadata": {},
   "outputs": [],
   "source": []
  },
  {
   "cell_type": "code",
   "execution_count": null,
   "metadata": {},
   "outputs": [],
   "source": []
  },
  {
   "cell_type": "code",
   "execution_count": null,
   "metadata": {},
   "outputs": [],
   "source": []
  },
  {
   "cell_type": "code",
   "execution_count": null,
   "metadata": {},
   "outputs": [],
   "source": []
  },
  {
   "cell_type": "code",
   "execution_count": null,
   "metadata": {},
   "outputs": [],
   "source": []
  },
  {
   "cell_type": "code",
   "execution_count": null,
   "metadata": {},
   "outputs": [],
   "source": []
  },
  {
   "cell_type": "code",
   "execution_count": null,
   "metadata": {},
   "outputs": [],
   "source": []
  },
  {
   "cell_type": "code",
   "execution_count": null,
   "metadata": {},
   "outputs": [],
   "source": []
  },
  {
   "cell_type": "code",
   "execution_count": null,
   "metadata": {},
   "outputs": [],
   "source": []
  },
  {
   "cell_type": "code",
   "execution_count": null,
   "metadata": {},
   "outputs": [],
   "source": []
  },
  {
   "cell_type": "code",
   "execution_count": null,
   "metadata": {},
   "outputs": [],
   "source": []
  },
  {
   "cell_type": "code",
   "execution_count": null,
   "metadata": {},
   "outputs": [],
   "source": []
  },
  {
   "cell_type": "code",
   "execution_count": null,
   "metadata": {},
   "outputs": [],
   "source": []
  },
  {
   "cell_type": "code",
   "execution_count": null,
   "metadata": {},
   "outputs": [],
   "source": []
  },
  {
   "cell_type": "code",
   "execution_count": null,
   "metadata": {},
   "outputs": [],
   "source": []
  },
  {
   "cell_type": "code",
   "execution_count": null,
   "metadata": {},
   "outputs": [],
   "source": []
  },
  {
   "cell_type": "code",
   "execution_count": null,
   "metadata": {},
   "outputs": [],
   "source": []
  },
  {
   "cell_type": "code",
   "execution_count": null,
   "metadata": {},
   "outputs": [],
   "source": []
  },
  {
   "cell_type": "code",
   "execution_count": null,
   "metadata": {},
   "outputs": [],
   "source": []
  },
  {
   "cell_type": "code",
   "execution_count": null,
   "metadata": {},
   "outputs": [],
   "source": []
  },
  {
   "cell_type": "code",
   "execution_count": null,
   "metadata": {},
   "outputs": [],
   "source": []
  },
  {
   "cell_type": "code",
   "execution_count": null,
   "metadata": {},
   "outputs": [],
   "source": []
  },
  {
   "cell_type": "code",
   "execution_count": null,
   "metadata": {},
   "outputs": [],
   "source": []
  },
  {
   "cell_type": "code",
   "execution_count": null,
   "metadata": {},
   "outputs": [],
   "source": []
  },
  {
   "cell_type": "code",
   "execution_count": null,
   "metadata": {},
   "outputs": [],
   "source": []
  },
  {
   "cell_type": "code",
   "execution_count": null,
   "metadata": {},
   "outputs": [],
   "source": []
  },
  {
   "cell_type": "code",
   "execution_count": null,
   "metadata": {},
   "outputs": [],
   "source": []
  },
  {
   "cell_type": "code",
   "execution_count": null,
   "metadata": {},
   "outputs": [],
   "source": []
  },
  {
   "cell_type": "code",
   "execution_count": null,
   "metadata": {},
   "outputs": [],
   "source": []
  },
  {
   "cell_type": "code",
   "execution_count": 179,
   "metadata": {},
   "outputs": [],
   "source": []
  },
  {
   "cell_type": "code",
   "execution_count": null,
   "metadata": {},
   "outputs": [],
   "source": []
  },
  {
   "cell_type": "code",
   "execution_count": null,
   "metadata": {},
   "outputs": [],
   "source": []
  },
  {
   "cell_type": "code",
   "execution_count": null,
   "metadata": {},
   "outputs": [],
   "source": []
  },
  {
   "cell_type": "code",
   "execution_count": null,
   "metadata": {},
   "outputs": [],
   "source": []
  },
  {
   "cell_type": "code",
   "execution_count": null,
   "metadata": {},
   "outputs": [],
   "source": []
  },
  {
   "cell_type": "code",
   "execution_count": null,
   "metadata": {},
   "outputs": [],
   "source": []
  },
  {
   "cell_type": "code",
   "execution_count": null,
   "metadata": {},
   "outputs": [],
   "source": []
  },
  {
   "cell_type": "code",
   "execution_count": null,
   "metadata": {},
   "outputs": [],
   "source": []
  },
  {
   "cell_type": "code",
   "execution_count": null,
   "metadata": {},
   "outputs": [],
   "source": []
  },
  {
   "cell_type": "code",
   "execution_count": null,
   "metadata": {},
   "outputs": [],
   "source": []
  },
  {
   "cell_type": "code",
   "execution_count": null,
   "metadata": {},
   "outputs": [],
   "source": []
  },
  {
   "cell_type": "code",
   "execution_count": null,
   "metadata": {},
   "outputs": [],
   "source": []
  },
  {
   "cell_type": "code",
   "execution_count": null,
   "metadata": {},
   "outputs": [],
   "source": []
  },
  {
   "cell_type": "code",
   "execution_count": null,
   "metadata": {},
   "outputs": [],
   "source": []
  },
  {
   "cell_type": "code",
   "execution_count": null,
   "metadata": {},
   "outputs": [],
   "source": []
  },
  {
   "cell_type": "code",
   "execution_count": null,
   "metadata": {},
   "outputs": [],
   "source": []
  },
  {
   "cell_type": "code",
   "execution_count": null,
   "metadata": {},
   "outputs": [],
   "source": []
  },
  {
   "cell_type": "code",
   "execution_count": null,
   "metadata": {},
   "outputs": [],
   "source": []
  },
  {
   "cell_type": "code",
   "execution_count": null,
   "metadata": {},
   "outputs": [],
   "source": [
    "\n",
    "    \n",
    "    "
   ]
  },
  {
   "cell_type": "code",
   "execution_count": null,
   "metadata": {},
   "outputs": [],
   "source": []
  },
  {
   "cell_type": "code",
   "execution_count": null,
   "metadata": {},
   "outputs": [],
   "source": []
  },
  {
   "cell_type": "code",
   "execution_count": null,
   "metadata": {},
   "outputs": [],
   "source": []
  },
  {
   "cell_type": "code",
   "execution_count": null,
   "metadata": {},
   "outputs": [],
   "source": []
  },
  {
   "cell_type": "code",
   "execution_count": null,
   "metadata": {},
   "outputs": [],
   "source": []
  },
  {
   "cell_type": "code",
   "execution_count": null,
   "metadata": {},
   "outputs": [],
   "source": []
  },
  {
   "cell_type": "code",
   "execution_count": null,
   "metadata": {},
   "outputs": [],
   "source": []
  },
  {
   "cell_type": "code",
   "execution_count": null,
   "metadata": {},
   "outputs": [],
   "source": []
  },
  {
   "cell_type": "code",
   "execution_count": null,
   "metadata": {},
   "outputs": [],
   "source": []
  },
  {
   "cell_type": "code",
   "execution_count": null,
   "metadata": {},
   "outputs": [],
   "source": []
  },
  {
   "cell_type": "code",
   "execution_count": null,
   "metadata": {},
   "outputs": [],
   "source": []
  },
  {
   "cell_type": "code",
   "execution_count": null,
   "metadata": {},
   "outputs": [],
   "source": []
  },
  {
   "cell_type": "code",
   "execution_count": null,
   "metadata": {},
   "outputs": [],
   "source": []
  },
  {
   "cell_type": "code",
   "execution_count": null,
   "metadata": {},
   "outputs": [],
   "source": []
  },
  {
   "cell_type": "code",
   "execution_count": null,
   "metadata": {},
   "outputs": [],
   "source": []
  },
  {
   "cell_type": "code",
   "execution_count": null,
   "metadata": {},
   "outputs": [],
   "source": []
  },
  {
   "cell_type": "code",
   "execution_count": null,
   "metadata": {},
   "outputs": [],
   "source": []
  },
  {
   "cell_type": "code",
   "execution_count": null,
   "metadata": {},
   "outputs": [],
   "source": []
  },
  {
   "cell_type": "code",
   "execution_count": null,
   "metadata": {},
   "outputs": [],
   "source": []
  },
  {
   "cell_type": "code",
   "execution_count": null,
   "metadata": {},
   "outputs": [],
   "source": []
  },
  {
   "cell_type": "code",
   "execution_count": null,
   "metadata": {},
   "outputs": [],
   "source": []
  },
  {
   "cell_type": "code",
   "execution_count": null,
   "metadata": {},
   "outputs": [],
   "source": []
  },
  {
   "cell_type": "code",
   "execution_count": null,
   "metadata": {},
   "outputs": [],
   "source": []
  },
  {
   "cell_type": "code",
   "execution_count": null,
   "metadata": {},
   "outputs": [],
   "source": []
  },
  {
   "cell_type": "code",
   "execution_count": null,
   "metadata": {},
   "outputs": [],
   "source": []
  },
  {
   "cell_type": "code",
   "execution_count": null,
   "metadata": {},
   "outputs": [],
   "source": []
  },
  {
   "cell_type": "code",
   "execution_count": null,
   "metadata": {},
   "outputs": [],
   "source": []
  },
  {
   "cell_type": "code",
   "execution_count": null,
   "metadata": {},
   "outputs": [],
   "source": []
  },
  {
   "cell_type": "code",
   "execution_count": null,
   "metadata": {},
   "outputs": [],
   "source": []
  },
  {
   "cell_type": "code",
   "execution_count": null,
   "metadata": {},
   "outputs": [],
   "source": []
  },
  {
   "cell_type": "code",
   "execution_count": null,
   "metadata": {},
   "outputs": [],
   "source": []
  },
  {
   "cell_type": "code",
   "execution_count": null,
   "metadata": {},
   "outputs": [],
   "source": []
  },
  {
   "cell_type": "code",
   "execution_count": null,
   "metadata": {},
   "outputs": [],
   "source": []
  },
  {
   "cell_type": "code",
   "execution_count": null,
   "metadata": {},
   "outputs": [],
   "source": []
  },
  {
   "cell_type": "code",
   "execution_count": null,
   "metadata": {},
   "outputs": [],
   "source": []
  },
  {
   "cell_type": "code",
   "execution_count": null,
   "metadata": {},
   "outputs": [],
   "source": []
  },
  {
   "cell_type": "code",
   "execution_count": null,
   "metadata": {},
   "outputs": [],
   "source": []
  },
  {
   "cell_type": "code",
   "execution_count": null,
   "metadata": {},
   "outputs": [],
   "source": []
  },
  {
   "cell_type": "code",
   "execution_count": null,
   "metadata": {},
   "outputs": [],
   "source": []
  },
  {
   "cell_type": "code",
   "execution_count": null,
   "metadata": {},
   "outputs": [],
   "source": []
  },
  {
   "cell_type": "code",
   "execution_count": null,
   "metadata": {},
   "outputs": [],
   "source": []
  },
  {
   "cell_type": "code",
   "execution_count": null,
   "metadata": {},
   "outputs": [],
   "source": []
  },
  {
   "cell_type": "code",
   "execution_count": null,
   "metadata": {},
   "outputs": [],
   "source": []
  },
  {
   "cell_type": "code",
   "execution_count": null,
   "metadata": {},
   "outputs": [],
   "source": []
  },
  {
   "cell_type": "code",
   "execution_count": null,
   "metadata": {},
   "outputs": [],
   "source": []
  },
  {
   "cell_type": "code",
   "execution_count": null,
   "metadata": {},
   "outputs": [],
   "source": []
  },
  {
   "cell_type": "code",
   "execution_count": null,
   "metadata": {},
   "outputs": [],
   "source": []
  },
  {
   "cell_type": "code",
   "execution_count": null,
   "metadata": {},
   "outputs": [],
   "source": []
  },
  {
   "cell_type": "code",
   "execution_count": null,
   "metadata": {},
   "outputs": [],
   "source": []
  },
  {
   "cell_type": "code",
   "execution_count": null,
   "metadata": {},
   "outputs": [],
   "source": []
  },
  {
   "cell_type": "code",
   "execution_count": null,
   "metadata": {},
   "outputs": [],
   "source": []
  },
  {
   "cell_type": "code",
   "execution_count": null,
   "metadata": {},
   "outputs": [],
   "source": []
  },
  {
   "cell_type": "code",
   "execution_count": null,
   "metadata": {},
   "outputs": [],
   "source": []
  },
  {
   "cell_type": "code",
   "execution_count": null,
   "metadata": {},
   "outputs": [],
   "source": []
  },
  {
   "cell_type": "code",
   "execution_count": null,
   "metadata": {},
   "outputs": [],
   "source": []
  },
  {
   "cell_type": "code",
   "execution_count": null,
   "metadata": {},
   "outputs": [],
   "source": []
  },
  {
   "cell_type": "code",
   "execution_count": null,
   "metadata": {},
   "outputs": [],
   "source": []
  },
  {
   "cell_type": "code",
   "execution_count": null,
   "metadata": {},
   "outputs": [],
   "source": []
  },
  {
   "cell_type": "code",
   "execution_count": null,
   "metadata": {},
   "outputs": [],
   "source": []
  },
  {
   "cell_type": "code",
   "execution_count": null,
   "metadata": {},
   "outputs": [],
   "source": []
  },
  {
   "cell_type": "code",
   "execution_count": null,
   "metadata": {},
   "outputs": [],
   "source": []
  },
  {
   "cell_type": "code",
   "execution_count": null,
   "metadata": {},
   "outputs": [],
   "source": []
  },
  {
   "cell_type": "code",
   "execution_count": null,
   "metadata": {},
   "outputs": [],
   "source": []
  },
  {
   "cell_type": "code",
   "execution_count": null,
   "metadata": {},
   "outputs": [],
   "source": []
  },
  {
   "cell_type": "code",
   "execution_count": null,
   "metadata": {},
   "outputs": [],
   "source": []
  },
  {
   "cell_type": "code",
   "execution_count": null,
   "metadata": {},
   "outputs": [],
   "source": []
  },
  {
   "cell_type": "code",
   "execution_count": null,
   "metadata": {},
   "outputs": [],
   "source": []
  },
  {
   "cell_type": "code",
   "execution_count": null,
   "metadata": {},
   "outputs": [],
   "source": []
  },
  {
   "cell_type": "code",
   "execution_count": null,
   "metadata": {},
   "outputs": [],
   "source": []
  },
  {
   "cell_type": "code",
   "execution_count": null,
   "metadata": {},
   "outputs": [],
   "source": []
  },
  {
   "cell_type": "code",
   "execution_count": null,
   "metadata": {},
   "outputs": [],
   "source": []
  },
  {
   "cell_type": "code",
   "execution_count": null,
   "metadata": {},
   "outputs": [],
   "source": []
  },
  {
   "cell_type": "code",
   "execution_count": null,
   "metadata": {},
   "outputs": [],
   "source": []
  },
  {
   "cell_type": "code",
   "execution_count": null,
   "metadata": {},
   "outputs": [],
   "source": []
  },
  {
   "cell_type": "code",
   "execution_count": null,
   "metadata": {},
   "outputs": [],
   "source": []
  },
  {
   "cell_type": "code",
   "execution_count": null,
   "metadata": {},
   "outputs": [],
   "source": []
  },
  {
   "cell_type": "code",
   "execution_count": null,
   "metadata": {},
   "outputs": [],
   "source": []
  },
  {
   "cell_type": "code",
   "execution_count": null,
   "metadata": {},
   "outputs": [],
   "source": []
  },
  {
   "cell_type": "code",
   "execution_count": null,
   "metadata": {},
   "outputs": [],
   "source": []
  },
  {
   "cell_type": "code",
   "execution_count": null,
   "metadata": {},
   "outputs": [],
   "source": []
  },
  {
   "cell_type": "code",
   "execution_count": null,
   "metadata": {},
   "outputs": [],
   "source": []
  },
  {
   "cell_type": "code",
   "execution_count": null,
   "metadata": {},
   "outputs": [],
   "source": []
  },
  {
   "cell_type": "code",
   "execution_count": null,
   "metadata": {},
   "outputs": [],
   "source": []
  },
  {
   "cell_type": "code",
   "execution_count": null,
   "metadata": {},
   "outputs": [],
   "source": []
  },
  {
   "cell_type": "code",
   "execution_count": null,
   "metadata": {},
   "outputs": [],
   "source": []
  },
  {
   "cell_type": "code",
   "execution_count": null,
   "metadata": {},
   "outputs": [],
   "source": []
  },
  {
   "cell_type": "code",
   "execution_count": null,
   "metadata": {},
   "outputs": [],
   "source": []
  },
  {
   "cell_type": "code",
   "execution_count": null,
   "metadata": {},
   "outputs": [],
   "source": []
  },
  {
   "cell_type": "code",
   "execution_count": null,
   "metadata": {},
   "outputs": [],
   "source": []
  },
  {
   "cell_type": "code",
   "execution_count": null,
   "metadata": {},
   "outputs": [],
   "source": []
  },
  {
   "cell_type": "code",
   "execution_count": null,
   "metadata": {},
   "outputs": [],
   "source": []
  },
  {
   "cell_type": "code",
   "execution_count": null,
   "metadata": {},
   "outputs": [],
   "source": []
  },
  {
   "cell_type": "code",
   "execution_count": null,
   "metadata": {},
   "outputs": [],
   "source": []
  },
  {
   "cell_type": "code",
   "execution_count": null,
   "metadata": {},
   "outputs": [],
   "source": []
  },
  {
   "cell_type": "code",
   "execution_count": null,
   "metadata": {},
   "outputs": [],
   "source": []
  },
  {
   "cell_type": "code",
   "execution_count": null,
   "metadata": {},
   "outputs": [],
   "source": []
  },
  {
   "cell_type": "code",
   "execution_count": null,
   "metadata": {},
   "outputs": [],
   "source": []
  },
  {
   "cell_type": "code",
   "execution_count": null,
   "metadata": {},
   "outputs": [],
   "source": []
  },
  {
   "cell_type": "code",
   "execution_count": null,
   "metadata": {},
   "outputs": [],
   "source": []
  },
  {
   "cell_type": "code",
   "execution_count": null,
   "metadata": {},
   "outputs": [],
   "source": []
  },
  {
   "cell_type": "code",
   "execution_count": null,
   "metadata": {},
   "outputs": [],
   "source": []
  },
  {
   "cell_type": "code",
   "execution_count": null,
   "metadata": {},
   "outputs": [],
   "source": []
  },
  {
   "cell_type": "code",
   "execution_count": null,
   "metadata": {},
   "outputs": [],
   "source": []
  },
  {
   "cell_type": "code",
   "execution_count": null,
   "metadata": {},
   "outputs": [],
   "source": []
  },
  {
   "cell_type": "code",
   "execution_count": null,
   "metadata": {},
   "outputs": [],
   "source": []
  },
  {
   "cell_type": "code",
   "execution_count": null,
   "metadata": {},
   "outputs": [],
   "source": []
  },
  {
   "cell_type": "code",
   "execution_count": null,
   "metadata": {},
   "outputs": [],
   "source": []
  },
  {
   "cell_type": "code",
   "execution_count": null,
   "metadata": {},
   "outputs": [],
   "source": []
  },
  {
   "cell_type": "code",
   "execution_count": null,
   "metadata": {},
   "outputs": [],
   "source": []
  },
  {
   "cell_type": "code",
   "execution_count": null,
   "metadata": {},
   "outputs": [],
   "source": []
  },
  {
   "cell_type": "code",
   "execution_count": null,
   "metadata": {},
   "outputs": [],
   "source": []
  },
  {
   "cell_type": "code",
   "execution_count": null,
   "metadata": {},
   "outputs": [],
   "source": []
  },
  {
   "cell_type": "code",
   "execution_count": null,
   "metadata": {},
   "outputs": [],
   "source": []
  },
  {
   "cell_type": "code",
   "execution_count": null,
   "metadata": {},
   "outputs": [],
   "source": []
  },
  {
   "cell_type": "code",
   "execution_count": null,
   "metadata": {},
   "outputs": [],
   "source": []
  },
  {
   "cell_type": "code",
   "execution_count": null,
   "metadata": {},
   "outputs": [],
   "source": []
  },
  {
   "cell_type": "code",
   "execution_count": null,
   "metadata": {},
   "outputs": [],
   "source": []
  },
  {
   "cell_type": "code",
   "execution_count": null,
   "metadata": {},
   "outputs": [],
   "source": []
  },
  {
   "cell_type": "code",
   "execution_count": null,
   "metadata": {},
   "outputs": [],
   "source": []
  },
  {
   "cell_type": "code",
   "execution_count": null,
   "metadata": {},
   "outputs": [],
   "source": []
  },
  {
   "cell_type": "code",
   "execution_count": null,
   "metadata": {},
   "outputs": [],
   "source": []
  },
  {
   "cell_type": "code",
   "execution_count": null,
   "metadata": {},
   "outputs": [],
   "source": []
  },
  {
   "cell_type": "code",
   "execution_count": null,
   "metadata": {},
   "outputs": [],
   "source": []
  },
  {
   "cell_type": "code",
   "execution_count": null,
   "metadata": {},
   "outputs": [],
   "source": []
  },
  {
   "cell_type": "code",
   "execution_count": null,
   "metadata": {},
   "outputs": [],
   "source": []
  },
  {
   "cell_type": "code",
   "execution_count": null,
   "metadata": {},
   "outputs": [],
   "source": []
  },
  {
   "cell_type": "code",
   "execution_count": null,
   "metadata": {},
   "outputs": [],
   "source": []
  },
  {
   "cell_type": "code",
   "execution_count": null,
   "metadata": {},
   "outputs": [],
   "source": []
  },
  {
   "cell_type": "code",
   "execution_count": null,
   "metadata": {},
   "outputs": [],
   "source": []
  },
  {
   "cell_type": "code",
   "execution_count": null,
   "metadata": {},
   "outputs": [],
   "source": []
  },
  {
   "cell_type": "code",
   "execution_count": null,
   "metadata": {},
   "outputs": [],
   "source": []
  },
  {
   "cell_type": "code",
   "execution_count": null,
   "metadata": {},
   "outputs": [],
   "source": []
  },
  {
   "cell_type": "code",
   "execution_count": null,
   "metadata": {},
   "outputs": [],
   "source": []
  },
  {
   "cell_type": "code",
   "execution_count": null,
   "metadata": {},
   "outputs": [],
   "source": []
  },
  {
   "cell_type": "code",
   "execution_count": null,
   "metadata": {},
   "outputs": [],
   "source": []
  },
  {
   "cell_type": "code",
   "execution_count": null,
   "metadata": {},
   "outputs": [],
   "source": []
  },
  {
   "cell_type": "code",
   "execution_count": null,
   "metadata": {},
   "outputs": [],
   "source": []
  },
  {
   "cell_type": "code",
   "execution_count": null,
   "metadata": {},
   "outputs": [],
   "source": []
  },
  {
   "cell_type": "code",
   "execution_count": null,
   "metadata": {},
   "outputs": [],
   "source": []
  },
  {
   "cell_type": "code",
   "execution_count": null,
   "metadata": {},
   "outputs": [],
   "source": []
  },
  {
   "cell_type": "code",
   "execution_count": null,
   "metadata": {},
   "outputs": [],
   "source": []
  },
  {
   "cell_type": "code",
   "execution_count": null,
   "metadata": {},
   "outputs": [],
   "source": []
  },
  {
   "cell_type": "code",
   "execution_count": null,
   "metadata": {},
   "outputs": [],
   "source": []
  },
  {
   "cell_type": "code",
   "execution_count": null,
   "metadata": {},
   "outputs": [],
   "source": []
  },
  {
   "cell_type": "code",
   "execution_count": null,
   "metadata": {},
   "outputs": [],
   "source": []
  },
  {
   "cell_type": "code",
   "execution_count": null,
   "metadata": {},
   "outputs": [],
   "source": []
  },
  {
   "cell_type": "code",
   "execution_count": null,
   "metadata": {},
   "outputs": [],
   "source": []
  },
  {
   "cell_type": "code",
   "execution_count": null,
   "metadata": {},
   "outputs": [],
   "source": []
  },
  {
   "cell_type": "code",
   "execution_count": null,
   "metadata": {},
   "outputs": [],
   "source": []
  },
  {
   "cell_type": "code",
   "execution_count": null,
   "metadata": {},
   "outputs": [],
   "source": []
  },
  {
   "cell_type": "code",
   "execution_count": null,
   "metadata": {},
   "outputs": [],
   "source": []
  },
  {
   "cell_type": "code",
   "execution_count": null,
   "metadata": {},
   "outputs": [],
   "source": []
  },
  {
   "cell_type": "code",
   "execution_count": null,
   "metadata": {},
   "outputs": [],
   "source": []
  },
  {
   "cell_type": "code",
   "execution_count": null,
   "metadata": {},
   "outputs": [],
   "source": []
  },
  {
   "cell_type": "code",
   "execution_count": null,
   "metadata": {},
   "outputs": [],
   "source": []
  },
  {
   "cell_type": "code",
   "execution_count": null,
   "metadata": {},
   "outputs": [],
   "source": []
  },
  {
   "cell_type": "code",
   "execution_count": null,
   "metadata": {},
   "outputs": [],
   "source": []
  },
  {
   "cell_type": "code",
   "execution_count": null,
   "metadata": {},
   "outputs": [],
   "source": []
  },
  {
   "cell_type": "code",
   "execution_count": null,
   "metadata": {},
   "outputs": [],
   "source": []
  },
  {
   "cell_type": "code",
   "execution_count": null,
   "metadata": {},
   "outputs": [],
   "source": []
  },
  {
   "cell_type": "code",
   "execution_count": null,
   "metadata": {},
   "outputs": [],
   "source": []
  },
  {
   "cell_type": "code",
   "execution_count": null,
   "metadata": {},
   "outputs": [],
   "source": []
  },
  {
   "cell_type": "code",
   "execution_count": null,
   "metadata": {},
   "outputs": [],
   "source": []
  },
  {
   "cell_type": "code",
   "execution_count": null,
   "metadata": {},
   "outputs": [],
   "source": []
  },
  {
   "cell_type": "code",
   "execution_count": null,
   "metadata": {},
   "outputs": [],
   "source": []
  },
  {
   "cell_type": "code",
   "execution_count": null,
   "metadata": {},
   "outputs": [],
   "source": []
  },
  {
   "cell_type": "code",
   "execution_count": null,
   "metadata": {},
   "outputs": [],
   "source": []
  },
  {
   "cell_type": "code",
   "execution_count": null,
   "metadata": {},
   "outputs": [],
   "source": []
  },
  {
   "cell_type": "code",
   "execution_count": null,
   "metadata": {},
   "outputs": [],
   "source": []
  },
  {
   "cell_type": "code",
   "execution_count": null,
   "metadata": {},
   "outputs": [],
   "source": []
  },
  {
   "cell_type": "code",
   "execution_count": null,
   "metadata": {},
   "outputs": [],
   "source": []
  },
  {
   "cell_type": "code",
   "execution_count": null,
   "metadata": {},
   "outputs": [],
   "source": []
  },
  {
   "cell_type": "code",
   "execution_count": null,
   "metadata": {},
   "outputs": [],
   "source": []
  },
  {
   "cell_type": "code",
   "execution_count": null,
   "metadata": {},
   "outputs": [],
   "source": []
  },
  {
   "cell_type": "code",
   "execution_count": null,
   "metadata": {},
   "outputs": [],
   "source": []
  },
  {
   "cell_type": "code",
   "execution_count": null,
   "metadata": {},
   "outputs": [],
   "source": []
  },
  {
   "cell_type": "code",
   "execution_count": null,
   "metadata": {},
   "outputs": [],
   "source": []
  },
  {
   "cell_type": "code",
   "execution_count": null,
   "metadata": {},
   "outputs": [],
   "source": []
  },
  {
   "cell_type": "code",
   "execution_count": null,
   "metadata": {},
   "outputs": [],
   "source": []
  },
  {
   "cell_type": "code",
   "execution_count": null,
   "metadata": {},
   "outputs": [],
   "source": []
  },
  {
   "cell_type": "code",
   "execution_count": null,
   "metadata": {},
   "outputs": [],
   "source": []
  },
  {
   "cell_type": "code",
   "execution_count": null,
   "metadata": {},
   "outputs": [],
   "source": []
  },
  {
   "cell_type": "code",
   "execution_count": null,
   "metadata": {},
   "outputs": [],
   "source": []
  },
  {
   "cell_type": "code",
   "execution_count": null,
   "metadata": {},
   "outputs": [],
   "source": []
  },
  {
   "cell_type": "code",
   "execution_count": null,
   "metadata": {},
   "outputs": [],
   "source": []
  },
  {
   "cell_type": "code",
   "execution_count": null,
   "metadata": {},
   "outputs": [],
   "source": []
  },
  {
   "cell_type": "code",
   "execution_count": null,
   "metadata": {},
   "outputs": [],
   "source": []
  },
  {
   "cell_type": "code",
   "execution_count": null,
   "metadata": {},
   "outputs": [],
   "source": []
  },
  {
   "cell_type": "code",
   "execution_count": null,
   "metadata": {},
   "outputs": [],
   "source": []
  },
  {
   "cell_type": "code",
   "execution_count": null,
   "metadata": {},
   "outputs": [],
   "source": []
  },
  {
   "cell_type": "code",
   "execution_count": null,
   "metadata": {},
   "outputs": [],
   "source": []
  },
  {
   "cell_type": "code",
   "execution_count": null,
   "metadata": {},
   "outputs": [],
   "source": []
  },
  {
   "cell_type": "code",
   "execution_count": null,
   "metadata": {},
   "outputs": [],
   "source": []
  },
  {
   "cell_type": "code",
   "execution_count": 218,
   "metadata": {},
   "outputs": [],
   "source": []
  },
  {
   "cell_type": "code",
   "execution_count": null,
   "metadata": {},
   "outputs": [],
   "source": []
  },
  {
   "cell_type": "code",
   "execution_count": null,
   "metadata": {},
   "outputs": [],
   "source": []
  },
  {
   "cell_type": "code",
   "execution_count": null,
   "metadata": {},
   "outputs": [],
   "source": []
  },
  {
   "cell_type": "code",
   "execution_count": null,
   "metadata": {},
   "outputs": [],
   "source": []
  },
  {
   "cell_type": "code",
   "execution_count": null,
   "metadata": {},
   "outputs": [],
   "source": []
  },
  {
   "cell_type": "code",
   "execution_count": null,
   "metadata": {},
   "outputs": [],
   "source": []
  },
  {
   "cell_type": "code",
   "execution_count": null,
   "metadata": {},
   "outputs": [],
   "source": []
  },
  {
   "cell_type": "code",
   "execution_count": null,
   "metadata": {},
   "outputs": [],
   "source": []
  },
  {
   "cell_type": "code",
   "execution_count": null,
   "metadata": {},
   "outputs": [],
   "source": []
  },
  {
   "cell_type": "code",
   "execution_count": null,
   "metadata": {},
   "outputs": [],
   "source": []
  },
  {
   "cell_type": "code",
   "execution_count": null,
   "metadata": {},
   "outputs": [],
   "source": []
  },
  {
   "cell_type": "code",
   "execution_count": null,
   "metadata": {},
   "outputs": [],
   "source": []
  },
  {
   "cell_type": "code",
   "execution_count": null,
   "metadata": {},
   "outputs": [],
   "source": []
  },
  {
   "cell_type": "code",
   "execution_count": null,
   "metadata": {},
   "outputs": [],
   "source": []
  },
  {
   "cell_type": "code",
   "execution_count": null,
   "metadata": {},
   "outputs": [],
   "source": []
  },
  {
   "cell_type": "code",
   "execution_count": null,
   "metadata": {},
   "outputs": [],
   "source": []
  },
  {
   "cell_type": "code",
   "execution_count": null,
   "metadata": {},
   "outputs": [],
   "source": []
  },
  {
   "cell_type": "code",
   "execution_count": null,
   "metadata": {},
   "outputs": [],
   "source": []
  },
  {
   "cell_type": "code",
   "execution_count": null,
   "metadata": {},
   "outputs": [],
   "source": []
  },
  {
   "cell_type": "code",
   "execution_count": null,
   "metadata": {},
   "outputs": [],
   "source": []
  },
  {
   "cell_type": "code",
   "execution_count": null,
   "metadata": {},
   "outputs": [],
   "source": []
  },
  {
   "cell_type": "code",
   "execution_count": null,
   "metadata": {},
   "outputs": [],
   "source": []
  },
  {
   "cell_type": "code",
   "execution_count": null,
   "metadata": {},
   "outputs": [],
   "source": []
  },
  {
   "cell_type": "code",
   "execution_count": null,
   "metadata": {},
   "outputs": [],
   "source": []
  },
  {
   "cell_type": "code",
   "execution_count": null,
   "metadata": {},
   "outputs": [],
   "source": []
  },
  {
   "cell_type": "code",
   "execution_count": null,
   "metadata": {},
   "outputs": [],
   "source": []
  },
  {
   "cell_type": "code",
   "execution_count": null,
   "metadata": {},
   "outputs": [],
   "source": []
  },
  {
   "cell_type": "code",
   "execution_count": null,
   "metadata": {},
   "outputs": [],
   "source": []
  },
  {
   "cell_type": "code",
   "execution_count": null,
   "metadata": {},
   "outputs": [],
   "source": []
  },
  {
   "cell_type": "code",
   "execution_count": null,
   "metadata": {},
   "outputs": [],
   "source": []
  },
  {
   "cell_type": "code",
   "execution_count": null,
   "metadata": {},
   "outputs": [],
   "source": []
  },
  {
   "cell_type": "code",
   "execution_count": 300,
   "metadata": {},
   "outputs": [],
   "source": []
  },
  {
   "cell_type": "code",
   "execution_count": null,
   "metadata": {},
   "outputs": [],
   "source": []
  },
  {
   "cell_type": "code",
   "execution_count": null,
   "metadata": {},
   "outputs": [],
   "source": []
  },
  {
   "cell_type": "code",
   "execution_count": null,
   "metadata": {},
   "outputs": [],
   "source": []
  },
  {
   "cell_type": "code",
   "execution_count": null,
   "metadata": {},
   "outputs": [],
   "source": []
  },
  {
   "cell_type": "code",
   "execution_count": null,
   "metadata": {},
   "outputs": [],
   "source": []
  },
  {
   "cell_type": "code",
   "execution_count": null,
   "metadata": {},
   "outputs": [],
   "source": []
  },
  {
   "cell_type": "code",
   "execution_count": null,
   "metadata": {},
   "outputs": [],
   "source": []
  },
  {
   "cell_type": "code",
   "execution_count": null,
   "metadata": {},
   "outputs": [],
   "source": []
  },
  {
   "cell_type": "code",
   "execution_count": null,
   "metadata": {},
   "outputs": [],
   "source": []
  },
  {
   "cell_type": "code",
   "execution_count": null,
   "metadata": {},
   "outputs": [],
   "source": []
  },
  {
   "cell_type": "code",
   "execution_count": null,
   "metadata": {},
   "outputs": [],
   "source": []
  },
  {
   "cell_type": "code",
   "execution_count": null,
   "metadata": {},
   "outputs": [],
   "source": []
  },
  {
   "cell_type": "code",
   "execution_count": 127,
   "metadata": {},
   "outputs": [],
   "source": []
  },
  {
   "cell_type": "code",
   "execution_count": null,
   "metadata": {},
   "outputs": [],
   "source": []
  },
  {
   "cell_type": "code",
   "execution_count": null,
   "metadata": {},
   "outputs": [],
   "source": []
  },
  {
   "cell_type": "code",
   "execution_count": null,
   "metadata": {},
   "outputs": [],
   "source": []
  },
  {
   "cell_type": "code",
   "execution_count": null,
   "metadata": {},
   "outputs": [],
   "source": []
  },
  {
   "cell_type": "code",
   "execution_count": null,
   "metadata": {},
   "outputs": [],
   "source": []
  },
  {
   "cell_type": "code",
   "execution_count": null,
   "metadata": {},
   "outputs": [],
   "source": []
  },
  {
   "cell_type": "code",
   "execution_count": null,
   "metadata": {},
   "outputs": [],
   "source": []
  },
  {
   "cell_type": "code",
   "execution_count": null,
   "metadata": {},
   "outputs": [],
   "source": []
  },
  {
   "cell_type": "code",
   "execution_count": null,
   "metadata": {},
   "outputs": [],
   "source": []
  },
  {
   "cell_type": "code",
   "execution_count": null,
   "metadata": {},
   "outputs": [],
   "source": []
  },
  {
   "cell_type": "code",
   "execution_count": null,
   "metadata": {},
   "outputs": [],
   "source": []
  },
  {
   "cell_type": "code",
   "execution_count": null,
   "metadata": {},
   "outputs": [],
   "source": []
  },
  {
   "cell_type": "code",
   "execution_count": null,
   "metadata": {},
   "outputs": [],
   "source": []
  },
  {
   "cell_type": "code",
   "execution_count": null,
   "metadata": {},
   "outputs": [],
   "source": []
  },
  {
   "cell_type": "code",
   "execution_count": null,
   "metadata": {},
   "outputs": [],
   "source": []
  },
  {
   "cell_type": "code",
   "execution_count": null,
   "metadata": {},
   "outputs": [],
   "source": []
  },
  {
   "cell_type": "code",
   "execution_count": null,
   "metadata": {},
   "outputs": [],
   "source": []
  },
  {
   "cell_type": "code",
   "execution_count": null,
   "metadata": {},
   "outputs": [],
   "source": []
  },
  {
   "cell_type": "code",
   "execution_count": null,
   "metadata": {},
   "outputs": [],
   "source": []
  },
  {
   "cell_type": "code",
   "execution_count": null,
   "metadata": {},
   "outputs": [],
   "source": []
  },
  {
   "cell_type": "code",
   "execution_count": null,
   "metadata": {},
   "outputs": [],
   "source": []
  },
  {
   "cell_type": "code",
   "execution_count": null,
   "metadata": {},
   "outputs": [],
   "source": []
  },
  {
   "cell_type": "code",
   "execution_count": null,
   "metadata": {},
   "outputs": [],
   "source": []
  },
  {
   "cell_type": "code",
   "execution_count": null,
   "metadata": {},
   "outputs": [],
   "source": []
  },
  {
   "cell_type": "code",
   "execution_count": null,
   "metadata": {},
   "outputs": [],
   "source": []
  },
  {
   "cell_type": "code",
   "execution_count": null,
   "metadata": {},
   "outputs": [],
   "source": []
  },
  {
   "cell_type": "code",
   "execution_count": null,
   "metadata": {},
   "outputs": [],
   "source": []
  },
  {
   "cell_type": "code",
   "execution_count": null,
   "metadata": {},
   "outputs": [],
   "source": []
  },
  {
   "cell_type": "code",
   "execution_count": null,
   "metadata": {},
   "outputs": [],
   "source": []
  },
  {
   "cell_type": "code",
   "execution_count": null,
   "metadata": {},
   "outputs": [],
   "source": []
  },
  {
   "cell_type": "code",
   "execution_count": null,
   "metadata": {},
   "outputs": [],
   "source": []
  },
  {
   "cell_type": "code",
   "execution_count": null,
   "metadata": {},
   "outputs": [],
   "source": []
  },
  {
   "cell_type": "code",
   "execution_count": null,
   "metadata": {},
   "outputs": [],
   "source": []
  },
  {
   "cell_type": "code",
   "execution_count": null,
   "metadata": {},
   "outputs": [],
   "source": []
  },
  {
   "cell_type": "code",
   "execution_count": 173,
   "metadata": {},
   "outputs": [],
   "source": []
  },
  {
   "cell_type": "code",
   "execution_count": 225,
   "metadata": {},
   "outputs": [],
   "source": []
  },
  {
   "cell_type": "code",
   "execution_count": 250,
   "metadata": {},
   "outputs": [],
   "source": []
  },
  {
   "cell_type": "code",
   "execution_count": null,
   "metadata": {},
   "outputs": [],
   "source": []
  },
  {
   "cell_type": "code",
   "execution_count": null,
   "metadata": {},
   "outputs": [],
   "source": []
  },
  {
   "cell_type": "code",
   "execution_count": null,
   "metadata": {},
   "outputs": [],
   "source": []
  },
  {
   "cell_type": "code",
   "execution_count": null,
   "metadata": {},
   "outputs": [],
   "source": []
  },
  {
   "cell_type": "code",
   "execution_count": 246,
   "metadata": {},
   "outputs": [],
   "source": []
  },
  {
   "cell_type": "code",
   "execution_count": null,
   "metadata": {},
   "outputs": [],
   "source": []
  },
  {
   "cell_type": "code",
   "execution_count": null,
   "metadata": {},
   "outputs": [],
   "source": []
  },
  {
   "cell_type": "code",
   "execution_count": null,
   "metadata": {},
   "outputs": [],
   "source": []
  },
  {
   "cell_type": "code",
   "execution_count": null,
   "metadata": {},
   "outputs": [],
   "source": []
  },
  {
   "cell_type": "code",
   "execution_count": null,
   "metadata": {},
   "outputs": [],
   "source": []
  },
  {
   "cell_type": "code",
   "execution_count": null,
   "metadata": {},
   "outputs": [],
   "source": []
  },
  {
   "cell_type": "code",
   "execution_count": null,
   "metadata": {},
   "outputs": [],
   "source": []
  },
  {
   "cell_type": "code",
   "execution_count": null,
   "metadata": {},
   "outputs": [],
   "source": []
  },
  {
   "cell_type": "code",
   "execution_count": null,
   "metadata": {},
   "outputs": [],
   "source": []
  },
  {
   "cell_type": "code",
   "execution_count": null,
   "metadata": {},
   "outputs": [],
   "source": []
  },
  {
   "cell_type": "code",
   "execution_count": null,
   "metadata": {},
   "outputs": [],
   "source": []
  },
  {
   "cell_type": "code",
   "execution_count": null,
   "metadata": {},
   "outputs": [],
   "source": []
  },
  {
   "cell_type": "code",
   "execution_count": null,
   "metadata": {},
   "outputs": [],
   "source": []
  },
  {
   "cell_type": "code",
   "execution_count": null,
   "metadata": {},
   "outputs": [],
   "source": []
  },
  {
   "cell_type": "code",
   "execution_count": null,
   "metadata": {},
   "outputs": [],
   "source": []
  },
  {
   "cell_type": "code",
   "execution_count": null,
   "metadata": {},
   "outputs": [],
   "source": []
  },
  {
   "cell_type": "code",
   "execution_count": null,
   "metadata": {},
   "outputs": [],
   "source": []
  },
  {
   "cell_type": "code",
   "execution_count": null,
   "metadata": {},
   "outputs": [],
   "source": []
  },
  {
   "cell_type": "code",
   "execution_count": null,
   "metadata": {},
   "outputs": [],
   "source": []
  },
  {
   "cell_type": "code",
   "execution_count": null,
   "metadata": {},
   "outputs": [],
   "source": []
  },
  {
   "cell_type": "code",
   "execution_count": null,
   "metadata": {},
   "outputs": [],
   "source": []
  },
  {
   "cell_type": "code",
   "execution_count": null,
   "metadata": {},
   "outputs": [],
   "source": []
  },
  {
   "cell_type": "code",
   "execution_count": null,
   "metadata": {},
   "outputs": [],
   "source": []
  },
  {
   "cell_type": "code",
   "execution_count": null,
   "metadata": {},
   "outputs": [],
   "source": []
  },
  {
   "cell_type": "code",
   "execution_count": null,
   "metadata": {},
   "outputs": [],
   "source": []
  },
  {
   "cell_type": "code",
   "execution_count": null,
   "metadata": {},
   "outputs": [],
   "source": []
  },
  {
   "cell_type": "code",
   "execution_count": null,
   "metadata": {},
   "outputs": [],
   "source": []
  },
  {
   "cell_type": "code",
   "execution_count": null,
   "metadata": {},
   "outputs": [],
   "source": []
  },
  {
   "cell_type": "code",
   "execution_count": 199,
   "metadata": {},
   "outputs": [],
   "source": []
  },
  {
   "cell_type": "code",
   "execution_count": null,
   "metadata": {},
   "outputs": [],
   "source": []
  },
  {
   "cell_type": "code",
   "execution_count": null,
   "metadata": {},
   "outputs": [],
   "source": []
  },
  {
   "cell_type": "code",
   "execution_count": null,
   "metadata": {},
   "outputs": [],
   "source": []
  },
  {
   "cell_type": "code",
   "execution_count": null,
   "metadata": {},
   "outputs": [],
   "source": []
  },
  {
   "cell_type": "code",
   "execution_count": null,
   "metadata": {},
   "outputs": [],
   "source": []
  },
  {
   "cell_type": "code",
   "execution_count": null,
   "metadata": {},
   "outputs": [],
   "source": []
  },
  {
   "cell_type": "code",
   "execution_count": null,
   "metadata": {},
   "outputs": [],
   "source": []
  },
  {
   "cell_type": "code",
   "execution_count": null,
   "metadata": {},
   "outputs": [],
   "source": []
  },
  {
   "cell_type": "code",
   "execution_count": null,
   "metadata": {},
   "outputs": [],
   "source": []
  },
  {
   "cell_type": "code",
   "execution_count": null,
   "metadata": {},
   "outputs": [],
   "source": []
  },
  {
   "cell_type": "code",
   "execution_count": null,
   "metadata": {},
   "outputs": [],
   "source": []
  },
  {
   "cell_type": "code",
   "execution_count": null,
   "metadata": {},
   "outputs": [],
   "source": []
  },
  {
   "cell_type": "code",
   "execution_count": null,
   "metadata": {},
   "outputs": [],
   "source": []
  },
  {
   "cell_type": "code",
   "execution_count": null,
   "metadata": {},
   "outputs": [],
   "source": []
  },
  {
   "cell_type": "code",
   "execution_count": null,
   "metadata": {},
   "outputs": [],
   "source": []
  },
  {
   "cell_type": "code",
   "execution_count": null,
   "metadata": {},
   "outputs": [],
   "source": []
  },
  {
   "cell_type": "code",
   "execution_count": null,
   "metadata": {},
   "outputs": [],
   "source": []
  },
  {
   "cell_type": "code",
   "execution_count": null,
   "metadata": {},
   "outputs": [],
   "source": []
  },
  {
   "cell_type": "code",
   "execution_count": null,
   "metadata": {},
   "outputs": [],
   "source": []
  },
  {
   "cell_type": "code",
   "execution_count": null,
   "metadata": {},
   "outputs": [],
   "source": []
  },
  {
   "cell_type": "code",
   "execution_count": null,
   "metadata": {},
   "outputs": [],
   "source": []
  },
  {
   "cell_type": "code",
   "execution_count": null,
   "metadata": {},
   "outputs": [],
   "source": []
  },
  {
   "cell_type": "code",
   "execution_count": null,
   "metadata": {},
   "outputs": [],
   "source": []
  },
  {
   "cell_type": "code",
   "execution_count": null,
   "metadata": {},
   "outputs": [],
   "source": []
  },
  {
   "cell_type": "code",
   "execution_count": null,
   "metadata": {},
   "outputs": [],
   "source": []
  },
  {
   "cell_type": "code",
   "execution_count": null,
   "metadata": {},
   "outputs": [],
   "source": []
  },
  {
   "cell_type": "code",
   "execution_count": null,
   "metadata": {},
   "outputs": [],
   "source": []
  },
  {
   "cell_type": "code",
   "execution_count": null,
   "metadata": {},
   "outputs": [],
   "source": []
  },
  {
   "cell_type": "code",
   "execution_count": null,
   "metadata": {},
   "outputs": [],
   "source": []
  },
  {
   "cell_type": "code",
   "execution_count": null,
   "metadata": {},
   "outputs": [],
   "source": []
  },
  {
   "cell_type": "code",
   "execution_count": null,
   "metadata": {},
   "outputs": [],
   "source": []
  },
  {
   "cell_type": "code",
   "execution_count": null,
   "metadata": {},
   "outputs": [],
   "source": []
  },
  {
   "cell_type": "code",
   "execution_count": null,
   "metadata": {},
   "outputs": [],
   "source": []
  },
  {
   "cell_type": "code",
   "execution_count": null,
   "metadata": {},
   "outputs": [],
   "source": []
  },
  {
   "cell_type": "code",
   "execution_count": null,
   "metadata": {},
   "outputs": [],
   "source": []
  },
  {
   "cell_type": "code",
   "execution_count": null,
   "metadata": {},
   "outputs": [],
   "source": []
  },
  {
   "cell_type": "code",
   "execution_count": null,
   "metadata": {},
   "outputs": [],
   "source": []
  },
  {
   "cell_type": "code",
   "execution_count": null,
   "metadata": {},
   "outputs": [],
   "source": []
  },
  {
   "cell_type": "code",
   "execution_count": null,
   "metadata": {},
   "outputs": [],
   "source": []
  },
  {
   "cell_type": "code",
   "execution_count": null,
   "metadata": {},
   "outputs": [],
   "source": []
  },
  {
   "cell_type": "code",
   "execution_count": null,
   "metadata": {},
   "outputs": [],
   "source": []
  },
  {
   "cell_type": "code",
   "execution_count": null,
   "metadata": {},
   "outputs": [],
   "source": []
  },
  {
   "cell_type": "code",
   "execution_count": null,
   "metadata": {},
   "outputs": [],
   "source": []
  },
  {
   "cell_type": "code",
   "execution_count": 111,
   "metadata": {},
   "outputs": [],
   "source": []
  },
  {
   "cell_type": "code",
   "execution_count": null,
   "metadata": {},
   "outputs": [],
   "source": []
  },
  {
   "cell_type": "code",
   "execution_count": null,
   "metadata": {},
   "outputs": [],
   "source": []
  },
  {
   "cell_type": "code",
   "execution_count": null,
   "metadata": {},
   "outputs": [],
   "source": []
  },
  {
   "cell_type": "code",
   "execution_count": null,
   "metadata": {},
   "outputs": [],
   "source": []
  },
  {
   "cell_type": "code",
   "execution_count": null,
   "metadata": {},
   "outputs": [],
   "source": []
  },
  {
   "cell_type": "code",
   "execution_count": null,
   "metadata": {},
   "outputs": [],
   "source": []
  },
  {
   "cell_type": "code",
   "execution_count": null,
   "metadata": {},
   "outputs": [],
   "source": []
  },
  {
   "cell_type": "code",
   "execution_count": null,
   "metadata": {},
   "outputs": [],
   "source": []
  },
  {
   "cell_type": "code",
   "execution_count": null,
   "metadata": {},
   "outputs": [],
   "source": []
  },
  {
   "cell_type": "code",
   "execution_count": null,
   "metadata": {},
   "outputs": [],
   "source": []
  },
  {
   "cell_type": "code",
   "execution_count": null,
   "metadata": {},
   "outputs": [],
   "source": []
  },
  {
   "cell_type": "code",
   "execution_count": null,
   "metadata": {},
   "outputs": [],
   "source": []
  },
  {
   "cell_type": "code",
   "execution_count": null,
   "metadata": {},
   "outputs": [],
   "source": []
  },
  {
   "cell_type": "code",
   "execution_count": null,
   "metadata": {},
   "outputs": [],
   "source": []
  },
  {
   "cell_type": "code",
   "execution_count": null,
   "metadata": {},
   "outputs": [],
   "source": []
  },
  {
   "cell_type": "code",
   "execution_count": null,
   "metadata": {},
   "outputs": [],
   "source": []
  },
  {
   "cell_type": "code",
   "execution_count": null,
   "metadata": {},
   "outputs": [],
   "source": []
  },
  {
   "cell_type": "code",
   "execution_count": null,
   "metadata": {},
   "outputs": [],
   "source": []
  },
  {
   "cell_type": "code",
   "execution_count": null,
   "metadata": {},
   "outputs": [],
   "source": []
  },
  {
   "cell_type": "code",
   "execution_count": null,
   "metadata": {},
   "outputs": [],
   "source": []
  },
  {
   "cell_type": "code",
   "execution_count": null,
   "metadata": {},
   "outputs": [],
   "source": []
  },
  {
   "cell_type": "code",
   "execution_count": null,
   "metadata": {},
   "outputs": [],
   "source": []
  },
  {
   "cell_type": "code",
   "execution_count": null,
   "metadata": {},
   "outputs": [],
   "source": []
  },
  {
   "cell_type": "code",
   "execution_count": null,
   "metadata": {},
   "outputs": [],
   "source": []
  },
  {
   "cell_type": "code",
   "execution_count": null,
   "metadata": {},
   "outputs": [],
   "source": []
  },
  {
   "cell_type": "code",
   "execution_count": null,
   "metadata": {},
   "outputs": [],
   "source": []
  },
  {
   "cell_type": "code",
   "execution_count": null,
   "metadata": {},
   "outputs": [],
   "source": []
  },
  {
   "cell_type": "code",
   "execution_count": null,
   "metadata": {},
   "outputs": [],
   "source": []
  },
  {
   "cell_type": "code",
   "execution_count": null,
   "metadata": {},
   "outputs": [],
   "source": []
  },
  {
   "cell_type": "code",
   "execution_count": null,
   "metadata": {},
   "outputs": [],
   "source": []
  },
  {
   "cell_type": "code",
   "execution_count": null,
   "metadata": {},
   "outputs": [],
   "source": []
  },
  {
   "cell_type": "code",
   "execution_count": null,
   "metadata": {},
   "outputs": [],
   "source": []
  },
  {
   "cell_type": "code",
   "execution_count": null,
   "metadata": {},
   "outputs": [],
   "source": []
  },
  {
   "cell_type": "code",
   "execution_count": null,
   "metadata": {},
   "outputs": [],
   "source": []
  },
  {
   "cell_type": "code",
   "execution_count": null,
   "metadata": {},
   "outputs": [],
   "source": []
  },
  {
   "cell_type": "code",
   "execution_count": null,
   "metadata": {},
   "outputs": [],
   "source": []
  },
  {
   "cell_type": "code",
   "execution_count": 29,
   "metadata": {},
   "outputs": [],
   "source": [
    "\n"
   ]
  },
  {
   "cell_type": "code",
   "execution_count": null,
   "metadata": {},
   "outputs": [],
   "source": []
  },
  {
   "cell_type": "code",
   "execution_count": null,
   "metadata": {},
   "outputs": [],
   "source": []
  },
  {
   "cell_type": "code",
   "execution_count": null,
   "metadata": {},
   "outputs": [],
   "source": []
  },
  {
   "cell_type": "code",
   "execution_count": null,
   "metadata": {},
   "outputs": [],
   "source": []
  },
  {
   "cell_type": "code",
   "execution_count": null,
   "metadata": {},
   "outputs": [],
   "source": []
  },
  {
   "cell_type": "code",
   "execution_count": null,
   "metadata": {},
   "outputs": [],
   "source": []
  },
  {
   "cell_type": "code",
   "execution_count": null,
   "metadata": {},
   "outputs": [],
   "source": []
  },
  {
   "cell_type": "code",
   "execution_count": null,
   "metadata": {},
   "outputs": [],
   "source": []
  },
  {
   "cell_type": "code",
   "execution_count": null,
   "metadata": {},
   "outputs": [],
   "source": []
  },
  {
   "cell_type": "code",
   "execution_count": null,
   "metadata": {},
   "outputs": [],
   "source": []
  },
  {
   "cell_type": "code",
   "execution_count": null,
   "metadata": {},
   "outputs": [],
   "source": []
  },
  {
   "cell_type": "code",
   "execution_count": null,
   "metadata": {},
   "outputs": [],
   "source": []
  },
  {
   "cell_type": "code",
   "execution_count": 15,
   "metadata": {},
   "outputs": [],
   "source": []
  },
  {
   "cell_type": "code",
   "execution_count": null,
   "metadata": {},
   "outputs": [],
   "source": []
  },
  {
   "cell_type": "code",
   "execution_count": null,
   "metadata": {},
   "outputs": [],
   "source": []
  },
  {
   "cell_type": "code",
   "execution_count": 267,
   "metadata": {},
   "outputs": [],
   "source": []
  },
  {
   "cell_type": "code",
   "execution_count": 269,
   "metadata": {},
   "outputs": [],
   "source": []
  },
  {
   "cell_type": "code",
   "execution_count": 271,
   "metadata": {},
   "outputs": [],
   "source": []
  },
  {
   "cell_type": "code",
   "execution_count": null,
   "metadata": {},
   "outputs": [],
   "source": []
  },
  {
   "cell_type": "code",
   "execution_count": null,
   "metadata": {},
   "outputs": [],
   "source": []
  },
  {
   "cell_type": "code",
   "execution_count": null,
   "metadata": {},
   "outputs": [],
   "source": []
  },
  {
   "cell_type": "code",
   "execution_count": null,
   "metadata": {},
   "outputs": [],
   "source": []
  },
  {
   "cell_type": "code",
   "execution_count": null,
   "metadata": {},
   "outputs": [],
   "source": []
  },
  {
   "cell_type": "code",
   "execution_count": null,
   "metadata": {},
   "outputs": [],
   "source": []
  },
  {
   "cell_type": "code",
   "execution_count": null,
   "metadata": {},
   "outputs": [],
   "source": []
  },
  {
   "cell_type": "code",
   "execution_count": null,
   "metadata": {},
   "outputs": [],
   "source": []
  },
  {
   "cell_type": "code",
   "execution_count": null,
   "metadata": {},
   "outputs": [],
   "source": []
  },
  {
   "cell_type": "code",
   "execution_count": null,
   "metadata": {},
   "outputs": [],
   "source": []
  },
  {
   "cell_type": "code",
   "execution_count": null,
   "metadata": {},
   "outputs": [],
   "source": []
  },
  {
   "cell_type": "code",
   "execution_count": null,
   "metadata": {},
   "outputs": [],
   "source": []
  },
  {
   "cell_type": "code",
   "execution_count": null,
   "metadata": {},
   "outputs": [],
   "source": []
  },
  {
   "cell_type": "code",
   "execution_count": null,
   "metadata": {},
   "outputs": [],
   "source": []
  },
  {
   "cell_type": "code",
   "execution_count": null,
   "metadata": {},
   "outputs": [],
   "source": []
  },
  {
   "cell_type": "code",
   "execution_count": null,
   "metadata": {},
   "outputs": [],
   "source": []
  },
  {
   "cell_type": "code",
   "execution_count": null,
   "metadata": {},
   "outputs": [],
   "source": []
  },
  {
   "cell_type": "code",
   "execution_count": null,
   "metadata": {},
   "outputs": [],
   "source": []
  },
  {
   "cell_type": "code",
   "execution_count": null,
   "metadata": {},
   "outputs": [],
   "source": []
  },
  {
   "cell_type": "code",
   "execution_count": null,
   "metadata": {},
   "outputs": [],
   "source": []
  },
  {
   "cell_type": "code",
   "execution_count": null,
   "metadata": {},
   "outputs": [],
   "source": []
  },
  {
   "cell_type": "code",
   "execution_count": null,
   "metadata": {},
   "outputs": [],
   "source": []
  },
  {
   "cell_type": "code",
   "execution_count": null,
   "metadata": {},
   "outputs": [],
   "source": []
  },
  {
   "cell_type": "code",
   "execution_count": null,
   "metadata": {},
   "outputs": [],
   "source": []
  },
  {
   "cell_type": "code",
   "execution_count": null,
   "metadata": {},
   "outputs": [],
   "source": []
  },
  {
   "cell_type": "code",
   "execution_count": null,
   "metadata": {},
   "outputs": [],
   "source": []
  },
  {
   "cell_type": "code",
   "execution_count": null,
   "metadata": {},
   "outputs": [],
   "source": []
  },
  {
   "cell_type": "code",
   "execution_count": null,
   "metadata": {},
   "outputs": [],
   "source": []
  },
  {
   "cell_type": "code",
   "execution_count": null,
   "metadata": {},
   "outputs": [],
   "source": []
  },
  {
   "cell_type": "code",
   "execution_count": null,
   "metadata": {},
   "outputs": [],
   "source": []
  },
  {
   "cell_type": "code",
   "execution_count": null,
   "metadata": {},
   "outputs": [],
   "source": []
  },
  {
   "cell_type": "code",
   "execution_count": null,
   "metadata": {},
   "outputs": [],
   "source": []
  },
  {
   "cell_type": "code",
   "execution_count": null,
   "metadata": {},
   "outputs": [],
   "source": []
  },
  {
   "cell_type": "code",
   "execution_count": null,
   "metadata": {},
   "outputs": [],
   "source": []
  },
  {
   "cell_type": "code",
   "execution_count": null,
   "metadata": {},
   "outputs": [],
   "source": []
  },
  {
   "cell_type": "code",
   "execution_count": null,
   "metadata": {},
   "outputs": [],
   "source": []
  },
  {
   "cell_type": "code",
   "execution_count": null,
   "metadata": {},
   "outputs": [],
   "source": []
  },
  {
   "cell_type": "code",
   "execution_count": null,
   "metadata": {},
   "outputs": [],
   "source": []
  },
  {
   "cell_type": "code",
   "execution_count": null,
   "metadata": {},
   "outputs": [],
   "source": []
  },
  {
   "cell_type": "code",
   "execution_count": null,
   "metadata": {},
   "outputs": [],
   "source": []
  },
  {
   "cell_type": "code",
   "execution_count": null,
   "metadata": {},
   "outputs": [],
   "source": []
  },
  {
   "cell_type": "code",
   "execution_count": null,
   "metadata": {},
   "outputs": [],
   "source": []
  },
  {
   "cell_type": "code",
   "execution_count": null,
   "metadata": {},
   "outputs": [],
   "source": []
  },
  {
   "cell_type": "code",
   "execution_count": null,
   "metadata": {},
   "outputs": [],
   "source": []
  },
  {
   "cell_type": "code",
   "execution_count": null,
   "metadata": {},
   "outputs": [],
   "source": []
  },
  {
   "cell_type": "code",
   "execution_count": null,
   "metadata": {},
   "outputs": [],
   "source": []
  },
  {
   "cell_type": "code",
   "execution_count": null,
   "metadata": {},
   "outputs": [],
   "source": []
  },
  {
   "cell_type": "code",
   "execution_count": null,
   "metadata": {},
   "outputs": [],
   "source": []
  },
  {
   "cell_type": "code",
   "execution_count": null,
   "metadata": {},
   "outputs": [],
   "source": []
  },
  {
   "cell_type": "code",
   "execution_count": null,
   "metadata": {},
   "outputs": [],
   "source": []
  },
  {
   "cell_type": "code",
   "execution_count": null,
   "metadata": {},
   "outputs": [],
   "source": []
  },
  {
   "cell_type": "code",
   "execution_count": null,
   "metadata": {},
   "outputs": [],
   "source": []
  },
  {
   "cell_type": "code",
   "execution_count": null,
   "metadata": {},
   "outputs": [],
   "source": []
  },
  {
   "cell_type": "code",
   "execution_count": null,
   "metadata": {},
   "outputs": [],
   "source": []
  },
  {
   "cell_type": "code",
   "execution_count": null,
   "metadata": {},
   "outputs": [],
   "source": []
  },
  {
   "cell_type": "code",
   "execution_count": null,
   "metadata": {},
   "outputs": [],
   "source": []
  },
  {
   "cell_type": "code",
   "execution_count": null,
   "metadata": {},
   "outputs": [],
   "source": []
  },
  {
   "cell_type": "code",
   "execution_count": null,
   "metadata": {},
   "outputs": [],
   "source": []
  },
  {
   "cell_type": "code",
   "execution_count": null,
   "metadata": {},
   "outputs": [],
   "source": []
  },
  {
   "cell_type": "code",
   "execution_count": null,
   "metadata": {},
   "outputs": [],
   "source": []
  },
  {
   "cell_type": "code",
   "execution_count": null,
   "metadata": {},
   "outputs": [],
   "source": []
  },
  {
   "cell_type": "code",
   "execution_count": null,
   "metadata": {},
   "outputs": [],
   "source": []
  },
  {
   "cell_type": "code",
   "execution_count": null,
   "metadata": {},
   "outputs": [],
   "source": []
  },
  {
   "cell_type": "code",
   "execution_count": null,
   "metadata": {},
   "outputs": [],
   "source": []
  },
  {
   "cell_type": "code",
   "execution_count": null,
   "metadata": {},
   "outputs": [],
   "source": []
  },
  {
   "cell_type": "code",
   "execution_count": null,
   "metadata": {},
   "outputs": [],
   "source": []
  },
  {
   "cell_type": "code",
   "execution_count": null,
   "metadata": {},
   "outputs": [],
   "source": []
  },
  {
   "cell_type": "code",
   "execution_count": null,
   "metadata": {},
   "outputs": [],
   "source": []
  },
  {
   "cell_type": "code",
   "execution_count": null,
   "metadata": {},
   "outputs": [],
   "source": []
  },
  {
   "cell_type": "code",
   "execution_count": null,
   "metadata": {},
   "outputs": [],
   "source": []
  },
  {
   "cell_type": "code",
   "execution_count": null,
   "metadata": {},
   "outputs": [],
   "source": []
  },
  {
   "cell_type": "code",
   "execution_count": null,
   "metadata": {},
   "outputs": [],
   "source": []
  },
  {
   "cell_type": "code",
   "execution_count": null,
   "metadata": {},
   "outputs": [],
   "source": []
  },
  {
   "cell_type": "code",
   "execution_count": null,
   "metadata": {},
   "outputs": [],
   "source": []
  },
  {
   "cell_type": "code",
   "execution_count": null,
   "metadata": {},
   "outputs": [],
   "source": []
  },
  {
   "cell_type": "code",
   "execution_count": null,
   "metadata": {},
   "outputs": [],
   "source": []
  },
  {
   "cell_type": "code",
   "execution_count": null,
   "metadata": {},
   "outputs": [],
   "source": []
  },
  {
   "cell_type": "code",
   "execution_count": null,
   "metadata": {},
   "outputs": [],
   "source": []
  },
  {
   "cell_type": "code",
   "execution_count": null,
   "metadata": {},
   "outputs": [],
   "source": []
  },
  {
   "cell_type": "code",
   "execution_count": null,
   "metadata": {},
   "outputs": [],
   "source": []
  },
  {
   "cell_type": "code",
   "execution_count": null,
   "metadata": {},
   "outputs": [],
   "source": []
  },
  {
   "cell_type": "code",
   "execution_count": null,
   "metadata": {},
   "outputs": [],
   "source": []
  },
  {
   "cell_type": "code",
   "execution_count": null,
   "metadata": {},
   "outputs": [],
   "source": []
  },
  {
   "cell_type": "code",
   "execution_count": null,
   "metadata": {},
   "outputs": [],
   "source": []
  },
  {
   "cell_type": "code",
   "execution_count": null,
   "metadata": {},
   "outputs": [],
   "source": []
  },
  {
   "cell_type": "code",
   "execution_count": null,
   "metadata": {},
   "outputs": [],
   "source": []
  },
  {
   "cell_type": "code",
   "execution_count": null,
   "metadata": {},
   "outputs": [],
   "source": []
  },
  {
   "cell_type": "code",
   "execution_count": null,
   "metadata": {},
   "outputs": [],
   "source": []
  },
  {
   "cell_type": "code",
   "execution_count": null,
   "metadata": {},
   "outputs": [],
   "source": []
  },
  {
   "cell_type": "code",
   "execution_count": null,
   "metadata": {},
   "outputs": [],
   "source": []
  },
  {
   "cell_type": "code",
   "execution_count": null,
   "metadata": {},
   "outputs": [],
   "source": []
  },
  {
   "cell_type": "code",
   "execution_count": null,
   "metadata": {},
   "outputs": [],
   "source": []
  },
  {
   "cell_type": "code",
   "execution_count": null,
   "metadata": {},
   "outputs": [],
   "source": []
  },
  {
   "cell_type": "code",
   "execution_count": null,
   "metadata": {},
   "outputs": [],
   "source": []
  },
  {
   "cell_type": "code",
   "execution_count": null,
   "metadata": {},
   "outputs": [],
   "source": []
  },
  {
   "cell_type": "code",
   "execution_count": null,
   "metadata": {},
   "outputs": [],
   "source": []
  },
  {
   "cell_type": "code",
   "execution_count": null,
   "metadata": {},
   "outputs": [],
   "source": []
  },
  {
   "cell_type": "code",
   "execution_count": null,
   "metadata": {},
   "outputs": [],
   "source": []
  },
  {
   "cell_type": "code",
   "execution_count": null,
   "metadata": {},
   "outputs": [],
   "source": []
  },
  {
   "cell_type": "code",
   "execution_count": null,
   "metadata": {},
   "outputs": [],
   "source": []
  },
  {
   "cell_type": "code",
   "execution_count": null,
   "metadata": {},
   "outputs": [],
   "source": []
  },
  {
   "cell_type": "code",
   "execution_count": null,
   "metadata": {},
   "outputs": [],
   "source": []
  },
  {
   "cell_type": "code",
   "execution_count": null,
   "metadata": {},
   "outputs": [],
   "source": []
  },
  {
   "cell_type": "code",
   "execution_count": null,
   "metadata": {},
   "outputs": [],
   "source": []
  },
  {
   "cell_type": "code",
   "execution_count": null,
   "metadata": {},
   "outputs": [],
   "source": []
  },
  {
   "cell_type": "code",
   "execution_count": null,
   "metadata": {},
   "outputs": [],
   "source": []
  },
  {
   "cell_type": "code",
   "execution_count": null,
   "metadata": {},
   "outputs": [],
   "source": []
  },
  {
   "cell_type": "code",
   "execution_count": null,
   "metadata": {},
   "outputs": [],
   "source": []
  },
  {
   "cell_type": "code",
   "execution_count": null,
   "metadata": {},
   "outputs": [],
   "source": []
  },
  {
   "cell_type": "code",
   "execution_count": null,
   "metadata": {},
   "outputs": [],
   "source": []
  },
  {
   "cell_type": "code",
   "execution_count": null,
   "metadata": {},
   "outputs": [],
   "source": []
  },
  {
   "cell_type": "code",
   "execution_count": null,
   "metadata": {},
   "outputs": [],
   "source": []
  },
  {
   "cell_type": "code",
   "execution_count": null,
   "metadata": {},
   "outputs": [],
   "source": []
  },
  {
   "cell_type": "code",
   "execution_count": null,
   "metadata": {},
   "outputs": [],
   "source": []
  },
  {
   "cell_type": "code",
   "execution_count": null,
   "metadata": {},
   "outputs": [],
   "source": []
  },
  {
   "cell_type": "code",
   "execution_count": null,
   "metadata": {},
   "outputs": [],
   "source": []
  },
  {
   "cell_type": "code",
   "execution_count": null,
   "metadata": {},
   "outputs": [],
   "source": []
  },
  {
   "cell_type": "code",
   "execution_count": null,
   "metadata": {},
   "outputs": [],
   "source": []
  },
  {
   "cell_type": "code",
   "execution_count": null,
   "metadata": {},
   "outputs": [],
   "source": []
  },
  {
   "cell_type": "code",
   "execution_count": null,
   "metadata": {},
   "outputs": [],
   "source": []
  },
  {
   "cell_type": "code",
   "execution_count": null,
   "metadata": {},
   "outputs": [],
   "source": []
  },
  {
   "cell_type": "code",
   "execution_count": null,
   "metadata": {},
   "outputs": [],
   "source": []
  },
  {
   "cell_type": "code",
   "execution_count": null,
   "metadata": {},
   "outputs": [],
   "source": []
  },
  {
   "cell_type": "code",
   "execution_count": null,
   "metadata": {},
   "outputs": [],
   "source": []
  },
  {
   "cell_type": "code",
   "execution_count": null,
   "metadata": {},
   "outputs": [],
   "source": []
  },
  {
   "cell_type": "code",
   "execution_count": null,
   "metadata": {},
   "outputs": [],
   "source": []
  },
  {
   "cell_type": "code",
   "execution_count": null,
   "metadata": {},
   "outputs": [],
   "source": []
  },
  {
   "cell_type": "code",
   "execution_count": null,
   "metadata": {},
   "outputs": [],
   "source": []
  },
  {
   "cell_type": "code",
   "execution_count": null,
   "metadata": {},
   "outputs": [],
   "source": []
  },
  {
   "cell_type": "code",
   "execution_count": null,
   "metadata": {},
   "outputs": [],
   "source": []
  },
  {
   "cell_type": "code",
   "execution_count": null,
   "metadata": {},
   "outputs": [],
   "source": []
  },
  {
   "cell_type": "code",
   "execution_count": null,
   "metadata": {},
   "outputs": [],
   "source": []
  },
  {
   "cell_type": "code",
   "execution_count": null,
   "metadata": {},
   "outputs": [],
   "source": []
  },
  {
   "cell_type": "code",
   "execution_count": null,
   "metadata": {},
   "outputs": [],
   "source": []
  },
  {
   "cell_type": "code",
   "execution_count": null,
   "metadata": {},
   "outputs": [],
   "source": []
  },
  {
   "cell_type": "code",
   "execution_count": null,
   "metadata": {},
   "outputs": [],
   "source": []
  },
  {
   "cell_type": "code",
   "execution_count": null,
   "metadata": {},
   "outputs": [],
   "source": []
  },
  {
   "cell_type": "code",
   "execution_count": null,
   "metadata": {},
   "outputs": [],
   "source": []
  },
  {
   "cell_type": "code",
   "execution_count": null,
   "metadata": {},
   "outputs": [],
   "source": []
  },
  {
   "cell_type": "code",
   "execution_count": null,
   "metadata": {},
   "outputs": [],
   "source": []
  },
  {
   "cell_type": "code",
   "execution_count": null,
   "metadata": {},
   "outputs": [],
   "source": []
  },
  {
   "cell_type": "code",
   "execution_count": null,
   "metadata": {},
   "outputs": [],
   "source": []
  },
  {
   "cell_type": "code",
   "execution_count": null,
   "metadata": {},
   "outputs": [],
   "source": []
  },
  {
   "cell_type": "code",
   "execution_count": null,
   "metadata": {},
   "outputs": [],
   "source": []
  }
 ],
 "metadata": {
  "kernelspec": {
   "display_name": "Python 3",
   "language": "python",
   "name": "python3"
  },
  "language_info": {
   "codemirror_mode": {
    "name": "ipython",
    "version": 3
   },
   "file_extension": ".py",
   "mimetype": "text/x-python",
   "name": "python",
   "nbconvert_exporter": "python",
   "pygments_lexer": "ipython3",
   "version": "3.6.9"
  }
 },
 "nbformat": 4,
 "nbformat_minor": 4
}
