{
 "cells": [
  {
   "cell_type": "markdown",
   "metadata": {},
   "source": [
    "<h3>Big Data - Ex3</h3>\n",
    "<h3>Avlas Kfir</h3>\n",
    "\n",
    "<h3>term frequency–inverse document frequency</h3>\n"
   ]
  },
  {
   "cell_type": "code",
   "execution_count": 1,
   "metadata": {},
   "outputs": [],
   "source": [
    "import pandas as pd\n",
    "import math\n",
    "import collections\n",
    "from collections import Counter\n",
    "import operator\n",
    "import random\n",
    "\n",
    "\n",
    "pd.set_option(\"display.max_colwidth\", 1000)"
   ]
  },
  {
   "cell_type": "code",
   "execution_count": 2,
   "metadata": {},
   "outputs": [],
   "source": [
    "# Read data\n",
    "\n",
    "path = \"/home/spark-vm/PycharmProjects/BigDataCource/\"\n",
    "folder_name = \"BBC_News\""
   ]
  },
  {
   "cell_type": "code",
   "execution_count": 3,
   "metadata": {},
   "outputs": [],
   "source": [
    "# Read text files\n",
    "\n",
    "def read_directory(p_category: str):\n",
    "    return sc.wholeTextFiles(path + \"/\" + folder_name + \"/\" + p_category)"
   ]
  },
  {
   "cell_type": "code",
   "execution_count": 4,
   "metadata": {},
   "outputs": [],
   "source": [
    "def set_file_name(t):\n",
    "    file_name = t[0]\n",
    "    text = t[1]\n",
    "    \n",
    "    new_file_name = file_name[file_name.index(folder_name) + len(folder_name) + 1:]\n",
    "    new_file_name = new_file_name.replace(\"/\", \"_\")\n",
    "    \n",
    "    return (new_file_name, text)"
   ]
  },
  {
   "cell_type": "code",
   "execution_count": 5,
   "metadata": {},
   "outputs": [],
   "source": [
    "def get_data():\n",
    "    d1 = read_directory(\"bsns\").map(set_file_name)\n",
    "    d2 = read_directory(\"entrtmnt\").map(set_file_name)\n",
    "    d3 = read_directory(\"pltcs\").map(set_file_name)\n",
    "    d4 = read_directory(\"sprt\").map(set_file_name)\n",
    "    d5 = read_directory(\"tech\").map(set_file_name)\n",
    "    \n",
    "    return d1.union(d2).union(d3).union(d4).union(d5)"
   ]
  },
  {
   "cell_type": "code",
   "execution_count": 6,
   "metadata": {},
   "outputs": [],
   "source": [
    "main_data = get_data()"
   ]
  },
  {
   "cell_type": "code",
   "execution_count": 7,
   "metadata": {},
   "outputs": [
    {
     "data": {
      "text/plain": [
       "[('bsns_382.txt',\n",
       "  'Ban on forced retirement under 65\\n\\nEmployers will no longer be able to force workers to retire before 65, unless they can justify it.\\n\\nThe government has announced that firms will be barred from 2006 from imposing arbitrary retirement ages. Under new European age discrimination rules, a default retirement age of 65 will be introduced. Workers will be permitted to request staying on beyond this compulsory retirement age, although employers will have the right to refuse. Trade and Industry Secretary Patricia Hewitt said people would not be forced to work longer than they wanted, saying the default age was not a statutory, compulsory retirement age. She said employers would be free to continue employing people for as long as they were competent.\\n\\nUnder age discrimination proposals from the Department of Trade and Industry last year workers were to be allowed to work on till 70 if they wished.\\n\\nBusiness leaders had opposed the plan as they said it would be too costly and cumbersome. The British Chambers of Commerce welcomed the latest proposal. \"This move today is the best of both worlds,\" it said. \"Employers have the ability to define the end point of the employer-employee relationship and employees have flexibility with a right to request to work past the age of 65.\" But Age Concern said imposing a retirement age of 65 was \"cowardly\" and a \"complete u-turn\". \"This makes a mockery of the Government\\'s so-called commitment to outlawing ageism, leaving the incoming age discrimination law to unravel,\" said Gordon Lishman, director general of Age Concern England . \"It is now inevitable that older people will mount legal challenges to the decision using European law.\" The decision will have no impact on the age at which workers can collect their state pension, the government has said.\\n')]"
      ]
     },
     "execution_count": 7,
     "metadata": {},
     "output_type": "execute_result"
    }
   ],
   "source": [
    "main_data.take(1)"
   ]
  },
  {
   "cell_type": "code",
   "execution_count": 8,
   "metadata": {},
   "outputs": [],
   "source": [
    "num_of_documents = main_data.count()"
   ]
  },
  {
   "cell_type": "code",
   "execution_count": 10,
   "metadata": {},
   "outputs": [
    {
     "data": {
      "text/plain": [
       "2225"
      ]
     },
     "execution_count": 10,
     "metadata": {},
     "output_type": "execute_result"
    }
   ],
   "source": [
    "num_of_documents"
   ]
  },
  {
   "cell_type": "code",
   "execution_count": 9,
   "metadata": {},
   "outputs": [],
   "source": [
    "def text_to_vec(t):\n",
    "    \n",
    "    file_name = t[0]\n",
    "    text = t[1]\n",
    "    words= [] \n",
    "    \n",
    "    for txt in text.split(\"\\n\"):       # Text to sentences\n",
    "        for word in txt.split(' '):    # Sentence to words\n",
    "            words.append(word.lower()) # Word to lower case\n",
    "    \n",
    "    return (file_name, words)"
   ]
  },
  {
   "cell_type": "code",
   "execution_count": 16,
   "metadata": {},
   "outputs": [],
   "source": [
    "data = main_data.map(text_to_vec)"
   ]
  },
  {
   "cell_type": "code",
   "execution_count": 17,
   "metadata": {},
   "outputs": [
    {
     "data": {
      "text/plain": [
       "[('bsns_382.txt',\n",
       "  ['ban',\n",
       "   'on',\n",
       "   'forced',\n",
       "   'retirement',\n",
       "   'under',\n",
       "   '65',\n",
       "   '',\n",
       "   'employers',\n",
       "   'will',\n",
       "   'no',\n",
       "   'longer',\n",
       "   'be',\n",
       "   'able',\n",
       "   'to',\n",
       "   'force',\n",
       "   'workers',\n",
       "   'to',\n",
       "   'retire',\n",
       "   'before',\n",
       "   '65,',\n",
       "   'unless',\n",
       "   'they',\n",
       "   'can',\n",
       "   'justify',\n",
       "   'it.',\n",
       "   '',\n",
       "   'the',\n",
       "   'government',\n",
       "   'has',\n",
       "   'announced',\n",
       "   'that',\n",
       "   'firms',\n",
       "   'will',\n",
       "   'be',\n",
       "   'barred',\n",
       "   'from',\n",
       "   '2006',\n",
       "   'from',\n",
       "   'imposing',\n",
       "   'arbitrary',\n",
       "   'retirement',\n",
       "   'ages.',\n",
       "   'under',\n",
       "   'new',\n",
       "   'european',\n",
       "   'age',\n",
       "   'discrimination',\n",
       "   'rules,',\n",
       "   'a',\n",
       "   'default',\n",
       "   'retirement',\n",
       "   'age',\n",
       "   'of',\n",
       "   '65',\n",
       "   'will',\n",
       "   'be',\n",
       "   'introduced.',\n",
       "   'workers',\n",
       "   'will',\n",
       "   'be',\n",
       "   'permitted',\n",
       "   'to',\n",
       "   'request',\n",
       "   'staying',\n",
       "   'on',\n",
       "   'beyond',\n",
       "   'this',\n",
       "   'compulsory',\n",
       "   'retirement',\n",
       "   'age,',\n",
       "   'although',\n",
       "   'employers',\n",
       "   'will',\n",
       "   'have',\n",
       "   'the',\n",
       "   'right',\n",
       "   'to',\n",
       "   'refuse.',\n",
       "   'trade',\n",
       "   'and',\n",
       "   'industry',\n",
       "   'secretary',\n",
       "   'patricia',\n",
       "   'hewitt',\n",
       "   'said',\n",
       "   'people',\n",
       "   'would',\n",
       "   'not',\n",
       "   'be',\n",
       "   'forced',\n",
       "   'to',\n",
       "   'work',\n",
       "   'longer',\n",
       "   'than',\n",
       "   'they',\n",
       "   'wanted,',\n",
       "   'saying',\n",
       "   'the',\n",
       "   'default',\n",
       "   'age',\n",
       "   'was',\n",
       "   'not',\n",
       "   'a',\n",
       "   'statutory,',\n",
       "   'compulsory',\n",
       "   'retirement',\n",
       "   'age.',\n",
       "   'she',\n",
       "   'said',\n",
       "   'employers',\n",
       "   'would',\n",
       "   'be',\n",
       "   'free',\n",
       "   'to',\n",
       "   'continue',\n",
       "   'employing',\n",
       "   'people',\n",
       "   'for',\n",
       "   'as',\n",
       "   'long',\n",
       "   'as',\n",
       "   'they',\n",
       "   'were',\n",
       "   'competent.',\n",
       "   '',\n",
       "   'under',\n",
       "   'age',\n",
       "   'discrimination',\n",
       "   'proposals',\n",
       "   'from',\n",
       "   'the',\n",
       "   'department',\n",
       "   'of',\n",
       "   'trade',\n",
       "   'and',\n",
       "   'industry',\n",
       "   'last',\n",
       "   'year',\n",
       "   'workers',\n",
       "   'were',\n",
       "   'to',\n",
       "   'be',\n",
       "   'allowed',\n",
       "   'to',\n",
       "   'work',\n",
       "   'on',\n",
       "   'till',\n",
       "   '70',\n",
       "   'if',\n",
       "   'they',\n",
       "   'wished.',\n",
       "   '',\n",
       "   'business',\n",
       "   'leaders',\n",
       "   'had',\n",
       "   'opposed',\n",
       "   'the',\n",
       "   'plan',\n",
       "   'as',\n",
       "   'they',\n",
       "   'said',\n",
       "   'it',\n",
       "   'would',\n",
       "   'be',\n",
       "   'too',\n",
       "   'costly',\n",
       "   'and',\n",
       "   'cumbersome.',\n",
       "   'the',\n",
       "   'british',\n",
       "   'chambers',\n",
       "   'of',\n",
       "   'commerce',\n",
       "   'welcomed',\n",
       "   'the',\n",
       "   'latest',\n",
       "   'proposal.',\n",
       "   '\"this',\n",
       "   'move',\n",
       "   'today',\n",
       "   'is',\n",
       "   'the',\n",
       "   'best',\n",
       "   'of',\n",
       "   'both',\n",
       "   'worlds,\"',\n",
       "   'it',\n",
       "   'said.',\n",
       "   '\"employers',\n",
       "   'have',\n",
       "   'the',\n",
       "   'ability',\n",
       "   'to',\n",
       "   'define',\n",
       "   'the',\n",
       "   'end',\n",
       "   'point',\n",
       "   'of',\n",
       "   'the',\n",
       "   'employer-employee',\n",
       "   'relationship',\n",
       "   'and',\n",
       "   'employees',\n",
       "   'have',\n",
       "   'flexibility',\n",
       "   'with',\n",
       "   'a',\n",
       "   'right',\n",
       "   'to',\n",
       "   'request',\n",
       "   'to',\n",
       "   'work',\n",
       "   'past',\n",
       "   'the',\n",
       "   'age',\n",
       "   'of',\n",
       "   '65.\"',\n",
       "   'but',\n",
       "   'age',\n",
       "   'concern',\n",
       "   'said',\n",
       "   'imposing',\n",
       "   'a',\n",
       "   'retirement',\n",
       "   'age',\n",
       "   'of',\n",
       "   '65',\n",
       "   'was',\n",
       "   '\"cowardly\"',\n",
       "   'and',\n",
       "   'a',\n",
       "   '\"complete',\n",
       "   'u-turn\".',\n",
       "   '\"this',\n",
       "   'makes',\n",
       "   'a',\n",
       "   'mockery',\n",
       "   'of',\n",
       "   'the',\n",
       "   \"government's\",\n",
       "   'so-called',\n",
       "   'commitment',\n",
       "   'to',\n",
       "   'outlawing',\n",
       "   'ageism,',\n",
       "   'leaving',\n",
       "   'the',\n",
       "   'incoming',\n",
       "   'age',\n",
       "   'discrimination',\n",
       "   'law',\n",
       "   'to',\n",
       "   'unravel,\"',\n",
       "   'said',\n",
       "   'gordon',\n",
       "   'lishman,',\n",
       "   'director',\n",
       "   'general',\n",
       "   'of',\n",
       "   'age',\n",
       "   'concern',\n",
       "   'england',\n",
       "   '.',\n",
       "   '\"it',\n",
       "   'is',\n",
       "   'now',\n",
       "   'inevitable',\n",
       "   'that',\n",
       "   'older',\n",
       "   'people',\n",
       "   'will',\n",
       "   'mount',\n",
       "   'legal',\n",
       "   'challenges',\n",
       "   'to',\n",
       "   'the',\n",
       "   'decision',\n",
       "   'using',\n",
       "   'european',\n",
       "   'law.\"',\n",
       "   'the',\n",
       "   'decision',\n",
       "   'will',\n",
       "   'have',\n",
       "   'no',\n",
       "   'impact',\n",
       "   'on',\n",
       "   'the',\n",
       "   'age',\n",
       "   'at',\n",
       "   'which',\n",
       "   'workers',\n",
       "   'can',\n",
       "   'collect',\n",
       "   'their',\n",
       "   'state',\n",
       "   'pension,',\n",
       "   'the',\n",
       "   'government',\n",
       "   'has',\n",
       "   'said.',\n",
       "   ''])]"
      ]
     },
     "execution_count": 17,
     "metadata": {},
     "output_type": "execute_result"
    }
   ],
   "source": [
    "data.take(1)"
   ]
  },
  {
   "cell_type": "code",
   "execution_count": 18,
   "metadata": {},
   "outputs": [],
   "source": [
    "from stop_words import get_stop_words\n",
    "\n",
    "stop_words = get_stop_words('en')\n",
    "\n",
    "broadcast_sw = sc.broadcast(stop_words)"
   ]
  },
  {
   "cell_type": "code",
   "execution_count": 19,
   "metadata": {},
   "outputs": [
    {
     "data": {
      "text/plain": [
       "['a',\n",
       " 'about',\n",
       " 'above',\n",
       " 'after',\n",
       " 'again',\n",
       " 'against',\n",
       " 'all',\n",
       " 'am',\n",
       " 'an',\n",
       " 'and',\n",
       " 'any',\n",
       " 'are',\n",
       " \"aren't\",\n",
       " 'as',\n",
       " 'at',\n",
       " 'be',\n",
       " 'because',\n",
       " 'been',\n",
       " 'before',\n",
       " 'being',\n",
       " 'below',\n",
       " 'between',\n",
       " 'both',\n",
       " 'but',\n",
       " 'by',\n",
       " \"can't\",\n",
       " 'cannot',\n",
       " 'could',\n",
       " \"couldn't\",\n",
       " 'did',\n",
       " \"didn't\",\n",
       " 'do',\n",
       " 'does',\n",
       " \"doesn't\",\n",
       " 'doing',\n",
       " \"don't\",\n",
       " 'down',\n",
       " 'during',\n",
       " 'each',\n",
       " 'few',\n",
       " 'for',\n",
       " 'from',\n",
       " 'further',\n",
       " 'had',\n",
       " \"hadn't\",\n",
       " 'has',\n",
       " \"hasn't\",\n",
       " 'have',\n",
       " \"haven't\",\n",
       " 'having',\n",
       " 'he',\n",
       " \"he'd\",\n",
       " \"he'll\",\n",
       " \"he's\",\n",
       " 'her',\n",
       " 'here',\n",
       " \"here's\",\n",
       " 'hers',\n",
       " 'herself',\n",
       " 'him',\n",
       " 'himself',\n",
       " 'his',\n",
       " 'how',\n",
       " \"how's\",\n",
       " 'i',\n",
       " \"i'd\",\n",
       " \"i'll\",\n",
       " \"i'm\",\n",
       " \"i've\",\n",
       " 'if',\n",
       " 'in',\n",
       " 'into',\n",
       " 'is',\n",
       " \"isn't\",\n",
       " 'it',\n",
       " \"it's\",\n",
       " 'its',\n",
       " 'itself',\n",
       " \"let's\",\n",
       " 'me',\n",
       " 'more',\n",
       " 'most',\n",
       " \"mustn't\",\n",
       " 'my',\n",
       " 'myself',\n",
       " 'no',\n",
       " 'nor',\n",
       " 'not',\n",
       " 'of',\n",
       " 'off',\n",
       " 'on',\n",
       " 'once',\n",
       " 'only',\n",
       " 'or',\n",
       " 'other',\n",
       " 'ought',\n",
       " 'our',\n",
       " 'ours',\n",
       " 'ourselves',\n",
       " 'out',\n",
       " 'over',\n",
       " 'own',\n",
       " 'same',\n",
       " \"shan't\",\n",
       " 'she',\n",
       " \"she'd\",\n",
       " \"she'll\",\n",
       " \"she's\",\n",
       " 'should',\n",
       " \"shouldn't\",\n",
       " 'so',\n",
       " 'some',\n",
       " 'such',\n",
       " 'than',\n",
       " 'that',\n",
       " \"that's\",\n",
       " 'the',\n",
       " 'their',\n",
       " 'theirs',\n",
       " 'them',\n",
       " 'themselves',\n",
       " 'then',\n",
       " 'there',\n",
       " \"there's\",\n",
       " 'these',\n",
       " 'they',\n",
       " \"they'd\",\n",
       " \"they'll\",\n",
       " \"they're\",\n",
       " \"they've\",\n",
       " 'this',\n",
       " 'those',\n",
       " 'through',\n",
       " 'to',\n",
       " 'too',\n",
       " 'under',\n",
       " 'until',\n",
       " 'up',\n",
       " 'very',\n",
       " 'was',\n",
       " \"wasn't\",\n",
       " 'we',\n",
       " \"we'd\",\n",
       " \"we'll\",\n",
       " \"we're\",\n",
       " \"we've\",\n",
       " 'were',\n",
       " \"weren't\",\n",
       " 'what',\n",
       " \"what's\",\n",
       " 'when',\n",
       " \"when's\",\n",
       " 'where',\n",
       " \"where's\",\n",
       " 'which',\n",
       " 'while',\n",
       " 'who',\n",
       " \"who's\",\n",
       " 'whom',\n",
       " 'why',\n",
       " \"why's\",\n",
       " 'with',\n",
       " \"won't\",\n",
       " 'would',\n",
       " \"wouldn't\",\n",
       " 'you',\n",
       " \"you'd\",\n",
       " \"you'll\",\n",
       " \"you're\",\n",
       " \"you've\",\n",
       " 'your',\n",
       " 'yours',\n",
       " 'yourself',\n",
       " 'yourselves']"
      ]
     },
     "execution_count": 19,
     "metadata": {},
     "output_type": "execute_result"
    }
   ],
   "source": [
    "broadcast_sw.value"
   ]
  },
  {
   "cell_type": "code",
   "execution_count": 20,
   "metadata": {},
   "outputs": [],
   "source": [
    "def remove_stop_words(d):\n",
    "    \n",
    "    file_name = d[0]\n",
    "    words = d[1]\n",
    "    w = []\n",
    "    \n",
    "    for word in words:\n",
    "        if word not in broadcast_sw.value:\n",
    "            w.append(word)\n",
    "    \n",
    "    return (file_name , w)"
   ]
  },
  {
   "cell_type": "code",
   "execution_count": 21,
   "metadata": {},
   "outputs": [],
   "source": [
    "data1 = data.map(remove_stop_words)"
   ]
  },
  {
   "cell_type": "code",
   "execution_count": 22,
   "metadata": {},
   "outputs": [
    {
     "data": {
      "text/plain": [
       "[('bsns_382.txt',\n",
       "  ['ban',\n",
       "   'forced',\n",
       "   'retirement',\n",
       "   '65',\n",
       "   '',\n",
       "   'employers',\n",
       "   'will',\n",
       "   'longer',\n",
       "   'able',\n",
       "   'force',\n",
       "   'workers',\n",
       "   'retire',\n",
       "   '65,',\n",
       "   'unless',\n",
       "   'can',\n",
       "   'justify',\n",
       "   'it.',\n",
       "   '',\n",
       "   'government',\n",
       "   'announced',\n",
       "   'firms',\n",
       "   'will',\n",
       "   'barred',\n",
       "   '2006',\n",
       "   'imposing',\n",
       "   'arbitrary',\n",
       "   'retirement',\n",
       "   'ages.',\n",
       "   'new',\n",
       "   'european',\n",
       "   'age',\n",
       "   'discrimination',\n",
       "   'rules,',\n",
       "   'default',\n",
       "   'retirement',\n",
       "   'age',\n",
       "   '65',\n",
       "   'will',\n",
       "   'introduced.',\n",
       "   'workers',\n",
       "   'will',\n",
       "   'permitted',\n",
       "   'request',\n",
       "   'staying',\n",
       "   'beyond',\n",
       "   'compulsory',\n",
       "   'retirement',\n",
       "   'age,',\n",
       "   'although',\n",
       "   'employers',\n",
       "   'will',\n",
       "   'right',\n",
       "   'refuse.',\n",
       "   'trade',\n",
       "   'industry',\n",
       "   'secretary',\n",
       "   'patricia',\n",
       "   'hewitt',\n",
       "   'said',\n",
       "   'people',\n",
       "   'forced',\n",
       "   'work',\n",
       "   'longer',\n",
       "   'wanted,',\n",
       "   'saying',\n",
       "   'default',\n",
       "   'age',\n",
       "   'statutory,',\n",
       "   'compulsory',\n",
       "   'retirement',\n",
       "   'age.',\n",
       "   'said',\n",
       "   'employers',\n",
       "   'free',\n",
       "   'continue',\n",
       "   'employing',\n",
       "   'people',\n",
       "   'long',\n",
       "   'competent.',\n",
       "   '',\n",
       "   'age',\n",
       "   'discrimination',\n",
       "   'proposals',\n",
       "   'department',\n",
       "   'trade',\n",
       "   'industry',\n",
       "   'last',\n",
       "   'year',\n",
       "   'workers',\n",
       "   'allowed',\n",
       "   'work',\n",
       "   'till',\n",
       "   '70',\n",
       "   'wished.',\n",
       "   '',\n",
       "   'business',\n",
       "   'leaders',\n",
       "   'opposed',\n",
       "   'plan',\n",
       "   'said',\n",
       "   'costly',\n",
       "   'cumbersome.',\n",
       "   'british',\n",
       "   'chambers',\n",
       "   'commerce',\n",
       "   'welcomed',\n",
       "   'latest',\n",
       "   'proposal.',\n",
       "   '\"this',\n",
       "   'move',\n",
       "   'today',\n",
       "   'best',\n",
       "   'worlds,\"',\n",
       "   'said.',\n",
       "   '\"employers',\n",
       "   'ability',\n",
       "   'define',\n",
       "   'end',\n",
       "   'point',\n",
       "   'employer-employee',\n",
       "   'relationship',\n",
       "   'employees',\n",
       "   'flexibility',\n",
       "   'right',\n",
       "   'request',\n",
       "   'work',\n",
       "   'past',\n",
       "   'age',\n",
       "   '65.\"',\n",
       "   'age',\n",
       "   'concern',\n",
       "   'said',\n",
       "   'imposing',\n",
       "   'retirement',\n",
       "   'age',\n",
       "   '65',\n",
       "   '\"cowardly\"',\n",
       "   '\"complete',\n",
       "   'u-turn\".',\n",
       "   '\"this',\n",
       "   'makes',\n",
       "   'mockery',\n",
       "   \"government's\",\n",
       "   'so-called',\n",
       "   'commitment',\n",
       "   'outlawing',\n",
       "   'ageism,',\n",
       "   'leaving',\n",
       "   'incoming',\n",
       "   'age',\n",
       "   'discrimination',\n",
       "   'law',\n",
       "   'unravel,\"',\n",
       "   'said',\n",
       "   'gordon',\n",
       "   'lishman,',\n",
       "   'director',\n",
       "   'general',\n",
       "   'age',\n",
       "   'concern',\n",
       "   'england',\n",
       "   '.',\n",
       "   '\"it',\n",
       "   'now',\n",
       "   'inevitable',\n",
       "   'older',\n",
       "   'people',\n",
       "   'will',\n",
       "   'mount',\n",
       "   'legal',\n",
       "   'challenges',\n",
       "   'decision',\n",
       "   'using',\n",
       "   'european',\n",
       "   'law.\"',\n",
       "   'decision',\n",
       "   'will',\n",
       "   'impact',\n",
       "   'age',\n",
       "   'workers',\n",
       "   'can',\n",
       "   'collect',\n",
       "   'state',\n",
       "   'pension,',\n",
       "   'government',\n",
       "   'said.',\n",
       "   ''])]"
      ]
     },
     "execution_count": 22,
     "metadata": {},
     "output_type": "execute_result"
    }
   ],
   "source": [
    "data1.take(1)"
   ]
  },
  {
   "cell_type": "code",
   "execution_count": 23,
   "metadata": {},
   "outputs": [],
   "source": [
    "import re \n",
    "\n",
    "def remove_symbols(t):\n",
    "    file_name = t[0]\n",
    "    words = t[1]\n",
    "    w = []\n",
    "    \n",
    "    for i in range(len(words)):\n",
    "        word = re.sub(\"[^a-zA-Z\\s]\", ' ', words[i]).replace(' ','')\n",
    "        if word:\n",
    "            w.append(word)\n",
    "    \n",
    "    return (file_name , w)"
   ]
  },
  {
   "cell_type": "code",
   "execution_count": 24,
   "metadata": {},
   "outputs": [],
   "source": [
    "documents = data1.map(remove_symbols)"
   ]
  },
  {
   "cell_type": "code",
   "execution_count": 25,
   "metadata": {},
   "outputs": [
    {
     "data": {
      "text/plain": [
       "[('bsns_382.txt',\n",
       "  ['ban',\n",
       "   'forced',\n",
       "   'retirement',\n",
       "   'employers',\n",
       "   'will',\n",
       "   'longer',\n",
       "   'able',\n",
       "   'force',\n",
       "   'workers',\n",
       "   'retire',\n",
       "   'unless',\n",
       "   'can',\n",
       "   'justify',\n",
       "   'it',\n",
       "   'government',\n",
       "   'announced',\n",
       "   'firms',\n",
       "   'will',\n",
       "   'barred',\n",
       "   'imposing',\n",
       "   'arbitrary',\n",
       "   'retirement',\n",
       "   'ages',\n",
       "   'new',\n",
       "   'european',\n",
       "   'age',\n",
       "   'discrimination',\n",
       "   'rules',\n",
       "   'default',\n",
       "   'retirement',\n",
       "   'age',\n",
       "   'will',\n",
       "   'introduced',\n",
       "   'workers',\n",
       "   'will',\n",
       "   'permitted',\n",
       "   'request',\n",
       "   'staying',\n",
       "   'beyond',\n",
       "   'compulsory',\n",
       "   'retirement',\n",
       "   'age',\n",
       "   'although',\n",
       "   'employers',\n",
       "   'will',\n",
       "   'right',\n",
       "   'refuse',\n",
       "   'trade',\n",
       "   'industry',\n",
       "   'secretary',\n",
       "   'patricia',\n",
       "   'hewitt',\n",
       "   'said',\n",
       "   'people',\n",
       "   'forced',\n",
       "   'work',\n",
       "   'longer',\n",
       "   'wanted',\n",
       "   'saying',\n",
       "   'default',\n",
       "   'age',\n",
       "   'statutory',\n",
       "   'compulsory',\n",
       "   'retirement',\n",
       "   'age',\n",
       "   'said',\n",
       "   'employers',\n",
       "   'free',\n",
       "   'continue',\n",
       "   'employing',\n",
       "   'people',\n",
       "   'long',\n",
       "   'competent',\n",
       "   'age',\n",
       "   'discrimination',\n",
       "   'proposals',\n",
       "   'department',\n",
       "   'trade',\n",
       "   'industry',\n",
       "   'last',\n",
       "   'year',\n",
       "   'workers',\n",
       "   'allowed',\n",
       "   'work',\n",
       "   'till',\n",
       "   'wished',\n",
       "   'business',\n",
       "   'leaders',\n",
       "   'opposed',\n",
       "   'plan',\n",
       "   'said',\n",
       "   'costly',\n",
       "   'cumbersome',\n",
       "   'british',\n",
       "   'chambers',\n",
       "   'commerce',\n",
       "   'welcomed',\n",
       "   'latest',\n",
       "   'proposal',\n",
       "   'this',\n",
       "   'move',\n",
       "   'today',\n",
       "   'best',\n",
       "   'worlds',\n",
       "   'said',\n",
       "   'employers',\n",
       "   'ability',\n",
       "   'define',\n",
       "   'end',\n",
       "   'point',\n",
       "   'employeremployee',\n",
       "   'relationship',\n",
       "   'employees',\n",
       "   'flexibility',\n",
       "   'right',\n",
       "   'request',\n",
       "   'work',\n",
       "   'past',\n",
       "   'age',\n",
       "   'age',\n",
       "   'concern',\n",
       "   'said',\n",
       "   'imposing',\n",
       "   'retirement',\n",
       "   'age',\n",
       "   'cowardly',\n",
       "   'complete',\n",
       "   'uturn',\n",
       "   'this',\n",
       "   'makes',\n",
       "   'mockery',\n",
       "   'governments',\n",
       "   'socalled',\n",
       "   'commitment',\n",
       "   'outlawing',\n",
       "   'ageism',\n",
       "   'leaving',\n",
       "   'incoming',\n",
       "   'age',\n",
       "   'discrimination',\n",
       "   'law',\n",
       "   'unravel',\n",
       "   'said',\n",
       "   'gordon',\n",
       "   'lishman',\n",
       "   'director',\n",
       "   'general',\n",
       "   'age',\n",
       "   'concern',\n",
       "   'england',\n",
       "   'it',\n",
       "   'now',\n",
       "   'inevitable',\n",
       "   'older',\n",
       "   'people',\n",
       "   'will',\n",
       "   'mount',\n",
       "   'legal',\n",
       "   'challenges',\n",
       "   'decision',\n",
       "   'using',\n",
       "   'european',\n",
       "   'law',\n",
       "   'decision',\n",
       "   'will',\n",
       "   'impact',\n",
       "   'age',\n",
       "   'workers',\n",
       "   'can',\n",
       "   'collect',\n",
       "   'state',\n",
       "   'pension',\n",
       "   'government',\n",
       "   'said'])]"
      ]
     },
     "execution_count": 25,
     "metadata": {},
     "output_type": "execute_result"
    }
   ],
   "source": [
    "documents.take(1)"
   ]
  },
  {
   "cell_type": "code",
   "execution_count": 26,
   "metadata": {},
   "outputs": [],
   "source": [
    "def invert(d):\n",
    "    \n",
    "    doc   = d[0]    \n",
    "    terms = d[1] \n",
    "    \n",
    "    return [(t,[doc]) for t in terms]"
   ]
  },
  {
   "cell_type": "code",
   "execution_count": 27,
   "metadata": {},
   "outputs": [],
   "source": [
    "# Invert from doc with [terms] to term with [docs]\n",
    "\n",
    "terms = documents.flatMap(invert).reduceByKey(lambda x,y: x+y)"
   ]
  },
  {
   "cell_type": "code",
   "execution_count": 28,
   "metadata": {},
   "outputs": [
    {
     "data": {
      "text/plain": [
       "[('retirement',\n",
       "  ['bsns_382.txt',\n",
       "   'bsns_382.txt',\n",
       "   'bsns_382.txt',\n",
       "   'bsns_382.txt',\n",
       "   'bsns_382.txt',\n",
       "   'bsns_382.txt',\n",
       "   'bsns_238.txt',\n",
       "   'bsns_326.txt',\n",
       "   'bsns_326.txt',\n",
       "   'bsns_249.txt',\n",
       "   'bsns_249.txt',\n",
       "   'bsns_368.txt',\n",
       "   'bsns_449.txt',\n",
       "   'bsns_090.txt',\n",
       "   'bsns_133.txt',\n",
       "   'bsns_255.txt',\n",
       "   'bsns_255.txt',\n",
       "   'bsns_255.txt',\n",
       "   'bsns_255.txt',\n",
       "   'bsns_041.txt',\n",
       "   'bsns_041.txt',\n",
       "   'bsns_452.txt',\n",
       "   'entrtmnt_048.txt',\n",
       "   'entrtmnt_177.txt',\n",
       "   'entrtmnt_044.txt',\n",
       "   'entrtmnt_269.txt',\n",
       "   'entrtmnt_269.txt',\n",
       "   'pltcs_380.txt',\n",
       "   'pltcs_042.txt',\n",
       "   'pltcs_042.txt',\n",
       "   'pltcs_132.txt',\n",
       "   'pltcs_132.txt',\n",
       "   'pltcs_132.txt',\n",
       "   'pltcs_132.txt',\n",
       "   'pltcs_132.txt',\n",
       "   'pltcs_357.txt',\n",
       "   'pltcs_406.txt',\n",
       "   'pltcs_294.txt',\n",
       "   'pltcs_089.txt',\n",
       "   'pltcs_089.txt',\n",
       "   'pltcs_156.txt',\n",
       "   'pltcs_159.txt',\n",
       "   'pltcs_317.txt',\n",
       "   'sprt_437.txt',\n",
       "   'sprt_241.txt',\n",
       "   'sprt_462.txt',\n",
       "   'sprt_347.txt',\n",
       "   'sprt_347.txt',\n",
       "   'sprt_413.txt',\n",
       "   'sprt_367.txt',\n",
       "   'sprt_431.txt',\n",
       "   'sprt_361.txt',\n",
       "   'sprt_115.txt',\n",
       "   'sprt_062.txt',\n",
       "   'sprt_375.txt',\n",
       "   'sprt_460.txt',\n",
       "   'sprt_460.txt'])]"
      ]
     },
     "execution_count": 28,
     "metadata": {},
     "output_type": "execute_result"
    }
   ],
   "source": [
    "terms.take(1)"
   ]
  },
  {
   "cell_type": "code",
   "execution_count": 29,
   "metadata": {},
   "outputs": [],
   "source": [
    "# Build an Inverted Index structure:\n",
    "\n",
    "# With posting_list = Dict{doc_name:tf of term in doc}\n",
    "\n",
    "# II format is (term, (df of term in corpus, posting_list) \n",
    "\n",
    "def inverted_index(t):\n",
    "    \n",
    "    term = t[0]\n",
    "    docs = dict(Counter(t[1]))\n",
    "                \n",
    "    dft = len(docs)\n",
    "                \n",
    "    return (term, (dft, docs))"
   ]
  },
  {
   "cell_type": "code",
   "execution_count": 30,
   "metadata": {},
   "outputs": [],
   "source": [
    "inverted_index = terms.map(inverted_index)"
   ]
  },
  {
   "cell_type": "code",
   "execution_count": 31,
   "metadata": {},
   "outputs": [
    {
     "data": {
      "text/plain": [
       "[('retirement',\n",
       "  (37,\n",
       "   {'bsns_382.txt': 6,\n",
       "    'bsns_238.txt': 1,\n",
       "    'bsns_326.txt': 2,\n",
       "    'bsns_249.txt': 2,\n",
       "    'bsns_368.txt': 1,\n",
       "    'bsns_449.txt': 1,\n",
       "    'bsns_090.txt': 1,\n",
       "    'bsns_133.txt': 1,\n",
       "    'bsns_255.txt': 4,\n",
       "    'bsns_041.txt': 2,\n",
       "    'bsns_452.txt': 1,\n",
       "    'entrtmnt_048.txt': 1,\n",
       "    'entrtmnt_177.txt': 1,\n",
       "    'entrtmnt_044.txt': 1,\n",
       "    'entrtmnt_269.txt': 2,\n",
       "    'pltcs_380.txt': 1,\n",
       "    'pltcs_042.txt': 2,\n",
       "    'pltcs_132.txt': 5,\n",
       "    'pltcs_357.txt': 1,\n",
       "    'pltcs_406.txt': 1,\n",
       "    'pltcs_294.txt': 1,\n",
       "    'pltcs_089.txt': 2,\n",
       "    'pltcs_156.txt': 1,\n",
       "    'pltcs_159.txt': 1,\n",
       "    'pltcs_317.txt': 1,\n",
       "    'sprt_437.txt': 1,\n",
       "    'sprt_241.txt': 1,\n",
       "    'sprt_462.txt': 1,\n",
       "    'sprt_347.txt': 2,\n",
       "    'sprt_413.txt': 1,\n",
       "    'sprt_367.txt': 1,\n",
       "    'sprt_431.txt': 1,\n",
       "    'sprt_361.txt': 1,\n",
       "    'sprt_115.txt': 1,\n",
       "    'sprt_062.txt': 1,\n",
       "    'sprt_375.txt': 1,\n",
       "    'sprt_460.txt': 2}))]"
      ]
     },
     "execution_count": 31,
     "metadata": {},
     "output_type": "execute_result"
    }
   ],
   "source": [
    "inverted_index.take(1)"
   ]
  },
  {
   "cell_type": "code",
   "execution_count": 32,
   "metadata": {},
   "outputs": [],
   "source": [
    "inverted_indexMap = inverted_index.collectAsMap()"
   ]
  },
  {
   "cell_type": "code",
   "execution_count": 33,
   "metadata": {},
   "outputs": [],
   "source": [
    "broadcast_inverted_index = sc.broadcast(inverted_indexMap)"
   ]
  },
  {
   "cell_type": "code",
   "execution_count": 35,
   "metadata": {},
   "outputs": [],
   "source": [
    "inv_ind = inverted_index.map(lambda t:(t[0], list(t[1][1].keys())))"
   ]
  },
  {
   "cell_type": "code",
   "execution_count": 36,
   "metadata": {},
   "outputs": [
    {
     "data": {
      "text/html": [
       "<div>\n",
       "<style scoped>\n",
       "    .dataframe tbody tr th:only-of-type {\n",
       "        vertical-align: middle;\n",
       "    }\n",
       "\n",
       "    .dataframe tbody tr th {\n",
       "        vertical-align: top;\n",
       "    }\n",
       "\n",
       "    .dataframe thead th {\n",
       "        text-align: right;\n",
       "    }\n",
       "</style>\n",
       "<table border=\"1\" class=\"dataframe\">\n",
       "  <thead>\n",
       "    <tr style=\"text-align: right;\">\n",
       "      <th></th>\n",
       "      <th>Term</th>\n",
       "      <th>Docs</th>\n",
       "    </tr>\n",
       "  </thead>\n",
       "  <tbody>\n",
       "    <tr>\n",
       "      <th>0</th>\n",
       "      <td>retirement</td>\n",
       "      <td>[bsns_382.txt, bsns_238.txt, bsns_326.txt, bsns_249.txt, bsns_368.txt, bsns_449.txt, bsns_090.txt, bsns_133.txt, bsns_255.txt, bsns_041.txt, bsns_452.txt, entrtmnt_048.txt, entrtmnt_177.txt, entrtmnt_044.txt, entrtmnt_269.txt, pltcs_380.txt, pltcs_042.txt, pltcs_132.txt, pltcs_357.txt, pltcs_406.txt, pltcs_294.txt, pltcs_089.txt, pltcs_156.txt, pltcs_159.txt, pltcs_317.txt, sprt_437.txt, sprt_241.txt, sprt_462.txt, sprt_347.txt, sprt_413.txt, sprt_367.txt, sprt_431.txt, sprt_361.txt, sprt_115.txt, sprt_062.txt, sprt_375.txt, sprt_460.txt]</td>\n",
       "    </tr>\n",
       "    <tr>\n",
       "      <th>1</th>\n",
       "      <td>employers</td>\n",
       "      <td>[bsns_382.txt, bsns_238.txt, bsns_079.txt, bsns_146.txt, bsns_336.txt, entrtmnt_366.txt, pltcs_050.txt, pltcs_237.txt, pltcs_380.txt, pltcs_080.txt, pltcs_132.txt, pltcs_001.txt, pltcs_108.txt, pltcs_175.txt, pltcs_003.txt, pltcs_020.txt, pltcs_128.txt, pltcs_291.txt, tech_079.txt, tech_102.txt, tech_373.txt]</td>\n",
       "    </tr>\n",
       "    <tr>\n",
       "      <th>2</th>\n",
       "      <td>workers</td>\n",
       "      <td>[bsns_382.txt, bsns_272.txt, bsns_123.txt, bsns_022.txt, bsns_345.txt, bsns_034.txt, bsns_296.txt, bsns_029.txt, bsns_334.txt, bsns_061.txt, bsns_160.txt, bsns_149.txt, bsns_482.txt, bsns_253.txt, bsns_305.txt, bsns_183.txt, bsns_274.txt, bsns_416.txt, bsns_258.txt, bsns_284.txt, bsns_465.txt, bsns_235.txt, bsns_368.txt, bsns_387.txt, bsns_007.txt, bsns_292.txt, bsns_133.txt, bsns_162.txt, bsns_020.txt, bsns_087.txt, bsns_130.txt, bsns_275.txt, bsns_068.txt, bsns_287.txt, bsns_251.txt, bsns_356.txt, bsns_100.txt, bsns_442.txt, bsns_086.txt, bsns_117.txt, pltcs_022.txt, pltcs_388.txt, pltcs_359.txt, pltcs_237.txt, pltcs_380.txt, pltcs_042.txt, pltcs_365.txt, pltcs_289.txt, pltcs_357.txt, pltcs_069.txt, pltcs_400.txt, pltcs_005.txt, pltcs_063.txt, pltcs_312.txt, pltcs_250.txt, pltcs_108.txt, pltcs_162.txt, pltcs_294.txt, pltcs_311.txt, pltcs_393.txt, pltcs_291.txt, pltcs_373.txt, sprt_493.txt, tech_065.txt, tech_119.txt, tech_331.txt, tech_151.txt, tech_012.txt, tech_041.txt, tech_22...</td>\n",
       "    </tr>\n",
       "    <tr>\n",
       "      <th>3</th>\n",
       "      <td>retire</td>\n",
       "      <td>[bsns_382.txt, bsns_238.txt, bsns_227.txt, entrtmnt_016.txt, entrtmnt_117.txt, pltcs_045.txt, sprt_057.txt, sprt_484.txt, sprt_185.txt, sprt_413.txt, sprt_367.txt, sprt_028.txt, sprt_500.txt, sprt_031.txt, sprt_144.txt, sprt_459.txt, sprt_156.txt, sprt_480.txt, sprt_421.txt]</td>\n",
       "    </tr>\n",
       "    <tr>\n",
       "      <th>4</th>\n",
       "      <td>government</td>\n",
       "      <td>[bsns_382.txt, bsns_272.txt, bsns_491.txt, bsns_110.txt, bsns_246.txt, bsns_322.txt, bsns_245.txt, bsns_433.txt, bsns_437.txt, bsns_339.txt, bsns_016.txt, bsns_195.txt, bsns_411.txt, bsns_303.txt, bsns_409.txt, bsns_248.txt, bsns_286.txt, bsns_023.txt, bsns_478.txt, bsns_241.txt, bsns_200.txt, bsns_187.txt, bsns_428.txt, bsns_083.txt, bsns_178.txt, bsns_104.txt, bsns_328.txt, bsns_308.txt, bsns_022.txt, bsns_489.txt, bsns_266.txt, bsns_347.txt, bsns_501.txt, bsns_045.txt, bsns_161.txt, bsns_493.txt, bsns_277.txt, bsns_502.txt, bsns_388.txt, bsns_096.txt, bsns_093.txt, bsns_029.txt, bsns_498.txt, bsns_326.txt, bsns_487.txt, bsns_432.txt, bsns_380.txt, bsns_139.txt, bsns_260.txt, bsns_199.txt, bsns_048.txt, bsns_163.txt, bsns_164.txt, bsns_445.txt, bsns_426.txt, bsns_344.txt, bsns_072.txt, bsns_183.txt, bsns_273.txt, bsns_497.txt, bsns_025.txt, bsns_033.txt, bsns_231.txt, bsns_340.txt, bsns_120.txt, bsns_174.txt, bsns_389.txt, bsns_055.txt, bsns_299.txt, bsns_204.txt, bsns_257.txt, b...</td>\n",
       "    </tr>\n",
       "    <tr>\n",
       "      <th>...</th>\n",
       "      <td>...</td>\n",
       "      <td>...</td>\n",
       "    </tr>\n",
       "    <tr>\n",
       "      <th>31526</th>\n",
       "      <td>siliconbased</td>\n",
       "      <td>[tech_329.txt]</td>\n",
       "    </tr>\n",
       "    <tr>\n",
       "      <th>31527</th>\n",
       "      <td>citizenbased</td>\n",
       "      <td>[tech_010.txt]</td>\n",
       "    </tr>\n",
       "    <tr>\n",
       "      <th>31528</th>\n",
       "      <td>autolinks</td>\n",
       "      <td>[tech_010.txt]</td>\n",
       "    </tr>\n",
       "    <tr>\n",
       "      <th>31529</th>\n",
       "      <td>unfeasible</td>\n",
       "      <td>[tech_152.txt]</td>\n",
       "    </tr>\n",
       "    <tr>\n",
       "      <th>31530</th>\n",
       "      <td>jongleurs</td>\n",
       "      <td>[tech_152.txt]</td>\n",
       "    </tr>\n",
       "  </tbody>\n",
       "</table>\n",
       "<p>31531 rows × 2 columns</p>\n",
       "</div>"
      ],
      "text/plain": [
       "               Term  \\\n",
       "0        retirement   \n",
       "1         employers   \n",
       "2           workers   \n",
       "3            retire   \n",
       "4        government   \n",
       "...             ...   \n",
       "31526  siliconbased   \n",
       "31527  citizenbased   \n",
       "31528     autolinks   \n",
       "31529    unfeasible   \n",
       "31530     jongleurs   \n",
       "\n",
       "                                                                                                                                                                                                                                                                                                                                                                                                                                                                                                                                                                                                                                                                                                                                                                                                                                                                                                                                                                                                                                          Docs  \n",
       "0                                                                                                                                                                                                                                                                                                                                                                                                                                                                             [bsns_382.txt, bsns_238.txt, bsns_326.txt, bsns_249.txt, bsns_368.txt, bsns_449.txt, bsns_090.txt, bsns_133.txt, bsns_255.txt, bsns_041.txt, bsns_452.txt, entrtmnt_048.txt, entrtmnt_177.txt, entrtmnt_044.txt, entrtmnt_269.txt, pltcs_380.txt, pltcs_042.txt, pltcs_132.txt, pltcs_357.txt, pltcs_406.txt, pltcs_294.txt, pltcs_089.txt, pltcs_156.txt, pltcs_159.txt, pltcs_317.txt, sprt_437.txt, sprt_241.txt, sprt_462.txt, sprt_347.txt, sprt_413.txt, sprt_367.txt, sprt_431.txt, sprt_361.txt, sprt_115.txt, sprt_062.txt, sprt_375.txt, sprt_460.txt]  \n",
       "1                                                                                                                                                                                                                                                                                                                                                                                                                                                                                                                                                                                                                                                                                                                       [bsns_382.txt, bsns_238.txt, bsns_079.txt, bsns_146.txt, bsns_336.txt, entrtmnt_366.txt, pltcs_050.txt, pltcs_237.txt, pltcs_380.txt, pltcs_080.txt, pltcs_132.txt, pltcs_001.txt, pltcs_108.txt, pltcs_175.txt, pltcs_003.txt, pltcs_020.txt, pltcs_128.txt, pltcs_291.txt, tech_079.txt, tech_102.txt, tech_373.txt]  \n",
       "2      [bsns_382.txt, bsns_272.txt, bsns_123.txt, bsns_022.txt, bsns_345.txt, bsns_034.txt, bsns_296.txt, bsns_029.txt, bsns_334.txt, bsns_061.txt, bsns_160.txt, bsns_149.txt, bsns_482.txt, bsns_253.txt, bsns_305.txt, bsns_183.txt, bsns_274.txt, bsns_416.txt, bsns_258.txt, bsns_284.txt, bsns_465.txt, bsns_235.txt, bsns_368.txt, bsns_387.txt, bsns_007.txt, bsns_292.txt, bsns_133.txt, bsns_162.txt, bsns_020.txt, bsns_087.txt, bsns_130.txt, bsns_275.txt, bsns_068.txt, bsns_287.txt, bsns_251.txt, bsns_356.txt, bsns_100.txt, bsns_442.txt, bsns_086.txt, bsns_117.txt, pltcs_022.txt, pltcs_388.txt, pltcs_359.txt, pltcs_237.txt, pltcs_380.txt, pltcs_042.txt, pltcs_365.txt, pltcs_289.txt, pltcs_357.txt, pltcs_069.txt, pltcs_400.txt, pltcs_005.txt, pltcs_063.txt, pltcs_312.txt, pltcs_250.txt, pltcs_108.txt, pltcs_162.txt, pltcs_294.txt, pltcs_311.txt, pltcs_393.txt, pltcs_291.txt, pltcs_373.txt, sprt_493.txt, tech_065.txt, tech_119.txt, tech_331.txt, tech_151.txt, tech_012.txt, tech_041.txt, tech_22...  \n",
       "3                                                                                                                                                                                                                                                                                                                                                                                                                                                                                                                                                                                                                                                                                                                                                          [bsns_382.txt, bsns_238.txt, bsns_227.txt, entrtmnt_016.txt, entrtmnt_117.txt, pltcs_045.txt, sprt_057.txt, sprt_484.txt, sprt_185.txt, sprt_413.txt, sprt_367.txt, sprt_028.txt, sprt_500.txt, sprt_031.txt, sprt_144.txt, sprt_459.txt, sprt_156.txt, sprt_480.txt, sprt_421.txt]  \n",
       "4      [bsns_382.txt, bsns_272.txt, bsns_491.txt, bsns_110.txt, bsns_246.txt, bsns_322.txt, bsns_245.txt, bsns_433.txt, bsns_437.txt, bsns_339.txt, bsns_016.txt, bsns_195.txt, bsns_411.txt, bsns_303.txt, bsns_409.txt, bsns_248.txt, bsns_286.txt, bsns_023.txt, bsns_478.txt, bsns_241.txt, bsns_200.txt, bsns_187.txt, bsns_428.txt, bsns_083.txt, bsns_178.txt, bsns_104.txt, bsns_328.txt, bsns_308.txt, bsns_022.txt, bsns_489.txt, bsns_266.txt, bsns_347.txt, bsns_501.txt, bsns_045.txt, bsns_161.txt, bsns_493.txt, bsns_277.txt, bsns_502.txt, bsns_388.txt, bsns_096.txt, bsns_093.txt, bsns_029.txt, bsns_498.txt, bsns_326.txt, bsns_487.txt, bsns_432.txt, bsns_380.txt, bsns_139.txt, bsns_260.txt, bsns_199.txt, bsns_048.txt, bsns_163.txt, bsns_164.txt, bsns_445.txt, bsns_426.txt, bsns_344.txt, bsns_072.txt, bsns_183.txt, bsns_273.txt, bsns_497.txt, bsns_025.txt, bsns_033.txt, bsns_231.txt, bsns_340.txt, bsns_120.txt, bsns_174.txt, bsns_389.txt, bsns_055.txt, bsns_299.txt, bsns_204.txt, bsns_257.txt, b...  \n",
       "...                                                                                                                                                                                                                                                                                                                                                                                                                                                                                                                                                                                                                                                                                                                                                                                                                                                                                                                                                                                                                                        ...  \n",
       "31526                                                                                                                                                                                                                                                                                                                                                                                                                                                                                                                                                                                                                                                                                                                                                                                                                                                                                                                                                                                                                           [tech_329.txt]  \n",
       "31527                                                                                                                                                                                                                                                                                                                                                                                                                                                                                                                                                                                                                                                                                                                                                                                                                                                                                                                                                                                                                           [tech_010.txt]  \n",
       "31528                                                                                                                                                                                                                                                                                                                                                                                                                                                                                                                                                                                                                                                                                                                                                                                                                                                                                                                                                                                                                           [tech_010.txt]  \n",
       "31529                                                                                                                                                                                                                                                                                                                                                                                                                                                                                                                                                                                                                                                                                                                                                                                                                                                                                                                                                                                                                           [tech_152.txt]  \n",
       "31530                                                                                                                                                                                                                                                                                                                                                                                                                                                                                                                                                                                                                                                                                                                                                                                                                                                                                                                                                                                                                           [tech_152.txt]  \n",
       "\n",
       "[31531 rows x 2 columns]"
      ]
     },
     "execution_count": 36,
     "metadata": {},
     "output_type": "execute_result"
    }
   ],
   "source": [
    "cols = [\"Term\", \"Docs\"]\n",
    "inv_ind = inv_ind.toDF(cols)\n",
    "inv_ind.toPandas()"
   ]
  },
  {
   "cell_type": "code",
   "execution_count": 37,
   "metadata": {},
   "outputs": [],
   "source": [
    "def tf(d):\n",
    "    \n",
    "    doc   = d[0]\n",
    "    terms = Counter(d[1])\n",
    "   \n",
    "    return(doc, list(terms.keys()), list(terms.values()))"
   ]
  },
  {
   "cell_type": "code",
   "execution_count": 38,
   "metadata": {},
   "outputs": [],
   "source": [
    "tf = documents.map(tf)"
   ]
  },
  {
   "cell_type": "code",
   "execution_count": 39,
   "metadata": {},
   "outputs": [
    {
     "data": {
      "text/html": [
       "<div>\n",
       "<style scoped>\n",
       "    .dataframe tbody tr th:only-of-type {\n",
       "        vertical-align: middle;\n",
       "    }\n",
       "\n",
       "    .dataframe tbody tr th {\n",
       "        vertical-align: top;\n",
       "    }\n",
       "\n",
       "    .dataframe thead th {\n",
       "        text-align: right;\n",
       "    }\n",
       "</style>\n",
       "<table border=\"1\" class=\"dataframe\">\n",
       "  <thead>\n",
       "    <tr style=\"text-align: right;\">\n",
       "      <th></th>\n",
       "      <th>Doc</th>\n",
       "      <th>Terms</th>\n",
       "      <th>TF(t,d)</th>\n",
       "    </tr>\n",
       "  </thead>\n",
       "  <tbody>\n",
       "    <tr>\n",
       "      <th>0</th>\n",
       "      <td>bsns_382.txt</td>\n",
       "      <td>[ban, forced, retirement, employers, will, longer, able, force, workers, retire, unless, can, justify, it, government, announced, firms, barred, imposing, arbitrary, ages, new, european, age, discrimination, rules, default, introduced, permitted, request, staying, beyond, compulsory, although, right, refuse, trade, industry, secretary, patricia, hewitt, said, people, work, wanted, saying, statutory, free, continue, employing, long, competent, proposals, department, last, year, allowed, till, wished, business, leaders, opposed, plan, costly, cumbersome, british, chambers, commerce, welcomed, latest, proposal, this, move, today, best, worlds, ability, define, end, point, employeremployee, relationship, employees, flexibility, past, concern, cowardly, complete, uturn, makes, mockery, governments, socalled, commitment, outlawing, ageism, leaving, incoming, law, unravel, ...]</td>\n",
       "      <td>[1, 2, 6, 4, 7, 2, 1, 1, 4, 1, 1, 2, 1, 2, 2, 1, 1, 1, 2, 1, 1, 1, 2, 12, 3, 1, 2, 1, 1, 2, 1, 1, 2, 1, 2, 1, 2, 2, 1, 1, 1, 7, 3, 3, 1, 1, 1, 1, 1, 1, 1, 1, 1, 1, 1, 1, 1, 1, 1, 1, 1, 1, 1, 1, 1, 1, 1, 1, 1, 1, 1, 2, 1, 1, 1, 1, 1, 1, 1, 1, 1, 1, 1, 1, 1, 2, 1, 1, 1, 1, 1, 1, 1, 1, 1, 1, 1, 1, 2, 1, ...]</td>\n",
       "    </tr>\n",
       "    <tr>\n",
       "      <th>1</th>\n",
       "      <td>bsns_050.txt</td>\n",
       "      <td>[bad, weather, hits, nestle, sales, combination, rising, raw, material, costs, sluggish, european, economy, hit, swiss, food, drink, giant, revenue, dipped, bn, francs, ice, cream, mineral, water, dampened, wet, summer, however, nestles, profits, margins, helped, strong, performance, americas, china, raise, dividend, paying, back, debt, said, strength, franc, us, dollar, disposal, businesses, challenging, trading, conditions, europe, dented, poor, across, continent, contrast, prolonged, heat, wave, severely, affected, demand, bottled, also, fell, although, chocolate, coffee, frozen, goods, petcare, products, performed, better, elsewhere, enjoyed, exceptional, year, north, america, outperforming, market, terms, growth, added, strongly, africa, asia, despite, impact, high, oil, prices, political, instability, total, earnings, ...]</td>\n",
       "      <td>[2, 2, 1, 10, 6, 1, 1, 1, 1, 1, 1, 1, 1, 1, 4, 1, 1, 1, 1, 1, 4, 2, 2, 2, 2, 3, 1, 1, 2, 1, 2, 1, 2, 1, 1, 1, 1, 1, 1, 2, 1, 2, 1, 2, 1, 1, 1, 1, 1, 1, 1, 2, 1, 1, 1, 1, 1, 1, 1, 1, 1, 1, 1, 1, 1, 1, 1, 1, 2, 1, 1, 1, 1, 1, 1, 2, 1, 1, 1, 1, 2, 1, 1, 1, 1, 1, 2, 1, 1, 1, 1, 2, 1, 1, 1, 1, 1, 1, 1, 2, ...]</td>\n",
       "    </tr>\n",
       "    <tr>\n",
       "      <th>2</th>\n",
       "      <td>bsns_057.txt</td>\n",
       "      <td>[economy, stronger, forecast, uk, probably, grew, faster, rate, third, quarter, reported, according, bank, england, deputy, governor, rachel, lomax, private, sector, business, surveys, suggest, official, estimates, ms, said, collectively, show, rapid, slowdown, house, price, growth, pointed, out, means, despite, strong, economic, base, rates, will, stay, hold, data, comes, office, national, statistics, ons, though, reliable, takes, longer, publish, now, boe, calling, delivery, can, make, effective, policy, decisions, recent, work, shown, add, value, even, preliminary, available, speech, north, wales, club, due, second, estimate, friday, the, mpc, judges, overall, little, higher, currently, indicate, successful, monetary, depends, good, information, cited, late, s, example, time, weak, ...]</td>\n",
       "      <td>[4, 2, 1, 2, 2, 1, 2, 1, 3, 3, 1, 1, 4, 2, 1, 1, 2, 7, 2, 2, 2, 3, 1, 3, 2, 5, 8, 1, 1, 1, 3, 2, 1, 4, 1, 1, 1, 1, 1, 5, 1, 3, 2, 1, 1, 5, 1, 1, 2, 2, 5, 1, 1, 1, 1, 2, 1, 1, 1, 2, 2, 1, 1, 4, 3, 1, 1, 1, 1, 1, 1, 1, 2, 1, 1, 1, 1, 1, 1, 1, 1, 3, 5, 1, 1, 1, 1, 1, 1, 1, 2, 1, 1, 1, 1, 1, 3, 1, 1, 1, ...]</td>\n",
       "    </tr>\n",
       "    <tr>\n",
       "      <th>3</th>\n",
       "      <td>bsns_272.txt</td>\n",
       "      <td>[markets, signal, brazilian, recovery, stock, market, risen, record, high, investors, display, growing, confidence, durability, countrys, economic, main, bovespa, index, sao, paolo, exchange, closed, points, friday, topping, previous, close, reached, day, buoyancy, reflects, optimism, economy, grow, much, brazil, recovering, last, years, recession, worst, decade, output, declined, president, luiz, inacio, lula, da, silva, elected, brazils, first, workingclass, strongly, criticised, pursuing, hardline, policy, praised, handling, foreign, investment, unemployment, fallen, inflation, brought, control, analysts, believe, will, rise, mark, time, long, there, space, gains, end, year, somewhere, said, paschoal, tadeu, buonomo, head, equities, trading, brokers, tov, currency, real, also, rose, highest, level, dollar, two, although, ...]</td>\n",
       "      <td>[2, 1, 3, 3, 3, 3, 2, 2, 1, 3, 1, 1, 1, 1, 1, 5, 1, 1, 1, 1, 1, 1, 1, 2, 2, 1, 2, 1, 1, 1, 1, 1, 1, 2, 1, 1, 2, 1, 2, 3, 1, 1, 1, 1, 1, 4, 1, 1, 1, 4, 4, 1, 2, 3, 1, 1, 1, 1, 1, 3, 1, 1, 1, 1, 1, 2, 3, 1, 2, 1, 1, 1, 2, 1, 2, 1, 1, 1, 1, 1, 1, 1, 1, 1, 1, 1, 1, 1, 1, 1, 1, 1, 1, 1, 1, 1, 1, 1, 1, 1, ...]</td>\n",
       "    </tr>\n",
       "    <tr>\n",
       "      <th>4</th>\n",
       "      <td>bsns_065.txt</td>\n",
       "      <td>[eu, aiming, fuel, development, aid, european, union, finance, ministers, meet, thursday, discuss, proposals, including, tax, jet, boost, poorer, nations, policy, makers, ask, report, money, can, raised, said, worlds, richest, countries, want, increase, amount, give, annual, gross, national, income, airlines, reacted, strongly, proposed, levy, profits, pressure, airline, industry, lowcost, firms, driving, prices, demand, dipping, september, terrorist, attacks, outbreak, killer, sars, virus, things, picked, up, us, companies, teetering, brink, bankruptcy, present, used, enjoys, either, low, rate, untaxed, member, states, of, course, applaud, humanitarian, initiatives, target, ulrich, schultestrathaus, secretary, general, association, our, midst, fundamental, crisisonly, confronted, measure, designed, costs, continued, sought, allay, fears, ...]</td>\n",
       "      <td>[6, 1, 5, 4, 3, 3, 1, 2, 3, 1, 1, 1, 2, 1, 3, 2, 1, 1, 2, 1, 1, 1, 1, 1, 1, 1, 4, 3, 2, 2, 1, 2, 1, 1, 1, 1, 1, 1, 7, 1, 1, 1, 2, 1, 1, 1, 2, 1, 1, 1, 1, 1, 1, 1, 1, 1, 1, 1, 1, 1, 1, 1, 1, 1, 1, 1, 1, 1, 1, 1, 1, 1, 1, 1, 1, 1, 1, 1, 1, 1, 1, 1, 1, 1, 1, 1, 1, 1, 1, 1, 1, 1, 1, 1, 1, 1, 1, 1, 1, 1, ...]</td>\n",
       "    </tr>\n",
       "    <tr>\n",
       "      <th>...</th>\n",
       "      <td>...</td>\n",
       "      <td>...</td>\n",
       "      <td>...</td>\n",
       "    </tr>\n",
       "    <tr>\n",
       "      <th>2220</th>\n",
       "      <td>tech_376.txt</td>\n",
       "      <td>[tmobile, bets, pocket, office, launched, latest, thirdgeneration, g, device, also, builtin, wifi, highspeed, wireless, net, access, unlike, devices, user, check, network, available, transfer, data, selects, fastest, one, itself, mda, iv, released, summer, upgrade, companys, existing, smartphone, gwifi, iii, reflects, push, mobile, firms, like, mini, laptops, display, can, swivelled, angled, used, small, computer, conventional, clamshell, phone, microsoft, two, cameras, qwerty, keyboard, design, similar, allinone, models, year, motorolas, mpx, five, european, workers, already, meaning, spend, significant, time, travelling, rene, obermann, tmobiles, chief, executive, told, press, conference, gsm, trade, show, cannes, added, what, need, said, seeing, increasing, take, calls, mdas, sold, europe, response, ...]</td>\n",
       "      <td>[5, 1, 3, 7, 1, 2, 1, 1, 3, 3, 1, 8, 3, 2, 2, 4, 1, 3, 1, 1, 2, 2, 1, 2, 1, 1, 2, 1, 2, 1, 2, 2, 1, 1, 1, 1, 1, 1, 2, 1, 7, 1, 2, 1, 1, 1, 2, 1, 1, 1, 1, 1, 1, 1, 2, 1, 1, 1, 1, 1, 1, 2, 1, 1, 1, 1, 1, 1, 1, 1, 2, 1, 1, 1, 1, 1, 1, 2, 1, 1, 1, 1, 1, 1, 2, 1, 1, 2, 2, 1, 2, 5, 1, 1, 1, 1, 1, 1, 1, 1, ...]</td>\n",
       "    </tr>\n",
       "    <tr>\n",
       "      <th>2221</th>\n",
       "      <td>tech_317.txt</td>\n",
       "      <td>[sony, psp, console, hits, us, march, gamers, will, able, buy, sonys, playstation, portable, news, europe, debut, handheld, go, sale, first, million, sold, come, spiderman, umd, disc, format, machine, billed, walkman, st, century, units, japan, cm, play, games, movies, music, also, offers, support, wireless, gaming, entering, market, dominated, nintendo, many, years, launched, ds, last, year, said, wanted, launch, roughly, time, now, fear, put, back, release, it, core, device, entertainment, kaz, hirai, president, computer, america]</td>\n",
       "      <td>[5, 2, 3, 1, 4, 3, 2, 6, 1, 1, 1, 1, 1, 1, 3, 1, 2, 1, 1, 1, 2, 3, 1, 1, 1, 1, 1, 2, 1, 1, 1, 1, 2, 2, 2, 1, 1, 1, 1, 1, 1, 1, 1, 3, 1, 1, 1, 2, 1, 1, 1, 2, 1, 1, 3, 1, 2, 1, 1, 1, 1, 1, 1, 1, 1, 1, 2, 2, 1, 1, 1, 1, 1]</td>\n",
       "    </tr>\n",
       "    <tr>\n",
       "      <th>2222</th>\n",
       "      <td>tech_179.txt</td>\n",
       "      <td>[seamen, sail, biometric, future, luxury, cruise, liner, crystal, harmony, currently, gulf, mexico, unlikely, setting, tests, technology, holidaymakers, enjoy, balmy, breezes, ships, crew, testing, prototype, versions, worlds, first, internationally, issued, id, cards, seafarers, equivalent, passport, along, owners, picture, name, personal, details, new, identity, document, incorporates, barcode, representing, unique, features, holders, fingerprints, due, february, next, year, line, revised, un, convention, documents, june, way, caribbean, designed, ensure, machine, readers, produced, different, companies, countries, working, interoperable, standards, results, current, involve, wide, range, occupations, nationalities, will, published, international, labour, organisation, ilo, end, november, cruises, operates, exploring, use, biometrics, yet, committed, authenticorp, us, consultancy, technical, specifications, ...]</td>\n",
       "      <td>[1, 1, 3, 1, 1, 1, 1, 3, 2, 2, 1, 1, 1, 1, 3, 3, 1, 1, 1, 1, 1, 1, 1, 1, 1, 1, 2, 1, 3, 3, 6, 9, 1, 1, 1, 1, 1, 1, 1, 1, 3, 2, 1, 1, 1, 1, 1, 1, 1, 1, 1, 1, 1, 1, 1, 1, 1, 3, 1, 1, 1, 1, 1, 1, 1, 1, 1, 2, 1, 2, 2, 1, 1, 1, 1, 1, 1, 1, 1, 1, 3, 1, 2, 1, 1, 2, 1, 1, 1, 1, 1, 1, 1, 1, 1, 1, 1, 1, 1, 1, ...]</td>\n",
       "    </tr>\n",
       "    <tr>\n",
       "      <th>2223</th>\n",
       "      <td>tech_010.txt</td>\n",
       "      <td>[googles, toolbar, sparks, concern, search, engine, firm, google, released, trial, tool, concerning, net, users, directs, people, preselected, commercial, websites, autolink, feature, comes, latest, provides, links, webpage, amazoncom, finds, books, isbn, number, site, also, map, service, address, car, carfax, licence, plate, said, available, us, adds, useful, concerned, dominant, position, market, place, mean, giving, competitive, edge, firms, like, amazon, works, creating, link, website, based, information, contained, even, specified, whether, publisher, page, given, permission, user, clicks, unique, directly, amazons, online, libraries, list, book, numbers, find, directing, not, paid, advertising, pages, may, rival, services, dan, gillmor, founder, grassroots, media, supports, citizenbased, bad, idea, unfortunate, ...]</td>\n",
       "      <td>[4, 3, 1, 1, 2, 2, 2, 9, 1, 2, 3, 1, 2, 8, 1, 3, 1, 2, 3, 7, 7, 1, 1, 1, 3, 3, 2, 1, 2, 3, 2, 3, 2, 1, 4, 1, 1, 1, 1, 1, 8, 1, 1, 1, 1, 1, 1, 1, 2, 1, 2, 1, 1, 1, 1, 2, 1, 1, 1, 4, 2, 1, 1, 1, 1, 1, 2, 1, 2, 1, 1, 4, 1, 1, 1, 1, 1, 1, 1, 1, 1, 1, 2, 1, 3, 1, 3, 1, 1, 1, 1, 1, 1, 1, 2, 1, 1, 1, 1, 1, ...]</td>\n",
       "    </tr>\n",
       "    <tr>\n",
       "      <th>2224</th>\n",
       "      <td>tech_152.txt</td>\n",
       "      <td>[new, years, texting, breaks, record, mobile, phone, essential, recent, festivities, party, mood, auld, lang, syne, number, text, messages, sent, anything, go, by, midnight, december, january, m, uk, highest, ever, daily, total, recorded, data, association, mda, represents, increase, last, figures, wishing, happy, year, friends, family, via, message, become, staple, ingredient, largest, quite, overtaken, oldfashioned, call, heading, way, said, mike, short, chairman, in, case, eve, useful, unable, speak, hear, noisy, background, also, lots, internationally, different, time, zones, made, traditional, calls, unfeasible, british, love, affair, shows, signs, abating, annual, set, exceed, bn, according, predicts, see, we, thought, might, slow, mms, took, seen, sign, ...]</td>\n",
       "      <td>[4, 5, 5, 1, 1, 3, 2, 1, 1, 1, 4, 1, 1, 1, 1, 1, 9, 5, 4, 1, 1, 1, 2, 1, 2, 1, 2, 1, 1, 1, 2, 1, 1, 1, 4, 1, 1, 1, 1, 1, 1, 1, 1, 1, 2, 1, 1, 1, 1, 1, 1, 1, 1, 1, 1, 1, 4, 1, 2, 1, 2, 1, 1, 1, 1, 1, 1, 1, 1, 1, 1, 1, 1, 1, 1, 1, 1, 1, 1, 1, 1, 1, 1, 1, 1, 1, 2, 1, 2, 1, 1, 1, 1, 1, 1, 1, 1, 1, 1, 1, ...]</td>\n",
       "    </tr>\n",
       "  </tbody>\n",
       "</table>\n",
       "<p>2225 rows × 3 columns</p>\n",
       "</div>"
      ],
      "text/plain": [
       "               Doc  \\\n",
       "0     bsns_382.txt   \n",
       "1     bsns_050.txt   \n",
       "2     bsns_057.txt   \n",
       "3     bsns_272.txt   \n",
       "4     bsns_065.txt   \n",
       "...            ...   \n",
       "2220  tech_376.txt   \n",
       "2221  tech_317.txt   \n",
       "2222  tech_179.txt   \n",
       "2223  tech_010.txt   \n",
       "2224  tech_152.txt   \n",
       "\n",
       "                                                                                                                                                                                                                                                                                                                                                                                                                                                                                                                                                                                                                                                                                                                                                                                                                                                                                                                                                                Terms  \\\n",
       "0                                                 [ban, forced, retirement, employers, will, longer, able, force, workers, retire, unless, can, justify, it, government, announced, firms, barred, imposing, arbitrary, ages, new, european, age, discrimination, rules, default, introduced, permitted, request, staying, beyond, compulsory, although, right, refuse, trade, industry, secretary, patricia, hewitt, said, people, work, wanted, saying, statutory, free, continue, employing, long, competent, proposals, department, last, year, allowed, till, wished, business, leaders, opposed, plan, costly, cumbersome, british, chambers, commerce, welcomed, latest, proposal, this, move, today, best, worlds, ability, define, end, point, employeremployee, relationship, employees, flexibility, past, concern, cowardly, complete, uturn, makes, mockery, governments, socalled, commitment, outlawing, ageism, leaving, incoming, law, unravel, ...]   \n",
       "1                                                                                            [bad, weather, hits, nestle, sales, combination, rising, raw, material, costs, sluggish, european, economy, hit, swiss, food, drink, giant, revenue, dipped, bn, francs, ice, cream, mineral, water, dampened, wet, summer, however, nestles, profits, margins, helped, strong, performance, americas, china, raise, dividend, paying, back, debt, said, strength, franc, us, dollar, disposal, businesses, challenging, trading, conditions, europe, dented, poor, across, continent, contrast, prolonged, heat, wave, severely, affected, demand, bottled, also, fell, although, chocolate, coffee, frozen, goods, petcare, products, performed, better, elsewhere, enjoyed, exceptional, year, north, america, outperforming, market, terms, growth, added, strongly, africa, asia, despite, impact, high, oil, prices, political, instability, total, earnings, ...]   \n",
       "2                                                                                                                                    [economy, stronger, forecast, uk, probably, grew, faster, rate, third, quarter, reported, according, bank, england, deputy, governor, rachel, lomax, private, sector, business, surveys, suggest, official, estimates, ms, said, collectively, show, rapid, slowdown, house, price, growth, pointed, out, means, despite, strong, economic, base, rates, will, stay, hold, data, comes, office, national, statistics, ons, though, reliable, takes, longer, publish, now, boe, calling, delivery, can, make, effective, policy, decisions, recent, work, shown, add, value, even, preliminary, available, speech, north, wales, club, due, second, estimate, friday, the, mpc, judges, overall, little, higher, currently, indicate, successful, monetary, depends, good, information, cited, late, s, example, time, weak, ...]   \n",
       "3                                                                                            [markets, signal, brazilian, recovery, stock, market, risen, record, high, investors, display, growing, confidence, durability, countrys, economic, main, bovespa, index, sao, paolo, exchange, closed, points, friday, topping, previous, close, reached, day, buoyancy, reflects, optimism, economy, grow, much, brazil, recovering, last, years, recession, worst, decade, output, declined, president, luiz, inacio, lula, da, silva, elected, brazils, first, workingclass, strongly, criticised, pursuing, hardline, policy, praised, handling, foreign, investment, unemployment, fallen, inflation, brought, control, analysts, believe, will, rise, mark, time, long, there, space, gains, end, year, somewhere, said, paschoal, tadeu, buonomo, head, equities, trading, brokers, tov, currency, real, also, rose, highest, level, dollar, two, although, ...]   \n",
       "4                                                                             [eu, aiming, fuel, development, aid, european, union, finance, ministers, meet, thursday, discuss, proposals, including, tax, jet, boost, poorer, nations, policy, makers, ask, report, money, can, raised, said, worlds, richest, countries, want, increase, amount, give, annual, gross, national, income, airlines, reacted, strongly, proposed, levy, profits, pressure, airline, industry, lowcost, firms, driving, prices, demand, dipping, september, terrorist, attacks, outbreak, killer, sars, virus, things, picked, up, us, companies, teetering, brink, bankruptcy, present, used, enjoys, either, low, rate, untaxed, member, states, of, course, applaud, humanitarian, initiatives, target, ulrich, schultestrathaus, secretary, general, association, our, midst, fundamental, crisisonly, confronted, measure, designed, costs, continued, sought, allay, fears, ...]   \n",
       "...                                                                                                                                                                                                                                                                                                                                                                                                                                                                                                                                                                                                                                                                                                                                                                                                                                                                                                                                                               ...   \n",
       "2220                                                                                                               [tmobile, bets, pocket, office, launched, latest, thirdgeneration, g, device, also, builtin, wifi, highspeed, wireless, net, access, unlike, devices, user, check, network, available, transfer, data, selects, fastest, one, itself, mda, iv, released, summer, upgrade, companys, existing, smartphone, gwifi, iii, reflects, push, mobile, firms, like, mini, laptops, display, can, swivelled, angled, used, small, computer, conventional, clamshell, phone, microsoft, two, cameras, qwerty, keyboard, design, similar, allinone, models, year, motorolas, mpx, five, european, workers, already, meaning, spend, significant, time, travelling, rene, obermann, tmobiles, chief, executive, told, press, conference, gsm, trade, show, cannes, added, what, need, said, seeing, increasing, take, calls, mdas, sold, europe, response, ...]   \n",
       "2221                                                                                                                                                                                                                                                                                                                                                                                                       [sony, psp, console, hits, us, march, gamers, will, able, buy, sonys, playstation, portable, news, europe, debut, handheld, go, sale, first, million, sold, come, spiderman, umd, disc, format, machine, billed, walkman, st, century, units, japan, cm, play, games, movies, music, also, offers, support, wireless, gaming, entering, market, dominated, nintendo, many, years, launched, ds, last, year, said, wanted, launch, roughly, time, now, fear, put, back, release, it, core, device, entertainment, kaz, hirai, president, computer, america]   \n",
       "2222  [seamen, sail, biometric, future, luxury, cruise, liner, crystal, harmony, currently, gulf, mexico, unlikely, setting, tests, technology, holidaymakers, enjoy, balmy, breezes, ships, crew, testing, prototype, versions, worlds, first, internationally, issued, id, cards, seafarers, equivalent, passport, along, owners, picture, name, personal, details, new, identity, document, incorporates, barcode, representing, unique, features, holders, fingerprints, due, february, next, year, line, revised, un, convention, documents, june, way, caribbean, designed, ensure, machine, readers, produced, different, companies, countries, working, interoperable, standards, results, current, involve, wide, range, occupations, nationalities, will, published, international, labour, organisation, ilo, end, november, cruises, operates, exploring, use, biometrics, yet, committed, authenticorp, us, consultancy, technical, specifications, ...]   \n",
       "2223                                                                                                [googles, toolbar, sparks, concern, search, engine, firm, google, released, trial, tool, concerning, net, users, directs, people, preselected, commercial, websites, autolink, feature, comes, latest, provides, links, webpage, amazoncom, finds, books, isbn, number, site, also, map, service, address, car, carfax, licence, plate, said, available, us, adds, useful, concerned, dominant, position, market, place, mean, giving, competitive, edge, firms, like, amazon, works, creating, link, website, based, information, contained, even, specified, whether, publisher, page, given, permission, user, clicks, unique, directly, amazons, online, libraries, list, book, numbers, find, directing, not, paid, advertising, pages, may, rival, services, dan, gillmor, founder, grassroots, media, supports, citizenbased, bad, idea, unfortunate, ...]   \n",
       "2224                                                                                                                                                          [new, years, texting, breaks, record, mobile, phone, essential, recent, festivities, party, mood, auld, lang, syne, number, text, messages, sent, anything, go, by, midnight, december, january, m, uk, highest, ever, daily, total, recorded, data, association, mda, represents, increase, last, figures, wishing, happy, year, friends, family, via, message, become, staple, ingredient, largest, quite, overtaken, oldfashioned, call, heading, way, said, mike, short, chairman, in, case, eve, useful, unable, speak, hear, noisy, background, also, lots, internationally, different, time, zones, made, traditional, calls, unfeasible, british, love, affair, shows, signs, abating, annual, set, exceed, bn, according, predicts, see, we, thought, might, slow, mms, took, seen, sign, ...]   \n",
       "\n",
       "                                                                                                                                                                                                                                                                                                                 TF(t,d)  \n",
       "0     [1, 2, 6, 4, 7, 2, 1, 1, 4, 1, 1, 2, 1, 2, 2, 1, 1, 1, 2, 1, 1, 1, 2, 12, 3, 1, 2, 1, 1, 2, 1, 1, 2, 1, 2, 1, 2, 2, 1, 1, 1, 7, 3, 3, 1, 1, 1, 1, 1, 1, 1, 1, 1, 1, 1, 1, 1, 1, 1, 1, 1, 1, 1, 1, 1, 1, 1, 1, 1, 1, 1, 2, 1, 1, 1, 1, 1, 1, 1, 1, 1, 1, 1, 1, 1, 2, 1, 1, 1, 1, 1, 1, 1, 1, 1, 1, 1, 1, 2, 1, ...]  \n",
       "1     [2, 2, 1, 10, 6, 1, 1, 1, 1, 1, 1, 1, 1, 1, 4, 1, 1, 1, 1, 1, 4, 2, 2, 2, 2, 3, 1, 1, 2, 1, 2, 1, 2, 1, 1, 1, 1, 1, 1, 2, 1, 2, 1, 2, 1, 1, 1, 1, 1, 1, 1, 2, 1, 1, 1, 1, 1, 1, 1, 1, 1, 1, 1, 1, 1, 1, 1, 1, 2, 1, 1, 1, 1, 1, 1, 2, 1, 1, 1, 1, 2, 1, 1, 1, 1, 1, 2, 1, 1, 1, 1, 2, 1, 1, 1, 1, 1, 1, 1, 2, ...]  \n",
       "2      [4, 2, 1, 2, 2, 1, 2, 1, 3, 3, 1, 1, 4, 2, 1, 1, 2, 7, 2, 2, 2, 3, 1, 3, 2, 5, 8, 1, 1, 1, 3, 2, 1, 4, 1, 1, 1, 1, 1, 5, 1, 3, 2, 1, 1, 5, 1, 1, 2, 2, 5, 1, 1, 1, 1, 2, 1, 1, 1, 2, 2, 1, 1, 4, 3, 1, 1, 1, 1, 1, 1, 1, 2, 1, 1, 1, 1, 1, 1, 1, 1, 3, 5, 1, 1, 1, 1, 1, 1, 1, 2, 1, 1, 1, 1, 1, 3, 1, 1, 1, ...]  \n",
       "3      [2, 1, 3, 3, 3, 3, 2, 2, 1, 3, 1, 1, 1, 1, 1, 5, 1, 1, 1, 1, 1, 1, 1, 2, 2, 1, 2, 1, 1, 1, 1, 1, 1, 2, 1, 1, 2, 1, 2, 3, 1, 1, 1, 1, 1, 4, 1, 1, 1, 4, 4, 1, 2, 3, 1, 1, 1, 1, 1, 3, 1, 1, 1, 1, 1, 2, 3, 1, 2, 1, 1, 1, 2, 1, 2, 1, 1, 1, 1, 1, 1, 1, 1, 1, 1, 1, 1, 1, 1, 1, 1, 1, 1, 1, 1, 1, 1, 1, 1, 1, ...]  \n",
       "4      [6, 1, 5, 4, 3, 3, 1, 2, 3, 1, 1, 1, 2, 1, 3, 2, 1, 1, 2, 1, 1, 1, 1, 1, 1, 1, 4, 3, 2, 2, 1, 2, 1, 1, 1, 1, 1, 1, 7, 1, 1, 1, 2, 1, 1, 1, 2, 1, 1, 1, 1, 1, 1, 1, 1, 1, 1, 1, 1, 1, 1, 1, 1, 1, 1, 1, 1, 1, 1, 1, 1, 1, 1, 1, 1, 1, 1, 1, 1, 1, 1, 1, 1, 1, 1, 1, 1, 1, 1, 1, 1, 1, 1, 1, 1, 1, 1, 1, 1, 1, ...]  \n",
       "...                                                                                                                                                                                                                                                                                                                  ...  \n",
       "2220   [5, 1, 3, 7, 1, 2, 1, 1, 3, 3, 1, 8, 3, 2, 2, 4, 1, 3, 1, 1, 2, 2, 1, 2, 1, 1, 2, 1, 2, 1, 2, 2, 1, 1, 1, 1, 1, 1, 2, 1, 7, 1, 2, 1, 1, 1, 2, 1, 1, 1, 1, 1, 1, 1, 2, 1, 1, 1, 1, 1, 1, 2, 1, 1, 1, 1, 1, 1, 1, 1, 2, 1, 1, 1, 1, 1, 1, 2, 1, 1, 1, 1, 1, 1, 2, 1, 1, 2, 2, 1, 2, 5, 1, 1, 1, 1, 1, 1, 1, 1, ...]  \n",
       "2221                                                                                         [5, 2, 3, 1, 4, 3, 2, 6, 1, 1, 1, 1, 1, 1, 3, 1, 2, 1, 1, 1, 2, 3, 1, 1, 1, 1, 1, 2, 1, 1, 1, 1, 2, 2, 2, 1, 1, 1, 1, 1, 1, 1, 1, 3, 1, 1, 1, 2, 1, 1, 1, 2, 1, 1, 3, 1, 2, 1, 1, 1, 1, 1, 1, 1, 1, 1, 2, 2, 1, 1, 1, 1, 1]  \n",
       "2222   [1, 1, 3, 1, 1, 1, 1, 3, 2, 2, 1, 1, 1, 1, 3, 3, 1, 1, 1, 1, 1, 1, 1, 1, 1, 1, 2, 1, 3, 3, 6, 9, 1, 1, 1, 1, 1, 1, 1, 1, 3, 2, 1, 1, 1, 1, 1, 1, 1, 1, 1, 1, 1, 1, 1, 1, 1, 3, 1, 1, 1, 1, 1, 1, 1, 1, 1, 2, 1, 2, 2, 1, 1, 1, 1, 1, 1, 1, 1, 1, 3, 1, 2, 1, 1, 2, 1, 1, 1, 1, 1, 1, 1, 1, 1, 1, 1, 1, 1, 1, ...]  \n",
       "2223   [4, 3, 1, 1, 2, 2, 2, 9, 1, 2, 3, 1, 2, 8, 1, 3, 1, 2, 3, 7, 7, 1, 1, 1, 3, 3, 2, 1, 2, 3, 2, 3, 2, 1, 4, 1, 1, 1, 1, 1, 8, 1, 1, 1, 1, 1, 1, 1, 2, 1, 2, 1, 1, 1, 1, 2, 1, 1, 1, 4, 2, 1, 1, 1, 1, 1, 2, 1, 2, 1, 1, 4, 1, 1, 1, 1, 1, 1, 1, 1, 1, 1, 2, 1, 3, 1, 3, 1, 1, 1, 1, 1, 1, 1, 2, 1, 1, 1, 1, 1, ...]  \n",
       "2224   [4, 5, 5, 1, 1, 3, 2, 1, 1, 1, 4, 1, 1, 1, 1, 1, 9, 5, 4, 1, 1, 1, 2, 1, 2, 1, 2, 1, 1, 1, 2, 1, 1, 1, 4, 1, 1, 1, 1, 1, 1, 1, 1, 1, 2, 1, 1, 1, 1, 1, 1, 1, 1, 1, 1, 1, 4, 1, 2, 1, 2, 1, 1, 1, 1, 1, 1, 1, 1, 1, 1, 1, 1, 1, 1, 1, 1, 1, 1, 1, 1, 1, 1, 1, 1, 1, 2, 1, 2, 1, 1, 1, 1, 1, 1, 1, 1, 1, 1, 1, ...]  \n",
       "\n",
       "[2225 rows x 3 columns]"
      ]
     },
     "execution_count": 39,
     "metadata": {},
     "output_type": "execute_result"
    }
   ],
   "source": [
    "cols = [\"Doc\", \"Terms\", \"TF(t,d)\"]\n",
    "tf.toDF(cols).toPandas()"
   ]
  },
  {
   "cell_type": "code",
   "execution_count": 40,
   "metadata": {},
   "outputs": [],
   "source": [
    "def log_tf(d):\n",
    "    \n",
    "    doc   = d[0]\n",
    "    terms = d[1]\n",
    "    tf    = d[2]\n",
    "    \n",
    "    return(doc, terms, [1 + math.log(t, 10) for t in tf])"
   ]
  },
  {
   "cell_type": "code",
   "execution_count": 41,
   "metadata": {},
   "outputs": [],
   "source": [
    "log_tf = tf.map(log_tf)"
   ]
  },
  {
   "cell_type": "code",
   "execution_count": 42,
   "metadata": {},
   "outputs": [
    {
     "data": {
      "text/html": [
       "<div>\n",
       "<style scoped>\n",
       "    .dataframe tbody tr th:only-of-type {\n",
       "        vertical-align: middle;\n",
       "    }\n",
       "\n",
       "    .dataframe tbody tr th {\n",
       "        vertical-align: top;\n",
       "    }\n",
       "\n",
       "    .dataframe thead th {\n",
       "        text-align: right;\n",
       "    }\n",
       "</style>\n",
       "<table border=\"1\" class=\"dataframe\">\n",
       "  <thead>\n",
       "    <tr style=\"text-align: right;\">\n",
       "      <th></th>\n",
       "      <th>Doc</th>\n",
       "      <th>Terms</th>\n",
       "      <th>Log-TF(t,d)</th>\n",
       "    </tr>\n",
       "  </thead>\n",
       "  <tbody>\n",
       "    <tr>\n",
       "      <th>0</th>\n",
       "      <td>bsns_382.txt</td>\n",
       "      <td>[ban, forced, retirement, employers, will, longer, able, force, workers, retire, unless, can, justify, it, government, announced, firms, barred, imposing, arbitrary, ages, new, european, age, discrimination, rules, default, introduced, permitted, request, staying, beyond, compulsory, although, right, refuse, trade, industry, secretary, patricia, hewitt, said, people, work, wanted, saying, statutory, free, continue, employing, long, competent, proposals, department, last, year, allowed, till, wished, business, leaders, opposed, plan, costly, cumbersome, british, chambers, commerce, welcomed, latest, proposal, this, move, today, best, worlds, ability, define, end, point, employeremployee, relationship, employees, flexibility, past, concern, cowardly, complete, uturn, makes, mockery, governments, socalled, commitment, outlawing, ageism, leaving, incoming, law, unravel, ...]</td>\n",
       "      <td>[1.0, 1.3010299956639813, 1.7781512503836434, 1.6020599913279623, 1.8450980400142567, 1.3010299956639813, 1.0, 1.0, 1.6020599913279623, 1.0, 1.0, 1.3010299956639813, 1.0, 1.3010299956639813, 1.3010299956639813, 1.0, 1.0, 1.0, 1.3010299956639813, 1.0, 1.0, 1.0, 1.3010299956639813, 2.0791812460476247, 1.4771212547196624, 1.0, 1.3010299956639813, 1.0, 1.0, 1.3010299956639813, 1.0, 1.0, 1.3010299956639813, 1.0, 1.3010299956639813, 1.0, 1.3010299956639813, 1.3010299956639813, 1.0, 1.0, 1.0, 1.8450980400142567, 1.4771212547196624, 1.4771212547196624, 1.0, 1.0, 1.0, 1.0, 1.0, 1.0, 1.0, 1.0, 1.0, 1.0, 1.0, 1.0, 1.0, 1.0, 1.0, 1.0, 1.0, 1.0, 1.0, 1.0, 1.0, 1.0, 1.0, 1.0, 1.0, 1.0, 1.0, 1.3010299956639813, 1.0, 1.0, 1.0, 1.0, 1.0, 1.0, 1.0, 1.0, 1.0, 1.0, 1.0, 1.0, 1.0, 1.3010299956639813, 1.0, 1.0, 1.0, 1.0, 1.0, 1.0, 1.0, 1.0, 1.0, 1.0, 1.0, 1.0, 1.3010299956639813, 1.0, ...]</td>\n",
       "    </tr>\n",
       "    <tr>\n",
       "      <th>1</th>\n",
       "      <td>bsns_050.txt</td>\n",
       "      <td>[bad, weather, hits, nestle, sales, combination, rising, raw, material, costs, sluggish, european, economy, hit, swiss, food, drink, giant, revenue, dipped, bn, francs, ice, cream, mineral, water, dampened, wet, summer, however, nestles, profits, margins, helped, strong, performance, americas, china, raise, dividend, paying, back, debt, said, strength, franc, us, dollar, disposal, businesses, challenging, trading, conditions, europe, dented, poor, across, continent, contrast, prolonged, heat, wave, severely, affected, demand, bottled, also, fell, although, chocolate, coffee, frozen, goods, petcare, products, performed, better, elsewhere, enjoyed, exceptional, year, north, america, outperforming, market, terms, growth, added, strongly, africa, asia, despite, impact, high, oil, prices, political, instability, total, earnings, ...]</td>\n",
       "      <td>[1.3010299956639813, 1.3010299956639813, 1.0, 2.0, 1.7781512503836434, 1.0, 1.0, 1.0, 1.0, 1.0, 1.0, 1.0, 1.0, 1.0, 1.6020599913279623, 1.0, 1.0, 1.0, 1.0, 1.0, 1.6020599913279623, 1.3010299956639813, 1.3010299956639813, 1.3010299956639813, 1.3010299956639813, 1.4771212547196624, 1.0, 1.0, 1.3010299956639813, 1.0, 1.3010299956639813, 1.0, 1.3010299956639813, 1.0, 1.0, 1.0, 1.0, 1.0, 1.0, 1.3010299956639813, 1.0, 1.3010299956639813, 1.0, 1.3010299956639813, 1.0, 1.0, 1.0, 1.0, 1.0, 1.0, 1.0, 1.3010299956639813, 1.0, 1.0, 1.0, 1.0, 1.0, 1.0, 1.0, 1.0, 1.0, 1.0, 1.0, 1.0, 1.0, 1.0, 1.0, 1.0, 1.3010299956639813, 1.0, 1.0, 1.0, 1.0, 1.0, 1.0, 1.3010299956639813, 1.0, 1.0, 1.0, 1.0, 1.3010299956639813, 1.0, 1.0, 1.0, 1.0, 1.0, 1.3010299956639813, 1.0, 1.0, 1.0, 1.0, 1.3010299956639813, 1.0, 1.0, 1.0, 1.0, 1.0, 1.0, 1.0, 1.3010299956639813, ...]</td>\n",
       "    </tr>\n",
       "    <tr>\n",
       "      <th>2</th>\n",
       "      <td>bsns_057.txt</td>\n",
       "      <td>[economy, stronger, forecast, uk, probably, grew, faster, rate, third, quarter, reported, according, bank, england, deputy, governor, rachel, lomax, private, sector, business, surveys, suggest, official, estimates, ms, said, collectively, show, rapid, slowdown, house, price, growth, pointed, out, means, despite, strong, economic, base, rates, will, stay, hold, data, comes, office, national, statistics, ons, though, reliable, takes, longer, publish, now, boe, calling, delivery, can, make, effective, policy, decisions, recent, work, shown, add, value, even, preliminary, available, speech, north, wales, club, due, second, estimate, friday, the, mpc, judges, overall, little, higher, currently, indicate, successful, monetary, depends, good, information, cited, late, s, example, time, weak, ...]</td>\n",
       "      <td>[1.6020599913279623, 1.3010299956639813, 1.0, 1.3010299956639813, 1.3010299956639813, 1.0, 1.3010299956639813, 1.0, 1.4771212547196624, 1.4771212547196624, 1.0, 1.0, 1.6020599913279623, 1.3010299956639813, 1.0, 1.0, 1.3010299956639813, 1.8450980400142567, 1.3010299956639813, 1.3010299956639813, 1.3010299956639813, 1.4771212547196624, 1.0, 1.4771212547196624, 1.3010299956639813, 1.6989700043360187, 1.9030899869919433, 1.0, 1.0, 1.0, 1.4771212547196624, 1.3010299956639813, 1.0, 1.6020599913279623, 1.0, 1.0, 1.0, 1.0, 1.0, 1.6989700043360187, 1.0, 1.4771212547196624, 1.3010299956639813, 1.0, 1.0, 1.6989700043360187, 1.0, 1.0, 1.3010299956639813, 1.3010299956639813, 1.6989700043360187, 1.0, 1.0, 1.0, 1.0, 1.3010299956639813, 1.0, 1.0, 1.0, 1.3010299956639813, 1.3010299956639813, 1.0, 1.0, 1.6020599913279623, 1.4771212547196624, 1.0, 1.0, 1.0, 1.0, 1.0, 1.0, 1.0, 1.3010299956639813, 1.0, 1.0, 1.0, 1.0, 1.0, 1.0, 1.0, 1.0, 1.4771212547196624, 1.6989700043360187, 1.0, 1.0, 1.0, 1.0, 1.0, ...</td>\n",
       "    </tr>\n",
       "    <tr>\n",
       "      <th>3</th>\n",
       "      <td>bsns_272.txt</td>\n",
       "      <td>[markets, signal, brazilian, recovery, stock, market, risen, record, high, investors, display, growing, confidence, durability, countrys, economic, main, bovespa, index, sao, paolo, exchange, closed, points, friday, topping, previous, close, reached, day, buoyancy, reflects, optimism, economy, grow, much, brazil, recovering, last, years, recession, worst, decade, output, declined, president, luiz, inacio, lula, da, silva, elected, brazils, first, workingclass, strongly, criticised, pursuing, hardline, policy, praised, handling, foreign, investment, unemployment, fallen, inflation, brought, control, analysts, believe, will, rise, mark, time, long, there, space, gains, end, year, somewhere, said, paschoal, tadeu, buonomo, head, equities, trading, brokers, tov, currency, real, also, rose, highest, level, dollar, two, although, ...]</td>\n",
       "      <td>[1.3010299956639813, 1.0, 1.4771212547196624, 1.4771212547196624, 1.4771212547196624, 1.4771212547196624, 1.3010299956639813, 1.3010299956639813, 1.0, 1.4771212547196624, 1.0, 1.0, 1.0, 1.0, 1.0, 1.6989700043360187, 1.0, 1.0, 1.0, 1.0, 1.0, 1.0, 1.0, 1.3010299956639813, 1.3010299956639813, 1.0, 1.3010299956639813, 1.0, 1.0, 1.0, 1.0, 1.0, 1.0, 1.3010299956639813, 1.0, 1.0, 1.3010299956639813, 1.0, 1.3010299956639813, 1.4771212547196624, 1.0, 1.0, 1.0, 1.0, 1.0, 1.6020599913279623, 1.0, 1.0, 1.0, 1.6020599913279623, 1.6020599913279623, 1.0, 1.3010299956639813, 1.4771212547196624, 1.0, 1.0, 1.0, 1.0, 1.0, 1.4771212547196624, 1.0, 1.0, 1.0, 1.0, 1.0, 1.3010299956639813, 1.4771212547196624, 1.0, 1.3010299956639813, 1.0, 1.0, 1.0, 1.3010299956639813, 1.0, 1.3010299956639813, 1.0, 1.0, 1.0, 1.0, 1.0, 1.0, 1.0, 1.0, 1.0, 1.0, 1.0, 1.0, 1.0, 1.0, 1.0, 1.0, 1.0, 1.0, 1.0, 1.0, 1.0, 1.0, 1.0, 1.0, 1.0, ...]</td>\n",
       "    </tr>\n",
       "    <tr>\n",
       "      <th>4</th>\n",
       "      <td>bsns_065.txt</td>\n",
       "      <td>[eu, aiming, fuel, development, aid, european, union, finance, ministers, meet, thursday, discuss, proposals, including, tax, jet, boost, poorer, nations, policy, makers, ask, report, money, can, raised, said, worlds, richest, countries, want, increase, amount, give, annual, gross, national, income, airlines, reacted, strongly, proposed, levy, profits, pressure, airline, industry, lowcost, firms, driving, prices, demand, dipping, september, terrorist, attacks, outbreak, killer, sars, virus, things, picked, up, us, companies, teetering, brink, bankruptcy, present, used, enjoys, either, low, rate, untaxed, member, states, of, course, applaud, humanitarian, initiatives, target, ulrich, schultestrathaus, secretary, general, association, our, midst, fundamental, crisisonly, confronted, measure, designed, costs, continued, sought, allay, fears, ...]</td>\n",
       "      <td>[1.7781512503836434, 1.0, 1.6989700043360187, 1.6020599913279623, 1.4771212547196624, 1.4771212547196624, 1.0, 1.3010299956639813, 1.4771212547196624, 1.0, 1.0, 1.0, 1.3010299956639813, 1.0, 1.4771212547196624, 1.3010299956639813, 1.0, 1.0, 1.3010299956639813, 1.0, 1.0, 1.0, 1.0, 1.0, 1.0, 1.0, 1.6020599913279623, 1.4771212547196624, 1.3010299956639813, 1.3010299956639813, 1.0, 1.3010299956639813, 1.0, 1.0, 1.0, 1.0, 1.0, 1.0, 1.8450980400142567, 1.0, 1.0, 1.0, 1.3010299956639813, 1.0, 1.0, 1.0, 1.3010299956639813, 1.0, 1.0, 1.0, 1.0, 1.0, 1.0, 1.0, 1.0, 1.0, 1.0, 1.0, 1.0, 1.0, 1.0, 1.0, 1.0, 1.0, 1.0, 1.0, 1.0, 1.0, 1.0, 1.0, 1.0, 1.0, 1.0, 1.0, 1.0, 1.0, 1.0, 1.0, 1.0, 1.0, 1.0, 1.0, 1.0, 1.0, 1.0, 1.0, 1.0, 1.0, 1.0, 1.0, 1.0, 1.0, 1.0, 1.0, 1.0, 1.0, 1.0, 1.0, 1.0, 1.0, ...]</td>\n",
       "    </tr>\n",
       "    <tr>\n",
       "      <th>...</th>\n",
       "      <td>...</td>\n",
       "      <td>...</td>\n",
       "      <td>...</td>\n",
       "    </tr>\n",
       "    <tr>\n",
       "      <th>2220</th>\n",
       "      <td>tech_376.txt</td>\n",
       "      <td>[tmobile, bets, pocket, office, launched, latest, thirdgeneration, g, device, also, builtin, wifi, highspeed, wireless, net, access, unlike, devices, user, check, network, available, transfer, data, selects, fastest, one, itself, mda, iv, released, summer, upgrade, companys, existing, smartphone, gwifi, iii, reflects, push, mobile, firms, like, mini, laptops, display, can, swivelled, angled, used, small, computer, conventional, clamshell, phone, microsoft, two, cameras, qwerty, keyboard, design, similar, allinone, models, year, motorolas, mpx, five, european, workers, already, meaning, spend, significant, time, travelling, rene, obermann, tmobiles, chief, executive, told, press, conference, gsm, trade, show, cannes, added, what, need, said, seeing, increasing, take, calls, mdas, sold, europe, response, ...]</td>\n",
       "      <td>[1.6989700043360187, 1.0, 1.4771212547196624, 1.8450980400142567, 1.0, 1.3010299956639813, 1.0, 1.0, 1.4771212547196624, 1.4771212547196624, 1.0, 1.9030899869919433, 1.4771212547196624, 1.3010299956639813, 1.3010299956639813, 1.6020599913279623, 1.0, 1.4771212547196624, 1.0, 1.0, 1.3010299956639813, 1.3010299956639813, 1.0, 1.3010299956639813, 1.0, 1.0, 1.3010299956639813, 1.0, 1.3010299956639813, 1.0, 1.3010299956639813, 1.3010299956639813, 1.0, 1.0, 1.0, 1.0, 1.0, 1.0, 1.3010299956639813, 1.0, 1.8450980400142567, 1.0, 1.3010299956639813, 1.0, 1.0, 1.0, 1.3010299956639813, 1.0, 1.0, 1.0, 1.0, 1.0, 1.0, 1.0, 1.3010299956639813, 1.0, 1.0, 1.0, 1.0, 1.0, 1.0, 1.3010299956639813, 1.0, 1.0, 1.0, 1.0, 1.0, 1.0, 1.0, 1.0, 1.3010299956639813, 1.0, 1.0, 1.0, 1.0, 1.0, 1.0, 1.3010299956639813, 1.0, 1.0, 1.0, 1.0, 1.0, 1.0, 1.3010299956639813, 1.0, 1.0, 1.3010299956639813, 1.3010299956639813, 1.0, 1.3010299956639813, 1.6989700043360187, 1.0, 1.0, 1.0, 1.0, 1.0, 1.0, 1.0, 1.0, ...]</td>\n",
       "    </tr>\n",
       "    <tr>\n",
       "      <th>2221</th>\n",
       "      <td>tech_317.txt</td>\n",
       "      <td>[sony, psp, console, hits, us, march, gamers, will, able, buy, sonys, playstation, portable, news, europe, debut, handheld, go, sale, first, million, sold, come, spiderman, umd, disc, format, machine, billed, walkman, st, century, units, japan, cm, play, games, movies, music, also, offers, support, wireless, gaming, entering, market, dominated, nintendo, many, years, launched, ds, last, year, said, wanted, launch, roughly, time, now, fear, put, back, release, it, core, device, entertainment, kaz, hirai, president, computer, america]</td>\n",
       "      <td>[1.6989700043360187, 1.3010299956639813, 1.4771212547196624, 1.0, 1.6020599913279623, 1.4771212547196624, 1.3010299956639813, 1.7781512503836434, 1.0, 1.0, 1.0, 1.0, 1.0, 1.0, 1.4771212547196624, 1.0, 1.3010299956639813, 1.0, 1.0, 1.0, 1.3010299956639813, 1.4771212547196624, 1.0, 1.0, 1.0, 1.0, 1.0, 1.3010299956639813, 1.0, 1.0, 1.0, 1.0, 1.3010299956639813, 1.3010299956639813, 1.3010299956639813, 1.0, 1.0, 1.0, 1.0, 1.0, 1.0, 1.0, 1.0, 1.4771212547196624, 1.0, 1.0, 1.0, 1.3010299956639813, 1.0, 1.0, 1.0, 1.3010299956639813, 1.0, 1.0, 1.4771212547196624, 1.0, 1.3010299956639813, 1.0, 1.0, 1.0, 1.0, 1.0, 1.0, 1.0, 1.0, 1.0, 1.3010299956639813, 1.3010299956639813, 1.0, 1.0, 1.0, 1.0, 1.0]</td>\n",
       "    </tr>\n",
       "    <tr>\n",
       "      <th>2222</th>\n",
       "      <td>tech_179.txt</td>\n",
       "      <td>[seamen, sail, biometric, future, luxury, cruise, liner, crystal, harmony, currently, gulf, mexico, unlikely, setting, tests, technology, holidaymakers, enjoy, balmy, breezes, ships, crew, testing, prototype, versions, worlds, first, internationally, issued, id, cards, seafarers, equivalent, passport, along, owners, picture, name, personal, details, new, identity, document, incorporates, barcode, representing, unique, features, holders, fingerprints, due, february, next, year, line, revised, un, convention, documents, june, way, caribbean, designed, ensure, machine, readers, produced, different, companies, countries, working, interoperable, standards, results, current, involve, wide, range, occupations, nationalities, will, published, international, labour, organisation, ilo, end, november, cruises, operates, exploring, use, biometrics, yet, committed, authenticorp, us, consultancy, technical, specifications, ...]</td>\n",
       "      <td>[1.0, 1.0, 1.4771212547196624, 1.0, 1.0, 1.0, 1.0, 1.4771212547196624, 1.3010299956639813, 1.3010299956639813, 1.0, 1.0, 1.0, 1.0, 1.4771212547196624, 1.4771212547196624, 1.0, 1.0, 1.0, 1.0, 1.0, 1.0, 1.0, 1.0, 1.0, 1.0, 1.3010299956639813, 1.0, 1.4771212547196624, 1.4771212547196624, 1.7781512503836434, 1.9542425094393248, 1.0, 1.0, 1.0, 1.0, 1.0, 1.0, 1.0, 1.0, 1.4771212547196624, 1.3010299956639813, 1.0, 1.0, 1.0, 1.0, 1.0, 1.0, 1.0, 1.0, 1.0, 1.0, 1.0, 1.0, 1.0, 1.0, 1.0, 1.4771212547196624, 1.0, 1.0, 1.0, 1.0, 1.0, 1.0, 1.0, 1.0, 1.0, 1.3010299956639813, 1.0, 1.3010299956639813, 1.3010299956639813, 1.0, 1.0, 1.0, 1.0, 1.0, 1.0, 1.0, 1.0, 1.0, 1.4771212547196624, 1.0, 1.3010299956639813, 1.0, 1.0, 1.3010299956639813, 1.0, 1.0, 1.0, 1.0, 1.0, 1.0, 1.0, 1.0, 1.0, 1.0, 1.0, 1.0, 1.0, 1.0, ...]</td>\n",
       "    </tr>\n",
       "    <tr>\n",
       "      <th>2223</th>\n",
       "      <td>tech_010.txt</td>\n",
       "      <td>[googles, toolbar, sparks, concern, search, engine, firm, google, released, trial, tool, concerning, net, users, directs, people, preselected, commercial, websites, autolink, feature, comes, latest, provides, links, webpage, amazoncom, finds, books, isbn, number, site, also, map, service, address, car, carfax, licence, plate, said, available, us, adds, useful, concerned, dominant, position, market, place, mean, giving, competitive, edge, firms, like, amazon, works, creating, link, website, based, information, contained, even, specified, whether, publisher, page, given, permission, user, clicks, unique, directly, amazons, online, libraries, list, book, numbers, find, directing, not, paid, advertising, pages, may, rival, services, dan, gillmor, founder, grassroots, media, supports, citizenbased, bad, idea, unfortunate, ...]</td>\n",
       "      <td>[1.6020599913279623, 1.4771212547196624, 1.0, 1.0, 1.3010299956639813, 1.3010299956639813, 1.3010299956639813, 1.9542425094393248, 1.0, 1.3010299956639813, 1.4771212547196624, 1.0, 1.3010299956639813, 1.9030899869919433, 1.0, 1.4771212547196624, 1.0, 1.3010299956639813, 1.4771212547196624, 1.8450980400142567, 1.8450980400142567, 1.0, 1.0, 1.0, 1.4771212547196624, 1.4771212547196624, 1.3010299956639813, 1.0, 1.3010299956639813, 1.4771212547196624, 1.3010299956639813, 1.4771212547196624, 1.3010299956639813, 1.0, 1.6020599913279623, 1.0, 1.0, 1.0, 1.0, 1.0, 1.9030899869919433, 1.0, 1.0, 1.0, 1.0, 1.0, 1.0, 1.0, 1.3010299956639813, 1.0, 1.3010299956639813, 1.0, 1.0, 1.0, 1.0, 1.3010299956639813, 1.0, 1.0, 1.0, 1.6020599913279623, 1.3010299956639813, 1.0, 1.0, 1.0, 1.0, 1.0, 1.3010299956639813, 1.0, 1.3010299956639813, 1.0, 1.0, 1.6020599913279623, 1.0, 1.0, 1.0, 1.0, 1.0, 1.0, 1.0, 1.0, 1.0, 1.0, 1.3010299956639813, 1.0, 1.4771212547196624, 1.0, 1.4771212547196624, 1.0, 1.0, 1.0, 1.0, ...</td>\n",
       "    </tr>\n",
       "    <tr>\n",
       "      <th>2224</th>\n",
       "      <td>tech_152.txt</td>\n",
       "      <td>[new, years, texting, breaks, record, mobile, phone, essential, recent, festivities, party, mood, auld, lang, syne, number, text, messages, sent, anything, go, by, midnight, december, january, m, uk, highest, ever, daily, total, recorded, data, association, mda, represents, increase, last, figures, wishing, happy, year, friends, family, via, message, become, staple, ingredient, largest, quite, overtaken, oldfashioned, call, heading, way, said, mike, short, chairman, in, case, eve, useful, unable, speak, hear, noisy, background, also, lots, internationally, different, time, zones, made, traditional, calls, unfeasible, british, love, affair, shows, signs, abating, annual, set, exceed, bn, according, predicts, see, we, thought, might, slow, mms, took, seen, sign, ...]</td>\n",
       "      <td>[1.6020599913279623, 1.6989700043360187, 1.6989700043360187, 1.0, 1.0, 1.4771212547196624, 1.3010299956639813, 1.0, 1.0, 1.0, 1.6020599913279623, 1.0, 1.0, 1.0, 1.0, 1.0, 1.9542425094393248, 1.6989700043360187, 1.6020599913279623, 1.0, 1.0, 1.0, 1.3010299956639813, 1.0, 1.3010299956639813, 1.0, 1.3010299956639813, 1.0, 1.0, 1.0, 1.3010299956639813, 1.0, 1.0, 1.0, 1.6020599913279623, 1.0, 1.0, 1.0, 1.0, 1.0, 1.0, 1.0, 1.0, 1.0, 1.3010299956639813, 1.0, 1.0, 1.0, 1.0, 1.0, 1.0, 1.0, 1.0, 1.0, 1.0, 1.0, 1.6020599913279623, 1.0, 1.3010299956639813, 1.0, 1.3010299956639813, 1.0, 1.0, 1.0, 1.0, 1.0, 1.0, 1.0, 1.0, 1.0, 1.0, 1.0, 1.0, 1.0, 1.0, 1.0, 1.0, 1.0, 1.0, 1.0, 1.0, 1.0, 1.0, 1.0, 1.0, 1.0, 1.3010299956639813, 1.0, 1.3010299956639813, 1.0, 1.0, 1.0, 1.0, 1.0, 1.0, 1.0, 1.0, 1.0, 1.0, 1.0, ...]</td>\n",
       "    </tr>\n",
       "  </tbody>\n",
       "</table>\n",
       "<p>2225 rows × 3 columns</p>\n",
       "</div>"
      ],
      "text/plain": [
       "               Doc  \\\n",
       "0     bsns_382.txt   \n",
       "1     bsns_050.txt   \n",
       "2     bsns_057.txt   \n",
       "3     bsns_272.txt   \n",
       "4     bsns_065.txt   \n",
       "...            ...   \n",
       "2220  tech_376.txt   \n",
       "2221  tech_317.txt   \n",
       "2222  tech_179.txt   \n",
       "2223  tech_010.txt   \n",
       "2224  tech_152.txt   \n",
       "\n",
       "                                                                                                                                                                                                                                                                                                                                                                                                                                                                                                                                                                                                                                                                                                                                                                                                                                                                                                                                                                Terms  \\\n",
       "0                                                 [ban, forced, retirement, employers, will, longer, able, force, workers, retire, unless, can, justify, it, government, announced, firms, barred, imposing, arbitrary, ages, new, european, age, discrimination, rules, default, introduced, permitted, request, staying, beyond, compulsory, although, right, refuse, trade, industry, secretary, patricia, hewitt, said, people, work, wanted, saying, statutory, free, continue, employing, long, competent, proposals, department, last, year, allowed, till, wished, business, leaders, opposed, plan, costly, cumbersome, british, chambers, commerce, welcomed, latest, proposal, this, move, today, best, worlds, ability, define, end, point, employeremployee, relationship, employees, flexibility, past, concern, cowardly, complete, uturn, makes, mockery, governments, socalled, commitment, outlawing, ageism, leaving, incoming, law, unravel, ...]   \n",
       "1                                                                                            [bad, weather, hits, nestle, sales, combination, rising, raw, material, costs, sluggish, european, economy, hit, swiss, food, drink, giant, revenue, dipped, bn, francs, ice, cream, mineral, water, dampened, wet, summer, however, nestles, profits, margins, helped, strong, performance, americas, china, raise, dividend, paying, back, debt, said, strength, franc, us, dollar, disposal, businesses, challenging, trading, conditions, europe, dented, poor, across, continent, contrast, prolonged, heat, wave, severely, affected, demand, bottled, also, fell, although, chocolate, coffee, frozen, goods, petcare, products, performed, better, elsewhere, enjoyed, exceptional, year, north, america, outperforming, market, terms, growth, added, strongly, africa, asia, despite, impact, high, oil, prices, political, instability, total, earnings, ...]   \n",
       "2                                                                                                                                    [economy, stronger, forecast, uk, probably, grew, faster, rate, third, quarter, reported, according, bank, england, deputy, governor, rachel, lomax, private, sector, business, surveys, suggest, official, estimates, ms, said, collectively, show, rapid, slowdown, house, price, growth, pointed, out, means, despite, strong, economic, base, rates, will, stay, hold, data, comes, office, national, statistics, ons, though, reliable, takes, longer, publish, now, boe, calling, delivery, can, make, effective, policy, decisions, recent, work, shown, add, value, even, preliminary, available, speech, north, wales, club, due, second, estimate, friday, the, mpc, judges, overall, little, higher, currently, indicate, successful, monetary, depends, good, information, cited, late, s, example, time, weak, ...]   \n",
       "3                                                                                            [markets, signal, brazilian, recovery, stock, market, risen, record, high, investors, display, growing, confidence, durability, countrys, economic, main, bovespa, index, sao, paolo, exchange, closed, points, friday, topping, previous, close, reached, day, buoyancy, reflects, optimism, economy, grow, much, brazil, recovering, last, years, recession, worst, decade, output, declined, president, luiz, inacio, lula, da, silva, elected, brazils, first, workingclass, strongly, criticised, pursuing, hardline, policy, praised, handling, foreign, investment, unemployment, fallen, inflation, brought, control, analysts, believe, will, rise, mark, time, long, there, space, gains, end, year, somewhere, said, paschoal, tadeu, buonomo, head, equities, trading, brokers, tov, currency, real, also, rose, highest, level, dollar, two, although, ...]   \n",
       "4                                                                             [eu, aiming, fuel, development, aid, european, union, finance, ministers, meet, thursday, discuss, proposals, including, tax, jet, boost, poorer, nations, policy, makers, ask, report, money, can, raised, said, worlds, richest, countries, want, increase, amount, give, annual, gross, national, income, airlines, reacted, strongly, proposed, levy, profits, pressure, airline, industry, lowcost, firms, driving, prices, demand, dipping, september, terrorist, attacks, outbreak, killer, sars, virus, things, picked, up, us, companies, teetering, brink, bankruptcy, present, used, enjoys, either, low, rate, untaxed, member, states, of, course, applaud, humanitarian, initiatives, target, ulrich, schultestrathaus, secretary, general, association, our, midst, fundamental, crisisonly, confronted, measure, designed, costs, continued, sought, allay, fears, ...]   \n",
       "...                                                                                                                                                                                                                                                                                                                                                                                                                                                                                                                                                                                                                                                                                                                                                                                                                                                                                                                                                               ...   \n",
       "2220                                                                                                               [tmobile, bets, pocket, office, launched, latest, thirdgeneration, g, device, also, builtin, wifi, highspeed, wireless, net, access, unlike, devices, user, check, network, available, transfer, data, selects, fastest, one, itself, mda, iv, released, summer, upgrade, companys, existing, smartphone, gwifi, iii, reflects, push, mobile, firms, like, mini, laptops, display, can, swivelled, angled, used, small, computer, conventional, clamshell, phone, microsoft, two, cameras, qwerty, keyboard, design, similar, allinone, models, year, motorolas, mpx, five, european, workers, already, meaning, spend, significant, time, travelling, rene, obermann, tmobiles, chief, executive, told, press, conference, gsm, trade, show, cannes, added, what, need, said, seeing, increasing, take, calls, mdas, sold, europe, response, ...]   \n",
       "2221                                                                                                                                                                                                                                                                                                                                                                                                       [sony, psp, console, hits, us, march, gamers, will, able, buy, sonys, playstation, portable, news, europe, debut, handheld, go, sale, first, million, sold, come, spiderman, umd, disc, format, machine, billed, walkman, st, century, units, japan, cm, play, games, movies, music, also, offers, support, wireless, gaming, entering, market, dominated, nintendo, many, years, launched, ds, last, year, said, wanted, launch, roughly, time, now, fear, put, back, release, it, core, device, entertainment, kaz, hirai, president, computer, america]   \n",
       "2222  [seamen, sail, biometric, future, luxury, cruise, liner, crystal, harmony, currently, gulf, mexico, unlikely, setting, tests, technology, holidaymakers, enjoy, balmy, breezes, ships, crew, testing, prototype, versions, worlds, first, internationally, issued, id, cards, seafarers, equivalent, passport, along, owners, picture, name, personal, details, new, identity, document, incorporates, barcode, representing, unique, features, holders, fingerprints, due, february, next, year, line, revised, un, convention, documents, june, way, caribbean, designed, ensure, machine, readers, produced, different, companies, countries, working, interoperable, standards, results, current, involve, wide, range, occupations, nationalities, will, published, international, labour, organisation, ilo, end, november, cruises, operates, exploring, use, biometrics, yet, committed, authenticorp, us, consultancy, technical, specifications, ...]   \n",
       "2223                                                                                                [googles, toolbar, sparks, concern, search, engine, firm, google, released, trial, tool, concerning, net, users, directs, people, preselected, commercial, websites, autolink, feature, comes, latest, provides, links, webpage, amazoncom, finds, books, isbn, number, site, also, map, service, address, car, carfax, licence, plate, said, available, us, adds, useful, concerned, dominant, position, market, place, mean, giving, competitive, edge, firms, like, amazon, works, creating, link, website, based, information, contained, even, specified, whether, publisher, page, given, permission, user, clicks, unique, directly, amazons, online, libraries, list, book, numbers, find, directing, not, paid, advertising, pages, may, rival, services, dan, gillmor, founder, grassroots, media, supports, citizenbased, bad, idea, unfortunate, ...]   \n",
       "2224                                                                                                                                                          [new, years, texting, breaks, record, mobile, phone, essential, recent, festivities, party, mood, auld, lang, syne, number, text, messages, sent, anything, go, by, midnight, december, january, m, uk, highest, ever, daily, total, recorded, data, association, mda, represents, increase, last, figures, wishing, happy, year, friends, family, via, message, become, staple, ingredient, largest, quite, overtaken, oldfashioned, call, heading, way, said, mike, short, chairman, in, case, eve, useful, unable, speak, hear, noisy, background, also, lots, internationally, different, time, zones, made, traditional, calls, unfeasible, british, love, affair, shows, signs, abating, annual, set, exceed, bn, according, predicts, see, we, thought, might, slow, mms, took, seen, sign, ...]   \n",
       "\n",
       "                                                                                                                                                                                                                                                                                                                                                                                                                                                                                                                                                                                                                                                                                                                                                                                                                                                                                                                                                                                                                                  Log-TF(t,d)  \n",
       "0                                                                                                                            [1.0, 1.3010299956639813, 1.7781512503836434, 1.6020599913279623, 1.8450980400142567, 1.3010299956639813, 1.0, 1.0, 1.6020599913279623, 1.0, 1.0, 1.3010299956639813, 1.0, 1.3010299956639813, 1.3010299956639813, 1.0, 1.0, 1.0, 1.3010299956639813, 1.0, 1.0, 1.0, 1.3010299956639813, 2.0791812460476247, 1.4771212547196624, 1.0, 1.3010299956639813, 1.0, 1.0, 1.3010299956639813, 1.0, 1.0, 1.3010299956639813, 1.0, 1.3010299956639813, 1.0, 1.3010299956639813, 1.3010299956639813, 1.0, 1.0, 1.0, 1.8450980400142567, 1.4771212547196624, 1.4771212547196624, 1.0, 1.0, 1.0, 1.0, 1.0, 1.0, 1.0, 1.0, 1.0, 1.0, 1.0, 1.0, 1.0, 1.0, 1.0, 1.0, 1.0, 1.0, 1.0, 1.0, 1.0, 1.0, 1.0, 1.0, 1.0, 1.0, 1.0, 1.3010299956639813, 1.0, 1.0, 1.0, 1.0, 1.0, 1.0, 1.0, 1.0, 1.0, 1.0, 1.0, 1.0, 1.0, 1.3010299956639813, 1.0, 1.0, 1.0, 1.0, 1.0, 1.0, 1.0, 1.0, 1.0, 1.0, 1.0, 1.0, 1.3010299956639813, 1.0, ...]  \n",
       "1                                                                                                                                                          [1.3010299956639813, 1.3010299956639813, 1.0, 2.0, 1.7781512503836434, 1.0, 1.0, 1.0, 1.0, 1.0, 1.0, 1.0, 1.0, 1.0, 1.6020599913279623, 1.0, 1.0, 1.0, 1.0, 1.0, 1.6020599913279623, 1.3010299956639813, 1.3010299956639813, 1.3010299956639813, 1.3010299956639813, 1.4771212547196624, 1.0, 1.0, 1.3010299956639813, 1.0, 1.3010299956639813, 1.0, 1.3010299956639813, 1.0, 1.0, 1.0, 1.0, 1.0, 1.0, 1.3010299956639813, 1.0, 1.3010299956639813, 1.0, 1.3010299956639813, 1.0, 1.0, 1.0, 1.0, 1.0, 1.0, 1.0, 1.3010299956639813, 1.0, 1.0, 1.0, 1.0, 1.0, 1.0, 1.0, 1.0, 1.0, 1.0, 1.0, 1.0, 1.0, 1.0, 1.0, 1.0, 1.3010299956639813, 1.0, 1.0, 1.0, 1.0, 1.0, 1.0, 1.3010299956639813, 1.0, 1.0, 1.0, 1.0, 1.3010299956639813, 1.0, 1.0, 1.0, 1.0, 1.0, 1.3010299956639813, 1.0, 1.0, 1.0, 1.0, 1.3010299956639813, 1.0, 1.0, 1.0, 1.0, 1.0, 1.0, 1.0, 1.3010299956639813, ...]  \n",
       "2     [1.6020599913279623, 1.3010299956639813, 1.0, 1.3010299956639813, 1.3010299956639813, 1.0, 1.3010299956639813, 1.0, 1.4771212547196624, 1.4771212547196624, 1.0, 1.0, 1.6020599913279623, 1.3010299956639813, 1.0, 1.0, 1.3010299956639813, 1.8450980400142567, 1.3010299956639813, 1.3010299956639813, 1.3010299956639813, 1.4771212547196624, 1.0, 1.4771212547196624, 1.3010299956639813, 1.6989700043360187, 1.9030899869919433, 1.0, 1.0, 1.0, 1.4771212547196624, 1.3010299956639813, 1.0, 1.6020599913279623, 1.0, 1.0, 1.0, 1.0, 1.0, 1.6989700043360187, 1.0, 1.4771212547196624, 1.3010299956639813, 1.0, 1.0, 1.6989700043360187, 1.0, 1.0, 1.3010299956639813, 1.3010299956639813, 1.6989700043360187, 1.0, 1.0, 1.0, 1.0, 1.3010299956639813, 1.0, 1.0, 1.0, 1.3010299956639813, 1.3010299956639813, 1.0, 1.0, 1.6020599913279623, 1.4771212547196624, 1.0, 1.0, 1.0, 1.0, 1.0, 1.0, 1.0, 1.3010299956639813, 1.0, 1.0, 1.0, 1.0, 1.0, 1.0, 1.0, 1.0, 1.4771212547196624, 1.6989700043360187, 1.0, 1.0, 1.0, 1.0, 1.0, ...  \n",
       "3                                                                                              [1.3010299956639813, 1.0, 1.4771212547196624, 1.4771212547196624, 1.4771212547196624, 1.4771212547196624, 1.3010299956639813, 1.3010299956639813, 1.0, 1.4771212547196624, 1.0, 1.0, 1.0, 1.0, 1.0, 1.6989700043360187, 1.0, 1.0, 1.0, 1.0, 1.0, 1.0, 1.0, 1.3010299956639813, 1.3010299956639813, 1.0, 1.3010299956639813, 1.0, 1.0, 1.0, 1.0, 1.0, 1.0, 1.3010299956639813, 1.0, 1.0, 1.3010299956639813, 1.0, 1.3010299956639813, 1.4771212547196624, 1.0, 1.0, 1.0, 1.0, 1.0, 1.6020599913279623, 1.0, 1.0, 1.0, 1.6020599913279623, 1.6020599913279623, 1.0, 1.3010299956639813, 1.4771212547196624, 1.0, 1.0, 1.0, 1.0, 1.0, 1.4771212547196624, 1.0, 1.0, 1.0, 1.0, 1.0, 1.3010299956639813, 1.4771212547196624, 1.0, 1.3010299956639813, 1.0, 1.0, 1.0, 1.3010299956639813, 1.0, 1.3010299956639813, 1.0, 1.0, 1.0, 1.0, 1.0, 1.0, 1.0, 1.0, 1.0, 1.0, 1.0, 1.0, 1.0, 1.0, 1.0, 1.0, 1.0, 1.0, 1.0, 1.0, 1.0, 1.0, 1.0, 1.0, 1.0, ...]  \n",
       "4                                                                                                                                                                                                                      [1.7781512503836434, 1.0, 1.6989700043360187, 1.6020599913279623, 1.4771212547196624, 1.4771212547196624, 1.0, 1.3010299956639813, 1.4771212547196624, 1.0, 1.0, 1.0, 1.3010299956639813, 1.0, 1.4771212547196624, 1.3010299956639813, 1.0, 1.0, 1.3010299956639813, 1.0, 1.0, 1.0, 1.0, 1.0, 1.0, 1.0, 1.6020599913279623, 1.4771212547196624, 1.3010299956639813, 1.3010299956639813, 1.0, 1.3010299956639813, 1.0, 1.0, 1.0, 1.0, 1.0, 1.0, 1.8450980400142567, 1.0, 1.0, 1.0, 1.3010299956639813, 1.0, 1.0, 1.0, 1.3010299956639813, 1.0, 1.0, 1.0, 1.0, 1.0, 1.0, 1.0, 1.0, 1.0, 1.0, 1.0, 1.0, 1.0, 1.0, 1.0, 1.0, 1.0, 1.0, 1.0, 1.0, 1.0, 1.0, 1.0, 1.0, 1.0, 1.0, 1.0, 1.0, 1.0, 1.0, 1.0, 1.0, 1.0, 1.0, 1.0, 1.0, 1.0, 1.0, 1.0, 1.0, 1.0, 1.0, 1.0, 1.0, 1.0, 1.0, 1.0, 1.0, 1.0, 1.0, 1.0, 1.0, 1.0, ...]  \n",
       "...                                                                                                                                                                                                                                                                                                                                                                                                                                                                                                                                                                                                                                                                                                                                                                                                                                                                                                                                                                                                                                       ...  \n",
       "2220                [1.6989700043360187, 1.0, 1.4771212547196624, 1.8450980400142567, 1.0, 1.3010299956639813, 1.0, 1.0, 1.4771212547196624, 1.4771212547196624, 1.0, 1.9030899869919433, 1.4771212547196624, 1.3010299956639813, 1.3010299956639813, 1.6020599913279623, 1.0, 1.4771212547196624, 1.0, 1.0, 1.3010299956639813, 1.3010299956639813, 1.0, 1.3010299956639813, 1.0, 1.0, 1.3010299956639813, 1.0, 1.3010299956639813, 1.0, 1.3010299956639813, 1.3010299956639813, 1.0, 1.0, 1.0, 1.0, 1.0, 1.0, 1.3010299956639813, 1.0, 1.8450980400142567, 1.0, 1.3010299956639813, 1.0, 1.0, 1.0, 1.3010299956639813, 1.0, 1.0, 1.0, 1.0, 1.0, 1.0, 1.0, 1.3010299956639813, 1.0, 1.0, 1.0, 1.0, 1.0, 1.0, 1.3010299956639813, 1.0, 1.0, 1.0, 1.0, 1.0, 1.0, 1.0, 1.0, 1.3010299956639813, 1.0, 1.0, 1.0, 1.0, 1.0, 1.0, 1.3010299956639813, 1.0, 1.0, 1.0, 1.0, 1.0, 1.0, 1.3010299956639813, 1.0, 1.0, 1.3010299956639813, 1.3010299956639813, 1.0, 1.3010299956639813, 1.6989700043360187, 1.0, 1.0, 1.0, 1.0, 1.0, 1.0, 1.0, 1.0, ...]  \n",
       "2221                                                                                                                                                                                                                                                                                                                  [1.6989700043360187, 1.3010299956639813, 1.4771212547196624, 1.0, 1.6020599913279623, 1.4771212547196624, 1.3010299956639813, 1.7781512503836434, 1.0, 1.0, 1.0, 1.0, 1.0, 1.0, 1.4771212547196624, 1.0, 1.3010299956639813, 1.0, 1.0, 1.0, 1.3010299956639813, 1.4771212547196624, 1.0, 1.0, 1.0, 1.0, 1.0, 1.3010299956639813, 1.0, 1.0, 1.0, 1.0, 1.3010299956639813, 1.3010299956639813, 1.3010299956639813, 1.0, 1.0, 1.0, 1.0, 1.0, 1.0, 1.0, 1.0, 1.4771212547196624, 1.0, 1.0, 1.0, 1.3010299956639813, 1.0, 1.0, 1.0, 1.3010299956639813, 1.0, 1.0, 1.4771212547196624, 1.0, 1.3010299956639813, 1.0, 1.0, 1.0, 1.0, 1.0, 1.0, 1.0, 1.0, 1.0, 1.3010299956639813, 1.3010299956639813, 1.0, 1.0, 1.0, 1.0, 1.0]  \n",
       "2222                                                                                                                                                                                                    [1.0, 1.0, 1.4771212547196624, 1.0, 1.0, 1.0, 1.0, 1.4771212547196624, 1.3010299956639813, 1.3010299956639813, 1.0, 1.0, 1.0, 1.0, 1.4771212547196624, 1.4771212547196624, 1.0, 1.0, 1.0, 1.0, 1.0, 1.0, 1.0, 1.0, 1.0, 1.0, 1.3010299956639813, 1.0, 1.4771212547196624, 1.4771212547196624, 1.7781512503836434, 1.9542425094393248, 1.0, 1.0, 1.0, 1.0, 1.0, 1.0, 1.0, 1.0, 1.4771212547196624, 1.3010299956639813, 1.0, 1.0, 1.0, 1.0, 1.0, 1.0, 1.0, 1.0, 1.0, 1.0, 1.0, 1.0, 1.0, 1.0, 1.0, 1.4771212547196624, 1.0, 1.0, 1.0, 1.0, 1.0, 1.0, 1.0, 1.0, 1.0, 1.3010299956639813, 1.0, 1.3010299956639813, 1.3010299956639813, 1.0, 1.0, 1.0, 1.0, 1.0, 1.0, 1.0, 1.0, 1.0, 1.4771212547196624, 1.0, 1.3010299956639813, 1.0, 1.0, 1.3010299956639813, 1.0, 1.0, 1.0, 1.0, 1.0, 1.0, 1.0, 1.0, 1.0, 1.0, 1.0, 1.0, 1.0, 1.0, ...]  \n",
       "2223  [1.6020599913279623, 1.4771212547196624, 1.0, 1.0, 1.3010299956639813, 1.3010299956639813, 1.3010299956639813, 1.9542425094393248, 1.0, 1.3010299956639813, 1.4771212547196624, 1.0, 1.3010299956639813, 1.9030899869919433, 1.0, 1.4771212547196624, 1.0, 1.3010299956639813, 1.4771212547196624, 1.8450980400142567, 1.8450980400142567, 1.0, 1.0, 1.0, 1.4771212547196624, 1.4771212547196624, 1.3010299956639813, 1.0, 1.3010299956639813, 1.4771212547196624, 1.3010299956639813, 1.4771212547196624, 1.3010299956639813, 1.0, 1.6020599913279623, 1.0, 1.0, 1.0, 1.0, 1.0, 1.9030899869919433, 1.0, 1.0, 1.0, 1.0, 1.0, 1.0, 1.0, 1.3010299956639813, 1.0, 1.3010299956639813, 1.0, 1.0, 1.0, 1.0, 1.3010299956639813, 1.0, 1.0, 1.0, 1.6020599913279623, 1.3010299956639813, 1.0, 1.0, 1.0, 1.0, 1.0, 1.3010299956639813, 1.0, 1.3010299956639813, 1.0, 1.0, 1.6020599913279623, 1.0, 1.0, 1.0, 1.0, 1.0, 1.0, 1.0, 1.0, 1.0, 1.0, 1.3010299956639813, 1.0, 1.4771212547196624, 1.0, 1.4771212547196624, 1.0, 1.0, 1.0, 1.0, ...  \n",
       "2224                                                                                                                                                                                                    [1.6020599913279623, 1.6989700043360187, 1.6989700043360187, 1.0, 1.0, 1.4771212547196624, 1.3010299956639813, 1.0, 1.0, 1.0, 1.6020599913279623, 1.0, 1.0, 1.0, 1.0, 1.0, 1.9542425094393248, 1.6989700043360187, 1.6020599913279623, 1.0, 1.0, 1.0, 1.3010299956639813, 1.0, 1.3010299956639813, 1.0, 1.3010299956639813, 1.0, 1.0, 1.0, 1.3010299956639813, 1.0, 1.0, 1.0, 1.6020599913279623, 1.0, 1.0, 1.0, 1.0, 1.0, 1.0, 1.0, 1.0, 1.0, 1.3010299956639813, 1.0, 1.0, 1.0, 1.0, 1.0, 1.0, 1.0, 1.0, 1.0, 1.0, 1.0, 1.6020599913279623, 1.0, 1.3010299956639813, 1.0, 1.3010299956639813, 1.0, 1.0, 1.0, 1.0, 1.0, 1.0, 1.0, 1.0, 1.0, 1.0, 1.0, 1.0, 1.0, 1.0, 1.0, 1.0, 1.0, 1.0, 1.0, 1.0, 1.0, 1.0, 1.0, 1.0, 1.0, 1.3010299956639813, 1.0, 1.3010299956639813, 1.0, 1.0, 1.0, 1.0, 1.0, 1.0, 1.0, 1.0, 1.0, 1.0, 1.0, ...]  \n",
       "\n",
       "[2225 rows x 3 columns]"
      ]
     },
     "execution_count": 42,
     "metadata": {},
     "output_type": "execute_result"
    }
   ],
   "source": [
    "cols = [\"Doc\", \"Terms\", \"Log-TF(t,d)\"]\n",
    "log_tf.toDF(cols).toPandas()"
   ]
  },
  {
   "cell_type": "code",
   "execution_count": 43,
   "metadata": {},
   "outputs": [],
   "source": [
    "def df(t):\n",
    "    \n",
    "    term = t[0]\n",
    "    dft  = t[1][0]\n",
    "   \n",
    "    return (term, dft)"
   ]
  },
  {
   "cell_type": "code",
   "execution_count": 44,
   "metadata": {},
   "outputs": [],
   "source": [
    "df = inverted_index.map(df)"
   ]
  },
  {
   "cell_type": "code",
   "execution_count": 45,
   "metadata": {},
   "outputs": [
    {
     "data": {
      "text/plain": [
       "[('retirement', 37)]"
      ]
     },
     "execution_count": 45,
     "metadata": {},
     "output_type": "execute_result"
    }
   ],
   "source": [
    "df.take(1)"
   ]
  },
  {
   "cell_type": "code",
   "execution_count": 46,
   "metadata": {},
   "outputs": [],
   "source": [
    "def idf(t):\n",
    "    \n",
    "    term = t[0]\n",
    "    dft  = t[1]\n",
    "    \n",
    "    a = num_of_documents / dft\n",
    "    idft = math.log(a, 10)\n",
    "    \n",
    "    return(term, idft)"
   ]
  },
  {
   "cell_type": "code",
   "execution_count": 47,
   "metadata": {},
   "outputs": [],
   "source": [
    "idf = df.map(idf)"
   ]
  },
  {
   "cell_type": "code",
   "execution_count": 48,
   "metadata": {},
   "outputs": [
    {
     "data": {
      "text/plain": [
       "[('retirement', 1.779128291249955)]"
      ]
     },
     "execution_count": 48,
     "metadata": {},
     "output_type": "execute_result"
    }
   ],
   "source": [
    "idf.take(1)"
   ]
  },
  {
   "cell_type": "code",
   "execution_count": 49,
   "metadata": {},
   "outputs": [],
   "source": [
    "idfMap = idf.collectAsMap()"
   ]
  },
  {
   "cell_type": "code",
   "execution_count": 50,
   "metadata": {},
   "outputs": [],
   "source": [
    "idft = df.join(idf)\n",
    "\n",
    "idft = idft.map(lambda t:(t[0], t[1][0], t[1][1]))"
   ]
  },
  {
   "cell_type": "code",
   "execution_count": 51,
   "metadata": {},
   "outputs": [
    {
     "data": {
      "text/html": [
       "<div>\n",
       "<style scoped>\n",
       "    .dataframe tbody tr th:only-of-type {\n",
       "        vertical-align: middle;\n",
       "    }\n",
       "\n",
       "    .dataframe tbody tr th {\n",
       "        vertical-align: top;\n",
       "    }\n",
       "\n",
       "    .dataframe thead th {\n",
       "        text-align: right;\n",
       "    }\n",
       "</style>\n",
       "<table border=\"1\" class=\"dataframe\">\n",
       "  <thead>\n",
       "    <tr style=\"text-align: right;\">\n",
       "      <th></th>\n",
       "      <th>Term</th>\n",
       "      <th>DF(t)</th>\n",
       "      <th>IDF(t)</th>\n",
       "    </tr>\n",
       "  </thead>\n",
       "  <tbody>\n",
       "    <tr>\n",
       "      <th>0</th>\n",
       "      <td>retirement</td>\n",
       "      <td>37</td>\n",
       "      <td>1.779128</td>\n",
       "    </tr>\n",
       "    <tr>\n",
       "      <th>1</th>\n",
       "      <td>rules</td>\n",
       "      <td>114</td>\n",
       "      <td>1.290425</td>\n",
       "    </tr>\n",
       "    <tr>\n",
       "      <th>2</th>\n",
       "      <td>default</td>\n",
       "      <td>11</td>\n",
       "      <td>2.305937</td>\n",
       "    </tr>\n",
       "    <tr>\n",
       "      <th>3</th>\n",
       "      <td>introduced</td>\n",
       "      <td>67</td>\n",
       "      <td>1.521255</td>\n",
       "    </tr>\n",
       "    <tr>\n",
       "      <th>4</th>\n",
       "      <td>beyond</td>\n",
       "      <td>83</td>\n",
       "      <td>1.428252</td>\n",
       "    </tr>\n",
       "    <tr>\n",
       "      <th>...</th>\n",
       "      <td>...</td>\n",
       "      <td>...</td>\n",
       "      <td>...</td>\n",
       "    </tr>\n",
       "    <tr>\n",
       "      <th>31526</th>\n",
       "      <td>galaxies</td>\n",
       "      <td>1</td>\n",
       "      <td>3.347330</td>\n",
       "    </tr>\n",
       "    <tr>\n",
       "      <th>31527</th>\n",
       "      <td>sanity</td>\n",
       "      <td>1</td>\n",
       "      <td>3.347330</td>\n",
       "    </tr>\n",
       "    <tr>\n",
       "      <th>31528</th>\n",
       "      <td>succesfull</td>\n",
       "      <td>1</td>\n",
       "      <td>3.347330</td>\n",
       "    </tr>\n",
       "    <tr>\n",
       "      <th>31529</th>\n",
       "      <td>autolinks</td>\n",
       "      <td>1</td>\n",
       "      <td>3.347330</td>\n",
       "    </tr>\n",
       "    <tr>\n",
       "      <th>31530</th>\n",
       "      <td>unfeasible</td>\n",
       "      <td>1</td>\n",
       "      <td>3.347330</td>\n",
       "    </tr>\n",
       "  </tbody>\n",
       "</table>\n",
       "<p>31531 rows × 3 columns</p>\n",
       "</div>"
      ],
      "text/plain": [
       "             Term  DF(t)    IDF(t)\n",
       "0      retirement     37  1.779128\n",
       "1           rules    114  1.290425\n",
       "2         default     11  2.305937\n",
       "3      introduced     67  1.521255\n",
       "4          beyond     83  1.428252\n",
       "...           ...    ...       ...\n",
       "31526    galaxies      1  3.347330\n",
       "31527      sanity      1  3.347330\n",
       "31528  succesfull      1  3.347330\n",
       "31529   autolinks      1  3.347330\n",
       "31530  unfeasible      1  3.347330\n",
       "\n",
       "[31531 rows x 3 columns]"
      ]
     },
     "execution_count": 51,
     "metadata": {},
     "output_type": "execute_result"
    }
   ],
   "source": [
    "cols = [\"Term\", \"DF(t)\", \"IDF(t)\"]\n",
    "idft.toDF(cols).toPandas()"
   ]
  },
  {
   "cell_type": "code",
   "execution_count": 52,
   "metadata": {},
   "outputs": [],
   "source": [
    "def tf_idf(d):\n",
    "    \n",
    "    doc   = d[0]\n",
    "    terms = d[1]\n",
    "    log_tf    = d[2]\n",
    "    wtd = []\n",
    "    \n",
    "    for i in range(len(terms)):\n",
    "        wtd.append(log_tf[i] * idfMap[terms[i]])\n",
    "    \n",
    "    return (doc, terms, wtd)"
   ]
  },
  {
   "cell_type": "code",
   "execution_count": 53,
   "metadata": {},
   "outputs": [],
   "source": [
    "wtd = log_tf.map(tf_idf)"
   ]
  },
  {
   "cell_type": "code",
   "execution_count": 54,
   "metadata": {},
   "outputs": [
    {
     "data": {
      "text/html": [
       "<div>\n",
       "<style scoped>\n",
       "    .dataframe tbody tr th:only-of-type {\n",
       "        vertical-align: middle;\n",
       "    }\n",
       "\n",
       "    .dataframe tbody tr th {\n",
       "        vertical-align: top;\n",
       "    }\n",
       "\n",
       "    .dataframe thead th {\n",
       "        text-align: right;\n",
       "    }\n",
       "</style>\n",
       "<table border=\"1\" class=\"dataframe\">\n",
       "  <thead>\n",
       "    <tr style=\"text-align: right;\">\n",
       "      <th></th>\n",
       "      <th>Doc</th>\n",
       "      <th>Terms</th>\n",
       "      <th>W(td)= td-idf</th>\n",
       "    </tr>\n",
       "  </thead>\n",
       "  <tbody>\n",
       "    <tr>\n",
       "      <th>0</th>\n",
       "      <td>bsns_382.txt</td>\n",
       "      <td>[ban, forced, retirement, employers, will, longer, able, force, workers, retire, unless, can, justify, it, government, announced, firms, barred, imposing, arbitrary, ages, new, european, age, discrimination, rules, default, introduced, permitted, request, staying, beyond, compulsory, although, right, refuse, trade, industry, secretary, patricia, hewitt, said, people, work, wanted, saying, statutory, free, continue, employing, long, competent, proposals, department, last, year, allowed, till, wished, business, leaders, opposed, plan, costly, cumbersome, british, chambers, commerce, welcomed, latest, proposal, this, move, today, best, worlds, ability, define, end, point, employeremployee, relationship, employees, flexibility, past, concern, cowardly, complete, uturn, makes, mockery, governments, socalled, commitment, outlawing, ageism, leaving, incoming, law, unravel, ...]</td>\n",
       "      <td>[1.5479894658633686, 1.6546279011328127, 3.1635591956790226, 3.244348863455414, 0.33214104409515793, 1.7417276825556467, 0.9407898348829952, 1.302007036530293, 2.396796561215802, 2.0685764143641214, 1.5344166586740946, 0.6099335561941159, 2.305937330158725, 0.7022894699188306, 0.9081126355710337, 1.0292666803541888, 0.9744180123468438, 2.305937330158725, 3.180029593453413, 2.648360010980931, 2.1712387562612694, 0.35699116052934887, 1.1711507524074818, 2.8668729623814384, 3.406149042428964, 1.2904251639804776, 3.0000936346578184, 1.5212552126161238, 2.305937330158725, 2.5592805294942975, 2.5022319753026934, 1.4282519229408763, 2.8248467496440672, 0.9208187539523751, 1.132167700026648, 2.004907334494744, 1.487350543835994, 1.2559011327410157, 1.077817071099034, 2.305937330158725, 1.9493900066449126, 0.1316071997804136, 0.6716159875587938, 1.1105496763826253, 1.1220207335910874, 0.9373968919856557, 2.5022319753026934, 1.1654864273721777, 1.0528637891553574, 2.4442400283250065, 0.94249...</td>\n",
       "    </tr>\n",
       "    <tr>\n",
       "      <th>1</th>\n",
       "      <td>bsns_050.txt</td>\n",
       "      <td>[bad, weather, hits, nestle, sales, combination, rising, raw, material, costs, sluggish, european, economy, hit, swiss, food, drink, giant, revenue, dipped, bn, francs, ice, cream, mineral, water, dampened, wet, summer, however, nestles, profits, margins, helped, strong, performance, americas, china, raise, dividend, paying, back, debt, said, strength, franc, us, dollar, disposal, businesses, challenging, trading, conditions, europe, dented, poor, across, continent, contrast, prolonged, heat, wave, severely, affected, demand, bottled, also, fell, although, chocolate, coffee, frozen, goods, petcare, products, performed, better, elsewhere, enjoyed, exceptional, year, north, america, outperforming, market, terms, growth, added, strongly, africa, asia, despite, impact, high, oil, prices, political, instability, total, earnings, ...]</td>\n",
       "      <td>[1.764331902689513, 2.492729563436379, 1.466516423036159, 6.694660030633901, 1.8376531610613998, 1.915966251157963, 1.4608392901444682, 2.0920575102136443, 1.6941175015416063, 1.1626385844993514, 2.0685764143641214, 0.9001719839747311, 1.0617727063091766, 0.8775079993387873, 3.0441895121681943, 1.7138615597373636, 2.0685764143641214, 1.204315215062855, 1.541150041333063, 2.305937330158725, 1.3320426670715215, 3.5716786474068507, 3.0000936346578184, 3.3425786374011723, 3.963327701360288, 2.7211232876685876, 2.745270023988988, 2.648360010980931, 1.649899587783754, 0.7271939603431928, 4.354976755313726, 1.4230507292550685, 2.8248467496440672, 1.2504200023088938, 0.9856021792993573, 1.124613544169367, 1.9001719839747309, 1.45523541262647, 1.3516948207194002, 3.113478627395495, 1.6149362554939817, 0.7835521111244178, 1.4388449964383005, 0.09279990051820618, 1.6149362554939817, 3.046300019652969, 0.4230507292550687, 1.3742021617172517, 2.5691787649333064, 1.514821102610714, 1.93235666734...</td>\n",
       "    </tr>\n",
       "    <tr>\n",
       "      <th>2</th>\n",
       "      <td>bsns_057.txt</td>\n",
       "      <td>[economy, stronger, forecast, uk, probably, grew, faster, rate, third, quarter, reported, according, bank, england, deputy, governor, rachel, lomax, private, sector, business, surveys, suggest, official, estimates, ms, said, collectively, show, rapid, slowdown, house, price, growth, pointed, out, means, despite, strong, economic, base, rates, will, stay, hold, data, comes, office, national, statistics, ons, though, reliable, takes, longer, publish, now, boe, calling, delivery, can, make, effective, policy, decisions, recent, work, shown, add, value, even, preliminary, available, speech, north, wales, club, due, second, estimate, friday, the, mpc, judges, overall, little, higher, currently, indicate, successful, monetary, depends, good, information, cited, late, s, example, time, weak, ...]</td>\n",
       "      <td>[1.7010235726619465, 2.1445658179392013, 1.541150041333063, 0.8561052619890163, 1.8251464727975055, 1.6149362554939817, 2.0907126929472755, 1.2234783743498645, 1.2748002163899805, 1.7976510230947502, 1.1981109026615704, 0.8248857818106304, 1.9047972999417864, 1.2749756916461443, 1.5277860797750815, 2.2333866630101133, 3.445595813603182, 5.620722195557085, 1.7417276825556467, 1.806205141156654, 1.2086942367537974, 3.1657810925720224, 1.6069673258227064, 1.8839913619226438, 2.2566965811987094, 2.212070900499399, 0.13574365084481807, 3.046300019652969, 0.8775079993387873, 1.870208760597288, 2.830114472910978, 1.4803314455238255, 1.1981109026615704, 1.5820254829376426, 1.6752321573812328, 1.1919939778518884, 1.0640287866134008, 0.8789826849047929, 0.9856021792993573, 1.8154792753455788, 1.8288160754390625, 1.9588706387176185, 0.23420189701985406, 1.3788470667630153, 1.1514303629077165, 1.9849968170463637, 1.129846071103044, 1.0271837292058963, 1.2442984632861562, 2.155980956642951, 3.9...</td>\n",
       "    </tr>\n",
       "    <tr>\n",
       "      <th>3</th>\n",
       "      <td>bsns_272.txt</td>\n",
       "      <td>[markets, signal, brazilian, recovery, stock, market, risen, record, high, investors, display, growing, confidence, durability, countrys, economic, main, bovespa, index, sao, paolo, exchange, closed, points, friday, topping, previous, close, reached, day, buoyancy, reflects, optimism, economy, grow, much, brazil, recovering, last, years, recession, worst, decade, output, declined, president, luiz, inacio, lula, da, silva, elected, brazils, first, workingclass, strongly, criticised, pursuing, hardline, policy, praised, handling, foreign, investment, unemployment, fallen, inflation, brought, control, analysts, believe, will, rise, mark, time, long, there, space, gains, end, year, somewhere, said, paschoal, tadeu, buonomo, head, equities, trading, brokers, tov, currency, real, also, rose, highest, level, dollar, two, although, ...]</td>\n",
       "      <td>[1.8447448587576563, 1.9856021792993575, 2.991334088533846, 2.2282092360358354, 2.023074738852803, 1.181040142620282, 2.179527286453867, 1.1833901511376488, 0.9373968919856557, 2.086923532631618, 1.5914551596444588, 1.2267560841111003, 1.4230507292550685, 3.3473300153169503, 1.3220241500521799, 1.8154792753455788, 1.1018173475028006, 3.3473300153169503, 1.7240807249190497, 2.8702087605972877, 2.4442400283250065, 1.3696064100281025, 1.514821102610714, 1.61786500936053, 1.535231892683835, 2.1712387562612694, 1.487350543835994, 1.129846071103044, 1.3059373301587254, 0.8834370263310432, 3.3473300153169503, 1.842180036997044, 2.004907334494744, 1.3813981394855617, 1.5277860797750815, 0.6931534734389898, 2.662297705696307, 2.2333866630101133, 0.5064183366386545, 0.6749099902264692, 2.1432100326610253, 1.666088777941363, 1.576478003674806, 1.6230541457161611, 1.779128291249955, 1.659055124715136, 2.745270023988988, 2.745270023988988, 2.648360010980931, 3.4784547430268646, 4.11597850986903...</td>\n",
       "    </tr>\n",
       "    <tr>\n",
       "      <th>4</th>\n",
       "      <td>bsns_065.txt</td>\n",
       "      <td>[eu, aiming, fuel, development, aid, european, union, finance, ministers, meet, thursday, discuss, proposals, including, tax, jet, boost, poorer, nations, policy, makers, ask, report, money, can, raised, said, worlds, richest, countries, want, increase, amount, give, annual, gross, national, income, airlines, reacted, strongly, proposed, levy, profits, pressure, airline, industry, lowcost, firms, driving, prices, demand, dipping, september, terrorist, attacks, outbreak, killer, sars, virus, things, picked, up, us, companies, teetering, brink, bankruptcy, present, used, enjoys, either, low, rate, untaxed, member, states, of, course, applaud, humanitarian, initiatives, target, ulrich, schultestrathaus, secretary, general, association, our, midst, fundamental, crisisonly, confronted, measure, designed, costs, continued, sought, allay, fears, ...]</td>\n",
       "      <td>[2.6935810377147704, 1.870208760597288, 2.946941894592934, 1.9445661702690407, 2.157836765201978, 1.3296631704322426, 1.230058719661186, 1.8933049225794882, 1.7562491997221676, 1.240120045669082, 1.1950416709338938, 1.5991419883107498, 1.7472945270720697, 0.8171303171138682, 1.867885772672169, 2.9509295834477345, 1.2435262943609935, 2.1712387562612694, 1.3843333676339842, 1.1950416709338938, 1.6941175015416063, 1.5022319753026936, 1.0398339774037373, 0.9064209332517326, 0.4688082198157438, 1.4282519229408763, 0.11427177568151213, 1.6497688028513664, 2.721829573442057, 1.4432116434642794, 0.7596190502980389, 1.4114600238517758, 1.3220241500521799, 0.9159662511579629, 1.2367403050177015, 1.9323566673461323, 0.9563949082135712, 1.5277860797750815, 3.4244435122962384, 2.1432100326610253, 1.8032619709666744, 1.541150041333063, 3.0539467596497447, 1.4230507292550685, 1.2645446450005002, 1.791027514549663, 1.2559011327410157, 2.0251107205830308, 0.9744180123468438, 1.6941175015416063, 1.1...</td>\n",
       "    </tr>\n",
       "    <tr>\n",
       "      <th>...</th>\n",
       "      <td>...</td>\n",
       "      <td>...</td>\n",
       "      <td>...</td>\n",
       "    </tr>\n",
       "    <tr>\n",
       "      <th>2220</th>\n",
       "      <td>tech_376.txt</td>\n",
       "      <td>[tmobile, bets, pocket, office, launched, latest, thirdgeneration, g, device, also, builtin, wifi, highspeed, wireless, net, access, unlike, devices, user, check, network, available, transfer, data, selects, fastest, one, itself, mda, iv, released, summer, upgrade, companys, existing, smartphone, gwifi, iii, reflects, push, mobile, firms, like, mini, laptops, display, can, swivelled, angled, used, small, computer, conventional, clamshell, phone, microsoft, two, cameras, qwerty, keyboard, design, similar, allinone, models, year, motorolas, mpx, five, european, workers, already, meaning, spend, significant, time, travelling, rene, obermann, tmobiles, chief, executive, told, press, conference, gsm, trade, show, cannes, added, what, need, said, seeing, increasing, take, calls, mdas, sold, europe, response, ...]</td>\n",
       "      <td>[3.9177183558183564, 2.4442400283250065, 2.9614912375255305, 1.8952546854923342, 1.240120045669082, 1.355645473118632, 2.648360010980931, 1.4335161629332336, 2.2764654827651536, 0.3622484628877394, 2.116881093938676, 4.189085446797277, 2.7842731466297317, 2.0907126929472755, 1.3992426798122926, 1.9096458618203795, 1.9493900066449126, 2.1174771932528538, 1.7675464187001402, 1.9493900066449126, 1.6223316741066693, 1.476854325948132, 1.666088777941363, 1.5200623870249788, 3.046300019652969, 1.9001719839747309, 0.44236198897244783, 1.842180036997044, 3.3425786374011723, 2.745270023988988, 1.5163328015504534, 1.649899587783754, 1.9323566673461323, 1.576478003674806, 1.4722687519252502, 2.648360010980931, 3.046300019652969, 2.4442400283250065, 2.396731485546537, 1.5991419883107498, 2.326613616199742, 0.9744180123468438, 0.8170451828003598, 2.004907334494744, 2.1432100326610253, 1.5914551596444588, 0.6099335561941159, 3.046300019652969, 2.4442400283250065, 0.7971016622618563, 1.2169962468...</td>\n",
       "    </tr>\n",
       "    <tr>\n",
       "      <th>2221</th>\n",
       "      <td>tech_317.txt</td>\n",
       "      <td>[sony, psp, console, hits, us, march, gamers, will, able, buy, sonys, playstation, portable, news, europe, debut, handheld, go, sale, first, million, sold, come, spiderman, umd, disc, format, machine, billed, walkman, st, century, units, japan, cm, play, games, movies, music, also, offers, support, wireless, gaming, entering, market, dominated, nintendo, many, years, launched, ds, last, year, said, wanted, launch, roughly, time, now, fear, put, back, release, it, core, device, entertainment, kaz, hirai, president, computer, america]</td>\n",
       "      <td>[2.5628638429739663, 2.7541258004682, 2.6279882138783828, 1.466516423036159, 0.6777526476416635, 1.6275178228152272, 2.243080738065785, 0.3200897730382774, 0.9407898348829952, 1.1950416709338938, 1.8158510982746952, 1.870208760597288, 1.6571339352884367, 0.7791282912499553, 1.4642764418566867, 1.3473300153169503, 2.4523530944482324, 0.6999470452023305, 1.1683530680237808, 0.45467898143964997, 1.0681335762054718, 1.734352684649081, 0.7874233902808377, 2.201201979638712, 2.745270023988988, 2.0920575102136443, 1.8032619709666744, 2.167631475540859, 2.116881093938676, 2.3930875058776255, 1.576478003674806, 1.6571339352884367, 2.5833279947242347, 1.8187618834210868, 3.180029593453413, 0.8158510982746952, 0.9599401889782208, 1.514821102610714, 0.9744180123468438, 0.24523948980511368, 1.4722687519252502, 1.0355761542611959, 1.6069673258227064, 2.2567252911006026, 1.915966251157963, 0.7995553099291278, 1.5549383258186964, 2.608444580704381, 0.6255194001044037, 0.45690899651603617, 1.240120...</td>\n",
       "    </tr>\n",
       "    <tr>\n",
       "      <th>2222</th>\n",
       "      <td>tech_179.txt</td>\n",
       "      <td>[seamen, sail, biometric, future, luxury, cruise, liner, crystal, harmony, currently, gulf, mexico, unlikely, setting, tests, technology, holidaymakers, enjoy, balmy, breezes, ships, crew, testing, prototype, versions, worlds, first, internationally, issued, id, cards, seafarers, equivalent, passport, along, owners, picture, name, personal, details, new, identity, document, incorporates, barcode, representing, unique, features, holders, fingerprints, due, february, next, year, line, revised, un, convention, documents, june, way, caribbean, designed, ensure, machine, readers, produced, different, companies, countries, working, interoperable, standards, results, current, involve, wide, range, occupations, nationalities, will, published, international, labour, organisation, ilo, end, november, cruises, operates, exploring, use, biometrics, yet, committed, authenticorp, us, consultancy, technical, specifications, ...]</td>\n",
       "      <td>[3.046300019652969, 2.745270023988988, 3.911948862369532, 0.9143607244425446, 2.0685764143641214, 2.5022319753026934, 2.8702087605972877, 3.251442230055339, 3.5716786474068507, 1.2947167439744076, 2.3930875058776255, 2.0920575102136443, 1.4840071551964944, 1.7138615597373636, 2.5466762836304118, 1.447540563751785, 3.046300019652969, 1.7345461585972146, 3.046300019652969, 2.745270023988988, 2.3930875058776255, 2.305937330158725, 1.8288160754390625, 2.268148769269325, 1.666088777941363, 1.1168810939386762, 0.5915509932509312, 2.2333866630101133, 2.2764654827651536, 2.5942169635147314, 2.764915528323964, 5.953208994911683, 1.9856021792993575, 2.2333866630101133, 1.3788470667630153, 1.7138615597373636, 1.449702924026509, 1.2202252169521426, 1.0944769843370572, 1.4028473431667816, 0.5273192309649403, 2.5592805294942975, 1.9323566673461323, 2.5691787649333064, 3.046300019652969, 1.9323566673461323, 1.9856021792993575, 1.6069673258227064, 2.201201979638712, 2.745270023988988, 0.9476562938...</td>\n",
       "    </tr>\n",
       "    <tr>\n",
       "      <th>2223</th>\n",
       "      <td>tech_010.txt</td>\n",
       "      <td>[googles, toolbar, sparks, concern, search, engine, firm, google, released, trial, tool, concerning, net, users, directs, people, preselected, commercial, websites, autolink, feature, comes, latest, provides, links, webpage, amazoncom, finds, books, isbn, number, site, also, map, service, address, car, carfax, licence, plate, said, available, us, adds, useful, concerned, dominant, position, market, place, mean, giving, competitive, edge, firms, like, amazon, works, creating, link, website, based, information, contained, even, specified, whether, publisher, page, given, permission, user, clicks, unique, directly, amazons, online, libraries, list, book, numbers, find, directing, not, paid, advertising, pages, may, rival, services, dan, gillmor, founder, grassroots, media, supports, citizenbased, bad, idea, unfortunate, ...]</td>\n",
       "      <td>[3.8338697489133637, 4.239646365760833, 2.8702087605972877, 1.45523541262647, 2.051045170285395, 2.4523530944482324, 1.0581327815390975, 3.5240111993184167, 1.1654864273721777, 1.8187618834210868, 2.6455648095290365, 2.5022319753026934, 1.3992426798122926, 2.073704745627491, 3.3473300153169503, 0.6716159875587938, 2.8702087605972877, 1.8719804994772633, 2.1333176427557947, 6.176152050542197, 2.831149169484797, 1.129846071103044, 1.0419786458703266, 1.8032619709666744, 2.531581337535052, 3.6961000349587736, 3.3425786374011723, 2.1432100326610253, 2.191678940770797, 4.944412312185761, 0.8595823815647098, 2.1413870021088, 0.319063932357784, 2.3473300153169503, 1.5640305364414333, 1.5479894658633686, 1.478098295585974, 3.3473300153169503, 2.0920575102136443, 2.8702087605972877, 0.13574365084481807, 1.1351424109129926, 0.4230507292550687, 1.842180036997044, 1.7240807249190497, 1.3261407162470122, 2.268148769269325, 1.2202252169521426, 1.0402454414102063, 0.8408249829120782, 1.5791786386...</td>\n",
       "    </tr>\n",
       "    <tr>\n",
       "      <th>2224</th>\n",
       "      <td>tech_152.txt</td>\n",
       "      <td>[new, years, texting, breaks, record, mobile, phone, essential, recent, festivities, party, mood, auld, lang, syne, number, text, messages, sent, anything, go, by, midnight, december, january, m, uk, highest, ever, daily, total, recorded, data, association, mda, represents, increase, last, figures, wishing, happy, year, friends, family, via, message, become, staple, ingredient, largest, quite, overtaken, oldfashioned, call, heading, way, said, mike, short, chairman, in, case, eve, useful, unable, speak, hear, noisy, background, also, lots, internationally, different, time, zones, made, traditional, calls, unfeasible, british, love, affair, shows, signs, abating, annual, set, exceed, bn, according, predicts, see, we, thought, might, slow, mms, took, seen, sign, ...]</td>\n",
       "      <td>[0.5719212555418078, 0.7762746797920159, 4.876398590437253, 1.9493900066449126, 0.9095794524965622, 1.8626058613027736, 1.61786500936053, 1.8032619709666744, 0.9563949082135712, 2.745270023988988, 1.6797229556533073, 2.004907334494744, 3.3473300153169503, 3.3473300153169503, 3.3473300153169503, 0.6606937460546569, 3.1559770805211054, 2.6910020247672444, 2.049265671576831, 1.2574249038775525, 0.6999470452023305, 1.6752321573812328, 2.905703040492041, 1.0230475600192577, 1.2774059325879192, 0.6544830960397203, 0.8561052619890163, 1.4608392901444682, 1.0944769843370572, 1.5212552126161238, 1.494457935006832, 1.7562654082904512, 1.1683530680237808, 1.2539083301547154, 4.115978509869038, 1.884932017417994, 1.0848789255865208, 0.3892441667958652, 1.0209941543881988, 2.745270023988988, 1.3179462376317406, 0.38071902863501605, 1.5620001803061832, 1.2539083301547154, 1.7472945270720697, 1.4078107626983318, 0.9476562938359122, 2.8702087605972877, 2.8702087605972877, 1.3179462376317406, 1.246...</td>\n",
       "    </tr>\n",
       "  </tbody>\n",
       "</table>\n",
       "<p>2225 rows × 3 columns</p>\n",
       "</div>"
      ],
      "text/plain": [
       "               Doc  \\\n",
       "0     bsns_382.txt   \n",
       "1     bsns_050.txt   \n",
       "2     bsns_057.txt   \n",
       "3     bsns_272.txt   \n",
       "4     bsns_065.txt   \n",
       "...            ...   \n",
       "2220  tech_376.txt   \n",
       "2221  tech_317.txt   \n",
       "2222  tech_179.txt   \n",
       "2223  tech_010.txt   \n",
       "2224  tech_152.txt   \n",
       "\n",
       "                                                                                                                                                                                                                                                                                                                                                                                                                                                                                                                                                                                                                                                                                                                                                                                                                                                                                                                                                                Terms  \\\n",
       "0                                                 [ban, forced, retirement, employers, will, longer, able, force, workers, retire, unless, can, justify, it, government, announced, firms, barred, imposing, arbitrary, ages, new, european, age, discrimination, rules, default, introduced, permitted, request, staying, beyond, compulsory, although, right, refuse, trade, industry, secretary, patricia, hewitt, said, people, work, wanted, saying, statutory, free, continue, employing, long, competent, proposals, department, last, year, allowed, till, wished, business, leaders, opposed, plan, costly, cumbersome, british, chambers, commerce, welcomed, latest, proposal, this, move, today, best, worlds, ability, define, end, point, employeremployee, relationship, employees, flexibility, past, concern, cowardly, complete, uturn, makes, mockery, governments, socalled, commitment, outlawing, ageism, leaving, incoming, law, unravel, ...]   \n",
       "1                                                                                            [bad, weather, hits, nestle, sales, combination, rising, raw, material, costs, sluggish, european, economy, hit, swiss, food, drink, giant, revenue, dipped, bn, francs, ice, cream, mineral, water, dampened, wet, summer, however, nestles, profits, margins, helped, strong, performance, americas, china, raise, dividend, paying, back, debt, said, strength, franc, us, dollar, disposal, businesses, challenging, trading, conditions, europe, dented, poor, across, continent, contrast, prolonged, heat, wave, severely, affected, demand, bottled, also, fell, although, chocolate, coffee, frozen, goods, petcare, products, performed, better, elsewhere, enjoyed, exceptional, year, north, america, outperforming, market, terms, growth, added, strongly, africa, asia, despite, impact, high, oil, prices, political, instability, total, earnings, ...]   \n",
       "2                                                                                                                                    [economy, stronger, forecast, uk, probably, grew, faster, rate, third, quarter, reported, according, bank, england, deputy, governor, rachel, lomax, private, sector, business, surveys, suggest, official, estimates, ms, said, collectively, show, rapid, slowdown, house, price, growth, pointed, out, means, despite, strong, economic, base, rates, will, stay, hold, data, comes, office, national, statistics, ons, though, reliable, takes, longer, publish, now, boe, calling, delivery, can, make, effective, policy, decisions, recent, work, shown, add, value, even, preliminary, available, speech, north, wales, club, due, second, estimate, friday, the, mpc, judges, overall, little, higher, currently, indicate, successful, monetary, depends, good, information, cited, late, s, example, time, weak, ...]   \n",
       "3                                                                                            [markets, signal, brazilian, recovery, stock, market, risen, record, high, investors, display, growing, confidence, durability, countrys, economic, main, bovespa, index, sao, paolo, exchange, closed, points, friday, topping, previous, close, reached, day, buoyancy, reflects, optimism, economy, grow, much, brazil, recovering, last, years, recession, worst, decade, output, declined, president, luiz, inacio, lula, da, silva, elected, brazils, first, workingclass, strongly, criticised, pursuing, hardline, policy, praised, handling, foreign, investment, unemployment, fallen, inflation, brought, control, analysts, believe, will, rise, mark, time, long, there, space, gains, end, year, somewhere, said, paschoal, tadeu, buonomo, head, equities, trading, brokers, tov, currency, real, also, rose, highest, level, dollar, two, although, ...]   \n",
       "4                                                                             [eu, aiming, fuel, development, aid, european, union, finance, ministers, meet, thursday, discuss, proposals, including, tax, jet, boost, poorer, nations, policy, makers, ask, report, money, can, raised, said, worlds, richest, countries, want, increase, amount, give, annual, gross, national, income, airlines, reacted, strongly, proposed, levy, profits, pressure, airline, industry, lowcost, firms, driving, prices, demand, dipping, september, terrorist, attacks, outbreak, killer, sars, virus, things, picked, up, us, companies, teetering, brink, bankruptcy, present, used, enjoys, either, low, rate, untaxed, member, states, of, course, applaud, humanitarian, initiatives, target, ulrich, schultestrathaus, secretary, general, association, our, midst, fundamental, crisisonly, confronted, measure, designed, costs, continued, sought, allay, fears, ...]   \n",
       "...                                                                                                                                                                                                                                                                                                                                                                                                                                                                                                                                                                                                                                                                                                                                                                                                                                                                                                                                                               ...   \n",
       "2220                                                                                                               [tmobile, bets, pocket, office, launched, latest, thirdgeneration, g, device, also, builtin, wifi, highspeed, wireless, net, access, unlike, devices, user, check, network, available, transfer, data, selects, fastest, one, itself, mda, iv, released, summer, upgrade, companys, existing, smartphone, gwifi, iii, reflects, push, mobile, firms, like, mini, laptops, display, can, swivelled, angled, used, small, computer, conventional, clamshell, phone, microsoft, two, cameras, qwerty, keyboard, design, similar, allinone, models, year, motorolas, mpx, five, european, workers, already, meaning, spend, significant, time, travelling, rene, obermann, tmobiles, chief, executive, told, press, conference, gsm, trade, show, cannes, added, what, need, said, seeing, increasing, take, calls, mdas, sold, europe, response, ...]   \n",
       "2221                                                                                                                                                                                                                                                                                                                                                                                                       [sony, psp, console, hits, us, march, gamers, will, able, buy, sonys, playstation, portable, news, europe, debut, handheld, go, sale, first, million, sold, come, spiderman, umd, disc, format, machine, billed, walkman, st, century, units, japan, cm, play, games, movies, music, also, offers, support, wireless, gaming, entering, market, dominated, nintendo, many, years, launched, ds, last, year, said, wanted, launch, roughly, time, now, fear, put, back, release, it, core, device, entertainment, kaz, hirai, president, computer, america]   \n",
       "2222  [seamen, sail, biometric, future, luxury, cruise, liner, crystal, harmony, currently, gulf, mexico, unlikely, setting, tests, technology, holidaymakers, enjoy, balmy, breezes, ships, crew, testing, prototype, versions, worlds, first, internationally, issued, id, cards, seafarers, equivalent, passport, along, owners, picture, name, personal, details, new, identity, document, incorporates, barcode, representing, unique, features, holders, fingerprints, due, february, next, year, line, revised, un, convention, documents, june, way, caribbean, designed, ensure, machine, readers, produced, different, companies, countries, working, interoperable, standards, results, current, involve, wide, range, occupations, nationalities, will, published, international, labour, organisation, ilo, end, november, cruises, operates, exploring, use, biometrics, yet, committed, authenticorp, us, consultancy, technical, specifications, ...]   \n",
       "2223                                                                                                [googles, toolbar, sparks, concern, search, engine, firm, google, released, trial, tool, concerning, net, users, directs, people, preselected, commercial, websites, autolink, feature, comes, latest, provides, links, webpage, amazoncom, finds, books, isbn, number, site, also, map, service, address, car, carfax, licence, plate, said, available, us, adds, useful, concerned, dominant, position, market, place, mean, giving, competitive, edge, firms, like, amazon, works, creating, link, website, based, information, contained, even, specified, whether, publisher, page, given, permission, user, clicks, unique, directly, amazons, online, libraries, list, book, numbers, find, directing, not, paid, advertising, pages, may, rival, services, dan, gillmor, founder, grassroots, media, supports, citizenbased, bad, idea, unfortunate, ...]   \n",
       "2224                                                                                                                                                          [new, years, texting, breaks, record, mobile, phone, essential, recent, festivities, party, mood, auld, lang, syne, number, text, messages, sent, anything, go, by, midnight, december, january, m, uk, highest, ever, daily, total, recorded, data, association, mda, represents, increase, last, figures, wishing, happy, year, friends, family, via, message, become, staple, ingredient, largest, quite, overtaken, oldfashioned, call, heading, way, said, mike, short, chairman, in, case, eve, useful, unable, speak, hear, noisy, background, also, lots, internationally, different, time, zones, made, traditional, calls, unfeasible, british, love, affair, shows, signs, abating, annual, set, exceed, bn, according, predicts, see, we, thought, might, slow, mms, took, seen, sign, ...]   \n",
       "\n",
       "                                                                                                                                                                                                                                                                                                                                                                                                                                                                                                                                                                                                                                                                                                                                                                                                                                                                                                                                                                                                                                W(td)= td-idf  \n",
       "0     [1.5479894658633686, 1.6546279011328127, 3.1635591956790226, 3.244348863455414, 0.33214104409515793, 1.7417276825556467, 0.9407898348829952, 1.302007036530293, 2.396796561215802, 2.0685764143641214, 1.5344166586740946, 0.6099335561941159, 2.305937330158725, 0.7022894699188306, 0.9081126355710337, 1.0292666803541888, 0.9744180123468438, 2.305937330158725, 3.180029593453413, 2.648360010980931, 2.1712387562612694, 0.35699116052934887, 1.1711507524074818, 2.8668729623814384, 3.406149042428964, 1.2904251639804776, 3.0000936346578184, 1.5212552126161238, 2.305937330158725, 2.5592805294942975, 2.5022319753026934, 1.4282519229408763, 2.8248467496440672, 0.9208187539523751, 1.132167700026648, 2.004907334494744, 1.487350543835994, 1.2559011327410157, 1.077817071099034, 2.305937330158725, 1.9493900066449126, 0.1316071997804136, 0.6716159875587938, 1.1105496763826253, 1.1220207335910874, 0.9373968919856557, 2.5022319753026934, 1.1654864273721777, 1.0528637891553574, 2.4442400283250065, 0.94249...  \n",
       "1     [1.764331902689513, 2.492729563436379, 1.466516423036159, 6.694660030633901, 1.8376531610613998, 1.915966251157963, 1.4608392901444682, 2.0920575102136443, 1.6941175015416063, 1.1626385844993514, 2.0685764143641214, 0.9001719839747311, 1.0617727063091766, 0.8775079993387873, 3.0441895121681943, 1.7138615597373636, 2.0685764143641214, 1.204315215062855, 1.541150041333063, 2.305937330158725, 1.3320426670715215, 3.5716786474068507, 3.0000936346578184, 3.3425786374011723, 3.963327701360288, 2.7211232876685876, 2.745270023988988, 2.648360010980931, 1.649899587783754, 0.7271939603431928, 4.354976755313726, 1.4230507292550685, 2.8248467496440672, 1.2504200023088938, 0.9856021792993573, 1.124613544169367, 1.9001719839747309, 1.45523541262647, 1.3516948207194002, 3.113478627395495, 1.6149362554939817, 0.7835521111244178, 1.4388449964383005, 0.09279990051820618, 1.6149362554939817, 3.046300019652969, 0.4230507292550687, 1.3742021617172517, 2.5691787649333064, 1.514821102610714, 1.93235666734...  \n",
       "2     [1.7010235726619465, 2.1445658179392013, 1.541150041333063, 0.8561052619890163, 1.8251464727975055, 1.6149362554939817, 2.0907126929472755, 1.2234783743498645, 1.2748002163899805, 1.7976510230947502, 1.1981109026615704, 0.8248857818106304, 1.9047972999417864, 1.2749756916461443, 1.5277860797750815, 2.2333866630101133, 3.445595813603182, 5.620722195557085, 1.7417276825556467, 1.806205141156654, 1.2086942367537974, 3.1657810925720224, 1.6069673258227064, 1.8839913619226438, 2.2566965811987094, 2.212070900499399, 0.13574365084481807, 3.046300019652969, 0.8775079993387873, 1.870208760597288, 2.830114472910978, 1.4803314455238255, 1.1981109026615704, 1.5820254829376426, 1.6752321573812328, 1.1919939778518884, 1.0640287866134008, 0.8789826849047929, 0.9856021792993573, 1.8154792753455788, 1.8288160754390625, 1.9588706387176185, 0.23420189701985406, 1.3788470667630153, 1.1514303629077165, 1.9849968170463637, 1.129846071103044, 1.0271837292058963, 1.2442984632861562, 2.155980956642951, 3.9...  \n",
       "3     [1.8447448587576563, 1.9856021792993575, 2.991334088533846, 2.2282092360358354, 2.023074738852803, 1.181040142620282, 2.179527286453867, 1.1833901511376488, 0.9373968919856557, 2.086923532631618, 1.5914551596444588, 1.2267560841111003, 1.4230507292550685, 3.3473300153169503, 1.3220241500521799, 1.8154792753455788, 1.1018173475028006, 3.3473300153169503, 1.7240807249190497, 2.8702087605972877, 2.4442400283250065, 1.3696064100281025, 1.514821102610714, 1.61786500936053, 1.535231892683835, 2.1712387562612694, 1.487350543835994, 1.129846071103044, 1.3059373301587254, 0.8834370263310432, 3.3473300153169503, 1.842180036997044, 2.004907334494744, 1.3813981394855617, 1.5277860797750815, 0.6931534734389898, 2.662297705696307, 2.2333866630101133, 0.5064183366386545, 0.6749099902264692, 2.1432100326610253, 1.666088777941363, 1.576478003674806, 1.6230541457161611, 1.779128291249955, 1.659055124715136, 2.745270023988988, 2.745270023988988, 2.648360010980931, 3.4784547430268646, 4.11597850986903...  \n",
       "4     [2.6935810377147704, 1.870208760597288, 2.946941894592934, 1.9445661702690407, 2.157836765201978, 1.3296631704322426, 1.230058719661186, 1.8933049225794882, 1.7562491997221676, 1.240120045669082, 1.1950416709338938, 1.5991419883107498, 1.7472945270720697, 0.8171303171138682, 1.867885772672169, 2.9509295834477345, 1.2435262943609935, 2.1712387562612694, 1.3843333676339842, 1.1950416709338938, 1.6941175015416063, 1.5022319753026936, 1.0398339774037373, 0.9064209332517326, 0.4688082198157438, 1.4282519229408763, 0.11427177568151213, 1.6497688028513664, 2.721829573442057, 1.4432116434642794, 0.7596190502980389, 1.4114600238517758, 1.3220241500521799, 0.9159662511579629, 1.2367403050177015, 1.9323566673461323, 0.9563949082135712, 1.5277860797750815, 3.4244435122962384, 2.1432100326610253, 1.8032619709666744, 1.541150041333063, 3.0539467596497447, 1.4230507292550685, 1.2645446450005002, 1.791027514549663, 1.2559011327410157, 2.0251107205830308, 0.9744180123468438, 1.6941175015416063, 1.1...  \n",
       "...                                                                                                                                                                                                                                                                                                                                                                                                                                                                                                                                                                                                                                                                                                                                                                                                                                                                                                                                                                                                                                       ...  \n",
       "2220  [3.9177183558183564, 2.4442400283250065, 2.9614912375255305, 1.8952546854923342, 1.240120045669082, 1.355645473118632, 2.648360010980931, 1.4335161629332336, 2.2764654827651536, 0.3622484628877394, 2.116881093938676, 4.189085446797277, 2.7842731466297317, 2.0907126929472755, 1.3992426798122926, 1.9096458618203795, 1.9493900066449126, 2.1174771932528538, 1.7675464187001402, 1.9493900066449126, 1.6223316741066693, 1.476854325948132, 1.666088777941363, 1.5200623870249788, 3.046300019652969, 1.9001719839747309, 0.44236198897244783, 1.842180036997044, 3.3425786374011723, 2.745270023988988, 1.5163328015504534, 1.649899587783754, 1.9323566673461323, 1.576478003674806, 1.4722687519252502, 2.648360010980931, 3.046300019652969, 2.4442400283250065, 2.396731485546537, 1.5991419883107498, 2.326613616199742, 0.9744180123468438, 0.8170451828003598, 2.004907334494744, 2.1432100326610253, 1.5914551596444588, 0.6099335561941159, 3.046300019652969, 2.4442400283250065, 0.7971016622618563, 1.2169962468...  \n",
       "2221  [2.5628638429739663, 2.7541258004682, 2.6279882138783828, 1.466516423036159, 0.6777526476416635, 1.6275178228152272, 2.243080738065785, 0.3200897730382774, 0.9407898348829952, 1.1950416709338938, 1.8158510982746952, 1.870208760597288, 1.6571339352884367, 0.7791282912499553, 1.4642764418566867, 1.3473300153169503, 2.4523530944482324, 0.6999470452023305, 1.1683530680237808, 0.45467898143964997, 1.0681335762054718, 1.734352684649081, 0.7874233902808377, 2.201201979638712, 2.745270023988988, 2.0920575102136443, 1.8032619709666744, 2.167631475540859, 2.116881093938676, 2.3930875058776255, 1.576478003674806, 1.6571339352884367, 2.5833279947242347, 1.8187618834210868, 3.180029593453413, 0.8158510982746952, 0.9599401889782208, 1.514821102610714, 0.9744180123468438, 0.24523948980511368, 1.4722687519252502, 1.0355761542611959, 1.6069673258227064, 2.2567252911006026, 1.915966251157963, 0.7995553099291278, 1.5549383258186964, 2.608444580704381, 0.6255194001044037, 0.45690899651603617, 1.240120...  \n",
       "2222  [3.046300019652969, 2.745270023988988, 3.911948862369532, 0.9143607244425446, 2.0685764143641214, 2.5022319753026934, 2.8702087605972877, 3.251442230055339, 3.5716786474068507, 1.2947167439744076, 2.3930875058776255, 2.0920575102136443, 1.4840071551964944, 1.7138615597373636, 2.5466762836304118, 1.447540563751785, 3.046300019652969, 1.7345461585972146, 3.046300019652969, 2.745270023988988, 2.3930875058776255, 2.305937330158725, 1.8288160754390625, 2.268148769269325, 1.666088777941363, 1.1168810939386762, 0.5915509932509312, 2.2333866630101133, 2.2764654827651536, 2.5942169635147314, 2.764915528323964, 5.953208994911683, 1.9856021792993575, 2.2333866630101133, 1.3788470667630153, 1.7138615597373636, 1.449702924026509, 1.2202252169521426, 1.0944769843370572, 1.4028473431667816, 0.5273192309649403, 2.5592805294942975, 1.9323566673461323, 2.5691787649333064, 3.046300019652969, 1.9323566673461323, 1.9856021792993575, 1.6069673258227064, 2.201201979638712, 2.745270023988988, 0.9476562938...  \n",
       "2223  [3.8338697489133637, 4.239646365760833, 2.8702087605972877, 1.45523541262647, 2.051045170285395, 2.4523530944482324, 1.0581327815390975, 3.5240111993184167, 1.1654864273721777, 1.8187618834210868, 2.6455648095290365, 2.5022319753026934, 1.3992426798122926, 2.073704745627491, 3.3473300153169503, 0.6716159875587938, 2.8702087605972877, 1.8719804994772633, 2.1333176427557947, 6.176152050542197, 2.831149169484797, 1.129846071103044, 1.0419786458703266, 1.8032619709666744, 2.531581337535052, 3.6961000349587736, 3.3425786374011723, 2.1432100326610253, 2.191678940770797, 4.944412312185761, 0.8595823815647098, 2.1413870021088, 0.319063932357784, 2.3473300153169503, 1.5640305364414333, 1.5479894658633686, 1.478098295585974, 3.3473300153169503, 2.0920575102136443, 2.8702087605972877, 0.13574365084481807, 1.1351424109129926, 0.4230507292550687, 1.842180036997044, 1.7240807249190497, 1.3261407162470122, 2.268148769269325, 1.2202252169521426, 1.0402454414102063, 0.8408249829120782, 1.5791786386...  \n",
       "2224  [0.5719212555418078, 0.7762746797920159, 4.876398590437253, 1.9493900066449126, 0.9095794524965622, 1.8626058613027736, 1.61786500936053, 1.8032619709666744, 0.9563949082135712, 2.745270023988988, 1.6797229556533073, 2.004907334494744, 3.3473300153169503, 3.3473300153169503, 3.3473300153169503, 0.6606937460546569, 3.1559770805211054, 2.6910020247672444, 2.049265671576831, 1.2574249038775525, 0.6999470452023305, 1.6752321573812328, 2.905703040492041, 1.0230475600192577, 1.2774059325879192, 0.6544830960397203, 0.8561052619890163, 1.4608392901444682, 1.0944769843370572, 1.5212552126161238, 1.494457935006832, 1.7562654082904512, 1.1683530680237808, 1.2539083301547154, 4.115978509869038, 1.884932017417994, 1.0848789255865208, 0.3892441667958652, 1.0209941543881988, 2.745270023988988, 1.3179462376317406, 0.38071902863501605, 1.5620001803061832, 1.2539083301547154, 1.7472945270720697, 1.4078107626983318, 0.9476562938359122, 2.8702087605972877, 2.8702087605972877, 1.3179462376317406, 1.246...  \n",
       "\n",
       "[2225 rows x 3 columns]"
      ]
     },
     "execution_count": 54,
     "metadata": {},
     "output_type": "execute_result"
    }
   ],
   "source": [
    "cols = [\"Doc\", \"Terms\", \"W(td)= td-idf\"]\n",
    "wtd.toDF(cols).toPandas()"
   ]
  },
  {
   "cell_type": "code",
   "execution_count": 55,
   "metadata": {},
   "outputs": [],
   "source": [
    "# Save document as vector of tf-idf weights\n",
    "\n",
    "# Format = {document: [[term in doc][tf-idf weights]]}\n",
    "\n",
    "vecs = wtd.map(lambda d:(d[0], [d[1],d[2]]))"
   ]
  },
  {
   "cell_type": "code",
   "execution_count": 56,
   "metadata": {},
   "outputs": [],
   "source": [
    "vecsMap = vecs.collectAsMap()"
   ]
  },
  {
   "cell_type": "code",
   "execution_count": 57,
   "metadata": {},
   "outputs": [],
   "source": [
    "# Get the norm of a document vector\n",
    "\n",
    "def get_length(doc_name:str):\n",
    "    \n",
    "    s= 0\n",
    "    \n",
    "    for w in vecsMap[doc_name][1]:\n",
    "        s += math.pow(w, 2)\n",
    "    \n",
    "    return math.sqrt(s)"
   ]
  },
  {
   "cell_type": "code",
   "execution_count": 58,
   "metadata": {},
   "outputs": [],
   "source": [
    "def initialize_length():\n",
    "    \n",
    "    length = {}\n",
    "    \n",
    "    for doc in vecsMap:\n",
    "        length[doc] = get_length(doc)\n",
    "        \n",
    "    return length"
   ]
  },
  {
   "cell_type": "code",
   "execution_count": 71,
   "metadata": {},
   "outputs": [],
   "source": [
    "# Cosine Score Algorithm\n",
    "\n",
    "# parameters:\n",
    "    # p_doc   = document name / null for a query\n",
    "    # p_terms = terms of a document structured as Dict {term:num of appearances} \n",
    "    #           terms of a query structured as an array [term]\n",
    "    # K       = top K closest documents \n",
    "    \n",
    "def cosine_score(p_doc, p_terms, K): \n",
    "    \n",
    "    N = num_of_documents\n",
    "    scores = {}\n",
    "    length = {}\n",
    "    \n",
    "    tf     = 0\n",
    "    log_tf = 0\n",
    "    dft    = 0\n",
    "    idf    = 0\n",
    "    wtd    = 0\n",
    "    \n",
    "    _tf     = 0\n",
    "    _log_tf = 0\n",
    "    _wtd    = 0\n",
    "    \n",
    "    inner_prod = 0\n",
    "    \n",
    "    length = initialize_length()\n",
    "    \n",
    "    for term in p_terms:\n",
    "        \n",
    "        if p_doc != \"\":\n",
    "            tf = p_terms[term]\n",
    "            log_tf = 1 + math.log(tf, 10)\n",
    "        else:\n",
    "            tf = 0\n",
    "            log_tf = 0\n",
    "            \n",
    "        if term in broadcast_inverted_index.value:\n",
    "            \n",
    "            posting_list = broadcast_inverted_index.value[term] #inverted_indexMap[term]\n",
    "            \n",
    "            dft = posting_list[0]\n",
    "            idf = math.log(N/dft, 10)\n",
    "            wtd = tf * idf            \n",
    "            \n",
    "            for doc in posting_list[1]:\n",
    "                 \n",
    "                if doc != p_doc: \n",
    "                    \n",
    "                    _tf     = posting_list[1][doc]\n",
    "                    _log_tf = 1 + math.log(_tf, 10)\n",
    "                    _wtd    = _log_tf * idf\n",
    "                    \n",
    "                    if p_doc != \"\":\n",
    "                        inner_prod = wtd * _wtd\n",
    "                    else:\n",
    "                        inner_prod = _wtd\n",
    "                        \n",
    "                    if doc in scores:\n",
    "                        scores[doc] += inner_prod\n",
    "                    else:\n",
    "                        scores[doc] = inner_prod\n",
    "                    \n",
    "    for doc in scores:\n",
    "             \n",
    "            scores[doc] = scores[doc] / length[doc]\n",
    "             \n",
    "    topK = sorted(scores.items(), key = operator.itemgetter(1), reverse = True)[0:K]\n",
    "    \n",
    "    return topK"
   ]
  },
  {
   "cell_type": "code",
   "execution_count": 72,
   "metadata": {},
   "outputs": [],
   "source": [
    "def f_topK(d):\n",
    "    \n",
    "    doc   = d[0]\n",
    "    terms = d[1]\n",
    "    \n",
    "    top = cosine_score(doc, terms, K)\n",
    "    \n",
    "    return (doc, top)"
   ]
  },
  {
   "cell_type": "code",
   "execution_count": 68,
   "metadata": {},
   "outputs": [],
   "source": [
    "documents_with_cnt = documents.map(lambda d:(d[0], dict(Counter(d[1]))))"
   ]
  },
  {
   "cell_type": "markdown",
   "metadata": {},
   "source": [
    "<h3>Match top K documents</h3>\n",
    "\n",
    "Lets find for each document related top K similar documents"
   ]
  },
  {
   "cell_type": "code",
   "execution_count": 73,
   "metadata": {},
   "outputs": [],
   "source": [
    "K = 5\n",
    "topK = documents_with_cnt.map(f_topK)"
   ]
  },
  {
   "cell_type": "code",
   "execution_count": 74,
   "metadata": {},
   "outputs": [
    {
     "data": {
      "text/plain": [
       "[('bsns_382.txt',\n",
       "  [('pltcs_132.txt', 7.048991438148983),\n",
       "   ('pltcs_043.txt', 4.386427748684216),\n",
       "   ('pltcs_294.txt', 4.083830732161672),\n",
       "   ('pltcs_042.txt', 4.025764226928439),\n",
       "   ('bsns_255.txt', 3.9326055985098076)]),\n",
       " ('bsns_050.txt',\n",
       "  [('bsns_111.txt', 4.175012150937491),\n",
       "   ('bsns_247.txt', 3.7323229627059518),\n",
       "   ('bsns_173.txt', 3.6790900754115725),\n",
       "   ('bsns_038.txt', 3.2569933231034094),\n",
       "   ('bsns_143.txt', 2.936784643531735)]),\n",
       " ('bsns_057.txt',\n",
       "  [('bsns_119.txt', 8.106474799713823),\n",
       "   ('bsns_151.txt', 7.565008186070201),\n",
       "   ('bsns_438.txt', 7.34675375397502),\n",
       "   ('bsns_290.txt', 7.273170529606044),\n",
       "   ('bsns_137.txt', 6.486337783622852)]),\n",
       " ('bsns_272.txt',\n",
       "  [('bsns_305.txt', 7.541729091918997),\n",
       "   ('bsns_490.txt', 7.5160479249769665),\n",
       "   ('bsns_303.txt', 6.807061866587818),\n",
       "   ('bsns_031.txt', 4.190471524226937),\n",
       "   ('bsns_330.txt', 4.156201825997844)]),\n",
       " ('bsns_065.txt',\n",
       "  [('bsns_075.txt', 17.06538754940708),\n",
       "   ('bsns_109.txt', 5.021814870238858),\n",
       "   ('bsns_466.txt', 4.316283375132855),\n",
       "   ('bsns_241.txt', 4.1084986939385475),\n",
       "   ('bsns_285.txt', 4.095496700737272)])]"
      ]
     },
     "execution_count": 74,
     "metadata": {},
     "output_type": "execute_result"
    }
   ],
   "source": [
    "topK.take(5)"
   ]
  },
  {
   "cell_type": "code",
   "execution_count": 75,
   "metadata": {},
   "outputs": [],
   "source": [
    "K = 1\n",
    "top1 = documents_with_cnt.map(f_topK)"
   ]
  },
  {
   "cell_type": "code",
   "execution_count": 76,
   "metadata": {},
   "outputs": [
    {
     "data": {
      "text/plain": [
       "[('bsns_382.txt', [('pltcs_132.txt', 7.048991438148983)]),\n",
       " ('bsns_050.txt', [('bsns_111.txt', 4.175012150937491)]),\n",
       " ('bsns_057.txt', [('bsns_119.txt', 8.106474799713823)]),\n",
       " ('bsns_272.txt', [('bsns_305.txt', 7.541729091918997)]),\n",
       " ('bsns_065.txt', [('bsns_075.txt', 17.06538754940708)])]"
      ]
     },
     "execution_count": 76,
     "metadata": {},
     "output_type": "execute_result"
    }
   ],
   "source": [
    "top1.take(5)"
   ]
  },
  {
   "cell_type": "code",
   "execution_count": 77,
   "metadata": {},
   "outputs": [],
   "source": [
    "def f_order_key(t):\n",
    "    doc = t[0]\n",
    "    top = t[1][0]\n",
    "    score = top[1]\n",
    "    \n",
    "    return -1*score"
   ]
  },
  {
   "cell_type": "code",
   "execution_count": 78,
   "metadata": {},
   "outputs": [],
   "source": [
    "top_top = top1.takeOrdered(5, f_order_key)"
   ]
  },
  {
   "cell_type": "code",
   "execution_count": 82,
   "metadata": {},
   "outputs": [
    {
     "data": {
      "text/plain": [
       "[('pltcs_293.txt', [('pltcs_111.txt', 75.9598216501749)]),\n",
       " ('tech_379.txt', [('tech_009.txt', 68.29190379758998)]),\n",
       " ('tech_009.txt', [('tech_379.txt', 58.14916607376993)]),\n",
       " ('tech_032.txt', [('tech_335.txt', 56.96882600223184)]),\n",
       " ('sprt_121.txt', [('sprt_112.txt', 56.012770615172414)])]"
      ]
     },
     "execution_count": 82,
     "metadata": {},
     "output_type": "execute_result"
    }
   ],
   "source": [
    "top_top"
   ]
  },
  {
   "cell_type": "markdown",
   "metadata": {},
   "source": [
    "<h3>Match top K documents for a given query</h3>\n",
    "\n",
    "As we catalog the collection of documents (for K-mean alogorithm) to different categories, \n",
    "We can check queries related to specific category and expect to get ducuments from that category "
   ]
  },
  {
   "cell_type": "code",
   "execution_count": 83,
   "metadata": {},
   "outputs": [],
   "source": [
    "def query_to_vec(q):\n",
    "    vec = text_to_vec((\"query\", q))\n",
    "    vec = remove_stop_words(vec)\n",
    "    vec = remove_symbols(vec)\n",
    "   \n",
    "    return list(dict(Counter(vec[1])))"
   ]
  },
  {
   "cell_type": "code",
   "execution_count": 84,
   "metadata": {},
   "outputs": [
    {
     "data": {
      "text/plain": [
       "[('sprt_001.txt', 0.23921802890231),\n",
       " ('sprt_074.txt', 0.22915904711488141),\n",
       " ('sprt_073.txt', 0.212012086302841),\n",
       " ('sprt_020.txt', 0.20404037207324605),\n",
       " ('sprt_012.txt', 0.20404037207324605),\n",
       " ('sprt_085.txt', 0.19727580656436186),\n",
       " ('sprt_360.txt', 0.17645403535557114),\n",
       " ('sprt_313.txt', 0.16953023104545495),\n",
       " ('sprt_071.txt', 0.16726169683410694),\n",
       " ('sprt_090.txt', 0.157500926384518)]"
      ]
     },
     "execution_count": 84,
     "metadata": {},
     "output_type": "execute_result"
    }
   ],
   "source": [
    "K =10\n",
    "\n",
    "q1  = \"Medal, Season, Jumpping Sport\"\n",
    "cs_q1 = cosine_score(\"\",query_to_vec(q1), K)\n",
    "cs_q1"
   ]
  },
  {
   "cell_type": "code",
   "execution_count": 85,
   "metadata": {},
   "outputs": [
    {
     "data": {
      "text/plain": [
       "[('entrtmnt_139.txt', 0.20965803308808034),\n",
       " ('entrtmnt_095.txt', 0.20008622764629388),\n",
       " ('entrtmnt_332.txt', 0.1899784886600477),\n",
       " ('entrtmnt_195.txt', 0.18646226183326164),\n",
       " ('entrtmnt_264.txt', 0.18496693980740608),\n",
       " ('entrtmnt_323.txt', 0.18111813984199393),\n",
       " ('entrtmnt_177.txt', 0.17120894548804563),\n",
       " ('entrtmnt_172.txt', 0.1699918591177055),\n",
       " ('entrtmnt_156.txt', 0.1677685594729802),\n",
       " ('entrtmnt_295.txt', 0.16490506314574613)]"
      ]
     },
     "execution_count": 85,
     "metadata": {},
     "output_type": "execute_result"
    }
   ],
   "source": [
    "q2  = \"Best Song or a movie or a show\"\n",
    "cs_q2 = cosine_score(\"\",query_to_vec(q2), K)\n",
    "cs_q2"
   ]
  },
  {
   "cell_type": "code",
   "execution_count": 86,
   "metadata": {},
   "outputs": [
    {
     "data": {
      "text/plain": [
       "[('bsns_423.txt', 0.28332612680738756),\n",
       " ('pltcs_401.txt', 0.2488605320373799),\n",
       " ('pltcs_326.txt', 0.24209466201214577),\n",
       " ('pltcs_341.txt', 0.23137929732523377),\n",
       " ('pltcs_223.txt', 0.23137929732523377),\n",
       " ('pltcs_409.txt', 0.17872882272362992),\n",
       " ('bsns_106.txt', 0.17491794946119515),\n",
       " ('pltcs_417.txt', 0.1701159016949548),\n",
       " ('pltcs_225.txt', 0.1700946652185568),\n",
       " ('bsns_159.txt', 0.1673320286618806)]"
      ]
     },
     "execution_count": 86,
     "metadata": {},
     "output_type": "execute_result"
    }
   ],
   "source": [
    "q3  = \"Parliament, Prime minister, Citizen\"\n",
    "cs_q3 = cosine_score(\"\",query_to_vec(q3), K)\n",
    "cs_q3"
   ]
  },
  {
   "cell_type": "code",
   "execution_count": 87,
   "metadata": {},
   "outputs": [
    {
     "data": {
      "text/plain": [
       "[('bsns_206.txt', 0.2734247333066525),\n",
       " ('bsns_267.txt', 0.23249585865517133),\n",
       " ('bsns_274.txt', 0.23017317839139773),\n",
       " ('bsns_365.txt', 0.22871722230292169),\n",
       " ('bsns_233.txt', 0.2274119803553166),\n",
       " ('bsns_276.txt', 0.2058369651626627),\n",
       " ('bsns_255.txt', 0.19759770864611914),\n",
       " ('bsns_238.txt', 0.19220137562108702),\n",
       " ('bsns_281.txt', 0.19119795474638726),\n",
       " ('bsns_404.txt', 0.18935238829000345)]"
      ]
     },
     "execution_count": 87,
     "metadata": {},
     "output_type": "execute_result"
    }
   ],
   "source": [
    "q4  = \"Stock market , my pension my money\"\n",
    "cs_q4 = cosine_score(\"\",query_to_vec(q4), K)\n",
    "cs_q4"
   ]
  },
  {
   "cell_type": "code",
   "execution_count": 88,
   "metadata": {},
   "outputs": [
    {
     "data": {
      "text/plain": [
       "[('tech_284.txt', 0.20567159238928318),\n",
       " ('tech_036.txt', 0.19189804772402747),\n",
       " ('tech_003.txt', 0.19189804772402747),\n",
       " ('tech_369.txt', 0.17587356420411257),\n",
       " ('tech_278.txt', 0.16909032818754294),\n",
       " ('tech_259.txt', 0.15947519750057187),\n",
       " ('tech_040.txt', 0.1519206236148456),\n",
       " ('tech_332.txt', 0.1519206236148456),\n",
       " ('tech_194.txt', 0.14338066647445938),\n",
       " ('tech_149.txt', 0.138223796728688)]"
      ]
     },
     "execution_count": 88,
     "metadata": {},
     "output_type": "execute_result"
    }
   ],
   "source": [
    "q5  = \"online software website\"\n",
    "cs_q5 = cosine_score(\"\",query_to_vec(q5), K)\n",
    "cs_q5"
   ]
  },
  {
   "cell_type": "markdown",
   "metadata": {},
   "source": [
    "Lets check what we can get when searching only one word:"
   ]
  },
  {
   "cell_type": "code",
   "execution_count": 89,
   "metadata": {},
   "outputs": [
    {
     "data": {
      "text/plain": [
       "[('bsns_255.txt', 0.17301923141337677),\n",
       " ('sprt_460.txt', 0.165253698857296),\n",
       " ('bsns_382.txt', 0.15737030857412618),\n",
       " ('pltcs_132.txt', 0.14112591621481335),\n",
       " ('entrtmnt_269.txt', 0.12477394874210603),\n",
       " ('sprt_347.txt', 0.12033074679621003),\n",
       " ('bsns_041.txt', 0.10426516380891843),\n",
       " ('sprt_241.txt', 0.10241755940575076),\n",
       " ('sprt_462.txt', 0.09775802608995864),\n",
       " ('pltcs_357.txt', 0.09224770028329213)]"
      ]
     },
     "execution_count": 89,
     "metadata": {},
     "output_type": "execute_result"
    }
   ],
   "source": [
    "q6  = \"Retirement\"\n",
    "cs_q6 = cosine_score(\"\",query_to_vec(q6), K)\n",
    "cs_q6"
   ]
  },
  {
   "cell_type": "markdown",
   "metadata": {},
   "source": [
    "The term \"retirement\" can be related to pension or to a sportsman who retired from the match.\n",
    "\n",
    "Lets look in the results :\n",
    "\n",
    "<b>Pension</b>:\n",
    "\n",
    " bsns_255.txt is about the UK state persion system<br>\n",
    " bsns_382.txt is about a new law which says that employers will no longer be able to force workers to retire before the age of 65<br>\n",
    " pltcs_132.txt is about a review of how the market will be influenced by raising the retirement age <br>\n",
    "            \n",
    "<b>Sports</b>\n",
    "\n",
    " sprt_460.txt is about Lindsay Devenport- American professional tennis player who retired from the match because   of a back injury<br>\n",
    " sprt_347.txt is mention Martin Osborne Johnson - an English retired rugby player<br>\n",
    "\n",
    " <b>Document frequency:</b>\n",
    " \n",
    " We can also notice that the term \"retirement\" is a rare term (dft = 37) , so even a document with tf = 2 like sprt_347.txt will be returned in the results set and it is actually very relevant"
   ]
  },
  {
   "cell_type": "code",
   "execution_count": 90,
   "metadata": {},
   "outputs": [
    {
     "data": {
      "text/plain": [
       "[('entrtmnt_160.txt', 0.19107598611857668),\n",
       " ('entrtmnt_112.txt', 0.18027134506664644),\n",
       " ('entrtmnt_159.txt', 0.13977457860067408),\n",
       " ('entrtmnt_143.txt', 0.13536622854030908),\n",
       " ('entrtmnt_130.txt', 0.12543058260066214),\n",
       " ('entrtmnt_254.txt', 0.11991924485035944),\n",
       " ('entrtmnt_136.txt', 0.11921600720250274),\n",
       " ('entrtmnt_123.txt', 0.11755475166615598),\n",
       " ('entrtmnt_240.txt', 0.116455353918639),\n",
       " ('entrtmnt_156.txt', 0.11511913864915403)]"
      ]
     },
     "execution_count": 90,
     "metadata": {},
     "output_type": "execute_result"
    }
   ],
   "source": [
    "q7  = \"A new song\"\n",
    "cs_q7 = cosine_score(\"\",query_to_vec(q7), K)\n",
    "cs_q7"
   ]
  },
  {
   "cell_type": "markdown",
   "metadata": {},
   "source": [
    "When searching for a new song we get the expected results:\n",
    "\n",
    "entrtmnt_160.txt - the new singel \"Band Aid\" in iTunes<br>\n",
    "entrtmnt_112.txt - the re-release of hit song of Elvis<br>\n",
    "entrtmnt_159.txt - the new video of former Westlife"
   ]
  },
  {
   "cell_type": "code",
   "execution_count": 91,
   "metadata": {},
   "outputs": [
    {
     "data": {
      "text/plain": [
       "[('tech_036.txt', 0.1646163806158948),\n",
       " ('tech_003.txt', 0.1646163806158948),\n",
       " ('tech_008.txt', 0.13660982036470645),\n",
       " ('tech_252.txt', 0.13660982036470645),\n",
       " ('tech_177.txt', 0.13501089969332708),\n",
       " ('tech_292.txt', 0.13501089969332708),\n",
       " ('tech_117.txt', 0.12325272038500676),\n",
       " ('tech_272.txt', 0.11881789795883863),\n",
       " ('tech_290.txt', 0.10830049849617138),\n",
       " ('tech_116.txt', 0.10800164318737573)]"
      ]
     },
     "execution_count": 91,
     "metadata": {},
     "output_type": "execute_result"
    }
   ],
   "source": [
    "q8  = \"Antivirus\"\n",
    "cs_q8 = cosine_score(\"\",query_to_vec(q8), K)\n",
    "cs_q8"
   ]
  },
  {
   "cell_type": "markdown",
   "metadata": {},
   "source": [
    "When quering for the term \"antivirus\" we gets a usefull information about viruses and tools for example :\n",
    "\n",
    "tech_036.txt- Microsoft spyware tool<br>\n",
    "tech_003.txt - Windows virus disguising itself as an electronic Christmas card<br>\n",
    "tech_117.txt - Joke e-mail virus tricks users"
   ]
  },
  {
   "cell_type": "code",
   "execution_count": 97,
   "metadata": {},
   "outputs": [
    {
     "data": {
      "text/plain": [
       "[('entrtmnt_290.txt', 0.16784961864690623)]"
      ]
     },
     "execution_count": 97,
     "metadata": {},
     "output_type": "execute_result"
    }
   ],
   "source": [
    "q9  = \"Pythons\"\n",
    "cs_q9 = cosine_score(\"\",query_to_vec(q9), K)\n",
    "cs_q9"
   ]
  },
  {
   "cell_type": "markdown",
   "metadata": {},
   "source": [
    "When searching for news about the language \"Python\" we did'nt find much - as expected.\n",
    "\n",
    "The only document related is \"entrtmnt_290.txt\" with respct to \"Monty Python\"- British comedy troupe who created comedy tv shows\n",
    "\n",
    "<b>Document frequency and term frequency:</b>\n",
    "\n",
    "We should notice that although the term appears in the document only ones, it is the only document the term is exists in so of course, we are getting it in the result set \n"
   ]
  },
  {
   "cell_type": "code",
   "execution_count": 96,
   "metadata": {},
   "outputs": [
    {
     "data": {
      "text/plain": [
       "(26,\n",
       " {'bsns_296.txt': 1,\n",
       "  'bsns_336.txt': 1,\n",
       "  'entrtmnt_246.txt': 1,\n",
       "  'entrtmnt_377.txt': 1,\n",
       "  'entrtmnt_381.txt': 1,\n",
       "  'entrtmnt_199.txt': 1,\n",
       "  'entrtmnt_040.txt': 1,\n",
       "  'entrtmnt_201.txt': 1,\n",
       "  'entrtmnt_035.txt': 1,\n",
       "  'entrtmnt_268.txt': 1,\n",
       "  'entrtmnt_281.txt': 1,\n",
       "  'entrtmnt_196.txt': 1,\n",
       "  'entrtmnt_203.txt': 1,\n",
       "  'entrtmnt_168.txt': 5,\n",
       "  'entrtmnt_176.txt': 3,\n",
       "  'pltcs_286.txt': 1,\n",
       "  'pltcs_244.txt': 2,\n",
       "  'pltcs_266.txt': 1,\n",
       "  'pltcs_288.txt': 1,\n",
       "  'pltcs_003.txt': 1,\n",
       "  'pltcs_125.txt': 1,\n",
       "  'pltcs_371.txt': 1,\n",
       "  'pltcs_393.txt': 1,\n",
       "  'tech_002.txt': 1,\n",
       "  'tech_362.txt': 2,\n",
       "  'tech_245.txt': 1})"
      ]
     },
     "execution_count": 96,
     "metadata": {},
     "output_type": "execute_result"
    }
   ],
   "source": [
    "inverted_indexMap[\"sex\"]"
   ]
  },
  {
   "cell_type": "code",
   "execution_count": 98,
   "metadata": {},
   "outputs": [
    {
     "data": {
      "text/plain": [
       "[('entrtmnt_176.txt', 0.1316839628937215),\n",
       " ('entrtmnt_168.txt', 0.1257327736246843),\n",
       " ('entrtmnt_196.txt', 0.10761593710787999),\n",
       " ('entrtmnt_381.txt', 0.09602264048269268),\n",
       " ('entrtmnt_281.txt', 0.09283569784640852),\n",
       " ('entrtmnt_199.txt', 0.09265989071058442),\n",
       " ('entrtmnt_035.txt', 0.09077014633423246),\n",
       " ('tech_002.txt', 0.09060200560141587),\n",
       " ('pltcs_266.txt', 0.09050426744210363),\n",
       " ('pltcs_244.txt', 0.08899495990878042)]"
      ]
     },
     "execution_count": 98,
     "metadata": {},
     "output_type": "execute_result"
    }
   ],
   "source": [
    "q10  = \"Sex\"\n",
    "cs_q10 = cosine_score(\"\",query_to_vec(q10), K)\n",
    "cs_q10"
   ]
  },
  {
   "cell_type": "markdown",
   "metadata": {},
   "source": [
    "When searching the term \"sex\" we are getting documents with low score- This is because for most, the term appears\n",
    "in related documents only ones. "
   ]
  },
  {
   "cell_type": "code",
   "execution_count": 100,
   "metadata": {},
   "outputs": [
    {
     "data": {
      "text/plain": [
       "[('entrtmnt_176.txt', 0.42619734985167507),\n",
       " ('entrtmnt_080.txt', 0.18690770137841886),\n",
       " ('entrtmnt_196.txt', 0.1786476130577306),\n",
       " ('entrtmnt_281.txt', 0.15411170754554704),\n",
       " ('entrtmnt_168.txt', 0.1257327736246843),\n",
       " ('bsns_070.txt', 0.11341810297682722),\n",
       " ('sprt_244.txt', 0.11131744875347242),\n",
       " ('sprt_206.txt', 0.11100880572569072),\n",
       " ('entrtmnt_201.txt', 0.10540749706861163),\n",
       " ('sprt_176.txt', 0.09988683506924169)]"
      ]
     },
     "execution_count": 100,
     "metadata": {},
     "output_type": "execute_result"
    }
   ],
   "source": [
    "q11  = \"'Sex and the city' in HBO\"\n",
    "cs_q11 = cosine_score(\"\",query_to_vec(q11), K)\n",
    "cs_q11"
   ]
  },
  {
   "cell_type": "markdown",
   "metadata": {},
   "source": [
    "When adding the terms \"city\" and \"HBO\" we are getting higher score with documents related to the tv show \"sex and the city\""
   ]
  },
  {
   "cell_type": "markdown",
   "metadata": {},
   "source": [
    "<h3>K-means algorithm</h3>\n",
    "\n"
   ]
  },
  {
   "cell_type": "code",
   "execution_count": 428,
   "metadata": {},
   "outputs": [
    {
     "data": {
      "text/plain": [
       "[('bsns_382.txt',\n",
       "  [['ban',\n",
       "    'forced',\n",
       "    'retirement',\n",
       "    'employers',\n",
       "    'longer',\n",
       "    'able',\n",
       "    'force',\n",
       "    'workers',\n",
       "    'retire',\n",
       "    'unless',\n",
       "    'justify',\n",
       "    'government',\n",
       "    'announced',\n",
       "    'firms',\n",
       "    'barred',\n",
       "    'imposing',\n",
       "    'arbitrary',\n",
       "    'ages',\n",
       "    'new',\n",
       "    'european',\n",
       "    'age',\n",
       "    'discrimination',\n",
       "    'rules',\n",
       "    'default',\n",
       "    'introduced',\n",
       "    'permitted',\n",
       "    'request',\n",
       "    'staying',\n",
       "    'beyond',\n",
       "    'compulsory',\n",
       "    'although',\n",
       "    'right',\n",
       "    'refuse',\n",
       "    'trade',\n",
       "    'industry',\n",
       "    'secretary',\n",
       "    'patricia',\n",
       "    'hewitt',\n",
       "    'said',\n",
       "    'people',\n",
       "    'work',\n",
       "    'wanted',\n",
       "    'saying',\n",
       "    'statutory',\n",
       "    'free',\n",
       "    'continue',\n",
       "    'employing',\n",
       "    'long',\n",
       "    'competent',\n",
       "    'proposals',\n",
       "    'department',\n",
       "    'last',\n",
       "    'year',\n",
       "    'allowed',\n",
       "    'till',\n",
       "    'wished',\n",
       "    'business',\n",
       "    'leaders',\n",
       "    'opposed',\n",
       "    'plan',\n",
       "    'costly',\n",
       "    'cumbersome',\n",
       "    'british',\n",
       "    'chambers',\n",
       "    'commerce',\n",
       "    'welcomed',\n",
       "    'latest',\n",
       "    'proposal',\n",
       "    'move',\n",
       "    'today',\n",
       "    'best',\n",
       "    'worlds',\n",
       "    'ability',\n",
       "    'define',\n",
       "    'end',\n",
       "    'point',\n",
       "    'employeremployee',\n",
       "    'relationship',\n",
       "    'employees',\n",
       "    'flexibility',\n",
       "    'past',\n",
       "    'concern',\n",
       "    'cowardly',\n",
       "    'complete',\n",
       "    'uturn',\n",
       "    'makes',\n",
       "    'mockery',\n",
       "    'socalled',\n",
       "    'commitment',\n",
       "    'outlawing',\n",
       "    'ageism',\n",
       "    'leaving',\n",
       "    'incoming',\n",
       "    'law',\n",
       "    'unravel',\n",
       "    'gordon',\n",
       "    'lishman',\n",
       "    'director',\n",
       "    'general',\n",
       "    'england',\n",
       "    'inevitable',\n",
       "    'older',\n",
       "    'mount',\n",
       "    'legal',\n",
       "    'challenges',\n",
       "    'decision',\n",
       "    'using',\n",
       "    'impact',\n",
       "    'collect',\n",
       "    'state',\n",
       "    'pension'],\n",
       "   [1.5479894658633686,\n",
       "    1.6546279011328127,\n",
       "    3.1635591956790226,\n",
       "    3.244348863455414,\n",
       "    1.7417276825556467,\n",
       "    0.9407898348829952,\n",
       "    1.2981119926467686,\n",
       "    2.4066657453260207,\n",
       "    2.0685764143641214,\n",
       "    1.5344166586740946,\n",
       "    2.305937330158725,\n",
       "    1.0001354072829352,\n",
       "    1.0292666803541888,\n",
       "    1.0230475600192577,\n",
       "    2.305937330158725,\n",
       "    3.180029593453413,\n",
       "    2.648360010980931,\n",
       "    2.1712387562612694,\n",
       "    0.35699116052934887,\n",
       "    1.1711507524074818,\n",
       "    2.8668729623814384,\n",
       "    3.406149042428964,\n",
       "    1.2904251639804776,\n",
       "    3.0000936346578184,\n",
       "    1.5212552126161238,\n",
       "    2.305937330158725,\n",
       "    2.5592805294942975,\n",
       "    2.5022319753026934,\n",
       "    1.4282519229408763,\n",
       "    2.8248467496440672,\n",
       "    0.9208187539523751,\n",
       "    1.130287398298379,\n",
       "    2.004907334494744,\n",
       "    1.487350543835994,\n",
       "    1.248910979904016,\n",
       "    1.0731721660532705,\n",
       "    2.305937330158725,\n",
       "    1.9323566673461323,\n",
       "    0.1316071997804136,\n",
       "    0.6586065559683295,\n",
       "    1.1089235522925722,\n",
       "    1.1220207335910874,\n",
       "    0.9373968919856557,\n",
       "    2.5022319753026934,\n",
       "    1.1654864273721777,\n",
       "    1.0528637891553574,\n",
       "    2.4442400283250065,\n",
       "    0.9424962986970122,\n",
       "    2.5691787649333064,\n",
       "    1.3430086415343077,\n",
       "    1.3930875058776255,\n",
       "    0.3892441667958652,\n",
       "    0.3473300153169504,\n",
       "    1.3650587822773816,\n",
       "    2.4442400283250065,\n",
       "    2.5022319753026934,\n",
       "    0.9290287239972048,\n",
       "    1.4608392901444682,\n",
       "    1.779128291249955,\n",
       "    1.1405041392851005,\n",
       "    2.116881093938676,\n",
       "    2.8702087605972877,\n",
       "    0.8658873868146453,\n",
       "    2.0920575102136443,\n",
       "    1.9493900066449126,\n",
       "    1.666088777941363,\n",
       "    1.0419786458703266,\n",
       "    1.7452700239889878,\n",
       "    0.8616085888353703,\n",
       "    1.124613544169367,\n",
       "    0.791027514549663,\n",
       "    2.004907334494744,\n",
       "    1.383542187971395,\n",
       "    2.3930875058776255,\n",
       "    0.7356067073096084,\n",
       "    1.089651440447766,\n",
       "    3.3473300153169503,\n",
       "    1.6069673258227064,\n",
       "    1.779128291249955,\n",
       "    2.0251107205830308,\n",
       "    0.9599401889782208,\n",
       "    1.8861069889602697,\n",
       "    3.3473300153169503,\n",
       "    1.666088777941363,\n",
       "    2.745270023988988,\n",
       "    1.2169962468219442,\n",
       "    3.046300019652969,\n",
       "    1.4899975188856818,\n",
       "    1.7038773388307629,\n",
       "    3.046300019652969,\n",
       "    2.8702087605972877,\n",
       "    1.583902021754013,\n",
       "    2.5691787649333064,\n",
       "    1.483830095388847,\n",
       "    3.046300019652969,\n",
       "    1.2828720260900317,\n",
       "    2.745270023988988,\n",
       "    0.8673230723597997,\n",
       "    0.9357103093537202,\n",
       "    0.9581639309524179,\n",
       "    2.268148769269325,\n",
       "    1.7038773388307629,\n",
       "    2.4442400283250065,\n",
       "    1.1351424109129926,\n",
       "    1.779128291249955,\n",
       "    1.2512314355181475,\n",
       "    0.9893951683164967,\n",
       "    1.334492790611778,\n",
       "    2.046300019652969,\n",
       "    1.0550739439604742,\n",
       "    1.915966251157963]])]"
      ]
     },
     "execution_count": 428,
     "metadata": {},
     "output_type": "execute_result"
    }
   ],
   "source": [
    "vecs.take(1)"
   ]
  },
  {
   "cell_type": "code",
   "execution_count": 276,
   "metadata": {},
   "outputs": [],
   "source": [
    "def select_random_seeds():\n",
    "    \n",
    "    seeds = [] \n",
    "    \n",
    "    while len(seeds) < K:\n",
    "        \n",
    "        seed = random.choice(list(vecsMap.keys()))\n",
    "    \n",
    "        if seed not in seeds:\n",
    "            seeds.append(seed)\n",
    "    \n",
    "    return seeds"
   ]
  },
  {
   "cell_type": "code",
   "execution_count": 281,
   "metadata": {},
   "outputs": [],
   "source": [
    "def get_euclidean_distance(doc1, doc2):\n",
    "     \n",
    "    ind1 = -1\n",
    "    ind2 = -1\n",
    "    ln = len(all_words)\n",
    "    s = 0\n",
    "    \n",
    "    for i in range(ln):\n",
    "        if all_words[i] in vecsMap[doc1][0] and all_words[i] in vecsMap[doc2][0]:\n",
    "            ind1 = vecsMap[doc1][0].index(all_words[i])\n",
    "            ind2 = vecsMap[doc2][0].index(all_words[i])\n",
    "            s += math.pow(vecsMap[doc1][1][ind1] - vecsMap[doc2][1][ind2], 2)\n",
    "            \n",
    "        elif all_words[i] in vecsMap[doc1][0] and all_words[i] not in vecsMap[doc2][0]:\n",
    "                ind1 = vecsMap[doc1][0].index(all_words[i])\n",
    "                s += math.pow(vecsMap[doc1][1][ind1], 2)\n",
    "        \n",
    "        elif all_words[i] not in vecsMap[doc1][0] and all_words[i] in vecsMap[doc2][0]:\n",
    "            ind2 = vecsMap[doc2][0].index(all_words[i])\n",
    "            s += math.pow(vecsMap[doc2][1][ind2], 2)\n",
    "        \n",
    "    return math.sqrt(s)"
   ]
  },
  {
   "cell_type": "code",
   "execution_count": 254,
   "metadata": {},
   "outputs": [
    {
     "name": "stdout",
     "output_type": "stream",
     "text": [
      "29.081117879422486\n"
     ]
    }
   ],
   "source": [
    "print(get_euclidean_distance(\"bsns_382.txt\", \"bsns_383.txt\"))"
   ]
  },
  {
   "cell_type": "code",
   "execution_count": 255,
   "metadata": {},
   "outputs": [
    {
     "name": "stdout",
     "output_type": "stream",
     "text": [
      "0.0\n"
     ]
    }
   ],
   "source": [
    "print(get_euclidean_distance(\"bsns_382.txt\", \"bsns_382.txt\"))"
   ]
  },
  {
   "cell_type": "code",
   "execution_count": 277,
   "metadata": {},
   "outputs": [
    {
     "data": {
      "text/plain": [
       "['pltcs_355.txt',\n",
       " 'pltcs_205.txt',\n",
       " 'sprt_121.txt',\n",
       " 'pltcs_104.txt',\n",
       " 'tech_281.txt']"
      ]
     },
     "execution_count": 277,
     "metadata": {},
     "output_type": "execute_result"
    }
   ],
   "source": [
    "K = 5\n",
    "\n",
    "seeds = select_random_seeds()\n",
    "seeds"
   ]
  },
  {
   "cell_type": "code",
   "execution_count": 278,
   "metadata": {},
   "outputs": [],
   "source": [
    "centroids = {}\n",
    "\n",
    "for i in range(K):\n",
    "    centroids[i] = seeds[i]"
   ]
  },
  {
   "cell_type": "code",
   "execution_count": 279,
   "metadata": {},
   "outputs": [],
   "source": [
    "all_words = list(inverted_indexMap.keys())"
   ]
  },
  {
   "cell_type": "code",
   "execution_count": 287,
   "metadata": {},
   "outputs": [],
   "source": [
    "def get_closest_center(v):\n",
    "    \n",
    "    doc = v[0]\n",
    "    \n",
    "    distance     = 0 \n",
    "    min_distance = 0\n",
    "    ret_val = 0\n",
    "    \n",
    "    min_distance = get_euclidean_distance(centroids[0], doc)\n",
    "\n",
    "    for i in range(1, K):\n",
    "        \n",
    "        distance = get_euclidean_distance(centroids[i], doc)\n",
    "        \n",
    "        if min_distance > distance:\n",
    "            min_distance = distance\n",
    "            ret_val = i\n",
    "    \n",
    "    return (ret_val, min_val)"
   ]
  },
  {
   "cell_type": "code",
   "execution_count": 288,
   "metadata": {},
   "outputs": [],
   "source": [
    "centroids_and_points =  vecs.map(get_closest_center)"
   ]
  },
  {
   "cell_type": "code",
   "execution_count": null,
   "metadata": {},
   "outputs": [],
   "source": [
    "# Use combiners in order to get distance avarage\n",
    "\n",
    "# t = tuple of (centroid , distance)\n",
    "# return ( sum , count)\n",
    "\n",
    "def create_combiner(t):\n",
    "    return(t[1],1)"
   ]
  },
  {
   "cell_type": "code",
   "execution_count": null,
   "metadata": {},
   "outputs": [],
   "source": [
    "def merge_value(accum, element):\n",
    "    return (accum[0]+element[1], accum[1]+1)"
   ]
  },
  {
   "cell_type": "code",
   "execution_count": null,
   "metadata": {},
   "outputs": [],
   "source": [
    "def merge_combiner(accum1, accum2):\n",
    "    return (accum1[0] + accum2[0], accum1[1]+accum2[1])"
   ]
  },
  {
   "cell_type": "code",
   "execution_count": null,
   "metadata": {},
   "outputs": [],
   "source": [
    "centroids_and_points.combinedByKey(create_combiner, merge_value, merge_combiner)"
   ]
  },
  {
   "cell_type": "code",
   "execution_count": null,
   "metadata": {},
   "outputs": [],
   "source": [
    "def K_means(vecs, K):\n",
    "    \n",
    "    N = len(vecs)\n",
    "    seeds = select_random_seeds()\n",
    "    centroids = {}\n",
    "    stop = 10\n",
    "    j = -1\n",
    "    wk = {}\n",
    "   \n",
    "    for i in range(K):\n",
    "        centroids[i] = seeds[i]\n",
    "        \n",
    "        while stop > 0:\n",
    "            for n in range(N):\n",
    "                j = get_closest_center(vecs[n][1])\n",
    "                if j in wk:\n",
    "                    wk[j] = wk[j].append(n)\n",
    "                else:\n",
    "                    wk[j] = [n]\n",
    "           \n",
    "            for k in range(K):\n",
    "               \n",
    "                closest_vecs = wk[k]\n",
    "                arr = np.array([])\n",
    "               \n",
    "                for cv in closest_vecs:\n",
    "                    arr += np.array(vecs[cv])\n",
    "                    \n",
    "                    centroids[k] = arr / len(closest_vecs) \n",
    "             \n",
    "            stop -= 1\n",
    "       \n",
    "        return wk"
   ]
  },
  {
   "cell_type": "markdown",
   "metadata": {},
   "source": [
    "I have tried to implement K-means by regular map-reduce and combiners but I didnt get results \n",
    "I had a problem to comput the euclidean distance between vectos with a different dimensions\n",
    "I have tried using numpy arrays and slso ParseVecotrs with no success\n",
    "Finally I implemented the euclidean distance function in an inefficient way"
   ]
  },
  {
   "cell_type": "code",
   "execution_count": null,
   "metadata": {},
   "outputs": [],
   "source": []
  },
  {
   "cell_type": "code",
   "execution_count": null,
   "metadata": {},
   "outputs": [],
   "source": []
  },
  {
   "cell_type": "code",
   "execution_count": null,
   "metadata": {},
   "outputs": [],
   "source": []
  },
  {
   "cell_type": "code",
   "execution_count": null,
   "metadata": {},
   "outputs": [],
   "source": []
  },
  {
   "cell_type": "code",
   "execution_count": null,
   "metadata": {},
   "outputs": [],
   "source": []
  },
  {
   "cell_type": "code",
   "execution_count": 144,
   "metadata": {},
   "outputs": [],
   "source": []
  },
  {
   "cell_type": "code",
   "execution_count": null,
   "metadata": {},
   "outputs": [],
   "source": []
  },
  {
   "cell_type": "code",
   "execution_count": 150,
   "metadata": {},
   "outputs": [],
   "source": []
  },
  {
   "cell_type": "code",
   "execution_count": null,
   "metadata": {},
   "outputs": [],
   "source": []
  },
  {
   "cell_type": "code",
   "execution_count": null,
   "metadata": {},
   "outputs": [],
   "source": []
  },
  {
   "cell_type": "code",
   "execution_count": null,
   "metadata": {},
   "outputs": [],
   "source": []
  },
  {
   "cell_type": "code",
   "execution_count": null,
   "metadata": {},
   "outputs": [],
   "source": []
  },
  {
   "cell_type": "code",
   "execution_count": null,
   "metadata": {},
   "outputs": [],
   "source": []
  },
  {
   "cell_type": "code",
   "execution_count": null,
   "metadata": {},
   "outputs": [],
   "source": []
  },
  {
   "cell_type": "code",
   "execution_count": null,
   "metadata": {},
   "outputs": [],
   "source": []
  },
  {
   "cell_type": "code",
   "execution_count": null,
   "metadata": {},
   "outputs": [],
   "source": []
  },
  {
   "cell_type": "code",
   "execution_count": null,
   "metadata": {},
   "outputs": [],
   "source": []
  },
  {
   "cell_type": "code",
   "execution_count": null,
   "metadata": {},
   "outputs": [],
   "source": []
  },
  {
   "cell_type": "code",
   "execution_count": 202,
   "metadata": {},
   "outputs": [],
   "source": []
  },
  {
   "cell_type": "code",
   "execution_count": null,
   "metadata": {},
   "outputs": [],
   "source": []
  },
  {
   "cell_type": "code",
   "execution_count": null,
   "metadata": {},
   "outputs": [],
   "source": []
  },
  {
   "cell_type": "code",
   "execution_count": null,
   "metadata": {},
   "outputs": [],
   "source": []
  },
  {
   "cell_type": "code",
   "execution_count": null,
   "metadata": {},
   "outputs": [],
   "source": []
  },
  {
   "cell_type": "code",
   "execution_count": null,
   "metadata": {},
   "outputs": [],
   "source": []
  },
  {
   "cell_type": "code",
   "execution_count": null,
   "metadata": {},
   "outputs": [],
   "source": []
  },
  {
   "cell_type": "code",
   "execution_count": null,
   "metadata": {},
   "outputs": [],
   "source": []
  },
  {
   "cell_type": "code",
   "execution_count": null,
   "metadata": {},
   "outputs": [],
   "source": []
  },
  {
   "cell_type": "code",
   "execution_count": null,
   "metadata": {},
   "outputs": [],
   "source": []
  },
  {
   "cell_type": "code",
   "execution_count": null,
   "metadata": {},
   "outputs": [],
   "source": []
  },
  {
   "cell_type": "code",
   "execution_count": null,
   "metadata": {},
   "outputs": [],
   "source": []
  },
  {
   "cell_type": "code",
   "execution_count": 229,
   "metadata": {},
   "outputs": [],
   "source": []
  },
  {
   "cell_type": "code",
   "execution_count": null,
   "metadata": {},
   "outputs": [],
   "source": []
  },
  {
   "cell_type": "code",
   "execution_count": null,
   "metadata": {},
   "outputs": [],
   "source": []
  },
  {
   "cell_type": "code",
   "execution_count": null,
   "metadata": {},
   "outputs": [],
   "source": []
  },
  {
   "cell_type": "code",
   "execution_count": null,
   "metadata": {},
   "outputs": [],
   "source": []
  },
  {
   "cell_type": "code",
   "execution_count": null,
   "metadata": {},
   "outputs": [],
   "source": []
  },
  {
   "cell_type": "code",
   "execution_count": null,
   "metadata": {},
   "outputs": [],
   "source": []
  },
  {
   "cell_type": "code",
   "execution_count": null,
   "metadata": {},
   "outputs": [],
   "source": []
  },
  {
   "cell_type": "code",
   "execution_count": null,
   "metadata": {},
   "outputs": [],
   "source": []
  },
  {
   "cell_type": "code",
   "execution_count": null,
   "metadata": {},
   "outputs": [],
   "source": []
  },
  {
   "cell_type": "code",
   "execution_count": null,
   "metadata": {},
   "outputs": [],
   "source": []
  },
  {
   "cell_type": "code",
   "execution_count": null,
   "metadata": {},
   "outputs": [],
   "source": []
  },
  {
   "cell_type": "code",
   "execution_count": null,
   "metadata": {},
   "outputs": [],
   "source": []
  },
  {
   "cell_type": "code",
   "execution_count": null,
   "metadata": {},
   "outputs": [],
   "source": []
  },
  {
   "cell_type": "code",
   "execution_count": null,
   "metadata": {},
   "outputs": [],
   "source": []
  },
  {
   "cell_type": "code",
   "execution_count": null,
   "metadata": {},
   "outputs": [],
   "source": []
  },
  {
   "cell_type": "code",
   "execution_count": null,
   "metadata": {},
   "outputs": [],
   "source": []
  },
  {
   "cell_type": "code",
   "execution_count": null,
   "metadata": {},
   "outputs": [],
   "source": []
  },
  {
   "cell_type": "code",
   "execution_count": null,
   "metadata": {},
   "outputs": [],
   "source": []
  },
  {
   "cell_type": "code",
   "execution_count": null,
   "metadata": {},
   "outputs": [],
   "source": []
  },
  {
   "cell_type": "code",
   "execution_count": null,
   "metadata": {},
   "outputs": [],
   "source": []
  },
  {
   "cell_type": "code",
   "execution_count": null,
   "metadata": {},
   "outputs": [],
   "source": []
  },
  {
   "cell_type": "code",
   "execution_count": null,
   "metadata": {},
   "outputs": [],
   "source": []
  },
  {
   "cell_type": "code",
   "execution_count": null,
   "metadata": {},
   "outputs": [],
   "source": []
  },
  {
   "cell_type": "code",
   "execution_count": null,
   "metadata": {},
   "outputs": [],
   "source": []
  },
  {
   "cell_type": "code",
   "execution_count": null,
   "metadata": {},
   "outputs": [],
   "source": []
  },
  {
   "cell_type": "code",
   "execution_count": null,
   "metadata": {},
   "outputs": [],
   "source": []
  },
  {
   "cell_type": "code",
   "execution_count": null,
   "metadata": {},
   "outputs": [],
   "source": []
  },
  {
   "cell_type": "code",
   "execution_count": null,
   "metadata": {},
   "outputs": [],
   "source": []
  },
  {
   "cell_type": "code",
   "execution_count": null,
   "metadata": {},
   "outputs": [],
   "source": []
  },
  {
   "cell_type": "code",
   "execution_count": null,
   "metadata": {},
   "outputs": [],
   "source": []
  },
  {
   "cell_type": "code",
   "execution_count": null,
   "metadata": {},
   "outputs": [],
   "source": []
  },
  {
   "cell_type": "code",
   "execution_count": null,
   "metadata": {},
   "outputs": [],
   "source": []
  },
  {
   "cell_type": "code",
   "execution_count": null,
   "metadata": {},
   "outputs": [],
   "source": []
  },
  {
   "cell_type": "code",
   "execution_count": null,
   "metadata": {},
   "outputs": [],
   "source": []
  },
  {
   "cell_type": "code",
   "execution_count": null,
   "metadata": {},
   "outputs": [],
   "source": []
  },
  {
   "cell_type": "code",
   "execution_count": null,
   "metadata": {},
   "outputs": [],
   "source": []
  },
  {
   "cell_type": "code",
   "execution_count": null,
   "metadata": {},
   "outputs": [],
   "source": []
  },
  {
   "cell_type": "code",
   "execution_count": null,
   "metadata": {},
   "outputs": [],
   "source": []
  },
  {
   "cell_type": "code",
   "execution_count": null,
   "metadata": {},
   "outputs": [],
   "source": []
  },
  {
   "cell_type": "code",
   "execution_count": null,
   "metadata": {},
   "outputs": [],
   "source": []
  },
  {
   "cell_type": "code",
   "execution_count": null,
   "metadata": {},
   "outputs": [],
   "source": []
  },
  {
   "cell_type": "code",
   "execution_count": null,
   "metadata": {},
   "outputs": [],
   "source": []
  },
  {
   "cell_type": "code",
   "execution_count": null,
   "metadata": {},
   "outputs": [],
   "source": []
  },
  {
   "cell_type": "code",
   "execution_count": null,
   "metadata": {},
   "outputs": [],
   "source": []
  },
  {
   "cell_type": "code",
   "execution_count": null,
   "metadata": {},
   "outputs": [],
   "source": []
  },
  {
   "cell_type": "code",
   "execution_count": null,
   "metadata": {},
   "outputs": [],
   "source": []
  },
  {
   "cell_type": "code",
   "execution_count": null,
   "metadata": {},
   "outputs": [],
   "source": []
  },
  {
   "cell_type": "code",
   "execution_count": null,
   "metadata": {},
   "outputs": [],
   "source": []
  },
  {
   "cell_type": "code",
   "execution_count": null,
   "metadata": {},
   "outputs": [],
   "source": []
  },
  {
   "cell_type": "code",
   "execution_count": null,
   "metadata": {},
   "outputs": [],
   "source": []
  },
  {
   "cell_type": "code",
   "execution_count": null,
   "metadata": {},
   "outputs": [],
   "source": []
  },
  {
   "cell_type": "code",
   "execution_count": null,
   "metadata": {},
   "outputs": [],
   "source": []
  },
  {
   "cell_type": "code",
   "execution_count": null,
   "metadata": {},
   "outputs": [],
   "source": []
  },
  {
   "cell_type": "code",
   "execution_count": null,
   "metadata": {},
   "outputs": [],
   "source": []
  },
  {
   "cell_type": "code",
   "execution_count": null,
   "metadata": {},
   "outputs": [],
   "source": []
  },
  {
   "cell_type": "code",
   "execution_count": null,
   "metadata": {},
   "outputs": [],
   "source": []
  },
  {
   "cell_type": "code",
   "execution_count": null,
   "metadata": {},
   "outputs": [],
   "source": []
  },
  {
   "cell_type": "code",
   "execution_count": null,
   "metadata": {},
   "outputs": [],
   "source": []
  },
  {
   "cell_type": "code",
   "execution_count": null,
   "metadata": {},
   "outputs": [],
   "source": []
  },
  {
   "cell_type": "code",
   "execution_count": null,
   "metadata": {},
   "outputs": [],
   "source": []
  },
  {
   "cell_type": "code",
   "execution_count": null,
   "metadata": {},
   "outputs": [],
   "source": []
  },
  {
   "cell_type": "code",
   "execution_count": null,
   "metadata": {},
   "outputs": [],
   "source": []
  },
  {
   "cell_type": "code",
   "execution_count": null,
   "metadata": {},
   "outputs": [],
   "source": []
  },
  {
   "cell_type": "code",
   "execution_count": null,
   "metadata": {},
   "outputs": [],
   "source": []
  },
  {
   "cell_type": "code",
   "execution_count": null,
   "metadata": {},
   "outputs": [],
   "source": []
  },
  {
   "cell_type": "code",
   "execution_count": null,
   "metadata": {},
   "outputs": [],
   "source": []
  },
  {
   "cell_type": "code",
   "execution_count": null,
   "metadata": {},
   "outputs": [],
   "source": []
  },
  {
   "cell_type": "code",
   "execution_count": null,
   "metadata": {},
   "outputs": [],
   "source": []
  },
  {
   "cell_type": "code",
   "execution_count": null,
   "metadata": {},
   "outputs": [],
   "source": []
  },
  {
   "cell_type": "code",
   "execution_count": null,
   "metadata": {},
   "outputs": [],
   "source": []
  },
  {
   "cell_type": "code",
   "execution_count": null,
   "metadata": {},
   "outputs": [],
   "source": []
  },
  {
   "cell_type": "code",
   "execution_count": null,
   "metadata": {},
   "outputs": [],
   "source": []
  },
  {
   "cell_type": "code",
   "execution_count": null,
   "metadata": {},
   "outputs": [],
   "source": []
  },
  {
   "cell_type": "code",
   "execution_count": null,
   "metadata": {},
   "outputs": [],
   "source": []
  },
  {
   "cell_type": "code",
   "execution_count": null,
   "metadata": {},
   "outputs": [],
   "source": []
  },
  {
   "cell_type": "code",
   "execution_count": null,
   "metadata": {},
   "outputs": [],
   "source": []
  },
  {
   "cell_type": "code",
   "execution_count": null,
   "metadata": {},
   "outputs": [],
   "source": []
  },
  {
   "cell_type": "code",
   "execution_count": null,
   "metadata": {},
   "outputs": [],
   "source": []
  },
  {
   "cell_type": "code",
   "execution_count": null,
   "metadata": {},
   "outputs": [],
   "source": []
  },
  {
   "cell_type": "code",
   "execution_count": null,
   "metadata": {},
   "outputs": [],
   "source": []
  },
  {
   "cell_type": "code",
   "execution_count": null,
   "metadata": {},
   "outputs": [],
   "source": []
  },
  {
   "cell_type": "code",
   "execution_count": null,
   "metadata": {},
   "outputs": [],
   "source": []
  },
  {
   "cell_type": "code",
   "execution_count": null,
   "metadata": {},
   "outputs": [],
   "source": []
  },
  {
   "cell_type": "code",
   "execution_count": null,
   "metadata": {},
   "outputs": [],
   "source": []
  },
  {
   "cell_type": "code",
   "execution_count": null,
   "metadata": {},
   "outputs": [],
   "source": []
  },
  {
   "cell_type": "code",
   "execution_count": null,
   "metadata": {},
   "outputs": [],
   "source": []
  },
  {
   "cell_type": "code",
   "execution_count": null,
   "metadata": {},
   "outputs": [],
   "source": []
  },
  {
   "cell_type": "code",
   "execution_count": null,
   "metadata": {},
   "outputs": [],
   "source": []
  },
  {
   "cell_type": "code",
   "execution_count": null,
   "metadata": {},
   "outputs": [],
   "source": []
  },
  {
   "cell_type": "code",
   "execution_count": null,
   "metadata": {},
   "outputs": [],
   "source": []
  },
  {
   "cell_type": "code",
   "execution_count": null,
   "metadata": {},
   "outputs": [],
   "source": []
  },
  {
   "cell_type": "code",
   "execution_count": null,
   "metadata": {},
   "outputs": [],
   "source": []
  },
  {
   "cell_type": "code",
   "execution_count": null,
   "metadata": {},
   "outputs": [],
   "source": []
  },
  {
   "cell_type": "code",
   "execution_count": null,
   "metadata": {},
   "outputs": [],
   "source": []
  },
  {
   "cell_type": "code",
   "execution_count": null,
   "metadata": {},
   "outputs": [],
   "source": []
  },
  {
   "cell_type": "code",
   "execution_count": null,
   "metadata": {},
   "outputs": [],
   "source": []
  },
  {
   "cell_type": "code",
   "execution_count": null,
   "metadata": {},
   "outputs": [],
   "source": []
  },
  {
   "cell_type": "code",
   "execution_count": null,
   "metadata": {},
   "outputs": [],
   "source": []
  },
  {
   "cell_type": "code",
   "execution_count": null,
   "metadata": {},
   "outputs": [],
   "source": []
  },
  {
   "cell_type": "code",
   "execution_count": null,
   "metadata": {},
   "outputs": [],
   "source": []
  },
  {
   "cell_type": "code",
   "execution_count": null,
   "metadata": {},
   "outputs": [],
   "source": []
  },
  {
   "cell_type": "code",
   "execution_count": null,
   "metadata": {},
   "outputs": [],
   "source": []
  },
  {
   "cell_type": "code",
   "execution_count": null,
   "metadata": {},
   "outputs": [],
   "source": []
  },
  {
   "cell_type": "code",
   "execution_count": null,
   "metadata": {},
   "outputs": [],
   "source": []
  },
  {
   "cell_type": "code",
   "execution_count": null,
   "metadata": {},
   "outputs": [],
   "source": []
  },
  {
   "cell_type": "code",
   "execution_count": null,
   "metadata": {},
   "outputs": [],
   "source": []
  },
  {
   "cell_type": "code",
   "execution_count": null,
   "metadata": {},
   "outputs": [],
   "source": []
  },
  {
   "cell_type": "code",
   "execution_count": null,
   "metadata": {},
   "outputs": [],
   "source": []
  },
  {
   "cell_type": "code",
   "execution_count": null,
   "metadata": {},
   "outputs": [],
   "source": []
  },
  {
   "cell_type": "code",
   "execution_count": null,
   "metadata": {},
   "outputs": [],
   "source": []
  },
  {
   "cell_type": "code",
   "execution_count": null,
   "metadata": {},
   "outputs": [],
   "source": []
  },
  {
   "cell_type": "code",
   "execution_count": null,
   "metadata": {},
   "outputs": [],
   "source": []
  },
  {
   "cell_type": "code",
   "execution_count": null,
   "metadata": {},
   "outputs": [],
   "source": []
  },
  {
   "cell_type": "code",
   "execution_count": null,
   "metadata": {},
   "outputs": [],
   "source": []
  },
  {
   "cell_type": "code",
   "execution_count": null,
   "metadata": {},
   "outputs": [],
   "source": []
  },
  {
   "cell_type": "code",
   "execution_count": null,
   "metadata": {},
   "outputs": [],
   "source": []
  },
  {
   "cell_type": "code",
   "execution_count": null,
   "metadata": {},
   "outputs": [],
   "source": []
  },
  {
   "cell_type": "code",
   "execution_count": null,
   "metadata": {},
   "outputs": [],
   "source": []
  },
  {
   "cell_type": "code",
   "execution_count": null,
   "metadata": {},
   "outputs": [],
   "source": []
  },
  {
   "cell_type": "code",
   "execution_count": null,
   "metadata": {},
   "outputs": [],
   "source": []
  },
  {
   "cell_type": "code",
   "execution_count": null,
   "metadata": {},
   "outputs": [],
   "source": []
  },
  {
   "cell_type": "code",
   "execution_count": null,
   "metadata": {},
   "outputs": [],
   "source": []
  },
  {
   "cell_type": "code",
   "execution_count": null,
   "metadata": {},
   "outputs": [],
   "source": []
  },
  {
   "cell_type": "code",
   "execution_count": null,
   "metadata": {},
   "outputs": [],
   "source": []
  },
  {
   "cell_type": "code",
   "execution_count": null,
   "metadata": {},
   "outputs": [],
   "source": []
  },
  {
   "cell_type": "code",
   "execution_count": null,
   "metadata": {},
   "outputs": [],
   "source": []
  },
  {
   "cell_type": "code",
   "execution_count": null,
   "metadata": {},
   "outputs": [],
   "source": []
  },
  {
   "cell_type": "code",
   "execution_count": null,
   "metadata": {},
   "outputs": [],
   "source": []
  },
  {
   "cell_type": "code",
   "execution_count": null,
   "metadata": {},
   "outputs": [],
   "source": []
  },
  {
   "cell_type": "code",
   "execution_count": null,
   "metadata": {},
   "outputs": [],
   "source": []
  },
  {
   "cell_type": "code",
   "execution_count": null,
   "metadata": {},
   "outputs": [],
   "source": []
  },
  {
   "cell_type": "code",
   "execution_count": null,
   "metadata": {},
   "outputs": [],
   "source": []
  },
  {
   "cell_type": "code",
   "execution_count": null,
   "metadata": {},
   "outputs": [],
   "source": []
  },
  {
   "cell_type": "code",
   "execution_count": null,
   "metadata": {},
   "outputs": [],
   "source": []
  },
  {
   "cell_type": "code",
   "execution_count": null,
   "metadata": {},
   "outputs": [],
   "source": []
  },
  {
   "cell_type": "code",
   "execution_count": null,
   "metadata": {},
   "outputs": [],
   "source": []
  },
  {
   "cell_type": "code",
   "execution_count": null,
   "metadata": {},
   "outputs": [],
   "source": []
  },
  {
   "cell_type": "code",
   "execution_count": null,
   "metadata": {},
   "outputs": [],
   "source": []
  },
  {
   "cell_type": "code",
   "execution_count": null,
   "metadata": {},
   "outputs": [],
   "source": []
  },
  {
   "cell_type": "code",
   "execution_count": null,
   "metadata": {},
   "outputs": [],
   "source": []
  },
  {
   "cell_type": "code",
   "execution_count": null,
   "metadata": {},
   "outputs": [],
   "source": []
  },
  {
   "cell_type": "code",
   "execution_count": null,
   "metadata": {},
   "outputs": [],
   "source": []
  },
  {
   "cell_type": "code",
   "execution_count": null,
   "metadata": {},
   "outputs": [],
   "source": []
  },
  {
   "cell_type": "code",
   "execution_count": null,
   "metadata": {},
   "outputs": [],
   "source": []
  },
  {
   "cell_type": "code",
   "execution_count": null,
   "metadata": {},
   "outputs": [],
   "source": []
  },
  {
   "cell_type": "code",
   "execution_count": null,
   "metadata": {},
   "outputs": [],
   "source": []
  },
  {
   "cell_type": "code",
   "execution_count": null,
   "metadata": {},
   "outputs": [],
   "source": []
  },
  {
   "cell_type": "code",
   "execution_count": null,
   "metadata": {},
   "outputs": [],
   "source": []
  },
  {
   "cell_type": "code",
   "execution_count": null,
   "metadata": {},
   "outputs": [],
   "source": []
  },
  {
   "cell_type": "code",
   "execution_count": null,
   "metadata": {},
   "outputs": [],
   "source": []
  },
  {
   "cell_type": "code",
   "execution_count": null,
   "metadata": {},
   "outputs": [],
   "source": []
  },
  {
   "cell_type": "code",
   "execution_count": null,
   "metadata": {},
   "outputs": [],
   "source": []
  },
  {
   "cell_type": "code",
   "execution_count": null,
   "metadata": {},
   "outputs": [],
   "source": []
  },
  {
   "cell_type": "code",
   "execution_count": null,
   "metadata": {},
   "outputs": [],
   "source": []
  },
  {
   "cell_type": "code",
   "execution_count": null,
   "metadata": {},
   "outputs": [],
   "source": []
  },
  {
   "cell_type": "code",
   "execution_count": null,
   "metadata": {},
   "outputs": [],
   "source": []
  },
  {
   "cell_type": "code",
   "execution_count": null,
   "metadata": {},
   "outputs": [],
   "source": []
  },
  {
   "cell_type": "code",
   "execution_count": null,
   "metadata": {},
   "outputs": [],
   "source": []
  },
  {
   "cell_type": "code",
   "execution_count": null,
   "metadata": {},
   "outputs": [],
   "source": []
  },
  {
   "cell_type": "code",
   "execution_count": null,
   "metadata": {},
   "outputs": [],
   "source": []
  },
  {
   "cell_type": "code",
   "execution_count": null,
   "metadata": {},
   "outputs": [],
   "source": []
  },
  {
   "cell_type": "code",
   "execution_count": null,
   "metadata": {},
   "outputs": [],
   "source": []
  },
  {
   "cell_type": "code",
   "execution_count": null,
   "metadata": {},
   "outputs": [],
   "source": []
  },
  {
   "cell_type": "code",
   "execution_count": null,
   "metadata": {},
   "outputs": [],
   "source": []
  },
  {
   "cell_type": "code",
   "execution_count": null,
   "metadata": {},
   "outputs": [],
   "source": []
  },
  {
   "cell_type": "code",
   "execution_count": null,
   "metadata": {},
   "outputs": [],
   "source": []
  },
  {
   "cell_type": "code",
   "execution_count": null,
   "metadata": {},
   "outputs": [],
   "source": []
  },
  {
   "cell_type": "code",
   "execution_count": null,
   "metadata": {},
   "outputs": [],
   "source": []
  },
  {
   "cell_type": "code",
   "execution_count": null,
   "metadata": {},
   "outputs": [],
   "source": []
  },
  {
   "cell_type": "code",
   "execution_count": null,
   "metadata": {},
   "outputs": [],
   "source": []
  },
  {
   "cell_type": "code",
   "execution_count": null,
   "metadata": {},
   "outputs": [],
   "source": []
  },
  {
   "cell_type": "code",
   "execution_count": null,
   "metadata": {},
   "outputs": [],
   "source": []
  },
  {
   "cell_type": "code",
   "execution_count": null,
   "metadata": {},
   "outputs": [],
   "source": []
  },
  {
   "cell_type": "code",
   "execution_count": null,
   "metadata": {},
   "outputs": [],
   "source": []
  },
  {
   "cell_type": "code",
   "execution_count": null,
   "metadata": {},
   "outputs": [],
   "source": []
  },
  {
   "cell_type": "code",
   "execution_count": null,
   "metadata": {},
   "outputs": [],
   "source": []
  },
  {
   "cell_type": "code",
   "execution_count": null,
   "metadata": {},
   "outputs": [],
   "source": []
  },
  {
   "cell_type": "code",
   "execution_count": null,
   "metadata": {},
   "outputs": [],
   "source": []
  },
  {
   "cell_type": "code",
   "execution_count": null,
   "metadata": {},
   "outputs": [],
   "source": []
  },
  {
   "cell_type": "code",
   "execution_count": null,
   "metadata": {},
   "outputs": [],
   "source": []
  },
  {
   "cell_type": "code",
   "execution_count": null,
   "metadata": {},
   "outputs": [],
   "source": []
  },
  {
   "cell_type": "code",
   "execution_count": null,
   "metadata": {},
   "outputs": [],
   "source": []
  },
  {
   "cell_type": "code",
   "execution_count": null,
   "metadata": {},
   "outputs": [],
   "source": []
  },
  {
   "cell_type": "code",
   "execution_count": null,
   "metadata": {},
   "outputs": [],
   "source": []
  },
  {
   "cell_type": "code",
   "execution_count": null,
   "metadata": {},
   "outputs": [],
   "source": []
  },
  {
   "cell_type": "code",
   "execution_count": null,
   "metadata": {},
   "outputs": [],
   "source": []
  },
  {
   "cell_type": "code",
   "execution_count": null,
   "metadata": {},
   "outputs": [],
   "source": []
  },
  {
   "cell_type": "code",
   "execution_count": null,
   "metadata": {},
   "outputs": [],
   "source": []
  },
  {
   "cell_type": "code",
   "execution_count": null,
   "metadata": {},
   "outputs": [],
   "source": []
  },
  {
   "cell_type": "code",
   "execution_count": null,
   "metadata": {},
   "outputs": [],
   "source": []
  },
  {
   "cell_type": "code",
   "execution_count": null,
   "metadata": {},
   "outputs": [],
   "source": []
  },
  {
   "cell_type": "code",
   "execution_count": null,
   "metadata": {},
   "outputs": [],
   "source": []
  },
  {
   "cell_type": "code",
   "execution_count": null,
   "metadata": {},
   "outputs": [],
   "source": []
  },
  {
   "cell_type": "code",
   "execution_count": null,
   "metadata": {},
   "outputs": [],
   "source": []
  },
  {
   "cell_type": "code",
   "execution_count": null,
   "metadata": {},
   "outputs": [],
   "source": []
  },
  {
   "cell_type": "code",
   "execution_count": null,
   "metadata": {},
   "outputs": [],
   "source": []
  },
  {
   "cell_type": "code",
   "execution_count": null,
   "metadata": {},
   "outputs": [],
   "source": []
  },
  {
   "cell_type": "code",
   "execution_count": null,
   "metadata": {},
   "outputs": [],
   "source": []
  },
  {
   "cell_type": "code",
   "execution_count": null,
   "metadata": {},
   "outputs": [],
   "source": []
  },
  {
   "cell_type": "code",
   "execution_count": null,
   "metadata": {},
   "outputs": [],
   "source": []
  },
  {
   "cell_type": "code",
   "execution_count": null,
   "metadata": {},
   "outputs": [],
   "source": []
  },
  {
   "cell_type": "code",
   "execution_count": null,
   "metadata": {},
   "outputs": [],
   "source": []
  },
  {
   "cell_type": "code",
   "execution_count": null,
   "metadata": {},
   "outputs": [],
   "source": []
  },
  {
   "cell_type": "code",
   "execution_count": null,
   "metadata": {},
   "outputs": [],
   "source": []
  },
  {
   "cell_type": "code",
   "execution_count": null,
   "metadata": {},
   "outputs": [],
   "source": []
  },
  {
   "cell_type": "code",
   "execution_count": null,
   "metadata": {},
   "outputs": [],
   "source": []
  },
  {
   "cell_type": "code",
   "execution_count": null,
   "metadata": {},
   "outputs": [],
   "source": []
  },
  {
   "cell_type": "code",
   "execution_count": null,
   "metadata": {},
   "outputs": [],
   "source": []
  },
  {
   "cell_type": "code",
   "execution_count": null,
   "metadata": {},
   "outputs": [],
   "source": []
  },
  {
   "cell_type": "code",
   "execution_count": null,
   "metadata": {},
   "outputs": [],
   "source": []
  },
  {
   "cell_type": "code",
   "execution_count": null,
   "metadata": {},
   "outputs": [],
   "source": []
  },
  {
   "cell_type": "code",
   "execution_count": null,
   "metadata": {},
   "outputs": [],
   "source": []
  },
  {
   "cell_type": "code",
   "execution_count": null,
   "metadata": {},
   "outputs": [],
   "source": []
  },
  {
   "cell_type": "code",
   "execution_count": null,
   "metadata": {},
   "outputs": [],
   "source": []
  },
  {
   "cell_type": "code",
   "execution_count": null,
   "metadata": {},
   "outputs": [],
   "source": []
  },
  {
   "cell_type": "code",
   "execution_count": null,
   "metadata": {},
   "outputs": [],
   "source": []
  },
  {
   "cell_type": "code",
   "execution_count": null,
   "metadata": {},
   "outputs": [],
   "source": []
  },
  {
   "cell_type": "code",
   "execution_count": null,
   "metadata": {},
   "outputs": [],
   "source": []
  },
  {
   "cell_type": "code",
   "execution_count": null,
   "metadata": {},
   "outputs": [],
   "source": []
  },
  {
   "cell_type": "code",
   "execution_count": null,
   "metadata": {},
   "outputs": [],
   "source": []
  },
  {
   "cell_type": "code",
   "execution_count": null,
   "metadata": {},
   "outputs": [],
   "source": []
  },
  {
   "cell_type": "code",
   "execution_count": null,
   "metadata": {},
   "outputs": [],
   "source": []
  },
  {
   "cell_type": "code",
   "execution_count": null,
   "metadata": {},
   "outputs": [],
   "source": []
  },
  {
   "cell_type": "code",
   "execution_count": null,
   "metadata": {},
   "outputs": [],
   "source": []
  },
  {
   "cell_type": "code",
   "execution_count": null,
   "metadata": {},
   "outputs": [],
   "source": []
  },
  {
   "cell_type": "code",
   "execution_count": null,
   "metadata": {},
   "outputs": [],
   "source": []
  },
  {
   "cell_type": "code",
   "execution_count": null,
   "metadata": {},
   "outputs": [],
   "source": []
  },
  {
   "cell_type": "code",
   "execution_count": null,
   "metadata": {},
   "outputs": [],
   "source": []
  },
  {
   "cell_type": "code",
   "execution_count": null,
   "metadata": {},
   "outputs": [],
   "source": []
  },
  {
   "cell_type": "code",
   "execution_count": null,
   "metadata": {},
   "outputs": [],
   "source": []
  },
  {
   "cell_type": "code",
   "execution_count": null,
   "metadata": {},
   "outputs": [],
   "source": []
  },
  {
   "cell_type": "code",
   "execution_count": null,
   "metadata": {},
   "outputs": [],
   "source": []
  },
  {
   "cell_type": "code",
   "execution_count": null,
   "metadata": {},
   "outputs": [],
   "source": []
  },
  {
   "cell_type": "code",
   "execution_count": 933,
   "metadata": {},
   "outputs": [],
   "source": []
  },
  {
   "cell_type": "code",
   "execution_count": null,
   "metadata": {},
   "outputs": [],
   "source": []
  },
  {
   "cell_type": "code",
   "execution_count": null,
   "metadata": {},
   "outputs": [],
   "source": []
  },
  {
   "cell_type": "code",
   "execution_count": null,
   "metadata": {},
   "outputs": [],
   "source": []
  },
  {
   "cell_type": "code",
   "execution_count": null,
   "metadata": {},
   "outputs": [],
   "source": []
  },
  {
   "cell_type": "code",
   "execution_count": null,
   "metadata": {},
   "outputs": [],
   "source": []
  },
  {
   "cell_type": "code",
   "execution_count": null,
   "metadata": {},
   "outputs": [],
   "source": []
  },
  {
   "cell_type": "code",
   "execution_count": null,
   "metadata": {},
   "outputs": [],
   "source": []
  },
  {
   "cell_type": "code",
   "execution_count": null,
   "metadata": {},
   "outputs": [],
   "source": []
  },
  {
   "cell_type": "code",
   "execution_count": null,
   "metadata": {},
   "outputs": [],
   "source": []
  },
  {
   "cell_type": "code",
   "execution_count": null,
   "metadata": {},
   "outputs": [],
   "source": []
  },
  {
   "cell_type": "code",
   "execution_count": null,
   "metadata": {},
   "outputs": [],
   "source": []
  },
  {
   "cell_type": "code",
   "execution_count": null,
   "metadata": {},
   "outputs": [],
   "source": []
  },
  {
   "cell_type": "code",
   "execution_count": null,
   "metadata": {},
   "outputs": [],
   "source": []
  },
  {
   "cell_type": "code",
   "execution_count": null,
   "metadata": {},
   "outputs": [],
   "source": []
  },
  {
   "cell_type": "code",
   "execution_count": null,
   "metadata": {},
   "outputs": [],
   "source": []
  },
  {
   "cell_type": "code",
   "execution_count": null,
   "metadata": {},
   "outputs": [],
   "source": []
  },
  {
   "cell_type": "code",
   "execution_count": null,
   "metadata": {},
   "outputs": [],
   "source": []
  },
  {
   "cell_type": "code",
   "execution_count": 855,
   "metadata": {},
   "outputs": [],
   "source": []
  },
  {
   "cell_type": "code",
   "execution_count": null,
   "metadata": {},
   "outputs": [],
   "source": []
  },
  {
   "cell_type": "code",
   "execution_count": 854,
   "metadata": {},
   "outputs": [],
   "source": []
  },
  {
   "cell_type": "code",
   "execution_count": 856,
   "metadata": {},
   "outputs": [],
   "source": []
  },
  {
   "cell_type": "code",
   "execution_count": null,
   "metadata": {},
   "outputs": [],
   "source": []
  },
  {
   "cell_type": "code",
   "execution_count": null,
   "metadata": {},
   "outputs": [],
   "source": []
  },
  {
   "cell_type": "code",
   "execution_count": null,
   "metadata": {},
   "outputs": [],
   "source": []
  },
  {
   "cell_type": "code",
   "execution_count": null,
   "metadata": {},
   "outputs": [],
   "source": []
  },
  {
   "cell_type": "code",
   "execution_count": null,
   "metadata": {},
   "outputs": [],
   "source": []
  },
  {
   "cell_type": "code",
   "execution_count": null,
   "metadata": {},
   "outputs": [],
   "source": []
  },
  {
   "cell_type": "code",
   "execution_count": null,
   "metadata": {},
   "outputs": [],
   "source": []
  },
  {
   "cell_type": "code",
   "execution_count": null,
   "metadata": {},
   "outputs": [],
   "source": []
  },
  {
   "cell_type": "code",
   "execution_count": 888,
   "metadata": {},
   "outputs": [],
   "source": []
  },
  {
   "cell_type": "code",
   "execution_count": null,
   "metadata": {},
   "outputs": [],
   "source": []
  },
  {
   "cell_type": "code",
   "execution_count": null,
   "metadata": {},
   "outputs": [],
   "source": []
  },
  {
   "cell_type": "code",
   "execution_count": null,
   "metadata": {},
   "outputs": [],
   "source": []
  },
  {
   "cell_type": "code",
   "execution_count": null,
   "metadata": {},
   "outputs": [],
   "source": []
  },
  {
   "cell_type": "code",
   "execution_count": null,
   "metadata": {},
   "outputs": [],
   "source": []
  },
  {
   "cell_type": "code",
   "execution_count": null,
   "metadata": {},
   "outputs": [],
   "source": []
  },
  {
   "cell_type": "code",
   "execution_count": null,
   "metadata": {},
   "outputs": [],
   "source": []
  },
  {
   "cell_type": "code",
   "execution_count": null,
   "metadata": {},
   "outputs": [],
   "source": []
  },
  {
   "cell_type": "code",
   "execution_count": null,
   "metadata": {},
   "outputs": [],
   "source": []
  },
  {
   "cell_type": "code",
   "execution_count": null,
   "metadata": {},
   "outputs": [],
   "source": []
  },
  {
   "cell_type": "code",
   "execution_count": null,
   "metadata": {},
   "outputs": [],
   "source": []
  },
  {
   "cell_type": "code",
   "execution_count": null,
   "metadata": {},
   "outputs": [],
   "source": []
  },
  {
   "cell_type": "code",
   "execution_count": null,
   "metadata": {},
   "outputs": [],
   "source": []
  },
  {
   "cell_type": "code",
   "execution_count": null,
   "metadata": {},
   "outputs": [],
   "source": []
  },
  {
   "cell_type": "code",
   "execution_count": null,
   "metadata": {},
   "outputs": [],
   "source": []
  },
  {
   "cell_type": "code",
   "execution_count": null,
   "metadata": {},
   "outputs": [],
   "source": []
  },
  {
   "cell_type": "code",
   "execution_count": null,
   "metadata": {},
   "outputs": [],
   "source": []
  },
  {
   "cell_type": "code",
   "execution_count": null,
   "metadata": {},
   "outputs": [],
   "source": []
  },
  {
   "cell_type": "code",
   "execution_count": null,
   "metadata": {},
   "outputs": [],
   "source": []
  },
  {
   "cell_type": "code",
   "execution_count": null,
   "metadata": {},
   "outputs": [],
   "source": []
  },
  {
   "cell_type": "code",
   "execution_count": null,
   "metadata": {},
   "outputs": [],
   "source": []
  },
  {
   "cell_type": "code",
   "execution_count": null,
   "metadata": {},
   "outputs": [],
   "source": []
  },
  {
   "cell_type": "code",
   "execution_count": null,
   "metadata": {},
   "outputs": [],
   "source": []
  },
  {
   "cell_type": "code",
   "execution_count": null,
   "metadata": {},
   "outputs": [],
   "source": []
  },
  {
   "cell_type": "code",
   "execution_count": null,
   "metadata": {},
   "outputs": [],
   "source": []
  },
  {
   "cell_type": "code",
   "execution_count": null,
   "metadata": {},
   "outputs": [],
   "source": []
  },
  {
   "cell_type": "code",
   "execution_count": null,
   "metadata": {},
   "outputs": [],
   "source": []
  },
  {
   "cell_type": "code",
   "execution_count": null,
   "metadata": {},
   "outputs": [],
   "source": []
  },
  {
   "cell_type": "code",
   "execution_count": null,
   "metadata": {},
   "outputs": [],
   "source": []
  },
  {
   "cell_type": "code",
   "execution_count": null,
   "metadata": {},
   "outputs": [],
   "source": []
  },
  {
   "cell_type": "code",
   "execution_count": null,
   "metadata": {},
   "outputs": [],
   "source": []
  },
  {
   "cell_type": "code",
   "execution_count": null,
   "metadata": {},
   "outputs": [],
   "source": []
  },
  {
   "cell_type": "code",
   "execution_count": null,
   "metadata": {},
   "outputs": [],
   "source": []
  },
  {
   "cell_type": "code",
   "execution_count": null,
   "metadata": {},
   "outputs": [],
   "source": []
  },
  {
   "cell_type": "code",
   "execution_count": null,
   "metadata": {},
   "outputs": [],
   "source": []
  },
  {
   "cell_type": "code",
   "execution_count": null,
   "metadata": {},
   "outputs": [],
   "source": []
  },
  {
   "cell_type": "code",
   "execution_count": null,
   "metadata": {},
   "outputs": [],
   "source": []
  },
  {
   "cell_type": "code",
   "execution_count": null,
   "metadata": {},
   "outputs": [],
   "source": []
  },
  {
   "cell_type": "code",
   "execution_count": null,
   "metadata": {},
   "outputs": [],
   "source": []
  },
  {
   "cell_type": "code",
   "execution_count": null,
   "metadata": {},
   "outputs": [],
   "source": []
  },
  {
   "cell_type": "code",
   "execution_count": null,
   "metadata": {},
   "outputs": [],
   "source": []
  },
  {
   "cell_type": "code",
   "execution_count": null,
   "metadata": {},
   "outputs": [],
   "source": []
  },
  {
   "cell_type": "code",
   "execution_count": null,
   "metadata": {},
   "outputs": [],
   "source": []
  },
  {
   "cell_type": "code",
   "execution_count": null,
   "metadata": {},
   "outputs": [],
   "source": []
  },
  {
   "cell_type": "code",
   "execution_count": null,
   "metadata": {},
   "outputs": [],
   "source": []
  },
  {
   "cell_type": "code",
   "execution_count": null,
   "metadata": {},
   "outputs": [],
   "source": []
  },
  {
   "cell_type": "code",
   "execution_count": null,
   "metadata": {},
   "outputs": [],
   "source": []
  },
  {
   "cell_type": "code",
   "execution_count": null,
   "metadata": {},
   "outputs": [],
   "source": []
  },
  {
   "cell_type": "code",
   "execution_count": null,
   "metadata": {},
   "outputs": [],
   "source": []
  },
  {
   "cell_type": "code",
   "execution_count": null,
   "metadata": {},
   "outputs": [],
   "source": []
  },
  {
   "cell_type": "code",
   "execution_count": null,
   "metadata": {},
   "outputs": [],
   "source": []
  },
  {
   "cell_type": "code",
   "execution_count": null,
   "metadata": {},
   "outputs": [],
   "source": []
  },
  {
   "cell_type": "code",
   "execution_count": null,
   "metadata": {},
   "outputs": [],
   "source": []
  },
  {
   "cell_type": "code",
   "execution_count": null,
   "metadata": {},
   "outputs": [],
   "source": []
  },
  {
   "cell_type": "code",
   "execution_count": null,
   "metadata": {},
   "outputs": [],
   "source": []
  },
  {
   "cell_type": "code",
   "execution_count": null,
   "metadata": {},
   "outputs": [],
   "source": []
  },
  {
   "cell_type": "code",
   "execution_count": null,
   "metadata": {},
   "outputs": [],
   "source": []
  },
  {
   "cell_type": "code",
   "execution_count": null,
   "metadata": {},
   "outputs": [],
   "source": []
  },
  {
   "cell_type": "code",
   "execution_count": null,
   "metadata": {},
   "outputs": [],
   "source": []
  },
  {
   "cell_type": "code",
   "execution_count": null,
   "metadata": {},
   "outputs": [],
   "source": []
  },
  {
   "cell_type": "code",
   "execution_count": null,
   "metadata": {},
   "outputs": [],
   "source": []
  },
  {
   "cell_type": "code",
   "execution_count": null,
   "metadata": {},
   "outputs": [],
   "source": []
  },
  {
   "cell_type": "code",
   "execution_count": null,
   "metadata": {},
   "outputs": [],
   "source": []
  },
  {
   "cell_type": "code",
   "execution_count": null,
   "metadata": {},
   "outputs": [],
   "source": []
  },
  {
   "cell_type": "code",
   "execution_count": null,
   "metadata": {},
   "outputs": [],
   "source": []
  },
  {
   "cell_type": "code",
   "execution_count": null,
   "metadata": {},
   "outputs": [],
   "source": []
  },
  {
   "cell_type": "code",
   "execution_count": null,
   "metadata": {},
   "outputs": [],
   "source": []
  },
  {
   "cell_type": "code",
   "execution_count": null,
   "metadata": {},
   "outputs": [],
   "source": []
  },
  {
   "cell_type": "code",
   "execution_count": null,
   "metadata": {},
   "outputs": [],
   "source": []
  },
  {
   "cell_type": "code",
   "execution_count": null,
   "metadata": {},
   "outputs": [],
   "source": []
  },
  {
   "cell_type": "code",
   "execution_count": null,
   "metadata": {},
   "outputs": [],
   "source": []
  },
  {
   "cell_type": "code",
   "execution_count": null,
   "metadata": {},
   "outputs": [],
   "source": []
  },
  {
   "cell_type": "code",
   "execution_count": null,
   "metadata": {},
   "outputs": [],
   "source": []
  },
  {
   "cell_type": "code",
   "execution_count": null,
   "metadata": {},
   "outputs": [],
   "source": []
  },
  {
   "cell_type": "code",
   "execution_count": null,
   "metadata": {},
   "outputs": [],
   "source": []
  },
  {
   "cell_type": "code",
   "execution_count": null,
   "metadata": {},
   "outputs": [],
   "source": []
  },
  {
   "cell_type": "code",
   "execution_count": null,
   "metadata": {},
   "outputs": [],
   "source": []
  },
  {
   "cell_type": "code",
   "execution_count": null,
   "metadata": {},
   "outputs": [],
   "source": []
  },
  {
   "cell_type": "code",
   "execution_count": null,
   "metadata": {},
   "outputs": [],
   "source": []
  },
  {
   "cell_type": "code",
   "execution_count": null,
   "metadata": {},
   "outputs": [],
   "source": []
  },
  {
   "cell_type": "code",
   "execution_count": null,
   "metadata": {},
   "outputs": [],
   "source": []
  },
  {
   "cell_type": "code",
   "execution_count": null,
   "metadata": {},
   "outputs": [],
   "source": []
  },
  {
   "cell_type": "code",
   "execution_count": null,
   "metadata": {},
   "outputs": [],
   "source": []
  },
  {
   "cell_type": "code",
   "execution_count": null,
   "metadata": {},
   "outputs": [],
   "source": []
  },
  {
   "cell_type": "code",
   "execution_count": null,
   "metadata": {},
   "outputs": [],
   "source": []
  },
  {
   "cell_type": "code",
   "execution_count": null,
   "metadata": {},
   "outputs": [],
   "source": []
  },
  {
   "cell_type": "code",
   "execution_count": null,
   "metadata": {},
   "outputs": [],
   "source": []
  },
  {
   "cell_type": "code",
   "execution_count": null,
   "metadata": {},
   "outputs": [],
   "source": []
  },
  {
   "cell_type": "code",
   "execution_count": null,
   "metadata": {},
   "outputs": [],
   "source": []
  },
  {
   "cell_type": "code",
   "execution_count": null,
   "metadata": {},
   "outputs": [],
   "source": []
  },
  {
   "cell_type": "code",
   "execution_count": null,
   "metadata": {},
   "outputs": [],
   "source": []
  },
  {
   "cell_type": "code",
   "execution_count": null,
   "metadata": {},
   "outputs": [],
   "source": []
  },
  {
   "cell_type": "code",
   "execution_count": null,
   "metadata": {},
   "outputs": [],
   "source": []
  },
  {
   "cell_type": "code",
   "execution_count": null,
   "metadata": {},
   "outputs": [],
   "source": []
  },
  {
   "cell_type": "code",
   "execution_count": null,
   "metadata": {},
   "outputs": [],
   "source": []
  },
  {
   "cell_type": "code",
   "execution_count": 562,
   "metadata": {},
   "outputs": [],
   "source": []
  },
  {
   "cell_type": "code",
   "execution_count": 565,
   "metadata": {},
   "outputs": [],
   "source": []
  },
  {
   "cell_type": "code",
   "execution_count": 570,
   "metadata": {},
   "outputs": [],
   "source": []
  },
  {
   "cell_type": "code",
   "execution_count": 572,
   "metadata": {},
   "outputs": [],
   "source": []
  },
  {
   "cell_type": "code",
   "execution_count": null,
   "metadata": {},
   "outputs": [],
   "source": []
  },
  {
   "cell_type": "code",
   "execution_count": 576,
   "metadata": {},
   "outputs": [],
   "source": []
  },
  {
   "cell_type": "code",
   "execution_count": null,
   "metadata": {},
   "outputs": [],
   "source": []
  },
  {
   "cell_type": "code",
   "execution_count": null,
   "metadata": {},
   "outputs": [],
   "source": []
  },
  {
   "cell_type": "code",
   "execution_count": 487,
   "metadata": {},
   "outputs": [],
   "source": []
  },
  {
   "cell_type": "code",
   "execution_count": null,
   "metadata": {},
   "outputs": [],
   "source": []
  },
  {
   "cell_type": "code",
   "execution_count": null,
   "metadata": {},
   "outputs": [],
   "source": []
  },
  {
   "cell_type": "code",
   "execution_count": null,
   "metadata": {},
   "outputs": [],
   "source": []
  },
  {
   "cell_type": "code",
   "execution_count": null,
   "metadata": {},
   "outputs": [],
   "source": []
  },
  {
   "cell_type": "code",
   "execution_count": null,
   "metadata": {},
   "outputs": [],
   "source": []
  },
  {
   "cell_type": "code",
   "execution_count": null,
   "metadata": {},
   "outputs": [],
   "source": []
  },
  {
   "cell_type": "code",
   "execution_count": null,
   "metadata": {},
   "outputs": [],
   "source": []
  },
  {
   "cell_type": "code",
   "execution_count": null,
   "metadata": {},
   "outputs": [],
   "source": []
  },
  {
   "cell_type": "code",
   "execution_count": null,
   "metadata": {},
   "outputs": [],
   "source": []
  },
  {
   "cell_type": "code",
   "execution_count": null,
   "metadata": {},
   "outputs": [],
   "source": []
  },
  {
   "cell_type": "code",
   "execution_count": null,
   "metadata": {},
   "outputs": [],
   "source": []
  },
  {
   "cell_type": "code",
   "execution_count": null,
   "metadata": {},
   "outputs": [],
   "source": []
  },
  {
   "cell_type": "code",
   "execution_count": null,
   "metadata": {},
   "outputs": [],
   "source": []
  },
  {
   "cell_type": "code",
   "execution_count": null,
   "metadata": {},
   "outputs": [],
   "source": []
  },
  {
   "cell_type": "code",
   "execution_count": null,
   "metadata": {},
   "outputs": [],
   "source": []
  },
  {
   "cell_type": "code",
   "execution_count": null,
   "metadata": {},
   "outputs": [],
   "source": []
  },
  {
   "cell_type": "code",
   "execution_count": null,
   "metadata": {},
   "outputs": [],
   "source": []
  },
  {
   "cell_type": "code",
   "execution_count": null,
   "metadata": {},
   "outputs": [],
   "source": []
  },
  {
   "cell_type": "code",
   "execution_count": null,
   "metadata": {},
   "outputs": [],
   "source": [
    "    "
   ]
  },
  {
   "cell_type": "code",
   "execution_count": null,
   "metadata": {},
   "outputs": [],
   "source": []
  },
  {
   "cell_type": "code",
   "execution_count": null,
   "metadata": {},
   "outputs": [],
   "source": []
  },
  {
   "cell_type": "code",
   "execution_count": null,
   "metadata": {},
   "outputs": [],
   "source": []
  },
  {
   "cell_type": "code",
   "execution_count": null,
   "metadata": {},
   "outputs": [],
   "source": []
  },
  {
   "cell_type": "code",
   "execution_count": 457,
   "metadata": {},
   "outputs": [],
   "source": []
  },
  {
   "cell_type": "code",
   "execution_count": 472,
   "metadata": {},
   "outputs": [],
   "source": []
  },
  {
   "cell_type": "code",
   "execution_count": null,
   "metadata": {},
   "outputs": [],
   "source": []
  },
  {
   "cell_type": "code",
   "execution_count": null,
   "metadata": {},
   "outputs": [],
   "source": []
  },
  {
   "cell_type": "code",
   "execution_count": null,
   "metadata": {},
   "outputs": [],
   "source": []
  },
  {
   "cell_type": "code",
   "execution_count": null,
   "metadata": {},
   "outputs": [],
   "source": []
  },
  {
   "cell_type": "code",
   "execution_count": null,
   "metadata": {},
   "outputs": [],
   "source": []
  },
  {
   "cell_type": "code",
   "execution_count": null,
   "metadata": {},
   "outputs": [],
   "source": []
  },
  {
   "cell_type": "code",
   "execution_count": null,
   "metadata": {},
   "outputs": [],
   "source": []
  },
  {
   "cell_type": "code",
   "execution_count": null,
   "metadata": {},
   "outputs": [],
   "source": []
  },
  {
   "cell_type": "code",
   "execution_count": null,
   "metadata": {},
   "outputs": [],
   "source": []
  },
  {
   "cell_type": "code",
   "execution_count": null,
   "metadata": {},
   "outputs": [],
   "source": []
  },
  {
   "cell_type": "code",
   "execution_count": null,
   "metadata": {},
   "outputs": [],
   "source": []
  },
  {
   "cell_type": "code",
   "execution_count": null,
   "metadata": {},
   "outputs": [],
   "source": []
  },
  {
   "cell_type": "code",
   "execution_count": null,
   "metadata": {},
   "outputs": [],
   "source": []
  },
  {
   "cell_type": "code",
   "execution_count": null,
   "metadata": {},
   "outputs": [],
   "source": []
  },
  {
   "cell_type": "code",
   "execution_count": null,
   "metadata": {},
   "outputs": [],
   "source": []
  },
  {
   "cell_type": "code",
   "execution_count": null,
   "metadata": {},
   "outputs": [],
   "source": []
  },
  {
   "cell_type": "code",
   "execution_count": null,
   "metadata": {},
   "outputs": [],
   "source": []
  },
  {
   "cell_type": "code",
   "execution_count": null,
   "metadata": {},
   "outputs": [],
   "source": []
  },
  {
   "cell_type": "code",
   "execution_count": null,
   "metadata": {},
   "outputs": [],
   "source": []
  },
  {
   "cell_type": "code",
   "execution_count": null,
   "metadata": {},
   "outputs": [],
   "source": []
  },
  {
   "cell_type": "code",
   "execution_count": null,
   "metadata": {},
   "outputs": [],
   "source": []
  },
  {
   "cell_type": "code",
   "execution_count": null,
   "metadata": {},
   "outputs": [],
   "source": []
  },
  {
   "cell_type": "code",
   "execution_count": null,
   "metadata": {},
   "outputs": [],
   "source": []
  },
  {
   "cell_type": "code",
   "execution_count": null,
   "metadata": {},
   "outputs": [],
   "source": []
  },
  {
   "cell_type": "code",
   "execution_count": null,
   "metadata": {},
   "outputs": [],
   "source": []
  },
  {
   "cell_type": "code",
   "execution_count": null,
   "metadata": {},
   "outputs": [],
   "source": []
  },
  {
   "cell_type": "code",
   "execution_count": null,
   "metadata": {},
   "outputs": [],
   "source": []
  },
  {
   "cell_type": "code",
   "execution_count": null,
   "metadata": {},
   "outputs": [],
   "source": []
  },
  {
   "cell_type": "code",
   "execution_count": null,
   "metadata": {},
   "outputs": [],
   "source": []
  },
  {
   "cell_type": "code",
   "execution_count": null,
   "metadata": {},
   "outputs": [],
   "source": []
  },
  {
   "cell_type": "code",
   "execution_count": null,
   "metadata": {},
   "outputs": [],
   "source": []
  },
  {
   "cell_type": "code",
   "execution_count": null,
   "metadata": {},
   "outputs": [],
   "source": []
  },
  {
   "cell_type": "code",
   "execution_count": null,
   "metadata": {},
   "outputs": [],
   "source": []
  },
  {
   "cell_type": "code",
   "execution_count": 441,
   "metadata": {},
   "outputs": [],
   "source": []
  },
  {
   "cell_type": "code",
   "execution_count": null,
   "metadata": {},
   "outputs": [],
   "source": []
  },
  {
   "cell_type": "code",
   "execution_count": null,
   "metadata": {},
   "outputs": [],
   "source": []
  },
  {
   "cell_type": "code",
   "execution_count": null,
   "metadata": {},
   "outputs": [],
   "source": []
  },
  {
   "cell_type": "code",
   "execution_count": null,
   "metadata": {},
   "outputs": [],
   "source": []
  },
  {
   "cell_type": "code",
   "execution_count": 431,
   "metadata": {},
   "outputs": [],
   "source": []
  },
  {
   "cell_type": "code",
   "execution_count": null,
   "metadata": {},
   "outputs": [],
   "source": []
  },
  {
   "cell_type": "code",
   "execution_count": null,
   "metadata": {},
   "outputs": [],
   "source": []
  },
  {
   "cell_type": "code",
   "execution_count": null,
   "metadata": {},
   "outputs": [],
   "source": []
  },
  {
   "cell_type": "code",
   "execution_count": null,
   "metadata": {},
   "outputs": [],
   "source": []
  },
  {
   "cell_type": "code",
   "execution_count": null,
   "metadata": {},
   "outputs": [],
   "source": []
  },
  {
   "cell_type": "code",
   "execution_count": null,
   "metadata": {},
   "outputs": [],
   "source": []
  },
  {
   "cell_type": "code",
   "execution_count": null,
   "metadata": {},
   "outputs": [],
   "source": []
  },
  {
   "cell_type": "code",
   "execution_count": null,
   "metadata": {},
   "outputs": [],
   "source": []
  },
  {
   "cell_type": "code",
   "execution_count": null,
   "metadata": {},
   "outputs": [],
   "source": []
  },
  {
   "cell_type": "code",
   "execution_count": null,
   "metadata": {},
   "outputs": [],
   "source": []
  },
  {
   "cell_type": "code",
   "execution_count": null,
   "metadata": {},
   "outputs": [],
   "source": []
  },
  {
   "cell_type": "code",
   "execution_count": null,
   "metadata": {},
   "outputs": [],
   "source": []
  },
  {
   "cell_type": "code",
   "execution_count": null,
   "metadata": {},
   "outputs": [],
   "source": []
  },
  {
   "cell_type": "code",
   "execution_count": null,
   "metadata": {},
   "outputs": [],
   "source": []
  },
  {
   "cell_type": "code",
   "execution_count": null,
   "metadata": {},
   "outputs": [],
   "source": []
  },
  {
   "cell_type": "code",
   "execution_count": null,
   "metadata": {},
   "outputs": [],
   "source": []
  },
  {
   "cell_type": "code",
   "execution_count": null,
   "metadata": {},
   "outputs": [],
   "source": []
  },
  {
   "cell_type": "code",
   "execution_count": null,
   "metadata": {},
   "outputs": [],
   "source": []
  },
  {
   "cell_type": "code",
   "execution_count": null,
   "metadata": {},
   "outputs": [],
   "source": []
  },
  {
   "cell_type": "code",
   "execution_count": null,
   "metadata": {},
   "outputs": [],
   "source": []
  },
  {
   "cell_type": "code",
   "execution_count": null,
   "metadata": {},
   "outputs": [],
   "source": []
  },
  {
   "cell_type": "code",
   "execution_count": null,
   "metadata": {},
   "outputs": [],
   "source": []
  },
  {
   "cell_type": "code",
   "execution_count": null,
   "metadata": {},
   "outputs": [],
   "source": []
  },
  {
   "cell_type": "code",
   "execution_count": null,
   "metadata": {},
   "outputs": [],
   "source": []
  },
  {
   "cell_type": "code",
   "execution_count": null,
   "metadata": {},
   "outputs": [],
   "source": []
  },
  {
   "cell_type": "code",
   "execution_count": null,
   "metadata": {},
   "outputs": [],
   "source": []
  },
  {
   "cell_type": "code",
   "execution_count": null,
   "metadata": {},
   "outputs": [],
   "source": []
  },
  {
   "cell_type": "code",
   "execution_count": null,
   "metadata": {},
   "outputs": [],
   "source": []
  },
  {
   "cell_type": "code",
   "execution_count": null,
   "metadata": {},
   "outputs": [],
   "source": []
  },
  {
   "cell_type": "code",
   "execution_count": null,
   "metadata": {},
   "outputs": [],
   "source": []
  },
  {
   "cell_type": "code",
   "execution_count": null,
   "metadata": {},
   "outputs": [],
   "source": []
  },
  {
   "cell_type": "code",
   "execution_count": null,
   "metadata": {},
   "outputs": [],
   "source": []
  },
  {
   "cell_type": "code",
   "execution_count": null,
   "metadata": {},
   "outputs": [],
   "source": []
  },
  {
   "cell_type": "code",
   "execution_count": null,
   "metadata": {},
   "outputs": [],
   "source": []
  },
  {
   "cell_type": "code",
   "execution_count": null,
   "metadata": {},
   "outputs": [],
   "source": []
  },
  {
   "cell_type": "code",
   "execution_count": null,
   "metadata": {},
   "outputs": [],
   "source": []
  },
  {
   "cell_type": "code",
   "execution_count": null,
   "metadata": {},
   "outputs": [],
   "source": []
  },
  {
   "cell_type": "code",
   "execution_count": null,
   "metadata": {},
   "outputs": [],
   "source": []
  },
  {
   "cell_type": "code",
   "execution_count": null,
   "metadata": {},
   "outputs": [],
   "source": []
  },
  {
   "cell_type": "code",
   "execution_count": null,
   "metadata": {},
   "outputs": [],
   "source": []
  },
  {
   "cell_type": "code",
   "execution_count": null,
   "metadata": {},
   "outputs": [],
   "source": []
  },
  {
   "cell_type": "code",
   "execution_count": null,
   "metadata": {},
   "outputs": [],
   "source": []
  },
  {
   "cell_type": "code",
   "execution_count": null,
   "metadata": {},
   "outputs": [],
   "source": []
  },
  {
   "cell_type": "code",
   "execution_count": null,
   "metadata": {},
   "outputs": [],
   "source": []
  },
  {
   "cell_type": "code",
   "execution_count": null,
   "metadata": {},
   "outputs": [],
   "source": []
  },
  {
   "cell_type": "code",
   "execution_count": null,
   "metadata": {},
   "outputs": [],
   "source": []
  },
  {
   "cell_type": "code",
   "execution_count": null,
   "metadata": {},
   "outputs": [],
   "source": []
  },
  {
   "cell_type": "code",
   "execution_count": null,
   "metadata": {},
   "outputs": [],
   "source": []
  },
  {
   "cell_type": "code",
   "execution_count": null,
   "metadata": {},
   "outputs": [],
   "source": []
  },
  {
   "cell_type": "code",
   "execution_count": null,
   "metadata": {},
   "outputs": [],
   "source": []
  },
  {
   "cell_type": "code",
   "execution_count": null,
   "metadata": {},
   "outputs": [],
   "source": []
  },
  {
   "cell_type": "code",
   "execution_count": null,
   "metadata": {},
   "outputs": [],
   "source": []
  },
  {
   "cell_type": "code",
   "execution_count": null,
   "metadata": {},
   "outputs": [],
   "source": []
  },
  {
   "cell_type": "code",
   "execution_count": null,
   "metadata": {},
   "outputs": [],
   "source": []
  },
  {
   "cell_type": "code",
   "execution_count": null,
   "metadata": {},
   "outputs": [],
   "source": []
  },
  {
   "cell_type": "code",
   "execution_count": null,
   "metadata": {},
   "outputs": [],
   "source": []
  },
  {
   "cell_type": "code",
   "execution_count": null,
   "metadata": {},
   "outputs": [],
   "source": []
  },
  {
   "cell_type": "code",
   "execution_count": null,
   "metadata": {},
   "outputs": [],
   "source": []
  },
  {
   "cell_type": "code",
   "execution_count": null,
   "metadata": {},
   "outputs": [],
   "source": []
  },
  {
   "cell_type": "code",
   "execution_count": null,
   "metadata": {},
   "outputs": [],
   "source": []
  },
  {
   "cell_type": "code",
   "execution_count": null,
   "metadata": {},
   "outputs": [],
   "source": []
  },
  {
   "cell_type": "code",
   "execution_count": null,
   "metadata": {},
   "outputs": [],
   "source": []
  },
  {
   "cell_type": "code",
   "execution_count": null,
   "metadata": {},
   "outputs": [],
   "source": []
  },
  {
   "cell_type": "code",
   "execution_count": null,
   "metadata": {},
   "outputs": [],
   "source": []
  },
  {
   "cell_type": "code",
   "execution_count": null,
   "metadata": {},
   "outputs": [],
   "source": []
  },
  {
   "cell_type": "code",
   "execution_count": null,
   "metadata": {},
   "outputs": [],
   "source": []
  },
  {
   "cell_type": "code",
   "execution_count": null,
   "metadata": {},
   "outputs": [],
   "source": []
  },
  {
   "cell_type": "code",
   "execution_count": null,
   "metadata": {},
   "outputs": [],
   "source": []
  },
  {
   "cell_type": "code",
   "execution_count": null,
   "metadata": {},
   "outputs": [],
   "source": []
  },
  {
   "cell_type": "code",
   "execution_count": null,
   "metadata": {},
   "outputs": [],
   "source": []
  },
  {
   "cell_type": "code",
   "execution_count": null,
   "metadata": {},
   "outputs": [],
   "source": []
  },
  {
   "cell_type": "code",
   "execution_count": null,
   "metadata": {},
   "outputs": [],
   "source": []
  },
  {
   "cell_type": "code",
   "execution_count": null,
   "metadata": {},
   "outputs": [],
   "source": []
  },
  {
   "cell_type": "code",
   "execution_count": null,
   "metadata": {},
   "outputs": [],
   "source": []
  },
  {
   "cell_type": "code",
   "execution_count": null,
   "metadata": {},
   "outputs": [],
   "source": []
  },
  {
   "cell_type": "code",
   "execution_count": null,
   "metadata": {},
   "outputs": [],
   "source": []
  },
  {
   "cell_type": "code",
   "execution_count": null,
   "metadata": {},
   "outputs": [],
   "source": []
  },
  {
   "cell_type": "code",
   "execution_count": null,
   "metadata": {},
   "outputs": [],
   "source": []
  },
  {
   "cell_type": "code",
   "execution_count": null,
   "metadata": {},
   "outputs": [],
   "source": []
  },
  {
   "cell_type": "code",
   "execution_count": null,
   "metadata": {},
   "outputs": [],
   "source": []
  },
  {
   "cell_type": "code",
   "execution_count": null,
   "metadata": {},
   "outputs": [],
   "source": []
  },
  {
   "cell_type": "code",
   "execution_count": null,
   "metadata": {},
   "outputs": [],
   "source": []
  },
  {
   "cell_type": "code",
   "execution_count": null,
   "metadata": {},
   "outputs": [],
   "source": []
  },
  {
   "cell_type": "code",
   "execution_count": null,
   "metadata": {},
   "outputs": [],
   "source": []
  },
  {
   "cell_type": "code",
   "execution_count": null,
   "metadata": {},
   "outputs": [],
   "source": []
  },
  {
   "cell_type": "code",
   "execution_count": null,
   "metadata": {},
   "outputs": [],
   "source": []
  },
  {
   "cell_type": "code",
   "execution_count": null,
   "metadata": {},
   "outputs": [],
   "source": []
  },
  {
   "cell_type": "code",
   "execution_count": null,
   "metadata": {},
   "outputs": [],
   "source": []
  },
  {
   "cell_type": "code",
   "execution_count": null,
   "metadata": {},
   "outputs": [],
   "source": []
  },
  {
   "cell_type": "code",
   "execution_count": null,
   "metadata": {},
   "outputs": [],
   "source": []
  },
  {
   "cell_type": "code",
   "execution_count": null,
   "metadata": {},
   "outputs": [],
   "source": []
  },
  {
   "cell_type": "code",
   "execution_count": null,
   "metadata": {},
   "outputs": [],
   "source": []
  },
  {
   "cell_type": "code",
   "execution_count": 276,
   "metadata": {},
   "outputs": [],
   "source": []
  },
  {
   "cell_type": "code",
   "execution_count": null,
   "metadata": {},
   "outputs": [],
   "source": []
  },
  {
   "cell_type": "code",
   "execution_count": null,
   "metadata": {},
   "outputs": [],
   "source": []
  },
  {
   "cell_type": "code",
   "execution_count": null,
   "metadata": {},
   "outputs": [],
   "source": []
  },
  {
   "cell_type": "code",
   "execution_count": null,
   "metadata": {},
   "outputs": [],
   "source": []
  },
  {
   "cell_type": "code",
   "execution_count": null,
   "metadata": {},
   "outputs": [],
   "source": []
  },
  {
   "cell_type": "code",
   "execution_count": null,
   "metadata": {},
   "outputs": [],
   "source": []
  },
  {
   "cell_type": "code",
   "execution_count": null,
   "metadata": {},
   "outputs": [],
   "source": []
  },
  {
   "cell_type": "code",
   "execution_count": null,
   "metadata": {},
   "outputs": [],
   "source": []
  },
  {
   "cell_type": "code",
   "execution_count": null,
   "metadata": {},
   "outputs": [],
   "source": []
  },
  {
   "cell_type": "code",
   "execution_count": null,
   "metadata": {},
   "outputs": [],
   "source": []
  },
  {
   "cell_type": "code",
   "execution_count": null,
   "metadata": {},
   "outputs": [],
   "source": []
  },
  {
   "cell_type": "code",
   "execution_count": null,
   "metadata": {},
   "outputs": [],
   "source": []
  },
  {
   "cell_type": "code",
   "execution_count": null,
   "metadata": {},
   "outputs": [],
   "source": []
  },
  {
   "cell_type": "code",
   "execution_count": null,
   "metadata": {},
   "outputs": [],
   "source": []
  },
  {
   "cell_type": "code",
   "execution_count": null,
   "metadata": {},
   "outputs": [],
   "source": []
  },
  {
   "cell_type": "code",
   "execution_count": null,
   "metadata": {},
   "outputs": [],
   "source": []
  },
  {
   "cell_type": "code",
   "execution_count": null,
   "metadata": {},
   "outputs": [],
   "source": []
  },
  {
   "cell_type": "code",
   "execution_count": null,
   "metadata": {},
   "outputs": [],
   "source": []
  },
  {
   "cell_type": "code",
   "execution_count": null,
   "metadata": {},
   "outputs": [],
   "source": []
  },
  {
   "cell_type": "code",
   "execution_count": null,
   "metadata": {},
   "outputs": [],
   "source": []
  },
  {
   "cell_type": "code",
   "execution_count": null,
   "metadata": {},
   "outputs": [],
   "source": []
  },
  {
   "cell_type": "code",
   "execution_count": null,
   "metadata": {},
   "outputs": [],
   "source": []
  },
  {
   "cell_type": "code",
   "execution_count": null,
   "metadata": {},
   "outputs": [],
   "source": []
  },
  {
   "cell_type": "code",
   "execution_count": null,
   "metadata": {},
   "outputs": [],
   "source": []
  },
  {
   "cell_type": "code",
   "execution_count": null,
   "metadata": {},
   "outputs": [],
   "source": []
  },
  {
   "cell_type": "code",
   "execution_count": null,
   "metadata": {},
   "outputs": [],
   "source": []
  },
  {
   "cell_type": "code",
   "execution_count": null,
   "metadata": {},
   "outputs": [],
   "source": []
  },
  {
   "cell_type": "code",
   "execution_count": null,
   "metadata": {},
   "outputs": [],
   "source": []
  },
  {
   "cell_type": "code",
   "execution_count": null,
   "metadata": {},
   "outputs": [],
   "source": []
  },
  {
   "cell_type": "code",
   "execution_count": null,
   "metadata": {},
   "outputs": [],
   "source": []
  },
  {
   "cell_type": "code",
   "execution_count": null,
   "metadata": {},
   "outputs": [],
   "source": []
  },
  {
   "cell_type": "code",
   "execution_count": null,
   "metadata": {},
   "outputs": [],
   "source": []
  },
  {
   "cell_type": "code",
   "execution_count": null,
   "metadata": {},
   "outputs": [],
   "source": []
  },
  {
   "cell_type": "code",
   "execution_count": null,
   "metadata": {},
   "outputs": [],
   "source": []
  },
  {
   "cell_type": "code",
   "execution_count": null,
   "metadata": {},
   "outputs": [],
   "source": []
  },
  {
   "cell_type": "code",
   "execution_count": null,
   "metadata": {},
   "outputs": [],
   "source": []
  },
  {
   "cell_type": "code",
   "execution_count": null,
   "metadata": {},
   "outputs": [],
   "source": []
  },
  {
   "cell_type": "code",
   "execution_count": null,
   "metadata": {},
   "outputs": [],
   "source": []
  },
  {
   "cell_type": "code",
   "execution_count": null,
   "metadata": {},
   "outputs": [],
   "source": []
  },
  {
   "cell_type": "code",
   "execution_count": null,
   "metadata": {},
   "outputs": [],
   "source": []
  },
  {
   "cell_type": "code",
   "execution_count": null,
   "metadata": {},
   "outputs": [],
   "source": []
  },
  {
   "cell_type": "code",
   "execution_count": null,
   "metadata": {},
   "outputs": [],
   "source": []
  },
  {
   "cell_type": "code",
   "execution_count": null,
   "metadata": {},
   "outputs": [],
   "source": []
  },
  {
   "cell_type": "code",
   "execution_count": null,
   "metadata": {},
   "outputs": [],
   "source": []
  },
  {
   "cell_type": "code",
   "execution_count": null,
   "metadata": {},
   "outputs": [],
   "source": []
  },
  {
   "cell_type": "code",
   "execution_count": null,
   "metadata": {},
   "outputs": [],
   "source": []
  },
  {
   "cell_type": "code",
   "execution_count": 234,
   "metadata": {},
   "outputs": [],
   "source": []
  },
  {
   "cell_type": "code",
   "execution_count": null,
   "metadata": {},
   "outputs": [],
   "source": []
  },
  {
   "cell_type": "code",
   "execution_count": null,
   "metadata": {},
   "outputs": [],
   "source": []
  },
  {
   "cell_type": "code",
   "execution_count": null,
   "metadata": {},
   "outputs": [],
   "source": []
  },
  {
   "cell_type": "code",
   "execution_count": null,
   "metadata": {},
   "outputs": [],
   "source": []
  },
  {
   "cell_type": "code",
   "execution_count": null,
   "metadata": {},
   "outputs": [],
   "source": []
  },
  {
   "cell_type": "code",
   "execution_count": null,
   "metadata": {},
   "outputs": [],
   "source": []
  },
  {
   "cell_type": "code",
   "execution_count": null,
   "metadata": {},
   "outputs": [],
   "source": []
  },
  {
   "cell_type": "code",
   "execution_count": null,
   "metadata": {},
   "outputs": [],
   "source": []
  },
  {
   "cell_type": "code",
   "execution_count": null,
   "metadata": {},
   "outputs": [],
   "source": []
  },
  {
   "cell_type": "code",
   "execution_count": null,
   "metadata": {},
   "outputs": [],
   "source": []
  },
  {
   "cell_type": "code",
   "execution_count": null,
   "metadata": {},
   "outputs": [],
   "source": []
  },
  {
   "cell_type": "code",
   "execution_count": null,
   "metadata": {},
   "outputs": [],
   "source": []
  },
  {
   "cell_type": "code",
   "execution_count": null,
   "metadata": {},
   "outputs": [],
   "source": []
  },
  {
   "cell_type": "code",
   "execution_count": null,
   "metadata": {},
   "outputs": [],
   "source": []
  },
  {
   "cell_type": "code",
   "execution_count": null,
   "metadata": {},
   "outputs": [],
   "source": []
  },
  {
   "cell_type": "code",
   "execution_count": null,
   "metadata": {},
   "outputs": [],
   "source": []
  },
  {
   "cell_type": "code",
   "execution_count": null,
   "metadata": {},
   "outputs": [],
   "source": []
  },
  {
   "cell_type": "code",
   "execution_count": null,
   "metadata": {},
   "outputs": [],
   "source": []
  },
  {
   "cell_type": "code",
   "execution_count": null,
   "metadata": {},
   "outputs": [],
   "source": []
  },
  {
   "cell_type": "code",
   "execution_count": null,
   "metadata": {},
   "outputs": [],
   "source": []
  },
  {
   "cell_type": "code",
   "execution_count": null,
   "metadata": {},
   "outputs": [],
   "source": []
  },
  {
   "cell_type": "code",
   "execution_count": null,
   "metadata": {},
   "outputs": [],
   "source": []
  },
  {
   "cell_type": "code",
   "execution_count": null,
   "metadata": {},
   "outputs": [],
   "source": []
  },
  {
   "cell_type": "code",
   "execution_count": null,
   "metadata": {},
   "outputs": [],
   "source": []
  },
  {
   "cell_type": "code",
   "execution_count": null,
   "metadata": {},
   "outputs": [],
   "source": []
  },
  {
   "cell_type": "code",
   "execution_count": null,
   "metadata": {},
   "outputs": [],
   "source": []
  },
  {
   "cell_type": "code",
   "execution_count": null,
   "metadata": {},
   "outputs": [],
   "source": []
  },
  {
   "cell_type": "code",
   "execution_count": null,
   "metadata": {},
   "outputs": [],
   "source": []
  },
  {
   "cell_type": "code",
   "execution_count": null,
   "metadata": {},
   "outputs": [],
   "source": []
  },
  {
   "cell_type": "code",
   "execution_count": null,
   "metadata": {},
   "outputs": [],
   "source": []
  },
  {
   "cell_type": "code",
   "execution_count": null,
   "metadata": {},
   "outputs": [],
   "source": []
  },
  {
   "cell_type": "code",
   "execution_count": null,
   "metadata": {},
   "outputs": [],
   "source": []
  },
  {
   "cell_type": "code",
   "execution_count": 179,
   "metadata": {},
   "outputs": [],
   "source": []
  },
  {
   "cell_type": "code",
   "execution_count": null,
   "metadata": {},
   "outputs": [],
   "source": []
  },
  {
   "cell_type": "code",
   "execution_count": null,
   "metadata": {},
   "outputs": [],
   "source": []
  },
  {
   "cell_type": "code",
   "execution_count": null,
   "metadata": {},
   "outputs": [],
   "source": []
  },
  {
   "cell_type": "code",
   "execution_count": null,
   "metadata": {},
   "outputs": [],
   "source": []
  },
  {
   "cell_type": "code",
   "execution_count": null,
   "metadata": {},
   "outputs": [],
   "source": []
  },
  {
   "cell_type": "code",
   "execution_count": null,
   "metadata": {},
   "outputs": [],
   "source": []
  },
  {
   "cell_type": "code",
   "execution_count": null,
   "metadata": {},
   "outputs": [],
   "source": []
  },
  {
   "cell_type": "code",
   "execution_count": null,
   "metadata": {},
   "outputs": [],
   "source": []
  },
  {
   "cell_type": "code",
   "execution_count": null,
   "metadata": {},
   "outputs": [],
   "source": []
  },
  {
   "cell_type": "code",
   "execution_count": null,
   "metadata": {},
   "outputs": [],
   "source": []
  },
  {
   "cell_type": "code",
   "execution_count": null,
   "metadata": {},
   "outputs": [],
   "source": []
  },
  {
   "cell_type": "code",
   "execution_count": null,
   "metadata": {},
   "outputs": [],
   "source": []
  },
  {
   "cell_type": "code",
   "execution_count": null,
   "metadata": {},
   "outputs": [],
   "source": []
  },
  {
   "cell_type": "code",
   "execution_count": null,
   "metadata": {},
   "outputs": [],
   "source": []
  },
  {
   "cell_type": "code",
   "execution_count": null,
   "metadata": {},
   "outputs": [],
   "source": []
  },
  {
   "cell_type": "code",
   "execution_count": null,
   "metadata": {},
   "outputs": [],
   "source": []
  },
  {
   "cell_type": "code",
   "execution_count": null,
   "metadata": {},
   "outputs": [],
   "source": []
  },
  {
   "cell_type": "code",
   "execution_count": null,
   "metadata": {},
   "outputs": [],
   "source": []
  },
  {
   "cell_type": "code",
   "execution_count": null,
   "metadata": {},
   "outputs": [],
   "source": [
    "\n",
    "    \n",
    "    "
   ]
  },
  {
   "cell_type": "code",
   "execution_count": null,
   "metadata": {},
   "outputs": [],
   "source": []
  },
  {
   "cell_type": "code",
   "execution_count": null,
   "metadata": {},
   "outputs": [],
   "source": []
  },
  {
   "cell_type": "code",
   "execution_count": null,
   "metadata": {},
   "outputs": [],
   "source": []
  },
  {
   "cell_type": "code",
   "execution_count": null,
   "metadata": {},
   "outputs": [],
   "source": []
  },
  {
   "cell_type": "code",
   "execution_count": null,
   "metadata": {},
   "outputs": [],
   "source": []
  },
  {
   "cell_type": "code",
   "execution_count": null,
   "metadata": {},
   "outputs": [],
   "source": []
  },
  {
   "cell_type": "code",
   "execution_count": null,
   "metadata": {},
   "outputs": [],
   "source": []
  },
  {
   "cell_type": "code",
   "execution_count": null,
   "metadata": {},
   "outputs": [],
   "source": []
  },
  {
   "cell_type": "code",
   "execution_count": null,
   "metadata": {},
   "outputs": [],
   "source": []
  },
  {
   "cell_type": "code",
   "execution_count": null,
   "metadata": {},
   "outputs": [],
   "source": []
  },
  {
   "cell_type": "code",
   "execution_count": null,
   "metadata": {},
   "outputs": [],
   "source": []
  },
  {
   "cell_type": "code",
   "execution_count": null,
   "metadata": {},
   "outputs": [],
   "source": []
  },
  {
   "cell_type": "code",
   "execution_count": null,
   "metadata": {},
   "outputs": [],
   "source": []
  },
  {
   "cell_type": "code",
   "execution_count": null,
   "metadata": {},
   "outputs": [],
   "source": []
  },
  {
   "cell_type": "code",
   "execution_count": null,
   "metadata": {},
   "outputs": [],
   "source": []
  },
  {
   "cell_type": "code",
   "execution_count": null,
   "metadata": {},
   "outputs": [],
   "source": []
  },
  {
   "cell_type": "code",
   "execution_count": null,
   "metadata": {},
   "outputs": [],
   "source": []
  },
  {
   "cell_type": "code",
   "execution_count": null,
   "metadata": {},
   "outputs": [],
   "source": []
  },
  {
   "cell_type": "code",
   "execution_count": null,
   "metadata": {},
   "outputs": [],
   "source": []
  },
  {
   "cell_type": "code",
   "execution_count": null,
   "metadata": {},
   "outputs": [],
   "source": []
  },
  {
   "cell_type": "code",
   "execution_count": null,
   "metadata": {},
   "outputs": [],
   "source": []
  },
  {
   "cell_type": "code",
   "execution_count": null,
   "metadata": {},
   "outputs": [],
   "source": []
  },
  {
   "cell_type": "code",
   "execution_count": null,
   "metadata": {},
   "outputs": [],
   "source": []
  },
  {
   "cell_type": "code",
   "execution_count": null,
   "metadata": {},
   "outputs": [],
   "source": []
  },
  {
   "cell_type": "code",
   "execution_count": null,
   "metadata": {},
   "outputs": [],
   "source": []
  },
  {
   "cell_type": "code",
   "execution_count": null,
   "metadata": {},
   "outputs": [],
   "source": []
  },
  {
   "cell_type": "code",
   "execution_count": null,
   "metadata": {},
   "outputs": [],
   "source": []
  },
  {
   "cell_type": "code",
   "execution_count": null,
   "metadata": {},
   "outputs": [],
   "source": []
  },
  {
   "cell_type": "code",
   "execution_count": null,
   "metadata": {},
   "outputs": [],
   "source": []
  },
  {
   "cell_type": "code",
   "execution_count": null,
   "metadata": {},
   "outputs": [],
   "source": []
  },
  {
   "cell_type": "code",
   "execution_count": null,
   "metadata": {},
   "outputs": [],
   "source": []
  },
  {
   "cell_type": "code",
   "execution_count": null,
   "metadata": {},
   "outputs": [],
   "source": []
  },
  {
   "cell_type": "code",
   "execution_count": null,
   "metadata": {},
   "outputs": [],
   "source": []
  },
  {
   "cell_type": "code",
   "execution_count": null,
   "metadata": {},
   "outputs": [],
   "source": []
  },
  {
   "cell_type": "code",
   "execution_count": null,
   "metadata": {},
   "outputs": [],
   "source": []
  },
  {
   "cell_type": "code",
   "execution_count": null,
   "metadata": {},
   "outputs": [],
   "source": []
  },
  {
   "cell_type": "code",
   "execution_count": null,
   "metadata": {},
   "outputs": [],
   "source": []
  },
  {
   "cell_type": "code",
   "execution_count": null,
   "metadata": {},
   "outputs": [],
   "source": []
  },
  {
   "cell_type": "code",
   "execution_count": null,
   "metadata": {},
   "outputs": [],
   "source": []
  },
  {
   "cell_type": "code",
   "execution_count": null,
   "metadata": {},
   "outputs": [],
   "source": []
  },
  {
   "cell_type": "code",
   "execution_count": null,
   "metadata": {},
   "outputs": [],
   "source": []
  },
  {
   "cell_type": "code",
   "execution_count": null,
   "metadata": {},
   "outputs": [],
   "source": []
  },
  {
   "cell_type": "code",
   "execution_count": null,
   "metadata": {},
   "outputs": [],
   "source": []
  },
  {
   "cell_type": "code",
   "execution_count": null,
   "metadata": {},
   "outputs": [],
   "source": []
  },
  {
   "cell_type": "code",
   "execution_count": null,
   "metadata": {},
   "outputs": [],
   "source": []
  },
  {
   "cell_type": "code",
   "execution_count": null,
   "metadata": {},
   "outputs": [],
   "source": []
  },
  {
   "cell_type": "code",
   "execution_count": null,
   "metadata": {},
   "outputs": [],
   "source": []
  },
  {
   "cell_type": "code",
   "execution_count": null,
   "metadata": {},
   "outputs": [],
   "source": []
  },
  {
   "cell_type": "code",
   "execution_count": null,
   "metadata": {},
   "outputs": [],
   "source": []
  },
  {
   "cell_type": "code",
   "execution_count": null,
   "metadata": {},
   "outputs": [],
   "source": []
  },
  {
   "cell_type": "code",
   "execution_count": null,
   "metadata": {},
   "outputs": [],
   "source": []
  },
  {
   "cell_type": "code",
   "execution_count": null,
   "metadata": {},
   "outputs": [],
   "source": []
  },
  {
   "cell_type": "code",
   "execution_count": null,
   "metadata": {},
   "outputs": [],
   "source": []
  },
  {
   "cell_type": "code",
   "execution_count": null,
   "metadata": {},
   "outputs": [],
   "source": []
  },
  {
   "cell_type": "code",
   "execution_count": null,
   "metadata": {},
   "outputs": [],
   "source": []
  },
  {
   "cell_type": "code",
   "execution_count": null,
   "metadata": {},
   "outputs": [],
   "source": []
  },
  {
   "cell_type": "code",
   "execution_count": null,
   "metadata": {},
   "outputs": [],
   "source": []
  },
  {
   "cell_type": "code",
   "execution_count": null,
   "metadata": {},
   "outputs": [],
   "source": []
  },
  {
   "cell_type": "code",
   "execution_count": null,
   "metadata": {},
   "outputs": [],
   "source": []
  },
  {
   "cell_type": "code",
   "execution_count": null,
   "metadata": {},
   "outputs": [],
   "source": []
  },
  {
   "cell_type": "code",
   "execution_count": null,
   "metadata": {},
   "outputs": [],
   "source": []
  },
  {
   "cell_type": "code",
   "execution_count": null,
   "metadata": {},
   "outputs": [],
   "source": []
  },
  {
   "cell_type": "code",
   "execution_count": null,
   "metadata": {},
   "outputs": [],
   "source": []
  },
  {
   "cell_type": "code",
   "execution_count": null,
   "metadata": {},
   "outputs": [],
   "source": []
  },
  {
   "cell_type": "code",
   "execution_count": null,
   "metadata": {},
   "outputs": [],
   "source": []
  },
  {
   "cell_type": "code",
   "execution_count": null,
   "metadata": {},
   "outputs": [],
   "source": []
  },
  {
   "cell_type": "code",
   "execution_count": null,
   "metadata": {},
   "outputs": [],
   "source": []
  },
  {
   "cell_type": "code",
   "execution_count": null,
   "metadata": {},
   "outputs": [],
   "source": []
  },
  {
   "cell_type": "code",
   "execution_count": null,
   "metadata": {},
   "outputs": [],
   "source": []
  },
  {
   "cell_type": "code",
   "execution_count": null,
   "metadata": {},
   "outputs": [],
   "source": []
  },
  {
   "cell_type": "code",
   "execution_count": null,
   "metadata": {},
   "outputs": [],
   "source": []
  },
  {
   "cell_type": "code",
   "execution_count": null,
   "metadata": {},
   "outputs": [],
   "source": []
  },
  {
   "cell_type": "code",
   "execution_count": null,
   "metadata": {},
   "outputs": [],
   "source": []
  },
  {
   "cell_type": "code",
   "execution_count": null,
   "metadata": {},
   "outputs": [],
   "source": []
  },
  {
   "cell_type": "code",
   "execution_count": null,
   "metadata": {},
   "outputs": [],
   "source": []
  },
  {
   "cell_type": "code",
   "execution_count": null,
   "metadata": {},
   "outputs": [],
   "source": []
  },
  {
   "cell_type": "code",
   "execution_count": null,
   "metadata": {},
   "outputs": [],
   "source": []
  },
  {
   "cell_type": "code",
   "execution_count": null,
   "metadata": {},
   "outputs": [],
   "source": []
  },
  {
   "cell_type": "code",
   "execution_count": null,
   "metadata": {},
   "outputs": [],
   "source": []
  },
  {
   "cell_type": "code",
   "execution_count": null,
   "metadata": {},
   "outputs": [],
   "source": []
  },
  {
   "cell_type": "code",
   "execution_count": null,
   "metadata": {},
   "outputs": [],
   "source": []
  },
  {
   "cell_type": "code",
   "execution_count": null,
   "metadata": {},
   "outputs": [],
   "source": []
  },
  {
   "cell_type": "code",
   "execution_count": null,
   "metadata": {},
   "outputs": [],
   "source": []
  },
  {
   "cell_type": "code",
   "execution_count": null,
   "metadata": {},
   "outputs": [],
   "source": []
  },
  {
   "cell_type": "code",
   "execution_count": null,
   "metadata": {},
   "outputs": [],
   "source": []
  },
  {
   "cell_type": "code",
   "execution_count": null,
   "metadata": {},
   "outputs": [],
   "source": []
  },
  {
   "cell_type": "code",
   "execution_count": null,
   "metadata": {},
   "outputs": [],
   "source": []
  },
  {
   "cell_type": "code",
   "execution_count": null,
   "metadata": {},
   "outputs": [],
   "source": []
  },
  {
   "cell_type": "code",
   "execution_count": null,
   "metadata": {},
   "outputs": [],
   "source": []
  },
  {
   "cell_type": "code",
   "execution_count": null,
   "metadata": {},
   "outputs": [],
   "source": []
  },
  {
   "cell_type": "code",
   "execution_count": null,
   "metadata": {},
   "outputs": [],
   "source": []
  },
  {
   "cell_type": "code",
   "execution_count": null,
   "metadata": {},
   "outputs": [],
   "source": []
  },
  {
   "cell_type": "code",
   "execution_count": null,
   "metadata": {},
   "outputs": [],
   "source": []
  },
  {
   "cell_type": "code",
   "execution_count": null,
   "metadata": {},
   "outputs": [],
   "source": []
  },
  {
   "cell_type": "code",
   "execution_count": null,
   "metadata": {},
   "outputs": [],
   "source": []
  },
  {
   "cell_type": "code",
   "execution_count": null,
   "metadata": {},
   "outputs": [],
   "source": []
  },
  {
   "cell_type": "code",
   "execution_count": null,
   "metadata": {},
   "outputs": [],
   "source": []
  },
  {
   "cell_type": "code",
   "execution_count": null,
   "metadata": {},
   "outputs": [],
   "source": []
  },
  {
   "cell_type": "code",
   "execution_count": null,
   "metadata": {},
   "outputs": [],
   "source": []
  },
  {
   "cell_type": "code",
   "execution_count": null,
   "metadata": {},
   "outputs": [],
   "source": []
  },
  {
   "cell_type": "code",
   "execution_count": null,
   "metadata": {},
   "outputs": [],
   "source": []
  },
  {
   "cell_type": "code",
   "execution_count": null,
   "metadata": {},
   "outputs": [],
   "source": []
  },
  {
   "cell_type": "code",
   "execution_count": null,
   "metadata": {},
   "outputs": [],
   "source": []
  },
  {
   "cell_type": "code",
   "execution_count": null,
   "metadata": {},
   "outputs": [],
   "source": []
  },
  {
   "cell_type": "code",
   "execution_count": null,
   "metadata": {},
   "outputs": [],
   "source": []
  },
  {
   "cell_type": "code",
   "execution_count": null,
   "metadata": {},
   "outputs": [],
   "source": []
  },
  {
   "cell_type": "code",
   "execution_count": null,
   "metadata": {},
   "outputs": [],
   "source": []
  },
  {
   "cell_type": "code",
   "execution_count": null,
   "metadata": {},
   "outputs": [],
   "source": []
  },
  {
   "cell_type": "code",
   "execution_count": null,
   "metadata": {},
   "outputs": [],
   "source": []
  },
  {
   "cell_type": "code",
   "execution_count": null,
   "metadata": {},
   "outputs": [],
   "source": []
  },
  {
   "cell_type": "code",
   "execution_count": null,
   "metadata": {},
   "outputs": [],
   "source": []
  },
  {
   "cell_type": "code",
   "execution_count": null,
   "metadata": {},
   "outputs": [],
   "source": []
  },
  {
   "cell_type": "code",
   "execution_count": null,
   "metadata": {},
   "outputs": [],
   "source": []
  },
  {
   "cell_type": "code",
   "execution_count": null,
   "metadata": {},
   "outputs": [],
   "source": []
  },
  {
   "cell_type": "code",
   "execution_count": null,
   "metadata": {},
   "outputs": [],
   "source": []
  },
  {
   "cell_type": "code",
   "execution_count": null,
   "metadata": {},
   "outputs": [],
   "source": []
  },
  {
   "cell_type": "code",
   "execution_count": null,
   "metadata": {},
   "outputs": [],
   "source": []
  },
  {
   "cell_type": "code",
   "execution_count": null,
   "metadata": {},
   "outputs": [],
   "source": []
  },
  {
   "cell_type": "code",
   "execution_count": null,
   "metadata": {},
   "outputs": [],
   "source": []
  },
  {
   "cell_type": "code",
   "execution_count": null,
   "metadata": {},
   "outputs": [],
   "source": []
  },
  {
   "cell_type": "code",
   "execution_count": null,
   "metadata": {},
   "outputs": [],
   "source": []
  },
  {
   "cell_type": "code",
   "execution_count": null,
   "metadata": {},
   "outputs": [],
   "source": []
  },
  {
   "cell_type": "code",
   "execution_count": null,
   "metadata": {},
   "outputs": [],
   "source": []
  },
  {
   "cell_type": "code",
   "execution_count": null,
   "metadata": {},
   "outputs": [],
   "source": []
  },
  {
   "cell_type": "code",
   "execution_count": null,
   "metadata": {},
   "outputs": [],
   "source": []
  },
  {
   "cell_type": "code",
   "execution_count": null,
   "metadata": {},
   "outputs": [],
   "source": []
  },
  {
   "cell_type": "code",
   "execution_count": null,
   "metadata": {},
   "outputs": [],
   "source": []
  },
  {
   "cell_type": "code",
   "execution_count": null,
   "metadata": {},
   "outputs": [],
   "source": []
  },
  {
   "cell_type": "code",
   "execution_count": null,
   "metadata": {},
   "outputs": [],
   "source": []
  },
  {
   "cell_type": "code",
   "execution_count": null,
   "metadata": {},
   "outputs": [],
   "source": []
  },
  {
   "cell_type": "code",
   "execution_count": null,
   "metadata": {},
   "outputs": [],
   "source": []
  },
  {
   "cell_type": "code",
   "execution_count": null,
   "metadata": {},
   "outputs": [],
   "source": []
  },
  {
   "cell_type": "code",
   "execution_count": null,
   "metadata": {},
   "outputs": [],
   "source": []
  },
  {
   "cell_type": "code",
   "execution_count": null,
   "metadata": {},
   "outputs": [],
   "source": []
  },
  {
   "cell_type": "code",
   "execution_count": null,
   "metadata": {},
   "outputs": [],
   "source": []
  },
  {
   "cell_type": "code",
   "execution_count": null,
   "metadata": {},
   "outputs": [],
   "source": []
  },
  {
   "cell_type": "code",
   "execution_count": null,
   "metadata": {},
   "outputs": [],
   "source": []
  },
  {
   "cell_type": "code",
   "execution_count": null,
   "metadata": {},
   "outputs": [],
   "source": []
  },
  {
   "cell_type": "code",
   "execution_count": null,
   "metadata": {},
   "outputs": [],
   "source": []
  },
  {
   "cell_type": "code",
   "execution_count": null,
   "metadata": {},
   "outputs": [],
   "source": []
  },
  {
   "cell_type": "code",
   "execution_count": null,
   "metadata": {},
   "outputs": [],
   "source": []
  },
  {
   "cell_type": "code",
   "execution_count": null,
   "metadata": {},
   "outputs": [],
   "source": []
  },
  {
   "cell_type": "code",
   "execution_count": null,
   "metadata": {},
   "outputs": [],
   "source": []
  },
  {
   "cell_type": "code",
   "execution_count": null,
   "metadata": {},
   "outputs": [],
   "source": []
  },
  {
   "cell_type": "code",
   "execution_count": null,
   "metadata": {},
   "outputs": [],
   "source": []
  },
  {
   "cell_type": "code",
   "execution_count": null,
   "metadata": {},
   "outputs": [],
   "source": []
  },
  {
   "cell_type": "code",
   "execution_count": null,
   "metadata": {},
   "outputs": [],
   "source": []
  },
  {
   "cell_type": "code",
   "execution_count": null,
   "metadata": {},
   "outputs": [],
   "source": []
  },
  {
   "cell_type": "code",
   "execution_count": null,
   "metadata": {},
   "outputs": [],
   "source": []
  },
  {
   "cell_type": "code",
   "execution_count": null,
   "metadata": {},
   "outputs": [],
   "source": []
  },
  {
   "cell_type": "code",
   "execution_count": null,
   "metadata": {},
   "outputs": [],
   "source": []
  },
  {
   "cell_type": "code",
   "execution_count": null,
   "metadata": {},
   "outputs": [],
   "source": []
  },
  {
   "cell_type": "code",
   "execution_count": null,
   "metadata": {},
   "outputs": [],
   "source": []
  },
  {
   "cell_type": "code",
   "execution_count": null,
   "metadata": {},
   "outputs": [],
   "source": []
  },
  {
   "cell_type": "code",
   "execution_count": null,
   "metadata": {},
   "outputs": [],
   "source": []
  },
  {
   "cell_type": "code",
   "execution_count": null,
   "metadata": {},
   "outputs": [],
   "source": []
  },
  {
   "cell_type": "code",
   "execution_count": null,
   "metadata": {},
   "outputs": [],
   "source": []
  },
  {
   "cell_type": "code",
   "execution_count": null,
   "metadata": {},
   "outputs": [],
   "source": []
  },
  {
   "cell_type": "code",
   "execution_count": null,
   "metadata": {},
   "outputs": [],
   "source": []
  },
  {
   "cell_type": "code",
   "execution_count": null,
   "metadata": {},
   "outputs": [],
   "source": []
  },
  {
   "cell_type": "code",
   "execution_count": null,
   "metadata": {},
   "outputs": [],
   "source": []
  },
  {
   "cell_type": "code",
   "execution_count": null,
   "metadata": {},
   "outputs": [],
   "source": []
  },
  {
   "cell_type": "code",
   "execution_count": null,
   "metadata": {},
   "outputs": [],
   "source": []
  },
  {
   "cell_type": "code",
   "execution_count": null,
   "metadata": {},
   "outputs": [],
   "source": []
  },
  {
   "cell_type": "code",
   "execution_count": null,
   "metadata": {},
   "outputs": [],
   "source": []
  },
  {
   "cell_type": "code",
   "execution_count": null,
   "metadata": {},
   "outputs": [],
   "source": []
  },
  {
   "cell_type": "code",
   "execution_count": null,
   "metadata": {},
   "outputs": [],
   "source": []
  },
  {
   "cell_type": "code",
   "execution_count": null,
   "metadata": {},
   "outputs": [],
   "source": []
  },
  {
   "cell_type": "code",
   "execution_count": null,
   "metadata": {},
   "outputs": [],
   "source": []
  },
  {
   "cell_type": "code",
   "execution_count": null,
   "metadata": {},
   "outputs": [],
   "source": []
  },
  {
   "cell_type": "code",
   "execution_count": null,
   "metadata": {},
   "outputs": [],
   "source": []
  },
  {
   "cell_type": "code",
   "execution_count": null,
   "metadata": {},
   "outputs": [],
   "source": []
  },
  {
   "cell_type": "code",
   "execution_count": null,
   "metadata": {},
   "outputs": [],
   "source": []
  },
  {
   "cell_type": "code",
   "execution_count": null,
   "metadata": {},
   "outputs": [],
   "source": []
  },
  {
   "cell_type": "code",
   "execution_count": null,
   "metadata": {},
   "outputs": [],
   "source": []
  },
  {
   "cell_type": "code",
   "execution_count": null,
   "metadata": {},
   "outputs": [],
   "source": []
  },
  {
   "cell_type": "code",
   "execution_count": null,
   "metadata": {},
   "outputs": [],
   "source": []
  },
  {
   "cell_type": "code",
   "execution_count": null,
   "metadata": {},
   "outputs": [],
   "source": []
  },
  {
   "cell_type": "code",
   "execution_count": null,
   "metadata": {},
   "outputs": [],
   "source": []
  },
  {
   "cell_type": "code",
   "execution_count": null,
   "metadata": {},
   "outputs": [],
   "source": []
  },
  {
   "cell_type": "code",
   "execution_count": null,
   "metadata": {},
   "outputs": [],
   "source": []
  },
  {
   "cell_type": "code",
   "execution_count": null,
   "metadata": {},
   "outputs": [],
   "source": []
  },
  {
   "cell_type": "code",
   "execution_count": null,
   "metadata": {},
   "outputs": [],
   "source": []
  },
  {
   "cell_type": "code",
   "execution_count": null,
   "metadata": {},
   "outputs": [],
   "source": []
  },
  {
   "cell_type": "code",
   "execution_count": null,
   "metadata": {},
   "outputs": [],
   "source": []
  },
  {
   "cell_type": "code",
   "execution_count": null,
   "metadata": {},
   "outputs": [],
   "source": []
  },
  {
   "cell_type": "code",
   "execution_count": null,
   "metadata": {},
   "outputs": [],
   "source": []
  },
  {
   "cell_type": "code",
   "execution_count": null,
   "metadata": {},
   "outputs": [],
   "source": []
  },
  {
   "cell_type": "code",
   "execution_count": null,
   "metadata": {},
   "outputs": [],
   "source": []
  },
  {
   "cell_type": "code",
   "execution_count": null,
   "metadata": {},
   "outputs": [],
   "source": []
  },
  {
   "cell_type": "code",
   "execution_count": null,
   "metadata": {},
   "outputs": [],
   "source": []
  },
  {
   "cell_type": "code",
   "execution_count": null,
   "metadata": {},
   "outputs": [],
   "source": []
  },
  {
   "cell_type": "code",
   "execution_count": null,
   "metadata": {},
   "outputs": [],
   "source": []
  },
  {
   "cell_type": "code",
   "execution_count": 218,
   "metadata": {},
   "outputs": [],
   "source": []
  },
  {
   "cell_type": "code",
   "execution_count": null,
   "metadata": {},
   "outputs": [],
   "source": []
  },
  {
   "cell_type": "code",
   "execution_count": null,
   "metadata": {},
   "outputs": [],
   "source": []
  },
  {
   "cell_type": "code",
   "execution_count": null,
   "metadata": {},
   "outputs": [],
   "source": []
  },
  {
   "cell_type": "code",
   "execution_count": null,
   "metadata": {},
   "outputs": [],
   "source": []
  },
  {
   "cell_type": "code",
   "execution_count": null,
   "metadata": {},
   "outputs": [],
   "source": []
  },
  {
   "cell_type": "code",
   "execution_count": null,
   "metadata": {},
   "outputs": [],
   "source": []
  },
  {
   "cell_type": "code",
   "execution_count": null,
   "metadata": {},
   "outputs": [],
   "source": []
  },
  {
   "cell_type": "code",
   "execution_count": null,
   "metadata": {},
   "outputs": [],
   "source": []
  },
  {
   "cell_type": "code",
   "execution_count": null,
   "metadata": {},
   "outputs": [],
   "source": []
  },
  {
   "cell_type": "code",
   "execution_count": null,
   "metadata": {},
   "outputs": [],
   "source": []
  },
  {
   "cell_type": "code",
   "execution_count": null,
   "metadata": {},
   "outputs": [],
   "source": []
  },
  {
   "cell_type": "code",
   "execution_count": null,
   "metadata": {},
   "outputs": [],
   "source": []
  },
  {
   "cell_type": "code",
   "execution_count": null,
   "metadata": {},
   "outputs": [],
   "source": []
  },
  {
   "cell_type": "code",
   "execution_count": null,
   "metadata": {},
   "outputs": [],
   "source": []
  },
  {
   "cell_type": "code",
   "execution_count": null,
   "metadata": {},
   "outputs": [],
   "source": []
  },
  {
   "cell_type": "code",
   "execution_count": null,
   "metadata": {},
   "outputs": [],
   "source": []
  },
  {
   "cell_type": "code",
   "execution_count": null,
   "metadata": {},
   "outputs": [],
   "source": []
  },
  {
   "cell_type": "code",
   "execution_count": null,
   "metadata": {},
   "outputs": [],
   "source": []
  },
  {
   "cell_type": "code",
   "execution_count": null,
   "metadata": {},
   "outputs": [],
   "source": []
  },
  {
   "cell_type": "code",
   "execution_count": null,
   "metadata": {},
   "outputs": [],
   "source": []
  },
  {
   "cell_type": "code",
   "execution_count": null,
   "metadata": {},
   "outputs": [],
   "source": []
  },
  {
   "cell_type": "code",
   "execution_count": null,
   "metadata": {},
   "outputs": [],
   "source": []
  },
  {
   "cell_type": "code",
   "execution_count": null,
   "metadata": {},
   "outputs": [],
   "source": []
  },
  {
   "cell_type": "code",
   "execution_count": null,
   "metadata": {},
   "outputs": [],
   "source": []
  },
  {
   "cell_type": "code",
   "execution_count": null,
   "metadata": {},
   "outputs": [],
   "source": []
  },
  {
   "cell_type": "code",
   "execution_count": null,
   "metadata": {},
   "outputs": [],
   "source": []
  },
  {
   "cell_type": "code",
   "execution_count": null,
   "metadata": {},
   "outputs": [],
   "source": []
  },
  {
   "cell_type": "code",
   "execution_count": null,
   "metadata": {},
   "outputs": [],
   "source": []
  },
  {
   "cell_type": "code",
   "execution_count": null,
   "metadata": {},
   "outputs": [],
   "source": []
  },
  {
   "cell_type": "code",
   "execution_count": null,
   "metadata": {},
   "outputs": [],
   "source": []
  },
  {
   "cell_type": "code",
   "execution_count": null,
   "metadata": {},
   "outputs": [],
   "source": []
  },
  {
   "cell_type": "code",
   "execution_count": 300,
   "metadata": {},
   "outputs": [],
   "source": []
  },
  {
   "cell_type": "code",
   "execution_count": null,
   "metadata": {},
   "outputs": [],
   "source": []
  },
  {
   "cell_type": "code",
   "execution_count": null,
   "metadata": {},
   "outputs": [],
   "source": []
  },
  {
   "cell_type": "code",
   "execution_count": null,
   "metadata": {},
   "outputs": [],
   "source": []
  },
  {
   "cell_type": "code",
   "execution_count": null,
   "metadata": {},
   "outputs": [],
   "source": []
  },
  {
   "cell_type": "code",
   "execution_count": null,
   "metadata": {},
   "outputs": [],
   "source": []
  },
  {
   "cell_type": "code",
   "execution_count": null,
   "metadata": {},
   "outputs": [],
   "source": []
  },
  {
   "cell_type": "code",
   "execution_count": null,
   "metadata": {},
   "outputs": [],
   "source": []
  },
  {
   "cell_type": "code",
   "execution_count": null,
   "metadata": {},
   "outputs": [],
   "source": []
  },
  {
   "cell_type": "code",
   "execution_count": null,
   "metadata": {},
   "outputs": [],
   "source": []
  },
  {
   "cell_type": "code",
   "execution_count": null,
   "metadata": {},
   "outputs": [],
   "source": []
  },
  {
   "cell_type": "code",
   "execution_count": null,
   "metadata": {},
   "outputs": [],
   "source": []
  },
  {
   "cell_type": "code",
   "execution_count": null,
   "metadata": {},
   "outputs": [],
   "source": []
  },
  {
   "cell_type": "code",
   "execution_count": 127,
   "metadata": {},
   "outputs": [],
   "source": []
  },
  {
   "cell_type": "code",
   "execution_count": null,
   "metadata": {},
   "outputs": [],
   "source": []
  },
  {
   "cell_type": "code",
   "execution_count": null,
   "metadata": {},
   "outputs": [],
   "source": []
  },
  {
   "cell_type": "code",
   "execution_count": null,
   "metadata": {},
   "outputs": [],
   "source": []
  },
  {
   "cell_type": "code",
   "execution_count": null,
   "metadata": {},
   "outputs": [],
   "source": []
  },
  {
   "cell_type": "code",
   "execution_count": null,
   "metadata": {},
   "outputs": [],
   "source": []
  },
  {
   "cell_type": "code",
   "execution_count": null,
   "metadata": {},
   "outputs": [],
   "source": []
  },
  {
   "cell_type": "code",
   "execution_count": null,
   "metadata": {},
   "outputs": [],
   "source": []
  },
  {
   "cell_type": "code",
   "execution_count": null,
   "metadata": {},
   "outputs": [],
   "source": []
  },
  {
   "cell_type": "code",
   "execution_count": null,
   "metadata": {},
   "outputs": [],
   "source": []
  },
  {
   "cell_type": "code",
   "execution_count": null,
   "metadata": {},
   "outputs": [],
   "source": []
  },
  {
   "cell_type": "code",
   "execution_count": null,
   "metadata": {},
   "outputs": [],
   "source": []
  },
  {
   "cell_type": "code",
   "execution_count": null,
   "metadata": {},
   "outputs": [],
   "source": []
  },
  {
   "cell_type": "code",
   "execution_count": null,
   "metadata": {},
   "outputs": [],
   "source": []
  },
  {
   "cell_type": "code",
   "execution_count": null,
   "metadata": {},
   "outputs": [],
   "source": []
  },
  {
   "cell_type": "code",
   "execution_count": null,
   "metadata": {},
   "outputs": [],
   "source": []
  },
  {
   "cell_type": "code",
   "execution_count": null,
   "metadata": {},
   "outputs": [],
   "source": []
  },
  {
   "cell_type": "code",
   "execution_count": null,
   "metadata": {},
   "outputs": [],
   "source": []
  },
  {
   "cell_type": "code",
   "execution_count": null,
   "metadata": {},
   "outputs": [],
   "source": []
  },
  {
   "cell_type": "code",
   "execution_count": null,
   "metadata": {},
   "outputs": [],
   "source": []
  },
  {
   "cell_type": "code",
   "execution_count": null,
   "metadata": {},
   "outputs": [],
   "source": []
  },
  {
   "cell_type": "code",
   "execution_count": null,
   "metadata": {},
   "outputs": [],
   "source": []
  },
  {
   "cell_type": "code",
   "execution_count": null,
   "metadata": {},
   "outputs": [],
   "source": []
  },
  {
   "cell_type": "code",
   "execution_count": null,
   "metadata": {},
   "outputs": [],
   "source": []
  },
  {
   "cell_type": "code",
   "execution_count": null,
   "metadata": {},
   "outputs": [],
   "source": []
  },
  {
   "cell_type": "code",
   "execution_count": null,
   "metadata": {},
   "outputs": [],
   "source": []
  },
  {
   "cell_type": "code",
   "execution_count": null,
   "metadata": {},
   "outputs": [],
   "source": []
  },
  {
   "cell_type": "code",
   "execution_count": null,
   "metadata": {},
   "outputs": [],
   "source": []
  },
  {
   "cell_type": "code",
   "execution_count": null,
   "metadata": {},
   "outputs": [],
   "source": []
  },
  {
   "cell_type": "code",
   "execution_count": null,
   "metadata": {},
   "outputs": [],
   "source": []
  },
  {
   "cell_type": "code",
   "execution_count": null,
   "metadata": {},
   "outputs": [],
   "source": []
  },
  {
   "cell_type": "code",
   "execution_count": null,
   "metadata": {},
   "outputs": [],
   "source": []
  },
  {
   "cell_type": "code",
   "execution_count": null,
   "metadata": {},
   "outputs": [],
   "source": []
  },
  {
   "cell_type": "code",
   "execution_count": null,
   "metadata": {},
   "outputs": [],
   "source": []
  },
  {
   "cell_type": "code",
   "execution_count": null,
   "metadata": {},
   "outputs": [],
   "source": []
  },
  {
   "cell_type": "code",
   "execution_count": 173,
   "metadata": {},
   "outputs": [],
   "source": []
  },
  {
   "cell_type": "code",
   "execution_count": 225,
   "metadata": {},
   "outputs": [],
   "source": []
  },
  {
   "cell_type": "code",
   "execution_count": 250,
   "metadata": {},
   "outputs": [],
   "source": []
  },
  {
   "cell_type": "code",
   "execution_count": null,
   "metadata": {},
   "outputs": [],
   "source": []
  },
  {
   "cell_type": "code",
   "execution_count": null,
   "metadata": {},
   "outputs": [],
   "source": []
  },
  {
   "cell_type": "code",
   "execution_count": null,
   "metadata": {},
   "outputs": [],
   "source": []
  },
  {
   "cell_type": "code",
   "execution_count": null,
   "metadata": {},
   "outputs": [],
   "source": []
  },
  {
   "cell_type": "code",
   "execution_count": 246,
   "metadata": {},
   "outputs": [],
   "source": []
  },
  {
   "cell_type": "code",
   "execution_count": null,
   "metadata": {},
   "outputs": [],
   "source": []
  },
  {
   "cell_type": "code",
   "execution_count": null,
   "metadata": {},
   "outputs": [],
   "source": []
  },
  {
   "cell_type": "code",
   "execution_count": null,
   "metadata": {},
   "outputs": [],
   "source": []
  },
  {
   "cell_type": "code",
   "execution_count": null,
   "metadata": {},
   "outputs": [],
   "source": []
  },
  {
   "cell_type": "code",
   "execution_count": null,
   "metadata": {},
   "outputs": [],
   "source": []
  },
  {
   "cell_type": "code",
   "execution_count": null,
   "metadata": {},
   "outputs": [],
   "source": []
  },
  {
   "cell_type": "code",
   "execution_count": null,
   "metadata": {},
   "outputs": [],
   "source": []
  },
  {
   "cell_type": "code",
   "execution_count": null,
   "metadata": {},
   "outputs": [],
   "source": []
  },
  {
   "cell_type": "code",
   "execution_count": null,
   "metadata": {},
   "outputs": [],
   "source": []
  },
  {
   "cell_type": "code",
   "execution_count": null,
   "metadata": {},
   "outputs": [],
   "source": []
  },
  {
   "cell_type": "code",
   "execution_count": null,
   "metadata": {},
   "outputs": [],
   "source": []
  },
  {
   "cell_type": "code",
   "execution_count": null,
   "metadata": {},
   "outputs": [],
   "source": []
  },
  {
   "cell_type": "code",
   "execution_count": null,
   "metadata": {},
   "outputs": [],
   "source": []
  },
  {
   "cell_type": "code",
   "execution_count": null,
   "metadata": {},
   "outputs": [],
   "source": []
  },
  {
   "cell_type": "code",
   "execution_count": null,
   "metadata": {},
   "outputs": [],
   "source": []
  },
  {
   "cell_type": "code",
   "execution_count": null,
   "metadata": {},
   "outputs": [],
   "source": []
  },
  {
   "cell_type": "code",
   "execution_count": null,
   "metadata": {},
   "outputs": [],
   "source": []
  },
  {
   "cell_type": "code",
   "execution_count": null,
   "metadata": {},
   "outputs": [],
   "source": []
  },
  {
   "cell_type": "code",
   "execution_count": null,
   "metadata": {},
   "outputs": [],
   "source": []
  },
  {
   "cell_type": "code",
   "execution_count": null,
   "metadata": {},
   "outputs": [],
   "source": []
  },
  {
   "cell_type": "code",
   "execution_count": null,
   "metadata": {},
   "outputs": [],
   "source": []
  },
  {
   "cell_type": "code",
   "execution_count": null,
   "metadata": {},
   "outputs": [],
   "source": []
  },
  {
   "cell_type": "code",
   "execution_count": null,
   "metadata": {},
   "outputs": [],
   "source": []
  },
  {
   "cell_type": "code",
   "execution_count": null,
   "metadata": {},
   "outputs": [],
   "source": []
  },
  {
   "cell_type": "code",
   "execution_count": null,
   "metadata": {},
   "outputs": [],
   "source": []
  },
  {
   "cell_type": "code",
   "execution_count": null,
   "metadata": {},
   "outputs": [],
   "source": []
  },
  {
   "cell_type": "code",
   "execution_count": null,
   "metadata": {},
   "outputs": [],
   "source": []
  },
  {
   "cell_type": "code",
   "execution_count": null,
   "metadata": {},
   "outputs": [],
   "source": []
  },
  {
   "cell_type": "code",
   "execution_count": 199,
   "metadata": {},
   "outputs": [],
   "source": []
  },
  {
   "cell_type": "code",
   "execution_count": null,
   "metadata": {},
   "outputs": [],
   "source": []
  },
  {
   "cell_type": "code",
   "execution_count": null,
   "metadata": {},
   "outputs": [],
   "source": []
  },
  {
   "cell_type": "code",
   "execution_count": null,
   "metadata": {},
   "outputs": [],
   "source": []
  },
  {
   "cell_type": "code",
   "execution_count": null,
   "metadata": {},
   "outputs": [],
   "source": []
  },
  {
   "cell_type": "code",
   "execution_count": null,
   "metadata": {},
   "outputs": [],
   "source": []
  },
  {
   "cell_type": "code",
   "execution_count": null,
   "metadata": {},
   "outputs": [],
   "source": []
  },
  {
   "cell_type": "code",
   "execution_count": null,
   "metadata": {},
   "outputs": [],
   "source": []
  },
  {
   "cell_type": "code",
   "execution_count": null,
   "metadata": {},
   "outputs": [],
   "source": []
  },
  {
   "cell_type": "code",
   "execution_count": null,
   "metadata": {},
   "outputs": [],
   "source": []
  },
  {
   "cell_type": "code",
   "execution_count": null,
   "metadata": {},
   "outputs": [],
   "source": []
  },
  {
   "cell_type": "code",
   "execution_count": null,
   "metadata": {},
   "outputs": [],
   "source": []
  },
  {
   "cell_type": "code",
   "execution_count": null,
   "metadata": {},
   "outputs": [],
   "source": []
  },
  {
   "cell_type": "code",
   "execution_count": null,
   "metadata": {},
   "outputs": [],
   "source": []
  },
  {
   "cell_type": "code",
   "execution_count": null,
   "metadata": {},
   "outputs": [],
   "source": []
  },
  {
   "cell_type": "code",
   "execution_count": null,
   "metadata": {},
   "outputs": [],
   "source": []
  },
  {
   "cell_type": "code",
   "execution_count": null,
   "metadata": {},
   "outputs": [],
   "source": []
  },
  {
   "cell_type": "code",
   "execution_count": null,
   "metadata": {},
   "outputs": [],
   "source": []
  },
  {
   "cell_type": "code",
   "execution_count": null,
   "metadata": {},
   "outputs": [],
   "source": []
  },
  {
   "cell_type": "code",
   "execution_count": null,
   "metadata": {},
   "outputs": [],
   "source": []
  },
  {
   "cell_type": "code",
   "execution_count": null,
   "metadata": {},
   "outputs": [],
   "source": []
  },
  {
   "cell_type": "code",
   "execution_count": null,
   "metadata": {},
   "outputs": [],
   "source": []
  },
  {
   "cell_type": "code",
   "execution_count": null,
   "metadata": {},
   "outputs": [],
   "source": []
  },
  {
   "cell_type": "code",
   "execution_count": null,
   "metadata": {},
   "outputs": [],
   "source": []
  },
  {
   "cell_type": "code",
   "execution_count": null,
   "metadata": {},
   "outputs": [],
   "source": []
  },
  {
   "cell_type": "code",
   "execution_count": null,
   "metadata": {},
   "outputs": [],
   "source": []
  },
  {
   "cell_type": "code",
   "execution_count": null,
   "metadata": {},
   "outputs": [],
   "source": []
  },
  {
   "cell_type": "code",
   "execution_count": null,
   "metadata": {},
   "outputs": [],
   "source": []
  },
  {
   "cell_type": "code",
   "execution_count": null,
   "metadata": {},
   "outputs": [],
   "source": []
  },
  {
   "cell_type": "code",
   "execution_count": null,
   "metadata": {},
   "outputs": [],
   "source": []
  },
  {
   "cell_type": "code",
   "execution_count": null,
   "metadata": {},
   "outputs": [],
   "source": []
  },
  {
   "cell_type": "code",
   "execution_count": null,
   "metadata": {},
   "outputs": [],
   "source": []
  },
  {
   "cell_type": "code",
   "execution_count": null,
   "metadata": {},
   "outputs": [],
   "source": []
  },
  {
   "cell_type": "code",
   "execution_count": null,
   "metadata": {},
   "outputs": [],
   "source": []
  },
  {
   "cell_type": "code",
   "execution_count": null,
   "metadata": {},
   "outputs": [],
   "source": []
  },
  {
   "cell_type": "code",
   "execution_count": null,
   "metadata": {},
   "outputs": [],
   "source": []
  },
  {
   "cell_type": "code",
   "execution_count": null,
   "metadata": {},
   "outputs": [],
   "source": []
  },
  {
   "cell_type": "code",
   "execution_count": null,
   "metadata": {},
   "outputs": [],
   "source": []
  },
  {
   "cell_type": "code",
   "execution_count": null,
   "metadata": {},
   "outputs": [],
   "source": []
  },
  {
   "cell_type": "code",
   "execution_count": null,
   "metadata": {},
   "outputs": [],
   "source": []
  },
  {
   "cell_type": "code",
   "execution_count": null,
   "metadata": {},
   "outputs": [],
   "source": []
  },
  {
   "cell_type": "code",
   "execution_count": null,
   "metadata": {},
   "outputs": [],
   "source": []
  },
  {
   "cell_type": "code",
   "execution_count": null,
   "metadata": {},
   "outputs": [],
   "source": []
  },
  {
   "cell_type": "code",
   "execution_count": null,
   "metadata": {},
   "outputs": [],
   "source": []
  },
  {
   "cell_type": "code",
   "execution_count": 111,
   "metadata": {},
   "outputs": [],
   "source": []
  },
  {
   "cell_type": "code",
   "execution_count": null,
   "metadata": {},
   "outputs": [],
   "source": []
  },
  {
   "cell_type": "code",
   "execution_count": null,
   "metadata": {},
   "outputs": [],
   "source": []
  },
  {
   "cell_type": "code",
   "execution_count": null,
   "metadata": {},
   "outputs": [],
   "source": []
  },
  {
   "cell_type": "code",
   "execution_count": null,
   "metadata": {},
   "outputs": [],
   "source": []
  },
  {
   "cell_type": "code",
   "execution_count": null,
   "metadata": {},
   "outputs": [],
   "source": []
  },
  {
   "cell_type": "code",
   "execution_count": null,
   "metadata": {},
   "outputs": [],
   "source": []
  },
  {
   "cell_type": "code",
   "execution_count": null,
   "metadata": {},
   "outputs": [],
   "source": []
  },
  {
   "cell_type": "code",
   "execution_count": null,
   "metadata": {},
   "outputs": [],
   "source": []
  },
  {
   "cell_type": "code",
   "execution_count": null,
   "metadata": {},
   "outputs": [],
   "source": []
  },
  {
   "cell_type": "code",
   "execution_count": null,
   "metadata": {},
   "outputs": [],
   "source": []
  },
  {
   "cell_type": "code",
   "execution_count": null,
   "metadata": {},
   "outputs": [],
   "source": []
  },
  {
   "cell_type": "code",
   "execution_count": null,
   "metadata": {},
   "outputs": [],
   "source": []
  },
  {
   "cell_type": "code",
   "execution_count": null,
   "metadata": {},
   "outputs": [],
   "source": []
  },
  {
   "cell_type": "code",
   "execution_count": null,
   "metadata": {},
   "outputs": [],
   "source": []
  },
  {
   "cell_type": "code",
   "execution_count": null,
   "metadata": {},
   "outputs": [],
   "source": []
  },
  {
   "cell_type": "code",
   "execution_count": null,
   "metadata": {},
   "outputs": [],
   "source": []
  },
  {
   "cell_type": "code",
   "execution_count": null,
   "metadata": {},
   "outputs": [],
   "source": []
  },
  {
   "cell_type": "code",
   "execution_count": null,
   "metadata": {},
   "outputs": [],
   "source": []
  },
  {
   "cell_type": "code",
   "execution_count": null,
   "metadata": {},
   "outputs": [],
   "source": []
  },
  {
   "cell_type": "code",
   "execution_count": null,
   "metadata": {},
   "outputs": [],
   "source": []
  },
  {
   "cell_type": "code",
   "execution_count": null,
   "metadata": {},
   "outputs": [],
   "source": []
  },
  {
   "cell_type": "code",
   "execution_count": null,
   "metadata": {},
   "outputs": [],
   "source": []
  },
  {
   "cell_type": "code",
   "execution_count": null,
   "metadata": {},
   "outputs": [],
   "source": []
  },
  {
   "cell_type": "code",
   "execution_count": null,
   "metadata": {},
   "outputs": [],
   "source": []
  },
  {
   "cell_type": "code",
   "execution_count": null,
   "metadata": {},
   "outputs": [],
   "source": []
  },
  {
   "cell_type": "code",
   "execution_count": null,
   "metadata": {},
   "outputs": [],
   "source": []
  },
  {
   "cell_type": "code",
   "execution_count": null,
   "metadata": {},
   "outputs": [],
   "source": []
  },
  {
   "cell_type": "code",
   "execution_count": null,
   "metadata": {},
   "outputs": [],
   "source": []
  },
  {
   "cell_type": "code",
   "execution_count": null,
   "metadata": {},
   "outputs": [],
   "source": []
  },
  {
   "cell_type": "code",
   "execution_count": null,
   "metadata": {},
   "outputs": [],
   "source": []
  },
  {
   "cell_type": "code",
   "execution_count": null,
   "metadata": {},
   "outputs": [],
   "source": []
  },
  {
   "cell_type": "code",
   "execution_count": null,
   "metadata": {},
   "outputs": [],
   "source": []
  },
  {
   "cell_type": "code",
   "execution_count": null,
   "metadata": {},
   "outputs": [],
   "source": []
  },
  {
   "cell_type": "code",
   "execution_count": null,
   "metadata": {},
   "outputs": [],
   "source": []
  },
  {
   "cell_type": "code",
   "execution_count": null,
   "metadata": {},
   "outputs": [],
   "source": []
  },
  {
   "cell_type": "code",
   "execution_count": null,
   "metadata": {},
   "outputs": [],
   "source": []
  },
  {
   "cell_type": "code",
   "execution_count": 29,
   "metadata": {},
   "outputs": [],
   "source": [
    "\n"
   ]
  },
  {
   "cell_type": "code",
   "execution_count": null,
   "metadata": {},
   "outputs": [],
   "source": []
  },
  {
   "cell_type": "code",
   "execution_count": null,
   "metadata": {},
   "outputs": [],
   "source": []
  },
  {
   "cell_type": "code",
   "execution_count": null,
   "metadata": {},
   "outputs": [],
   "source": []
  },
  {
   "cell_type": "code",
   "execution_count": null,
   "metadata": {},
   "outputs": [],
   "source": []
  },
  {
   "cell_type": "code",
   "execution_count": null,
   "metadata": {},
   "outputs": [],
   "source": []
  },
  {
   "cell_type": "code",
   "execution_count": null,
   "metadata": {},
   "outputs": [],
   "source": []
  },
  {
   "cell_type": "code",
   "execution_count": null,
   "metadata": {},
   "outputs": [],
   "source": []
  },
  {
   "cell_type": "code",
   "execution_count": null,
   "metadata": {},
   "outputs": [],
   "source": []
  },
  {
   "cell_type": "code",
   "execution_count": null,
   "metadata": {},
   "outputs": [],
   "source": []
  },
  {
   "cell_type": "code",
   "execution_count": null,
   "metadata": {},
   "outputs": [],
   "source": []
  },
  {
   "cell_type": "code",
   "execution_count": null,
   "metadata": {},
   "outputs": [],
   "source": []
  },
  {
   "cell_type": "code",
   "execution_count": null,
   "metadata": {},
   "outputs": [],
   "source": []
  },
  {
   "cell_type": "code",
   "execution_count": 15,
   "metadata": {},
   "outputs": [],
   "source": []
  },
  {
   "cell_type": "code",
   "execution_count": null,
   "metadata": {},
   "outputs": [],
   "source": []
  },
  {
   "cell_type": "code",
   "execution_count": null,
   "metadata": {},
   "outputs": [],
   "source": []
  },
  {
   "cell_type": "code",
   "execution_count": 267,
   "metadata": {},
   "outputs": [],
   "source": []
  },
  {
   "cell_type": "code",
   "execution_count": 269,
   "metadata": {},
   "outputs": [],
   "source": []
  },
  {
   "cell_type": "code",
   "execution_count": 271,
   "metadata": {},
   "outputs": [],
   "source": []
  },
  {
   "cell_type": "code",
   "execution_count": null,
   "metadata": {},
   "outputs": [],
   "source": []
  },
  {
   "cell_type": "code",
   "execution_count": null,
   "metadata": {},
   "outputs": [],
   "source": []
  },
  {
   "cell_type": "code",
   "execution_count": null,
   "metadata": {},
   "outputs": [],
   "source": []
  },
  {
   "cell_type": "code",
   "execution_count": null,
   "metadata": {},
   "outputs": [],
   "source": []
  },
  {
   "cell_type": "code",
   "execution_count": null,
   "metadata": {},
   "outputs": [],
   "source": []
  },
  {
   "cell_type": "code",
   "execution_count": null,
   "metadata": {},
   "outputs": [],
   "source": []
  },
  {
   "cell_type": "code",
   "execution_count": null,
   "metadata": {},
   "outputs": [],
   "source": []
  },
  {
   "cell_type": "code",
   "execution_count": null,
   "metadata": {},
   "outputs": [],
   "source": []
  },
  {
   "cell_type": "code",
   "execution_count": null,
   "metadata": {},
   "outputs": [],
   "source": []
  },
  {
   "cell_type": "code",
   "execution_count": null,
   "metadata": {},
   "outputs": [],
   "source": []
  },
  {
   "cell_type": "code",
   "execution_count": null,
   "metadata": {},
   "outputs": [],
   "source": []
  },
  {
   "cell_type": "code",
   "execution_count": null,
   "metadata": {},
   "outputs": [],
   "source": []
  },
  {
   "cell_type": "code",
   "execution_count": null,
   "metadata": {},
   "outputs": [],
   "source": []
  },
  {
   "cell_type": "code",
   "execution_count": null,
   "metadata": {},
   "outputs": [],
   "source": []
  },
  {
   "cell_type": "code",
   "execution_count": null,
   "metadata": {},
   "outputs": [],
   "source": []
  },
  {
   "cell_type": "code",
   "execution_count": null,
   "metadata": {},
   "outputs": [],
   "source": []
  },
  {
   "cell_type": "code",
   "execution_count": null,
   "metadata": {},
   "outputs": [],
   "source": []
  },
  {
   "cell_type": "code",
   "execution_count": null,
   "metadata": {},
   "outputs": [],
   "source": []
  },
  {
   "cell_type": "code",
   "execution_count": null,
   "metadata": {},
   "outputs": [],
   "source": []
  },
  {
   "cell_type": "code",
   "execution_count": null,
   "metadata": {},
   "outputs": [],
   "source": []
  },
  {
   "cell_type": "code",
   "execution_count": null,
   "metadata": {},
   "outputs": [],
   "source": []
  },
  {
   "cell_type": "code",
   "execution_count": null,
   "metadata": {},
   "outputs": [],
   "source": []
  },
  {
   "cell_type": "code",
   "execution_count": null,
   "metadata": {},
   "outputs": [],
   "source": []
  },
  {
   "cell_type": "code",
   "execution_count": null,
   "metadata": {},
   "outputs": [],
   "source": []
  },
  {
   "cell_type": "code",
   "execution_count": null,
   "metadata": {},
   "outputs": [],
   "source": []
  },
  {
   "cell_type": "code",
   "execution_count": null,
   "metadata": {},
   "outputs": [],
   "source": []
  },
  {
   "cell_type": "code",
   "execution_count": null,
   "metadata": {},
   "outputs": [],
   "source": []
  },
  {
   "cell_type": "code",
   "execution_count": null,
   "metadata": {},
   "outputs": [],
   "source": []
  },
  {
   "cell_type": "code",
   "execution_count": null,
   "metadata": {},
   "outputs": [],
   "source": []
  },
  {
   "cell_type": "code",
   "execution_count": null,
   "metadata": {},
   "outputs": [],
   "source": []
  },
  {
   "cell_type": "code",
   "execution_count": null,
   "metadata": {},
   "outputs": [],
   "source": []
  },
  {
   "cell_type": "code",
   "execution_count": null,
   "metadata": {},
   "outputs": [],
   "source": []
  },
  {
   "cell_type": "code",
   "execution_count": null,
   "metadata": {},
   "outputs": [],
   "source": []
  },
  {
   "cell_type": "code",
   "execution_count": null,
   "metadata": {},
   "outputs": [],
   "source": []
  },
  {
   "cell_type": "code",
   "execution_count": null,
   "metadata": {},
   "outputs": [],
   "source": []
  },
  {
   "cell_type": "code",
   "execution_count": null,
   "metadata": {},
   "outputs": [],
   "source": []
  },
  {
   "cell_type": "code",
   "execution_count": null,
   "metadata": {},
   "outputs": [],
   "source": []
  },
  {
   "cell_type": "code",
   "execution_count": null,
   "metadata": {},
   "outputs": [],
   "source": []
  },
  {
   "cell_type": "code",
   "execution_count": null,
   "metadata": {},
   "outputs": [],
   "source": []
  },
  {
   "cell_type": "code",
   "execution_count": null,
   "metadata": {},
   "outputs": [],
   "source": []
  },
  {
   "cell_type": "code",
   "execution_count": null,
   "metadata": {},
   "outputs": [],
   "source": []
  },
  {
   "cell_type": "code",
   "execution_count": null,
   "metadata": {},
   "outputs": [],
   "source": []
  },
  {
   "cell_type": "code",
   "execution_count": null,
   "metadata": {},
   "outputs": [],
   "source": []
  },
  {
   "cell_type": "code",
   "execution_count": null,
   "metadata": {},
   "outputs": [],
   "source": []
  },
  {
   "cell_type": "code",
   "execution_count": null,
   "metadata": {},
   "outputs": [],
   "source": []
  },
  {
   "cell_type": "code",
   "execution_count": null,
   "metadata": {},
   "outputs": [],
   "source": []
  },
  {
   "cell_type": "code",
   "execution_count": null,
   "metadata": {},
   "outputs": [],
   "source": []
  },
  {
   "cell_type": "code",
   "execution_count": null,
   "metadata": {},
   "outputs": [],
   "source": []
  },
  {
   "cell_type": "code",
   "execution_count": null,
   "metadata": {},
   "outputs": [],
   "source": []
  },
  {
   "cell_type": "code",
   "execution_count": null,
   "metadata": {},
   "outputs": [],
   "source": []
  },
  {
   "cell_type": "code",
   "execution_count": null,
   "metadata": {},
   "outputs": [],
   "source": []
  },
  {
   "cell_type": "code",
   "execution_count": null,
   "metadata": {},
   "outputs": [],
   "source": []
  },
  {
   "cell_type": "code",
   "execution_count": null,
   "metadata": {},
   "outputs": [],
   "source": []
  },
  {
   "cell_type": "code",
   "execution_count": null,
   "metadata": {},
   "outputs": [],
   "source": []
  },
  {
   "cell_type": "code",
   "execution_count": null,
   "metadata": {},
   "outputs": [],
   "source": []
  },
  {
   "cell_type": "code",
   "execution_count": null,
   "metadata": {},
   "outputs": [],
   "source": []
  },
  {
   "cell_type": "code",
   "execution_count": null,
   "metadata": {},
   "outputs": [],
   "source": []
  },
  {
   "cell_type": "code",
   "execution_count": null,
   "metadata": {},
   "outputs": [],
   "source": []
  },
  {
   "cell_type": "code",
   "execution_count": null,
   "metadata": {},
   "outputs": [],
   "source": []
  },
  {
   "cell_type": "code",
   "execution_count": null,
   "metadata": {},
   "outputs": [],
   "source": []
  },
  {
   "cell_type": "code",
   "execution_count": null,
   "metadata": {},
   "outputs": [],
   "source": []
  },
  {
   "cell_type": "code",
   "execution_count": null,
   "metadata": {},
   "outputs": [],
   "source": []
  },
  {
   "cell_type": "code",
   "execution_count": null,
   "metadata": {},
   "outputs": [],
   "source": []
  },
  {
   "cell_type": "code",
   "execution_count": null,
   "metadata": {},
   "outputs": [],
   "source": []
  },
  {
   "cell_type": "code",
   "execution_count": null,
   "metadata": {},
   "outputs": [],
   "source": []
  },
  {
   "cell_type": "code",
   "execution_count": null,
   "metadata": {},
   "outputs": [],
   "source": []
  },
  {
   "cell_type": "code",
   "execution_count": null,
   "metadata": {},
   "outputs": [],
   "source": []
  },
  {
   "cell_type": "code",
   "execution_count": null,
   "metadata": {},
   "outputs": [],
   "source": []
  },
  {
   "cell_type": "code",
   "execution_count": null,
   "metadata": {},
   "outputs": [],
   "source": []
  },
  {
   "cell_type": "code",
   "execution_count": null,
   "metadata": {},
   "outputs": [],
   "source": []
  },
  {
   "cell_type": "code",
   "execution_count": null,
   "metadata": {},
   "outputs": [],
   "source": []
  },
  {
   "cell_type": "code",
   "execution_count": null,
   "metadata": {},
   "outputs": [],
   "source": []
  },
  {
   "cell_type": "code",
   "execution_count": null,
   "metadata": {},
   "outputs": [],
   "source": []
  },
  {
   "cell_type": "code",
   "execution_count": null,
   "metadata": {},
   "outputs": [],
   "source": []
  },
  {
   "cell_type": "code",
   "execution_count": null,
   "metadata": {},
   "outputs": [],
   "source": []
  },
  {
   "cell_type": "code",
   "execution_count": null,
   "metadata": {},
   "outputs": [],
   "source": []
  },
  {
   "cell_type": "code",
   "execution_count": null,
   "metadata": {},
   "outputs": [],
   "source": []
  },
  {
   "cell_type": "code",
   "execution_count": null,
   "metadata": {},
   "outputs": [],
   "source": []
  },
  {
   "cell_type": "code",
   "execution_count": null,
   "metadata": {},
   "outputs": [],
   "source": []
  },
  {
   "cell_type": "code",
   "execution_count": null,
   "metadata": {},
   "outputs": [],
   "source": []
  },
  {
   "cell_type": "code",
   "execution_count": null,
   "metadata": {},
   "outputs": [],
   "source": []
  },
  {
   "cell_type": "code",
   "execution_count": null,
   "metadata": {},
   "outputs": [],
   "source": []
  },
  {
   "cell_type": "code",
   "execution_count": null,
   "metadata": {},
   "outputs": [],
   "source": []
  },
  {
   "cell_type": "code",
   "execution_count": null,
   "metadata": {},
   "outputs": [],
   "source": []
  },
  {
   "cell_type": "code",
   "execution_count": null,
   "metadata": {},
   "outputs": [],
   "source": []
  },
  {
   "cell_type": "code",
   "execution_count": null,
   "metadata": {},
   "outputs": [],
   "source": []
  },
  {
   "cell_type": "code",
   "execution_count": null,
   "metadata": {},
   "outputs": [],
   "source": []
  },
  {
   "cell_type": "code",
   "execution_count": null,
   "metadata": {},
   "outputs": [],
   "source": []
  },
  {
   "cell_type": "code",
   "execution_count": null,
   "metadata": {},
   "outputs": [],
   "source": []
  },
  {
   "cell_type": "code",
   "execution_count": null,
   "metadata": {},
   "outputs": [],
   "source": []
  },
  {
   "cell_type": "code",
   "execution_count": null,
   "metadata": {},
   "outputs": [],
   "source": []
  },
  {
   "cell_type": "code",
   "execution_count": null,
   "metadata": {},
   "outputs": [],
   "source": []
  },
  {
   "cell_type": "code",
   "execution_count": null,
   "metadata": {},
   "outputs": [],
   "source": []
  },
  {
   "cell_type": "code",
   "execution_count": null,
   "metadata": {},
   "outputs": [],
   "source": []
  },
  {
   "cell_type": "code",
   "execution_count": null,
   "metadata": {},
   "outputs": [],
   "source": []
  },
  {
   "cell_type": "code",
   "execution_count": null,
   "metadata": {},
   "outputs": [],
   "source": []
  },
  {
   "cell_type": "code",
   "execution_count": null,
   "metadata": {},
   "outputs": [],
   "source": []
  },
  {
   "cell_type": "code",
   "execution_count": null,
   "metadata": {},
   "outputs": [],
   "source": []
  },
  {
   "cell_type": "code",
   "execution_count": null,
   "metadata": {},
   "outputs": [],
   "source": []
  },
  {
   "cell_type": "code",
   "execution_count": null,
   "metadata": {},
   "outputs": [],
   "source": []
  },
  {
   "cell_type": "code",
   "execution_count": null,
   "metadata": {},
   "outputs": [],
   "source": []
  },
  {
   "cell_type": "code",
   "execution_count": null,
   "metadata": {},
   "outputs": [],
   "source": []
  },
  {
   "cell_type": "code",
   "execution_count": null,
   "metadata": {},
   "outputs": [],
   "source": []
  },
  {
   "cell_type": "code",
   "execution_count": null,
   "metadata": {},
   "outputs": [],
   "source": []
  },
  {
   "cell_type": "code",
   "execution_count": null,
   "metadata": {},
   "outputs": [],
   "source": []
  },
  {
   "cell_type": "code",
   "execution_count": null,
   "metadata": {},
   "outputs": [],
   "source": []
  },
  {
   "cell_type": "code",
   "execution_count": null,
   "metadata": {},
   "outputs": [],
   "source": []
  },
  {
   "cell_type": "code",
   "execution_count": null,
   "metadata": {},
   "outputs": [],
   "source": []
  },
  {
   "cell_type": "code",
   "execution_count": null,
   "metadata": {},
   "outputs": [],
   "source": []
  },
  {
   "cell_type": "code",
   "execution_count": null,
   "metadata": {},
   "outputs": [],
   "source": []
  },
  {
   "cell_type": "code",
   "execution_count": null,
   "metadata": {},
   "outputs": [],
   "source": []
  },
  {
   "cell_type": "code",
   "execution_count": null,
   "metadata": {},
   "outputs": [],
   "source": []
  },
  {
   "cell_type": "code",
   "execution_count": null,
   "metadata": {},
   "outputs": [],
   "source": []
  },
  {
   "cell_type": "code",
   "execution_count": null,
   "metadata": {},
   "outputs": [],
   "source": []
  },
  {
   "cell_type": "code",
   "execution_count": null,
   "metadata": {},
   "outputs": [],
   "source": []
  },
  {
   "cell_type": "code",
   "execution_count": null,
   "metadata": {},
   "outputs": [],
   "source": []
  },
  {
   "cell_type": "code",
   "execution_count": null,
   "metadata": {},
   "outputs": [],
   "source": []
  },
  {
   "cell_type": "code",
   "execution_count": null,
   "metadata": {},
   "outputs": [],
   "source": []
  },
  {
   "cell_type": "code",
   "execution_count": null,
   "metadata": {},
   "outputs": [],
   "source": []
  },
  {
   "cell_type": "code",
   "execution_count": null,
   "metadata": {},
   "outputs": [],
   "source": []
  },
  {
   "cell_type": "code",
   "execution_count": null,
   "metadata": {},
   "outputs": [],
   "source": []
  },
  {
   "cell_type": "code",
   "execution_count": null,
   "metadata": {},
   "outputs": [],
   "source": []
  },
  {
   "cell_type": "code",
   "execution_count": null,
   "metadata": {},
   "outputs": [],
   "source": []
  },
  {
   "cell_type": "code",
   "execution_count": null,
   "metadata": {},
   "outputs": [],
   "source": []
  },
  {
   "cell_type": "code",
   "execution_count": null,
   "metadata": {},
   "outputs": [],
   "source": []
  },
  {
   "cell_type": "code",
   "execution_count": null,
   "metadata": {},
   "outputs": [],
   "source": []
  },
  {
   "cell_type": "code",
   "execution_count": null,
   "metadata": {},
   "outputs": [],
   "source": []
  },
  {
   "cell_type": "code",
   "execution_count": null,
   "metadata": {},
   "outputs": [],
   "source": []
  },
  {
   "cell_type": "code",
   "execution_count": null,
   "metadata": {},
   "outputs": [],
   "source": []
  },
  {
   "cell_type": "code",
   "execution_count": null,
   "metadata": {},
   "outputs": [],
   "source": []
  },
  {
   "cell_type": "code",
   "execution_count": null,
   "metadata": {},
   "outputs": [],
   "source": []
  },
  {
   "cell_type": "code",
   "execution_count": null,
   "metadata": {},
   "outputs": [],
   "source": []
  },
  {
   "cell_type": "code",
   "execution_count": null,
   "metadata": {},
   "outputs": [],
   "source": []
  },
  {
   "cell_type": "code",
   "execution_count": null,
   "metadata": {},
   "outputs": [],
   "source": []
  },
  {
   "cell_type": "code",
   "execution_count": null,
   "metadata": {},
   "outputs": [],
   "source": []
  },
  {
   "cell_type": "code",
   "execution_count": null,
   "metadata": {},
   "outputs": [],
   "source": []
  },
  {
   "cell_type": "code",
   "execution_count": null,
   "metadata": {},
   "outputs": [],
   "source": []
  },
  {
   "cell_type": "code",
   "execution_count": null,
   "metadata": {},
   "outputs": [],
   "source": []
  },
  {
   "cell_type": "code",
   "execution_count": null,
   "metadata": {},
   "outputs": [],
   "source": []
  },
  {
   "cell_type": "code",
   "execution_count": null,
   "metadata": {},
   "outputs": [],
   "source": []
  },
  {
   "cell_type": "code",
   "execution_count": null,
   "metadata": {},
   "outputs": [],
   "source": []
  },
  {
   "cell_type": "code",
   "execution_count": null,
   "metadata": {},
   "outputs": [],
   "source": []
  },
  {
   "cell_type": "code",
   "execution_count": null,
   "metadata": {},
   "outputs": [],
   "source": []
  },
  {
   "cell_type": "code",
   "execution_count": null,
   "metadata": {},
   "outputs": [],
   "source": []
  }
 ],
 "metadata": {
  "kernelspec": {
   "display_name": "Python 3",
   "language": "python",
   "name": "python3"
  },
  "language_info": {
   "codemirror_mode": {
    "name": "ipython",
    "version": 3
   },
   "file_extension": ".py",
   "mimetype": "text/x-python",
   "name": "python",
   "nbconvert_exporter": "python",
   "pygments_lexer": "ipython3",
   "version": "3.6.9"
  }
 },
 "nbformat": 4,
 "nbformat_minor": 4
}
